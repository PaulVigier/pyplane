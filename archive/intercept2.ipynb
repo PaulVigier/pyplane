{
 "cells": [
  {
   "cell_type": "code",
   "execution_count": null,
   "id": "00225f9c",
   "metadata": {},
   "outputs": [
    {
     "name": "stdout",
     "output_type": "stream",
     "text": [
      "Turn radius: 2482 m\n",
      "Turn rate: 6.06 °/s\n"
     ]
    }
   ],
   "source": [
    "from libs import geo # Importing the intercept module\n",
    "from libs import constants as cst  # Importing constants for speed conversion\n",
    "from libs.transform import Transform  # Importing the Transform class for coordinate transformations\n",
    "import numpy as np\n",
    "import plotly.graph_objects as go\n",
    "from scipy.optimize import minimize_scalar\n",
    "import pymap3d as pm3d  # Importing pymap3d for geodetic to ECEF conversions\n",
    "from libs import tacview  # Importing the tacview module for writing ACMI files\n",
    "\n",
    "#Setup\n",
    "#Target\n",
    "lat_tgt= 34.71647 #degrees\n",
    "lon_tgt= -117.8007 #degrees\n",
    "alt_tgt= 10000*cst.FT_TO_M #m\n",
    "hdg_tgt= 90.0 #degrees\n",
    "TAS_tgt= 400*cst.KT_TO_MS #(0.7M at 10k ft)\n",
    "\n",
    "#Fighter\n",
    "lat_f= 35.0 #degrees\n",
    "lon_f= -117.8907 #degrees\n",
    "alt_f= 10000*cst.FT_TO_M #m\n",
    "hdg_f= 0.0 #degrees\n",
    "TAS_f= 510*cst.KT_TO_MS #knots (0.8M at 10k ft)\n",
    "load_factor_f= 3.0 #g's\n",
    "\n",
    "coord_tgt_init= Transform(lat=lat_tgt, lon=lon_tgt, alt=alt_tgt, roll=0, pitch=0, yaw=hdg_tgt)  # Create a Transform object for the target's initial position\n",
    "coord_f_init= Transform(lat=lat_f, lon=lon_f, alt=alt_f, roll=0, pitch=0, yaw=hdg_f)  # Create a Transform object for the fighter's initial position\n",
    "turn_radius_f= geo.turn_radius(TAS_f, load_factor_f)  # Calculate turn radius in meters\n",
    "print (f\"Turn radius: {turn_radius_f:.0f} m\")\n",
    "turn_rate_f = geo.turn_rate(TAS_f, load_factor_f)  # Calculate turn rate in rad/s\n",
    "print (f\"Turn rate: {turn_rate_f:.2f} °/s\")\n",
    "\n"
   ]
  },
  {
   "cell_type": "code",
   "execution_count": null,
   "id": "e6f281c8",
   "metadata": {},
   "outputs": [],
   "source": [
    "\n",
    "def constrained_total_time(init_turn, coord_tgt, coord_f, speed_tgt, speed_f, load_factor_f, tolerance,debug=False):\n",
    "    try:\n",
    "        total_time, CATA,_,_,_,_ = geo.intercept_traj(coord_tgt, coord_f, speed_tgt, speed_f, load_factor_f, init_turn,debug)\n",
    "        if debug:\n",
    "            print(f\"init_turn={init_turn:.2f}°, total_time={total_time:.2f}s, CATA={CATA:.2f}°, error={geo.normalize_angle(CATA - (coord_f_init.yaw + init_turn)):.2f}°\")\n",
    "        if abs(geo.normalize_angle(CATA - (coord_f_init.yaw+init_turn))) > tolerance:\n",
    "            return 1e6  # Penalize if constraint is violated\n",
    "        return total_time + 1*abs(geo.normalize_angle(CATA - (coord_f_init.yaw+init_turn)))\n",
    "    except:\n",
    "        print(f\"⚠️ Error with init_turn={init_turn:.2f}°\")\n",
    "        return 1e6  # Penalize if intercept_traj fails\n",
    "\n",
    "def two_stage_turn_optimizer(coord_tgt, coord_f, speed_tgt, speed_f, load_factor_f, tolerance=5,debug=False):\n",
    "    # --- Stage 1: Coarse search every 5 degrees\n",
    "    coarse_angles = np.arange(-355, 355, 5)\n",
    "    best_time = float('inf')\n",
    "    best_angle = None\n",
    "    times= []\n",
    "    for angle in coarse_angles:\n",
    "        t = constrained_total_time(angle, coord_tgt, coord_f, speed_tgt, speed_f, load_factor_f, tolerance,debug)\n",
    "        if t < best_time:\n",
    "            best_time = t\n",
    "            best_angle = angle\n",
    "            if debug:\n",
    "                print(f\"🔍 Coarse search improved: init_turn={angle:.2f}°, total_time={t:.2f}s\")\n",
    "        times.append((angle, t))\n",
    "    if debug:\n",
    "        print(f\"🔍 Best coarse result: init_turn={best_angle:.2f}°, total_time={best_time:.2f}s\")\n",
    "\n",
    "    # --- Stage 2: Fine search ±5° around best_angle\n",
    "    bounds = (best_angle - 5, best_angle + 5)\n",
    "    tolerance=4 # Reduced tolerance for fine search\n",
    "    result = minimize_scalar(\n",
    "        constrained_total_time,\n",
    "        args=(coord_tgt, coord_f, speed_tgt, speed_f, load_factor_f, tolerance,debug),\n",
    "        bounds=bounds,\n",
    "        method='bounded',\n",
    "        options={'xatol': 0.1}\n",
    "    )\n",
    "    total_time, CATA,_,_,_,_ = geo.intercept_traj(coord_tgt, coord_f, speed_tgt, speed_f, load_factor_f, result.x)\n",
    "    if debug:\n",
    "        print(f\"Result:{result}\")\n",
    "        print(f\"CATA: {CATA:.2f}°, error: {geo.normalize_angle(CATA - (coord_f_init.yaw + result.x)):.2f}°\")\n",
    "        print(f\"✅ Refined result: init_turn={result.x:.2f}°, total_time={result.fun:.4f}s\")\n",
    "\n",
    "    return result, times, CATA,total_time\n",
    "\n",
    "def plot_total_time_vs_angle(times, refined_result=None):\n",
    "    # Filter out penalty values (1e6)\n",
    "    filtered_times = [(a, t) for a, t in times if t < 1e6]\n",
    "\n",
    "    if not filtered_times:\n",
    "        print(\"⚠️ No valid points to plot.\")\n",
    "        return\n",
    "\n",
    "    angles, total_times = zip(*filtered_times)\n",
    "\n",
    "    fig = go.Figure()\n",
    "\n",
    "    # Main line plot\n",
    "    fig.add_trace(go.Scatter(\n",
    "        x=angles,\n",
    "        y=total_times,\n",
    "        mode='lines+markers',\n",
    "        name='Coarse Sweep (valid)',\n",
    "        line=dict(color='royalblue'),\n",
    "        marker=dict(size=6)\n",
    "    ))\n",
    "\n",
    "    # Refined result marker (if available and valid)\n",
    "    if refined_result and refined_result.fun < 1e6:\n",
    "        fig.add_trace(go.Scatter(\n",
    "            x=[refined_result.x],\n",
    "            y=[refined_result.fun],\n",
    "            mode='markers+text',\n",
    "            name='Refined Minimum',\n",
    "            marker=dict(color='red', size=10, symbol='star'),\n",
    "            text=[f\"{refined_result.fun:.2f}s\"],\n",
    "            textposition=\"top center\"\n",
    "        ))\n",
    "\n",
    "    fig.update_layout(\n",
    "        title='Intercept Total Time vs Initial Turn Angle',\n",
    "        xaxis_title='Initial Turn (degrees)',\n",
    "        yaxis_title='Total Time (seconds)',\n",
    "        template='plotly_white',\n",
    "        hovermode='x unified'\n",
    "    )\n",
    "\n",
    "    fig.show()\n",
    "\n",
    "def get_trajectories(coord_tgt_init, coord_f_init, speed_tgt, speed_f, load_factor_f, init_turn):\n",
    "    level=True #forces a level interception\n",
    "    turn_rate_f = geo.turn_rate(speed_f, load_factor_f) \n",
    "    turn_radius_f = geo.turn_radius(speed_f, load_factor_f)  # Calculate turn radius in meters\n",
    "    coord_f=[]\n",
    "    coord_tgt=[]\n",
    "    coord_f.append(coord_f_init)\n",
    "    coord_tgt.append(coord_tgt_init)\n",
    "    total_time, CATA, time_1, time_2, time_3,coord_coll = geo.intercept_traj(coord_tgt_init, coord_f_init, speed_tgt, speed_f, load_factor_f, init_turn)\n",
    "    # print(f\"Total time: {total_time:.2f} s, CATA: {CATA:.2f}°, init_turn: {init_turn:.2f}°, time_1: {time_1:.2f} s, time_2: {time_2:.2f} s, time_3: {time_3:.2f} s\")\n",
    "    #Generate time vector\n",
    "    time_vector = np.arange(0, total_time, 1)  # Time vector in seconds\n",
    "    time_vector = np.sort(np.unique(np.append(time_vector, [time_1, time_1+time_2, total_time]))) #add two extra points to ensure the trajectory is continuous\n",
    "    #Generate target trajectory\n",
    "    for t in time_vector:\n",
    "        coord_tgt.append(geo.straight_line(coord_tgt_init, speed_tgt, t, level=level))  # Target trajectory\n",
    "    \n",
    "    #Generate fighter trajectory\n",
    "    for i in range(int(time_1)):\n",
    "        coord_f.append(geo.turn_exit(coord_f_init, (i+1)/time_1*init_turn, turn_radius_f, level=level))  # Fighter trajectory\n",
    "    coord_f.append(geo.turn_exit(coord_f_init, init_turn, turn_radius_f, level=True))\n",
    "    \n",
    "    coord_f_1 = coord_f[-1]  # Store the last coordinate after the first turn    \n",
    "    # print(f'Heading after first turn: {coord_f[-1].yaw:.2f}°, heading at f1: {coord_f_1.yaw:.2f}°, CATA: {CATA:.2f}°, THeorical: {init_turn:.2f}°')\n",
    "\n",
    "    for i in range(int(time_2)):\n",
    "        coord_f.append(geo.straight_line(coord_f_1, speed_f, (i+1), level=level))\n",
    "    coord_f.append(geo.straight_line(coord_f_1, speed_f, time_2, level=level)) \n",
    "    \n",
    "    # HCA=geo.normalize_angle(coord_tgt_init.yaw-coord_f[-1].yaw)  # Calculate the Heading Crossing Angle (HCA)\n",
    "\n",
    "    # print(f\"HCA: {HCA}°\")\n",
    "    coord_f_2= coord_f[-1]  # Store the last coordinate after the second turn\n",
    "    coord_tgt_2= geo.straight_line(coord_tgt_init, speed_tgt, time_1+time_2)  # Extend the target trajectory to the end of the trajectory\n",
    "\n",
    "    HCA=geo.get_HCA(coord_f_2,coord_tgt_2)\n",
    "\n",
    "    for i in range(int(time_3)):\n",
    "        coord_f.append(geo.turn_exit(coord_f_2, HCA*(i+1)/time_3, turn_radius_f, level=level))\n",
    "    coord_f.append(geo.turn_exit(coord_f_2, HCA, turn_radius_f, level=level))  # Final turn to intercept the target\n",
    "\n",
    "    coord_TIP = geo.get_TIP(coord_tgt_2, speed_tgt, speed_f, load_factor_f, HCA)  # Calculate the intercept point\n",
    "    coord_TIP.yaw = coord_tgt_init.yaw  # Set the yaw of the intercept point to the target yaw\n",
    "    \n",
    "    # print(f\"coord_f_3: {coord_f[-1]}\")\n",
    "\n",
    "\n",
    "    return time_vector, coord_tgt, coord_f,coord_coll, coord_TIP,coord_f_1, coord_f_2\n",
    "\n",
    "def plot_trajectories_on_map(coord_tgt, coord_f,coord_coll, coord_TIP,coord_f_1, coord_f_2):\n",
    "    def extract_coords(coord_list):\n",
    "        lats = [c.lat for c in coord_list]\n",
    "        lons = [c.lon for c in coord_list]\n",
    "        return lats, lons\n",
    "\n",
    "    tgt_lats, tgt_lons = extract_coords(coord_tgt)\n",
    "    f_lats, f_lons = extract_coords(coord_f)\n",
    "\n",
    "    fig = go.Figure()\n",
    "\n",
    "    # Target trajectory\n",
    "    fig.add_trace(go.Scattermap(\n",
    "        lat=tgt_lats,\n",
    "        lon=tgt_lons,\n",
    "        mode='lines+markers',\n",
    "        name='Target',\n",
    "        line=dict(width=1, color='orange'),\n",
    "        marker=dict(size=5, color='orange')\n",
    "    ))\n",
    "\n",
    "    # Fighter trajectory\n",
    "    fig.add_trace(go.Scattermap(\n",
    "        lat=f_lats,\n",
    "        lon=f_lons,\n",
    "        mode='lines+markers',\n",
    "        name='Fighter',\n",
    "        line=dict(width=1, color='blue'),\n",
    "        marker=dict(size=5, color='blue')\n",
    "    ))\n",
    "\n",
    "    # Start markers\n",
    "    fig.add_trace(go.Scattermap(lat=[tgt_lats[0]],lon=[tgt_lons[0]],mode='markers+text',name='Target Start',marker=dict(size=8, color='orange'),text=['Target Start'],))\n",
    "    fig.add_trace(go.Scattermap(lat=[f_lats[0]],lon=[f_lons[0]],mode='markers+text',name='Fighter Start',marker=dict(size=8, color='blue'),text=['Fighter Start'],))\n",
    "    fig.add_trace(go.Scattermap(lat=[coord_f_1.lat],lon=[coord_f_1.lon],mode='markers+text',name='Fighter Start',marker=dict(size=8, color='black'),text=['Fighter F1'],))\n",
    "    fig.add_trace(go.Scattermap(lat=[coord_f_2.lat],lon=[coord_f_2.lon],mode='markers+text',name='Fighter Start',marker=dict(size=8, color='black'),text=['Fighter F2'],))\n",
    "    fig.add_trace(go.Scattermap(lat=[coord_coll.lat], lon=[coord_coll.lon], mode='markers+text', marker=dict(size=8, color='black'), text=['Collision Point'],))\n",
    "    fig.add_trace(go.Scattermap(lat=[coord_TIP.lat], lon=[coord_TIP.lon], mode='markers+text', marker=dict(size=8, color='purple'), text=['TIP Point'],))\n",
    "\n",
    "    # Center map around midpoint of both tracks\n",
    "    center_lat = (tgt_lats[0] + f_lats[0]) / 2\n",
    "    center_lon = (tgt_lons[0] + f_lons[0]) / 2\n",
    "\n",
    "\n",
    "    fig.update_layout(\n",
    "        title='Fighter and Target Trajectories on Map',\n",
    "        map=dict(\n",
    "            style='satellite',  # or 'carto-positron', 'stamen-terrain', etc.\n",
    "            center=dict(lat=center_lat, lon=center_lon),\n",
    "            zoom=10\n",
    "        ),\n",
    "        height=700,\n",
    "        margin=dict(l=0, r=0, t=40, b=0)\n",
    "    )\n",
    "\n",
    "    fig.show()\n"
   ]
  },
  {
   "cell_type": "code",
   "execution_count": 3,
   "id": "69bfbd12",
   "metadata": {},
   "outputs": [
    {
     "name": "stdout",
     "output_type": "stream",
     "text": [
      "CATA: 105.8°, TGT HDG:90.0°, HCA: 85.0°\n",
      "Warning: Maximum iterations reached, the intercept trajectory may not be accurate.\n",
      "init_turn=-355.00°, total_time=523.59s, CATA=106.34°, error=101.34°\n",
      "🔍 Coarse search improved: init_turn=-355.00°, total_time=1000000.00s\n",
      "CATA: 105.8°, TGT HDG:90.0°, HCA: 80.0°\n",
      "Warning: Maximum iterations reached, the intercept trajectory may not be accurate.\n",
      "init_turn=-350.00°, total_time=515.91s, CATA=106.35°, error=96.35°\n",
      "CATA: 105.8°, TGT HDG:90.0°, HCA: 75.0°\n",
      "Warning: Maximum iterations reached, the intercept trajectory may not be accurate.\n",
      "init_turn=-345.00°, total_time=508.81s, CATA=106.35°, error=91.35°\n",
      "CATA: 105.8°, TGT HDG:90.0°, HCA: 70.0°\n",
      "Warning: Maximum iterations reached, the intercept trajectory may not be accurate.\n",
      "init_turn=-340.00°, total_time=502.28s, CATA=106.32°, error=86.32°\n",
      "CATA: 105.7°, TGT HDG:90.0°, HCA: 65.0°\n",
      "Warning: Maximum iterations reached, the intercept trajectory may not be accurate.\n",
      "init_turn=-335.00°, total_time=496.34s, CATA=106.28°, error=81.28°\n",
      "CATA: 105.7°, TGT HDG:90.0°, HCA: 60.0°\n",
      "Warning: Maximum iterations reached, the intercept trajectory may not be accurate.\n",
      "init_turn=-330.00°, total_time=490.97s, CATA=106.22°, error=76.22°\n",
      "CATA: 105.7°, TGT HDG:90.0°, HCA: 55.0°\n",
      "Warning: Maximum iterations reached, the intercept trajectory may not be accurate.\n",
      "init_turn=-325.00°, total_time=486.17s, CATA=106.15°, error=71.15°\n",
      "CATA: 105.6°, TGT HDG:90.0°, HCA: 50.0°\n",
      "Warning: Maximum iterations reached, the intercept trajectory may not be accurate.\n",
      "init_turn=-320.00°, total_time=481.92s, CATA=106.07°, error=66.07°\n",
      "CATA: 105.6°, TGT HDG:90.0°, HCA: 45.0°\n",
      "Warning: Maximum iterations reached, the intercept trajectory may not be accurate.\n",
      "init_turn=-315.00°, total_time=478.21s, CATA=105.98°, error=60.98°\n",
      "CATA: 105.5°, TGT HDG:90.0°, HCA: 40.0°\n",
      "Warning: Maximum iterations reached, the intercept trajectory may not be accurate.\n",
      "init_turn=-310.00°, total_time=475.02s, CATA=105.88°, error=55.88°\n",
      "CATA: 105.5°, TGT HDG:90.0°, HCA: 35.0°\n",
      "Warning: Maximum iterations reached, the intercept trajectory may not be accurate.\n",
      "init_turn=-305.00°, total_time=472.31s, CATA=105.78°, error=50.78°\n",
      "CATA: 105.4°, TGT HDG:90.0°, HCA: 30.0°\n",
      "Warning: Maximum iterations reached, the intercept trajectory may not be accurate.\n",
      "init_turn=-300.00°, total_time=470.07s, CATA=105.67°, error=45.67°\n",
      "CATA: 105.4°, TGT HDG:90.0°, HCA: 25.0°\n",
      "Warning: Maximum iterations reached, the intercept trajectory may not be accurate.\n",
      "init_turn=-295.00°, total_time=468.25s, CATA=105.57°, error=40.57°\n",
      "CATA: 105.3°, TGT HDG:90.0°, HCA: 20.0°\n",
      "Warning: Maximum iterations reached, the intercept trajectory may not be accurate.\n",
      "init_turn=-290.00°, total_time=466.81s, CATA=105.47°, error=35.47°\n",
      "CATA: 105.3°, TGT HDG:90.0°, HCA: 15.0°\n",
      "Warning: Maximum iterations reached, the intercept trajectory may not be accurate.\n",
      "init_turn=-285.00°, total_time=465.72s, CATA=105.38°, error=30.38°\n",
      "CATA: 105.2°, TGT HDG:90.0°, HCA: 10.0°\n",
      "Warning: Maximum iterations reached, the intercept trajectory may not be accurate.\n",
      "init_turn=-280.00°, total_time=464.94s, CATA=105.29°, error=25.29°\n",
      "CATA: 105.2°, TGT HDG:90.0°, HCA: 5.0°\n",
      "Warning: Maximum iterations reached, the intercept trajectory may not be accurate.\n",
      "init_turn=-275.00°, total_time=464.41s, CATA=105.22°, error=20.22°\n",
      "CATA: 105.2°, TGT HDG:90.0°, HCA: 0.0°\n",
      "Warning: Maximum iterations reached, the intercept trajectory may not be accurate.\n",
      "init_turn=-270.00°, total_time=464.09s, CATA=105.16°, error=15.16°\n",
      "CATA: 105.1°, TGT HDG:90.0°, HCA: -5.0°\n",
      "Warning: Maximum iterations reached, the intercept trajectory may not be accurate.\n",
      "init_turn=-265.00°, total_time=464.10s, CATA=105.16°, error=10.16°\n",
      "CATA: 105.1°, TGT HDG:90.0°, HCA: -10.0°\n",
      "Warning: Maximum iterations reached, the intercept trajectory may not be accurate.\n",
      "init_turn=-260.00°, total_time=464.11s, CATA=105.16°, error=5.16°\n",
      "CATA: 105.1°, TGT HDG:90.0°, HCA: -15.0°\n",
      "Warning: Maximum iterations reached, the intercept trajectory may not be accurate.\n",
      "init_turn=-255.00°, total_time=464.12s, CATA=105.16°, error=0.16°\n",
      "🔍 Coarse search improved: init_turn=-255.00°, total_time=464.27s\n",
      "CATA: 105.1°, TGT HDG:90.0°, HCA: -20.0°\n",
      "Warning: Maximum iterations reached, the intercept trajectory may not be accurate.\n",
      "init_turn=-250.00°, total_time=464.12s, CATA=105.16°, error=-4.84°\n",
      "CATA: 105.1°, TGT HDG:90.0°, HCA: -25.0°\n",
      "Warning: Maximum iterations reached, the intercept trajectory may not be accurate.\n",
      "init_turn=-245.00°, total_time=464.13s, CATA=105.16°, error=-9.84°\n",
      "CATA: 105.2°, TGT HDG:90.0°, HCA: -30.0°\n",
      "Warning: Maximum iterations reached, the intercept trajectory may not be accurate.\n",
      "init_turn=-240.00°, total_time=464.14s, CATA=105.16°, error=-14.84°\n",
      "CATA: 105.2°, TGT HDG:90.0°, HCA: -35.0°\n",
      "Warning: Maximum iterations reached, the intercept trajectory may not be accurate.\n",
      "init_turn=-235.00°, total_time=464.14s, CATA=105.16°, error=-19.84°\n",
      "CATA: 105.2°, TGT HDG:90.0°, HCA: -40.0°\n",
      "Warning: Maximum iterations reached, the intercept trajectory may not be accurate.\n",
      "init_turn=-230.00°, total_time=464.14s, CATA=105.16°, error=-24.84°\n",
      "CATA: 105.3°, TGT HDG:90.0°, HCA: -45.0°\n",
      "Warning: Maximum iterations reached, the intercept trajectory may not be accurate.\n",
      "init_turn=-225.00°, total_time=464.15s, CATA=105.16°, error=-29.84°\n",
      "CATA: 105.4°, TGT HDG:90.0°, HCA: -50.0°\n",
      "Warning: Maximum iterations reached, the intercept trajectory may not be accurate.\n",
      "init_turn=-220.00°, total_time=464.15s, CATA=105.16°, error=-34.84°\n",
      "CATA: 105.5°, TGT HDG:90.0°, HCA: -55.0°\n",
      "Warning: Maximum iterations reached, the intercept trajectory may not be accurate.\n",
      "init_turn=-215.00°, total_time=464.15s, CATA=105.16°, error=-39.84°\n",
      "CATA: 105.6°, TGT HDG:90.0°, HCA: -60.0°\n",
      "Warning: Maximum iterations reached, the intercept trajectory may not be accurate.\n",
      "init_turn=-210.00°, total_time=464.15s, CATA=105.16°, error=-44.84°\n",
      "CATA: 105.7°, TGT HDG:90.0°, HCA: -65.0°\n",
      "Warning: Maximum iterations reached, the intercept trajectory may not be accurate.\n",
      "init_turn=-205.00°, total_time=464.15s, CATA=105.16°, error=-49.84°\n",
      "CATA: 105.8°, TGT HDG:90.0°, HCA: -70.0°\n",
      "Warning: Maximum iterations reached, the intercept trajectory may not be accurate.\n",
      "init_turn=-200.00°, total_time=464.15s, CATA=105.16°, error=-54.84°\n",
      "CATA: 105.9°, TGT HDG:90.0°, HCA: -75.0°\n",
      "Warning: Maximum iterations reached, the intercept trajectory may not be accurate.\n",
      "init_turn=-195.00°, total_time=464.15s, CATA=105.16°, error=-59.84°\n",
      "CATA: 106.1°, TGT HDG:90.0°, HCA: -80.0°\n",
      "Warning: Maximum iterations reached, the intercept trajectory may not be accurate.\n",
      "init_turn=-190.00°, total_time=464.14s, CATA=105.16°, error=-64.84°\n",
      "CATA: 106.2°, TGT HDG:90.0°, HCA: -85.0°\n",
      "Warning: Maximum iterations reached, the intercept trajectory may not be accurate.\n",
      "init_turn=-185.00°, total_time=464.14s, CATA=105.16°, error=-69.84°\n",
      "CATA: 106.4°, TGT HDG:90.0°, HCA: -90.0°\n",
      "Warning: Maximum iterations reached, the intercept trajectory may not be accurate.\n",
      "init_turn=-180.00°, total_time=464.14s, CATA=105.16°, error=-74.84°\n",
      "CATA: 106.6°, TGT HDG:90.0°, HCA: -95.0°\n",
      "Warning: Maximum iterations reached, the intercept trajectory may not be accurate.\n",
      "init_turn=-175.00°, total_time=464.13s, CATA=105.16°, error=-79.84°\n",
      "CATA: 106.8°, TGT HDG:90.0°, HCA: -100.0°\n",
      "Warning: Maximum iterations reached, the intercept trajectory may not be accurate.\n",
      "init_turn=-170.00°, total_time=464.13s, CATA=105.16°, error=-84.84°\n",
      "CATA: 107.0°, TGT HDG:90.0°, HCA: -105.0°\n",
      "Warning: Maximum iterations reached, the intercept trajectory may not be accurate.\n",
      "init_turn=-165.00°, total_time=464.12s, CATA=105.16°, error=-89.84°\n",
      "CATA: 107.2°, TGT HDG:90.0°, HCA: -110.0°\n",
      "Warning: Maximum iterations reached, the intercept trajectory may not be accurate.\n",
      "init_turn=-160.00°, total_time=464.11s, CATA=105.16°, error=-94.84°\n",
      "CATA: 107.5°, TGT HDG:90.0°, HCA: -115.0°\n",
      "Warning: Maximum iterations reached, the intercept trajectory may not be accurate.\n",
      "init_turn=-155.00°, total_time=464.10s, CATA=105.16°, error=-99.84°\n",
      "CATA: 107.7°, TGT HDG:90.0°, HCA: -120.0°\n",
      "Warning: Maximum iterations reached, the intercept trajectory may not be accurate.\n",
      "init_turn=-150.00°, total_time=464.10s, CATA=105.16°, error=-104.84°\n",
      "CATA: 108.0°, TGT HDG:90.0°, HCA: -125.0°\n",
      "Warning: Maximum iterations reached, the intercept trajectory may not be accurate.\n",
      "init_turn=-145.00°, total_time=464.09s, CATA=105.16°, error=-109.84°\n",
      "CATA: 108.2°, TGT HDG:90.0°, HCA: -130.0°\n",
      "Warning: Maximum iterations reached, the intercept trajectory may not be accurate.\n",
      "init_turn=-140.00°, total_time=464.08s, CATA=105.16°, error=-114.84°\n",
      "CATA: 108.5°, TGT HDG:90.0°, HCA: -135.0°\n",
      "Warning: Maximum iterations reached, the intercept trajectory may not be accurate.\n",
      "init_turn=-135.00°, total_time=464.07s, CATA=105.16°, error=-119.84°\n",
      "CATA: 108.8°, TGT HDG:90.0°, HCA: -140.0°\n",
      "Warning: Maximum iterations reached, the intercept trajectory may not be accurate.\n",
      "init_turn=-130.00°, total_time=464.06s, CATA=105.16°, error=-124.84°\n",
      "CATA: 109.1°, TGT HDG:90.0°, HCA: -145.0°\n",
      "Warning: Maximum iterations reached, the intercept trajectory may not be accurate.\n",
      "init_turn=-125.00°, total_time=464.05s, CATA=105.16°, error=-129.84°\n",
      "CATA: 109.4°, TGT HDG:90.0°, HCA: -150.0°\n",
      "Warning: Maximum iterations reached, the intercept trajectory may not be accurate.\n",
      "init_turn=-120.00°, total_time=464.04s, CATA=105.16°, error=-134.84°\n",
      "CATA: 109.7°, TGT HDG:90.0°, HCA: -155.0°\n",
      "Warning: Maximum iterations reached, the intercept trajectory may not be accurate.\n",
      "init_turn=-115.00°, total_time=464.03s, CATA=105.16°, error=-139.84°\n",
      "CATA: 110.0°, TGT HDG:90.0°, HCA: -160.0°\n",
      "Warning: Maximum iterations reached, the intercept trajectory may not be accurate.\n",
      "init_turn=-110.00°, total_time=464.02s, CATA=105.16°, error=-144.84°\n",
      "CATA: 110.3°, TGT HDG:90.0°, HCA: -165.0°\n",
      "Warning: Maximum iterations reached, the intercept trajectory may not be accurate.\n",
      "init_turn=-105.00°, total_time=464.02s, CATA=105.16°, error=-149.84°\n",
      "CATA: 110.6°, TGT HDG:90.0°, HCA: -170.0°\n",
      "Warning: Maximum iterations reached, the intercept trajectory may not be accurate.\n",
      "init_turn=-100.00°, total_time=464.01s, CATA=105.16°, error=-154.84°\n",
      "CATA: 110.9°, TGT HDG:90.0°, HCA: -175.0°\n",
      "Warning: Maximum iterations reached, the intercept trajectory may not be accurate.\n",
      "init_turn=-95.00°, total_time=464.00s, CATA=105.16°, error=-159.84°\n",
      "CATA: 111.2°, TGT HDG:90.0°, HCA: -180.0°\n",
      "Warning: Maximum iterations reached, the intercept trajectory may not be accurate.\n",
      "init_turn=-90.00°, total_time=463.99s, CATA=105.16°, error=-164.84°\n",
      "CATA: 111.6°, TGT HDG:90.0°, HCA: -185.0°\n",
      "Warning: Maximum iterations reached, the intercept trajectory may not be accurate.\n",
      "init_turn=-85.00°, total_time=463.98s, CATA=105.16°, error=-169.84°\n",
      "CATA: 111.9°, TGT HDG:90.0°, HCA: -190.0°\n",
      "Warning: Maximum iterations reached, the intercept trajectory may not be accurate.\n",
      "init_turn=-80.00°, total_time=463.98s, CATA=105.16°, error=-174.84°\n",
      "CATA: 112.2°, TGT HDG:90.0°, HCA: -195.0°\n",
      "Warning: Maximum iterations reached, the intercept trajectory may not be accurate.\n",
      "init_turn=-75.00°, total_time=463.97s, CATA=105.16°, error=-179.84°\n",
      "CATA: 112.5°, TGT HDG:90.0°, HCA: -200.0°\n",
      "Warning: Maximum iterations reached, the intercept trajectory may not be accurate.\n",
      "init_turn=-70.00°, total_time=463.96s, CATA=105.16°, error=175.16°\n",
      "CATA: 112.8°, TGT HDG:90.0°, HCA: -205.0°\n",
      "Warning: Maximum iterations reached, the intercept trajectory may not be accurate.\n",
      "init_turn=-65.00°, total_time=463.96s, CATA=105.16°, error=170.16°\n",
      "CATA: 113.1°, TGT HDG:90.0°, HCA: -210.0°\n",
      "Warning: Maximum iterations reached, the intercept trajectory may not be accurate.\n",
      "init_turn=-60.00°, total_time=463.95s, CATA=105.16°, error=165.16°\n",
      "CATA: 113.4°, TGT HDG:90.0°, HCA: -215.0°\n",
      "Warning: Maximum iterations reached, the intercept trajectory may not be accurate.\n",
      "init_turn=-55.00°, total_time=463.95s, CATA=105.16°, error=160.16°\n",
      "CATA: 113.7°, TGT HDG:90.0°, HCA: -220.0°\n",
      "Warning: Maximum iterations reached, the intercept trajectory may not be accurate.\n",
      "init_turn=-50.00°, total_time=463.94s, CATA=105.16°, error=155.16°\n",
      "CATA: 114.0°, TGT HDG:90.0°, HCA: -225.0°\n",
      "Warning: Maximum iterations reached, the intercept trajectory may not be accurate.\n",
      "init_turn=-45.00°, total_time=463.94s, CATA=105.16°, error=150.16°\n",
      "CATA: 114.3°, TGT HDG:90.0°, HCA: -230.0°\n",
      "Warning: Maximum iterations reached, the intercept trajectory may not be accurate.\n",
      "init_turn=-40.00°, total_time=463.94s, CATA=105.17°, error=145.17°\n",
      "CATA: 114.6°, TGT HDG:90.0°, HCA: -235.0°\n",
      "Warning: Maximum iterations reached, the intercept trajectory may not be accurate.\n",
      "init_turn=-35.00°, total_time=463.94s, CATA=105.17°, error=140.17°\n",
      "CATA: 114.8°, TGT HDG:90.0°, HCA: -240.0°\n",
      "Warning: Maximum iterations reached, the intercept trajectory may not be accurate.\n",
      "init_turn=-30.00°, total_time=463.94s, CATA=105.17°, error=135.17°\n",
      "CATA: 115.0°, TGT HDG:90.0°, HCA: -245.0°\n",
      "Warning: Maximum iterations reached, the intercept trajectory may not be accurate.\n",
      "init_turn=-25.00°, total_time=463.94s, CATA=105.17°, error=130.17°\n",
      "CATA: 115.3°, TGT HDG:90.0°, HCA: -250.0°\n",
      "Warning: Maximum iterations reached, the intercept trajectory may not be accurate.\n",
      "init_turn=-20.00°, total_time=463.94s, CATA=105.17°, error=125.17°\n",
      "CATA: 115.5°, TGT HDG:90.0°, HCA: -255.0°\n",
      "Warning: Maximum iterations reached, the intercept trajectory may not be accurate.\n",
      "init_turn=-15.00°, total_time=463.94s, CATA=105.17°, error=120.17°\n",
      "CATA: 115.6°, TGT HDG:90.0°, HCA: -260.0°\n",
      "Warning: Maximum iterations reached, the intercept trajectory may not be accurate.\n",
      "init_turn=-10.00°, total_time=463.94s, CATA=105.17°, error=115.17°\n",
      "CATA: 115.8°, TGT HDG:90.0°, HCA: -265.0°\n",
      "Warning: Maximum iterations reached, the intercept trajectory may not be accurate.\n",
      "init_turn=-5.00°, total_time=463.95s, CATA=105.17°, error=110.17°\n",
      "CATA: 115.9°, TGT HDG:90.0°, HCA: 90.0°\n",
      "Warning: Maximum iterations reached, the intercept trajectory may not be accurate.\n",
      "init_turn=0.00°, total_time=309.23s, CATA=116.03°, error=116.03°\n",
      "CATA: 115.8°, TGT HDG:90.0°, HCA: 85.0°\n",
      "Warning: Maximum iterations reached, the intercept trajectory may not be accurate.\n",
      "init_turn=5.00°, total_time=309.23s, CATA=116.03°, error=111.03°\n",
      "CATA: 115.7°, TGT HDG:90.0°, HCA: 80.0°\n",
      "Warning: Maximum iterations reached, the intercept trajectory may not be accurate.\n",
      "init_turn=10.00°, total_time=309.22s, CATA=116.03°, error=106.03°\n",
      "CATA: 115.7°, TGT HDG:90.0°, HCA: 75.0°\n",
      "Warning: Maximum iterations reached, the intercept trajectory may not be accurate.\n",
      "init_turn=15.00°, total_time=309.22s, CATA=116.03°, error=101.03°\n",
      "CATA: 115.6°, TGT HDG:90.0°, HCA: 70.0°\n",
      "Warning: Maximum iterations reached, the intercept trajectory may not be accurate.\n",
      "init_turn=20.00°, total_time=309.21s, CATA=116.03°, error=96.03°\n",
      "CATA: 115.6°, TGT HDG:90.0°, HCA: 65.0°\n",
      "Warning: Maximum iterations reached, the intercept trajectory may not be accurate.\n",
      "init_turn=25.00°, total_time=309.21s, CATA=116.03°, error=91.03°\n",
      "CATA: 115.5°, TGT HDG:90.0°, HCA: 60.0°\n",
      "Warning: Maximum iterations reached, the intercept trajectory may not be accurate.\n",
      "init_turn=30.00°, total_time=309.20s, CATA=116.03°, error=86.03°\n",
      "CATA: 115.5°, TGT HDG:90.0°, HCA: 55.0°\n",
      "Warning: Maximum iterations reached, the intercept trajectory may not be accurate.\n",
      "init_turn=35.00°, total_time=309.20s, CATA=116.03°, error=81.03°\n",
      "CATA: 115.5°, TGT HDG:90.0°, HCA: 50.0°\n",
      "Warning: Maximum iterations reached, the intercept trajectory may not be accurate.\n",
      "init_turn=40.00°, total_time=309.19s, CATA=116.03°, error=76.03°\n",
      "CATA: 115.6°, TGT HDG:90.0°, HCA: 45.0°\n",
      "Warning: Maximum iterations reached, the intercept trajectory may not be accurate.\n",
      "init_turn=45.00°, total_time=309.18s, CATA=116.03°, error=71.03°\n",
      "CATA: 115.6°, TGT HDG:90.0°, HCA: 40.0°\n",
      "Warning: Maximum iterations reached, the intercept trajectory may not be accurate.\n",
      "init_turn=50.00°, total_time=309.17s, CATA=116.03°, error=66.03°\n",
      "CATA: 115.6°, TGT HDG:90.0°, HCA: 35.0°\n",
      "Warning: Maximum iterations reached, the intercept trajectory may not be accurate.\n",
      "init_turn=55.00°, total_time=309.16s, CATA=116.03°, error=61.03°\n",
      "CATA: 115.7°, TGT HDG:90.0°, HCA: 30.0°\n",
      "Warning: Maximum iterations reached, the intercept trajectory may not be accurate.\n",
      "init_turn=60.00°, total_time=309.15s, CATA=116.03°, error=56.03°\n",
      "CATA: 115.7°, TGT HDG:90.0°, HCA: 25.0°\n",
      "Warning: Maximum iterations reached, the intercept trajectory may not be accurate.\n",
      "init_turn=65.00°, total_time=309.14s, CATA=116.03°, error=51.03°\n",
      "CATA: 115.8°, TGT HDG:90.0°, HCA: 20.0°\n",
      "Warning: Maximum iterations reached, the intercept trajectory may not be accurate.\n",
      "init_turn=70.00°, total_time=309.14s, CATA=116.04°, error=46.04°\n",
      "CATA: 115.9°, TGT HDG:90.0°, HCA: 15.0°\n",
      "Warning: Maximum iterations reached, the intercept trajectory may not be accurate.\n",
      "init_turn=75.00°, total_time=309.13s, CATA=116.04°, error=41.04°\n",
      "CATA: 115.9°, TGT HDG:90.0°, HCA: 10.0°\n",
      "Warning: Maximum iterations reached, the intercept trajectory may not be accurate.\n",
      "init_turn=80.00°, total_time=309.12s, CATA=116.04°, error=36.04°\n",
      "CATA: 116.0°, TGT HDG:90.0°, HCA: 5.0°\n",
      "Warning: Maximum iterations reached, the intercept trajectory may not be accurate.\n",
      "init_turn=85.00°, total_time=309.11s, CATA=116.04°, error=31.04°\n",
      "CATA: 116.0°, TGT HDG:90.0°, HCA: 0.0°\n",
      "Warning: Maximum iterations reached, the intercept trajectory may not be accurate.\n",
      "init_turn=90.00°, total_time=309.10s, CATA=116.04°, error=26.04°\n",
      "CATA: 116.1°, TGT HDG:90.0°, HCA: -5.0°\n",
      "Warning: Maximum iterations reached, the intercept trajectory may not be accurate.\n",
      "init_turn=95.00°, total_time=309.56s, CATA=116.14°, error=21.14°\n",
      "CATA: 116.1°, TGT HDG:90.0°, HCA: -10.0°\n",
      "Warning: Maximum iterations reached, the intercept trajectory may not be accurate.\n",
      "init_turn=100.00°, total_time=309.85s, CATA=116.22°, error=16.22°\n",
      "CATA: 116.2°, TGT HDG:90.0°, HCA: -15.0°\n",
      "Warning: Maximum iterations reached, the intercept trajectory may not be accurate.\n",
      "init_turn=105.00°, total_time=310.01s, CATA=116.29°, error=11.29°\n",
      "CATA: 116.2°, TGT HDG:90.0°, HCA: -20.0°\n",
      "Warning: Maximum iterations reached, the intercept trajectory may not be accurate.\n",
      "init_turn=110.00°, total_time=310.07s, CATA=116.34°, error=6.34°\n",
      "CATA: 116.2°, TGT HDG:90.0°, HCA: -25.0°\n",
      "Warning: Maximum iterations reached, the intercept trajectory may not be accurate.\n",
      "init_turn=115.00°, total_time=310.08s, CATA=116.36°, error=1.36°\n",
      "🔍 Coarse search improved: init_turn=115.00°, total_time=311.44s\n",
      "CATA: 116.2°, TGT HDG:90.0°, HCA: -30.0°\n",
      "Warning: Maximum iterations reached, the intercept trajectory may not be accurate.\n",
      "init_turn=120.00°, total_time=310.08s, CATA=116.35°, error=-3.65°\n",
      "CATA: 116.2°, TGT HDG:90.0°, HCA: -35.0°\n",
      "Warning: Maximum iterations reached, the intercept trajectory may not be accurate.\n",
      "init_turn=125.00°, total_time=310.11s, CATA=116.32°, error=-8.68°\n",
      "CATA: 116.1°, TGT HDG:90.0°, HCA: -40.0°\n",
      "Warning: Maximum iterations reached, the intercept trajectory may not be accurate.\n",
      "init_turn=130.00°, total_time=310.21s, CATA=116.24°, error=-13.76°\n",
      "CATA: 116.1°, TGT HDG:90.0°, HCA: -45.0°\n",
      "Warning: Maximum iterations reached, the intercept trajectory may not be accurate.\n",
      "init_turn=135.00°, total_time=310.43s, CATA=116.13°, error=-18.87°\n",
      "CATA: 116.0°, TGT HDG:90.0°, HCA: -50.0°\n",
      "Warning: Maximum iterations reached, the intercept trajectory may not be accurate.\n",
      "init_turn=140.00°, total_time=310.81s, CATA=115.98°, error=-24.02°\n",
      "CATA: 115.9°, TGT HDG:90.0°, HCA: -55.0°\n",
      "Warning: Maximum iterations reached, the intercept trajectory may not be accurate.\n",
      "init_turn=145.00°, total_time=311.40s, CATA=115.79°, error=-29.21°\n",
      "CATA: 115.8°, TGT HDG:90.0°, HCA: -60.0°\n",
      "Warning: Maximum iterations reached, the intercept trajectory may not be accurate.\n",
      "init_turn=150.00°, total_time=312.24s, CATA=115.55°, error=-34.45°\n",
      "CATA: 115.7°, TGT HDG:90.0°, HCA: -65.0°\n",
      "Warning: Maximum iterations reached, the intercept trajectory may not be accurate.\n",
      "init_turn=155.00°, total_time=313.37s, CATA=115.27°, error=-39.73°\n",
      "CATA: 115.5°, TGT HDG:90.0°, HCA: -70.0°\n",
      "Warning: Maximum iterations reached, the intercept trajectory may not be accurate.\n",
      "init_turn=160.00°, total_time=314.85s, CATA=114.93°, error=-45.07°\n",
      "CATA: 115.3°, TGT HDG:90.0°, HCA: -75.0°\n",
      "Warning: Maximum iterations reached, the intercept trajectory may not be accurate.\n",
      "init_turn=165.00°, total_time=316.72s, CATA=114.55°, error=-50.45°\n",
      "CATA: 115.1°, TGT HDG:90.0°, HCA: -80.0°\n",
      "Warning: Maximum iterations reached, the intercept trajectory may not be accurate.\n",
      "init_turn=170.00°, total_time=319.03s, CATA=114.13°, error=-55.87°\n",
      "CATA: 114.9°, TGT HDG:90.0°, HCA: -85.0°\n",
      "Warning: Maximum iterations reached, the intercept trajectory may not be accurate.\n",
      "init_turn=175.00°, total_time=321.81s, CATA=113.65°, error=-61.35°\n",
      "CATA: 114.6°, TGT HDG:90.0°, HCA: -90.0°\n",
      "Warning: Maximum iterations reached, the intercept trajectory may not be accurate.\n",
      "init_turn=180.00°, total_time=325.11s, CATA=113.14°, error=-66.86°\n",
      "CATA: 114.4°, TGT HDG:90.0°, HCA: -95.0°\n",
      "Warning: Maximum iterations reached, the intercept trajectory may not be accurate.\n",
      "init_turn=185.00°, total_time=328.98s, CATA=112.58°, error=-72.42°\n",
      "CATA: 114.1°, TGT HDG:90.0°, HCA: -100.0°\n",
      "Warning: Maximum iterations reached, the intercept trajectory may not be accurate.\n",
      "init_turn=190.00°, total_time=333.44s, CATA=111.99°, error=-78.01°\n",
      "CATA: 113.8°, TGT HDG:90.0°, HCA: -105.0°\n",
      "Warning: Maximum iterations reached, the intercept trajectory may not be accurate.\n",
      "init_turn=195.00°, total_time=338.54s, CATA=111.37°, error=-83.63°\n",
      "CATA: 113.5°, TGT HDG:90.0°, HCA: -110.0°\n",
      "Warning: Maximum iterations reached, the intercept trajectory may not be accurate.\n",
      "init_turn=200.00°, total_time=344.30s, CATA=110.72°, error=-89.28°\n",
      "CATA: 113.1°, TGT HDG:90.0°, HCA: -115.0°\n",
      "Warning: Maximum iterations reached, the intercept trajectory may not be accurate.\n",
      "init_turn=205.00°, total_time=350.74s, CATA=110.05°, error=-94.95°\n",
      "CATA: 112.8°, TGT HDG:90.0°, HCA: -120.0°\n",
      "Warning: Maximum iterations reached, the intercept trajectory may not be accurate.\n",
      "init_turn=210.00°, total_time=357.88s, CATA=109.38°, error=-100.62°\n",
      "CATA: 112.4°, TGT HDG:90.0°, HCA: -125.0°\n",
      "Warning: Maximum iterations reached, the intercept trajectory may not be accurate.\n",
      "init_turn=215.00°, total_time=365.72s, CATA=108.70°, error=-106.30°\n",
      "CATA: 112.0°, TGT HDG:90.0°, HCA: -130.0°\n",
      "Warning: Maximum iterations reached, the intercept trajectory may not be accurate.\n",
      "init_turn=220.00°, total_time=374.26s, CATA=108.02°, error=-111.98°\n",
      "CATA: 111.7°, TGT HDG:90.0°, HCA: -135.0°\n",
      "Warning: Maximum iterations reached, the intercept trajectory may not be accurate.\n",
      "init_turn=225.00°, total_time=383.50s, CATA=107.36°, error=-117.64°\n",
      "CATA: 111.3°, TGT HDG:90.0°, HCA: -140.0°\n",
      "Warning: Maximum iterations reached, the intercept trajectory may not be accurate.\n",
      "init_turn=230.00°, total_time=393.42s, CATA=106.70°, error=-123.30°\n",
      "CATA: 110.9°, TGT HDG:90.0°, HCA: -145.0°\n",
      "Warning: Maximum iterations reached, the intercept trajectory may not be accurate.\n",
      "init_turn=235.00°, total_time=403.98s, CATA=106.07°, error=-128.93°\n",
      "CATA: 110.5°, TGT HDG:90.0°, HCA: -150.0°\n",
      "Warning: Maximum iterations reached, the intercept trajectory may not be accurate.\n",
      "init_turn=240.00°, total_time=415.16s, CATA=105.47°, error=-134.53°\n",
      "CATA: 110.2°, TGT HDG:90.0°, HCA: -155.0°\n",
      "Warning: Maximum iterations reached, the intercept trajectory may not be accurate.\n",
      "init_turn=245.00°, total_time=426.90s, CATA=104.90°, error=-140.10°\n",
      "CATA: 109.8°, TGT HDG:90.0°, HCA: -160.0°\n",
      "Warning: Maximum iterations reached, the intercept trajectory may not be accurate.\n",
      "init_turn=250.00°, total_time=439.17s, CATA=104.35°, error=-145.65°\n",
      "CATA: 109.5°, TGT HDG:90.0°, HCA: -165.0°\n",
      "Warning: Maximum iterations reached, the intercept trajectory may not be accurate.\n",
      "init_turn=255.00°, total_time=451.90s, CATA=103.84°, error=-151.16°\n",
      "CATA: 109.1°, TGT HDG:90.0°, HCA: -170.0°\n",
      "Warning: Maximum iterations reached, the intercept trajectory may not be accurate.\n",
      "init_turn=260.00°, total_time=465.04s, CATA=103.37°, error=-156.63°\n",
      "CATA: 108.8°, TGT HDG:90.0°, HCA: -175.0°\n",
      "Warning: Maximum iterations reached, the intercept trajectory may not be accurate.\n",
      "init_turn=265.00°, total_time=478.52s, CATA=102.94°, error=-162.06°\n",
      "CATA: 108.5°, TGT HDG:90.0°, HCA: -180.0°\n",
      "Warning: Maximum iterations reached, the intercept trajectory may not be accurate.\n",
      "init_turn=270.00°, total_time=492.28s, CATA=102.54°, error=-167.46°\n",
      "CATA: 108.2°, TGT HDG:90.0°, HCA: -185.0°\n",
      "Warning: Maximum iterations reached, the intercept trajectory may not be accurate.\n",
      "init_turn=275.00°, total_time=506.25s, CATA=102.18°, error=-172.82°\n",
      "CATA: 107.9°, TGT HDG:90.0°, HCA: -190.0°\n",
      "Warning: Maximum iterations reached, the intercept trajectory may not be accurate.\n",
      "init_turn=280.00°, total_time=520.36s, CATA=101.85°, error=-178.15°\n",
      "CATA: 107.7°, TGT HDG:90.0°, HCA: -195.0°\n",
      "Warning: Maximum iterations reached, the intercept trajectory may not be accurate.\n",
      "init_turn=285.00°, total_time=534.54s, CATA=101.56°, error=176.56°\n",
      "CATA: 107.4°, TGT HDG:90.0°, HCA: -200.0°\n",
      "Warning: Maximum iterations reached, the intercept trajectory may not be accurate.\n",
      "init_turn=290.00°, total_time=548.74s, CATA=101.30°, error=171.30°\n",
      "CATA: 107.2°, TGT HDG:90.0°, HCA: -205.0°\n",
      "Warning: Maximum iterations reached, the intercept trajectory may not be accurate.\n",
      "init_turn=295.00°, total_time=562.87s, CATA=101.07°, error=166.07°\n",
      "CATA: 107.0°, TGT HDG:90.0°, HCA: -210.0°\n",
      "Warning: Maximum iterations reached, the intercept trajectory may not be accurate.\n",
      "init_turn=300.00°, total_time=576.89s, CATA=100.87°, error=160.87°\n",
      "CATA: 106.8°, TGT HDG:90.0°, HCA: -215.0°\n",
      "Warning: Maximum iterations reached, the intercept trajectory may not be accurate.\n",
      "init_turn=305.00°, total_time=590.72s, CATA=100.70°, error=155.70°\n",
      "CATA: 106.6°, TGT HDG:90.0°, HCA: -220.0°\n",
      "Warning: Maximum iterations reached, the intercept trajectory may not be accurate.\n",
      "init_turn=310.00°, total_time=604.30s, CATA=100.56°, error=150.56°\n",
      "CATA: 106.5°, TGT HDG:90.0°, HCA: -225.0°\n",
      "Warning: Maximum iterations reached, the intercept trajectory may not be accurate.\n",
      "init_turn=315.00°, total_time=617.60s, CATA=100.44°, error=145.44°\n",
      "CATA: 106.3°, TGT HDG:90.0°, HCA: -230.0°\n",
      "Warning: Maximum iterations reached, the intercept trajectory may not be accurate.\n",
      "init_turn=320.00°, total_time=630.54s, CATA=100.34°, error=140.34°\n",
      "CATA: 106.2°, TGT HDG:90.0°, HCA: -235.0°\n",
      "Warning: Maximum iterations reached, the intercept trajectory may not be accurate.\n",
      "init_turn=325.00°, total_time=643.09s, CATA=100.27°, error=135.27°\n",
      "CATA: 106.1°, TGT HDG:90.0°, HCA: -240.0°\n",
      "Warning: Maximum iterations reached, the intercept trajectory may not be accurate.\n",
      "init_turn=330.00°, total_time=655.20s, CATA=100.21°, error=130.21°\n",
      "CATA: 106.0°, TGT HDG:90.0°, HCA: -245.0°\n",
      "Warning: Maximum iterations reached, the intercept trajectory may not be accurate.\n",
      "init_turn=335.00°, total_time=666.83s, CATA=100.18°, error=125.18°\n",
      "CATA: 105.9°, TGT HDG:90.0°, HCA: -250.0°\n",
      "Warning: Maximum iterations reached, the intercept trajectory may not be accurate.\n",
      "init_turn=340.00°, total_time=677.94s, CATA=100.16°, error=120.16°\n",
      "CATA: 105.9°, TGT HDG:90.0°, HCA: -255.0°\n",
      "Warning: Maximum iterations reached, the intercept trajectory may not be accurate.\n",
      "init_turn=345.00°, total_time=688.51s, CATA=100.15°, error=115.15°\n",
      "CATA: 105.8°, TGT HDG:90.0°, HCA: -260.0°\n",
      "Warning: Maximum iterations reached, the intercept trajectory may not be accurate.\n",
      "init_turn=350.00°, total_time=698.51s, CATA=100.16°, error=110.16°\n",
      "🔍 Best coarse result: init_turn=115.00°, total_time=311.44s\n",
      "CATA: 116.2°, TGT HDG:90.0°, HCA: -23.8°\n",
      "Warning: Maximum iterations reached, the intercept trajectory may not be accurate.\n",
      "init_turn=113.82°, total_time=310.08s, CATA=116.36°, error=2.54°\n",
      "CATA: 116.2°, TGT HDG:90.0°, HCA: -26.2°\n",
      "Warning: Maximum iterations reached, the intercept trajectory may not be accurate.\n",
      "init_turn=116.18°, total_time=310.08s, CATA=116.36°, error=0.18°\n",
      "CATA: 116.2°, TGT HDG:90.0°, HCA: -27.6°\n",
      "Warning: Maximum iterations reached, the intercept trajectory may not be accurate.\n",
      "init_turn=117.64°, total_time=310.08s, CATA=116.36°, error=-1.28°\n",
      "CATA: 116.2°, TGT HDG:90.0°, HCA: -26.1°\n",
      "Warning: Maximum iterations reached, the intercept trajectory may not be accurate.\n",
      "init_turn=116.09°, total_time=310.08s, CATA=116.36°, error=0.27°\n",
      "CATA: 116.2°, TGT HDG:90.0°, HCA: -26.6°\n",
      "Warning: Maximum iterations reached, the intercept trajectory may not be accurate.\n",
      "init_turn=116.58°, total_time=310.08s, CATA=116.36°, error=-0.22°\n",
      "CATA: 116.2°, TGT HDG:90.0°, HCA: -26.3°\n",
      "init_turn=116.33°, total_time=310.08s, CATA=116.36°, error=0.03°\n",
      "CATA: 116.2°, TGT HDG:90.0°, HCA: -26.4°\n",
      "init_turn=116.37°, total_time=310.08s, CATA=116.36°, error=-0.01°\n",
      "CATA: 116.2°, TGT HDG:90.0°, HCA: -26.4°\n",
      "init_turn=116.45°, total_time=310.08s, CATA=116.36°, error=-0.09°\n",
      "CATA: 116.2°, TGT HDG:90.0°, HCA: -26.4°\n",
      "init_turn=116.40°, total_time=310.08s, CATA=116.36°, error=-0.04°\n",
      "Result: message: Solution found.\n",
      " success: True\n",
      "  status: 0\n",
      "     fun: 310.0894833766878\n",
      "       x: 116.36788626717251\n",
      "     nit: 9\n",
      "    nfev: 9\n",
      "CATA: 116.36°, error: -0.01°\n",
      "✅ Refined result: init_turn=116.37°, total_time=310.0895s\n",
      "TGT hdg:90.0°\tFighter hdg:0.0°\tHCA:-26.4°\tCATA:116.4°\tHorinzontal error:23 m\tHdg error:0.0°\tTime:310 s\n"
     ]
    }
   ],
   "source": [
    "#Debug and display\n",
    "\n",
    "Test=False\n",
    "iteration=100\n",
    "\n",
    "coord_tgt_init.yaw=90\n",
    "coord_f_init.yaw=0\n",
    "# coord_tgt_init.yaw=352.89 #close but not optimum solution\n",
    "# coord_f_init.yaw=222.02\n",
    "\n",
    "\n",
    "if Test:\n",
    "    worst_error=0\n",
    "    wc_tgt_hdg=0\n",
    "    wc_f_hdg=0\n",
    "    for i in range(iteration):\n",
    "        debug=False\n",
    "        tolerance=10\n",
    "        # coord_tgt_init.yaw=9.2+5*np.random.rand()\n",
    "        # coord_f_init.yaw=17.2+np.random.rand()\n",
    "        coord_tgt_init.yaw=np.random.rand()*360\n",
    "        coord_f_init.yaw=np.random.rand()*360\n",
    "        res,times, CATA,total_time = two_stage_turn_optimizer(coord_tgt_init, coord_f_init, TAS_tgt, TAS_f, load_factor_f,tolerance,debug)\n",
    "        # plot_total_time_vs_angle(times, refined_result=res)\n",
    "\n",
    "        # plot_trajectories(time_vec, coord_tgt_traj, coord_f_traj)\n",
    "        time_vec, coord_tgt_traj, coord_f_traj,coord_coll,coord_TIP,coord_f_1,coord_f_2 = get_trajectories(coord_tgt_init, coord_f_init, TAS_tgt, TAS_f, load_factor_f, res.x)\n",
    "\n",
    "        dist_tgt=TAS_tgt*cst.KT_TO_MS*total_time  # Distance traveled by the target in meters\n",
    "        distance_tgt_2d= geo.distance3D(coord_tgt_traj[0].lat,coord_tgt_traj[0].lon,coord_tgt_traj[0].alt, coord_tgt_traj[-1].lat,coord_tgt_traj[-1].lon,coord_tgt_traj[-1].alt)  # 2D distance to the intercept point\n",
    "        HCA=geo.normalize_angle(coord_tgt_init.yaw-coord_f_2.yaw)  # Calculate the Heading Crossing Angle (HCA)\n",
    "        dist_f_0_1=abs(res.x) * np.pi/180*turn_radius_f \n",
    "        dist_f_1_2=geo.distance3D(coord_f_1.lat,coord_f_1.lon,coord_f_1.alt,coord_f_2.lat,coord_f_2.lon,coord_f_2.alt)\n",
    "        dist_f_2_3 = abs(HCA)* np.pi/180*turn_radius_f # Distance traveled by the fighter in meters\n",
    "        dist_f=TAS_f*cst.KT_TO_MS*total_time\n",
    "        dist_f_tot= dist_f_0_1 + dist_f_1_2 + dist_f_2_3  # Total distance traveled by the fighter in meters\n",
    "        # print(f\"Total time: {total_time:.2f} s, CATA: {CATA:.2f}°, init_turn: {res.x:.2f}°, distance_tgt time: {dist_tgt:.2f} m, distance_tgt_traj: {distance_tgt_2d:.2f} m, distance_f time: {dist_f:.2f} m, distance_f_traj: {distance_f_traj:.2f} m\")\n",
    "        # print(f\"Total time: {total_time:.2f} s, distance_f_0_1: {dist_f_0_1:.2f} m, distance_f_1_2: {dist_f_1_2:.2f} m, distance_f_2_3: {dist_f_2_3:.2f} m, distance_f_tot: {dist_f_tot:.2f} m\")\n",
    "        # print(f\"Distance f time: {dist_f:.2f} m \")\n",
    "        # print(f\"HCA:{HCA:.2f}°\")\n",
    "        times_key=[t for t in time_vec if not float(t).is_integer()]\n",
    "        # print(times_key)\n",
    "        coord_tgt_1=geo.straight_line(coord_tgt_init, TAS_tgt, times_key[0])\n",
    "        coord_tgt_2= geo.straight_line(coord_tgt_init, TAS_tgt, times_key[1])  # Extend the target trajectory to the end of the trajectory\n",
    "        coord_TIP_2=geo.get_TIP(coord_tgt_2,TAS_tgt,TAS_f,load_factor_f,HCA)\n",
    "        coord_TIPs=geo.get_TIPs(coord_tgt_2,TAS_tgt,TAS_f,load_factor_f)\n",
    "\n",
    "        error_2D=geo.distance2D(coord_f_traj[-1].lat,coord_f_traj[-1].lon,coord_tgt_traj[-1].lat,coord_tgt_traj[-1].lon)\n",
    "        error_HDG=geo.normalize_angle(coord_f_traj[-1].yaw-coord_tgt_traj[-1].yaw)\n",
    "        print(f\"TGT hdg:{coord_tgt_init.yaw:.1f}°\\tFighter hdg:{coord_f_init.yaw:.1f}°\\tHCA:{HCA:.1f}°\\tCATA:{CATA:.1f}°\\tHorinzontal error:{error_2D:.0f} m\\tHdg error:{error_HDG:.1f}°\\tTime:{total_time:.0f} s\")\n",
    "        if error_2D>worst_error:\n",
    "            worst_error=error_2D\n",
    "            wc_tgt_hdg=coord_tgt_init.yaw\n",
    "            wc_f_hdg=coord_f_init.yaw\n",
    "    print(f\"❌ Worst case:\")\n",
    "    print(f\"Error: {worst_error:.0f} m\\ttgt HDG: {wc_tgt_hdg:.2f}°\\tfighter HDG: {wc_f_hdg:.2f}°\")\n",
    "\n",
    "else:\n",
    "    debug=True\n",
    "    tolerance=5\n",
    "    res,times, CATA,total_time = two_stage_turn_optimizer(coord_tgt_init, coord_f_init, TAS_tgt, TAS_f, load_factor_f,tolerance,debug)\n",
    "    # plot_total_time_vs_angle(times, refined_result=res)\n",
    "\n",
    "    # plot_trajectories(time_vec, coord_tgt_traj, coord_f_traj)\n",
    "    time_vec, coord_tgt_traj, coord_f_traj,coord_coll,coord_TIP,coord_f_1,coord_f_2 = get_trajectories(coord_tgt_init, coord_f_init, TAS_tgt, TAS_f, load_factor_f, res.x)\n",
    "\n",
    "    dist_tgt=TAS_tgt*cst.KT_TO_MS*total_time  # Distance traveled by the target in meters\n",
    "    distance_tgt_2d= geo.distance3D(coord_tgt_traj[0].lat,coord_tgt_traj[0].lon,coord_tgt_traj[0].alt, coord_tgt_traj[-1].lat,coord_tgt_traj[-1].lon,coord_tgt_traj[-1].alt)  # 2D distance to the intercept point\n",
    "\n",
    "    times_key=[t for t in time_vec if not float(t).is_integer()]\n",
    "    coord_tgt_1=geo.straight_line(coord_tgt_init, TAS_tgt, times_key[0])\n",
    "    coord_tgt_2= geo.straight_line(coord_tgt_init, TAS_tgt, times_key[1])  # Extend the target trajectory to the end of the trajectory\n",
    "\n",
    "    HCA=geo.get_HCA(coord_f_2,coord_tgt_2)\n",
    "    coord_TIP_2=geo.get_TIP(coord_tgt_2,TAS_tgt,TAS_f,load_factor_f,HCA)\n",
    "    coord_TIPs=geo.get_TIPs(coord_tgt_2,TAS_tgt,TAS_f,load_factor_f)\n",
    "    # HCA=geo.normalize_angle(coord_tgt_init.yaw-coord_f_2.yaw)  # Calculate the Heading Crossing Angle (HCA)\n",
    "    dist_f_0_1=abs(res.x) * np.pi/180*turn_radius_f \n",
    "    dist_f_1_2=geo.distance3D(coord_f_1.lat,coord_f_1.lon,coord_f_1.alt,coord_f_2.lat,coord_f_2.lon,coord_f_2.alt)\n",
    "    dist_f_2_3 = abs(HCA)* np.pi/180*turn_radius_f # Distance traveled by the fighter in meters\n",
    "    dist_f=TAS_f*cst.KT_TO_MS*total_time\n",
    "    dist_f_tot= dist_f_0_1 + dist_f_1_2 + dist_f_2_3  # Total distance traveled by the fighter in meters\n",
    "    # print(f\"Total time: {total_time:.2f} s, CATA: {CATA:.2f}°, init_turn: {res.x:.2f}°, distance_tgt time: {dist_tgt:.2f} m, distance_tgt_traj: {distance_tgt_2d:.2f} m, distance_f time: {dist_f:.2f} m, distance_f_traj: {distance_f_traj:.2f} m\")\n",
    "    # print(f\"Total time: {total_time:.2f} s, distance_f_0_1: {dist_f_0_1:.2f} m, distance_f_1_2: {dist_f_1_2:.2f} m, distance_f_2_3: {dist_f_2_3:.2f} m, distance_f_tot: {dist_f_tot:.2f} m\")\n",
    "    # print(f\"Distance f time: {dist_f:.2f} m \")\n",
    "    # print(f\"HCA:{HCA:.2f}°\")\n",
    "    # print(times_key)\n",
    "\n",
    "\n",
    "    error_2D=geo.distance2D(coord_f_traj[-1].lat,coord_f_traj[-1].lon,coord_tgt_traj[-1].lat,coord_tgt_traj[-1].lon)\n",
    "    error_HDG=geo.normalize_angle(coord_f_traj[-1].yaw-coord_tgt_traj[-1].yaw)\n",
    "    print(f\"TGT hdg:{coord_tgt_init.yaw:.1f}°\\tFighter hdg:{coord_f_init.yaw:.1f}°\\tHCA:{HCA:.1f}°\\tCATA:{CATA:.1f}°\\tHorinzontal error:{error_2D:.0f} m\\tHdg error:{error_HDG:.1f}°\\tTime:{total_time:.0f} s\")\n"
   ]
  },
  {
   "cell_type": "code",
   "execution_count": 4,
   "id": "94483fea",
   "metadata": {},
   "outputs": [
    {
     "data": {
      "application/vnd.plotly.v1+json": {
       "config": {
        "plotlyServerURL": "https://plot.ly"
       },
       "data": [
        {
         "lat": [
          34.71647,
          34.71647,
          34.716469979310034,
          34.71646991724013,
          34.71646981379029,
          34.71646966896049,
          34.71646948275077,
          34.716469255161115,
          34.716468986191536,
          34.71646867584202,
          34.71646832411258,
          34.71646793100322,
          34.716467496513935,
          34.71646702064476,
          34.71646650339565,
          34.716465944766654,
          34.71646534475775,
          34.71646470336898,
          34.71646402060031,
          34.71646329645178,
          34.71646253092336,
          34.71646236398603,
          34.7164617240151,
          34.716460875726995,
          34.71645998605903,
          34.71645905501124,
          34.716458082583635,
          34.716457068776215,
          34.716456013589,
          34.716454917022006,
          34.716453779075216,
          34.71645259974867,
          34.71645137904239,
          34.716450116956345,
          34.71644881349059,
          34.71644746864512,
          34.71644608241996,
          34.71644465481512,
          34.716443185830606,
          34.71644167546646,
          34.71644012372267,
          34.71643853059927,
          34.71643689609626,
          34.7164352202137,
          34.716433502951546,
          34.71643174430986,
          34.71642994428865,
          34.71642810288791,
          34.716426220107714,
          34.716424295948045,
          34.71642233040894,
          34.71642032349041,
          34.716418275192474,
          34.716416185515165,
          34.71641405445849,
          34.71641188202249,
          34.71640966820718,
          34.71640741301257,
          34.716405116438715,
          34.71640277848562,
          34.716400399153315,
          34.716397978441826,
          34.71639551635118,
          34.716393012881404,
          34.71639046803251,
          34.71638788180455,
          34.716385254197526,
          34.7163825852115,
          34.716379874846474,
          34.7163771231025,
          34.71637432997957,
          34.716371495477745,
          34.71636861959706,
          34.71636570233751,
          34.71636274369919,
          34.71635974368206,
          34.7163567022862,
          34.71635361951162,
          34.71635049535838,
          34.716347329826476,
          34.71634412291597,
          34.71634087462689,
          34.71633758495927,
          34.71633425391315,
          34.71633088148855,
          34.71632746768553,
          34.71632401250411,
          34.716320515944346,
          34.71631697800625,
          34.71631339868988,
          34.71630977799525,
          34.71630611592244,
          34.71630241247146,
          34.716298667642356,
          34.71629488143517,
          34.71629105384994,
          34.71628718488672,
          34.71628327454553,
          34.71627932282642,
          34.71627532972946,
          34.716271295254664,
          34.71626721940208,
          34.71626310217175,
          34.71625894356374,
          34.71625474357806,
          34.716250502214784,
          34.71624621947393,
          34.71624189535558,
          34.71623752985976,
          34.71623312298653,
          34.716228674735916,
          34.716224185107976,
          34.71621965410277,
          34.71621508172033,
          34.71621046796074,
          34.716205812823986,
          34.71620111631018,
          34.71619637841935,
          34.716191599151536,
          34.716186778506795,
          34.716181916485205,
          34.7161770130868,
          34.71617206831161,
          34.716167082159735,
          34.71616205463118,
          34.716156985726045,
          34.71615187544435,
          34.71614672378616,
          34.716141530751536,
          34.71613629634056,
          34.716131020553235,
          34.71612570338965,
          34.71612034484986,
          34.71611494493393,
          34.7161095036419,
          34.71610402097384,
          34.71609849692981,
          34.71609293150987,
          34.71608732471408,
          34.71608167654249,
          34.71607598699518,
          34.71607025607218,
          34.7160644837736,
          34.71605867009947,
          34.716052815049856,
          34.716046918624826,
          34.71604098082444,
          34.71603500164878,
          34.71602898109788,
          34.71602291917181,
          34.71601681587068,
          34.7160106711945,
          34.716004485143365,
          34.71599825771735,
          34.7159919889165,
          34.715985678740886,
          34.71597932719059,
          34.715972934265665,
          34.71596649996619,
          34.71596002429225,
          34.71595350724389,
          34.715946948821184,
          34.715940349024216,
          34.715933707853054,
          34.715927025307764,
          34.71592030138842,
          34.71591353609508,
          34.71590672942784,
          34.715899881386775,
          34.715892991971955,
          34.715886061183454,
          34.71587908902132,
          34.71587207548566,
          34.71586502057656,
          34.71585792429408,
          34.71585078663828,
          34.71584360760925,
          34.71583638720709,
          34.71582912543183,
          34.7158218222836,
          34.71581447776246,
          34.71580709186847,
          34.71579966460174,
          34.71579219596233,
          34.71578468595034,
          34.71577713456583,
          34.71576954180889,
          34.7157619076796,
          34.71575423217807,
          34.71574651530434,
          34.71573875705852,
          34.71573095744068,
          34.71572311645092,
          34.715715234089316,
          34.71570731035595,
          34.71569934525092,
          34.715691338774285,
          34.715683290926165,
          34.71567520170664,
          34.71566707111578,
          34.715658899153695,
          34.715650685820464,
          34.71564243111617,
          34.715634135040915,
          34.71562579759478,
          34.71561741877785,
          34.71560899859022,
          34.71560053703199,
          34.715592034103246,
          34.715583489804075,
          34.715574904134584,
          34.715566277094865,
          34.71555760868499,
          34.71554889890505,
          34.715540147755185,
          34.71553135523544,
          34.71552252134594,
          34.71551364608677,
          34.715504729458026,
          34.71549577145981,
          34.71548677209221,
          34.71547773135533,
          34.71546864924927,
          34.715459525774136,
          34.71545036093001,
          34.71544115471699,
          34.7154319071352,
          34.715422618184704,
          34.71541328786562,
          34.715403916178055,
          34.71539450312212,
          34.71538504869789,
          34.7153755529055,
          34.715366015745026,
          34.71535643721658,
          34.71534681732026,
          34.715337156056165,
          34.71532745342443,
          34.715317709425136,
          34.71530792405841,
          34.715298097324315,
          34.715288229222985,
          34.715278319754546,
          34.71526836891906,
          34.7152583767167,
          34.71524834314749,
          34.715238268211614,
          34.71522815190914,
          34.71521799424017,
          34.71520779520486,
          34.71519755480329,
          34.71518727303557,
          34.71517694990182,
          34.71516658540213,
          34.715156179536635,
          34.71514573230546,
          34.71513524370869,
          34.715124713746434,
          34.715114142418834,
          34.715103529726,
          34.715092875668034,
          34.71508218024505,
          34.71507144345718,
          34.71506066530451,
          34.715049845787206,
          34.715038984905334,
          34.71502808265905,
          34.71501713904845,
          34.71500615407367,
          34.71499512773481,
          34.714984060031995,
          34.71497295096535,
          34.714961800535,
          34.71495060874104,
          34.71493937558363,
          34.71492810106285,
          34.714916785178886,
          34.714905427931775,
          34.71489402932172,
          34.7148825893488,
          34.71487110801313,
          34.71485958531485,
          34.7148480212541,
          34.71483641583099,
          34.71482476904565,
          34.7148130808982,
          34.714801351388786,
          34.71478958051751,
          34.714777768284506,
          34.714765914689906,
          34.71475401973384,
          34.714742083416425,
          34.71473010573782,
          34.714718086698134,
          34.71470602629749,
          34.714693924536036,
          34.71468178141389,
          34.71466959693118,
          34.71465737108805,
          34.714645103884635,
          34.71463279532105,
          34.71462044539745,
          34.71460805411396,
          34.71459562147071,
          34.71458314746784,
          34.71457063210548,
          34.71455807538377,
          34.71454547730285,
          34.71453627898263,
          34.71453283786284,
          34.714520157063895,
          34.71450743490615,
          34.71449467138973,
          34.71448186651479,
          34.71448082569275
         ],
         "line": {
          "color": "orange",
          "width": 1
         },
         "lon": [
          -117.8007,
          -117.80070000000002,
          -117.79845463708797,
          -117.79620927418284,
          -117.79396391129151,
          -117.79171854842083,
          -117.78947318557776,
          -117.78722782276917,
          -117.78498246000197,
          -117.78273709728305,
          -117.78049173461929,
          -117.7782463720176,
          -117.77600100948489,
          -117.77375564702804,
          -117.77151028465394,
          -117.7692649223695,
          -117.76701956018162,
          -117.76477419809721,
          -117.76252883612312,
          -117.76028347426627,
          -117.75803811253358,
          -117.75756399061524,
          -117.75579275093192,
          -117.75354738946821,
          -117.75130202814933,
          -117.74905666698216,
          -117.74681130597362,
          -117.74456594513059,
          -117.74232058445999,
          -117.74007522396873,
          -117.73782986366363,
          -117.7355845035517,
          -117.73333914363972,
          -117.73109378393467,
          -117.72884842444343,
          -117.72660306517285,
          -117.7243577061299,
          -117.72211234732141,
          -117.7198669887543,
          -117.71762163043552,
          -117.71537627237188,
          -117.71313091457033,
          -117.71088555703771,
          -117.70864019978102,
          -117.70639484280704,
          -117.70414948612274,
          -117.70190412973503,
          -117.69965877365074,
          -117.69741341787683,
          -117.69516806242015,
          -117.69292270728761,
          -117.6906773524861,
          -117.68843199802258,
          -117.68618664390384,
          -117.68394129013686,
          -117.68169593672849,
          -117.67945058368568,
          -117.67720523101526,
          -117.67495987872415,
          -117.67271452681926,
          -117.6704691753075,
          -117.66822382419574,
          -117.66597847349087,
          -117.66373312319982,
          -117.66148777332944,
          -117.65924242388668,
          -117.65699707487842,
          -117.65475172631152,
          -117.65250637819291,
          -117.65026103052945,
          -117.6480156833281,
          -117.64577033659573,
          -117.64352499033922,
          -117.64127964456547,
          -117.63903429928138,
          -117.63678895449382,
          -117.63454361020976,
          -117.63229826643605,
          -117.63005292317958,
          -117.62780758044723,
          -117.62556223824593,
          -117.62331689658258,
          -117.62107155546406,
          -117.61882621489725,
          -117.61658087488907,
          -117.61433553544643,
          -117.6120901965762,
          -117.60984485828529,
          -117.60759952058058,
          -117.60535418346899,
          -117.60310884695737,
          -117.6008635110527,
          -117.5986181757618,
          -117.59637284109156,
          -117.59412750704897,
          -117.59188217364083,
          -117.58963684087405,
          -117.58739150875557,
          -117.58514617729227,
          -117.58290084649101,
          -117.58065551635876,
          -117.57841018690236,
          -117.5761648581287,
          -117.57391953004469,
          -117.57167420265725,
          -117.56942887597324,
          -117.56718354999958,
          -117.56493822474316,
          -117.56269290021086,
          -117.56044757640959,
          -117.55820225334628,
          -117.55595693102775,
          -117.55371160946095,
          -117.55146628865278,
          -117.5492209686101,
          -117.54697564933984,
          -117.54473033084888,
          -117.5424850131441,
          -117.54023969623245,
          -117.53799438012076,
          -117.53574906481596,
          -117.53350375032497,
          -117.53125843665461,
          -117.52901312381185,
          -117.52676781180357,
          -117.52452250063665,
          -117.52227719031796,
          -117.52003188085446,
          -117.517786572253,
          -117.51554126452046,
          -117.51329595766381,
          -117.51105065168987,
          -117.50880534660558,
          -117.50656004241782,
          -117.50431473913348,
          -117.50206943675947,
          -117.49982413530266,
          -117.49757883477,
          -117.49533353516831,
          -117.49308823650453,
          -117.49084293878556,
          -117.48859764201829,
          -117.48635234620961,
          -117.48410705136642,
          -117.48186175749561,
          -117.47961646460406,
          -117.47737117269868,
          -117.4751258817864,
          -117.47288059187406,
          -117.47063530296859,
          -117.46839001507686,
          -117.46614472820582,
          -117.46389944236228,
          -117.4616541575532,
          -117.45940887378543,
          -117.45716359106594,
          -117.45491830940153,
          -117.4526730287992,
          -117.45042774926574,
          -117.4481824708081,
          -117.44593719343318,
          -117.44369191714785,
          -117.441446641959,
          -117.43920136787357,
          -117.43695609489843,
          -117.43471082304045,
          -117.43246555230658,
          -117.43022028270366,
          -117.42797501423861,
          -117.42572974691834,
          -117.4234844807497,
          -117.42123921573963,
          -117.41899395189502,
          -117.41674868922273,
          -117.41450342772968,
          -117.41225816742279,
          -117.41001290830891,
          -117.40776765039496,
          -117.40552239368782,
          -117.40327713819437,
          -117.40103188392155,
          -117.39878663087623,
          -117.39654137906531,
          -117.39429612849567,
          -117.39205087917423,
          -117.38980563110786,
          -117.38756038430347,
          -117.38531513876795,
          -117.38306989450821,
          -117.38082465153111,
          -117.37857940984355,
          -117.37633416945246,
          -117.37408893036469,
          -117.37184369258719,
          -117.3695984561268,
          -117.36735322099045,
          -117.36510798718501,
          -117.36286275471738,
          -117.36061752359446,
          -117.35837229382315,
          -117.35612706541033,
          -117.3538818383629,
          -117.35163661268777,
          -117.34939138839182,
          -117.34714616548192,
          -117.344900943965,
          -117.34265572384795,
          -117.34041050513765,
          -117.33816528784101,
          -117.3359200719649,
          -117.33367485751624,
          -117.33142964450191,
          -117.32918443292881,
          -117.32693922280384,
          -117.32469401413387,
          -117.32244880692582,
          -117.32020360118656,
          -117.31795839692299,
          -117.31571319414202,
          -117.31346799285055,
          -117.31122279305546,
          -117.3089775947636,
          -117.30673239798195,
          -117.30448720271735,
          -117.30224200897669,
          -117.29999681676686,
          -117.29775162609481,
          -117.29550643696737,
          -117.29326124939143,
          -117.29101606337396,
          -117.28877087892178,
          -117.28652569604183,
          -117.28428051474096,
          -117.28203533502608,
          -117.27979015690411,
          -117.2775449803819,
          -117.27529980546636,
          -117.2730546321644,
          -117.2708094604829,
          -117.26856429042874,
          -117.26631912200885,
          -117.26407395523009,
          -117.26182879009939,
          -117.25958362662358,
          -117.25733846480959,
          -117.25509330466434,
          -117.25284814619468,
          -117.25060298940751,
          -117.24835783430974,
          -117.24611268090827,
          -117.24386752920995,
          -117.24162237922172,
          -117.23937723095045,
          -117.23713208440303,
          -117.23488693958635,
          -117.23264179650732,
          -117.23039665517284,
          -117.22815151558977,
          -117.22590637776501,
          -117.2236612417055,
          -117.22141610741805,
          -117.21917097490964,
          -117.21692584418709,
          -117.21468071525733,
          -117.21243558812725,
          -117.21019046280374,
          -117.20794533929366,
          -117.20570021760396,
          -117.20345509774151,
          -117.20120997971318,
          -117.19896486352587,
          -117.19671974918651,
          -117.19447463670195,
          -117.19222952607909,
          -117.18998441732482,
          -117.18773931044606,
          -117.18549420544967,
          -117.18324910234256,
          -117.18100400113158,
          -117.1787589018237,
          -117.17651380442575,
          -117.17426870894464,
          -117.17202361538727,
          -117.16977852376051,
          -117.16753343407129,
          -117.16528834632649,
          -117.16304326053296,
          -117.16079817669761,
          -117.15855309482737,
          -117.15630801492908,
          -117.15406293700967,
          -117.15181786107603,
          -117.14957278713503,
          -117.14732771519355,
          -117.14508264525853,
          -117.14283757733685,
          -117.14059251143534,
          -117.13834744756096,
          -117.13610238572058,
          -117.13385732592106,
          -117.13161226816933,
          -117.12936721247227,
          -117.12712215883678,
          -117.12487710726977,
          -117.12263205777808,
          -117.1203870103686,
          -117.11814196504827,
          -117.11589692182395,
          -117.1142623714492,
          -117.11365188070253,
          -117.11140684169092,
          -117.10916180479602,
          -117.10691677002467,
          -117.10467173738378,
          -117.10448957195615
         ],
         "marker": {
          "color": "orange",
          "size": 5
         },
         "mode": "lines+markers",
         "name": "Target",
         "type": "scattermap"
        },
        {
         "lat": [
          35,
          35.00235939494882,
          35.00469244194315,
          35.00697308616562,
          35.0091758559107,
          35.01127614724691,
          35.013250499069244,
          35.0150768554565,
          35.016734812386844,
          35.01820584603748,
          35.01947352009842,
          35.02052366976467,
          35.0213445603314,
          35.02192701860261,
          35.02226453562871,
          35.022353339612515,
          35.02219243815907,
          35.02178362939206,
          35.02113148181069,
          35.02024328311521,
          35.02002643791915,
          35.018976573887514,
          35.017926655071996,
          35.01687668147966,
          35.01582665311755,
          35.01477656999271,
          35.01372643211224,
          35.01267623948316,
          35.01162599211258,
          35.0105756900075,
          35.00952533317504,
          35.008474921622216,
          35.007424455356144,
          35.00637393438382,
          35.00532335871237,
          35.004272728348845,
          35.003222043300276,
          35.00217130357379,
          35.00112050917641,
          35.00006966011522,
          34.99901875639728,
          34.99796779802967,
          34.99691678501946,
          34.99586571737371,
          34.994814595099506,
          34.99376341820392,
          34.992712186694035,
          34.99166090057688,
          34.990609559859585,
          34.9895581645492,
          34.988506714652786,
          34.987455210177444,
          34.98640365113024,
          34.98535203751825,
          34.984300369348574,
          34.983248646628276,
          34.982196869364415,
          34.981145037564104,
          34.98009315123442,
          34.97904121038243,
          34.97798921501521,
          34.97693716513987,
          34.97588506076348,
          34.97483290189312,
          34.97378068853589,
          34.97272842069886,
          34.97167609838913,
          34.970623721613784,
          34.969571290379896,
          34.968518804694575,
          34.967466264564905,
          34.966413669997955,
          34.96536102100085,
          34.96430831758066,
          34.963255559744475,
          34.9622027474994,
          34.961149880852524,
          34.960096959810926,
          34.959043984381736,
          34.95799095457202,
          34.95693787038886,
          34.955884731839404,
          34.954831538930705,
          34.95377829166988,
          34.95272499006402,
          34.951671634120224,
          34.9506182238456,
          34.949564759247245,
          34.948511240332245,
          34.94745766710774,
          34.9464040395808,
          34.94535035775854,
          34.944296621648064,
          34.94324283125646,
          34.942188986590864,
          34.94113508765835,
          34.94008113446605,
          34.93902712702105,
          34.93797306533048,
          34.93691894940144,
          34.93586477924104,
          34.93481055485637,
          34.93375627625456,
          34.93270194344273,
          34.93164755642798,
          34.930593115217405,
          34.92953861981816,
          34.928484070237324,
          34.927429466482025,
          34.926374808559366,
          34.92532009647648,
          34.92426533024047,
          34.92321050985847,
          34.92215563533758,
          34.921100706684925,
          34.920045723907634,
          34.91899068701281,
          34.91793559600759,
          34.91688045089908,
          34.915825251694386,
          34.91476999840067,
          34.91371469102505,
          34.91265932957463,
          34.911603914056535,
          34.9105484444779,
          34.90949292084585,
          34.90843734316749,
          34.907381711449986,
          34.90632602570043,
          34.90527028592599,
          34.90421449213373,
          34.90315864433085,
          34.90210274252444,
          34.90104678672165,
          34.89999077692959,
          34.89893471315542,
          34.89787859540623,
          34.8968224236892,
          34.89576619801146,
          34.8947099183801,
          34.893653584802294,
          34.89259719728517,
          34.89154075583588,
          34.890484260461534,
          34.88942771116928,
          34.88837110796625,
          34.88731445085961,
          34.88625773985646,
          34.885200974963986,
          34.88414415618928,
          34.88308728353955,
          34.88203035702186,
          34.880973376643404,
          34.87991634241131,
          34.87885925433273,
          34.877802112414805,
          34.87674491666467,
          34.87568766708951,
          34.87463036369642,
          34.87357300649258,
          34.87251559548514,
          34.871458130681226,
          34.870400612088,
          34.869343039712625,
          34.86828541356223,
          34.86722773364399,
          34.86616999996504,
          34.86511221253254,
          34.86405437135364,
          34.8629964764355,
          34.86193852778526,
          34.86088052541009,
          34.859822469317145,
          34.85876435951359,
          34.85770619600655,
          34.85664797880322,
          34.855589707910745,
          34.85453138333627,
          34.85347300508698,
          34.85241457317002,
          34.85135608759255,
          34.850297548361745,
          34.84923895548476,
          34.84818030896875,
          34.847121608820885,
          34.846062855048345,
          34.84500404765827,
          34.843945186657834,
          34.842886272054216,
          34.841827303854565,
          34.840768282066065,
          34.83970920669587,
          34.83865007775117,
          34.8375908952391,
          34.83653165916689,
          34.83547236954163,
          34.83441302637054,
          34.83335362966079,
          34.83229417941956,
          34.831234675654,
          34.83017511837129,
          34.82911550757863,
          34.828055843283174,
          34.82699612549209,
          34.82593635421256,
          34.82487652945178,
          34.8238166512169,
          34.82275671951512,
          34.821696734353615,
          34.82063669573956,
          34.81957660368013,
          34.81851645818253,
          34.81745625925391,
          34.81639600690147,
          34.8153357011324,
          34.814275341953866,
          34.81321492937305,
          34.81215446339716,
          34.811093944033374,
          34.810033371288874,
          34.808972745170834,
          34.80791206568645,
          34.806851332842925,
          34.80579054664744,
          34.80472970710717,
          34.80366881422932,
          34.80260786802107,
          34.80154686848962,
          34.800485815642176,
          34.79942470948588,
          34.798363550028,
          34.79730233727567,
          34.796241071236096,
          34.79517975191649,
          34.79411837932403,
          34.79305695346593,
          34.791995474349385,
          34.790933941981564,
          34.78987235636969,
          34.78881071752095,
          34.787749025442594,
          34.786687280141734,
          34.78562548162563,
          34.78456362990146,
          34.78350172497645,
          34.78243976685779,
          34.78137775555268,
          34.78031569106832,
          34.77925357341192,
          34.778191402590686,
          34.777129178611816,
          34.77606690148252,
          34.77500457121003,
          34.77394218780152,
          34.77287975126421,
          34.7718172616053,
          34.77075471883202,
          34.76969212295157,
          34.768629473971146,
          34.767566771897975,
          34.76650401673927,
          34.765441208502246,
          34.764378347194096,
          34.76331543282205,
          34.762252465393324,
          34.761189444915146,
          34.7601263713947,
          34.759063244839226,
          34.758000065255914,
          34.75693683265201,
          34.75587354703473,
          34.754810208411264,
          34.75374681678887,
          34.75268337217476,
          34.75161987457613,
          34.75055632400023,
          34.74949272045426,
          34.74842906394545,
          34.74736535448103,
          34.7463015920682,
          34.74523777671423,
          34.74417390842631,
          34.74310998721168,
          34.74204601307754,
          34.74098198603115,
          34.73991790607973,
          34.73885377323048,
          34.73778958749067,
          34.73672534886751,
          34.735661057368226,
          34.73459671300005,
          34.733532315770226,
          34.73246786568597,
          34.73140336275451,
          34.73033880698311,
          34.72927419837899,
          34.728209536949365,
          34.727144822701476,
          34.72608005564257,
          34.725015235779885,
          34.72395036312064,
          34.72288543767211,
          34.72182045944148,
          34.72075542843604,
          34.71969034466298,
          34.71862520812958,
          34.71756001884306,
          34.7170093856063,
          34.7160732742946,
          34.715371257256564,
          34.714911167500674,
          34.71469813853682,
          34.71468246793942
         ],
         "line": {
          "color": "blue",
          "width": 1
         },
         "lon": [
          -117.8907,
          -117.89054828733393,
          -117.8900948262281,
          -117.88934465543095,
          -117.88830612909472,
          -117.8869908244929,
          -117.88541341360289,
          -117.8835914999487,
          -117.88154542249643,
          -117.87929802877055,
          -117.8768744197148,
          -117.87430166914709,
          -117.8716085209525,
          -117.86882506741779,
          -117.86598241233028,
          -117.86311232264245,
          -117.86024687263767,
          -117.85741808461995,
          -117.85465757019169,
          -117.8519961761767,
          -117.85144970842423,
          -117.84887530728189,
          -117.84630097195908,
          -117.84372670246371,
          -117.84115249880364,
          -117.83857836098672,
          -117.83600428902085,
          -117.83343028291382,
          -117.83085634267357,
          -117.82828246830792,
          -117.82570865982474,
          -117.8231349172319,
          -117.82056124053722,
          -117.81798762974859,
          -117.81541408487385,
          -117.81284060592084,
          -117.81026719289743,
          -117.80769384581146,
          -117.80512056467079,
          -117.80254734948323,
          -117.79997420025666,
          -117.79740111699893,
          -117.79482809971783,
          -117.79225514842126,
          -117.78968226311703,
          -117.78710944381297,
          -117.78453669051692,
          -117.78196400323674,
          -117.77939138198023,
          -117.77681882675523,
          -117.77424633756956,
          -117.77167391443108,
          -117.76910155734758,
          -117.76652926632691,
          -117.76395704137691,
          -117.76138488250538,
          -117.75881278972011,
          -117.75624076302896,
          -117.75366880243975,
          -117.75109690796029,
          -117.74852507959837,
          -117.74595331736184,
          -117.74338162125848,
          -117.74080999129612,
          -117.73823842748256,
          -117.73566692982561,
          -117.7330954983331,
          -117.73052413301279,
          -117.72795283387254,
          -117.72538160092009,
          -117.72281043416329,
          -117.72023933360991,
          -117.71766829926777,
          -117.71509733114463,
          -117.71252642924831,
          -117.70995559358663,
          -117.70738482416733,
          -117.70481412099821,
          -117.70224348408709,
          -117.69967291344173,
          -117.69710240906991,
          -117.69453197097944,
          -117.6919615991781,
          -117.68939129367365,
          -117.6868210544739,
          -117.68425088158659,
          -117.68168077501953,
          -117.67911073478047,
          -117.67654076087719,
          -117.67397085331748,
          -117.67140101210911,
          -117.66883123725982,
          -117.66626152877743,
          -117.66369188666967,
          -117.66112231094428,
          -117.65855280160908,
          -117.65598335867179,
          -117.6534139821402,
          -117.65084467202203,
          -117.64827542832508,
          -117.64570625105709,
          -117.64313714022582,
          -117.64056809583901,
          -117.63799911790441,
          -117.63543020642982,
          -117.63286136142291,
          -117.63029258289147,
          -117.62772387084327,
          -117.62515522528601,
          -117.62258664622745,
          -117.62001813367533,
          -117.6174496876374,
          -117.6148813081214,
          -117.61231299513504,
          -117.60974474868608,
          -117.60717656878225,
          -117.6046084554313,
          -117.60204040864092,
          -117.59947242841886,
          -117.59690451477286,
          -117.59433666771065,
          -117.59176888723994,
          -117.58920117336845,
          -117.58663352610391,
          -117.58406594545406,
          -117.58149843142658,
          -117.5789309840292,
          -117.57636360326966,
          -117.57379628915567,
          -117.57122904169495,
          -117.56866186089515,
          -117.56609474676405,
          -117.56352769930936,
          -117.56096071853875,
          -117.55839380445993,
          -117.55582695708063,
          -117.55326017640853,
          -117.55069346245133,
          -117.54812681521676,
          -117.54556023471251,
          -117.54299372094624,
          -117.5404272739257,
          -117.53786089365855,
          -117.5352945801525,
          -117.53272833341522,
          -117.53016215345443,
          -117.52759604027781,
          -117.52502999389301,
          -117.52246401430776,
          -117.51989810152973,
          -117.5173322555666,
          -117.51476647642609,
          -117.5122007641158,
          -117.50963511864347,
          -117.50706954001674,
          -117.50450402824335,
          -117.50193858333088,
          -117.49937320528707,
          -117.49680789411958,
          -117.49424264983607,
          -117.49167747244421,
          -117.48911236195167,
          -117.48654731836609,
          -117.4839823416952,
          -117.48141743194658,
          -117.47885258912794,
          -117.47628781324694,
          -117.4737231043112,
          -117.47115846232843,
          -117.46859388730624,
          -117.4660293792523,
          -117.46346493817427,
          -117.4609005640798,
          -117.45833625697651,
          -117.45577201687207,
          -117.45320784377414,
          -117.45064373769034,
          -117.44807969862833,
          -117.44551572659576,
          -117.44295182160023,
          -117.44038798364942,
          -117.43782421275094,
          -117.43526050891242,
          -117.43269687214152,
          -117.43013330244588,
          -117.4275697998331,
          -117.42500636431083,
          -117.4224429958867,
          -117.41987969456831,
          -117.41731646036331,
          -117.41475329327932,
          -117.41219019332397,
          -117.40962716050484,
          -117.4070641948296,
          -117.40450129630585,
          -117.40193846494122,
          -117.39937570074332,
          -117.39681300371971,
          -117.39425037387808,
          -117.39168781122599,
          -117.3891253157711,
          -117.38656288752095,
          -117.38400052648319,
          -117.3814382326654,
          -117.37887600607523,
          -117.37631384672022,
          -117.373751754608,
          -117.37118972974618,
          -117.36862777214236,
          -117.36606588180412,
          -117.36350405873904,
          -117.36094230295474,
          -117.3583806144588,
          -117.35581899325881,
          -117.35325743936234,
          -117.35069595277702,
          -117.34813453351042,
          -117.34557318157009,
          -117.34301189696367,
          -117.34045067969869,
          -117.33788952978273,
          -117.33532844722342,
          -117.3327674320283,
          -117.33020648420495,
          -117.32764560376093,
          -117.32508479070384,
          -117.32252404504125,
          -117.31996336678068,
          -117.31740275592975,
          -117.31484221249603,
          -117.31228173648705,
          -117.30972132791038,
          -117.3071609867736,
          -117.30460071308426,
          -117.30204050684989,
          -117.29948036807812,
          -117.29692029677645,
          -117.29436029295246,
          -117.29180035661366,
          -117.28924048776766,
          -117.28668068642197,
          -117.28412095258416,
          -117.28156128626178,
          -117.27900168746234,
          -117.27644215619344,
          -117.27388269246256,
          -117.27132329627729,
          -117.26876396764517,
          -117.26620470657367,
          -117.26364551307041,
          -117.2610863871429,
          -117.25852732879865,
          -117.25596833804522,
          -117.25340941489013,
          -117.25085055934093,
          -117.2482917714051,
          -117.2457330510902,
          -117.24317439840375,
          -117.24061581335327,
          -117.2380572959463,
          -117.23549884619035,
          -117.23294046409293,
          -117.23038214966155,
          -117.22782390290375,
          -117.22526572382704,
          -117.22270761243891,
          -117.2201495687469,
          -117.21759159275851,
          -117.21503368448123,
          -117.2124758439226,
          -117.20991807109013,
          -117.20736036599129,
          -117.2048027286336,
          -117.20224515902454,
          -117.19968765717165,
          -117.19713022308241,
          -117.19457285676431,
          -117.19201555822484,
          -117.18945832747153,
          -117.18690116451182,
          -117.18434406935323,
          -117.18178704200328,
          -117.17923008246939,
          -117.1766731907591,
          -117.17411636687989,
          -117.17155961083921,
          -117.16900292264458,
          -117.16644630230346,
          -117.16388974982333,
          -117.16133326521167,
          -117.15877684847595,
          -117.15622049962367,
          -117.15366421866227,
          -117.15110800559924,
          -117.14855186044205,
          -117.14599578319819,
          -117.14343977387512,
          -117.14088383248024,
          -117.1383279590211,
          -117.13577215350509,
          -117.13321641593974,
          -117.13066074633248,
          -117.12810514469076,
          -117.12554961102204,
          -117.12299414533379,
          -117.12043874763344,
          -117.1178834179285,
          -117.11656255576655,
          -117.11393520532542,
          -117.11120294285634,
          -117.10839625650999,
          -117.10554646289361,
          -117.10453593869312
         ],
         "marker": {
          "color": "blue",
          "size": 5
         },
         "mode": "lines+markers",
         "name": "Fighter",
         "type": "scattermap"
        },
        {
         "lat": [
          34.71647
         ],
         "lon": [
          -117.8007
         ],
         "marker": {
          "color": "orange",
          "size": 8
         },
         "mode": "markers+text",
         "name": "Target Start",
         "text": [
          "Target Start"
         ],
         "type": "scattermap"
        },
        {
         "lat": [
          35
         ],
         "lon": [
          -117.8907
         ],
         "marker": {
          "color": "blue",
          "size": 8
         },
         "mode": "markers+text",
         "name": "Fighter Start",
         "text": [
          "Fighter Start"
         ],
         "type": "scattermap"
        },
        {
         "lat": [
          35.02002643791915
         ],
         "lon": [
          -117.85144970842423
         ],
         "marker": {
          "color": "black",
          "size": 8
         },
         "mode": "markers+text",
         "name": "Fighter Start",
         "text": [
          "Fighter F1"
         ],
         "type": "scattermap"
        },
        {
         "lat": [
          34.7170093856063
         ],
         "lon": [
          -117.11656255576655
         ],
         "marker": {
          "color": "black",
          "size": 8
         },
         "mode": "markers+text",
         "name": "Fighter Start",
         "text": [
          "Fighter F2"
         ],
         "type": "scattermap"
        },
        {
         "lat": [
          34.7170901669867
         ],
         "lon": [
          -117.11649145384456
         ],
         "marker": {
          "color": "black",
          "size": 8
         },
         "mode": "markers+text",
         "text": [
          "Collision Point"
         ],
         "type": "scattermap"
        },
        {
         "lat": [
          34.71686246900534
         ],
         "lon": [
          -117.1165149263812
         ],
         "marker": {
          "color": "purple",
          "size": 8
         },
         "mode": "markers+text",
         "text": [
          "TIP 2 Point"
         ],
         "type": "scattermap"
        },
        {
         "lat": [
          34.71646236398603
         ],
         "lon": [
          -117.75756399061524
         ],
         "marker": {
          "color": "red",
          "size": 12
         },
         "mode": "markers+text",
         "text": [
          "Tgt 1"
         ],
         "type": "scattermap"
        },
        {
         "lat": [
          34.71453627898263
         ],
         "lon": [
          -117.1142623714492
         ],
         "marker": {
          "color": "red",
          "size": 12
         },
         "mode": "markers+text",
         "text": [
          "Tgt 2"
         ],
         "type": "scattermap"
        },
        {
         "lat": [
          34.71686246900534
         ],
         "lon": [
          -117.1165149263812
         ],
         "marker": {
          "color": "purple",
          "size": 8
         },
         "mode": "markers+text",
         "text": [
          "TIP Point"
         ],
         "type": "scattermap"
        },
        {
         "customdata": [
          [
           -350,
           34.7148,
           -116.97983
          ],
          [
           -340,
           34.71581,
           -116.97897
          ],
          [
           -330,
           34.71746,
           -116.9784
          ],
          [
           -320,
           34.71969,
           -116.97824
          ],
          [
           -310,
           34.72245,
           -116.9786
          ],
          [
           -300,
           34.72564,
           -116.9796
          ],
          [
           -290,
           34.72918,
           -116.9813
          ],
          [
           -280,
           34.73294,
           -116.98378
          ],
          [
           -270,
           34.73683,
           -116.98707
          ],
          [
           -260,
           34.74072,
           -116.99119
          ],
          [
           -250,
           34.74449,
           -116.99611
          ],
          [
           -240,
           34.74802,
           -117.00181
          ],
          [
           -230,
           34.75122,
           -117.00822
          ],
          [
           -220,
           34.75398,
           -117.01527
          ],
          [
           -210,
           34.75622,
           -117.02284
          ],
          [
           -200,
           34.75788,
           -117.03083
          ],
          [
           -190,
           34.75889,
           -117.03909
          ],
          [
           -180,
           34.75924,
           -117.04751
          ],
          [
           -170,
           34.7589,
           -117.05592
          ],
          [
           -160,
           34.7579,
           -117.06419
          ],
          [
           -150,
           34.75625,
           -117.07218
          ],
          [
           -140,
           34.75402,
           -117.07976
          ],
          [
           -130,
           34.75126,
           -117.08681
          ],
          [
           -120,
           34.74807,
           -117.09322
          ],
          [
           -110,
           34.74454,
           -117.09893
          ],
          [
           -100,
           34.74078,
           -117.10386
          ],
          [
           -90,
           34.7369,
           -117.10798
          ],
          [
           -80,
           34.73301,
           -117.11128
          ],
          [
           -70,
           34.72925,
           -117.11376
          ],
          [
           -60,
           34.72572,
           -117.11547
          ],
          [
           -50,
           34.72252,
           -117.11647
          ],
          [
           -40,
           34.71977,
           -117.11684
          ],
          [
           -30,
           34.71753,
           -117.11668
          ],
          [
           -20,
           34.71588,
           -117.11611
          ],
          [
           -10,
           34.71488,
           -117.11526
          ],
          [
           10,
           34.7142,
           -117.11526
          ],
          [
           20,
           34.71319,
           -117.11611
          ],
          [
           30,
           34.71154,
           -117.11668
          ],
          [
           40,
           34.70931,
           -117.11684
          ],
          [
           50,
           34.70655,
           -117.11647
          ],
          [
           60,
           34.70336,
           -117.11547
          ],
          [
           70,
           34.69982,
           -117.11376
          ],
          [
           80,
           34.69606,
           -117.11128
          ],
          [
           90,
           34.69218,
           -117.10798
          ],
          [
           100,
           34.68829,
           -117.10387
          ],
          [
           110,
           34.68453,
           -117.09894
          ],
          [
           120,
           34.681,
           -117.09324
          ],
          [
           130,
           34.6778,
           -117.08683
          ],
          [
           140,
           34.67504,
           -117.07979
          ],
          [
           150,
           34.67281,
           -117.07222
          ],
          [
           160,
           34.67116,
           -117.06424
          ],
          [
           170,
           34.67014,
           -117.05598
          ],
          [
           180,
           34.6698,
           -117.04758
          ],
          [
           190,
           34.67013,
           -117.03918
          ],
          [
           200,
           34.67114,
           -117.03091
          ],
          [
           210,
           34.67278,
           -117.02293
          ],
          [
           220,
           34.67501,
           -117.01536
          ],
          [
           230,
           34.67776,
           -117.00831
          ],
          [
           240,
           34.68095,
           -117.0019
          ],
          [
           250,
           34.68447,
           -116.9962
          ],
          [
           260,
           34.68823,
           -116.99126
          ],
          [
           270,
           34.69211,
           -116.98714
          ],
          [
           280,
           34.69599,
           -116.98384
          ],
          [
           290,
           34.69975,
           -116.98135
          ],
          [
           300,
           34.70328,
           -116.97963
          ],
          [
           310,
           34.70647,
           -116.97863
          ],
          [
           320,
           34.70923,
           -116.97825
          ],
          [
           330,
           34.71147,
           -116.97841
          ],
          [
           340,
           34.71311,
           -116.97898
          ],
          [
           350,
           34.71412,
           -116.97983
          ]
         ],
         "hovertemplate": "HCA: %{customdata[0]}°<br>Lat: %{customdata[1]}<br>Lon: %{customdata[2]}<extra></extra>",
         "lat": [
          34.71480179866531,
          34.715809581187905,
          34.71745606548682,
          34.71969135332379,
          34.72244765317424,
          34.72564133564272,
          34.72917546995113,
          34.73294276507487,
          34.7368288267633,
          34.740715631964605,
          34.74448511538711,
          34.748022759300525,
          34.751221077345726,
          34.75398288612013,
          34.7562242645741,
          34.757877110622395,
          34.758891216574774,
          34.75923579965548,
          34.75890044056257,
          34.757895401192386,
          34.75625131174986,
          34.75401823687143,
          34.75126414948771,
          34.74807285933806,
          34.744541459745676,
          34.740777370945665,
          34.7368950704814,
          34.733012610577,
          34.72924802868776,
          34.725715760454804,
          34.72252316398079,
          34.71976726073884,
          34.71753179166129,
          34.715884677258266,
          34.714875958293916,
          34.71419659152098,
          34.71318785238358,
          34.71154071680509,
          34.70930523815325,
          34.70654934343015,
          34.70335676494888,
          34.699824491639774,
          34.69605981806997,
          34.692177081436405,
          34.68829418615153,
          34.684529021911345,
          34.68099588415088,
          34.677802005485646,
          34.675044303147935,
          34.67280644068822,
          34.671156292551956,
          34.67014388786531,
          34.669799895250094,
          34.67013469417218,
          34.67113806069108,
          34.67277947703646,
          34.675009055722235,
          34.67775905046335,
          34.68094590851686,
          34.68447280274276,
          34.688232567153,
          34.69211094742364,
          34.69599006816586,
          34.69975201199076,
          34.7032824017893,
          34.70647387731767,
          34.70922936016727,
          34.71146500744432,
          34.71311276381923,
          34.71412243375973
         ],
         "lon": [
          -116.97982910682512,
          -116.97897497374294,
          -116.9784011746647,
          -116.97823777820736,
          -116.97860241219524,
          -116.97959669287481,
          -116.9813031361305,
          -116.9837826445792,
          -116.98707264748356,
          -116.99118595108364,
          -116.9961103357284,
          -117.00180891369143,
          -117.00822123844007,
          -117.01526513309246,
          -117.02283918356737,
          -117.03082582122605,
          -117.03909490131416,
          -117.0475076678656,
          -117.05592098347594,
          -117.06419169392386,
          -117.07218099331764,
          -117.07975865542728,
          -117.08680700112777,
          -117.09322448027724,
          -117.09892875857868,
          -117.10385921559543,
          -117.10797877856308,
          -117.11127503733263,
          -117.11376060800201,
          -117.11547273582673,
          -117.11647215111915,
          -117.11684121435363,
          -117.11668140792466,
          -117.11611025136604,
          -117.11525773379418,
          -117.11525772565462,
          -117.11611019138172,
          -117.11668123348319,
          -117.11684088961685,
          -117.11647172627046,
          -117.11547241011887,
          -117.1137607856807,
          -117.11127636580572,
          -117.10798215992554,
          -117.10386578561135,
          -117.09893983111805,
          -117.0932414595346,
          -117.08683126819214,
          -117.07979143939993,
          -117.07222323973193,
          -117.06424394437664,
          -117.05598327995938,
          -117.04757949331089,
          -117.03917516452158,
          -117.03091289002171,
          -117.02293096517914,
          -117.01535919591987,
          -117.00831496514985,
          -117.00189967238285,
          -116.99619565413543,
          -116.99126367861035,
          -116.98714109131105,
          -116.98384066895913,
          -116.98135021794646,
          -116.97963293114415,
          -116.97862849386436,
          -116.97825490682763,
          -116.97841097184642,
          -116.97897936531176,
          -116.9798302061497
         ],
         "marker": {
          "color": "black",
          "size": 8
         },
         "mode": "markers+text",
         "name": "TIPs 2",
         "text": [
          "Tips"
         ],
         "type": "scattermap"
        }
       ],
       "layout": {
        "height": 700,
        "map": {
         "center": {
          "lat": 34.7170901669867,
          "lon": -117.11649145384456
         },
         "style": "satellite",
         "zoom": 10
        },
        "margin": {
         "b": 0,
         "l": 0,
         "r": 0,
         "t": 40
        },
        "template": {
         "data": {
          "bar": [
           {
            "error_x": {
             "color": "#2a3f5f"
            },
            "error_y": {
             "color": "#2a3f5f"
            },
            "marker": {
             "line": {
              "color": "#E5ECF6",
              "width": 0.5
             },
             "pattern": {
              "fillmode": "overlay",
              "size": 10,
              "solidity": 0.2
             }
            },
            "type": "bar"
           }
          ],
          "barpolar": [
           {
            "marker": {
             "line": {
              "color": "#E5ECF6",
              "width": 0.5
             },
             "pattern": {
              "fillmode": "overlay",
              "size": 10,
              "solidity": 0.2
             }
            },
            "type": "barpolar"
           }
          ],
          "carpet": [
           {
            "aaxis": {
             "endlinecolor": "#2a3f5f",
             "gridcolor": "white",
             "linecolor": "white",
             "minorgridcolor": "white",
             "startlinecolor": "#2a3f5f"
            },
            "baxis": {
             "endlinecolor": "#2a3f5f",
             "gridcolor": "white",
             "linecolor": "white",
             "minorgridcolor": "white",
             "startlinecolor": "#2a3f5f"
            },
            "type": "carpet"
           }
          ],
          "choropleth": [
           {
            "colorbar": {
             "outlinewidth": 0,
             "ticks": ""
            },
            "type": "choropleth"
           }
          ],
          "contour": [
           {
            "colorbar": {
             "outlinewidth": 0,
             "ticks": ""
            },
            "colorscale": [
             [
              0,
              "#0d0887"
             ],
             [
              0.1111111111111111,
              "#46039f"
             ],
             [
              0.2222222222222222,
              "#7201a8"
             ],
             [
              0.3333333333333333,
              "#9c179e"
             ],
             [
              0.4444444444444444,
              "#bd3786"
             ],
             [
              0.5555555555555556,
              "#d8576b"
             ],
             [
              0.6666666666666666,
              "#ed7953"
             ],
             [
              0.7777777777777778,
              "#fb9f3a"
             ],
             [
              0.8888888888888888,
              "#fdca26"
             ],
             [
              1,
              "#f0f921"
             ]
            ],
            "type": "contour"
           }
          ],
          "contourcarpet": [
           {
            "colorbar": {
             "outlinewidth": 0,
             "ticks": ""
            },
            "type": "contourcarpet"
           }
          ],
          "heatmap": [
           {
            "colorbar": {
             "outlinewidth": 0,
             "ticks": ""
            },
            "colorscale": [
             [
              0,
              "#0d0887"
             ],
             [
              0.1111111111111111,
              "#46039f"
             ],
             [
              0.2222222222222222,
              "#7201a8"
             ],
             [
              0.3333333333333333,
              "#9c179e"
             ],
             [
              0.4444444444444444,
              "#bd3786"
             ],
             [
              0.5555555555555556,
              "#d8576b"
             ],
             [
              0.6666666666666666,
              "#ed7953"
             ],
             [
              0.7777777777777778,
              "#fb9f3a"
             ],
             [
              0.8888888888888888,
              "#fdca26"
             ],
             [
              1,
              "#f0f921"
             ]
            ],
            "type": "heatmap"
           }
          ],
          "histogram": [
           {
            "marker": {
             "pattern": {
              "fillmode": "overlay",
              "size": 10,
              "solidity": 0.2
             }
            },
            "type": "histogram"
           }
          ],
          "histogram2d": [
           {
            "colorbar": {
             "outlinewidth": 0,
             "ticks": ""
            },
            "colorscale": [
             [
              0,
              "#0d0887"
             ],
             [
              0.1111111111111111,
              "#46039f"
             ],
             [
              0.2222222222222222,
              "#7201a8"
             ],
             [
              0.3333333333333333,
              "#9c179e"
             ],
             [
              0.4444444444444444,
              "#bd3786"
             ],
             [
              0.5555555555555556,
              "#d8576b"
             ],
             [
              0.6666666666666666,
              "#ed7953"
             ],
             [
              0.7777777777777778,
              "#fb9f3a"
             ],
             [
              0.8888888888888888,
              "#fdca26"
             ],
             [
              1,
              "#f0f921"
             ]
            ],
            "type": "histogram2d"
           }
          ],
          "histogram2dcontour": [
           {
            "colorbar": {
             "outlinewidth": 0,
             "ticks": ""
            },
            "colorscale": [
             [
              0,
              "#0d0887"
             ],
             [
              0.1111111111111111,
              "#46039f"
             ],
             [
              0.2222222222222222,
              "#7201a8"
             ],
             [
              0.3333333333333333,
              "#9c179e"
             ],
             [
              0.4444444444444444,
              "#bd3786"
             ],
             [
              0.5555555555555556,
              "#d8576b"
             ],
             [
              0.6666666666666666,
              "#ed7953"
             ],
             [
              0.7777777777777778,
              "#fb9f3a"
             ],
             [
              0.8888888888888888,
              "#fdca26"
             ],
             [
              1,
              "#f0f921"
             ]
            ],
            "type": "histogram2dcontour"
           }
          ],
          "mesh3d": [
           {
            "colorbar": {
             "outlinewidth": 0,
             "ticks": ""
            },
            "type": "mesh3d"
           }
          ],
          "parcoords": [
           {
            "line": {
             "colorbar": {
              "outlinewidth": 0,
              "ticks": ""
             }
            },
            "type": "parcoords"
           }
          ],
          "pie": [
           {
            "automargin": true,
            "type": "pie"
           }
          ],
          "scatter": [
           {
            "fillpattern": {
             "fillmode": "overlay",
             "size": 10,
             "solidity": 0.2
            },
            "type": "scatter"
           }
          ],
          "scatter3d": [
           {
            "line": {
             "colorbar": {
              "outlinewidth": 0,
              "ticks": ""
             }
            },
            "marker": {
             "colorbar": {
              "outlinewidth": 0,
              "ticks": ""
             }
            },
            "type": "scatter3d"
           }
          ],
          "scattercarpet": [
           {
            "marker": {
             "colorbar": {
              "outlinewidth": 0,
              "ticks": ""
             }
            },
            "type": "scattercarpet"
           }
          ],
          "scattergeo": [
           {
            "marker": {
             "colorbar": {
              "outlinewidth": 0,
              "ticks": ""
             }
            },
            "type": "scattergeo"
           }
          ],
          "scattergl": [
           {
            "marker": {
             "colorbar": {
              "outlinewidth": 0,
              "ticks": ""
             }
            },
            "type": "scattergl"
           }
          ],
          "scattermap": [
           {
            "marker": {
             "colorbar": {
              "outlinewidth": 0,
              "ticks": ""
             }
            },
            "type": "scattermap"
           }
          ],
          "scattermapbox": [
           {
            "marker": {
             "colorbar": {
              "outlinewidth": 0,
              "ticks": ""
             }
            },
            "type": "scattermapbox"
           }
          ],
          "scatterpolar": [
           {
            "marker": {
             "colorbar": {
              "outlinewidth": 0,
              "ticks": ""
             }
            },
            "type": "scatterpolar"
           }
          ],
          "scatterpolargl": [
           {
            "marker": {
             "colorbar": {
              "outlinewidth": 0,
              "ticks": ""
             }
            },
            "type": "scatterpolargl"
           }
          ],
          "scatterternary": [
           {
            "marker": {
             "colorbar": {
              "outlinewidth": 0,
              "ticks": ""
             }
            },
            "type": "scatterternary"
           }
          ],
          "surface": [
           {
            "colorbar": {
             "outlinewidth": 0,
             "ticks": ""
            },
            "colorscale": [
             [
              0,
              "#0d0887"
             ],
             [
              0.1111111111111111,
              "#46039f"
             ],
             [
              0.2222222222222222,
              "#7201a8"
             ],
             [
              0.3333333333333333,
              "#9c179e"
             ],
             [
              0.4444444444444444,
              "#bd3786"
             ],
             [
              0.5555555555555556,
              "#d8576b"
             ],
             [
              0.6666666666666666,
              "#ed7953"
             ],
             [
              0.7777777777777778,
              "#fb9f3a"
             ],
             [
              0.8888888888888888,
              "#fdca26"
             ],
             [
              1,
              "#f0f921"
             ]
            ],
            "type": "surface"
           }
          ],
          "table": [
           {
            "cells": {
             "fill": {
              "color": "#EBF0F8"
             },
             "line": {
              "color": "white"
             }
            },
            "header": {
             "fill": {
              "color": "#C8D4E3"
             },
             "line": {
              "color": "white"
             }
            },
            "type": "table"
           }
          ]
         },
         "layout": {
          "annotationdefaults": {
           "arrowcolor": "#2a3f5f",
           "arrowhead": 0,
           "arrowwidth": 1
          },
          "autotypenumbers": "strict",
          "coloraxis": {
           "colorbar": {
            "outlinewidth": 0,
            "ticks": ""
           }
          },
          "colorscale": {
           "diverging": [
            [
             0,
             "#8e0152"
            ],
            [
             0.1,
             "#c51b7d"
            ],
            [
             0.2,
             "#de77ae"
            ],
            [
             0.3,
             "#f1b6da"
            ],
            [
             0.4,
             "#fde0ef"
            ],
            [
             0.5,
             "#f7f7f7"
            ],
            [
             0.6,
             "#e6f5d0"
            ],
            [
             0.7,
             "#b8e186"
            ],
            [
             0.8,
             "#7fbc41"
            ],
            [
             0.9,
             "#4d9221"
            ],
            [
             1,
             "#276419"
            ]
           ],
           "sequential": [
            [
             0,
             "#0d0887"
            ],
            [
             0.1111111111111111,
             "#46039f"
            ],
            [
             0.2222222222222222,
             "#7201a8"
            ],
            [
             0.3333333333333333,
             "#9c179e"
            ],
            [
             0.4444444444444444,
             "#bd3786"
            ],
            [
             0.5555555555555556,
             "#d8576b"
            ],
            [
             0.6666666666666666,
             "#ed7953"
            ],
            [
             0.7777777777777778,
             "#fb9f3a"
            ],
            [
             0.8888888888888888,
             "#fdca26"
            ],
            [
             1,
             "#f0f921"
            ]
           ],
           "sequentialminus": [
            [
             0,
             "#0d0887"
            ],
            [
             0.1111111111111111,
             "#46039f"
            ],
            [
             0.2222222222222222,
             "#7201a8"
            ],
            [
             0.3333333333333333,
             "#9c179e"
            ],
            [
             0.4444444444444444,
             "#bd3786"
            ],
            [
             0.5555555555555556,
             "#d8576b"
            ],
            [
             0.6666666666666666,
             "#ed7953"
            ],
            [
             0.7777777777777778,
             "#fb9f3a"
            ],
            [
             0.8888888888888888,
             "#fdca26"
            ],
            [
             1,
             "#f0f921"
            ]
           ]
          },
          "colorway": [
           "#636efa",
           "#EF553B",
           "#00cc96",
           "#ab63fa",
           "#FFA15A",
           "#19d3f3",
           "#FF6692",
           "#B6E880",
           "#FF97FF",
           "#FECB52"
          ],
          "font": {
           "color": "#2a3f5f"
          },
          "geo": {
           "bgcolor": "white",
           "lakecolor": "white",
           "landcolor": "#E5ECF6",
           "showlakes": true,
           "showland": true,
           "subunitcolor": "white"
          },
          "hoverlabel": {
           "align": "left"
          },
          "hovermode": "closest",
          "mapbox": {
           "style": "light"
          },
          "paper_bgcolor": "white",
          "plot_bgcolor": "#E5ECF6",
          "polar": {
           "angularaxis": {
            "gridcolor": "white",
            "linecolor": "white",
            "ticks": ""
           },
           "bgcolor": "#E5ECF6",
           "radialaxis": {
            "gridcolor": "white",
            "linecolor": "white",
            "ticks": ""
           }
          },
          "scene": {
           "xaxis": {
            "backgroundcolor": "#E5ECF6",
            "gridcolor": "white",
            "gridwidth": 2,
            "linecolor": "white",
            "showbackground": true,
            "ticks": "",
            "zerolinecolor": "white"
           },
           "yaxis": {
            "backgroundcolor": "#E5ECF6",
            "gridcolor": "white",
            "gridwidth": 2,
            "linecolor": "white",
            "showbackground": true,
            "ticks": "",
            "zerolinecolor": "white"
           },
           "zaxis": {
            "backgroundcolor": "#E5ECF6",
            "gridcolor": "white",
            "gridwidth": 2,
            "linecolor": "white",
            "showbackground": true,
            "ticks": "",
            "zerolinecolor": "white"
           }
          },
          "shapedefaults": {
           "line": {
            "color": "#2a3f5f"
           }
          },
          "ternary": {
           "aaxis": {
            "gridcolor": "white",
            "linecolor": "white",
            "ticks": ""
           },
           "baxis": {
            "gridcolor": "white",
            "linecolor": "white",
            "ticks": ""
           },
           "bgcolor": "#E5ECF6",
           "caxis": {
            "gridcolor": "white",
            "linecolor": "white",
            "ticks": ""
           }
          },
          "title": {
           "x": 0.05
          },
          "xaxis": {
           "automargin": true,
           "gridcolor": "white",
           "linecolor": "white",
           "ticks": "",
           "title": {
            "standoff": 15
           },
           "zerolinecolor": "white",
           "zerolinewidth": 2
          },
          "yaxis": {
           "automargin": true,
           "gridcolor": "white",
           "linecolor": "white",
           "ticks": "",
           "title": {
            "standoff": 15
           },
           "zerolinecolor": "white",
           "zerolinewidth": 2
          }
         }
        },
        "title": {
         "text": "Fighter and Target Trajectories on Map"
        }
       }
      }
     },
     "metadata": {},
     "output_type": "display_data"
    }
   ],
   "source": [
    "#plot trajectory\n",
    "def extract_coords(coord_list):\n",
    "        lats = [c.lat for c in coord_list]\n",
    "        lons = [c.lon for c in coord_list]\n",
    "        return lats, lons\n",
    "\n",
    "tgt_lats, tgt_lons = extract_coords(coord_tgt_traj)\n",
    "f_lats, f_lons = extract_coords(coord_f_traj)\n",
    "TIPs_lat,TIPs_lon=extract_coords(coord_TIPs)\n",
    "\n",
    "fig = go.Figure()\n",
    "\n",
    "# Target trajectory\n",
    "fig.add_trace(go.Scattermap(\n",
    "    lat=tgt_lats,\n",
    "    lon=tgt_lons,\n",
    "    mode='lines+markers',\n",
    "    name='Target',\n",
    "    line=dict(width=1, color='orange'),\n",
    "    marker=dict(size=5, color='orange')\n",
    "))\n",
    "\n",
    "# Fighter trajectory\n",
    "fig.add_trace(go.Scattermap(\n",
    "    lat=f_lats,\n",
    "    lon=f_lons,\n",
    "    mode='lines+markers',\n",
    "    name='Fighter',\n",
    "    line=dict(width=1, color='blue'),\n",
    "    marker=dict(size=5, color='blue')\n",
    "))\n",
    "\n",
    "# Start markers\n",
    "fig.add_trace(go.Scattermap(lat=[tgt_lats[0]],lon=[tgt_lons[0]],mode='markers+text',name='Target Start',marker=dict(size=8, color='orange'),text=['Target Start'],))\n",
    "fig.add_trace(go.Scattermap(lat=[f_lats[0]],lon=[f_lons[0]],mode='markers+text',name='Fighter Start',marker=dict(size=8, color='blue'),text=['Fighter Start'],))\n",
    "fig.add_trace(go.Scattermap(lat=[coord_f_1.lat],lon=[coord_f_1.lon],mode='markers+text',name='Fighter Start',marker=dict(size=8, color='black'),text=['Fighter F1'],))\n",
    "fig.add_trace(go.Scattermap(lat=[coord_f_2.lat],lon=[coord_f_2.lon],mode='markers+text',name='Fighter Start',marker=dict(size=8, color='black'),text=['Fighter F2'],))\n",
    "fig.add_trace(go.Scattermap(lat=[coord_coll.lat], lon=[coord_coll.lon], mode='markers+text', marker=dict(size=8, color='black'), text=['Collision Point'],))\n",
    "fig.add_trace(go.Scattermap(lat=[coord_TIP_2.lat], lon=[coord_TIP_2.lon], mode='markers+text', marker=dict(size=8, color='purple'), text=['TIP 2 Point'],))\n",
    "fig.add_trace(go.Scattermap(lat=[coord_tgt_1.lat], lon=[coord_tgt_1.lon], mode='markers+text', marker=dict(size=12, color='red'), text=['Tgt 1'],))\n",
    "fig.add_trace(go.Scattermap(lat=[coord_tgt_2.lat], lon=[coord_tgt_2.lon], mode='markers+text', marker=dict(size=12, color='red'), text=['Tgt 2'],))\n",
    "fig.add_trace(go.Scattermap(lat=[coord_TIP.lat], lon=[coord_TIP.lon], mode='markers+text', marker=dict(size=8, color='purple'), text=['TIP Point'],))\n",
    "\n",
    "#TIP with custom template\n",
    "TIPs_customdata = [[round(c.yaw, 1), round(c.lat, 5), round(c.lon, 5)] for c in coord_TIPs]\n",
    "fig.add_trace(go.Scattermap(lat=TIPs_lat, lon=TIPs_lon, name='TIPs 2',mode='markers+text',\n",
    "            marker=dict(size=8, color='black'),\n",
    "            text=['Tips'],\n",
    "            customdata=TIPs_customdata,\n",
    "            hovertemplate=(\n",
    "            \"HCA: %{customdata[0]}°<br>\"\n",
    "            \"Lat: %{customdata[1]}<br>\"\n",
    "            \"Lon: %{customdata[2]}<extra></extra>\"\n",
    "            ))\n",
    ")\n",
    "\n",
    "\n",
    "\n",
    "\n",
    "\n",
    "\n",
    "\n",
    "# Center map around midpoint of both tracks\n",
    "center_lat = coord_coll.lat\n",
    "center_lon = coord_coll.lon\n",
    "\n",
    "\n",
    "fig.update_layout(\n",
    "    title='Fighter and Target Trajectories on Map',\n",
    "    map=dict(\n",
    "        style='satellite',  # or 'carto-positron', 'stamen-terrain', etc.\n",
    "        center=dict(lat=center_lat, lon=center_lon),\n",
    "        zoom=10\n",
    "    ),\n",
    "    height=700,\n",
    "    margin=dict(l=0, r=0, t=40, b=0)\n",
    ")\n",
    "\n",
    "fig.show()"
   ]
  }
 ],
 "metadata": {
  "kernelspec": {
   "display_name": "Python 3",
   "language": "python",
   "name": "python3"
  },
  "language_info": {
   "codemirror_mode": {
    "name": "ipython",
    "version": 3
   },
   "file_extension": ".py",
   "mimetype": "text/x-python",
   "name": "python",
   "nbconvert_exporter": "python",
   "pygments_lexer": "ipython3",
   "version": "3.13.0"
  }
 },
 "nbformat": 4,
 "nbformat_minor": 5
}
