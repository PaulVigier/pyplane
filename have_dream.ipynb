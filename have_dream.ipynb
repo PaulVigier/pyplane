{
 "cells": [
  {
   "cell_type": "code",
   "execution_count": 1,
   "id": "c39ec6aa",
   "metadata": {},
   "outputs": [
    {
     "name": "stdout",
     "output_type": "stream",
     "text": [
      "   Altitude       Rho\n",
      "0   19500.0  0.001288\n",
      "1   19500.0  0.001288\n",
      "2   18500.0  0.001332\n",
      "3   18500.0  0.001332\n",
      "4   14500.0  0.001520\n",
      "5   14500.0  0.001520\n",
      "6   13500.0  0.001570\n",
      "7   13500.0  0.001570\n"
     ]
    },
    {
     "data": {
      "application/vnd.plotly.v1+json": {
       "config": {
        "plotlyServerURL": "https://plot.ly"
       },
       "data": [
        {
         "line": {
          "color": "blue"
         },
         "marker": {
          "size": 6
         },
         "mode": "markers",
         "name": "L/D vs TAS",
         "type": "scatter",
         "x": {
          "bdata": "/cHTPwT9b0DgoliLihNwQDiZ+JkZXHJAbra2GZJHckBZxvBc9jN0QGML7NXSA3RAhQgW0+wIaEAAZM4dqM5nQA==",
          "dtype": "f8"
         },
         "y": {
          "bdata": "plUexFLFJMA2oVaAZK8WwCxmuhNIQRnALGa6E0hBGcA2oVaAZK8WwDahVoBkrxbAsNfcixifCMDgcKLp0jsHwA==",
          "dtype": "f8"
         }
        },
        {
         "line": {
          "color": "red",
          "dash": "dash"
         },
         "mode": "lines",
         "name": "Quadratic Fit",
         "type": "scatter",
         "x": {
          "bdata": "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",
          "dtype": "f8"
         },
         "y": {
          "bdata": "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",
          "dtype": "f8"
         }
        }
       ],
       "layout": {
        "hovermode": "x unified",
        "template": {
         "data": {
          "bar": [
           {
            "error_x": {
             "color": "#2a3f5f"
            },
            "error_y": {
             "color": "#2a3f5f"
            },
            "marker": {
             "line": {
              "color": "white",
              "width": 0.5
             },
             "pattern": {
              "fillmode": "overlay",
              "size": 10,
              "solidity": 0.2
             }
            },
            "type": "bar"
           }
          ],
          "barpolar": [
           {
            "marker": {
             "line": {
              "color": "white",
              "width": 0.5
             },
             "pattern": {
              "fillmode": "overlay",
              "size": 10,
              "solidity": 0.2
             }
            },
            "type": "barpolar"
           }
          ],
          "carpet": [
           {
            "aaxis": {
             "endlinecolor": "#2a3f5f",
             "gridcolor": "#C8D4E3",
             "linecolor": "#C8D4E3",
             "minorgridcolor": "#C8D4E3",
             "startlinecolor": "#2a3f5f"
            },
            "baxis": {
             "endlinecolor": "#2a3f5f",
             "gridcolor": "#C8D4E3",
             "linecolor": "#C8D4E3",
             "minorgridcolor": "#C8D4E3",
             "startlinecolor": "#2a3f5f"
            },
            "type": "carpet"
           }
          ],
          "choropleth": [
           {
            "colorbar": {
             "outlinewidth": 0,
             "ticks": ""
            },
            "type": "choropleth"
           }
          ],
          "contour": [
           {
            "colorbar": {
             "outlinewidth": 0,
             "ticks": ""
            },
            "colorscale": [
             [
              0,
              "#0d0887"
             ],
             [
              0.1111111111111111,
              "#46039f"
             ],
             [
              0.2222222222222222,
              "#7201a8"
             ],
             [
              0.3333333333333333,
              "#9c179e"
             ],
             [
              0.4444444444444444,
              "#bd3786"
             ],
             [
              0.5555555555555556,
              "#d8576b"
             ],
             [
              0.6666666666666666,
              "#ed7953"
             ],
             [
              0.7777777777777778,
              "#fb9f3a"
             ],
             [
              0.8888888888888888,
              "#fdca26"
             ],
             [
              1,
              "#f0f921"
             ]
            ],
            "type": "contour"
           }
          ],
          "contourcarpet": [
           {
            "colorbar": {
             "outlinewidth": 0,
             "ticks": ""
            },
            "type": "contourcarpet"
           }
          ],
          "heatmap": [
           {
            "colorbar": {
             "outlinewidth": 0,
             "ticks": ""
            },
            "colorscale": [
             [
              0,
              "#0d0887"
             ],
             [
              0.1111111111111111,
              "#46039f"
             ],
             [
              0.2222222222222222,
              "#7201a8"
             ],
             [
              0.3333333333333333,
              "#9c179e"
             ],
             [
              0.4444444444444444,
              "#bd3786"
             ],
             [
              0.5555555555555556,
              "#d8576b"
             ],
             [
              0.6666666666666666,
              "#ed7953"
             ],
             [
              0.7777777777777778,
              "#fb9f3a"
             ],
             [
              0.8888888888888888,
              "#fdca26"
             ],
             [
              1,
              "#f0f921"
             ]
            ],
            "type": "heatmap"
           }
          ],
          "histogram": [
           {
            "marker": {
             "pattern": {
              "fillmode": "overlay",
              "size": 10,
              "solidity": 0.2
             }
            },
            "type": "histogram"
           }
          ],
          "histogram2d": [
           {
            "colorbar": {
             "outlinewidth": 0,
             "ticks": ""
            },
            "colorscale": [
             [
              0,
              "#0d0887"
             ],
             [
              0.1111111111111111,
              "#46039f"
             ],
             [
              0.2222222222222222,
              "#7201a8"
             ],
             [
              0.3333333333333333,
              "#9c179e"
             ],
             [
              0.4444444444444444,
              "#bd3786"
             ],
             [
              0.5555555555555556,
              "#d8576b"
             ],
             [
              0.6666666666666666,
              "#ed7953"
             ],
             [
              0.7777777777777778,
              "#fb9f3a"
             ],
             [
              0.8888888888888888,
              "#fdca26"
             ],
             [
              1,
              "#f0f921"
             ]
            ],
            "type": "histogram2d"
           }
          ],
          "histogram2dcontour": [
           {
            "colorbar": {
             "outlinewidth": 0,
             "ticks": ""
            },
            "colorscale": [
             [
              0,
              "#0d0887"
             ],
             [
              0.1111111111111111,
              "#46039f"
             ],
             [
              0.2222222222222222,
              "#7201a8"
             ],
             [
              0.3333333333333333,
              "#9c179e"
             ],
             [
              0.4444444444444444,
              "#bd3786"
             ],
             [
              0.5555555555555556,
              "#d8576b"
             ],
             [
              0.6666666666666666,
              "#ed7953"
             ],
             [
              0.7777777777777778,
              "#fb9f3a"
             ],
             [
              0.8888888888888888,
              "#fdca26"
             ],
             [
              1,
              "#f0f921"
             ]
            ],
            "type": "histogram2dcontour"
           }
          ],
          "mesh3d": [
           {
            "colorbar": {
             "outlinewidth": 0,
             "ticks": ""
            },
            "type": "mesh3d"
           }
          ],
          "parcoords": [
           {
            "line": {
             "colorbar": {
              "outlinewidth": 0,
              "ticks": ""
             }
            },
            "type": "parcoords"
           }
          ],
          "pie": [
           {
            "automargin": true,
            "type": "pie"
           }
          ],
          "scatter": [
           {
            "fillpattern": {
             "fillmode": "overlay",
             "size": 10,
             "solidity": 0.2
            },
            "type": "scatter"
           }
          ],
          "scatter3d": [
           {
            "line": {
             "colorbar": {
              "outlinewidth": 0,
              "ticks": ""
             }
            },
            "marker": {
             "colorbar": {
              "outlinewidth": 0,
              "ticks": ""
             }
            },
            "type": "scatter3d"
           }
          ],
          "scattercarpet": [
           {
            "marker": {
             "colorbar": {
              "outlinewidth": 0,
              "ticks": ""
             }
            },
            "type": "scattercarpet"
           }
          ],
          "scattergeo": [
           {
            "marker": {
             "colorbar": {
              "outlinewidth": 0,
              "ticks": ""
             }
            },
            "type": "scattergeo"
           }
          ],
          "scattergl": [
           {
            "marker": {
             "colorbar": {
              "outlinewidth": 0,
              "ticks": ""
             }
            },
            "type": "scattergl"
           }
          ],
          "scattermap": [
           {
            "marker": {
             "colorbar": {
              "outlinewidth": 0,
              "ticks": ""
             }
            },
            "type": "scattermap"
           }
          ],
          "scattermapbox": [
           {
            "marker": {
             "colorbar": {
              "outlinewidth": 0,
              "ticks": ""
             }
            },
            "type": "scattermapbox"
           }
          ],
          "scatterpolar": [
           {
            "marker": {
             "colorbar": {
              "outlinewidth": 0,
              "ticks": ""
             }
            },
            "type": "scatterpolar"
           }
          ],
          "scatterpolargl": [
           {
            "marker": {
             "colorbar": {
              "outlinewidth": 0,
              "ticks": ""
             }
            },
            "type": "scatterpolargl"
           }
          ],
          "scatterternary": [
           {
            "marker": {
             "colorbar": {
              "outlinewidth": 0,
              "ticks": ""
             }
            },
            "type": "scatterternary"
           }
          ],
          "surface": [
           {
            "colorbar": {
             "outlinewidth": 0,
             "ticks": ""
            },
            "colorscale": [
             [
              0,
              "#0d0887"
             ],
             [
              0.1111111111111111,
              "#46039f"
             ],
             [
              0.2222222222222222,
              "#7201a8"
             ],
             [
              0.3333333333333333,
              "#9c179e"
             ],
             [
              0.4444444444444444,
              "#bd3786"
             ],
             [
              0.5555555555555556,
              "#d8576b"
             ],
             [
              0.6666666666666666,
              "#ed7953"
             ],
             [
              0.7777777777777778,
              "#fb9f3a"
             ],
             [
              0.8888888888888888,
              "#fdca26"
             ],
             [
              1,
              "#f0f921"
             ]
            ],
            "type": "surface"
           }
          ],
          "table": [
           {
            "cells": {
             "fill": {
              "color": "#EBF0F8"
             },
             "line": {
              "color": "white"
             }
            },
            "header": {
             "fill": {
              "color": "#C8D4E3"
             },
             "line": {
              "color": "white"
             }
            },
            "type": "table"
           }
          ]
         },
         "layout": {
          "annotationdefaults": {
           "arrowcolor": "#2a3f5f",
           "arrowhead": 0,
           "arrowwidth": 1
          },
          "autotypenumbers": "strict",
          "coloraxis": {
           "colorbar": {
            "outlinewidth": 0,
            "ticks": ""
           }
          },
          "colorscale": {
           "diverging": [
            [
             0,
             "#8e0152"
            ],
            [
             0.1,
             "#c51b7d"
            ],
            [
             0.2,
             "#de77ae"
            ],
            [
             0.3,
             "#f1b6da"
            ],
            [
             0.4,
             "#fde0ef"
            ],
            [
             0.5,
             "#f7f7f7"
            ],
            [
             0.6,
             "#e6f5d0"
            ],
            [
             0.7,
             "#b8e186"
            ],
            [
             0.8,
             "#7fbc41"
            ],
            [
             0.9,
             "#4d9221"
            ],
            [
             1,
             "#276419"
            ]
           ],
           "sequential": [
            [
             0,
             "#0d0887"
            ],
            [
             0.1111111111111111,
             "#46039f"
            ],
            [
             0.2222222222222222,
             "#7201a8"
            ],
            [
             0.3333333333333333,
             "#9c179e"
            ],
            [
             0.4444444444444444,
             "#bd3786"
            ],
            [
             0.5555555555555556,
             "#d8576b"
            ],
            [
             0.6666666666666666,
             "#ed7953"
            ],
            [
             0.7777777777777778,
             "#fb9f3a"
            ],
            [
             0.8888888888888888,
             "#fdca26"
            ],
            [
             1,
             "#f0f921"
            ]
           ],
           "sequentialminus": [
            [
             0,
             "#0d0887"
            ],
            [
             0.1111111111111111,
             "#46039f"
            ],
            [
             0.2222222222222222,
             "#7201a8"
            ],
            [
             0.3333333333333333,
             "#9c179e"
            ],
            [
             0.4444444444444444,
             "#bd3786"
            ],
            [
             0.5555555555555556,
             "#d8576b"
            ],
            [
             0.6666666666666666,
             "#ed7953"
            ],
            [
             0.7777777777777778,
             "#fb9f3a"
            ],
            [
             0.8888888888888888,
             "#fdca26"
            ],
            [
             1,
             "#f0f921"
            ]
           ]
          },
          "colorway": [
           "#636efa",
           "#EF553B",
           "#00cc96",
           "#ab63fa",
           "#FFA15A",
           "#19d3f3",
           "#FF6692",
           "#B6E880",
           "#FF97FF",
           "#FECB52"
          ],
          "font": {
           "color": "#2a3f5f"
          },
          "geo": {
           "bgcolor": "white",
           "lakecolor": "white",
           "landcolor": "white",
           "showlakes": true,
           "showland": true,
           "subunitcolor": "#C8D4E3"
          },
          "hoverlabel": {
           "align": "left"
          },
          "hovermode": "closest",
          "mapbox": {
           "style": "light"
          },
          "paper_bgcolor": "white",
          "plot_bgcolor": "white",
          "polar": {
           "angularaxis": {
            "gridcolor": "#EBF0F8",
            "linecolor": "#EBF0F8",
            "ticks": ""
           },
           "bgcolor": "white",
           "radialaxis": {
            "gridcolor": "#EBF0F8",
            "linecolor": "#EBF0F8",
            "ticks": ""
           }
          },
          "scene": {
           "xaxis": {
            "backgroundcolor": "white",
            "gridcolor": "#DFE8F3",
            "gridwidth": 2,
            "linecolor": "#EBF0F8",
            "showbackground": true,
            "ticks": "",
            "zerolinecolor": "#EBF0F8"
           },
           "yaxis": {
            "backgroundcolor": "white",
            "gridcolor": "#DFE8F3",
            "gridwidth": 2,
            "linecolor": "#EBF0F8",
            "showbackground": true,
            "ticks": "",
            "zerolinecolor": "#EBF0F8"
           },
           "zaxis": {
            "backgroundcolor": "white",
            "gridcolor": "#DFE8F3",
            "gridwidth": 2,
            "linecolor": "#EBF0F8",
            "showbackground": true,
            "ticks": "",
            "zerolinecolor": "#EBF0F8"
           }
          },
          "shapedefaults": {
           "line": {
            "color": "#2a3f5f"
           }
          },
          "ternary": {
           "aaxis": {
            "gridcolor": "#DFE8F3",
            "linecolor": "#A2B1C6",
            "ticks": ""
           },
           "baxis": {
            "gridcolor": "#DFE8F3",
            "linecolor": "#A2B1C6",
            "ticks": ""
           },
           "bgcolor": "white",
           "caxis": {
            "gridcolor": "#DFE8F3",
            "linecolor": "#A2B1C6",
            "ticks": ""
           }
          },
          "title": {
           "x": 0.05
          },
          "xaxis": {
           "automargin": true,
           "gridcolor": "#EBF0F8",
           "linecolor": "#EBF0F8",
           "ticks": "",
           "title": {
            "standoff": 15
           },
           "zerolinecolor": "#EBF0F8",
           "zerolinewidth": 2
          },
          "yaxis": {
           "automargin": true,
           "gridcolor": "#EBF0F8",
           "linecolor": "#EBF0F8",
           "ticks": "",
           "title": {
            "standoff": 15
           },
           "zerolinecolor": "#EBF0F8",
           "zerolinewidth": 2
          }
         }
        },
        "title": {
         "text": "Lift-to-Drag Ratio vs True Airspeed"
        },
        "xaxis": {
         "title": {
          "text": "True Airspeed (TAS)"
         }
        },
        "yaxis": {
         "title": {
          "text": "Lift-to-Drag Ratio (L/D)"
         }
        }
       }
      }
     },
     "metadata": {},
     "output_type": "display_data"
    }
   ],
   "source": [
    "import pandas as pd\n",
    "import numpy as np\n",
    "import plotly.graph_objects as go\n",
    "\n",
    "from libs import have_dream\n",
    "\n",
    "df = pd.read_csv(r\"data\\Have dream\\Sawtooth descent.csv\", sep=',')\n",
    "\n",
    "df=have_dream.l_over_d(df)\n",
    "\n",
    "# 1. Prepare the data\n",
    "x = df['TAS']\n",
    "y = df['L/D']\n",
    "\n",
    "# 2. Fit a second-order polynomial: y = ax^2 + bx + c\n",
    "coeffs = np.polyfit(x, y, deg=2)\n",
    "poly_func = np.poly1d(coeffs)\n",
    "\n",
    "# 3. Create smooth x range for plotting the fitted curve\n",
    "x_fit = np.linspace(x.min(), x.max(), 500)\n",
    "y_fit = poly_func(x_fit)\n",
    "\n",
    "\n",
    "fig = go.Figure()\n",
    "\n",
    "fig.add_trace(go.Scatter(\n",
    "    x=df['TAS'],\n",
    "    y=df['L/D'],\n",
    "    mode='markers',\n",
    "    name='L/D vs TAS',\n",
    "    line=dict(color='blue'),\n",
    "    marker=dict(size=6)\n",
    "))\n",
    "\n",
    "fig.add_trace(go.Scatter(\n",
    "    x=x_fit,\n",
    "    y=y_fit,\n",
    "    mode='lines',\n",
    "    name='Quadratic Fit',\n",
    "    line=dict(color='red', dash='dash')\n",
    "))\n",
    "\n",
    "fig.update_layout(\n",
    "    title='Lift-to-Drag Ratio vs True Airspeed',\n",
    "    xaxis_title='True Airspeed (TAS)',\n",
    "    yaxis_title='Lift-to-Drag Ratio (L/D)',\n",
    "    template='plotly_white',\n",
    "    hovermode='x unified'\n",
    ")\n",
    "\n",
    "fig.show()\n"
   ]
  }
 ],
 "metadata": {
  "kernelspec": {
   "display_name": "Python 3",
   "language": "python",
   "name": "python3"
  },
  "language_info": {
   "codemirror_mode": {
    "name": "ipython",
    "version": 3
   },
   "file_extension": ".py",
   "mimetype": "text/x-python",
   "name": "python",
   "nbconvert_exporter": "python",
   "pygments_lexer": "ipython3",
   "version": "3.13.0"
  }
 },
 "nbformat": 4,
 "nbformat_minor": 5
}
