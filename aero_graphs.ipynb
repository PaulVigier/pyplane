{
 "cells": [
  {
   "cell_type": "markdown",
   "id": "d02513c7",
   "metadata": {},
   "source": [
    "# Graphs for the aero mod report"
   ]
  },
  {
   "cell_type": "code",
   "execution_count": null,
   "id": "1d0e138a",
   "metadata": {},
   "outputs": [],
   "source": [
    "import libs\n",
    "import numpy as np\n",
    "import pandas as pd\n",
    "import plotly.graph_objects as go\n",
    "\n",
    "matlab_template = dict(\n",
    "        layout=go.Layout(\n",
    "                #plot layout\n",
    "                width=1300,\n",
    "                height=800,\n",
    "                showlegend=True,\n",
    "                plot_bgcolor=\"white\",\n",
    "                margin=dict(t=200), #leave some padding on top\n",
    "\n",
    "                #title\n",
    "                title_font=dict(size=24, color=\"black\", weight='bold',family=\"Arial\",),\n",
    "                title_x=0.5,  # Center the title horizontally\n",
    "                title_y=0.98,  # Position the title slightly lower vertically\n",
    "\n",
    "                #axis\n",
    "                xaxis = dict(linecolor='black', showgrid=True, showline=True, gridcolor='lightgrey', ticks='outside',\n",
    "                             tickcolor='black', tickwidth=2, ticklen=5,\n",
    "                             title_font=dict(size=18, weight='bold', family='Arial'),\n",
    "                             tickfont=dict(size=14, family='Arial'),\n",
    "                             ),\n",
    "                yaxis = dict(linecolor='black', showgrid=True, showline=True, gridcolor='lightgrey', ticks='outside',\n",
    "                             tickcolor='black', tickwidth=2, ticklen=5,\n",
    "                             title_font=dict(size=18, weight='bold', family='Arial'),\n",
    "                             tickfont=dict(size=14, family='Arial'),\n",
    "                             ),\n",
    "                yaxis2 = dict(linecolor='black', showgrid=False, showline=True, gridcolor='lightgrey', ticks='outside',\n",
    "                             tickcolor='black', tickwidth=2, ticklen=5,\n",
    "                             title_font=dict(size=18, weight='bold', family='Arial'),\n",
    "                             tickfont=dict(size=14, family='Arial'),\n",
    "                             ),\n",
    "\n",
    "                #legend\n",
    "                legend=dict(\n",
    "                        x=1.1,                # Position the legend at the far-right of the plot\n",
    "                        y=1.1,                # Position the legend at the top of the plot\n",
    "                        xanchor='right',    # Anchor the legend on the right side\n",
    "                        yanchor='bottom',      # Anchor the legend at the top\n",
    "                        bordercolor='black',# Border color around the legend (optional)\n",
    "                        borderwidth=1       # Border width around the legend (optional)\n",
    "                        ),\n",
    "         )\n",
    ")"
   ]
  },
  {
   "cell_type": "markdown",
   "id": "64691284",
   "metadata": {},
   "source": [
    "## Lift curve"
   ]
  },
  {
   "cell_type": "code",
   "execution_count": 2,
   "id": "912b72eb",
   "metadata": {},
   "outputs": [],
   "source": [
    "#Data for lift curve\n",
    "data=pd.read_csv(r\"data\\Aeromod\\2025-04-30_lift_coeff.csv\")\n",
    "ID=[] #ID of maneuvers to plot (if empty will plot all maneuvers)."
   ]
  },
  {
   "cell_type": "code",
   "execution_count": null,
   "id": "3c0b91f2",
   "metadata": {},
   "outputs": [
    {
     "data": {
      "application/vnd.plotly.v1+json": {
       "config": {
        "plotlyServerURL": "https://plot.ly"
       },
       "data": [
        {
         "line": {
          "color": "black"
         },
         "mode": "lines",
         "name": "theoretical CL curve",
         "showlegend": false,
         "type": "scatter",
         "x": {
          "bdata": "AAAAAAAAAMCbbLLJJpv8vzbZZJNNNvm/0kUXXXTR9b9ssskmm2zyvxA++OCDD+6/RhdddNFF57988MEHH3zgv2STTTbZZNO/QBdddNFFt78AH3zwwQe/P1hVVVVVVdU/dNFFF1104T9A+OCDDz7oPwgffPDBB+8/6qKLLrro8j9ONtlkk032P7LJJptssvk/GF100UUX/T8++OCDDz4AQPDBBx988AFApIsuuuiiA0BWVVVVVVUFQAgffPDBBwdAuuiiiy66CEBssskmm2wKQCB88MEHHwxA0kUXXXTRDUCEDz744IMPQJtssskmmxBAddFFF110EUBONtlkk00SQCebbLLJJhNAAAAAAAAAFEDZZJNNNtkUQLPJJptsshVAjC666KKLFkBlk0022WQXQD744IMPPhhAGF100UUXGUDwwQcffPAZQMomm2yyyRpApIsuuuiiG0B88MEHH3wcQFZVVVVVVR1ALrrooosuHkAIH3zwwQcfQOKDDz744B9AXXTRRRddIEDKJptssskgQDbZZJNNNiFAo4suuuiiIUAQPvjggw8iQHzwwQcffCJA6aKLLrroIkBWVVVVVVUjQMIHH3zwwSNAL7rooosuJECbbLLJJpskQAgffPDBByVAddFFF110JUDhgw8++OAlQE422WSTTSZAuuiiiy66JkAnm2yyySYnQJRNNtlkkydAAAAAAAAAKEBtsskmm2woQNlkk0022ShARhdddNFFKUCzySabbLIpQB988MEHHypAjC666KKLKkD44IMPPvgqQGWTTTbZZCtA0kUXXXTRK0A++OCDDz4sQKqqqqqqqixAGF100UUXLUCEDz744IMtQPDBBx988C1AXnTRRRddLkDKJptssskuQDbZZJNNNi9ApIsuuuiiL0AIH3zwwQcwQD744IMPPjBAddFFF110MECrqqqqqqowQOGDDz744DBAF1100UUXMUBONtlkk00xQIQPPvjggzFAuuiiiy66MUDxwQcffPAxQCebbLLJJjJAXXTRRRddMkCUTTbZZJMyQMomm2yyyTJAAAAAAAAAM0A=",
          "dtype": "f8"
         },
         "y": {
          "bdata": "FgTSRDFy0T/5LtYByNrSP3eY2r5eQ9Q/qeLee/Wr1T/ZLOM4jBTXPwx35/Uifdg/PMHrsrnl2T9tC/BvUE7bP59V9Cznttw/0J/46X0f3j8B6vymFIjfPxmaALJVeOA/Mr+CEKEs4T9L5ARv7ODhP2MJh803leI/fC4JLINJ4z+VU4uKzv3jP614DekZsuQ/xp2PR2Vm5T/ewhGmsBrmPxnaOYwqz+Y/KgpfIcaD5z8zOoS2YTjoPypqqUv97Og/2ZnO4Jih6T/ZyPN1NFbqP2f2GAvQCus/iyo+oGu/6z9IWmM1B3TsP42JiMqiKO0/XbitXz7d7T+25tL02ZHuP5cU+Il1Ru8/AkIdHxH77z+yMPx4S1TwP5OdGOv0qvA/psLM9mv78D+Bw/OH6kfxP0bEGhlplPE/Fsz0ibXb8T+yuNwsoSLyP5T4O5dcafI/Cmb+kwqs8j9/08CQuO7yP+JAg41mMfM/eda1+J9m8z9E2pnbeZvzP1Hcfb5T0PM/vuBS7NQD9D9FQbOY8Cr0P8uhE0UMUvQ/UgJ08Sd59D/ZYtSdQ6D0P1zDNEpfx/Q/hyVa/MHc9D+8fq2FSe/0P/HXAA/RAfU/JjFUmFgU9T9aiqch4Cb1P47j+qpnOfU/wzxONO9L9T/4laG9dl71Pyzv9Eb+cPU/YUhI0IWD9T+WoZtZDZb1Pzw0Bztrs/U/zvBuHVrT9T9grdb/SPP1P/FpPuI3E/Y/giamxCYz9j8U4w2nFVP2P5ivZ2ZmZvY/uvBqZmZm9j/bMW5mZmb2P/1ycWZmZvY/H7R0ZmZm9j9A9XdmZmb2P2I2e2ZmZvY/Z35+ZmZm9j+luIFmZmb2P8f5hGZmZvY/6TqIZmZm9j8KfItmZmb2Pyy9jmZmZvY/Tv6RZmZm9j9vP5VmZmb2P+KAmGZmZvY/s8GbZmZm9j/UAp9mZmb2P/ZDomZmZvY/GIWlZmZm9j85xqhmZmb2P1sHrGZmZvY/fUivZmZm9j+eibJmZmb2P8DKtWZmZvY/4gu5ZmZm9j8DTbxmZmb2PyWOv2ZmZvY/R8/CZmZm9j8=",
          "dtype": "f8"
         },
         "yaxis": "y"
        },
        {
         "line": {
          "color": "black",
          "dash": "dash"
         },
         "mode": "lines",
         "name": "theoretical CL curve +/- 0.1",
         "showlegend": false,
         "type": "scatter",
         "x": {
          "bdata": "AAAAAAAAAMCbbLLJJpv8vzbZZJNNNvm/0kUXXXTR9b9ssskmm2zyvxA++OCDD+6/RhdddNFF57988MEHH3zgv2STTTbZZNO/QBdddNFFt78AH3zwwQe/P1hVVVVVVdU/dNFFF1104T9A+OCDDz7oPwgffPDBB+8/6qKLLrro8j9ONtlkk032P7LJJptssvk/GF100UUX/T8++OCDDz4AQPDBBx988AFApIsuuuiiA0BWVVVVVVUFQAgffPDBBwdAuuiiiy66CEBssskmm2wKQCB88MEHHwxA0kUXXXTRDUCEDz744IMPQJtssskmmxBAddFFF110EUBONtlkk00SQCebbLLJJhNAAAAAAAAAFEDZZJNNNtkUQLPJJptsshVAjC666KKLFkBlk0022WQXQD744IMPPhhAGF100UUXGUDwwQcffPAZQMomm2yyyRpApIsuuuiiG0B88MEHH3wcQFZVVVVVVR1ALrrooosuHkAIH3zwwQcfQOKDDz744B9AXXTRRRddIEDKJptssskgQDbZZJNNNiFAo4suuuiiIUAQPvjggw8iQHzwwQcffCJA6aKLLrroIkBWVVVVVVUjQMIHH3zwwSNAL7rooosuJECbbLLJJpskQAgffPDBByVAddFFF110JUDhgw8++OAlQE422WSTTSZAuuiiiy66JkAnm2yyySYnQJRNNtlkkydAAAAAAAAAKEBtsskmm2woQNlkk0022ShARhdddNFFKUCzySabbLIpQB988MEHHypAjC666KKLKkD44IMPPvgqQGWTTTbZZCtA0kUXXXTRK0A++OCDDz4sQKqqqqqqqixAGF100UUXLUCEDz744IMtQPDBBx988C1AXnTRRRddLkDKJptssskuQDbZZJNNNi9ApIsuuuiiL0AIH3zwwQcwQD744IMPPjBAddFFF110MECrqqqqqqowQOGDDz744DBAF1100UUXMUBONtlkk00xQIQPPvjggzFAuuiiiy66MUDxwQcffPAxQCebbLLJJjJAXXTRRRddMkCUTTbZZJMyQMomm2yyyTJAAAAAAAAAM0A=",
          "dtype": "f8"
         },
         "y": {
          "bdata": "fGo4q5fY1z9glTxoLkHZP97+QCXFqdo/EElF4lsS3D9Ak0mf8nrdP3LdTVyJ494/0ROpDBAm4D/qOCtrW9rgPwNercmmjuE/G4MvKPJC4j80qLGGPffiP0zNM+WIq+M/ZfK1Q9Rf5D9+FziiHxTlP5Y8ugBryOU/r2E8X7Z85j/Ihr69ATHnP+CrQBxN5ec/+dDCepiZ6D8R9kTZ403pP0wNbb9dAuo/XT2SVPm26j9mbbfplGvrP12d3H4wIOw/DM0BFMzU7D8M/CapZ4ntP5opTD4DPu4/vl1x057y7j97jZZoOqfvP2De3f7qLfA/yHVwyTiI8D/1DAOUhuLwP+WjlV7UPPE/mzooKSKX8T9MypUS5e3xPy03soSORPI/QFxmkAWV8j8bXY0hhOHyP+BdtLICLvM/sGWOI0918z9MUnbGOrzzPy6S1TD2AvQ/pP+XLaRF9D8ZbVoqUoj0P3zaHCcAy/Q/E3BPkjkA9T/eczN1EzX1P+t1F1jtafU/WHrshW6d9T/f2kwyisT1P2U7rd6l6/U/7JsNi8ES9j9z/G033Tn2P/ZczuP4YPY/Ib/zlVt29j9WGEcf44j2P4txmqhqm/Y/wMrtMfKt9j/0I0G7ecD2Pyh9lEQB0/Y/XdbnzYjl9j+SLztXEPj2P8aIjuCXCvc/++HhaR8d9z8wOzXzpi/3P9bNoNQETfc/aIoIt/Ns9z/6RnCZ4oz3P4sD2HvRrPc/HMA/XsDM9z+ufKdAr+z3PzJJAQAAAPg/VIoEAAAA+D91ywcAAAD4P5cMCwAAAPg/uU0OAAAA+D/ajhEAAAD4P/zPFAAAAPg/ARgYAAAA+D8/UhsAAAD4P2GTHgAAAPg/g9QhAAAA+D+kFSUAAAD4P8ZWKAAAAPg/6JcrAAAA+D8J2S4AAAD4P3waMgAAAPg/TVs1AAAA+D9unDgAAAD4P5DdOwAAAPg/sh4/AAAA+D/TX0IAAAD4P/WgRQAAAPg/F+JIAAAA+D84I0wAAAD4P1pkTwAAAPg/fKVSAAAA+D+d5lUAAAD4P78nWQAAAPg/4WhcAAAA+D8=",
          "dtype": "f8"
         },
         "yaxis": "y"
        },
        {
         "line": {
          "color": "black",
          "dash": "dash"
         },
         "mode": "lines",
         "name": "theoretical CL curve +/- 0.1",
         "showlegend": false,
         "type": "scatter",
         "x": {
          "bdata": "AAAAAAAAAMCbbLLJJpv8vzbZZJNNNvm/0kUXXXTR9b9ssskmm2zyvxA++OCDD+6/RhdddNFF57988MEHH3zgv2STTTbZZNO/QBdddNFFt78AH3zwwQe/P1hVVVVVVdU/dNFFF1104T9A+OCDDz7oPwgffPDBB+8/6qKLLrro8j9ONtlkk032P7LJJptssvk/GF100UUX/T8++OCDDz4AQPDBBx988AFApIsuuuiiA0BWVVVVVVUFQAgffPDBBwdAuuiiiy66CEBssskmm2wKQCB88MEHHwxA0kUXXXTRDUCEDz744IMPQJtssskmmxBAddFFF110EUBONtlkk00SQCebbLLJJhNAAAAAAAAAFEDZZJNNNtkUQLPJJptsshVAjC666KKLFkBlk0022WQXQD744IMPPhhAGF100UUXGUDwwQcffPAZQMomm2yyyRpApIsuuuiiG0B88MEHH3wcQFZVVVVVVR1ALrrooosuHkAIH3zwwQcfQOKDDz744B9AXXTRRRddIEDKJptssskgQDbZZJNNNiFAo4suuuiiIUAQPvjggw8iQHzwwQcffCJA6aKLLrroIkBWVVVVVVUjQMIHH3zwwSNAL7rooosuJECbbLLJJpskQAgffPDBByVAddFFF110JUDhgw8++OAlQE422WSTTSZAuuiiiy66JkAnm2yyySYnQJRNNtlkkydAAAAAAAAAKEBtsskmm2woQNlkk0022ShARhdddNFFKUCzySabbLIpQB988MEHHypAjC666KKLKkD44IMPPvgqQGWTTTbZZCtA0kUXXXTRK0A++OCDDz4sQKqqqqqqqixAGF100UUXLUCEDz744IMtQPDBBx988C1AXnTRRRddLkDKJptssskuQDbZZJNNNi9ApIsuuuiiL0AIH3zwwQcwQD744IMPPjBAddFFF110MECrqqqqqqowQOGDDz744DBAF1100UUXMUBONtlkk00xQIQPPvjggzFAuuiiiy66MUDxwQcffPAxQCebbLLJJjJAXXTRRRddMkCUTTbZZJMyQMomm2yyyTJAAAAAAAAAM0A=",
          "dtype": "f8"
         },
         "y": {
          "bdata": "XzvXvJUXxj8lkd82w+jIPyFk6LDwucs/hfjwKh6Lzj9yxnzSJa7QP6YQgY+8FtI/1lqFTFN/0z8GpYkJ6ufUPzjvjcaAUNY/ajmSgxe51z+ag5ZAriHZP8zNmv1Eito//hefutvy2z8wYqN3clvdP2CspzQJxN4/SfvV+E8W4D9iIFhXm8rgP3pF2rXmfuE/k2pcFDIz4j+rj95yfefiP+amBln3m+M/99Yr7pJQ5D8AB1GDLgXlP/c2dhjKueU/pmabrWVu5j+mlcBCASPnPzTD5dec1+c/WPcKbTiM6D8VJzAC1EDpP1pWVZdv9ek/KoV6LAuq6j+Ds5/Bpl7rP2ThxFZCE+w/zw7q693H7D8xLsW+Y3XtP/MH/qK2Iu4/GVJmuqTD7j/PU7TcoVzvP1lVAv+e9e8/fDJb8BtC8D8YH0OTB4nwP/peov3Cz/A/cMxk+nAS8T/lOSf3HlXxP0in6fPMl/E/3zwcXwbN8T+qQABC4AHyP7dC5CS6NvI/JEe5Ujtq8j+rpxn/VpHyPzEIeqtyuPI/uGjaV47f8j8/yToEqgbzP8Ipm7DFLfM/7YvAYihD8z8i5RPsr1XzP1c+Z3U3aPM/jJe6/r568z/A8A2IRo3zP/RJYRHOn/M/KaO0mlWy8z9e/Ack3cTzP5JVW61k1/M/x66uNuzp8z/8BwLAc/zzP6KabaHRGfQ/NFfVg8A59D/GEz1mr1n0P1fQpEieefQ/6IwMK42Z9D96SXQNfLn0P/4VzszMzPQ/IFfRzMzM9D9BmNTMzMz0P2PZ18zMzPQ/hRrbzMzM9D+mW97MzMz0P8ic4czMzPQ/zeTkzMzM9D8LH+jMzMz0Py1g68zMzPQ/T6HuzMzM9D9w4vHMzMz0P5Ij9czMzPQ/tGT4zMzM9D/VpfvMzMz0P0jn/szMzPQ/GSgCzczM9D86aQXNzMz0P1yqCM3MzPQ/fusLzczM9D+fLA/NzMz0P8FtEs3MzPQ/464VzczM9D8E8BjNzMz0PyYxHM3MzPQ/SHIfzczM9D9psyLNzMz0P4v0Jc3MzPQ/rTUpzczM9D8=",
          "dtype": "f8"
         },
         "yaxis": "y"
        },
        {
         "marker": {
          "color": "grey",
          "size": 6,
          "symbol": "cross"
         },
         "mode": "markers",
         "name": "Roller coaster",
         "showlegend": true,
         "type": "scatter",
         "x": {
          "bdata": "konDdWjUCUCrfb9TGlALQLhhXEe9CxBA2Hwso3faEkCORi+CWusUQMhuEM4qXBVA9bvzGudtFEB2U7hHiooRQMhN75ryDAtAMFcxj5RxAUB5eZzKjkD3P8+TCBfzm/E/EcH9A4C86D8FoI5MZLrgPyxUnQ26bdw/b7UJCkjr3z8BPkAOZZfyP5Xrq15yXAJAsCwwmp+hDEDntfw/BFYTQCZh+k54lBZAicTvKTr7GEDa+XwYXzMaQGMYNBNuiRpAS7lnqPSxGUCnb9eWCV0XQNP+qBJ38RNA/oGJllBIEEBjyG00Q5AJQKix9Xs4DPs/kgn5rELb5z/C9U3Up9zeP8YdK4a7Qds/B5ftisRb1j8NX+KY8e7RP8VUvWlWuNo/Zz2KbICs7z8U8CDp7qoBQHX/c3I52A1A1zYnXWpGFEAyhjZIw2YXQM6D6tzLqRhAaSHdYOYKGUBUZj2mBvoZQPTdI+a2bxpARrxmH/QpGEAk7NnYlxwRQOhnaxU3Nf8/HvkXc4ez6j/X9FvEodXmPwOksafrie0/tbH+XnQO7T/3y3p8E3LqP2I06EQ4teg/8awEmnNC6j/ZRkRGbF/zP2Vz37NBFwdAYBBRkjsfFUBUZwSG1qIaQP12wHcxbB1AIGQtIzpcH0Clg/CWP/QfQBS2LQiP5htALc8Rcrk1EkAynUjIpqoEQBuzRfZclfk/2UcImmH18j9IGlLCujTtPyUIZAzaAOg/79niocNP4z+oZacONJXlP6pg49hQyOA/olanlY7/5j//4oXlTPLyP0WwRUYJSgJAPnzKGUPMC0BGXx2NPNATQABd7y9rnRlAV7TjixkwHECJVBNlMNgcQNnuv0nyxhxA9htqnQSxGEDvml5qVjQPQNyvJWhjjABA2VPvx/7Z8D+8dwFNWpvkPwL7QYLKBN8/4Pt/KBvL2D/nXA/Cf8L0P2oU5a9siQVA",
          "dtype": "f8"
         },
         "y": {
          "bdata": "N1KsZLT/5j+oqaIa8rLnP3sRXUtga+k/K+P7fM5P6z/6Md6Tnn3sP4516Qx73+w/EUSqW5r16z9ZTeRJxQzqP6Cxd1KBEOc/Dgq3dSTf4z8oiElvY9PhP3nHhumesOA/aBLjGfKs3z+OhSxgW1LeP4jgnSCfEN4/kM5RKiHZ3j9vJr6nH2HhPxCP2btEjOQ/ELK0OfE/6D+4yA1GMbDrP8IS2ZPqQe4/f9akvKLf7z//lwxrfFHwP0jaOcywavA/4nP78efs7z/8Sfh7BkDuP8wBiYgLqes/k0FS32Es6T8msJriXDXmPyt2agK0ZOI/FL49A2y03z97Bc9UmNLdP+3UidhTmN0/McODhPVN3T8mNG1phCvdP3nA/pSPU94/gpyN/ADh4D/ovwKmZ0/kPy86TwAYi+g/CBq9iVpi7D+ZfCarzpLuPwEfQ+LxW+8/Qza6uzHn7z92nP2eUDTwP0lPO2uHPvA/WzCwDcas7j+sdJuyF3/pPxmVoHSxj+M/W4GjWehJ4D83FALxODDfP2Ct4LApJeA/H0AsunU94D/r7VVgSt3fP4rvgCuQvt8/cuzgnzoz4D/C1Y3zONXhP+418fQPcuY/r+ZmOHGN7D/3FdYoymvwP/+3xvExffE/N2WaI2Ea8j9h36wbTQHyP5FavRRwZvA/3+Yr9vGo6j9Y9SrNXBDlP8YEbeloJOI/FZj/r73k4D8yRz2ThhLgP+PnBb+SJd8/2T3B8pqI3j9MZXtNlNDeP7Y0lYZtl94/cyrW7yil3z+765JV0onhP6TV2qC3VOQ/4ckZgI4D6D85T1EFvSnsP4aoxs86EPA/TfifftAU8T9BIaI8kE/xP36UlMG4G/E/x0BmU0vb7j9h6jsHAffoP5bwwLuwuuM/V0HDwUvV4D+Ll79JZwvfP/2xXZHn390/gdjeE+4u3j9el0mH27fhP8NjrwE2IOU/",
          "dtype": "f8"
         },
         "yaxis": "y"
        },
        {
         "marker": {
          "color": "grey",
          "size": 6,
          "symbol": "cross"
         },
         "mode": "markers",
         "name": "Roller coaster",
         "showlegend": false,
         "type": "scatter",
         "x": {
          "bdata": "HG7zCTmOCkDoDxwz5KMNQPV7Xkq8gxFAF/q2l27JE0DNdFC2OeYUQN0N0I6x/RRAWa4ieVnuFEA3EiHgHJsUQD+WxH5ODBJA5m7h37zWDUC0zrJDGYYJQDS6qcS4XwVAgQY/HXzeAEBlPypMwaf6P2l4XsGI0vk/uUEwS0/Z9z8A3p2/HGXzP1pdSbuKAPI/YvqIRdrw8j8lOQ3bRHn2P8bHSgs7Bv8/jlDBQy8wCUC04THARzsRQND6gtOY/BNAS/qu4o6/FUDbF6s9Cg0XQN2OuKZqzhdAad5GjxBUGEA8gqNOg4MYQBNj+ATSwRhAQgmbbAyIFkBNzcZtyt0QQP76ABhxgAhAsNlhzzOWA0DW6F7nM/kAQDf/o8C5sv0/p5epkJWo+T/SCbSe6Tn1P8JmUpVnV/I/kmTsVZtd8T/4k4llRCvxP+JlfQrGL/E/Wi3Ik3QF9T80J/ZgmNsBQDfJkZKWEA1ADOFxEvl2E0DJLxxbUcsWQH81E+2duxhAcCB/uR3uGUDMwiWX3x8bQNfwcw34lhtAqr07fMUdG0BnrUakVUQYQES6MYGHFRNAKybR0l9jCkBzwtemuEUAQI0Giu8udPM/rYu+JV9z7j87aiB/+PfrP46vEOEf6Ok/tx9P4ucO5D/bOCXd1ffcPz538j5xJNc/Hd3I8Y0y1j8bnVJE18XkP7qxrKz66f8/+Vh1TiREEECg7di6ab8WQAwCrfAr6hlAL8HHifU7HEAda14F8nAeQNIAntSsyR9AqHK6C7sJIEAyw1ne1S8eQIKvJ67DVhhAjpHP5/3HDkAFZuJo64b7P8NPsThY0OI/4O3ROjra0z9ArBLWr0DMP5lCuN6RJsQ/BcJRib0BpT/qVjpjReqxPxYJWOvUdMc/jKDe5fOc6T/OfgEKofn4P4Ld9HVQdgZAiLoysmkAEUA6RW0OodwWQALY4QQ65xpATk7kg4cKHUAz1keGgPEeQM4GBMa7iCBAz4xud7xoIUBGlaZX894gQLbbrjvc9RtA6n+0laHGE0BAMIa/B4kLQLnqeL4NgAVAD0k3z3fgAEBWb+qNjsP6P4qfq7523PQ/1TCVOxem9D9h+lgt+FP7Pw==",
          "dtype": "f8"
         },
         "y": {
          "bdata": "TQv8L+xj5z86Ci4ctYDoP6VsMGGJMeo/ofdiHQbS6z9HcUjPmZDsP7R9RBVYqew/af9XvHWm7D86vPkYWSnsP9Aq4nzoX+o/kzj5jNxA6D+d3zYm4qXmP3go3RY9IuU/Xhl4bJqc4z+Kdo6DPZriP6axPPiJYOI/r+KrhJMS4j+nHL84N0bhP0dkI1nA/OA/eIkD13xH4T8suFRbneThP9KPUg1bwuM/iMj6rq3s5j9L327e7CXqP0qe/1NhPew/IqZtcLOP7T8N0EQQ82TuP/CI6m8x2+4/z+om2b4J7z8A65KZGDLvP+5RgiSyDO8/HvzeW4U+7T+yBaw8wafpPytxpfy9bOY/IywCTOKL5D9YVbW5DY3jPzcGHpHB3eI/ykgVXqk34j8zr3ZX2lbhPxOXCie15uA/xSdaCrC54D/Iz2TAfcPgPwnuPbNM0eA/fda2yxPX4T/ooUCXKHHkP/ITZ/nRQug/H2Z2oXjO6z/m6ijAxEDuP/O43c4MoO8/Y0rJH9ZA8D/Z8N51Bp/wP23gWDCnyPA/0/LVmZdx8D8D73pS1KXuP5Vq58h1COs/+4fk9HHs5j8Ujw6lG2/jP7acoO8RKuE/qDBDtkk/4D+eH1em+APgP4mgd7MJhN8/AltxJUee3j+5JZfO1MjdP4myYzjDXN0/85LXHqmC3T8iIH+x4BbgP7wuv0GU/OM/1pNF8uyM6T8BR8nDMxjuP7cmohrMUfA/K9P7EWUu8T8QHAX8H93xP5pENAJcM/I/XcF2TbU08j/wBXFSuFPxPwUObzL9kO4/MDBr9hOE6D+2NaI7cdLiP4CyY+dJ994/sWAaRyz83D+ip12vinncP29b7Q4DHtw/JWL4XlS+2z/pdMWKRPzbP/z9oCCfRN0/v4DlZ00n4D9D59i2cqriP/6ECBPiGOY/VCDzYJJY6j/bbcHkIGruPyxpkMxKifA/soEaW6Nh8T/z1azrtvLxPzS/JgIEtfI/ctbAuPcq8z+cfHHSP4TyP4wbSoy0fPA/FVu5uOqL6z8gI8uw2XXnP+lDz2yb7eQ/E5hlaN9i4z+OywxquSviP22pH+JoTuE/LTpGaOpj4T+30pKkWZ/iPw==",
          "dtype": "f8"
         },
         "yaxis": "y"
        },
        {
         "marker": {
          "color": "black",
          "size": 10,
          "symbol": "triangle-up-open"
         },
         "mode": "markers",
         "name": "Wind-up turn",
         "showlegend": true,
         "type": "scatter",
         "x": {
          "bdata": "pZVyOffLC0BFOCgL5MwKQDo5f5RO+wlABwdtpvhkCUDDtVV7ZtIKQNwh4fFb+g1Ad8QHh9ErEEDcXB1d/MkQQJBN+GK9ExFA4iKW6eotEUDYoDD06J0RQIvmPFlH/BFAQgwitBDzEUB562t2JM8RQDrmzdkK1BFA/ijOam04EkASBGDLVWcTQDDHPgOfbRRAM9UjS4J4FUAPG3wtifMVQFvAt1tmMhZAR5VI4+1AFkBCkIMLQxgXQAr/A3tZthhARHi/vq0lGkAk7nd8ovAaQBYug06qmBtA++Z5zsvOG0AMd8p4VMcbQKJGuLMSuxtAX/JgcUxCHECCtdH3B48dQEz3JKDRoh5ATLHmc9BBH0DvneptmQUfQCO9DZdHdhpAEjIEmgQbE0ChZR7HFkoPQJt8sDdATQ9A7V7OMzF4EEBTiutEs/MQQHrYQ8DJ9xFA",
          "dtype": "f8"
         },
         "y": {
          "bdata": "ydP4mc1N5z8lRu9WJRXnP1Ac8Pb/u+Y/9zpGjQWX5j/OfZFpihznP9xTYIiLJOg/IBxsByDj6D9G8Ld+KlvpP4Pa7H8Sjuk/Lmuxi5m46T//0QOFTRfqP3zzbTSWZuo/dKv5V4Nf6j9YGqOGam3qPxt7nfANaOo/ha4MyBG16j+KBSzZvq3rP4xyzXlNZew/kPgLoeMp7T9ssOV9iaTtPxcMl5dH1u0/KA+FT5r+7T9nVrRP66ruP5MQxupJv+8/Ibl4Z6VU8D+ux616C4zwPy9LVfbMuvA/uEt84wrH8D+JHrOS78HwPwh2A/xju/A/WQsTweP08D/qgzIf42jxPym++VlexPE/WmwQMG//8T9oBpjFpbPxP+cJ51d3GfA/o0pgOyyx6z9QriTuoxbpP/ueEL5Q5Og/VT6rfYJV6T+epaadJcDpP3+AMyBbqOo/",
          "dtype": "f8"
         },
         "yaxis": "y"
        },
        {
         "marker": {
          "color": "black",
          "size": 10,
          "symbol": "triangle-up-open"
         },
         "mode": "markers",
         "name": "Wind-up turn",
         "showlegend": false,
         "type": "scatter",
         "x": {
          "bdata": "0d/OJQ7+CUCVqo3dkAAKQK9e6EabFApAgYMJQ+U9CkDtLs9T53MKQMhNF0iaagpAfPUTqgZXCkCcc7SAiX0KQF6E2gTXtQtA7kkof93BDkCzxtgneHYQQAAnPcxqxBBAA88pFOYsEUBHZvUSLkMTQBEvPVQW9hVADpve4YbTGEA=",
          "dtype": "f8"
         },
         "y": {
          "bdata": "jWpqNNbM5j+A93ra8NPmP3mt4uq11+Y/zSghyyb45j8q0nyXhRLnP4l2AOyRCec/juw5qSz+5j/r8ApD8BnnP2yZmP6axuc/zM6Q3/HG6D9c//iKOn/pP5Gn/7uuvek/VWaWhgdT6j8AQcOqiNnrP08TLC6/4u0/Tu4DhM/d7z8=",
          "dtype": "f8"
         },
         "yaxis": "y"
        }
       ],
       "layout": {
        "annotations": [
         {
          "align": "left",
          "font": {
           "color": "black",
           "family": "Arial",
           "size": 16
          },
          "showarrow": false,
          "text": "<b>Configuration:</b> Approach (gear down, flaps 40%)<br><b>Pressure altitude:</b> 15 000 ft<br><b>Weight:</b> 11'500 lb to 12'000 lb<br><b>CG:</b> 20 to 20.5%<br>",
          "x": 0,
          "xref": "paper",
          "y": 1.15,
          "yref": "paper"
         },
         {
          "align": "left",
          "font": {
           "color": "black",
           "family": "Arial",
           "size": 16
          },
          "showarrow": false,
          "text": "<b>Data basis:</b> Flight test<br><b>Test date:</b> April 30th, 2025<br><b>Tail number:</b> 215 (with YAPS)<br><b>Airspeed:</b> 120 KIAS<br>",
          "x": 0.55,
          "xref": "paper",
          "y": 1.15,
          "yref": "paper"
         },
         {
          "align": "left",
          "font": {
           "color": "black",
           "family": "Arial",
           "size": 16
          },
          "showarrow": false,
          "text": "<b>Configuration:</b> Approach (gear down, flaps 40%)<br><b>Pressure altitude:</b> 15 000 ft<br><b>Weight:</b> 11'500 lb to 12'000 lb<br><b>CG:</b> 20 to 20.5%<br>",
          "x": 0,
          "xref": "paper",
          "y": 1.15,
          "yref": "paper"
         },
         {
          "align": "left",
          "font": {
           "color": "black",
           "family": "Arial",
           "size": 16
          },
          "showarrow": false,
          "text": "<b>Data basis:</b> Flight test<br><b>Test date:</b> April 30th, 2025<br><b>Tail number:</b> 215 (with YAPS)<br><b>Airspeed:</b> 120 KIAS<br>",
          "x": 0.55,
          "xref": "paper",
          "y": 1.15,
          "yref": "paper"
         },
         {
          "align": "left",
          "font": {
           "color": "black",
           "family": "Arial",
           "size": 16
          },
          "showarrow": false,
          "text": "<b>Configuration:</b> Approach (gear down, flaps 40%)<br><b>Pressure altitude:</b> 15 000 ft<br><b>Weight:</b> 11'500 lb to 12'000 lb<br><b>CG:</b> 20 to 20.5%<br>",
          "x": 0,
          "xref": "paper",
          "y": 1.15,
          "yref": "paper"
         },
         {
          "align": "left",
          "font": {
           "color": "black",
           "family": "Arial",
           "size": 16
          },
          "showarrow": false,
          "text": "<b>Data basis:</b> Flight test<br><b>Test date:</b> April 30th, 2025<br><b>Tail number:</b> 215 (with YAPS)<br><b>Airspeed:</b> 120 KIAS<br>",
          "x": 0.55,
          "xref": "paper",
          "y": 1.15,
          "yref": "paper"
         },
         {
          "align": "left",
          "font": {
           "color": "black",
           "family": "Arial",
           "size": 16
          },
          "showarrow": false,
          "text": "<b>Configuration:</b> Approach (gear down, flaps 40%)<br><b>Pressure altitude:</b> 15 000 ft<br><b>Weight:</b> 11'500 lb to 12'000 lb<br><b>CG:</b> 20 to 20.5%<br>",
          "x": 0,
          "xref": "paper",
          "y": 1.15,
          "yref": "paper"
         },
         {
          "align": "left",
          "font": {
           "color": "black",
           "family": "Arial",
           "size": 16
          },
          "showarrow": false,
          "text": "<b>Data basis:</b> Flight test<br><b>Test date:</b> April 30th, 2025<br><b>Tail number:</b> 215 (with YAPS)<br><b>Airspeed:</b> 120 KIAS<br>",
          "x": 0.55,
          "xref": "paper",
          "y": 1.15,
          "yref": "paper"
         }
        ],
        "height": 1152,
        "legend": {
         "font": {
          "color": "black",
          "family": "Arial",
          "size": 16
         },
         "x": 0.99,
         "xanchor": "right",
         "y": 0.01,
         "yanchor": "bottom"
        },
        "shapes": [
         {
          "layer": "below",
          "line": {
           "color": "black",
           "width": 2
          },
          "type": "rect",
          "x0": 0,
          "x1": 1,
          "xref": "paper",
          "y0": 1.05,
          "y1": 1.15,
          "yref": "paper"
         },
         {
          "layer": "below",
          "line": {
           "color": "black",
           "width": 2
          },
          "type": "rect",
          "x0": 0,
          "x1": 1,
          "xref": "paper",
          "y0": 1.05,
          "y1": 1.15,
          "yref": "paper"
         },
         {
          "layer": "below",
          "line": {
           "color": "black",
           "width": 2
          },
          "type": "rect",
          "x0": 0,
          "x1": 1,
          "xref": "paper",
          "y0": 1.05,
          "y1": 1.15,
          "yref": "paper"
         },
         {
          "layer": "below",
          "line": {
           "color": "black",
           "width": 2
          },
          "type": "rect",
          "x0": 0,
          "x1": 1,
          "xref": "paper",
          "y0": 1.05,
          "y1": 1.15,
          "yref": "paper"
         }
        ],
        "showlegend": true,
        "template": {
         "data": {
          "bar": [
           {
            "error_x": {
             "color": "#2a3f5f"
            },
            "error_y": {
             "color": "#2a3f5f"
            },
            "marker": {
             "line": {
              "color": "#E5ECF6",
              "width": 0.5
             },
             "pattern": {
              "fillmode": "overlay",
              "size": 10,
              "solidity": 0.2
             }
            },
            "type": "bar"
           }
          ],
          "barpolar": [
           {
            "marker": {
             "line": {
              "color": "#E5ECF6",
              "width": 0.5
             },
             "pattern": {
              "fillmode": "overlay",
              "size": 10,
              "solidity": 0.2
             }
            },
            "type": "barpolar"
           }
          ],
          "carpet": [
           {
            "aaxis": {
             "endlinecolor": "#2a3f5f",
             "gridcolor": "white",
             "linecolor": "white",
             "minorgridcolor": "white",
             "startlinecolor": "#2a3f5f"
            },
            "baxis": {
             "endlinecolor": "#2a3f5f",
             "gridcolor": "white",
             "linecolor": "white",
             "minorgridcolor": "white",
             "startlinecolor": "#2a3f5f"
            },
            "type": "carpet"
           }
          ],
          "choropleth": [
           {
            "colorbar": {
             "outlinewidth": 0,
             "ticks": ""
            },
            "type": "choropleth"
           }
          ],
          "contour": [
           {
            "colorbar": {
             "outlinewidth": 0,
             "ticks": ""
            },
            "colorscale": [
             [
              0,
              "#0d0887"
             ],
             [
              0.1111111111111111,
              "#46039f"
             ],
             [
              0.2222222222222222,
              "#7201a8"
             ],
             [
              0.3333333333333333,
              "#9c179e"
             ],
             [
              0.4444444444444444,
              "#bd3786"
             ],
             [
              0.5555555555555556,
              "#d8576b"
             ],
             [
              0.6666666666666666,
              "#ed7953"
             ],
             [
              0.7777777777777778,
              "#fb9f3a"
             ],
             [
              0.8888888888888888,
              "#fdca26"
             ],
             [
              1,
              "#f0f921"
             ]
            ],
            "type": "contour"
           }
          ],
          "contourcarpet": [
           {
            "colorbar": {
             "outlinewidth": 0,
             "ticks": ""
            },
            "type": "contourcarpet"
           }
          ],
          "heatmap": [
           {
            "colorbar": {
             "outlinewidth": 0,
             "ticks": ""
            },
            "colorscale": [
             [
              0,
              "#0d0887"
             ],
             [
              0.1111111111111111,
              "#46039f"
             ],
             [
              0.2222222222222222,
              "#7201a8"
             ],
             [
              0.3333333333333333,
              "#9c179e"
             ],
             [
              0.4444444444444444,
              "#bd3786"
             ],
             [
              0.5555555555555556,
              "#d8576b"
             ],
             [
              0.6666666666666666,
              "#ed7953"
             ],
             [
              0.7777777777777778,
              "#fb9f3a"
             ],
             [
              0.8888888888888888,
              "#fdca26"
             ],
             [
              1,
              "#f0f921"
             ]
            ],
            "type": "heatmap"
           }
          ],
          "histogram": [
           {
            "marker": {
             "pattern": {
              "fillmode": "overlay",
              "size": 10,
              "solidity": 0.2
             }
            },
            "type": "histogram"
           }
          ],
          "histogram2d": [
           {
            "colorbar": {
             "outlinewidth": 0,
             "ticks": ""
            },
            "colorscale": [
             [
              0,
              "#0d0887"
             ],
             [
              0.1111111111111111,
              "#46039f"
             ],
             [
              0.2222222222222222,
              "#7201a8"
             ],
             [
              0.3333333333333333,
              "#9c179e"
             ],
             [
              0.4444444444444444,
              "#bd3786"
             ],
             [
              0.5555555555555556,
              "#d8576b"
             ],
             [
              0.6666666666666666,
              "#ed7953"
             ],
             [
              0.7777777777777778,
              "#fb9f3a"
             ],
             [
              0.8888888888888888,
              "#fdca26"
             ],
             [
              1,
              "#f0f921"
             ]
            ],
            "type": "histogram2d"
           }
          ],
          "histogram2dcontour": [
           {
            "colorbar": {
             "outlinewidth": 0,
             "ticks": ""
            },
            "colorscale": [
             [
              0,
              "#0d0887"
             ],
             [
              0.1111111111111111,
              "#46039f"
             ],
             [
              0.2222222222222222,
              "#7201a8"
             ],
             [
              0.3333333333333333,
              "#9c179e"
             ],
             [
              0.4444444444444444,
              "#bd3786"
             ],
             [
              0.5555555555555556,
              "#d8576b"
             ],
             [
              0.6666666666666666,
              "#ed7953"
             ],
             [
              0.7777777777777778,
              "#fb9f3a"
             ],
             [
              0.8888888888888888,
              "#fdca26"
             ],
             [
              1,
              "#f0f921"
             ]
            ],
            "type": "histogram2dcontour"
           }
          ],
          "mesh3d": [
           {
            "colorbar": {
             "outlinewidth": 0,
             "ticks": ""
            },
            "type": "mesh3d"
           }
          ],
          "parcoords": [
           {
            "line": {
             "colorbar": {
              "outlinewidth": 0,
              "ticks": ""
             }
            },
            "type": "parcoords"
           }
          ],
          "pie": [
           {
            "automargin": true,
            "type": "pie"
           }
          ],
          "scatter": [
           {
            "fillpattern": {
             "fillmode": "overlay",
             "size": 10,
             "solidity": 0.2
            },
            "type": "scatter"
           }
          ],
          "scatter3d": [
           {
            "line": {
             "colorbar": {
              "outlinewidth": 0,
              "ticks": ""
             }
            },
            "marker": {
             "colorbar": {
              "outlinewidth": 0,
              "ticks": ""
             }
            },
            "type": "scatter3d"
           }
          ],
          "scattercarpet": [
           {
            "marker": {
             "colorbar": {
              "outlinewidth": 0,
              "ticks": ""
             }
            },
            "type": "scattercarpet"
           }
          ],
          "scattergeo": [
           {
            "marker": {
             "colorbar": {
              "outlinewidth": 0,
              "ticks": ""
             }
            },
            "type": "scattergeo"
           }
          ],
          "scattergl": [
           {
            "marker": {
             "colorbar": {
              "outlinewidth": 0,
              "ticks": ""
             }
            },
            "type": "scattergl"
           }
          ],
          "scattermap": [
           {
            "marker": {
             "colorbar": {
              "outlinewidth": 0,
              "ticks": ""
             }
            },
            "type": "scattermap"
           }
          ],
          "scattermapbox": [
           {
            "marker": {
             "colorbar": {
              "outlinewidth": 0,
              "ticks": ""
             }
            },
            "type": "scattermapbox"
           }
          ],
          "scatterpolar": [
           {
            "marker": {
             "colorbar": {
              "outlinewidth": 0,
              "ticks": ""
             }
            },
            "type": "scatterpolar"
           }
          ],
          "scatterpolargl": [
           {
            "marker": {
             "colorbar": {
              "outlinewidth": 0,
              "ticks": ""
             }
            },
            "type": "scatterpolargl"
           }
          ],
          "scatterternary": [
           {
            "marker": {
             "colorbar": {
              "outlinewidth": 0,
              "ticks": ""
             }
            },
            "type": "scatterternary"
           }
          ],
          "surface": [
           {
            "colorbar": {
             "outlinewidth": 0,
             "ticks": ""
            },
            "colorscale": [
             [
              0,
              "#0d0887"
             ],
             [
              0.1111111111111111,
              "#46039f"
             ],
             [
              0.2222222222222222,
              "#7201a8"
             ],
             [
              0.3333333333333333,
              "#9c179e"
             ],
             [
              0.4444444444444444,
              "#bd3786"
             ],
             [
              0.5555555555555556,
              "#d8576b"
             ],
             [
              0.6666666666666666,
              "#ed7953"
             ],
             [
              0.7777777777777778,
              "#fb9f3a"
             ],
             [
              0.8888888888888888,
              "#fdca26"
             ],
             [
              1,
              "#f0f921"
             ]
            ],
            "type": "surface"
           }
          ],
          "table": [
           {
            "cells": {
             "fill": {
              "color": "#EBF0F8"
             },
             "line": {
              "color": "white"
             }
            },
            "header": {
             "fill": {
              "color": "#C8D4E3"
             },
             "line": {
              "color": "white"
             }
            },
            "type": "table"
           }
          ]
         },
         "layout": {
          "height": 800,
          "legend": {
           "bordercolor": "black",
           "borderwidth": 1,
           "x": 1.1,
           "xanchor": "right",
           "y": 1.1,
           "yanchor": "bottom"
          },
          "margin": {
           "t": 200
          },
          "plot_bgcolor": "white",
          "showlegend": true,
          "title": {
           "font": {
            "color": "black",
            "family": "Arial",
            "size": 24,
            "weight": "bold"
           },
           "x": 0.5,
           "y": 0.98
          },
          "width": 1300,
          "xaxis": {
           "gridcolor": "lightgrey",
           "linecolor": "black",
           "showgrid": true,
           "showline": true,
           "tickcolor": "black",
           "tickfont": {
            "family": "Arial",
            "size": 14
           },
           "ticklen": 5,
           "ticks": "outside",
           "tickwidth": 2,
           "title": {
            "font": {
             "family": "Arial",
             "size": 18,
             "weight": "bold"
            }
           }
          },
          "yaxis": {
           "gridcolor": "lightgrey",
           "linecolor": "black",
           "showgrid": true,
           "showline": true,
           "tickcolor": "black",
           "tickfont": {
            "family": "Arial",
            "size": 14
           },
           "ticklen": 5,
           "ticks": "outside",
           "tickwidth": 2,
           "title": {
            "font": {
             "family": "Arial",
             "size": 18,
             "weight": "bold"
            }
           }
          },
          "yaxis2": {
           "gridcolor": "lightgrey",
           "linecolor": "black",
           "showgrid": false,
           "showline": true,
           "tickcolor": "black",
           "tickfont": {
            "family": "Arial",
            "size": 14
           },
           "ticklen": 5,
           "ticks": "outside",
           "tickwidth": 2,
           "title": {
            "font": {
             "family": "Arial",
             "size": 18,
             "weight": "bold"
            }
           }
          }
         }
        },
        "title": {
         "text": "C-12C lift curve"
        },
        "width": 1515.6,
        "xaxis": {
         "range": [
          -2,
          15
         ],
         "title": {
          "text": "Angle of attack, α (deg)"
         }
        },
        "yaxis": {
         "range": [
          0,
          1.5
         ],
         "title": {
          "text": "Lif coefficient, C<sub>L</sub>"
         }
        }
       }
      }
     },
     "metadata": {},
     "output_type": "display_data"
    },
    {
     "data": {
      "application/vnd.plotly.v1+json": {
       "config": {
        "plotlyServerURL": "https://plot.ly"
       },
       "data": [
        {
         "line": {
          "color": "black"
         },
         "mode": "lines",
         "name": "theoretical CL curve",
         "showlegend": false,
         "type": "scatter",
         "x": {
          "bdata": "1pmDvZPErz/Zt8T5GAqwP9awkpdZN7A/d5aQ6V5msD8PgHze35iwP/BcdWcbz7A/ed6oSuwGsT+v79njp0SxP+QAC31jgrE/7PI105/GsT9JviTKRwuyP3DCaEXxVLI/IsKPTBmhsj9WsCuuG/CyP0anTex5Q7M/S9xngbOXsz9ijUcd/vGzP3o+J7lITLQ/Y+xnEPestD/Q0X+8wQ61PwyfyHPWdLU/Wtk6DgbetT/ZkOUBd0m2P9lwtQjgubY/K9Q2Op4qtz8ek3yniqK3PxxRwhR3Grg/WNdB7sWXuD+0As3NoRa5Pz9epxMqmbk/rC6QXz8fuj/u9OVoI6e6PyqkRBu8NLs/ClOjzVTCuz9Wf8eFWlS8PzGO6w6A5rw/a5X6STJuvT/M+nhUMu+9Pwtg914ycL4/zjoZMh7zvj/268nPLXa/P1LEx1Dk+L8/qtZ50w46wD8qy49+q3fAP5i/pSlItcA/AQc4O5PqwD/jjbY8ox/BPwQTNT6zVME/5ampKWmIwT9iI/7hrK/BP96cUprw1sE/WxanUjT+wT/Zj/sKeCXCP1IJUMO7TMI/3SbMcH5jwj/hTZs6mHfCP+Z0agSyi8I/65s5zsufwj/uwgiY5bPCP/Lp12H/x8I/9hCnKxncwj/8N3b1MvDCP/9eRb9MBMM/A4YUiWYYwz8IreNSgCzDP22MebhbTMM/QHXP1f9uwz8SXiXzo5HDP+RGexBItMM/ti/RLezWwz+IGCdLkPnDP/SiCVuEDsQ/Y20NW4QOxD/RNxFbhA7EP0ACFVuEDsQ/r8wYW4QOxD8dlxxbhA7EP4thIFuEDsQ/ADQkW4QOxD9o9idbhA7EP9fAK1uEDsQ/RosvW4QOxD+0VTNbhA7EPyMgN1uEDsQ/keo6W4QOxD//tD5bhA7EP8t/QluEDsQ/3UlGW4QOxD9LFEpbhA7EP7neTVuEDsQ/KKlRW4QOxD+Xc1VbhA7EPwU+WVuEDsQ/cwhdW4QOxD/i0mBbhA7EP0+dZFuEDsQ/vmdoW4QOxD8sMmxbhA7EP5r8b1uEDsQ/CsdzW4QOxD8=",
          "dtype": "f8"
         },
         "y": {
          "bdata": "FgTSRDFy0T/5LtYByNrSP3eY2r5eQ9Q/qeLee/Wr1T/ZLOM4jBTXPwx35/Uifdg/PMHrsrnl2T9tC/BvUE7bP59V9Cznttw/0J/46X0f3j8B6vymFIjfPxmaALJVeOA/Mr+CEKEs4T9L5ARv7ODhP2MJh803leI/fC4JLINJ4z+VU4uKzv3jP614DekZsuQ/xp2PR2Vm5T/ewhGmsBrmPxnaOYwqz+Y/KgpfIcaD5z8zOoS2YTjoPypqqUv97Og/2ZnO4Jih6T/ZyPN1NFbqP2f2GAvQCus/iyo+oGu/6z9IWmM1B3TsP42JiMqiKO0/XbitXz7d7T+25tL02ZHuP5cU+Il1Ru8/AkIdHxH77z+yMPx4S1TwP5OdGOv0qvA/psLM9mv78D+Bw/OH6kfxP0bEGhlplPE/Fsz0ibXb8T+yuNwsoSLyP5T4O5dcafI/Cmb+kwqs8j9/08CQuO7yP+JAg41mMfM/eda1+J9m8z9E2pnbeZvzP1Hcfb5T0PM/vuBS7NQD9D9FQbOY8Cr0P8uhE0UMUvQ/UgJ08Sd59D/ZYtSdQ6D0P1zDNEpfx/Q/hyVa/MHc9D+8fq2FSe/0P/HXAA/RAfU/JjFUmFgU9T9aiqch4Cb1P47j+qpnOfU/wzxONO9L9T/4laG9dl71Pyzv9Eb+cPU/YUhI0IWD9T+WoZtZDZb1Pzw0Bztrs/U/zvBuHVrT9T9grdb/SPP1P/FpPuI3E/Y/giamxCYz9j8U4w2nFVP2P5ivZ2ZmZvY/uvBqZmZm9j/bMW5mZmb2P/1ycWZmZvY/H7R0ZmZm9j9A9XdmZmb2P2I2e2ZmZvY/Z35+ZmZm9j+luIFmZmb2P8f5hGZmZvY/6TqIZmZm9j8KfItmZmb2Pyy9jmZmZvY/Tv6RZmZm9j9vP5VmZmb2P+KAmGZmZvY/s8GbZmZm9j/UAp9mZmb2P/ZDomZmZvY/GIWlZmZm9j85xqhmZmb2P1sHrGZmZvY/fUivZmZm9j+eibJmZmb2P8DKtWZmZvY/4gu5ZmZm9j8DTbxmZmb2PyWOv2ZmZvY/R8/CZmZm9j8=",
          "dtype": "f8"
         },
         "yaxis": "y"
        },
        {
         "line": {
          "color": "black",
          "dash": "dash"
         },
         "mode": "lines",
         "name": "theoretical CL curve +/- 0.03",
         "showlegend": false,
         "type": "scatter",
         "x": {
          "bdata": "mRSjWV6Qtz+H/6V0Lbi3P4T4cxJu5bc/Jd5xZHMUuD+9x11Z9Ea4P56kVuIvfbg/JyaKxQC1uD9dN7tevPK4P5JI7Pd3MLk/mjoXTrR0uT/3BQZFXLm5Px4KSsAFA7o/0Alxxy1Puj8E+AwpMJ66P/TuLmeO8bo/+SNJ/MdFuz8Q1SiYEqC7PyiGCDRd+rs/ETRJiwtbvD9+GWE31ry8P7rmqe7qIr0/CCEciRqMvT+H2MZ8i/e9P4e4loP0Z74/2RsYtbLYvj/M2l0in1C/P8qYo4+LyL8/g4+RNO0iwD8xJVckW2LAP/ZSREefo8A/Lbs47anmwD9OnuPxmyrBP+z1EktoccE/XE1CpDS4wT+CY1SANwHCP/Bq5kRKSsI/jO5tYiOOwj89Ia1no87CP9xT7GwjD8M/PkF9VplQwz/SmVUlIZLDPwCG1GV808M/gXrqEBkRxD8BbwC8tU7EP29jFmdSjMQ/2KqoeJ3BxD+6MSd6rfbEP9u2pXu9K8U/vE0aZ3NfxT85x24ft4bFP7VAw9f6rcU/MroXkD7VxT+wM2xIgvzFPymtwADGI8Y/tMo8rog6xj+48Qt4ok7GP70Y20G8YsY/wj+qC9Z2xj/FZnnV74rGP8mNSJ8Jn8Y/zbQXaSOzxj/T2+YyPcfGP9YCtvxW28Y/2imFxnDvxj/fUFSQigPHP0Qw6vVlI8c/FxlAEwpGxz/pAZYwrmjHP7vq601Si8c/jdNBa/atxz9fvJeImtDHP8tGepiO5cc/OhF+mI7lxz+o24GYjuXHPxemhZiO5cc/hnCJmI7lxz/0Oo2YjuXHP2IFkZiO5cc/19eUmI7lxz8/mpiYjuXHP65knJiO5cc/HS+gmI7lxz+L+aOYjuXHP/rDp5iO5cc/aI6rmI7lxz/WWK+YjuXHP6Ijs5iO5cc/tO22mI7lxz8iuLqYjuXHP5CCvpiO5cc//0zCmI7lxz9uF8aYjuXHP9zhyZiO5cc/SqzNmI7lxz+5dtGYjuXHPyZB1ZiO5cc/lQvZmI7lxz8D1tyYjuXHP3Gg4JiO5cc/4WrkmI7lxz8=",
          "dtype": "f8"
         },
         "y": {
          "bdata": "FgTSRDFy0T/5LtYByNrSP3eY2r5eQ9Q/qeLee/Wr1T/ZLOM4jBTXPwx35/Uifdg/PMHrsrnl2T9tC/BvUE7bP59V9Cznttw/0J/46X0f3j8B6vymFIjfPxmaALJVeOA/Mr+CEKEs4T9L5ARv7ODhP2MJh803leI/fC4JLINJ4z+VU4uKzv3jP614DekZsuQ/xp2PR2Vm5T/ewhGmsBrmPxnaOYwqz+Y/KgpfIcaD5z8zOoS2YTjoPypqqUv97Og/2ZnO4Jih6T/ZyPN1NFbqP2f2GAvQCus/iyo+oGu/6z9IWmM1B3TsP42JiMqiKO0/XbitXz7d7T+25tL02ZHuP5cU+Il1Ru8/AkIdHxH77z+yMPx4S1TwP5OdGOv0qvA/psLM9mv78D+Bw/OH6kfxP0bEGhlplPE/Fsz0ibXb8T+yuNwsoSLyP5T4O5dcafI/Cmb+kwqs8j9/08CQuO7yP+JAg41mMfM/eda1+J9m8z9E2pnbeZvzP1Hcfb5T0PM/vuBS7NQD9D9FQbOY8Cr0P8uhE0UMUvQ/UgJ08Sd59D/ZYtSdQ6D0P1zDNEpfx/Q/hyVa/MHc9D+8fq2FSe/0P/HXAA/RAfU/JjFUmFgU9T9aiqch4Cb1P47j+qpnOfU/wzxONO9L9T/4laG9dl71Pyzv9Eb+cPU/YUhI0IWD9T+WoZtZDZb1Pzw0Bztrs/U/zvBuHVrT9T9grdb/SPP1P/FpPuI3E/Y/giamxCYz9j8U4w2nFVP2P5ivZ2ZmZvY/uvBqZmZm9j/bMW5mZmb2P/1ycWZmZvY/H7R0ZmZm9j9A9XdmZmb2P2I2e2ZmZvY/Z35+ZmZm9j+luIFmZmb2P8f5hGZmZvY/6TqIZmZm9j8KfItmZmb2Pyy9jmZmZvY/Tv6RZmZm9j9vP5VmZmb2P+KAmGZmZvY/s8GbZmZm9j/UAp9mZmb2P/ZDomZmZvY/GIWlZmZm9j85xqhmZmb2P1sHrGZmZvY/fUivZmZm9j+eibJmZmb2P8DKtWZmZvY/4gu5ZmZm9j8DTbxmZmb2PyWOv2ZmZvY/R8/CZmZm9j8=",
          "dtype": "f8"
         },
         "yaxis": "y"
        },
        {
         "line": {
          "color": "black",
          "dash": "dash"
         },
         "mode": "lines",
         "name": "theoretical CL curve  +/- 0.03",
         "showlegend": false,
         "type": "scatter",
         "x": {
          "bdata": "egrBx2pooD9W4Mb9CLigP1DSYjmKEqE/kp1e3ZRwoT/CcDbHltWhP4QqKNkNQqI/li2Pn6+xoj8CUPHRJi2jP2xyUwSeqKM/fFapsBYxpD827YaeZrqkP4T1DpW5TaU/6PRcownmpT9Q0ZRmDoSmPzC/2OLKKqc/OikNDT7Tpz9oi8xE04eoP5jti3xoPKk/akkNK8X9qT9EFD2DWsGqP7yuzvGDjas/WCOzJuNfrD9WkggOxTatP1ZSqBuXF64/+hirfhP5rj/gljZZ7OivP24J4ZlibLA/qo9gc7HpsD8Gu+tSjWixP5EWxpgV67E//uau5Cpxsj9ArQTuDvmyP3xcY6CnhrM/XAvCUkAUtD+oN+YKRqa0P4NGCpRrOLU/vU0Zzx3AtT8es5fZHUG2P10YFuQdwrY/IPM3twlFtz9IpOhUGci3P6R85tXPSrg/pmUSLAnGuD+mTj6CQkG5P4I3ath7vLk/VMaO+xEnuj8Y1Iv+MZG6P1reiAFS+7o/HAxy2L1iuz8W/xpJRbG7Pw7yw7nM/7s/COVsKlROvD8E2BWb25y8P/bKvgtj67w/DAa3ZugYvT8UVFX6G0G9Px6i841Pab0/KPCRIYORvT8uPjC1trm9PzaMzkjq4b0/Ptps3B0Kvj9KKAtwUTK+P1B2qQOFWr4/WMRHl7iCvj9iEuYq7Kq+PyzREfai6r4/0qK9MOsvvz92dGlrM3W/PxpGFaZ7ur8/vhfB4MP/vz+xdLYNhiLAPx3/mB16N8A/jMmcHXo3wD/6k6AdejfAP2lepB16N8A/2CioHXo3wD9G86sdejfAP7S9rx16N8A/KZCzHXo3wD+RUrcdejfAPwAdux16N8A/b+e+HXo3wD/dscIdejfAP0x8xh16N8A/ukbKHXo3wD8oEc4dejfAP/Tb0R16N8A/BqbVHXo3wD90cNkdejfAP+I63R16N8A/UQXhHXo3wD/Az+QdejfAPy6a6B16N8A/nGTsHXo3wD8LL/AdejfAP3j58x16N8A/58P3HXo3wD9VjvsdejfAP8NY/x16N8A/MyMDHno3wD8=",
          "dtype": "f8"
         },
         "y": {
          "bdata": "FgTSRDFy0T/5LtYByNrSP3eY2r5eQ9Q/qeLee/Wr1T/ZLOM4jBTXPwx35/Uifdg/PMHrsrnl2T9tC/BvUE7bP59V9Cznttw/0J/46X0f3j8B6vymFIjfPxmaALJVeOA/Mr+CEKEs4T9L5ARv7ODhP2MJh803leI/fC4JLINJ4z+VU4uKzv3jP614DekZsuQ/xp2PR2Vm5T/ewhGmsBrmPxnaOYwqz+Y/KgpfIcaD5z8zOoS2YTjoPypqqUv97Og/2ZnO4Jih6T/ZyPN1NFbqP2f2GAvQCus/iyo+oGu/6z9IWmM1B3TsP42JiMqiKO0/XbitXz7d7T+25tL02ZHuP5cU+Il1Ru8/AkIdHxH77z+yMPx4S1TwP5OdGOv0qvA/psLM9mv78D+Bw/OH6kfxP0bEGhlplPE/Fsz0ibXb8T+yuNwsoSLyP5T4O5dcafI/Cmb+kwqs8j9/08CQuO7yP+JAg41mMfM/eda1+J9m8z9E2pnbeZvzP1Hcfb5T0PM/vuBS7NQD9D9FQbOY8Cr0P8uhE0UMUvQ/UgJ08Sd59D/ZYtSdQ6D0P1zDNEpfx/Q/hyVa/MHc9D+8fq2FSe/0P/HXAA/RAfU/JjFUmFgU9T9aiqch4Cb1P47j+qpnOfU/wzxONO9L9T/4laG9dl71Pyzv9Eb+cPU/YUhI0IWD9T+WoZtZDZb1Pzw0Bztrs/U/zvBuHVrT9T9grdb/SPP1P/FpPuI3E/Y/giamxCYz9j8U4w2nFVP2P5ivZ2ZmZvY/uvBqZmZm9j/bMW5mZmb2P/1ycWZmZvY/H7R0ZmZm9j9A9XdmZmb2P2I2e2ZmZvY/Z35+ZmZm9j+luIFmZmb2P8f5hGZmZvY/6TqIZmZm9j8KfItmZmb2Pyy9jmZmZvY/Tv6RZmZm9j9vP5VmZmb2P+KAmGZmZvY/s8GbZmZm9j/UAp9mZmb2P/ZDomZmZvY/GIWlZmZm9j85xqhmZmb2P1sHrGZmZvY/fUivZmZm9j+eibJmZmb2P8DKtWZmZvY/4gu5ZmZm9j8DTbxmZmb2PyWOv2ZmZvY/R8/CZmZm9j8=",
          "dtype": "f8"
         },
         "yaxis": "y"
        },
        {
         "marker": {
          "color": "grey",
          "size": 6,
          "symbol": "cross"
         },
         "mode": "markers",
         "name": "Roller coaster",
         "showlegend": true,
         "type": "scatter",
         "x": {
          "bdata": "9Cak6cUZwD90grlRiUvAP05QDvj4AsE/KxHro5XcwT/WDHuePZTCP34VHrsh1MI/HyykzeVswj9PWtNYYIPBP4JVKZVWScA/J77wUmAtvj/uROFyzvK8Pz2aIwJYXrw/bTpIyWAlvD+/Ml0K7dC7P0EB3s7Kp7s/C3I1gGCquz/8jrY4oaC8P4TJCBy/n74/db81JsS9wD+hEqjqYEPCP6WmzybqjcM/gbdx39RpxD8dsrxcYMzEPx9HC/QZ78Q/yP0QqgBpxD/pToCk/2/DPxugFaG4EMI/VMuJyl7lwD98mKaJY+i/P9OIJi0vE70/HBl7duiUuz8Wj3OjfCy7PxVZ8FbaQLs/C3tVU9xYuz9cz7Syp2K7PyMeUaRVaLs/gaiA7RECvD/wUkgHaWm+P1XtFl0d2sA/TCfyKIOpwj9L20oUysDDP9rSB9uFFMQ/OfzQTBRkxD8UPPNzRLLEP2DEHhIa0cQ/Lcineu7Vwz95b0mQ42jBP2Y1Mtof570/sqv7dEaHuz9Z0ebyfny7P8FRYoePCLw//U4Mwn9IvD8LjQRjthu8P4vg4rMrCbw/jhPYaZMavD8jeQwoN4C8P6LA+3s1zL8/+e6uA1r1wj8UZhyicR3FPwJoLbooT8Y/5wZq9xoJxz+lIhglShnHPw6EsEsCDcU/huN77ZWWwT/ok1faTq2+P/6VGyXN27w/GPQvNm4xvD/JP2Lr8vK7P++9pAsY2Ls/DD9Lgp3kuz9PKn1NmxG8P9PheTCY3bs/JV9ArVcnvD9elHkWTpC8P6bzCGq3ob4/m2ePFEWywD9Q1rxB6bHCP0kO7KG25MQ/2SX1nmjxxT/9jcAIOAvGP/mo4BGJ3sU/TwBunMT0wz/UISW+OPbAPxPLebbO4r0/U6uc+gIEvD+eZvI3mnS7P47Ll6YJcLs/GtfhVTEOuz9AGDXBx1K8P3A5TolrKb8/",
          "dtype": "f8"
         },
         "y": {
          "bdata": "N1KsZLT/5j+oqaIa8rLnP3sRXUtga+k/K+P7fM5P6z/6Md6Tnn3sP4516Qx73+w/EUSqW5r16z9ZTeRJxQzqP6Cxd1KBEOc/Dgq3dSTf4z8oiElvY9PhP3nHhumesOA/aBLjGfKs3z+OhSxgW1LeP4jgnSCfEN4/kM5RKiHZ3j9vJr6nH2HhPxCP2btEjOQ/ELK0OfE/6D+4yA1GMbDrP8IS2ZPqQe4/f9akvKLf7z//lwxrfFHwP0jaOcywavA/4nP78efs7z/8Sfh7BkDuP8wBiYgLqes/k0FS32Es6T8msJriXDXmPyt2agK0ZOI/FL49A2y03z97Bc9UmNLdP+3UidhTmN0/McODhPVN3T8mNG1phCvdP3nA/pSPU94/gpyN/ADh4D/ovwKmZ0/kPy86TwAYi+g/CBq9iVpi7D+ZfCarzpLuPwEfQ+LxW+8/Qza6uzHn7z92nP2eUDTwP0lPO2uHPvA/WzCwDcas7j+sdJuyF3/pPxmVoHSxj+M/W4GjWehJ4D83FALxODDfP2Ct4LApJeA/H0AsunU94D/r7VVgSt3fP4rvgCuQvt8/cuzgnzoz4D/C1Y3zONXhP+418fQPcuY/r+ZmOHGN7D/3FdYoymvwP/+3xvExffE/N2WaI2Ea8j9h36wbTQHyP5FavRRwZvA/3+Yr9vGo6j9Y9SrNXBDlP8YEbeloJOI/FZj/r73k4D8yRz2ThhLgP+PnBb+SJd8/2T3B8pqI3j9MZXtNlNDeP7Y0lYZtl94/cyrW7yil3z+765JV0onhP6TV2qC3VOQ/4ckZgI4D6D85T1EFvSnsP4aoxs86EPA/TfifftAU8T9BIaI8kE/xP36UlMG4G/E/x0BmU0vb7j9h6jsHAffoP5bwwLuwuuM/V0HDwUvV4D+Ll79JZwvfP/2xXZHn390/gdjeE+4u3j9el0mH27fhP8NjrwE2IOU/",
          "dtype": "f8"
         },
         "yaxis": "y"
        },
        {
         "marker": {
          "color": "grey",
          "size": 6,
          "symbol": "cross"
         },
         "mode": "markers",
         "name": "Roller coaster",
         "showlegend": false,
         "type": "scatter",
         "x": {
          "bdata": "ZkqfPJxEwD+uJe8L6aHAP3E7j+jHgME/USz668phwj+y7hkducHCPyM1obirvcI/KpQ5K7G1wj8t6mWOQJDCP8oUqi5qt8E/rvAdKxC2wD++jxYHWjjAPwDSk67roL8/ohWKHqSXvj9vS5f0nJe9P1DjBrkJv70/UybbRfS5vT8TPyIzYyq9PyvTYPb+/bw/yIq2ZMEavT+FCNEYMUe9Pz86fTiLUb4/0NAQaTdewD9v5ZRMjsPBP4FAisScxsI/0Jh/6k9Ewz+RiPTr1ZfDP/5hlDbs1cM/O+x4cW7swz+UBlL9KgLEP5eyGA1gA8Q/9ar2U6oiwz8msKxMqTrBP+UmbZ7wxb8/5wOhEpptvj/0hWX01Nu9P0aSuHEBwb0/mfGz5w9fvT9CMvXUZs68P3duuNYFg7w/LtuxoHeRvD8oIWMh9J+8P5JddDU2orw/38+Z4h/dvD/GttVj7Ze+P3TEQUzm3MA/1GM1AGOEwj+hLBNeXqXDP3g01IiJVMQ/YqTRjQbGxD8IotQyKyfFPz2bN9qkScU/oZ8syskRxT8VhQ6+idjDP/EL3b+m9sE/7eQG8Ks4wD82TxaMMfq9P5AG4eiAdLw/ZMG75705vD/HV6Wtjy68PyHmyYE3Jbw/0qkw7dQEvD9smLgyCe+7P+RDwvM0u7s//kAfVo7Uuz+MMzIEY+G7P5xrmyBpPr4/B+On7XWDwT/v6rbbiLPDP/pdscwe2MQ/t5geE0jWxT+VAEaCVKbGP/05k6SQBcc/GC9QteESxz/1JbOTjy7GPwvhRGpj18M/5qEbK6PywD9amhzW1pS9P/KUTmydnLs/UfO+O0V8uz/v8QpZtXW7P2x1P2FYm7s/5ZaMCjSUuz/53iVmDb+7Px3fYfP2cbs/O412hTqLvD9ZmXxOuZa9P2tNV3PqB8A/dreYTIDIwT/YtWoHJu7DPyjXDwVzScU/0zQPi7kzxj++5sx9ps3GPwRJHB0B0Mc/VRcXG3qDyD8mkSfmarDHP/MgDY9dHsU/l5XAEdAuwj+UERZoOGnAP6mlOqQ9U78/8VujWJtQvj8XKRhO7uW9P9ZXMSCOOr0/GWP25nZuvT91UMWd9ky+Pw==",
          "dtype": "f8"
         },
         "y": {
          "bdata": "TQv8L+xj5z86Ci4ctYDoP6VsMGGJMeo/ofdiHQbS6z9HcUjPmZDsP7R9RBVYqew/af9XvHWm7D86vPkYWSnsP9Aq4nzoX+o/kzj5jNxA6D+d3zYm4qXmP3go3RY9IuU/Xhl4bJqc4z+Kdo6DPZriP6axPPiJYOI/r+KrhJMS4j+nHL84N0bhP0dkI1nA/OA/eIkD13xH4T8suFRbneThP9KPUg1bwuM/iMj6rq3s5j9L327e7CXqP0qe/1NhPew/IqZtcLOP7T8N0EQQ82TuP/CI6m8x2+4/z+om2b4J7z8A65KZGDLvP+5RgiSyDO8/HvzeW4U+7T+yBaw8wafpPytxpfy9bOY/IywCTOKL5D9YVbW5DY3jPzcGHpHB3eI/ykgVXqk34j8zr3ZX2lbhPxOXCie15uA/xSdaCrC54D/Iz2TAfcPgPwnuPbNM0eA/fda2yxPX4T/ooUCXKHHkP/ITZ/nRQug/H2Z2oXjO6z/m6ijAxEDuP/O43c4MoO8/Y0rJH9ZA8D/Z8N51Bp/wP23gWDCnyPA/0/LVmZdx8D8D73pS1KXuP5Vq58h1COs/+4fk9HHs5j8Ujw6lG2/jP7acoO8RKuE/qDBDtkk/4D+eH1em+APgP4mgd7MJhN8/AltxJUee3j+5JZfO1MjdP4myYzjDXN0/85LXHqmC3T8iIH+x4BbgP7wuv0GU/OM/1pNF8uyM6T8BR8nDMxjuP7cmohrMUfA/K9P7EWUu8T8QHAX8H93xP5pENAJcM/I/XcF2TbU08j/wBXFSuFPxPwUObzL9kO4/MDBr9hOE6D+2NaI7cdLiP4CyY+dJ994/sWAaRyz83D+ip12vinncP29b7Q4DHtw/JWL4XlS+2z/pdMWKRPzbP/z9oCCfRN0/v4DlZ00n4D9D59i2cqriP/6ECBPiGOY/VCDzYJJY6j/bbcHkIGruPyxpkMxKifA/soEaW6Nh8T/z1azrtvLxPzS/JgIEtfI/ctbAuPcq8z+cfHHSP4TyP4wbSoy0fPA/FVu5uOqL6z8gI8uw2XXnP+lDz2yb7eQ/E5hlaN9i4z+OywxquSviP22pH+JoTuE/LTpGaOpj4T+30pKkWZ/iPw==",
          "dtype": "f8"
         },
         "yaxis": "y"
        },
        {
         "marker": {
          "color": "black",
          "size": 10,
          "symbol": "triangle-up-open"
         },
         "mode": "markers",
         "name": "Wind-up turn",
         "showlegend": true,
         "type": "scatter",
         "x": {
          "bdata": "TPe1YZDZvz96QF5bR9G/PweS3td+j78/ufD7S1xUvz9w6YLxUKy/P93LxoCAW8A/EzLgpp+swD+Ns79c0ezAP9I136PV88A/AHR63ZMrwT+uA/svPVvBP+K7YXkjjME/RZ41ClGbwT/VNk+SJ6XBP7rxwa0Xn8E/IVM85WzIwT+iY0XhRkvCP006ulF9oMI/LC2UW1QXwz9Bz9czeFrDPyKf9wGuX8M/vgBg4Pxfwz8Vizs/P87DP6v47K7FVMQ/sSKme9HLxD/xcH22ewLFP9YAmoQFPMU/BwOC1alBxT/GrFNaiE3FP0DyPbYPMsU/DneCGzN9xT84/3DvqSHGP8D3ZOYYncY/7RznNr3Yxj+ywClI2IrGP91+0mPMc8Q/DFt6F8rPwT+t2JbyH8TAPxRDntUVqMA/FOjBItTRwD+Mwpvz+tHAP0W5mBNrOcE/",
          "dtype": "f8"
         },
         "y": {
          "bdata": "ydP4mc1N5z8lRu9WJRXnP1Ac8Pb/u+Y/9zpGjQWX5j/OfZFpihznP9xTYIiLJOg/IBxsByDj6D9G8Ld+KlvpP4Pa7H8Sjuk/Lmuxi5m46T//0QOFTRfqP3zzbTSWZuo/dKv5V4Nf6j9YGqOGam3qPxt7nfANaOo/ha4MyBG16j+KBSzZvq3rP4xyzXlNZew/kPgLoeMp7T9ssOV9iaTtPxcMl5dH1u0/KA+FT5r+7T9nVrRP66ruP5MQxupJv+8/Ibl4Z6VU8D+ux616C4zwPy9LVfbMuvA/uEt84wrH8D+JHrOS78HwPwh2A/xju/A/WQsTweP08D/qgzIf42jxPym++VlexPE/WmwQMG//8T9oBpjFpbPxP+cJ51d3GfA/o0pgOyyx6z9QriTuoxbpP/ueEL5Q5Og/VT6rfYJV6T+epaadJcDpP3+AMyBbqOo/",
          "dtype": "f8"
         },
         "yaxis": "y"
        },
        {
         "marker": {
          "color": "black",
          "size": 10,
          "symbol": "triangle-up-open"
         },
         "mode": "markers",
         "name": "Wind-up turn",
         "showlegend": false,
         "type": "scatter",
         "x": {
          "bdata": "U6vonqT4vz8t6L0RiuG/P8Uej8BX7L8/ZGyK0ZX5vz/QzokEUQbAP5xIyCZeE8A/tvwzhzoMwD+By/upTyjAPzXKXgDhY8A/nGccDEbhwD8q02cO2lHBP1VgMxYsT8E/lFDy2mSNwT/2Sv7RU3DCP/iWHE1mqMM/CTwhj6fOxD8=",
          "dtype": "f8"
         },
         "y": {
          "bdata": "jWpqNNbM5j+A93ra8NPmP3mt4uq11+Y/zSghyyb45j8q0nyXhRLnP4l2AOyRCec/juw5qSz+5j/r8ApD8BnnP2yZmP6axuc/zM6Q3/HG6D9c//iKOn/pP5Gn/7uuvek/VWaWhgdT6j8AQcOqiNnrP08TLC6/4u0/Tu4DhM/d7z8=",
          "dtype": "f8"
         },
         "yaxis": "y"
        }
       ],
       "layout": {
        "annotations": [
         {
          "align": "left",
          "font": {
           "color": "black",
           "family": "Arial",
           "size": 16
          },
          "showarrow": false,
          "text": "<b>Configuration:</b> Approach (gear down, flaps 40%)<br><b>Pressure altitude:</b> 15 000 ft<br><b>Weight:</b> 11'500 lb to 12'000 lb<br><b>CG:</b> 20 to 20.5%<br>",
          "x": 0,
          "xref": "paper",
          "y": 1.15,
          "yref": "paper"
         },
         {
          "align": "left",
          "font": {
           "color": "black",
           "family": "Arial",
           "size": 16
          },
          "showarrow": false,
          "text": "<b>Data basis:</b> Flight test<br><b>Test date:</b> April 30th, 2025<br><b>Tail number:</b> 215 (with YAPS)<br><b>Airspeed:</b> 120 KIAS<br>",
          "x": 0.55,
          "xref": "paper",
          "y": 1.15,
          "yref": "paper"
         },
         {
          "align": "left",
          "font": {
           "color": "black",
           "family": "Arial",
           "size": 16
          },
          "showarrow": false,
          "text": "<b>Configuration:</b> Approach (gear down, flaps 40%)<br><b>Pressure altitude:</b> 15 000 ft<br><b>Weight:</b> 11'500 lb to 12'000 lb<br><b>CG:</b> 20 to 20.5%<br>",
          "x": 0,
          "xref": "paper",
          "y": 1.15,
          "yref": "paper"
         },
         {
          "align": "left",
          "font": {
           "color": "black",
           "family": "Arial",
           "size": 16
          },
          "showarrow": false,
          "text": "<b>Data basis:</b> Flight test<br><b>Test date:</b> April 30th, 2025<br><b>Tail number:</b> 215 (with YAPS)<br><b>Airspeed:</b> 120 KIAS<br>",
          "x": 0.55,
          "xref": "paper",
          "y": 1.15,
          "yref": "paper"
         },
         {
          "align": "left",
          "font": {
           "color": "black",
           "family": "Arial",
           "size": 16
          },
          "showarrow": false,
          "text": "<b>Configuration:</b> Approach (gear down, flaps 40%)<br><b>Pressure altitude:</b> 15 000 ft<br><b>Weight:</b> 11'500 lb to 12'000 lb<br><b>CG:</b> 20 to 20.5%<br>",
          "x": 0,
          "xref": "paper",
          "y": 1.15,
          "yref": "paper"
         },
         {
          "align": "left",
          "font": {
           "color": "black",
           "family": "Arial",
           "size": 16
          },
          "showarrow": false,
          "text": "<b>Data basis:</b> Flight test<br><b>Test date:</b> April 30th, 2025<br><b>Tail number:</b> 215 (with YAPS)<br><b>Airspeed:</b> 120 KIAS<br>",
          "x": 0.55,
          "xref": "paper",
          "y": 1.15,
          "yref": "paper"
         },
         {
          "align": "left",
          "font": {
           "color": "black",
           "family": "Arial",
           "size": 16
          },
          "showarrow": false,
          "text": "<b>Configuration:</b> Approach (gear down, flaps 40%)<br><b>Pressure altitude:</b> 15 000 ft<br><b>Weight:</b> 11'500 lb to 12'000 lb<br><b>CG:</b> 20 to 20.5%<br>",
          "x": 0,
          "xref": "paper",
          "y": 1.15,
          "yref": "paper"
         },
         {
          "align": "left",
          "font": {
           "color": "black",
           "family": "Arial",
           "size": 16
          },
          "showarrow": false,
          "text": "<b>Data basis:</b> Flight test<br><b>Test date:</b> April 30th, 2025<br><b>Tail number:</b> 215 (with YAPS)<br><b>Airspeed:</b> 120 KIAS<br>",
          "x": 0.55,
          "xref": "paper",
          "y": 1.15,
          "yref": "paper"
         }
        ],
        "height": 1152,
        "legend": {
         "font": {
          "color": "black",
          "family": "Arial",
          "size": 16
         },
         "x": 0.99,
         "xanchor": "right",
         "y": 0.01,
         "yanchor": "bottom"
        },
        "shapes": [
         {
          "layer": "below",
          "line": {
           "color": "black",
           "width": 2
          },
          "type": "rect",
          "x0": 0,
          "x1": 1,
          "xref": "paper",
          "y0": 1.05,
          "y1": 1.15,
          "yref": "paper"
         },
         {
          "layer": "below",
          "line": {
           "color": "black",
           "width": 2
          },
          "type": "rect",
          "x0": 0,
          "x1": 1,
          "xref": "paper",
          "y0": 1.05,
          "y1": 1.15,
          "yref": "paper"
         },
         {
          "layer": "below",
          "line": {
           "color": "black",
           "width": 2
          },
          "type": "rect",
          "x0": 0,
          "x1": 1,
          "xref": "paper",
          "y0": 1.05,
          "y1": 1.15,
          "yref": "paper"
         },
         {
          "layer": "below",
          "line": {
           "color": "black",
           "width": 2
          },
          "type": "rect",
          "x0": 0,
          "x1": 1,
          "xref": "paper",
          "y0": 1.05,
          "y1": 1.15,
          "yref": "paper"
         }
        ],
        "showlegend": true,
        "template": {
         "data": {
          "bar": [
           {
            "error_x": {
             "color": "#2a3f5f"
            },
            "error_y": {
             "color": "#2a3f5f"
            },
            "marker": {
             "line": {
              "color": "#E5ECF6",
              "width": 0.5
             },
             "pattern": {
              "fillmode": "overlay",
              "size": 10,
              "solidity": 0.2
             }
            },
            "type": "bar"
           }
          ],
          "barpolar": [
           {
            "marker": {
             "line": {
              "color": "#E5ECF6",
              "width": 0.5
             },
             "pattern": {
              "fillmode": "overlay",
              "size": 10,
              "solidity": 0.2
             }
            },
            "type": "barpolar"
           }
          ],
          "carpet": [
           {
            "aaxis": {
             "endlinecolor": "#2a3f5f",
             "gridcolor": "white",
             "linecolor": "white",
             "minorgridcolor": "white",
             "startlinecolor": "#2a3f5f"
            },
            "baxis": {
             "endlinecolor": "#2a3f5f",
             "gridcolor": "white",
             "linecolor": "white",
             "minorgridcolor": "white",
             "startlinecolor": "#2a3f5f"
            },
            "type": "carpet"
           }
          ],
          "choropleth": [
           {
            "colorbar": {
             "outlinewidth": 0,
             "ticks": ""
            },
            "type": "choropleth"
           }
          ],
          "contour": [
           {
            "colorbar": {
             "outlinewidth": 0,
             "ticks": ""
            },
            "colorscale": [
             [
              0,
              "#0d0887"
             ],
             [
              0.1111111111111111,
              "#46039f"
             ],
             [
              0.2222222222222222,
              "#7201a8"
             ],
             [
              0.3333333333333333,
              "#9c179e"
             ],
             [
              0.4444444444444444,
              "#bd3786"
             ],
             [
              0.5555555555555556,
              "#d8576b"
             ],
             [
              0.6666666666666666,
              "#ed7953"
             ],
             [
              0.7777777777777778,
              "#fb9f3a"
             ],
             [
              0.8888888888888888,
              "#fdca26"
             ],
             [
              1,
              "#f0f921"
             ]
            ],
            "type": "contour"
           }
          ],
          "contourcarpet": [
           {
            "colorbar": {
             "outlinewidth": 0,
             "ticks": ""
            },
            "type": "contourcarpet"
           }
          ],
          "heatmap": [
           {
            "colorbar": {
             "outlinewidth": 0,
             "ticks": ""
            },
            "colorscale": [
             [
              0,
              "#0d0887"
             ],
             [
              0.1111111111111111,
              "#46039f"
             ],
             [
              0.2222222222222222,
              "#7201a8"
             ],
             [
              0.3333333333333333,
              "#9c179e"
             ],
             [
              0.4444444444444444,
              "#bd3786"
             ],
             [
              0.5555555555555556,
              "#d8576b"
             ],
             [
              0.6666666666666666,
              "#ed7953"
             ],
             [
              0.7777777777777778,
              "#fb9f3a"
             ],
             [
              0.8888888888888888,
              "#fdca26"
             ],
             [
              1,
              "#f0f921"
             ]
            ],
            "type": "heatmap"
           }
          ],
          "histogram": [
           {
            "marker": {
             "pattern": {
              "fillmode": "overlay",
              "size": 10,
              "solidity": 0.2
             }
            },
            "type": "histogram"
           }
          ],
          "histogram2d": [
           {
            "colorbar": {
             "outlinewidth": 0,
             "ticks": ""
            },
            "colorscale": [
             [
              0,
              "#0d0887"
             ],
             [
              0.1111111111111111,
              "#46039f"
             ],
             [
              0.2222222222222222,
              "#7201a8"
             ],
             [
              0.3333333333333333,
              "#9c179e"
             ],
             [
              0.4444444444444444,
              "#bd3786"
             ],
             [
              0.5555555555555556,
              "#d8576b"
             ],
             [
              0.6666666666666666,
              "#ed7953"
             ],
             [
              0.7777777777777778,
              "#fb9f3a"
             ],
             [
              0.8888888888888888,
              "#fdca26"
             ],
             [
              1,
              "#f0f921"
             ]
            ],
            "type": "histogram2d"
           }
          ],
          "histogram2dcontour": [
           {
            "colorbar": {
             "outlinewidth": 0,
             "ticks": ""
            },
            "colorscale": [
             [
              0,
              "#0d0887"
             ],
             [
              0.1111111111111111,
              "#46039f"
             ],
             [
              0.2222222222222222,
              "#7201a8"
             ],
             [
              0.3333333333333333,
              "#9c179e"
             ],
             [
              0.4444444444444444,
              "#bd3786"
             ],
             [
              0.5555555555555556,
              "#d8576b"
             ],
             [
              0.6666666666666666,
              "#ed7953"
             ],
             [
              0.7777777777777778,
              "#fb9f3a"
             ],
             [
              0.8888888888888888,
              "#fdca26"
             ],
             [
              1,
              "#f0f921"
             ]
            ],
            "type": "histogram2dcontour"
           }
          ],
          "mesh3d": [
           {
            "colorbar": {
             "outlinewidth": 0,
             "ticks": ""
            },
            "type": "mesh3d"
           }
          ],
          "parcoords": [
           {
            "line": {
             "colorbar": {
              "outlinewidth": 0,
              "ticks": ""
             }
            },
            "type": "parcoords"
           }
          ],
          "pie": [
           {
            "automargin": true,
            "type": "pie"
           }
          ],
          "scatter": [
           {
            "fillpattern": {
             "fillmode": "overlay",
             "size": 10,
             "solidity": 0.2
            },
            "type": "scatter"
           }
          ],
          "scatter3d": [
           {
            "line": {
             "colorbar": {
              "outlinewidth": 0,
              "ticks": ""
             }
            },
            "marker": {
             "colorbar": {
              "outlinewidth": 0,
              "ticks": ""
             }
            },
            "type": "scatter3d"
           }
          ],
          "scattercarpet": [
           {
            "marker": {
             "colorbar": {
              "outlinewidth": 0,
              "ticks": ""
             }
            },
            "type": "scattercarpet"
           }
          ],
          "scattergeo": [
           {
            "marker": {
             "colorbar": {
              "outlinewidth": 0,
              "ticks": ""
             }
            },
            "type": "scattergeo"
           }
          ],
          "scattergl": [
           {
            "marker": {
             "colorbar": {
              "outlinewidth": 0,
              "ticks": ""
             }
            },
            "type": "scattergl"
           }
          ],
          "scattermap": [
           {
            "marker": {
             "colorbar": {
              "outlinewidth": 0,
              "ticks": ""
             }
            },
            "type": "scattermap"
           }
          ],
          "scattermapbox": [
           {
            "marker": {
             "colorbar": {
              "outlinewidth": 0,
              "ticks": ""
             }
            },
            "type": "scattermapbox"
           }
          ],
          "scatterpolar": [
           {
            "marker": {
             "colorbar": {
              "outlinewidth": 0,
              "ticks": ""
             }
            },
            "type": "scatterpolar"
           }
          ],
          "scatterpolargl": [
           {
            "marker": {
             "colorbar": {
              "outlinewidth": 0,
              "ticks": ""
             }
            },
            "type": "scatterpolargl"
           }
          ],
          "scatterternary": [
           {
            "marker": {
             "colorbar": {
              "outlinewidth": 0,
              "ticks": ""
             }
            },
            "type": "scatterternary"
           }
          ],
          "surface": [
           {
            "colorbar": {
             "outlinewidth": 0,
             "ticks": ""
            },
            "colorscale": [
             [
              0,
              "#0d0887"
             ],
             [
              0.1111111111111111,
              "#46039f"
             ],
             [
              0.2222222222222222,
              "#7201a8"
             ],
             [
              0.3333333333333333,
              "#9c179e"
             ],
             [
              0.4444444444444444,
              "#bd3786"
             ],
             [
              0.5555555555555556,
              "#d8576b"
             ],
             [
              0.6666666666666666,
              "#ed7953"
             ],
             [
              0.7777777777777778,
              "#fb9f3a"
             ],
             [
              0.8888888888888888,
              "#fdca26"
             ],
             [
              1,
              "#f0f921"
             ]
            ],
            "type": "surface"
           }
          ],
          "table": [
           {
            "cells": {
             "fill": {
              "color": "#EBF0F8"
             },
             "line": {
              "color": "white"
             }
            },
            "header": {
             "fill": {
              "color": "#C8D4E3"
             },
             "line": {
              "color": "white"
             }
            },
            "type": "table"
           }
          ]
         },
         "layout": {
          "height": 800,
          "legend": {
           "bordercolor": "black",
           "borderwidth": 1,
           "x": 1.1,
           "xanchor": "right",
           "y": 1.1,
           "yanchor": "bottom"
          },
          "margin": {
           "t": 200
          },
          "plot_bgcolor": "white",
          "showlegend": true,
          "title": {
           "font": {
            "color": "black",
            "family": "Arial",
            "size": 24,
            "weight": "bold"
           },
           "x": 0.5,
           "y": 0.98
          },
          "width": 1300,
          "xaxis": {
           "gridcolor": "lightgrey",
           "linecolor": "black",
           "showgrid": true,
           "showline": true,
           "tickcolor": "black",
           "tickfont": {
            "family": "Arial",
            "size": 14
           },
           "ticklen": 5,
           "ticks": "outside",
           "tickwidth": 2,
           "title": {
            "font": {
             "family": "Arial",
             "size": 18,
             "weight": "bold"
            }
           }
          },
          "yaxis": {
           "gridcolor": "lightgrey",
           "linecolor": "black",
           "showgrid": true,
           "showline": true,
           "tickcolor": "black",
           "tickfont": {
            "family": "Arial",
            "size": 14
           },
           "ticklen": 5,
           "ticks": "outside",
           "tickwidth": 2,
           "title": {
            "font": {
             "family": "Arial",
             "size": 18,
             "weight": "bold"
            }
           }
          },
          "yaxis2": {
           "gridcolor": "lightgrey",
           "linecolor": "black",
           "showgrid": false,
           "showline": true,
           "tickcolor": "black",
           "tickfont": {
            "family": "Arial",
            "size": 14
           },
           "ticklen": 5,
           "ticks": "outside",
           "tickwidth": 2,
           "title": {
            "font": {
             "family": "Arial",
             "size": 18,
             "weight": "bold"
            }
           }
          }
         }
        },
        "title": {
         "text": "C-12C drag polar"
        },
        "width": 1515.6,
        "xaxis": {
         "title": {
          "text": "Drag coefficient, C<sub>D</sub>"
         }
        },
        "yaxis": {
         "title": {
          "text": "Lif coefficient, C<sub>L</sub>"
         }
        }
       }
      }
     },
     "metadata": {},
     "output_type": "display_data"
    },
    {
     "data": {
      "application/vnd.plotly.v1+json": {
       "config": {
        "plotlyServerURL": "https://plot.ly"
       },
       "data": [
        {
         "line": {
          "color": "black"
         },
         "mode": "lines",
         "name": "theoretical CL curve",
         "showlegend": false,
         "type": "scatter",
         "x": {
          "bdata": "AAAAAAAAAMCbbLLJJpv8vzbZZJNNNvm/0kUXXXTR9b9ssskmm2zyvxA++OCDD+6/RhdddNFF57988MEHH3zgv2STTTbZZNO/QBdddNFFt78AH3zwwQe/P1hVVVVVVdU/dNFFF1104T9A+OCDDz7oPwgffPDBB+8/6qKLLrro8j9ONtlkk032P7LJJptssvk/GF100UUX/T8++OCDDz4AQPDBBx988AFApIsuuuiiA0BWVVVVVVUFQAgffPDBBwdAuuiiiy66CEBssskmm2wKQCB88MEHHwxA0kUXXXTRDUCEDz744IMPQJtssskmmxBAddFFF110EUBONtlkk00SQCebbLLJJhNAAAAAAAAAFEDZZJNNNtkUQLPJJptsshVAjC666KKLFkBlk0022WQXQD744IMPPhhAGF100UUXGUDwwQcffPAZQMomm2yyyRpApIsuuuiiG0B88MEHH3wcQFZVVVVVVR1ALrrooosuHkAIH3zwwQcfQOKDDz744B9AXXTRRRddIEDKJptssskgQDbZZJNNNiFAo4suuuiiIUAQPvjggw8iQHzwwQcffCJA6aKLLrroIkBWVVVVVVUjQMIHH3zwwSNAL7rooosuJECbbLLJJpskQAgffPDBByVAddFFF110JUDhgw8++OAlQE422WSTTSZAuuiiiy66JkAnm2yyySYnQJRNNtlkkydAAAAAAAAAKEBtsskmm2woQNlkk0022ShARhdddNFFKUCzySabbLIpQB988MEHHypAjC666KKLKkD44IMPPvgqQGWTTTbZZCtA0kUXXXTRK0A++OCDDz4sQKqqqqqqqixAGF100UUXLUCEDz744IMtQPDBBx988C1AXnTRRRddLkDKJptssskuQDbZZJNNNi9ApIsuuuiiL0AIH3zwwQcwQD744IMPPjBAddFFF110MECrqqqqqqowQOGDDz744DBAF1100UUXMUBONtlkk00xQIQPPvjggzFAuuiiiy66MUDxwQcffPAxQCebbLLJJjJAXXTRRRddMkCUTTbZZJMyQMomm2yyyTJAAAAAAAAAM0A=",
          "dtype": "f8"
         },
         "y": {
          "bdata": "/uV6v4eGhz/A9ZKxV+WgP/4xR3MN6as/Gbd9mmF2sz841Vd7PPi4P1XzMVwXer4/ugiGHvn9wT/IF/OO5r7EP9cmYP/Tf8c/5jXNb8FAyj/0RDrgrgHNPwRUp1Ccws8/ijGK4MRB0T8QucCYO6LSP5hA91CyAtQ/IMgtCSlj1T+nT2TBn8PWPy7XmnkWJNg/tV7RMY2E2T885gfqA+XaP8RtPqJ6Rdw/TfV0WvGl3T/SfKsSaAbfPy0CcWVvM+A/8EWMwarj4D+0iacd5pPhP3jNwnkhROI/OxHe1Vz04j//VPkxmKTjP8KYFI7TVOQ/htwv6g4F5T9HIEtGSrXlP+dgZqKFZeY/sT4jYKDw5j9oUwSHi3vnP9v5j3hfBeg/ssKvvtl46D+Di88EVOzoP2JU70rOX+k/TUSMWpfI6T+bJtLyqSbqPyMIGIu8hOo/T+tdI8/i6j8VlWkvpD/rPz+qZ2Uvles/ab9lm7rq6z+S1GPRRUDsP7/pYQfRlew/PNTzNJDm7D+0OfXurS7tPyuf9qjLdu0/ogT4Yum+7T8aavkcBwfuP47P+tYkT+4/biT3sm2R7j/Nbhv+79DuPyq5P0lyEO8/owdklPRP7z/lTYjfdo/vP0OYrCr5zu8/ctoZXocG8D/4GDDNKCPwP35XRjzKP/A/BJZcq2tc8D+K1HIaDXnwPxETiYmulfA/llGf+E+y8D+mv6S7ks7wPwhe0VVD5vA/avz97/P98D/MmiqKpBXxPy45VyRVLfE/4NWDvgVF8T/xdbBYtlzxP1AU3fJmdPE/rrIJjReM8T+OHQs2T5/xP4+/u+eXrPE/j2FsmeC58T+QAx1LKcfxP5Clzfxx1PE/kUd+rrrh8T+R6S5gA+/xP5KL3xFM/PE/2kjYwVcP8j9Csdd9nSTyP2MZ1znjOfI/pIXW9ShP8j9M7NWxbmTyP3haaWZmZvI/mptsZmZm8j+73G9mZmbyP90dc2ZmZvI//152ZmZm8j8goHlmZmbyP0LhfGZmZvI/ZCKAZmZm8j+GY4NmZmbyP6ekhmZmZvI/yeWJZmZm8j8=",
          "dtype": "f8"
         },
         "yaxis": "y"
        },
        {
         "line": {
          "color": "black",
          "dash": "dash"
         },
         "mode": "lines",
         "name": "theoretical CL curve +/- 0.1",
         "showlegend": false,
         "type": "scatter",
         "x": {
          "bdata": "AAAAAAAAAMCbbLLJJpv8vzbZZJNNNvm/0kUXXXTR9b9ssskmm2zyvxA++OCDD+6/RhdddNFF57988MEHH3zgv2STTTbZZNO/QBdddNFFt78AH3zwwQe/P1hVVVVVVdU/dNFFF1104T9A+OCDDz7oPwgffPDBB+8/6qKLLrro8j9ONtlkk032P7LJJptssvk/GF100UUX/T8++OCDDz4AQPDBBx988AFApIsuuuiiA0BWVVVVVVUFQAgffPDBBwdAuuiiiy66CEBssskmm2wKQCB88MEHHwxA0kUXXXTRDUCEDz744IMPQJtssskmmxBAddFFF110EUBONtlkk00SQCebbLLJJhNAAAAAAAAAFEDZZJNNNtkUQLPJJptsshVAjC666KKLFkBlk0022WQXQD744IMPPhhAGF100UUXGUDwwQcffPAZQMomm2yyyRpApIsuuuiiG0B88MEHH3wcQFZVVVVVVR1ALrrooosuHkAIH3zwwQcfQOKDDz744B9AXXTRRRddIEDKJptssskgQDbZZJNNNiFAo4suuuiiIUAQPvjggw8iQHzwwQcffCJA6aKLLrroIkBWVVVVVVUjQMIHH3zwwSNAL7rooosuJECbbLLJJpskQAgffPDBByVAddFFF110JUDhgw8++OAlQE422WSTTSZAuuiiiy66JkAnm2yyySYnQJRNNtlkkydAAAAAAAAAKEBtsskmm2woQNlkk0022ShARhdddNFFKUCzySabbLIpQB988MEHHypAjC666KKLKkD44IMPPvgqQGWTTTbZZCtA0kUXXXTRK0A++OCDDz4sQKqqqqqqqixAGF100UUXLUCEDz744IMtQPDBBx988C1AXnTRRRddLkDKJptssskuQDbZZJNNNi9ApIsuuuiiL0AIH3zwwQcwQD744IMPPjBAddFFF110MECrqqqqqqowQOGDDz744DBAF1100UUXMUBONtlkk00xQIQPPvjggzFAuuiiiy66MUDxwQcffPAxQCebbLLJJjJAXXTRRRddMkCUTTbZZJMyQMomm2yyyTJAAAAAAAAAM0A=",
          "dtype": "f8"
         },
         "y": {
          "bdata": "WvaIkWqKvD89ijG5IgbBP0yZnikQx8M/WqgLmv2Hxj9pt3gK60jJP3jG5XrYCcw/h9VS68XKzj9K8t+t2cXQP9J5FmZQJtI/WgFNHseG0z/giIPWPefUP2gQuo60R9Y/8JfwRiuo1z92Hyf/oQjZP/6mXbcYado/hi6Ub4/J2z8OtsonBirdP5Q9AeB8it4/HMU3mPPq3z9RJjcotaXgPxVqUoTwVeE/2q1t4CsG4j+c8Yg8Z7biP2A1pJiiZuM/I3m/9N0W5D/nvNpQGcfkP6sA9qxUd+U/bkQRCZAn5j8yiCxly9fmP/XLR8EGiOc/uQ9jHUI46D96U355fejoPxqUmdW4mOk/5HFWk9Mj6j+bhje6vq7qPw4tw6uSOOs/5fXi8Qys6z+2vgI4hx/sP5WHIn4Bk+w/gHe/jcr77D/OWQUm3VntP1Y7S77vt+0/gh6RVgIW7j9IyJxi13LuP3LdmphiyO4/nPKYzu0d7z/FB5cEeXPvP/IclToEye8/uIMTtOEM8D90NhSR8DDwPy/pFG7/VPA/65sVSw558D+nThYoHZ3wP2EBFwUswfA/0SsVc1Di8D8AUaeYEQLxPy92Ob7SIfE/a53L45NB8T+MwF0JVWHxP7vl7y4WgfE/DHSz9yCg8T+SsslmwrzxPxjx39Vj2fE/ni/2RAX28T8kbgy0phLyP6usIiNIL/I/MOs4kulL8j9AWT5VLGjyP6L3au/cf/I/BJaXiY2X8j9mNMQjPq/yP8jS8L3uxvI/em8dWJ/e8j+LD0ryT/byP+qtdowADvM/SEyjJrEl8z8ot6TP6DjzPylZVYExRvM/KfsFM3pT8z8qnbbkwmDzPyo/Z5YLbvM/K+EXSFR78z8rg8j5nIjzPywleavllfM/dOJxW/Go8z/cSnEXN77zP/2ycNN80/M/Ph9wj8Lo8z/mhW9LCP7zPxL0AgAAAPQ/NDUGAAAA9D9VdgkAAAD0P3e3DAAAAPQ/mfgPAAAA9D+6ORMAAAD0P9x6FgAAAPQ//rsZAAAA9D8g/RwAAAD0P0E+IAAAAPQ/Y38jAAAA9D8=",
          "dtype": "f8"
         },
         "yaxis": "y"
        },
        {
         "line": {
          "color": "black",
          "dash": "dash"
         },
         "mode": "lines",
         "name": "theoretical CL curve +/- 0.1",
         "showlegend": false,
         "type": "scatter",
         "x": {
          "bdata": "AAAAAAAAAMCbbLLJJpv8vzbZZJNNNvm/0kUXXXTR9b9ssskmm2zyvxA++OCDD+6/RhdddNFF57988MEHH3zgv2STTTbZZNO/QBdddNFFt78AH3zwwQe/P1hVVVVVVdU/dNFFF1104T9A+OCDDz7oPwgffPDBB+8/6qKLLrro8j9ONtlkk032P7LJJptssvk/GF100UUX/T8++OCDDz4AQPDBBx988AFApIsuuuiiA0BWVVVVVVUFQAgffPDBBwdAuuiiiy66CEBssskmm2wKQCB88MEHHwxA0kUXXXTRDUCEDz744IMPQJtssskmmxBAddFFF110EUBONtlkk00SQCebbLLJJhNAAAAAAAAAFEDZZJNNNtkUQLPJJptsshVAjC666KKLFkBlk0022WQXQD744IMPPhhAGF100UUXGUDwwQcffPAZQMomm2yyyRpApIsuuuiiG0B88MEHH3wcQFZVVVVVVR1ALrrooosuHkAIH3zwwQcfQOKDDz744B9AXXTRRRddIEDKJptssskgQDbZZJNNNiFAo4suuuiiIUAQPvjggw8iQHzwwQcffCJA6aKLLrroIkBWVVVVVVUjQMIHH3zwwSNAL7rooosuJECbbLLJJpskQAgffPDBByVAddFFF110JUDhgw8++OAlQE422WSTTSZAuuiiiy66JkAnm2yyySYnQJRNNtlkkydAAAAAAAAAKEBtsskmm2woQNlkk0022ShARhdddNFFKUCzySabbLIpQB988MEHHypAjC666KKLKkD44IMPPvgqQGWTTTbZZCtA0kUXXXTRK0A++OCDDz4sQKqqqqqqqixAGF100UUXLUCEDz744IMtQPDBBx988C1AXnTRRRddLkDKJptssskuQDbZZJNNNi9ApIsuuuiiL0AIH3zwwQcwQD744IMPPjBAddFFF110MECrqqqqqqowQOGDDz744DBAF1100UUXMUBONtlkk00xQIQPPvjggzFAuuiiiy66MUDxwQcffPAxQCebbLLJJjJAXXTRRRddMkCUTTbZZJMyQMomm2yyyTJAAAAAAAAAM0A=",
          "dtype": "f8"
         },
         "y": {
          "bdata": "2jyqociotr+6HtDA7SaxvzYB7L8lSqe/BIpv/N+MmL9AjDjIoytkv+xmYQr3gZM/tO/kRrHEpD/sK5kIZ8ivPxS0JmUOZrU/MtIARunnuj8neG0T4jTAPzeH2oPP9cI/R5ZH9Ly2xT9TpbRkqnfIP2O0IdWXOMs/c8OORYX5zT9A6f1aOV3QP8hwNBOwvdE/TvhqyyYe0z/Wf6GDnX7UP14H2DsU39U/5o4O9Io/1z9sFkWsAaDYP/Sde2R4ANo/eiWyHO9g2z8CrejUZcHcP4o0H43cId4/ELxVRVOC3z/MIcb+ZHHgP49l4VqgIeE/U6n8ttvR4T8U7RcTF4LiP7QtM29SMuM/fgvwLG294z81INFTWEjkP6jGXEUs0uQ/f498i6ZF5T9QWJzRILnlPy8hvBebLOY/GhFZJ2SV5j9o856/dvPmP/DU5FeJUec/HLgq8Juv5z/iYTb8cAzoPwx3NDL8Yeg/NowyaIe36D9foTCeEg3pP4y2LtSdYuk/CaHAAV2z6T+BBsK7evvpP/hrw3WYQ+o/b9HEL7aL6j/nNsbp09PqP1ucx6PxG+s/O/HDfzpe6z+aO+jKvJ3rP/eFDBY/3es/cNQwYcEc7D+yGlWsQ1zsPxBleffFm+w/sYEAidvZ7D+9/ixnHhPtP8l7WUVhTO0/1fiFI6SF7T/hdbIB577tP+/y3t8p+O0/+W8Lvmwx7j8ZTBZE8mnuP92Ib3hTme4/ocXIrLTI7j9lAiLhFfjuPyk/exV3J+8/jXjUSdhW7z+vuC1+OYbvP231hrKate8/KTLg5vvk7z/0g3GctQXwP/UlIk7+EvA/9cfS/0Yg8D/2aYOxjy3wP/YLNGPYOvA/963kFCFI8D/3T5XGaVXwP/jxRXiyYvA/QK8+KL518D+oFz7kA4vwP8l/PaBJoPA/Cuw8XI+18D+yUjwY1crwP97Az8zMzPA/AALTzMzM8D8hQ9bMzMzwP0OE2czMzPA/ZcXczMzM8D+GBuDMzMzwP6hH48zMzPA/yojmzMzM8D/syenMzMzwPw0L7czMzPA/L0zwzMzM8D8=",
          "dtype": "f8"
         },
         "yaxis": "y"
        },
        {
         "marker": {
          "color": "grey",
          "size": 6,
          "symbol": "cross"
         },
         "mode": "markers",
         "name": "Roller coaster",
         "showlegend": true,
         "type": "scatter",
         "x": {
          "bdata": "CaOEabelF0CUMUIo+7gZQJBYVG5XnhpAs0VuSzHMG0AxjMrgtZkcQJc/oPOnmx1AYulGvugbHUCE8dz/owccQHFmucGpkxtA0Wd7vAFBG0DBY2u02M8aQIq40svEjxpAgvtxCTKyGUAXaj7C9mgYQMDd+tDjeRZAqKRG1ItXFEDly9r7+ngTQNrX4mcdBxRAGWYbsM3KFkC27QWWIsQXQMY7RQJE/BRARocSEsO8EkBASqCtLSsSQJXBvDo1wxJAGKzLTT9eE0C3dwetzfYVQIpWgExlSRhAMvZNRk4RGUC0DafbiFUZQAJCg1KsZRpAk+cyhiX9GkADxAslMWwbQMTcF1052htAOSsPiEuDG0CAo/n2N0IaQB4OiGMLMhlALGUm3AR4GEB+gu2WkIIYQHv6xh9mYxhAFrcYPLAMGEA3nTIdHjcYQPQSReQ0NhlAs8ddn3uGGUBynL6d9HsYQHlb72M0YhVAnEq3mGK7EkCtvSbT+MURQJCGk02M3xFAfSj+WzP9EUDlQJpA8xMSQHtrJmmlIBJANwVac6kZEkC7eYYakNwRQPX3mgx7ohFAbeUidozzEUAJLn9HCxcUQMqbugu/3xZAAFmFlfPNGEB1TDDQK0QaQEaTFD2ZABtAdxkcdhF8HEDzONTo/SwdQK6ELsFWah1A4FzU5qtYHUDEkIEOFlgdQKfQ70+bbR1AEm3BfX9sHUAEMyMw7UYdQM5YumYnQhxA6K8ytAcmGUCIWcjkgAMWQOCXe6Nd9xNAmmyzaVNkE0APcfqNKTUTQOCBcK/1HxNA/Be9KIb1EkCBHxMPDqMSQJLwTkjzqhJAW3cSq6Y4EkBKmthxB+oRQJPf7XJ93xFAM0DVQeg3E0ATZseLCzMWQI4/edpxYxhAPw/LMdDXGUAfCVFQ+U0bQJuef+wW0RtAQWnfVjYdHECcLothlHMcQMM5drpGsBxAaOmMLBbZHEBUkuN1+NscQH3qZI/21xxAm2pQbm7MHEDfrjjxUZYaQJlbwCerfBZAN7Ax19rjE0CsvRKoBxQTQP0v/ts+EBNACMovEwoyE0A5macSrvoSQEbGca8YgxJAEToQmKYVEkBpWqz1tNsRQJzJMVU5lhFA2oyVSJxxEUBGI7Og2mARQNt7HArEnBFA8K5iHcU6FEDQMYrJ+jsYQBHvNri0rRpADRJ6Rnc5HEBZxqG7ojcdQNLfDBUnph1AhORdIxvlHUBeg0aXMREeQGXyIX2CTR5AEDtVE3p9HkCX1r0qLoAeQAnuq85YbB5A8OAkNClyHUAfd+OsQiwbQGqQJcKXZxlAc7Gh7BDvF0DXHWPZHN0VQFs6r9B7KBRAfZkF8ObjEkC2ZH0xbcoRQKV5n64r8hBAA0rxyhqZEEAadPY9Sp8QQGnDBq0ljRBAUk/70XtcEECqUluf9iUQQORGxyt3/w9Ax+o8MkBmEUBud0vsMr0VQDgZlBQweRlARzUE5YoLG0AZUVA+RlAcQEd4t8Slkh1AbSSeB6MrHkCvXD7ge1AeQB231M3bYx5A0wCdxF11HkDNeF+vJIYeQAhepGGZhR5Amhiz4UKrHUCngYDDfvQaQMc6DE5SUxlAS20FVWS7GEC40PWl3J8XQJMciLqV2hVAM/F847b3E0AYnm/r/HYSQHklffXQQRJA",
          "dtype": "f8"
         },
         "y": {
          "bdata": "N4dMps0D6D/CJClCFVDpP9buPlT8+Ok/0xMcv4uz6j/Dm2/YKkPrP+QM1NyJsOs/lTXh2QA+6z+MombTlZbqP+QePfvOOOo/+3X7F7f96T+TsvOWfr/pPzxAMiuPeuk/r1E7le3o6D8suY6W2/rnP4IDHa3Ox+Y/aQ8agPqd5T8wGnvqVvfkP5yEW9Y+quU/gEDJY6g05z8y6tmrrojnPzAXkpyp/+U/LIRzdtu65D8jdQgMiljkP5ckhTBZj+Q/y9Z9cKNy5T8eUUshi9zmP3e+YyqYRug/a/ykn1XO6D8lm7xrlgbpP3R7AtOuqOk/AR7Mn8ct6j/iDIsCRFfqP1ck84wgZ+o/EIWCGJMw6j/yuZL48DHpP5bVdToFlug/sgUTtj8w6D+GJrCTUkXoP15GSfuIH+g/eCT/5Evd5z9/rDOZJyDoP5QhMySkoOg/oTbtL6jQ6D/MStXt9eLnP8rNvWRIHuY/uUeNQAaL5D8Rm+vX5vXjP38GJFL3/eM/XDL6jSwe5D/Jiq1DljPkP0+E3MmoTOQ/MNeRL2M75D/CIl/uLxXkPxue0Oq8DOQ/TBYoWg1r5D+mirhS7tPlP+6mMX5YeOc/+dnJR/+/6D+aPtSAl5zpP8yOvhvbX+o/sGLADWcp6z8IgM5ujaLrP8mKDSbrxOs/q6I5Craf6z8c2u1Zp5vrP654kun8o+s//hZqFXqS6z/W+WEqflvrPxaLL+NKVOo/RzIlfCyI6D+myY4nTYXmP5mgILP/ROU/z0QO+GbS5D9HtnAyHbvkP7+timKAt+Q/0UCJXmqQ5D95yxTMDF/kP1iTFGmdYeQ/QHLtpF8b5D+v3AeweQzkP5rdx9LnKOQ/raVOPJBB5T+a2woCxwbnP2LKEbKAY+g/411lYXZj6T8YqfKMIkjqP1U630mDsuo/lKH7fHPe6j9nXlcuOQTrP+wSURMYKes/iYyykj1i6z9Nx/0XWUHrP40yPW+QNus/WSPfQuj06j9wPT5WyWvpP8PCxY557eY/LSCpo9hQ5T+WqdO09LjkP2JQQ176reQ/G4QV82XE5D/DOKR+Y4zkP9YmT/ZwReQ/0a1qXCwK5D/vYbNrUPDjP7bWVvIoy+M/MEW3vEay4z+jxSngZbLjP55069ETLOQ/AtB6+/Dq5T+zZP3yyDvoP6C/TzVy7uk/OjVPh7rv6j8k8YDO4a7rP13KaGPIDuw/WpwWEKMQ7D/jdSlSwx7sPz9j4jhfXew/2RBaHjSB7D9LfLUkOX7sP+1s1oJpOew/V213Rfxa6z8J+WOa3PnpPxSA8E+Fxeg/l4N8kXSz5z+ncj7I73PmP0xelBWxUeU/l+l+evOF5D9E8I5ul9TjP4RCR+ihUuM/Pm8jyacn4z9gBjcKniPjP4idRsS9HeM/C+RBYoUB4z91FFKfNeHiP0+D0mJw6OI/oVHf3xIw5D8JGIN0s8HmPwJvSNnJB+k/Xsj3iRA06j+HQUqSEB7rP/pMSkzO5us/TdyLRsM27D+0Vhc1x07sP9Cms7iNYOw/Aoaqqip17D+KyKw+I3rsPyv58NXAbuw/K7fo6xV66z/Dk1PN+fTpP++HHJXM3Og/KKJSOPVD6D+8sn5WvXvnP2m6SSS8beY/TZqbzwA75T8YJ2aFKV/kPw5lnFu6PeQ/",
          "dtype": "f8"
         },
         "yaxis": "y"
        },
        {
         "marker": {
          "color": "grey",
          "size": 6,
          "symbol": "cross"
         },
         "mode": "markers",
         "name": "Roller coaster",
         "showlegend": false,
         "type": "scatter",
         "x": {
          "bdata": "zVfsotUfF0CbSya7uvMXQJFUxzMhMBlAR3Ue5rbxGUAhoY1LV2saQJjg0vqzHBtAtaDkFHGUG0DjV9ggEiccQPmUDRfDwhxAXA9UQ7Y6HUBcJzsPrREbQGXPt0MoABZA8C536j7UEkBj/wTRW6kRQOnhh95dERBAzI++i1qSDEAjCCVyNL8KQNzNH5ubhApAsiSAmO6zCkBGm6mej/IKQDEjHCKnCgtAYerCVpQXC0Dth1VRWlwPQPtjP6G5FRVAYes5AIQ3GkCKXVpOzXocQFbqucfGMh1AcM60+/kuHUD/ufACTRIdQKy5aBrQIR1Ad7cMmJ+UHUAmId3OA8wdQPxY2Nv6yh1AjDvTBsOfHUBLJef7VO4cQP9trfJ5dhxAsu/YJtMAHEBrUdZTnfEbQBmk0lcfLRtAR1FkW1rPF0BFyaCKHWQVQGejtaGAtBVAXaABwgxsGEBMkMdhLo8ZQDmH/L6IbBhABEtuDGIXFkB1hFQYGhYVQNvtWfVYLhRAmgHZv+vbEUBb/BJe9ewOQFN+b5m/LwxAlh0W+Zn8CkC0YGLQnbQKQCNgLnNE8ApAA1MBOHWQDEA6aHpZTcMPQDXkvotA0RFAVbeNcNXrEkA2AWqf8WEVQK0aruSdAhtAzLm7OLvMHUCptx1Wxx4eQBvGy34enR1A+GAoz+RPHUBQygwnQUwdQIPpG3r0UR1AkDIPZXwoHUB3PplaEJ4cQE/cXt7LExxAWxwOZdnaGkDyldM3ozYZQJqJxhMrRxhASS8liOjBF0AAMQmhvosXQPSVFUDsRRdACzEJkfYNFkAUFAWT0GcUQHnA/B88mBJAB88YIlZbEECNQuIV9kkOQHP4yXOR+A1Axvjpbx8uDkCHWHvlJyIOQB5Xv79mAA5AgnGbprMHEkBUzapOSqoYQHvoisbtwxtAL4fp5/feG0BDSTc4yrobQFHsdv6DMBxAAJW9Z5MEHUC08wyIt2IdQP6kiZ4a1R1Aqp5/7ZVxHkCI2Qrgt8ceQAdBVp3Guh5A1nkfumR4HEC8VdEkM8QZQDvq9H234BhA57JVJ2KoGEDgyB8H2VEWQFICuND3XRFAI/jQ33WLDUBnNGWon/8MQAjWtpo1Ug1AKKrf3szMDECcciCdsL4LQI5U6mSw6wpAXmcU76bNCkAV3TH4F1MLQGuLjq1PnhFAlU5/Xn4mGUD7s6ZpWOYeQE7cHoXvICBA8IDSm1/0H0Doi+OBEncfQDYQGsHTXh9Aj1ndR8F2H0ARvrJsIaIfQOv9//CwqB9A+JcWFF2XH0CCvoYiaWoeQB0XC4HJvRpAV7a+7b5CF0AWERMRgd8UQKDUEimaQxNA",
          "dtype": "f8"
         },
         "y": {
          "bdata": "eQL+RYpe5z8ubNjeuuDnPxd7PnXYt+g/SCzWMQst6T/s28xalZTpP44TNDyiD+o/WlC8e+Ff6j+KJ7DlssTqPxRL87JkGOs/mLi3UmQe6z87SzgpnG3pP+54PgwMj+Y/mGqJqwmU5D9sJmsYUJPjP/CmsahCl+I/S5sYDTqF4T/rYDcGXPrgP/waa4dU7eA/rNQTqvgF4T9pNIw2chjhP1BhYPbmFOE/dOW7239a4T/nyQ3BuRHjP5AmpSuUV+Y/0FZ5hzhc6T8s0NFno//qP0NMPPlnd+s/xFjIv9pw6z9+zwm1PF3rP4Q5a1d3d+s/Fbp18te46z+l2HmFDtjrP4cBu12s1+s/LCgCY0Gb6z/a3ALs0S3rP/KE0xXzweo/H78ZdMx66j/hypbTmGrqP7W5Cbvgfuk/4QY+3O655z+60Bcu8zzmP5IZrK9aneY/MROzU/v/5z+InwUgmqjoPym2rsEx1ec//aQUyoyU5j//TKM3ndHlPz2wjZj9B+U/lbjD7v+s4z83RMwD5yTiP30hWzzIS+E/LF3T9Dvo4D+J4b5zic7gP4aPZyKuJ+E/QjJ8BkbW4T8rhWBsTuXiPwoHwVFr9OM/mfJGJ+Xo5D/sdu6Oa+zmPzsUX+H86ek/2iUOTHbN6z8eLBz0ZwnsP1TSboPmses/xqJe1CiC6z+evZlKrYnrP2OnDaRcmus/Go+qxt1Y6z94FyG/nvLqPwxkH6DqcOo/qGScdo2k6T/I+lxHVK3oPwnJSVsJAOg/HUTVz9yl5z83TE6ivn3nP71nxpHlL+c/fLH13r955j+HOqiWHWPlP/486SRmJuQ/axEVEW/j4j+qnuGX6x7iPzu8lRZe9eE/0ggFxDcK4j9EyUbl/QPiP7wRffvrOuI/NZhC0RqI5D87+93zRR3oPyh6BE3cMOo/ERooQvFx6j8KEESDIXXqP27Is8Ke4uo/yWer5ppX6z/dUQ9LM4/rP1uOB2awx+s/+J6fHQQl7D/QsnKk21fsP8/fQ4emEew/R2MIso6l6j94fkQOagzpPwZcSZLNX+g/DeMcqa4F6D+oozYF9EvmP9dX3Ecvm+M/wh4F/Anr4T98lDBzgbDhPz/hCv73ueE/c0LJBL+I4T9b2ebQVzrhP4Vdp1rvFOE/w/F5+voH4T+OYTzYXKzhP2TjytW9YeQ/HzHTrKXk6D+zwx7XflDsP32EWsv/hO0/WYiti+JO7T9a+9bhjvvsP9+WqAvf6uw/fQNCQrj+7D+Njr0hJgXtPzJSN4cX9+w/rDXW0oC07D9rW5ki3KzrPxMyFaDheuk/EWwk1YFG5z9SVp5dJLTlPymlG8ZvpOQ/",
          "dtype": "f8"
         },
         "yaxis": "y"
        },
        {
         "marker": {
          "color": "black",
          "size": 10,
          "symbol": "triangle-up-open"
         },
         "mode": "markers",
         "name": "Wind-up turn",
         "showlegend": true,
         "type": "scatter",
         "x": {
          "bdata": "pSMzg/n9FUCbfwZIaOgVQEZpVXHeQBZACzz29GAKF0D5rDfwFNIXQOvBvDhbNxlAiWhLp0SiGkAGXFQ5n24cQNR5Y7/nch5AQpBC37ZEIEAKLd4zgAMhQN0EEOgaDSFA7J4IbkNJIUCGF0DYWo4hQKnzxsz8qiFAm5acGtmnIUAcKwxwM8IhQDy+ktY3ZyJA",
          "dtype": "f8"
         },
         "y": {
          "bdata": "XQ+58ltw5j+R4gu+GX7mPzAYRDtBu+Y/l4D37Z0x5z9LTGOI8MXnP6gF1/X8weg/2Of3Dt2b6T8YtnsoQpDqP64/CDvO4Os/cYaYhKwn7T985pb0AQbuP73+p2O3Lu4/ucGQ8bNZ7j/B5Xef1JruP3OGJW291+4/ncGRzNkB7z9pr0hkZmTvP4KxAx7YDPA/",
          "dtype": "f8"
         },
         "yaxis": "y"
        },
        {
         "marker": {
          "color": "black",
          "size": 10,
          "symbol": "triangle-up-open"
         },
         "mode": "markers",
         "name": "Wind-up turn",
         "showlegend": false,
         "type": "scatter",
         "x": {
          "bdata": "mYe+jwSNF0B/g+OV2a0WQFbFkSPHbRZAtJnsfDqGFkDj1jDYwhkXQNy4b2scfRdAqCXXax0uGEDApbSNVKoZQCbOl8N+5xtAXYWWoeItHUBHBqEwgPccQOHfcRqxXhxAhy4uYsiNHEC2JUIhFaIeQBkxtdDjsSBAPU52ovlMIUBwV9dE4lshQNqcsCQsRCFAfH8ghqlbIUD4lCLPIbwhQCIw8V93hSJAxyvNP2ExI0DkFGHgtHsjQH8zhSXyniNAzX52LOzbI0Bl+V3xJTgkQIX3hhP9cSRAxVufOKVlJEA=",
          "dtype": "f8"
         },
         "y": {
          "bdata": "JjQjiOxb5z/gxc0VlN7mPzzaccR/teY/edXjQYjo5j8by0yi6CznP+RkT4Uzcec/NiLswub15z+VZDULKeHoP+P0W8v1Huo/JE1EwbLT6j+AJh/mT8fqP9nbYwX0fuo/Bo6mMxPK6j9c8teheB7sP7ixjxaoue0/F6V0UQ6Q7j813Nz4QrDuP/RX37Q7ye4/TEfAOy3p7j83EUKyeH7vP63Eo3tMKfA/RBw2+reY8D8o0nFeuODwP1em2Zf+BPE/MGlczAw08T/hueBQAGTxP6B4L4+6fPE/UwLxT7ts8T8=",
          "dtype": "f8"
         },
         "yaxis": "y"
        }
       ],
       "layout": {
        "annotations": [
         {
          "align": "left",
          "font": {
           "color": "black",
           "family": "Arial",
           "size": 16
          },
          "showarrow": false,
          "text": "<b>Configuration:</b> Cruise<br><b>Pressure altitude:</b> 15 000 ft<br><b>Weight:</b> 11'500 lb to 12'000 lb<br><b>CG:</b> 20 to 20.5%<br>",
          "x": 0,
          "xref": "paper",
          "y": 1.15,
          "yref": "paper"
         },
         {
          "align": "left",
          "font": {
           "color": "black",
           "family": "Arial",
           "size": 16
          },
          "showarrow": false,
          "text": "<b>Data basis:</b> Flight test<br><b>Test date:</b> April 30th, 2025<br><b>Tail number:</b> 215 (with YAPS)<br><b>Airspeed:</b> 120 KIAS<br>",
          "x": 0.55,
          "xref": "paper",
          "y": 1.15,
          "yref": "paper"
         },
         {
          "align": "left",
          "font": {
           "color": "black",
           "family": "Arial",
           "size": 16
          },
          "showarrow": false,
          "text": "<b>Configuration:</b> Cruise<br><b>Pressure altitude:</b> 15 000 ft<br><b>Weight:</b> 11'500 lb to 12'000 lb<br><b>CG:</b> 20 to 20.5%<br>",
          "x": 0,
          "xref": "paper",
          "y": 1.15,
          "yref": "paper"
         },
         {
          "align": "left",
          "font": {
           "color": "black",
           "family": "Arial",
           "size": 16
          },
          "showarrow": false,
          "text": "<b>Data basis:</b> Flight test<br><b>Test date:</b> April 30th, 2025<br><b>Tail number:</b> 215 (with YAPS)<br><b>Airspeed:</b> 120 KIAS<br>",
          "x": 0.55,
          "xref": "paper",
          "y": 1.15,
          "yref": "paper"
         },
         {
          "align": "left",
          "font": {
           "color": "black",
           "family": "Arial",
           "size": 16
          },
          "showarrow": false,
          "text": "<b>Configuration:</b> Cruise<br><b>Pressure altitude:</b> 15 000 ft<br><b>Weight:</b> 11'500 lb to 12'000 lb<br><b>CG:</b> 20 to 20.5%<br>",
          "x": 0,
          "xref": "paper",
          "y": 1.15,
          "yref": "paper"
         },
         {
          "align": "left",
          "font": {
           "color": "black",
           "family": "Arial",
           "size": 16
          },
          "showarrow": false,
          "text": "<b>Data basis:</b> Flight test<br><b>Test date:</b> April 30th, 2025<br><b>Tail number:</b> 215 (with YAPS)<br><b>Airspeed:</b> 120 KIAS<br>",
          "x": 0.55,
          "xref": "paper",
          "y": 1.15,
          "yref": "paper"
         },
         {
          "align": "left",
          "font": {
           "color": "black",
           "family": "Arial",
           "size": 16
          },
          "showarrow": false,
          "text": "<b>Configuration:</b> Cruise<br><b>Pressure altitude:</b> 15 000 ft<br><b>Weight:</b> 11'500 lb to 12'000 lb<br><b>CG:</b> 20 to 20.5%<br>",
          "x": 0,
          "xref": "paper",
          "y": 1.15,
          "yref": "paper"
         },
         {
          "align": "left",
          "font": {
           "color": "black",
           "family": "Arial",
           "size": 16
          },
          "showarrow": false,
          "text": "<b>Data basis:</b> Flight test<br><b>Test date:</b> April 30th, 2025<br><b>Tail number:</b> 215 (with YAPS)<br><b>Airspeed:</b> 120 KIAS<br>",
          "x": 0.55,
          "xref": "paper",
          "y": 1.15,
          "yref": "paper"
         }
        ],
        "height": 1152,
        "legend": {
         "font": {
          "color": "black",
          "family": "Arial",
          "size": 16
         },
         "x": 0.99,
         "xanchor": "right",
         "y": 0.01,
         "yanchor": "bottom"
        },
        "shapes": [
         {
          "layer": "below",
          "line": {
           "color": "black",
           "width": 2
          },
          "type": "rect",
          "x0": 0,
          "x1": 1,
          "xref": "paper",
          "y0": 1.05,
          "y1": 1.15,
          "yref": "paper"
         },
         {
          "layer": "below",
          "line": {
           "color": "black",
           "width": 2
          },
          "type": "rect",
          "x0": 0,
          "x1": 1,
          "xref": "paper",
          "y0": 1.05,
          "y1": 1.15,
          "yref": "paper"
         },
         {
          "layer": "below",
          "line": {
           "color": "black",
           "width": 2
          },
          "type": "rect",
          "x0": 0,
          "x1": 1,
          "xref": "paper",
          "y0": 1.05,
          "y1": 1.15,
          "yref": "paper"
         },
         {
          "layer": "below",
          "line": {
           "color": "black",
           "width": 2
          },
          "type": "rect",
          "x0": 0,
          "x1": 1,
          "xref": "paper",
          "y0": 1.05,
          "y1": 1.15,
          "yref": "paper"
         }
        ],
        "showlegend": true,
        "template": {
         "data": {
          "bar": [
           {
            "error_x": {
             "color": "#2a3f5f"
            },
            "error_y": {
             "color": "#2a3f5f"
            },
            "marker": {
             "line": {
              "color": "#E5ECF6",
              "width": 0.5
             },
             "pattern": {
              "fillmode": "overlay",
              "size": 10,
              "solidity": 0.2
             }
            },
            "type": "bar"
           }
          ],
          "barpolar": [
           {
            "marker": {
             "line": {
              "color": "#E5ECF6",
              "width": 0.5
             },
             "pattern": {
              "fillmode": "overlay",
              "size": 10,
              "solidity": 0.2
             }
            },
            "type": "barpolar"
           }
          ],
          "carpet": [
           {
            "aaxis": {
             "endlinecolor": "#2a3f5f",
             "gridcolor": "white",
             "linecolor": "white",
             "minorgridcolor": "white",
             "startlinecolor": "#2a3f5f"
            },
            "baxis": {
             "endlinecolor": "#2a3f5f",
             "gridcolor": "white",
             "linecolor": "white",
             "minorgridcolor": "white",
             "startlinecolor": "#2a3f5f"
            },
            "type": "carpet"
           }
          ],
          "choropleth": [
           {
            "colorbar": {
             "outlinewidth": 0,
             "ticks": ""
            },
            "type": "choropleth"
           }
          ],
          "contour": [
           {
            "colorbar": {
             "outlinewidth": 0,
             "ticks": ""
            },
            "colorscale": [
             [
              0,
              "#0d0887"
             ],
             [
              0.1111111111111111,
              "#46039f"
             ],
             [
              0.2222222222222222,
              "#7201a8"
             ],
             [
              0.3333333333333333,
              "#9c179e"
             ],
             [
              0.4444444444444444,
              "#bd3786"
             ],
             [
              0.5555555555555556,
              "#d8576b"
             ],
             [
              0.6666666666666666,
              "#ed7953"
             ],
             [
              0.7777777777777778,
              "#fb9f3a"
             ],
             [
              0.8888888888888888,
              "#fdca26"
             ],
             [
              1,
              "#f0f921"
             ]
            ],
            "type": "contour"
           }
          ],
          "contourcarpet": [
           {
            "colorbar": {
             "outlinewidth": 0,
             "ticks": ""
            },
            "type": "contourcarpet"
           }
          ],
          "heatmap": [
           {
            "colorbar": {
             "outlinewidth": 0,
             "ticks": ""
            },
            "colorscale": [
             [
              0,
              "#0d0887"
             ],
             [
              0.1111111111111111,
              "#46039f"
             ],
             [
              0.2222222222222222,
              "#7201a8"
             ],
             [
              0.3333333333333333,
              "#9c179e"
             ],
             [
              0.4444444444444444,
              "#bd3786"
             ],
             [
              0.5555555555555556,
              "#d8576b"
             ],
             [
              0.6666666666666666,
              "#ed7953"
             ],
             [
              0.7777777777777778,
              "#fb9f3a"
             ],
             [
              0.8888888888888888,
              "#fdca26"
             ],
             [
              1,
              "#f0f921"
             ]
            ],
            "type": "heatmap"
           }
          ],
          "histogram": [
           {
            "marker": {
             "pattern": {
              "fillmode": "overlay",
              "size": 10,
              "solidity": 0.2
             }
            },
            "type": "histogram"
           }
          ],
          "histogram2d": [
           {
            "colorbar": {
             "outlinewidth": 0,
             "ticks": ""
            },
            "colorscale": [
             [
              0,
              "#0d0887"
             ],
             [
              0.1111111111111111,
              "#46039f"
             ],
             [
              0.2222222222222222,
              "#7201a8"
             ],
             [
              0.3333333333333333,
              "#9c179e"
             ],
             [
              0.4444444444444444,
              "#bd3786"
             ],
             [
              0.5555555555555556,
              "#d8576b"
             ],
             [
              0.6666666666666666,
              "#ed7953"
             ],
             [
              0.7777777777777778,
              "#fb9f3a"
             ],
             [
              0.8888888888888888,
              "#fdca26"
             ],
             [
              1,
              "#f0f921"
             ]
            ],
            "type": "histogram2d"
           }
          ],
          "histogram2dcontour": [
           {
            "colorbar": {
             "outlinewidth": 0,
             "ticks": ""
            },
            "colorscale": [
             [
              0,
              "#0d0887"
             ],
             [
              0.1111111111111111,
              "#46039f"
             ],
             [
              0.2222222222222222,
              "#7201a8"
             ],
             [
              0.3333333333333333,
              "#9c179e"
             ],
             [
              0.4444444444444444,
              "#bd3786"
             ],
             [
              0.5555555555555556,
              "#d8576b"
             ],
             [
              0.6666666666666666,
              "#ed7953"
             ],
             [
              0.7777777777777778,
              "#fb9f3a"
             ],
             [
              0.8888888888888888,
              "#fdca26"
             ],
             [
              1,
              "#f0f921"
             ]
            ],
            "type": "histogram2dcontour"
           }
          ],
          "mesh3d": [
           {
            "colorbar": {
             "outlinewidth": 0,
             "ticks": ""
            },
            "type": "mesh3d"
           }
          ],
          "parcoords": [
           {
            "line": {
             "colorbar": {
              "outlinewidth": 0,
              "ticks": ""
             }
            },
            "type": "parcoords"
           }
          ],
          "pie": [
           {
            "automargin": true,
            "type": "pie"
           }
          ],
          "scatter": [
           {
            "fillpattern": {
             "fillmode": "overlay",
             "size": 10,
             "solidity": 0.2
            },
            "type": "scatter"
           }
          ],
          "scatter3d": [
           {
            "line": {
             "colorbar": {
              "outlinewidth": 0,
              "ticks": ""
             }
            },
            "marker": {
             "colorbar": {
              "outlinewidth": 0,
              "ticks": ""
             }
            },
            "type": "scatter3d"
           }
          ],
          "scattercarpet": [
           {
            "marker": {
             "colorbar": {
              "outlinewidth": 0,
              "ticks": ""
             }
            },
            "type": "scattercarpet"
           }
          ],
          "scattergeo": [
           {
            "marker": {
             "colorbar": {
              "outlinewidth": 0,
              "ticks": ""
             }
            },
            "type": "scattergeo"
           }
          ],
          "scattergl": [
           {
            "marker": {
             "colorbar": {
              "outlinewidth": 0,
              "ticks": ""
             }
            },
            "type": "scattergl"
           }
          ],
          "scattermap": [
           {
            "marker": {
             "colorbar": {
              "outlinewidth": 0,
              "ticks": ""
             }
            },
            "type": "scattermap"
           }
          ],
          "scattermapbox": [
           {
            "marker": {
             "colorbar": {
              "outlinewidth": 0,
              "ticks": ""
             }
            },
            "type": "scattermapbox"
           }
          ],
          "scatterpolar": [
           {
            "marker": {
             "colorbar": {
              "outlinewidth": 0,
              "ticks": ""
             }
            },
            "type": "scatterpolar"
           }
          ],
          "scatterpolargl": [
           {
            "marker": {
             "colorbar": {
              "outlinewidth": 0,
              "ticks": ""
             }
            },
            "type": "scatterpolargl"
           }
          ],
          "scatterternary": [
           {
            "marker": {
             "colorbar": {
              "outlinewidth": 0,
              "ticks": ""
             }
            },
            "type": "scatterternary"
           }
          ],
          "surface": [
           {
            "colorbar": {
             "outlinewidth": 0,
             "ticks": ""
            },
            "colorscale": [
             [
              0,
              "#0d0887"
             ],
             [
              0.1111111111111111,
              "#46039f"
             ],
             [
              0.2222222222222222,
              "#7201a8"
             ],
             [
              0.3333333333333333,
              "#9c179e"
             ],
             [
              0.4444444444444444,
              "#bd3786"
             ],
             [
              0.5555555555555556,
              "#d8576b"
             ],
             [
              0.6666666666666666,
              "#ed7953"
             ],
             [
              0.7777777777777778,
              "#fb9f3a"
             ],
             [
              0.8888888888888888,
              "#fdca26"
             ],
             [
              1,
              "#f0f921"
             ]
            ],
            "type": "surface"
           }
          ],
          "table": [
           {
            "cells": {
             "fill": {
              "color": "#EBF0F8"
             },
             "line": {
              "color": "white"
             }
            },
            "header": {
             "fill": {
              "color": "#C8D4E3"
             },
             "line": {
              "color": "white"
             }
            },
            "type": "table"
           }
          ]
         },
         "layout": {
          "height": 800,
          "legend": {
           "bordercolor": "black",
           "borderwidth": 1,
           "x": 1.1,
           "xanchor": "right",
           "y": 1.1,
           "yanchor": "bottom"
          },
          "margin": {
           "t": 200
          },
          "plot_bgcolor": "white",
          "showlegend": true,
          "title": {
           "font": {
            "color": "black",
            "family": "Arial",
            "size": 24,
            "weight": "bold"
           },
           "x": 0.5,
           "y": 0.98
          },
          "width": 1300,
          "xaxis": {
           "gridcolor": "lightgrey",
           "linecolor": "black",
           "showgrid": true,
           "showline": true,
           "tickcolor": "black",
           "tickfont": {
            "family": "Arial",
            "size": 14
           },
           "ticklen": 5,
           "ticks": "outside",
           "tickwidth": 2,
           "title": {
            "font": {
             "family": "Arial",
             "size": 18,
             "weight": "bold"
            }
           }
          },
          "yaxis": {
           "gridcolor": "lightgrey",
           "linecolor": "black",
           "showgrid": true,
           "showline": true,
           "tickcolor": "black",
           "tickfont": {
            "family": "Arial",
            "size": 14
           },
           "ticklen": 5,
           "ticks": "outside",
           "tickwidth": 2,
           "title": {
            "font": {
             "family": "Arial",
             "size": 18,
             "weight": "bold"
            }
           }
          },
          "yaxis2": {
           "gridcolor": "lightgrey",
           "linecolor": "black",
           "showgrid": false,
           "showline": true,
           "tickcolor": "black",
           "tickfont": {
            "family": "Arial",
            "size": 14
           },
           "ticklen": 5,
           "ticks": "outside",
           "tickwidth": 2,
           "title": {
            "font": {
             "family": "Arial",
             "size": 18,
             "weight": "bold"
            }
           }
          }
         }
        },
        "title": {
         "text": "C-12C lift curve"
        },
        "width": 1515.6,
        "xaxis": {
         "range": [
          -2,
          15
         ],
         "title": {
          "text": "Angle of attack, α (deg)"
         }
        },
        "yaxis": {
         "range": [
          0,
          1.5
         ],
         "title": {
          "text": "Lif coefficient, C<sub>L</sub>"
         }
        }
       }
      }
     },
     "metadata": {},
     "output_type": "display_data"
    },
    {
     "data": {
      "application/vnd.plotly.v1+json": {
       "config": {
        "plotlyServerURL": "https://plot.ly"
       },
       "data": [
        {
         "line": {
          "color": "black"
         },
         "mode": "lines",
         "name": "theoretical CL curve",
         "showlegend": false,
         "type": "scatter",
         "x": {
          "bdata": "1jOeN7DVnz+Eo61WGOKfP20OyFF4858/G3v6+McLoD8A7xDJ0x2gP1teCDPcOqA/7UEuIlBZoD9v+pvlaX6gPw6aUJW1qKA/eYLrZ/LVoD/Gka82pgyhPxKhcwVaQ6E/gQ+wWmGFoT97joNIfcihP1sHuwOSEqI/YkIdsoVhoj/gKf1vwbOiP5XUbj0dD6M/Sn/gCnlqoz83e/iL99CjP/rh+BkrOKQ/NLKLXwOnpD+jiJsMnxqlP49LBZOvkaU/Dd6jACMRpj+KcEJulpCmP4ApiDsLHKc/rCs2yOanpz+mcYAUYTuoP94vvWEU06g/4mGml71uqT/Gj/ID2RKqP8C6PnD0tqo/I50iGcdBqz/m8FhZecyrP8eT4Kt1Vqw/+2dr1OHRrD8oPPb8TU2tP2QQgSW6yK0/9KGVqgc8rj+ZtvCOMqeuP17KS3NdEq8/AeCmV4h9rz8f8taDH+ivP5qEjFypJ7A/I5At90JbsD+sm86R3I6wPzenbyx2wrA/asG8LxP0sD/e/BgnHSKxP1E4dR4nULE/xHPRFTF+sT84ry0NO6yxP6rqiQRF2rE/C44zDQgGsj/K4POftTCyP4cztDJjW7I/CIl0xRCGsj8D2TRYvrCyP8Er9epr27I/e6HRN9IFsz8KUgY9Ry+zP5UCO0K8WLM/I7NvRzGCsz+vY6RMpquzPz0U2VEb1bM/ysQNV5D+sz9Evm9GfCe0P75+ttHJSbQ/Nz/9XBdstD+w/0PoZI60PyrAinOysLQ/Mn7R/v/StD8bQRiKTfW0P5ABXxWbF7U/BMKloOg5tT+NicRphVa1P+bAwI2Va7U/P/i8saWAtT+ZL7nVtZW1P/FmtfnFqrU/S56xHda/tT+k1a1B5tS1P/0MqmX26bU/wyF8SSkItj8CQyAL5Cm2P9FjxMyeS7Y/KYtojllttj+iqQxQFI+2Py1S6fwykrY/Mnvu/DKStj8zpPP8MpK2PzjN+PwykrY/PPb9/DKStj8+HwP9MpK2P0JICP0ykrY/RnEN/TKStj9JmhL9MpK2P0zDF/0ykrY/UOwc/TKStj8=",
          "dtype": "f8"
         },
         "y": {
          "bdata": "/uV6v4eGhz/A9ZKxV+WgP/4xR3MN6as/Gbd9mmF2sz841Vd7PPi4P1XzMVwXer4/ugiGHvn9wT/IF/OO5r7EP9cmYP/Tf8c/5jXNb8FAyj/0RDrgrgHNPwRUp1Ccws8/ijGK4MRB0T8QucCYO6LSP5hA91CyAtQ/IMgtCSlj1T+nT2TBn8PWPy7XmnkWJNg/tV7RMY2E2T885gfqA+XaP8RtPqJ6Rdw/TfV0WvGl3T/SfKsSaAbfPy0CcWVvM+A/8EWMwarj4D+0iacd5pPhP3jNwnkhROI/OxHe1Vz04j//VPkxmKTjP8KYFI7TVOQ/htwv6g4F5T9HIEtGSrXlP+dgZqKFZeY/sT4jYKDw5j9oUwSHi3vnP9v5j3hfBeg/ssKvvtl46D+Di88EVOzoP2JU70rOX+k/TUSMWpfI6T+bJtLyqSbqPyMIGIu8hOo/T+tdI8/i6j8VlWkvpD/rPz+qZ2Uvles/ab9lm7rq6z+S1GPRRUDsP7/pYQfRlew/PNTzNJDm7D+0OfXurS7tPyuf9qjLdu0/ogT4Yum+7T8aavkcBwfuP47P+tYkT+4/biT3sm2R7j/Nbhv+79DuPyq5P0lyEO8/owdklPRP7z/lTYjfdo/vP0OYrCr5zu8/ctoZXocG8D/4GDDNKCPwP35XRjzKP/A/BJZcq2tc8D+K1HIaDXnwPxETiYmulfA/llGf+E+y8D+mv6S7ks7wPwhe0VVD5vA/avz97/P98D/MmiqKpBXxPy45VyRVLfE/4NWDvgVF8T/xdbBYtlzxP1AU3fJmdPE/rrIJjReM8T+OHQs2T5/xP4+/u+eXrPE/j2FsmeC58T+QAx1LKcfxP5Clzfxx1PE/kUd+rrrh8T+R6S5gA+/xP5KL3xFM/PE/2kjYwVcP8j9Csdd9nSTyP2MZ1znjOfI/pIXW9ShP8j9M7NWxbmTyP3haaWZmZvI/mptsZmZm8j+73G9mZmbyP90dc2ZmZvI//152ZmZm8j8goHlmZmbyP0LhfGZmZvI/ZCKAZmZm8j+GY4NmZmbyP6ekhmZmZvI/yeWJZmZm8j8=",
          "dtype": "f8"
         },
         "yaxis": "y"
        },
        {
         "line": {
          "color": "black",
          "dash": "dash"
         },
         "mode": "lines",
         "name": "theoretical CL curve +/- 0.03",
         "showlegend": false,
         "type": "scatter",
         "x": {
          "bdata": "R6mREQFHrz8eYRkhNU2vP5KWph7lVa8/dwq97vBnrz9cftO+/HmvP7ftyigFl68/SdHwF3m1rz/LiV7bktqvP7WUiUVvArA/6gjXrg0ZsD+REDmWZzSwPzcYm33BT7A/bk85KMVwsD/sDiMfU5KwP1zLvnxdt7A/3+jvU9fesD+e3N8y9QexP/ixmBmjNbE/U4dRAFFjsT9Khd1AkJaxP6u43QcqyrE/yCCnKpYBsj8ADC8BZDuyP3btY0TsdrI/tDYz+6W2sj/zfwKyX/ayP25cpRgaPLM/hF383geCsz+BgCEFxcuzP53fv6ueF7Q/n3i0RnNltD+Rj9r8gLe0Pw6lALOOCbU/QJZyB/hOtT8hwI0nUZS1P5KR0VBP2bU/rPsWZQUXtj/CZVx5u1S2P+DPoY1xkrY/qBgsUBjMtj/6olnCrQG3P90shzRDN7c/rre0pthstz++wMw8JKK3P0jMbde91bc/0dcOclcJuD9a468M8Ty4P+XuUKeKcLg/GAmeqieiuD+MRPqhMdC4P/9/Vpk7/rg/cruykEUsuT/m9g6IT1q5P1gya39ZiLk/udUUiBy0uT94KNUayt65PzV7la13Cbo/ttBVQCU0uj+xIBbT0l66P29z1mWAibo/Kemysuazuj+4mee3W926P0NKHL3QBrs/0fpQwkUwuz9dq4XHulm7P+tbuswvg7s/eAzv0aSsuz/yBVHBkNW7P2zGl0ze97s/5Ybe1ysavD9eRyVjeTy8P9gHbO7GXrw/4MWyeRSBvD/JiPkEYqO8Pz5JQJCvxbw/sgmHG/3nvD870aXkmQS9P5QIogiqGb0/7T+eLLouvT9Hd5pQykO9P5+ulnTaWL0/+eWSmOptvT9SHY+8+oK9P6tUi+AKmL0/cWldxD22vT+wigGG+Ne9P3+rpUez+b0/19JJCW4bvj9Q8e3KKD2+P9uZyndHQL4/4MLPd0dAvj/h69R3R0C+P+YU2ndHQL4/6j3fd0dAvj/sZuR3R0C+P/CP6XdHQL4/9Ljud0dAvj/34fN3R0C+P/oK+XdHQL4//jP+d0dAvj8=",
          "dtype": "f8"
         },
         "y": {
          "bdata": "/uV6v4eGhz/A9ZKxV+WgP/4xR3MN6as/Gbd9mmF2sz841Vd7PPi4P1XzMVwXer4/ugiGHvn9wT/IF/OO5r7EP9cmYP/Tf8c/5jXNb8FAyj/0RDrgrgHNPwRUp1Ccws8/ijGK4MRB0T8QucCYO6LSP5hA91CyAtQ/IMgtCSlj1T+nT2TBn8PWPy7XmnkWJNg/tV7RMY2E2T885gfqA+XaP8RtPqJ6Rdw/TfV0WvGl3T/SfKsSaAbfPy0CcWVvM+A/8EWMwarj4D+0iacd5pPhP3jNwnkhROI/OxHe1Vz04j//VPkxmKTjP8KYFI7TVOQ/htwv6g4F5T9HIEtGSrXlP+dgZqKFZeY/sT4jYKDw5j9oUwSHi3vnP9v5j3hfBeg/ssKvvtl46D+Di88EVOzoP2JU70rOX+k/TUSMWpfI6T+bJtLyqSbqPyMIGIu8hOo/T+tdI8/i6j8VlWkvpD/rPz+qZ2Uvles/ab9lm7rq6z+S1GPRRUDsP7/pYQfRlew/PNTzNJDm7D+0OfXurS7tPyuf9qjLdu0/ogT4Yum+7T8aavkcBwfuP47P+tYkT+4/biT3sm2R7j/Nbhv+79DuPyq5P0lyEO8/owdklPRP7z/lTYjfdo/vP0OYrCr5zu8/ctoZXocG8D/4GDDNKCPwP35XRjzKP/A/BJZcq2tc8D+K1HIaDXnwPxETiYmulfA/llGf+E+y8D+mv6S7ks7wPwhe0VVD5vA/avz97/P98D/MmiqKpBXxPy45VyRVLfE/4NWDvgVF8T/xdbBYtlzxP1AU3fJmdPE/rrIJjReM8T+OHQs2T5/xP4+/u+eXrPE/j2FsmeC58T+QAx1LKcfxP5Clzfxx1PE/kUd+rrrh8T+R6S5gA+/xP5KL3xFM/PE/2kjYwVcP8j9Csdd9nSTyP2MZ1znjOfI/pIXW9ShP8j9M7NWxbmTyP3haaWZmZvI/mptsZmZm8j+73G9mZmbyP90dc2ZmZvI//152ZmZm8j8goHlmZmbyP0LhfGZmZvI/ZCKAZmZm8j+GY4NmZmbyP6ekhmZmZvI/yeWJZmZm8j8=",
          "dtype": "f8"
         },
         "yaxis": "y"
        },
        {
         "line": {
          "color": "black",
          "dash": "dash"
         },
         "mode": "lines",
         "name": "theoretical CL curve  +/- 0.03",
         "showlegend": false,
         "type": "scatter",
         "x": {
          "bdata": "4FGRweTVUT/ATIiyZpxSP1D7LmRmslM/4Hf9ZuDzVT+A9MtpWjVYP+Dfuahn1ls/IFJ2jeWkXz8wsZb9DiRiPyCr4PjJyGQ/0DGPIpecZz+gJtAO1AdrP2AbEfsQc24/KAFsJ8NJcT/4+AeWomJzP/i/w29Is3U/MJjV4uUqeD8g1NTRw7x6P8gpYj2il30/uL93VEA5gD9sr9dYOtOBP3hK2ZAIcIM/YIskp2krhT8c5WNb2PmGP8zwCnUa1og/xDqFK+jTij+4hP/htdGMP5BoFheJ/44/oDjnpHuXkD+UxHs9cL6RPwRB9dfW7ZI/DKXHQykllD/UAGAcYG2VP8hW+PSWtZY/jhvARjzLlz8UwyzHoOCYP9YIPGyZ9Jk/PrFRvXHrmj+YWWcOSuKbPxACfV8i2Zw/MCWmab2/nT96TlwyE5aePwR2EvtobJ8/pVDkYV8hoD/DYhSO9ougP9h5VsMp86A/6pCY+FxaoT/8p9otkMGhPxK/HGPDKKI/ePO2af2Loj9gam9YEeiiP0bhJ0clRKM/LFjgNTmgoz8Uz5gkTfyjP/hFURNhWKQ/uoykJOevpD84MiVKQgWlP7LXpW+dWqU/tIImlfivpT+qIqe6UwWmPybIJ+CuWqY/mrPgeXuvpj+4FEqEZQKnP851s45PVac/6tYcmTmopz8COIajI/unPx6Z760NTqg/OPpYuPegqD8s7RyXz/KoPyBuqq1qN6k/Eu83xAV8qT8EcMXaoMCpP/jwUvE7Bao/CG3gB9dJqj/a8m0eco6qP8Rz+zQN06o/rPSIS6gXqz++g8bd4VCrP3DyviUCe6s/ImG3bSKlqz/Wz6+1Qs+rP4Y+qP1i+as/Oq2gRYMjrD/sG5mNo02sP56KkdXDd6w/KrQ1nSm0rD+o9n0gn/esP0Y4xqMUO60/9oYOJ4p+rT/ow1aq/8GtP/4UEAQ9yK0/CGcaBD3IrT8KuSQEPcitPxQLLwQ9yK0/HF05BD3IrT8gr0MEPcitPygBTgQ9yK0/MFNYBD3IrT82pWIEPcitPzz3bAQ9yK0/REl3BD3IrT8=",
          "dtype": "f8"
         },
         "y": {
          "bdata": "/uV6v4eGhz/A9ZKxV+WgP/4xR3MN6as/Gbd9mmF2sz841Vd7PPi4P1XzMVwXer4/ugiGHvn9wT/IF/OO5r7EP9cmYP/Tf8c/5jXNb8FAyj/0RDrgrgHNPwRUp1Ccws8/ijGK4MRB0T8QucCYO6LSP5hA91CyAtQ/IMgtCSlj1T+nT2TBn8PWPy7XmnkWJNg/tV7RMY2E2T885gfqA+XaP8RtPqJ6Rdw/TfV0WvGl3T/SfKsSaAbfPy0CcWVvM+A/8EWMwarj4D+0iacd5pPhP3jNwnkhROI/OxHe1Vz04j//VPkxmKTjP8KYFI7TVOQ/htwv6g4F5T9HIEtGSrXlP+dgZqKFZeY/sT4jYKDw5j9oUwSHi3vnP9v5j3hfBeg/ssKvvtl46D+Di88EVOzoP2JU70rOX+k/TUSMWpfI6T+bJtLyqSbqPyMIGIu8hOo/T+tdI8/i6j8VlWkvpD/rPz+qZ2Uvles/ab9lm7rq6z+S1GPRRUDsP7/pYQfRlew/PNTzNJDm7D+0OfXurS7tPyuf9qjLdu0/ogT4Yum+7T8aavkcBwfuP47P+tYkT+4/biT3sm2R7j/Nbhv+79DuPyq5P0lyEO8/owdklPRP7z/lTYjfdo/vP0OYrCr5zu8/ctoZXocG8D/4GDDNKCPwP35XRjzKP/A/BJZcq2tc8D+K1HIaDXnwPxETiYmulfA/llGf+E+y8D+mv6S7ks7wPwhe0VVD5vA/avz97/P98D/MmiqKpBXxPy45VyRVLfE/4NWDvgVF8T/xdbBYtlzxP1AU3fJmdPE/rrIJjReM8T+OHQs2T5/xP4+/u+eXrPE/j2FsmeC58T+QAx1LKcfxP5Clzfxx1PE/kUd+rrrh8T+R6S5gA+/xP5KL3xFM/PE/2kjYwVcP8j9Csdd9nSTyP2MZ1znjOfI/pIXW9ShP8j9M7NWxbmTyP3haaWZmZvI/mptsZmZm8j+73G9mZmbyP90dc2ZmZvI//152ZmZm8j8goHlmZmbyP0LhfGZmZvI/ZCKAZmZm8j+GY4NmZmbyP6ekhmZmZvI/yeWJZmZm8j8=",
          "dtype": "f8"
         },
         "yaxis": "y"
        },
        {
         "marker": {
          "color": "grey",
          "size": 6,
          "symbol": "cross"
         },
         "mode": "markers",
         "name": "Roller coaster",
         "showlegend": true,
         "type": "scatter",
         "x": {
          "bdata": "8PHoRpl2tj+xPm7l4Yy3Px846DOq9Lc/ZNk6PwebuD+Jy2FhzA+5P8xTv4RwzLk/JTXLTuVUuT9oKCtEWdK4P7a1rFnNbLg/Nw9aXgMwuD/F3OG9iuy3PyDnPlDfpbc/CiuPAvUktz+ZLBSGZV62P7gZFuXJdLU/LWo1kiVFtD90ShpsJOSzPzRNL99McLQ/CPNGR3S9tT8JRjs6LmK2PylxFSWozbQ/4iomAPLwsz95L5JbqZezPyr20OYMxrM/ODHMneEWtD8L/6ppqoS1P708X4JkubY/RUnF6r4etz9z+kXMUh63P7GrR83Jzbc/TUHaLWY6uD9/0/itzE64P7N3ykRkirg/ZHZiiHd8uD+vatPaFZ23P9JC/wazwbY/y5cmTASVtj/7xZYGa8e2PxQRYNdwnLY/fwyeKiBAtj9/6KstxXu2P06F6Db5Gbc/dM0gaJZQtz/Qb9+Iy8q2P4tXaJdoNrU/6TCwmR3hsz9gf6Uo03WzPxyYk6JZkLM/X3XN8DSnsz9MSh4tF7azPzU0efzh3bM/4erJmDLcsz8yQJniNsqzPx5jEkQhorM/3e14pr6hsz+cGZwNEaq0P7bzcoMSDrY/Y4oPfyX/tj+Az4PVGN23P4HR6aOmdbg/Y0vSnloZuT/5ItT1f2G5P+k92AR9vLk/80yBWaKUuT/fbw7vu1e5P+dbgH8PSrk/kM4sIRNRuT8bSlbjuFO5P4uNXCWSfrg/wmTrpCixtj/ke7xZFvm0P5TN+3wW/bM/qzGKnjqWsz/wE1cjw8SzP5GuM9fDv7M/GAFKA3/gsz/p9/j69puzPwsglVu4oLM/oA5T9nSisz+SozT9MGWzP+lv0ZiTa7M/CkbQ6tEMtD9tbs6cwLK1P+SlXAgVv7Y/5cHM7AOItz8Oi3Q8/XS4P85fCUZM1bg/ojuis8z3uD8lqPDybCy5PymcqYeWTrk/S2USRedyuT9LJgXFxE65P8NB8Z3kfrk/8JSiUJlMuT+1FzoY1ku4P8+Gf9GuvLU/xsfpZFRQtD/+WaKW9P+zPy8rKPHA/bM/WOYaevkbtD/dBNQsBx+0PxLYTVzF9LM/Vr1l4hDFsz/aG+Vb5LuzP4obz3AuhLM/odHQaWOgsz8rr32dl56zPy4/ndW4nbM/NdQGk0nFtD/mznRQg922P35U6oHGCbg/fMWTyKn3uD/ptat896a5P871ixPiIro/Qyq7rk86uj8UmYMNEWO6P2Eq/m15aro/KAaI+LKDuj88zGgXa4G6P+otkdWEa7o/Z0tYg+W4uT87/AxpQl24P+KY0hpYKrc/s/Oen4ZEtj98CgO+7Tm1P2tqW/u1cbQ/LX7G3AkOtD/eAg6PpYqzP8IdkFrvJLM/KPSEAFoCsz/UCR7ZAQGzPxGJCNCODrM/c4zQHI4Csz+qYtIqvd+yP4cRcTJwzbI/BywFNJlSsz/NvrwyCna1Pzxt3eeOcrc/CqJJaGtbuD8BxUHtRS65P8KLvD3j37k/WkYoWB8Wuj83wWyUj1+6PyJooWDjZLo/VWJvHsZmuj8wdh1GDHK6P4UBdOqzZbo/hCbrZ+u4uT+D+r36oy+4PwTrBkH+KLc/L4YfOmG8tj8cvtjTgTu2P05uO8OBTrU/gmADAziFtD8OlHPespyzP4J8H8/QwLM/",
          "dtype": "f8"
         },
         "y": {
          "bdata": "N4dMps0D6D/CJClCFVDpP9buPlT8+Ok/0xMcv4uz6j/Dm2/YKkPrP+QM1NyJsOs/lTXh2QA+6z+MombTlZbqP+QePfvOOOo/+3X7F7f96T+TsvOWfr/pPzxAMiuPeuk/r1E7le3o6D8suY6W2/rnP4IDHa3Ox+Y/aQ8agPqd5T8wGnvqVvfkP5yEW9Y+quU/gEDJY6g05z8y6tmrrojnPzAXkpyp/+U/LIRzdtu65D8jdQgMiljkP5ckhTBZj+Q/y9Z9cKNy5T8eUUshi9zmP3e+YyqYRug/a/ykn1XO6D8lm7xrlgbpP3R7AtOuqOk/AR7Mn8ct6j/iDIsCRFfqP1ck84wgZ+o/EIWCGJMw6j/yuZL48DHpP5bVdToFlug/sgUTtj8w6D+GJrCTUkXoP15GSfuIH+g/eCT/5Evd5z9/rDOZJyDoP5QhMySkoOg/oTbtL6jQ6D/MStXt9eLnP8rNvWRIHuY/uUeNQAaL5D8Rm+vX5vXjP38GJFL3/eM/XDL6jSwe5D/Jiq1DljPkP0+E3MmoTOQ/MNeRL2M75D/CIl/uLxXkPxue0Oq8DOQ/TBYoWg1r5D+mirhS7tPlP+6mMX5YeOc/+dnJR/+/6D+aPtSAl5zpP8yOvhvbX+o/sGLADWcp6z8IgM5ujaLrP8mKDSbrxOs/q6I5Craf6z8c2u1Zp5vrP654kun8o+s//hZqFXqS6z/W+WEqflvrPxaLL+NKVOo/RzIlfCyI6D+myY4nTYXmP5mgILP/ROU/z0QO+GbS5D9HtnAyHbvkP7+timKAt+Q/0UCJXmqQ5D95yxTMDF/kP1iTFGmdYeQ/QHLtpF8b5D+v3AeweQzkP5rdx9LnKOQ/raVOPJBB5T+a2woCxwbnP2LKEbKAY+g/411lYXZj6T8YqfKMIkjqP1U630mDsuo/lKH7fHPe6j9nXlcuOQTrP+wSURMYKes/iYyykj1i6z9Nx/0XWUHrP40yPW+QNus/WSPfQuj06j9wPT5WyWvpP8PCxY557eY/LSCpo9hQ5T+WqdO09LjkP2JQQ176reQ/G4QV82XE5D/DOKR+Y4zkP9YmT/ZwReQ/0a1qXCwK5D/vYbNrUPDjP7bWVvIoy+M/MEW3vEay4z+jxSngZbLjP55069ETLOQ/AtB6+/Dq5T+zZP3yyDvoP6C/TzVy7uk/OjVPh7rv6j8k8YDO4a7rP13KaGPIDuw/WpwWEKMQ7D/jdSlSwx7sPz9j4jhfXew/2RBaHjSB7D9LfLUkOX7sP+1s1oJpOew/V213Rfxa6z8J+WOa3PnpPxSA8E+Fxeg/l4N8kXSz5z+ncj7I73PmP0xelBWxUeU/l+l+evOF5D9E8I5ul9TjP4RCR+ihUuM/Pm8jyacn4z9gBjcKniPjP4idRsS9HeM/C+RBYoUB4z91FFKfNeHiP0+D0mJw6OI/oVHf3xIw5D8JGIN0s8HmPwJvSNnJB+k/Xsj3iRA06j+HQUqSEB7rP/pMSkzO5us/TdyLRsM27D+0Vhc1x07sP9Cms7iNYOw/Aoaqqip17D+KyKw+I3rsPyv58NXAbuw/K7fo6xV66z/Dk1PN+fTpP++HHJXM3Og/KKJSOPVD6D+8sn5WvXvnP2m6SSS8beY/TZqbzwA75T8YJ2aFKV/kPw5lnFu6PeQ/",
          "dtype": "f8"
         },
         "yaxis": "y"
        },
        {
         "marker": {
          "color": "grey",
          "size": 6,
          "symbol": "cross"
         },
         "mode": "markers",
         "name": "Roller coaster",
         "showlegend": false,
         "type": "scatter",
         "x": {
          "bdata": "cDiJdzCQtT9PU1u0U/y1P+HKVP5up7Y/CIXx5Pgptz/BOduJLb23P0RSqMQuHbg/OhuLSntquD9B/YQgIrm4P0sdutO7GLk/o5+9nZaRuT+IfSRumhS4PyD8k5uPPrU/GnInaqbhsz9mz/OWmkqzP7PPi3i7xLI/DTlcEu/psT/xwGzcFLOxP28t3ocFrrE/84c0ya6isT/RCFw+1baxP90Strx4xrE/+MvosiyYsT9USWkoq12yP/ExC7vt8bQ/BM1SSNaitz/umQ+129C4P1JHLnUWOLk/0lAtlh43uT+uLpDbnCS5PyqHm1O7/bg/l6GuhHc9uT8b6lOyoEe5P2j1qscKRrk/HRdDBGMruT/5uhxEYbm4P50ZF9crWLg/QTD3FFUPuD+iPF6K6Si4P48yiRsTd7c/IPivTQ6ftT+Rv38DGmS0Px+6HvmMfrQ/KCYUdErltT9m6wzD7sG2P6QBw5GLILY/WA/7Cx8HtT9YgYwTXnm0P249X53bOLQ/eU9f4JM3sz+/tW6HQRmyP2KATTxCqrE/FVmYqhSYsT+M9RIHmXqxP/VMznfsn7E/pZj0VMrlsT/6g/57goWyP0bOy876V7M/18RpAxDZsz8GhgF6Dxu1P3MCCzRiL7g/bRKZsGfTuT87SR7y1gG6P0NW12ozz7k/SIioCKxeuT9b0XoRMFW5PwKq7DVLdrk/fZ5ns7A6uT/HJV+wCNK4P30LR4ufbbg//rV4jCaVtz9Z7DARqa+2P+J/ue2/ALY/NM1Oq//ltT9Xlt1j5qW1PzmE2uQWf7U/XzkFASLytD/p5PCFHBe0P+gO8T2EeLM/yXS/Bitvsj/F7Tcr4POxP/46GrOxzLE/dM/MFq/gsT8bEACO5POxPyX9jlPMybE/mUPvv4cysz+TxASXkJa2P9xg9ciIP7g/AUJmKQ5XuD8aC78MfGG4P4Goashmjbg/tGWvaO3zuD/Kf1peRk25P/tmRmcYbrk/xNDpW4eyuT+fXoZK+/K5P+2GT5uv8bk/R4j0tSefuD8aJOsiRSi3Pxsj2kvhhLY/21FCdVR5tj83Tb9QakO1PxahbNpn67I/mIAX/5XasT9abuE7rMyxP+QhoBlD7LE/PHX4YML3sT+z2DHSA9SxP+I09ITJwLE/jJJN8K+rsT/XRNizb4ixP5NVPOsrVLM/DF8LcXh5tz9dJEQqcI+6P2IEFmSLZbs/589o7vqAuz9EhnnN5Pi6P07pinSGt7o/cpNk/PCsuj+4YRprRba6P51StnHOw7o/eF+Norucuj+gdbF5a+e5P+nSSXykfLc/GCk2XLidtT+9z+5jFFK0P/K4I19/kbM/",
          "dtype": "f8"
         },
         "y": {
          "bdata": "eQL+RYpe5z8ubNjeuuDnPxd7PnXYt+g/SCzWMQst6T/s28xalZTpP44TNDyiD+o/WlC8e+Ff6j+KJ7DlssTqPxRL87JkGOs/mLi3UmQe6z87SzgpnG3pP+54PgwMj+Y/mGqJqwmU5D9sJmsYUJPjP/CmsahCl+I/S5sYDTqF4T/rYDcGXPrgP/waa4dU7eA/rNQTqvgF4T9pNIw2chjhP1BhYPbmFOE/dOW7239a4T/nyQ3BuRHjP5AmpSuUV+Y/0FZ5hzhc6T8s0NFno//qP0NMPPlnd+s/xFjIv9pw6z9+zwm1PF3rP4Q5a1d3d+s/Fbp18te46z+l2HmFDtjrP4cBu12s1+s/LCgCY0Gb6z/a3ALs0S3rP/KE0xXzweo/H78ZdMx66j/hypbTmGrqP7W5Cbvgfuk/4QY+3O655z+60Bcu8zzmP5IZrK9aneY/MROzU/v/5z+InwUgmqjoPym2rsEx1ec//aQUyoyU5j//TKM3ndHlPz2wjZj9B+U/lbjD7v+s4z83RMwD5yTiP30hWzzIS+E/LF3T9Dvo4D+J4b5zic7gP4aPZyKuJ+E/QjJ8BkbW4T8rhWBsTuXiPwoHwVFr9OM/mfJGJ+Xo5D/sdu6Oa+zmPzsUX+H86ek/2iUOTHbN6z8eLBz0ZwnsP1TSboPmses/xqJe1CiC6z+evZlKrYnrP2OnDaRcmus/Go+qxt1Y6z94FyG/nvLqPwxkH6DqcOo/qGScdo2k6T/I+lxHVK3oPwnJSVsJAOg/HUTVz9yl5z83TE6ivn3nP71nxpHlL+c/fLH13r955j+HOqiWHWPlP/486SRmJuQ/axEVEW/j4j+qnuGX6x7iPzu8lRZe9eE/0ggFxDcK4j9EyUbl/QPiP7wRffvrOuI/NZhC0RqI5D87+93zRR3oPyh6BE3cMOo/ERooQvFx6j8KEESDIXXqP27Is8Ke4uo/yWer5ppX6z/dUQ9LM4/rP1uOB2awx+s/+J6fHQQl7D/QsnKk21fsP8/fQ4emEew/R2MIso6l6j94fkQOagzpPwZcSZLNX+g/DeMcqa4F6D+oozYF9EvmP9dX3Ecvm+M/wh4F/Anr4T98lDBzgbDhPz/hCv73ueE/c0LJBL+I4T9b2ebQVzrhP4Vdp1rvFOE/w/F5+voH4T+OYTzYXKzhP2TjytW9YeQ/HzHTrKXk6D+zwx7XflDsP32EWsv/hO0/WYiti+JO7T9a+9bhjvvsP9+WqAvf6uw/fQNCQrj+7D+Njr0hJgXtPzJSN4cX9+w/rDXW0oC07D9rW5ki3KzrPxMyFaDheuk/EWwk1YFG5z9SVp5dJLTlPymlG8ZvpOQ/",
          "dtype": "f8"
         },
         "yaxis": "y"
        },
        {
         "marker": {
          "color": "black",
          "size": 10,
          "symbol": "triangle-up-open"
         },
         "mode": "markers",
         "name": "Wind-up turn",
         "showlegend": true,
         "type": "scatter",
         "x": {
          "bdata": "FWh0iSKgtD8NBn9pKae0P9Mhm4DlurQ/exHWodcNtT8z8ajOj9C1P5ph5a3fvbY/NWcibz6/tz+jfABAz7G4PzvNL5znBLo/BedTv4SBuz/juB0+OY68PyKjk1C2sbw/bn6gRoXtvD/7WkxBkUK9P850qF5phb0/QgOtOIrLvT9Cy5cttjS+P920t6hCG78/",
          "dtype": "f8"
         },
         "y": {
          "bdata": "XQ+58ltw5j+R4gu+GX7mPzAYRDtBu+Y/l4D37Z0x5z9LTGOI8MXnP6gF1/X8weg/2Of3Dt2b6T8YtnsoQpDqP64/CDvO4Os/cYaYhKwn7T985pb0AQbuP73+p2O3Lu4/ucGQ8bNZ7j/B5Xef1JruP3OGJW291+4/ncGRzNkB7z9pr0hkZmTvP4KxAx7YDPA/",
          "dtype": "f8"
         },
         "yaxis": "y"
        },
        {
         "marker": {
          "color": "black",
          "size": 10,
          "symbol": "triangle-up-open"
         },
         "mode": "markers",
         "name": "Wind-up turn",
         "showlegend": false,
         "type": "scatter",
         "x": {
          "bdata": "7lv+xjVftT+MlwVSJ9G0PzWBnAygtLQ/mwYFDCvDtD97HwJrtx+1P5ObbLp8ZrU/Ik5AhOzUtT8aL4OqTLe2PzV9ZoM5Erg/46U0DDnGuD/eZCi+4c64PyRzf1bNa7g/x+XNhsfAuD+IkBt272O6P/DlDxeHg7w/1CyzAj0yvT922Ar5W6S9P5+4PsMQt70/TDFj3ujKvT/QqhsiDMy+P+3NhCt5xr8/wnWyRsR1wD8f4sX8LdfAP/hqjuZYAsE/0MHRqnEfwT+CuJ+himPBP7WSKC83gME/mdLolUQ8wT8=",
          "dtype": "f8"
         },
         "y": {
          "bdata": "JjQjiOxb5z/gxc0VlN7mPzzaccR/teY/edXjQYjo5j8by0yi6CznP+RkT4Uzcec/NiLswub15z+VZDULKeHoP+P0W8v1Huo/JE1EwbLT6j+AJh/mT8fqP9nbYwX0fuo/Bo6mMxPK6j9c8teheB7sP7ixjxaoue0/F6V0UQ6Q7j813Nz4QrDuP/RX37Q7ye4/TEfAOy3p7j83EUKyeH7vP63Eo3tMKfA/RBw2+reY8D8o0nFeuODwP1em2Zf+BPE/MGlczAw08T/hueBQAGTxP6B4L4+6fPE/UwLxT7ts8T8=",
          "dtype": "f8"
         },
         "yaxis": "y"
        }
       ],
       "layout": {
        "annotations": [
         {
          "align": "left",
          "font": {
           "color": "black",
           "family": "Arial",
           "size": 16
          },
          "showarrow": false,
          "text": "<b>Configuration:</b> Cruise<br><b>Pressure altitude:</b> 15 000 ft<br><b>Weight:</b> 11'500 lb to 12'000 lb<br><b>CG:</b> 20 to 20.5%<br>",
          "x": 0,
          "xref": "paper",
          "y": 1.15,
          "yref": "paper"
         },
         {
          "align": "left",
          "font": {
           "color": "black",
           "family": "Arial",
           "size": 16
          },
          "showarrow": false,
          "text": "<b>Data basis:</b> Flight test<br><b>Test date:</b> April 30th, 2025<br><b>Tail number:</b> 215 (with YAPS)<br><b>Airspeed:</b> 120 KIAS<br>",
          "x": 0.55,
          "xref": "paper",
          "y": 1.15,
          "yref": "paper"
         },
         {
          "align": "left",
          "font": {
           "color": "black",
           "family": "Arial",
           "size": 16
          },
          "showarrow": false,
          "text": "<b>Configuration:</b> Cruise<br><b>Pressure altitude:</b> 15 000 ft<br><b>Weight:</b> 11'500 lb to 12'000 lb<br><b>CG:</b> 20 to 20.5%<br>",
          "x": 0,
          "xref": "paper",
          "y": 1.15,
          "yref": "paper"
         },
         {
          "align": "left",
          "font": {
           "color": "black",
           "family": "Arial",
           "size": 16
          },
          "showarrow": false,
          "text": "<b>Data basis:</b> Flight test<br><b>Test date:</b> April 30th, 2025<br><b>Tail number:</b> 215 (with YAPS)<br><b>Airspeed:</b> 120 KIAS<br>",
          "x": 0.55,
          "xref": "paper",
          "y": 1.15,
          "yref": "paper"
         },
         {
          "align": "left",
          "font": {
           "color": "black",
           "family": "Arial",
           "size": 16
          },
          "showarrow": false,
          "text": "<b>Configuration:</b> Cruise<br><b>Pressure altitude:</b> 15 000 ft<br><b>Weight:</b> 11'500 lb to 12'000 lb<br><b>CG:</b> 20 to 20.5%<br>",
          "x": 0,
          "xref": "paper",
          "y": 1.15,
          "yref": "paper"
         },
         {
          "align": "left",
          "font": {
           "color": "black",
           "family": "Arial",
           "size": 16
          },
          "showarrow": false,
          "text": "<b>Data basis:</b> Flight test<br><b>Test date:</b> April 30th, 2025<br><b>Tail number:</b> 215 (with YAPS)<br><b>Airspeed:</b> 120 KIAS<br>",
          "x": 0.55,
          "xref": "paper",
          "y": 1.15,
          "yref": "paper"
         },
         {
          "align": "left",
          "font": {
           "color": "black",
           "family": "Arial",
           "size": 16
          },
          "showarrow": false,
          "text": "<b>Configuration:</b> Cruise<br><b>Pressure altitude:</b> 15 000 ft<br><b>Weight:</b> 11'500 lb to 12'000 lb<br><b>CG:</b> 20 to 20.5%<br>",
          "x": 0,
          "xref": "paper",
          "y": 1.15,
          "yref": "paper"
         },
         {
          "align": "left",
          "font": {
           "color": "black",
           "family": "Arial",
           "size": 16
          },
          "showarrow": false,
          "text": "<b>Data basis:</b> Flight test<br><b>Test date:</b> April 30th, 2025<br><b>Tail number:</b> 215 (with YAPS)<br><b>Airspeed:</b> 120 KIAS<br>",
          "x": 0.55,
          "xref": "paper",
          "y": 1.15,
          "yref": "paper"
         }
        ],
        "height": 1152,
        "legend": {
         "font": {
          "color": "black",
          "family": "Arial",
          "size": 16
         },
         "x": 0.99,
         "xanchor": "right",
         "y": 0.01,
         "yanchor": "bottom"
        },
        "shapes": [
         {
          "layer": "below",
          "line": {
           "color": "black",
           "width": 2
          },
          "type": "rect",
          "x0": 0,
          "x1": 1,
          "xref": "paper",
          "y0": 1.05,
          "y1": 1.15,
          "yref": "paper"
         },
         {
          "layer": "below",
          "line": {
           "color": "black",
           "width": 2
          },
          "type": "rect",
          "x0": 0,
          "x1": 1,
          "xref": "paper",
          "y0": 1.05,
          "y1": 1.15,
          "yref": "paper"
         },
         {
          "layer": "below",
          "line": {
           "color": "black",
           "width": 2
          },
          "type": "rect",
          "x0": 0,
          "x1": 1,
          "xref": "paper",
          "y0": 1.05,
          "y1": 1.15,
          "yref": "paper"
         },
         {
          "layer": "below",
          "line": {
           "color": "black",
           "width": 2
          },
          "type": "rect",
          "x0": 0,
          "x1": 1,
          "xref": "paper",
          "y0": 1.05,
          "y1": 1.15,
          "yref": "paper"
         }
        ],
        "showlegend": true,
        "template": {
         "data": {
          "bar": [
           {
            "error_x": {
             "color": "#2a3f5f"
            },
            "error_y": {
             "color": "#2a3f5f"
            },
            "marker": {
             "line": {
              "color": "#E5ECF6",
              "width": 0.5
             },
             "pattern": {
              "fillmode": "overlay",
              "size": 10,
              "solidity": 0.2
             }
            },
            "type": "bar"
           }
          ],
          "barpolar": [
           {
            "marker": {
             "line": {
              "color": "#E5ECF6",
              "width": 0.5
             },
             "pattern": {
              "fillmode": "overlay",
              "size": 10,
              "solidity": 0.2
             }
            },
            "type": "barpolar"
           }
          ],
          "carpet": [
           {
            "aaxis": {
             "endlinecolor": "#2a3f5f",
             "gridcolor": "white",
             "linecolor": "white",
             "minorgridcolor": "white",
             "startlinecolor": "#2a3f5f"
            },
            "baxis": {
             "endlinecolor": "#2a3f5f",
             "gridcolor": "white",
             "linecolor": "white",
             "minorgridcolor": "white",
             "startlinecolor": "#2a3f5f"
            },
            "type": "carpet"
           }
          ],
          "choropleth": [
           {
            "colorbar": {
             "outlinewidth": 0,
             "ticks": ""
            },
            "type": "choropleth"
           }
          ],
          "contour": [
           {
            "colorbar": {
             "outlinewidth": 0,
             "ticks": ""
            },
            "colorscale": [
             [
              0,
              "#0d0887"
             ],
             [
              0.1111111111111111,
              "#46039f"
             ],
             [
              0.2222222222222222,
              "#7201a8"
             ],
             [
              0.3333333333333333,
              "#9c179e"
             ],
             [
              0.4444444444444444,
              "#bd3786"
             ],
             [
              0.5555555555555556,
              "#d8576b"
             ],
             [
              0.6666666666666666,
              "#ed7953"
             ],
             [
              0.7777777777777778,
              "#fb9f3a"
             ],
             [
              0.8888888888888888,
              "#fdca26"
             ],
             [
              1,
              "#f0f921"
             ]
            ],
            "type": "contour"
           }
          ],
          "contourcarpet": [
           {
            "colorbar": {
             "outlinewidth": 0,
             "ticks": ""
            },
            "type": "contourcarpet"
           }
          ],
          "heatmap": [
           {
            "colorbar": {
             "outlinewidth": 0,
             "ticks": ""
            },
            "colorscale": [
             [
              0,
              "#0d0887"
             ],
             [
              0.1111111111111111,
              "#46039f"
             ],
             [
              0.2222222222222222,
              "#7201a8"
             ],
             [
              0.3333333333333333,
              "#9c179e"
             ],
             [
              0.4444444444444444,
              "#bd3786"
             ],
             [
              0.5555555555555556,
              "#d8576b"
             ],
             [
              0.6666666666666666,
              "#ed7953"
             ],
             [
              0.7777777777777778,
              "#fb9f3a"
             ],
             [
              0.8888888888888888,
              "#fdca26"
             ],
             [
              1,
              "#f0f921"
             ]
            ],
            "type": "heatmap"
           }
          ],
          "histogram": [
           {
            "marker": {
             "pattern": {
              "fillmode": "overlay",
              "size": 10,
              "solidity": 0.2
             }
            },
            "type": "histogram"
           }
          ],
          "histogram2d": [
           {
            "colorbar": {
             "outlinewidth": 0,
             "ticks": ""
            },
            "colorscale": [
             [
              0,
              "#0d0887"
             ],
             [
              0.1111111111111111,
              "#46039f"
             ],
             [
              0.2222222222222222,
              "#7201a8"
             ],
             [
              0.3333333333333333,
              "#9c179e"
             ],
             [
              0.4444444444444444,
              "#bd3786"
             ],
             [
              0.5555555555555556,
              "#d8576b"
             ],
             [
              0.6666666666666666,
              "#ed7953"
             ],
             [
              0.7777777777777778,
              "#fb9f3a"
             ],
             [
              0.8888888888888888,
              "#fdca26"
             ],
             [
              1,
              "#f0f921"
             ]
            ],
            "type": "histogram2d"
           }
          ],
          "histogram2dcontour": [
           {
            "colorbar": {
             "outlinewidth": 0,
             "ticks": ""
            },
            "colorscale": [
             [
              0,
              "#0d0887"
             ],
             [
              0.1111111111111111,
              "#46039f"
             ],
             [
              0.2222222222222222,
              "#7201a8"
             ],
             [
              0.3333333333333333,
              "#9c179e"
             ],
             [
              0.4444444444444444,
              "#bd3786"
             ],
             [
              0.5555555555555556,
              "#d8576b"
             ],
             [
              0.6666666666666666,
              "#ed7953"
             ],
             [
              0.7777777777777778,
              "#fb9f3a"
             ],
             [
              0.8888888888888888,
              "#fdca26"
             ],
             [
              1,
              "#f0f921"
             ]
            ],
            "type": "histogram2dcontour"
           }
          ],
          "mesh3d": [
           {
            "colorbar": {
             "outlinewidth": 0,
             "ticks": ""
            },
            "type": "mesh3d"
           }
          ],
          "parcoords": [
           {
            "line": {
             "colorbar": {
              "outlinewidth": 0,
              "ticks": ""
             }
            },
            "type": "parcoords"
           }
          ],
          "pie": [
           {
            "automargin": true,
            "type": "pie"
           }
          ],
          "scatter": [
           {
            "fillpattern": {
             "fillmode": "overlay",
             "size": 10,
             "solidity": 0.2
            },
            "type": "scatter"
           }
          ],
          "scatter3d": [
           {
            "line": {
             "colorbar": {
              "outlinewidth": 0,
              "ticks": ""
             }
            },
            "marker": {
             "colorbar": {
              "outlinewidth": 0,
              "ticks": ""
             }
            },
            "type": "scatter3d"
           }
          ],
          "scattercarpet": [
           {
            "marker": {
             "colorbar": {
              "outlinewidth": 0,
              "ticks": ""
             }
            },
            "type": "scattercarpet"
           }
          ],
          "scattergeo": [
           {
            "marker": {
             "colorbar": {
              "outlinewidth": 0,
              "ticks": ""
             }
            },
            "type": "scattergeo"
           }
          ],
          "scattergl": [
           {
            "marker": {
             "colorbar": {
              "outlinewidth": 0,
              "ticks": ""
             }
            },
            "type": "scattergl"
           }
          ],
          "scattermap": [
           {
            "marker": {
             "colorbar": {
              "outlinewidth": 0,
              "ticks": ""
             }
            },
            "type": "scattermap"
           }
          ],
          "scattermapbox": [
           {
            "marker": {
             "colorbar": {
              "outlinewidth": 0,
              "ticks": ""
             }
            },
            "type": "scattermapbox"
           }
          ],
          "scatterpolar": [
           {
            "marker": {
             "colorbar": {
              "outlinewidth": 0,
              "ticks": ""
             }
            },
            "type": "scatterpolar"
           }
          ],
          "scatterpolargl": [
           {
            "marker": {
             "colorbar": {
              "outlinewidth": 0,
              "ticks": ""
             }
            },
            "type": "scatterpolargl"
           }
          ],
          "scatterternary": [
           {
            "marker": {
             "colorbar": {
              "outlinewidth": 0,
              "ticks": ""
             }
            },
            "type": "scatterternary"
           }
          ],
          "surface": [
           {
            "colorbar": {
             "outlinewidth": 0,
             "ticks": ""
            },
            "colorscale": [
             [
              0,
              "#0d0887"
             ],
             [
              0.1111111111111111,
              "#46039f"
             ],
             [
              0.2222222222222222,
              "#7201a8"
             ],
             [
              0.3333333333333333,
              "#9c179e"
             ],
             [
              0.4444444444444444,
              "#bd3786"
             ],
             [
              0.5555555555555556,
              "#d8576b"
             ],
             [
              0.6666666666666666,
              "#ed7953"
             ],
             [
              0.7777777777777778,
              "#fb9f3a"
             ],
             [
              0.8888888888888888,
              "#fdca26"
             ],
             [
              1,
              "#f0f921"
             ]
            ],
            "type": "surface"
           }
          ],
          "table": [
           {
            "cells": {
             "fill": {
              "color": "#EBF0F8"
             },
             "line": {
              "color": "white"
             }
            },
            "header": {
             "fill": {
              "color": "#C8D4E3"
             },
             "line": {
              "color": "white"
             }
            },
            "type": "table"
           }
          ]
         },
         "layout": {
          "height": 800,
          "legend": {
           "bordercolor": "black",
           "borderwidth": 1,
           "x": 1.1,
           "xanchor": "right",
           "y": 1.1,
           "yanchor": "bottom"
          },
          "margin": {
           "t": 200
          },
          "plot_bgcolor": "white",
          "showlegend": true,
          "title": {
           "font": {
            "color": "black",
            "family": "Arial",
            "size": 24,
            "weight": "bold"
           },
           "x": 0.5,
           "y": 0.98
          },
          "width": 1300,
          "xaxis": {
           "gridcolor": "lightgrey",
           "linecolor": "black",
           "showgrid": true,
           "showline": true,
           "tickcolor": "black",
           "tickfont": {
            "family": "Arial",
            "size": 14
           },
           "ticklen": 5,
           "ticks": "outside",
           "tickwidth": 2,
           "title": {
            "font": {
             "family": "Arial",
             "size": 18,
             "weight": "bold"
            }
           }
          },
          "yaxis": {
           "gridcolor": "lightgrey",
           "linecolor": "black",
           "showgrid": true,
           "showline": true,
           "tickcolor": "black",
           "tickfont": {
            "family": "Arial",
            "size": 14
           },
           "ticklen": 5,
           "ticks": "outside",
           "tickwidth": 2,
           "title": {
            "font": {
             "family": "Arial",
             "size": 18,
             "weight": "bold"
            }
           }
          },
          "yaxis2": {
           "gridcolor": "lightgrey",
           "linecolor": "black",
           "showgrid": false,
           "showline": true,
           "tickcolor": "black",
           "tickfont": {
            "family": "Arial",
            "size": 14
           },
           "ticklen": 5,
           "ticks": "outside",
           "tickwidth": 2,
           "title": {
            "font": {
             "family": "Arial",
             "size": 18,
             "weight": "bold"
            }
           }
          }
         }
        },
        "title": {
         "text": "C-12C drag polar"
        },
        "width": 1515.6,
        "xaxis": {
         "title": {
          "text": "Drag coefficient, C<sub>D</sub>"
         }
        },
        "yaxis": {
         "title": {
          "text": "Lif coefficient, C<sub>L</sub>"
         }
        }
       }
      }
     },
     "metadata": {},
     "output_type": "display_data"
    },
    {
     "data": {
      "application/vnd.plotly.v1+json": {
       "config": {
        "plotlyServerURL": "https://plot.ly"
       },
       "data": [
        {
         "line": {
          "color": "black"
         },
         "mode": "lines",
         "name": "theoretical CL curve",
         "showlegend": false,
         "type": "scatter",
         "x": {
          "bdata": "AAAAAAAAAMCbbLLJJpv8vzbZZJNNNvm/0kUXXXTR9b9ssskmm2zyvxA++OCDD+6/RhdddNFF57988MEHH3zgv2STTTbZZNO/QBdddNFFt78AH3zwwQe/P1hVVVVVVdU/dNFFF1104T9A+OCDDz7oPwgffPDBB+8/6qKLLrro8j9ONtlkk032P7LJJptssvk/GF100UUX/T8++OCDDz4AQPDBBx988AFApIsuuuiiA0BWVVVVVVUFQAgffPDBBwdAuuiiiy66CEBssskmm2wKQCB88MEHHwxA0kUXXXTRDUCEDz744IMPQJtssskmmxBAddFFF110EUBONtlkk00SQCebbLLJJhNAAAAAAAAAFEDZZJNNNtkUQLPJJptsshVAjC666KKLFkBlk0022WQXQD744IMPPhhAGF100UUXGUDwwQcffPAZQMomm2yyyRpApIsuuuiiG0B88MEHH3wcQFZVVVVVVR1ALrrooosuHkAIH3zwwQcfQOKDDz744B9AXXTRRRddIEDKJptssskgQDbZZJNNNiFAo4suuuiiIUAQPvjggw8iQHzwwQcffCJA6aKLLrroIkBWVVVVVVUjQMIHH3zwwSNAL7rooosuJECbbLLJJpskQAgffPDBByVAddFFF110JUDhgw8++OAlQE422WSTTSZAuuiiiy66JkAnm2yyySYnQJRNNtlkkydAAAAAAAAAKEBtsskmm2woQNlkk0022ShARhdddNFFKUCzySabbLIpQB988MEHHypAjC666KKLKkD44IMPPvgqQGWTTTbZZCtA0kUXXXTRK0A++OCDDz4sQKqqqqqqqixAGF100UUXLUCEDz744IMtQPDBBx988C1AXnTRRRddLkDKJptssskuQDbZZJNNNi9ApIsuuuiiL0AIH3zwwQcwQD744IMPPjBAddFFF110MECrqqqqqqowQOGDDz744DBAF1100UUXMUBONtlkk00xQIQPPvjggzFAuuiiiy66MUDxwQcffPAxQCebbLLJJjJAXXTRRRddMkCUTTbZZJMyQMomm2yyyTJAAAAAAAAAM0A=",
          "dtype": "f8"
         },
         "y": {
          "bdata": "tiP7ECc1hz/wqpVbXcqgP/SM7PJwx6s/erchRUJisz+AKM0QzOC4P3+ZeNxVX74/QgUS1O/uwT/Evee5NK7EP0J2vZ95bcc/xC6Thb4syj9E52hrA+zMP8afPlFIq88/JCyKm0Y10T9kCHUO6ZTSP6TkX4GL9NM/5sBK9C1U1T8knTVn0LPWP2Z5INpyE9g/plULTRVz2T/oMfa/t9LaPygO4TJaMtw/aerLpfyR3T+qxrYYn/HeP3TR0MWgKOA/lD9G/3HY4D+0rbs4Q4jhP9UbMXIUOOI/9ommq+Xn4j8V+BvltpfjPzVmkR6IR+Q/VdQGWFn35D9zQnyRKqflP2iw8cr7VuY/8zRvar7k5j+rhcITO2/nP2TiFb23+ec/5jhr5MNt6D9hzTASv+DoP91h9j+6U+k/6k7O8k++6T9bjXEl5BvqP1DLFFh4eeo/SQq4igzX6j+3oTabgDTrP+UFEOXaies/EmrpLjXf6z8+zsJ4jzTsP24ynMLpiew/dVCjhFHc7D//jSw3DCTtP4jLtenGa+0/Egk/nIGz7T+bRshOPPvtPyKEUQH3Qu4/6qfY0meG7j+bUnW/qMXuP0z9EazpBO8/QbKumCpE7z+uUkuFa4PvP1/953Gswu8/PNkjd90A8D+kxHY0Qh3wPwywyfGmOfA/c5scrwtW8D/bhm9scHLwP0NywinVjvA/q10V5zmr8D8SSWiknsfwP8M1tUXc3/A/zc4nqCz38D/XZ5oKfQ7xP+EADW3NJfE/65l/zx098T/0MvIxblTxP/3LZJS+a/E//GTX9g6D8T+/8Pz+A5rxP9XMSjSPpvE/7KiYaRqz8T8Cheaepb/xPxdhNNQwzPE/Lj2CCbzY8T9EGdA+R+XxP1r1HXTS8fE/cNFrqV3+8T8FnIkASxPyPzu9m855KfI/X9qtnKg/8j+N/79q11XyPwQmZ2ZmZvI/dvZpZmZm8j8MzmxmZmbyP6Olb2ZmZvI/OX1yZmZm8j/QVHVmZmbyP2YseGZmZvI//QN7ZmZm8j+T231mZmbyPymzgGZmZvI/wIqDZmZm8j8=",
          "dtype": "f8"
         },
         "yaxis": "y"
        },
        {
         "line": {
          "color": "black",
          "dash": "dash"
         },
         "mode": "lines",
         "name": "theoretical CL curve +/- 0.1",
         "showlegend": false,
         "type": "scatter",
         "x": {
          "bdata": "AAAAAAAAAMCbbLLJJpv8vzbZZJNNNvm/0kUXXXTR9b9ssskmm2zyvxA++OCDD+6/RhdddNFF57988MEHH3zgv2STTTbZZNO/QBdddNFFt78AH3zwwQe/P1hVVVVVVdU/dNFFF1104T9A+OCDDz7oPwgffPDBB+8/6qKLLrro8j9ONtlkk032P7LJJptssvk/GF100UUX/T8++OCDDz4AQPDBBx988AFApIsuuuiiA0BWVVVVVVUFQAgffPDBBwdAuuiiiy66CEBssskmm2wKQCB88MEHHwxA0kUXXXTRDUCEDz744IMPQJtssskmmxBAddFFF110EUBONtlkk00SQCebbLLJJhNAAAAAAAAAFEDZZJNNNtkUQLPJJptsshVAjC666KKLFkBlk0022WQXQD744IMPPhhAGF100UUXGUDwwQcffPAZQMomm2yyyRpApIsuuuiiG0B88MEHH3wcQFZVVVVVVR1ALrrooosuHkAIH3zwwQcfQOKDDz744B9AXXTRRRddIEDKJptssskgQDbZZJNNNiFAo4suuuiiIUAQPvjggw8iQHzwwQcffCJA6aKLLrroIkBWVVVVVVUjQMIHH3zwwSNAL7rooosuJECbbLLJJpskQAgffPDBByVAddFFF110JUDhgw8++OAlQE422WSTTSZAuuiiiy66JkAnm2yyySYnQJRNNtlkkydAAAAAAAAAKEBtsskmm2woQNlkk0022ShARhdddNFFKUCzySabbLIpQB988MEHHypAjC666KKLKkD44IMPPvgqQGWTTTbZZCtA0kUXXXTRK0A++OCDDz4sQKqqqqqqqixAGF100UUXLUCEDz744IMtQPDBBx988C1AXnTRRRddLkDKJptssskuQDbZZJNNNi9ApIsuuuiiL0AIH3zwwQcwQD744IMPPjBAddFFF110MECrqqqqqqowQOGDDz744DBAF1100UUXMUBONtlkk00xQIQPPvjggzFAuuiiiy66MUDxwQcffPAxQCebbLLJJjJAXXTRRRddMkCUTTbZZJMyQMomm2yyyTJAAAAAAAAAM0A=",
          "dtype": "f8"
         },
         "y": {
          "bdata": "Ef64ez6AvD+JN7IjZP/APwrwhwmpvsM/iqhd7+19xj8NYTPVMj3JP4wZCbt3/Ms/D9LeoLy7zj9IRVrDgL3QP4ghRTYjHdI/yP0vqcV80z8I2hocaNzUP0q2BY8KPNY/ipLwAa2b1z/Kbtt0T/vYPwpLxufxWto/TCexWpS62z+KA5zNNhrdP8zfhkDZed4/DLxxs3vZ3z8nTC4Tj5zgP0e6o0xgTOE/aCgZhjH84T+Ilo6/AqziP6cEBPnTW+M/x3J5MqUL5D/n4O5rdrvkPwhPZKVHa+U/Kb3Z3hgb5j9IK08Y6srmP2iZxFG7euc/iAc6i4wq6D+mda/EXdroP5vjJP4uiuk/JmiinfEX6j/euPVGbqLqP5cVSfDqLOs/GWyeF/eg6z+UAGRF8hPsPxCVKXPthuw/HYIBJoPx7D+OwKRYF0/tP4P+R4urrO0/fD3rvT8K7j/q1GnOs2fuPxg5QxgOve4/RZ0cYmgS7z9xAfarwmfvP6Flz/Ucve8/1EHrW8IH8D+Z4C+1nyvwP15/dA59T/A/Ix65Z1pz8D/nvP3AN5fwP6tbQhoVu/A/j+0Fg83c8D/nQlT5bfzwP0CYom8OHPE/uvLw5a478T/xQj9cT1vxP0mYjdLvevE/1nK9EHea8T8+XhDO27bxP6ZJY4tA0/E/DTW2SKXv8T91IAkGCgzyP90LXMNuKPI/RfeugNNE8j+s4gE+OGHyP13PTt91efI/Z2jBQcaQ8j9xATSkFqjyP3uapgZnv/I/hTMZabfW8j+OzIvLB+7yP5dl/i1YBfM/lv5wkKgc8z9ZipaYnTPzP29m5M0oQPM/hkIyA7RM8z+cHoA4P1nzP7H6zW3KZfM/yNYbo1Vy8z/esmnY4H7zP/SOtw1si/M/CmsFQ/eX8z+fNSOa5KzzP9VWNWgTw/M/+XNHNkLZ8z8nmVkEce/zP56/AAAAAPQ/EJADAAAA9D+mZwYAAAD0Pz0/CQAAAPQ/0xYMAAAA9D9q7g4AAAD0PwDGEQAAAPQ/l50UAAAA9D8tdRcAAAD0P8NMGgAAAPQ/WiQdAAAA9D8=",
          "dtype": "f8"
         },
         "yaxis": "y"
        },
        {
         "line": {
          "color": "black",
          "dash": "dash"
         },
         "mode": "lines",
         "name": "theoretical CL curve +/- 0.1",
         "showlegend": false,
         "type": "scatter",
         "x": {
          "bdata": "AAAAAAAAAMCbbLLJJpv8vzbZZJNNNvm/0kUXXXTR9b9ssskmm2zyvxA++OCDD+6/RhdddNFF57988MEHH3zgv2STTTbZZNO/QBdddNFFt78AH3zwwQe/P1hVVVVVVdU/dNFFF1104T9A+OCDDz7oPwgffPDBB+8/6qKLLrro8j9ONtlkk032P7LJJptssvk/GF100UUX/T8++OCDDz4AQPDBBx988AFApIsuuuiiA0BWVVVVVVUFQAgffPDBBwdAuuiiiy66CEBssskmm2wKQCB88MEHHwxA0kUXXXTRDUCEDz744IMPQJtssskmmxBAddFFF110EUBONtlkk00SQCebbLLJJhNAAAAAAAAAFEDZZJNNNtkUQLPJJptsshVAjC666KKLFkBlk0022WQXQD744IMPPhhAGF100UUXGUDwwQcffPAZQMomm2yyyRpApIsuuuiiG0B88MEHH3wcQFZVVVVVVR1ALrrooosuHkAIH3zwwQcfQOKDDz744B9AXXTRRRddIEDKJptssskgQDbZZJNNNiFAo4suuuiiIUAQPvjggw8iQHzwwQcffCJA6aKLLrroIkBWVVVVVVUjQMIHH3zwwSNAL7rooosuJECbbLLJJpskQAgffPDBByVAddFFF110JUDhgw8++OAlQE422WSTTSZAuuiiiy66JkAnm2yyySYnQJRNNtlkkydAAAAAAAAAKEBtsskmm2woQNlkk0022ShARhdddNFFKUCzySabbLIpQB988MEHHypAjC666KKLKkD44IMPPvgqQGWTTTbZZCtA0kUXXXTRK0A++OCDDz4sQKqqqqqqqixAGF100UUXLUCEDz744IMtQPDBBx988C1AXnTRRRddLkDKJptssskuQDbZZJNNNi9ApIsuuuiiL0AIH3zwwQcwQD744IMPPjBAddFFF110MECrqqqqqqowQOGDDz744DBAF1100UUXMUBONtlkk00xQIQPPvjggzFAuuiiiy66MUDxwQcffPAxQCebbLLJJjJAXXTRRRddMkCUTTbZZJMyQMomm2yyyTJAAAAAAAAAM0A=",
          "dtype": "f8"
         },
         "y": {
          "bdata": "IzV6t/Sytr8ixM7rajSxv0CmRkDCa6e/gIjfUV3dmL9AI44ZsRlnv5T/ewvxFpM/1OEUHYyIpD/cw2u0n4WvP+pS4aVZQbU/7sOMceO/uj93GpyeNh/AP/nScYR73sI/e4tHasCdxT/7Qx1QBV3IP3v88jVKHMs//7TIG4/bzT++Ns8Aak3QPwATunMMrdE/QO+k5q4M0z+Cy49ZUWzUP8Kneszzy9U/AoRlP5Yr1z9EYFCyOIvYP4I8OyXb6tk/whgmmH1K2z8C9RALIKrcP0TR+33CCd4/hq3m8GRp3z/ixOixg2TgPwIzXutUFOE/IqHTJCbE4T9AD0le93PiPzV9vpfII+M/wAE8N4ux4z94Uo/gBzzkPzGv4omExuQ/swU4sZA65T8umv3ei63lP6ouwwyHIOY/txubvxyL5j8oWj7ysOjmPx2Y4SRFRuc/FteEV9mj5z+EbgNoTQHoP7LS3LGnVug/3za2+wGs6D8Lm49FXAHpPzv/aI+2Vuk/Qh1wUR6p6T/MWvkD2fDpP1WYgraTOOo/39ULaU6A6j9oE5UbCcjqP+9QHs7DD+s/t3SlnzRT6z9oH0KMdZLrPxnK3ni20es/Dn97ZfcQ7D97HxhSOFDsPyzKtD55j+w/RX8Uu4fO7D8VVro1UQftP+UsYLAaQO0/swMGK+R47T+D2qulrbHtP1OxUSB36u0/I4j3mkAj7j/xXp0VClzuP1M4N1iFjO4/Z2ocHSa77j97nAHixunuP4/O5qZnGO8/owDMawhH7z+1MrEwqXXvP8dklvVJpO8/xZZ7uurS7z8lV2NlagDwPzszsZr1DPA/Ug//z4AZ8D9o60wFDCbwP33HmjqXMvA/lKPobyI/8D+qfzalrUvwP8BbhNo4WPA/1jfSD8Rk8D9rAvBmsXnwP6EjAjXgj/A/xUAUAw+m8D/zZSbRPbzwP2qMzczMzPA/3FzQzMzM8D9yNNPMzMzwPwkM1szMzPA/n+PYzMzM8D82u9vMzMzwP8yS3szMzPA/Y2rhzMzM8D/5QeTMzMzwP48Z58zMzPA/JvHpzMzM8D8=",
          "dtype": "f8"
         },
         "yaxis": "y"
        },
        {
         "marker": {
          "color": "grey",
          "size": 6,
          "symbol": "cross"
         },
         "mode": "markers",
         "name": "Roller coaster",
         "showlegend": true,
         "type": "scatter",
         "x": {
          "bdata": "vqP/0coCBEBsnQaymw0GQDLKrPl4sAlARwBrMYN1C0DWkhxz5CkMQAvhZN/d1wxAQ8Y5GCOmDUBZ2U6m9jIOQPJ7dgFeMw5AFK49+L5aDkBp4a8TkIENQLmNe48HAQdALebB3YU5/j8DcMztylv3P8vgOghyffU/3IBt52t58T8hkhcrs/rsP1lSLuEnIuw/C62znwgQ7D+tT9CJbrfsP8KiZycmwO4/LWid0Zlj9D9fc98fD/oAQF1s3IHivwlAJlwB3mrPDEA2LPjVfTEPQOmt259G6hBA7p8I+exjEUDqqQt2FA0SQOmGPr2cjBJAbD+2pku2EkB9+U2RiCcSQMnEXQGGhA9A81Fd5EXICkCHKJ5DEckIQLVGK6Y08QZAtCrOIeDR/z9LYa+lt7TzP26eJtZAC/A/HOoXpO4n7T+TJZBKFqzoP9surD+5c98/p0+a//bE1D9zUn06lFbTP4bA+F/WFdU/FWaP8udB4T/vyv1nrgHzPyuezd4ykwVALlZGvo2aEEA1RqyTP+8RQCOB+cvHGhJAXtzeYWJ0EkCYWag5Et0SQIM/FwDJVhNArk7JKkSCE0BTtx8CkIsTQB/dIEwlXhNAakL3wi2QEkB8iutr75IPQHGlFrokgAJA+y3BKuft5T9t7vFQMWPZP+0t5bi5uNw/H0kMyAJf0D/8JlxPYMeQv4gA/dleibG/rcUNRrY+wz9ny+8tbCbcP/+EawsxV/I/kfLUZ7JSAEBOyRVQERADQC2AyMvL8gVAiUYLsAuyDEAVmfenvCoRQPERHoQM6RFADyKqrqNxEkAn8FFEegATQC6Sk+l1AxNACPQ6Nv0AE0BB8+eAgvMSQG5mT947BBNAUJYnuILeEkCwkkkRoToNQI8MNW3oT/w/SD2pP7IX8j8/pnGgg7DlP++YH/rmANE/ihI497WVuz/sj6rRnGWuPyaLRrtXBq4/B3u0V0aSpT8dTvDsFjKqP2GZPsZ11c8/lMxudebo6j8BArJHwdL9PyY2rHutRgVA2XrACOtOCkBoonn10dgRQKfIg/47xRNAo7QT3wdEFEAau17dKfkUQNeqJk0KDxVAmLRA9IXYFEAjwgeIvx8UQOUF1OUu/RJANn0m1CnREEAcbYwT9mMLQCu+MmkufwZAOUaVpd2AAEApscn75gn9Pw==",
          "dtype": "f8"
         },
         "y": {
          "bdata": "6ruK9yMA3j8G5i5mZHTfP27tdMioxuA/fY70MaJa4T8moFuFhpDhPxAgHSF81+E/6AYBvHEQ4j9Mvza2SSviPxekuLAYNeI/znROC7864j9EPJ2msr3hPw6tiWCyZ98/Nr3KvYan2j/7wziDc0DYP25WlV8fZtc/MFqNFbgs1j8kH7UeGk7VP/bnbDOaHtU/wBiTy9cs1T8DkHPfdU7VPzB1BKds5dU/6oVf0aev1z/X95DwjhbcP//GRi/QseA/JJ6NlJfu4T/xuACM4MfiPyEYG1d8i+M/nOPgx3Do4z9GfM2470TkP66oFJ3Jl+Q/YnpkbOeY5D+v87l1QRvkPwueKgo9p+I/ej7Xpm0p4T93kJz16WbgP2jhxx3qCt8/4RzpDpDp2j9OjrvnLiDXP0qOmr3PwdU/QeCooC001T9UFy9OKV/UP8kfa9azFtM/NzdVGbI80j/75kDRzC7SP0dwAXKmatI/ziY9H5e60z+t5mV9u0vXPzuErMWQ694/9iOJqcUR4z9ZLbxtFjTkP+sT4lyrXuQ/ZoNb77GO5D/X2+k2fcvkP12+3yErEuU/iM5WAaMx5T+NFBz15x7lP3EJ/aB38OQ/3bmhEwJP5D9PICiWOm3iP/KoP5jOsdw/gr04lYTl1D/sg+V6Q7/SP5JUKjKjwNI/RDy3NXax0T/z/U8+uFPQP+dee/LzOtA/PGUGE7Z70T+rYi1CIzHTPxxgpEKmytY/u8awH3sW2z+CPMDqSljdPzAmfXD4jN8/X/v65JfU4T+rQrQg5J3jP2Ss3C0bNOQ/em05K4CJ5D8Q4YIducrkPwCsjsx/x+Q/TKG1AJ255D/sm/s0QK3kP5AbVIh0rOQ/aLE/IJxj5D9gWtK2qZzhP1JMvebenNo/zcRCsoRk1j9yXnxCVgvUPy6FQ1sY+9E/Lb5E4CgB0T/JkFtpo8vQP/h7JEXPxNA/7l124TXB0D9ipO9LE/nQP9Lm92fuNdI/Fvsn+/Ff1T9G+kqwkX/aP47pDMHPs94/DJEnyTxi4T9CpurlJxjkPzwprG0daOU/wugEz52/5T8y/N2LWBTmP2G4qR69LeY/w0Rc3n/75T8acZ9janPlP0d9qbQGo+Q/IeiLXyon4z+7+wVJI0DhPwbPDp7Q4t4/2TVzys1u2z++ocajjwraPw==",
          "dtype": "f8"
         },
         "yaxis": "y"
        },
        {
         "marker": {
          "color": "grey",
          "size": 6,
          "symbol": "cross"
         },
         "mode": "markers",
         "name": "Roller coaster",
         "showlegend": false,
         "type": "scatter",
         "x": {
          "bdata": "vje+ycRjCEB6QfSBH7AMQO261Zx0Yw9A4F94Pl34D0DSX7QabVMQQKybPDMKjxBAVWecVdOPC0ANNWHONQMEQI6fqY97p/w/QBh7dna59j+HfGy5LrfzPy1pu8z0A+8/IKOr8CsG5z8GnD7WJvXkP1+inm/kEeY/T/WhNxVU6z9kQwVJzRD8PyDvfIJURwdA39n8wErCDEDsZAauDJcNQFHYHK54uA9ANSgMrKMHEkBOV5W3Bx4TQBXkkvGB/xNAPCCmeSkvFECCzjkxppESQCGUfsH6jhBAsB5R5OEbDkAzdWXMWscIQGsEQ+5BwwBAxrVV3Kw69T/RBT716j/wP9VvGBkgles/8oXkkEiS6D/Nc8pBCN3mP83XfphZy+U/1m9BoYUD5j9jvHEsfePnP+ozWK5kWfQ/KIpf0n4MAUD4soCP4fgDQFwernKxvQdAOBwi/XpiDEBkKx58ZG8QQDU8jGWZPhJAJp260wjQEkB2OyW18A4TQCMNPa5CjRNAcsvk+/nFE0APTXBab+0SQBiqHgQe6A1ALki3+Vf1BUBWocZHK7D5P8iPFrLaO/E/nKtYeoRy8T8S+b89LQ/wP+Se0ZIarek/gPbT9SmP5j/EMktHOrXlP/VWS6WuRuU/xlsu+9yp5j8zGSWb5Zz0P1H5EBeOkwNAT3JaUi0fDUDuQmVZZ2ERQPaepR9QHhJAVE+F0B9NEkALZRBC/oMSQFTLlKO/axNAAKk+Bl3rFECyv3XQJ6UTQJ7EUh8Gug1ArVmZimOJBEC9uiUUAxb5P1JIuHHiJfE/Ybyjno/Z7j9GGjOjTyTrP7zsz1uNWOc/L7ECYz7x5T/z0B1mvd7lP0Qa2S07MuU/gq9+VgMN5T+NO3n91o3uP3My6hMXGQVAzW7N446dD0AdD+jFbQgRQIxblXrTkxFAFFzwcZqeEkB+gpkHwpwTQBGBejuTnRRA1MasmFzkFEByxXXNiPITQGLOEvOGsg9AgThIljqBCUCz3HdGLpYEQFWa8rmccP8/",
          "dtype": "f8"
         },
         "y": {
          "bdata": "H++ZjPNs4D/2RdQPcsvhP+iNCEb4lOI/EDjFbxrW4j88fvJo3g/jP37cccOHAOM/NAmtcidV4T+oukJS5LLdPyfruzj5Gto/SD0Ytu4j2D8PNDQl1P3WP/8+OJlTqNU/azhBEa1o1D+EeOEgTxbUPxkBiN77LdQ/LIz8qj561T+KBW3xUwvaP0EvFZnV898//pYamfrH4T8xp8Mn+zTiPyMvmWCYB+M/6nLUoWs/5D/aHtIRBf3kPyZexurmeOU/LNp9Kux15T9r0AdDuXfkP/Bf1Lu9O+M/p4yXrBsa4j82PoC01FDgP8HBZHUjoNs/13I01ZCw1z+WLdLGqtPVP48IrfhV9NQ/1PKY7zF/1D8DpfiJKDTUPwv+GBShGNQ/IrOHxAoh1D/VqX1Zk7LUP9dUuW1Tftc/ZLrtZdOJ2z+C3vA/6uPdP6izFJabNOA/38OfBFy64T/iieHvPTjjP2FwR2+8VeQ/wxQhOBqy5D+vOz5ilNnkPzgbMg/IG+U/gFYBgSY55T+OIqoTuXPkP4pjItL0KOI/r2OSZNvZ3j+/7/khSVnZP3cMw3jhZ9Y/zfRuQRQm1j9xYZX7NbLVP/vCcJ0MztQ/WvvSl6w21D+eWnm4hxnUP0wzMuh6FtQ/P9QzuGuT1D8UcbfADcvXP2P42zskn90/WScYnqzb4T8kDTQWH7bjP0AhDboUSuQ/MlGN+i9m5D8qDqqwdorkPz+Duz47G+U/4FYTF83a5T8JfNjWzerkPw9JgoQ6DOI/q7eq56wR3j/J7EowGwPZPzSEC/DTWNY/0cD9FGeH1T8GFAAweejUP6jy2IkRW9Q/yjiYRqwb1D9SDvI2MQrUP+a70UU+DtQ/AmmWErwR1D/auqra/3/WPxYJ+vOjVN4/4T85w52Y4j9djqyN+6rjP+DfwcIwEeQ/mQ+KEc2i5D+FAdgaHFDlPwWkmX1W4eU/NBkp11oD5j9N6NG+5SHlPw0vt4EOz+I/XxKQdIOw4D+Z9u1R2OvdP7UJXNYh/do/",
          "dtype": "f8"
         },
         "yaxis": "y"
        },
        {
         "marker": {
          "color": "black",
          "size": 10,
          "symbol": "triangle-up-open"
         },
         "mode": "markers",
         "name": "Wind-up turn",
         "showlegend": true,
         "type": "scatter",
         "x": {
          "bdata": "749pL3k+BECm5F/wCzAEQBNaAxNa3ANAE66sVGiIA0AqgfpAwDQDQLqydb9IVQNAgxy8LRwNA0CeXkusL5gCQPsei63+zgRAjBqUjKbWB0AMaPa6zCsJQDKjOz04nQtAvhEsBtqWD0DGct6UAhgRQPjFfHsYKhJAzC8n550ZFEDYTMgoZMkVQFqMvUNBxBZA0wIkllcPF0DvDjDZeOYWQKFlkIbeTBdAl3KLmRVxGUBNhZw0mHIbQOpFRyKj5RtAV/vsio3lG0BypQ3r48IbQLg9pGthnBpAC2RNXQNZGEDtptVA5MESQFEZfdUOIgtA",
          "dtype": "f8"
         },
         "y": {
          "bdata": "2wjsD4dK3T8tW/WtSUXdP8sB+hLzC90/tzoK4MHK3D+0JXDtBbLcP+0iNmTdptw/TFnvCQiO3D8LvGH7OnncP0G+Ee2J7t0/7JjgXdzB3z9awBlbQmjgP7KDlrCaPeE/XyAuD+Fj4j/9B4rMwETjPwtFE7h9JOQ/iK+/+kJR5T8e2fosh23mP9eSQQy3FOc/YQcaW75F5z9uaa7q5SjnP9Iq1VIye+c/oA6w84XJ6D+AskaCxOzpPzAsKXbAP+o/b37LlbQq6j99fGW15d/pP993uikZW+k/Txf1E4+w5z8YRBK+uU7kP25oNYNfFeE/",
          "dtype": "f8"
         },
         "yaxis": "y"
        },
        {
         "marker": {
          "color": "black",
          "size": 10,
          "symbol": "triangle-up-open"
         },
         "mode": "markers",
         "name": "Wind-up turn",
         "showlegend": false,
         "type": "scatter",
         "x": {
          "bdata": "AlRRQa9x/j8so6hHN0UBQJu2wSbgKANA4PZ8sRn6A0DbcQDdhBoFQOryX/csLwdADvxKxBk/CEBH7K4m2RQIQPpk34M9sgdAmKkANS03CUAOSmXRtiQLQB4SxYDlggtAeOBUPja1C0C1pdZUhqQOQLkBmOWRnxBALAwKvq6BEUCnr9jLtsARQK4XAIrTpBFAtkMh9Ai9EUDAtQvHGvUSQH/qAcIx3xRAXfTayU9uFUD0o3oepVwWQPtJagIUBxhA2nfvTrW0GUC30rY4cQgbQFI+mpObXhxABzk5z6T5HEAiQ7XVNfMcQAt9Dx2JBx1ArOjNwzsxHUBgaezrZUseQKllRU5mLh5Ai7wdWOyZFUA=",
          "dtype": "f8"
         },
         "y": {
          "bdata": "Gh5SiuBT2j+u6ts9NoTbP4LNysNEq9w/nO/CI4003T++Pl84FA/eP13l1XQDPN8/yet2Za7R3z+6Z58rPq3fP5al9ubIn98/grlJWERS4D8ha9mgcejgPw2n05WgB+E//CT8CM854T+1/tuaNhbiPyrlSKDr9OI/3ORp+AaJ4z/cj1i1eLXjPwcdtIm5tuM/1DFMUrbi4z+tLj+IZrfkP2ipR7RP3eU//Os33E1s5j9e4uS2uBPnPwqllgHRCug/w43jRHMO6T9E1kQfw/PpPxWcxGU/0+o/zbuQeZgm6z8PcZeKWBnrP96QNMcRKOs/TMm04w5h6z/MC83Ipg/sP5q0Qh4aQOs/qqdX7f2A5j8=",
          "dtype": "f8"
         },
         "yaxis": "y"
        }
       ],
       "layout": {
        "annotations": [
         {
          "align": "left",
          "font": {
           "color": "black",
           "family": "Arial",
           "size": 16
          },
          "showarrow": false,
          "text": "<b>Configuration:</b> Cruise<br><b>Pressure altitude:</b> 15 000 ft<br><b>Weight:</b> 11'500 lb to 12'000 lb<br><b>CG:</b> 20 to 20.5%<br>",
          "x": 0,
          "xref": "paper",
          "y": 1.15,
          "yref": "paper"
         },
         {
          "align": "left",
          "font": {
           "color": "black",
           "family": "Arial",
           "size": 16
          },
          "showarrow": false,
          "text": "<b>Data basis:</b> Flight test<br><b>Test date:</b> April 30th, 2025<br><b>Tail number:</b> 215 (with YAPS)<br><b>Airspeed:</b> 150 KIAS<br>",
          "x": 0.55,
          "xref": "paper",
          "y": 1.15,
          "yref": "paper"
         },
         {
          "align": "left",
          "font": {
           "color": "black",
           "family": "Arial",
           "size": 16
          },
          "showarrow": false,
          "text": "<b>Configuration:</b> Cruise<br><b>Pressure altitude:</b> 15 000 ft<br><b>Weight:</b> 11'500 lb to 12'000 lb<br><b>CG:</b> 20 to 20.5%<br>",
          "x": 0,
          "xref": "paper",
          "y": 1.15,
          "yref": "paper"
         },
         {
          "align": "left",
          "font": {
           "color": "black",
           "family": "Arial",
           "size": 16
          },
          "showarrow": false,
          "text": "<b>Data basis:</b> Flight test<br><b>Test date:</b> April 30th, 2025<br><b>Tail number:</b> 215 (with YAPS)<br><b>Airspeed:</b> 150 KIAS<br>",
          "x": 0.55,
          "xref": "paper",
          "y": 1.15,
          "yref": "paper"
         },
         {
          "align": "left",
          "font": {
           "color": "black",
           "family": "Arial",
           "size": 16
          },
          "showarrow": false,
          "text": "<b>Configuration:</b> Cruise<br><b>Pressure altitude:</b> 15 000 ft<br><b>Weight:</b> 11'500 lb to 12'000 lb<br><b>CG:</b> 20 to 20.5%<br>",
          "x": 0,
          "xref": "paper",
          "y": 1.15,
          "yref": "paper"
         },
         {
          "align": "left",
          "font": {
           "color": "black",
           "family": "Arial",
           "size": 16
          },
          "showarrow": false,
          "text": "<b>Data basis:</b> Flight test<br><b>Test date:</b> April 30th, 2025<br><b>Tail number:</b> 215 (with YAPS)<br><b>Airspeed:</b> 150 KIAS<br>",
          "x": 0.55,
          "xref": "paper",
          "y": 1.15,
          "yref": "paper"
         },
         {
          "align": "left",
          "font": {
           "color": "black",
           "family": "Arial",
           "size": 16
          },
          "showarrow": false,
          "text": "<b>Configuration:</b> Cruise<br><b>Pressure altitude:</b> 15 000 ft<br><b>Weight:</b> 11'500 lb to 12'000 lb<br><b>CG:</b> 20 to 20.5%<br>",
          "x": 0,
          "xref": "paper",
          "y": 1.15,
          "yref": "paper"
         },
         {
          "align": "left",
          "font": {
           "color": "black",
           "family": "Arial",
           "size": 16
          },
          "showarrow": false,
          "text": "<b>Data basis:</b> Flight test<br><b>Test date:</b> April 30th, 2025<br><b>Tail number:</b> 215 (with YAPS)<br><b>Airspeed:</b> 150 KIAS<br>",
          "x": 0.55,
          "xref": "paper",
          "y": 1.15,
          "yref": "paper"
         }
        ],
        "height": 1152,
        "legend": {
         "font": {
          "color": "black",
          "family": "Arial",
          "size": 16
         },
         "x": 0.99,
         "xanchor": "right",
         "y": 0.01,
         "yanchor": "bottom"
        },
        "shapes": [
         {
          "layer": "below",
          "line": {
           "color": "black",
           "width": 2
          },
          "type": "rect",
          "x0": 0,
          "x1": 1,
          "xref": "paper",
          "y0": 1.05,
          "y1": 1.15,
          "yref": "paper"
         },
         {
          "layer": "below",
          "line": {
           "color": "black",
           "width": 2
          },
          "type": "rect",
          "x0": 0,
          "x1": 1,
          "xref": "paper",
          "y0": 1.05,
          "y1": 1.15,
          "yref": "paper"
         },
         {
          "layer": "below",
          "line": {
           "color": "black",
           "width": 2
          },
          "type": "rect",
          "x0": 0,
          "x1": 1,
          "xref": "paper",
          "y0": 1.05,
          "y1": 1.15,
          "yref": "paper"
         },
         {
          "layer": "below",
          "line": {
           "color": "black",
           "width": 2
          },
          "type": "rect",
          "x0": 0,
          "x1": 1,
          "xref": "paper",
          "y0": 1.05,
          "y1": 1.15,
          "yref": "paper"
         }
        ],
        "showlegend": true,
        "template": {
         "data": {
          "bar": [
           {
            "error_x": {
             "color": "#2a3f5f"
            },
            "error_y": {
             "color": "#2a3f5f"
            },
            "marker": {
             "line": {
              "color": "#E5ECF6",
              "width": 0.5
             },
             "pattern": {
              "fillmode": "overlay",
              "size": 10,
              "solidity": 0.2
             }
            },
            "type": "bar"
           }
          ],
          "barpolar": [
           {
            "marker": {
             "line": {
              "color": "#E5ECF6",
              "width": 0.5
             },
             "pattern": {
              "fillmode": "overlay",
              "size": 10,
              "solidity": 0.2
             }
            },
            "type": "barpolar"
           }
          ],
          "carpet": [
           {
            "aaxis": {
             "endlinecolor": "#2a3f5f",
             "gridcolor": "white",
             "linecolor": "white",
             "minorgridcolor": "white",
             "startlinecolor": "#2a3f5f"
            },
            "baxis": {
             "endlinecolor": "#2a3f5f",
             "gridcolor": "white",
             "linecolor": "white",
             "minorgridcolor": "white",
             "startlinecolor": "#2a3f5f"
            },
            "type": "carpet"
           }
          ],
          "choropleth": [
           {
            "colorbar": {
             "outlinewidth": 0,
             "ticks": ""
            },
            "type": "choropleth"
           }
          ],
          "contour": [
           {
            "colorbar": {
             "outlinewidth": 0,
             "ticks": ""
            },
            "colorscale": [
             [
              0,
              "#0d0887"
             ],
             [
              0.1111111111111111,
              "#46039f"
             ],
             [
              0.2222222222222222,
              "#7201a8"
             ],
             [
              0.3333333333333333,
              "#9c179e"
             ],
             [
              0.4444444444444444,
              "#bd3786"
             ],
             [
              0.5555555555555556,
              "#d8576b"
             ],
             [
              0.6666666666666666,
              "#ed7953"
             ],
             [
              0.7777777777777778,
              "#fb9f3a"
             ],
             [
              0.8888888888888888,
              "#fdca26"
             ],
             [
              1,
              "#f0f921"
             ]
            ],
            "type": "contour"
           }
          ],
          "contourcarpet": [
           {
            "colorbar": {
             "outlinewidth": 0,
             "ticks": ""
            },
            "type": "contourcarpet"
           }
          ],
          "heatmap": [
           {
            "colorbar": {
             "outlinewidth": 0,
             "ticks": ""
            },
            "colorscale": [
             [
              0,
              "#0d0887"
             ],
             [
              0.1111111111111111,
              "#46039f"
             ],
             [
              0.2222222222222222,
              "#7201a8"
             ],
             [
              0.3333333333333333,
              "#9c179e"
             ],
             [
              0.4444444444444444,
              "#bd3786"
             ],
             [
              0.5555555555555556,
              "#d8576b"
             ],
             [
              0.6666666666666666,
              "#ed7953"
             ],
             [
              0.7777777777777778,
              "#fb9f3a"
             ],
             [
              0.8888888888888888,
              "#fdca26"
             ],
             [
              1,
              "#f0f921"
             ]
            ],
            "type": "heatmap"
           }
          ],
          "histogram": [
           {
            "marker": {
             "pattern": {
              "fillmode": "overlay",
              "size": 10,
              "solidity": 0.2
             }
            },
            "type": "histogram"
           }
          ],
          "histogram2d": [
           {
            "colorbar": {
             "outlinewidth": 0,
             "ticks": ""
            },
            "colorscale": [
             [
              0,
              "#0d0887"
             ],
             [
              0.1111111111111111,
              "#46039f"
             ],
             [
              0.2222222222222222,
              "#7201a8"
             ],
             [
              0.3333333333333333,
              "#9c179e"
             ],
             [
              0.4444444444444444,
              "#bd3786"
             ],
             [
              0.5555555555555556,
              "#d8576b"
             ],
             [
              0.6666666666666666,
              "#ed7953"
             ],
             [
              0.7777777777777778,
              "#fb9f3a"
             ],
             [
              0.8888888888888888,
              "#fdca26"
             ],
             [
              1,
              "#f0f921"
             ]
            ],
            "type": "histogram2d"
           }
          ],
          "histogram2dcontour": [
           {
            "colorbar": {
             "outlinewidth": 0,
             "ticks": ""
            },
            "colorscale": [
             [
              0,
              "#0d0887"
             ],
             [
              0.1111111111111111,
              "#46039f"
             ],
             [
              0.2222222222222222,
              "#7201a8"
             ],
             [
              0.3333333333333333,
              "#9c179e"
             ],
             [
              0.4444444444444444,
              "#bd3786"
             ],
             [
              0.5555555555555556,
              "#d8576b"
             ],
             [
              0.6666666666666666,
              "#ed7953"
             ],
             [
              0.7777777777777778,
              "#fb9f3a"
             ],
             [
              0.8888888888888888,
              "#fdca26"
             ],
             [
              1,
              "#f0f921"
             ]
            ],
            "type": "histogram2dcontour"
           }
          ],
          "mesh3d": [
           {
            "colorbar": {
             "outlinewidth": 0,
             "ticks": ""
            },
            "type": "mesh3d"
           }
          ],
          "parcoords": [
           {
            "line": {
             "colorbar": {
              "outlinewidth": 0,
              "ticks": ""
             }
            },
            "type": "parcoords"
           }
          ],
          "pie": [
           {
            "automargin": true,
            "type": "pie"
           }
          ],
          "scatter": [
           {
            "fillpattern": {
             "fillmode": "overlay",
             "size": 10,
             "solidity": 0.2
            },
            "type": "scatter"
           }
          ],
          "scatter3d": [
           {
            "line": {
             "colorbar": {
              "outlinewidth": 0,
              "ticks": ""
             }
            },
            "marker": {
             "colorbar": {
              "outlinewidth": 0,
              "ticks": ""
             }
            },
            "type": "scatter3d"
           }
          ],
          "scattercarpet": [
           {
            "marker": {
             "colorbar": {
              "outlinewidth": 0,
              "ticks": ""
             }
            },
            "type": "scattercarpet"
           }
          ],
          "scattergeo": [
           {
            "marker": {
             "colorbar": {
              "outlinewidth": 0,
              "ticks": ""
             }
            },
            "type": "scattergeo"
           }
          ],
          "scattergl": [
           {
            "marker": {
             "colorbar": {
              "outlinewidth": 0,
              "ticks": ""
             }
            },
            "type": "scattergl"
           }
          ],
          "scattermap": [
           {
            "marker": {
             "colorbar": {
              "outlinewidth": 0,
              "ticks": ""
             }
            },
            "type": "scattermap"
           }
          ],
          "scattermapbox": [
           {
            "marker": {
             "colorbar": {
              "outlinewidth": 0,
              "ticks": ""
             }
            },
            "type": "scattermapbox"
           }
          ],
          "scatterpolar": [
           {
            "marker": {
             "colorbar": {
              "outlinewidth": 0,
              "ticks": ""
             }
            },
            "type": "scatterpolar"
           }
          ],
          "scatterpolargl": [
           {
            "marker": {
             "colorbar": {
              "outlinewidth": 0,
              "ticks": ""
             }
            },
            "type": "scatterpolargl"
           }
          ],
          "scatterternary": [
           {
            "marker": {
             "colorbar": {
              "outlinewidth": 0,
              "ticks": ""
             }
            },
            "type": "scatterternary"
           }
          ],
          "surface": [
           {
            "colorbar": {
             "outlinewidth": 0,
             "ticks": ""
            },
            "colorscale": [
             [
              0,
              "#0d0887"
             ],
             [
              0.1111111111111111,
              "#46039f"
             ],
             [
              0.2222222222222222,
              "#7201a8"
             ],
             [
              0.3333333333333333,
              "#9c179e"
             ],
             [
              0.4444444444444444,
              "#bd3786"
             ],
             [
              0.5555555555555556,
              "#d8576b"
             ],
             [
              0.6666666666666666,
              "#ed7953"
             ],
             [
              0.7777777777777778,
              "#fb9f3a"
             ],
             [
              0.8888888888888888,
              "#fdca26"
             ],
             [
              1,
              "#f0f921"
             ]
            ],
            "type": "surface"
           }
          ],
          "table": [
           {
            "cells": {
             "fill": {
              "color": "#EBF0F8"
             },
             "line": {
              "color": "white"
             }
            },
            "header": {
             "fill": {
              "color": "#C8D4E3"
             },
             "line": {
              "color": "white"
             }
            },
            "type": "table"
           }
          ]
         },
         "layout": {
          "height": 800,
          "legend": {
           "bordercolor": "black",
           "borderwidth": 1,
           "x": 1.1,
           "xanchor": "right",
           "y": 1.1,
           "yanchor": "bottom"
          },
          "margin": {
           "t": 200
          },
          "plot_bgcolor": "white",
          "showlegend": true,
          "title": {
           "font": {
            "color": "black",
            "family": "Arial",
            "size": 24,
            "weight": "bold"
           },
           "x": 0.5,
           "y": 0.98
          },
          "width": 1300,
          "xaxis": {
           "gridcolor": "lightgrey",
           "linecolor": "black",
           "showgrid": true,
           "showline": true,
           "tickcolor": "black",
           "tickfont": {
            "family": "Arial",
            "size": 14
           },
           "ticklen": 5,
           "ticks": "outside",
           "tickwidth": 2,
           "title": {
            "font": {
             "family": "Arial",
             "size": 18,
             "weight": "bold"
            }
           }
          },
          "yaxis": {
           "gridcolor": "lightgrey",
           "linecolor": "black",
           "showgrid": true,
           "showline": true,
           "tickcolor": "black",
           "tickfont": {
            "family": "Arial",
            "size": 14
           },
           "ticklen": 5,
           "ticks": "outside",
           "tickwidth": 2,
           "title": {
            "font": {
             "family": "Arial",
             "size": 18,
             "weight": "bold"
            }
           }
          },
          "yaxis2": {
           "gridcolor": "lightgrey",
           "linecolor": "black",
           "showgrid": false,
           "showline": true,
           "tickcolor": "black",
           "tickfont": {
            "family": "Arial",
            "size": 14
           },
           "ticklen": 5,
           "ticks": "outside",
           "tickwidth": 2,
           "title": {
            "font": {
             "family": "Arial",
             "size": 18,
             "weight": "bold"
            }
           }
          }
         }
        },
        "title": {
         "text": "C-12C lift curve"
        },
        "width": 1515.6,
        "xaxis": {
         "range": [
          -2,
          15
         ],
         "title": {
          "text": "Angle of attack, α (deg)"
         }
        },
        "yaxis": {
         "range": [
          0,
          1.5
         ],
         "title": {
          "text": "Lif coefficient, C<sub>L</sub>"
         }
        }
       }
      }
     },
     "metadata": {},
     "output_type": "display_data"
    },
    {
     "data": {
      "application/vnd.plotly.v1+json": {
       "config": {
        "plotlyServerURL": "https://plot.ly"
       },
       "data": [
        {
         "line": {
          "color": "black"
         },
         "mode": "lines",
         "name": "theoretical CL curve",
         "showlegend": false,
         "type": "scatter",
         "x": {
          "bdata": "wrpLdTxznz8M4oobnX+fPw5btlatkJ8/XM1WOq+0nz+qP/cdsdifP+C6H9QZCaA/UhsvbHsnoD8zi6ALO0ygPyaRYEJtdqA/yaQ4cjajoD8G0jdPydmgP0X/NixcEKE/Yndv+9FRoT/sy61+xZShPwG3VxU43qE/DLFGN/wsoj/AITPxeX6iPxRDYbme2aI/amSPgcM0oz/hAhWabZqjP7fJ8wBjAaQ/TFrTS0lvpD9uSPFYn+KkP8P0oVSwWKU/ZohwANfXpT8IHD+s/VamP4DMEYhM4aY/b4cf2tNspz8k56tXHP+nP5NHakh0lqg/ofDwDsswqT9YeO6lg9SpP+v/6zw8eKo/tch/lbsEqz/CG2qF/46rP8p6VHVDGaw/46+zT9qUrD9pC2Shvg+tP/BmFPOiiq0/e1hFjCP/rT/2+s5yvmmuP+KcWFlZ1K4/9j/iP/Q+rz9fu9rygKmvP9A3fpE8CLA/7xGPqbg7sD8N7J/BNG+wPy7GsNmworA/rqe1pvHUsD/4G7FlvAKxP0KQrCSHMLE/jASo41FesT/XeKOiHIyxPyDtnmHnubE/QZJcigjmsT9yRIIvihCyP6P2p9QLO7I/u6/NeY1lsj8FW/MeD5CyPzYNGcSQurI/2wGEjAflsj8paQqvJA6zP3XQkNFBN7M/wDcX9F5gsz8Nn50WfImzP1kGJDmZsrM/p22qW7bbsz/y1DB+0wS0PwM6yz7tJ7Q/An5Ud69JtD8Dwt2vcWu0PwQGZ+gzjbQ/AkrwIPautD8CjnlZuNC0PwDSApJ68rQ/8RWMyjwUtT92jJVfiTW1P849rBBtSbU/KO/CwVBdtT+BoNlyNHG1P9dR8CMYhbU/MgMH1fuYtT+LtB2G36y1P+RlNDfDwLU/PBdL6KbUtT/TipSB1fW1Pxg3v9EBGbY/5tzpIS48tj90jxRyWl+2P9Ig8MabebY/KZf0xpt5tj/SGPnGm3m2P36a/cabebY/JhwCx5t5tj/QnQbHm3m2P3kfC8ebebY/JKEPx5t5tj/OIhTHm3m2P3akGMebebY/ISYdx5t5tj8=",
          "dtype": "f8"
         },
         "y": {
          "bdata": "tiP7ECc1hz/wqpVbXcqgP/SM7PJwx6s/erchRUJisz+AKM0QzOC4P3+ZeNxVX74/QgUS1O/uwT/Evee5NK7EP0J2vZ95bcc/xC6Thb4syj9E52hrA+zMP8afPlFIq88/JCyKm0Y10T9kCHUO6ZTSP6TkX4GL9NM/5sBK9C1U1T8knTVn0LPWP2Z5INpyE9g/plULTRVz2T/oMfa/t9LaPygO4TJaMtw/aerLpfyR3T+qxrYYn/HeP3TR0MWgKOA/lD9G/3HY4D+0rbs4Q4jhP9UbMXIUOOI/9ommq+Xn4j8V+BvltpfjPzVmkR6IR+Q/VdQGWFn35D9zQnyRKqflP2iw8cr7VuY/8zRvar7k5j+rhcITO2/nP2TiFb23+ec/5jhr5MNt6D9hzTASv+DoP91h9j+6U+k/6k7O8k++6T9bjXEl5BvqP1DLFFh4eeo/SQq4igzX6j+3oTabgDTrP+UFEOXaies/EmrpLjXf6z8+zsJ4jzTsP24ynMLpiew/dVCjhFHc7D//jSw3DCTtP4jLtenGa+0/Egk/nIGz7T+bRshOPPvtPyKEUQH3Qu4/6qfY0meG7j+bUnW/qMXuP0z9EazpBO8/QbKumCpE7z+uUkuFa4PvP1/953Gswu8/PNkjd90A8D+kxHY0Qh3wPwywyfGmOfA/c5scrwtW8D/bhm9scHLwP0NywinVjvA/q10V5zmr8D8SSWiknsfwP8M1tUXc3/A/zc4nqCz38D/XZ5oKfQ7xP+EADW3NJfE/65l/zx098T/0MvIxblTxP/3LZJS+a/E//GTX9g6D8T+/8Pz+A5rxP9XMSjSPpvE/7KiYaRqz8T8Cheaepb/xPxdhNNQwzPE/Lj2CCbzY8T9EGdA+R+XxP1r1HXTS8fE/cNFrqV3+8T8FnIkASxPyPzu9m855KfI/X9qtnKg/8j+N/79q11XyPwQmZ2ZmZvI/dvZpZmZm8j8MzmxmZmbyP6Olb2ZmZvI/OX1yZmZm8j/QVHVmZmbyP2YseGZmZvI//QN7ZmZm8j+T231mZmbyPymzgGZmZvI/wIqDZmZm8j8=",
          "dtype": "f8"
         },
         "yaxis": "y"
        },
        {
         "line": {
          "color": "black",
          "dash": "dash"
         },
         "mode": "lines",
         "name": "theoretical CL curve +/- 0.03",
         "showlegend": false,
         "type": "scatter",
         "x": {
          "bdata": "vWxoMMcVrz9iAIiD9xuvP+O8HaF/JK8/CvbtkoA2rz8xL76EgUivPzxK4slCZa8/rqrxYaSDrz+PGmMBZKivP4IgIziW0q8/JTT7Z1//rz+xMH0i+RqwP1DH/JBCNrA/XwOZeP1WsD+kLTg6d3iwPy4jjYUwnbA/NKCElpLEsD+O2HpzUe2wPzjpkdfjGrE/4/moO3ZIsT8eyetHS3uxP4osW/vFrrE/1PTKILnlsT/l61knZB+yPxBCMqVsWrI/4YsZ+/+Zsj+y1QBRk9myP+4t6r66HrM/ZgvxZ35ksz9AO7emoq2zP3hrFp9O+bM//r9ZAnpGtD/ag9hNVpi0P6RHV5ky6rQ/CCyhRXIwtT+PVZY9lHW1PxOFizW2urU/oB+7ooH4tT9iTZPL8zW2PyZ7a/Rlc7Y/7PMDQaattj8pxUi08+K2Px+WjSdBGLc/qWfSmo5Ntz9epU701IK3P35/XwxRtrc/nVlwJM3ptz+7M4E8SR24P9wNklTFULg/XO+WIQaDuD+mY5Lg0LC4P/DXjZ+b3rg/OkyJXmYMuT+FwIQdMTq5P840gNz7Z7k/79k9BR2UuT8gjGOqnr65P1E+iU8g6bk/afeu9KETuj+zotSZIz66P+RU+j6laLo/iUllBxyTuj/XsOspOby6PyMYckxW5bo/bn/4bnMOuz+75n6RkDe7PwdOBbStYLs/VbWL1sqJuz+gHBL557K7P7GBrLkB1rs/sMU18sP3uz+xCb8qhhm8P7JNSGNIO7w/sJHRmwpdvD+w1VrUzH68P64Z5AyPoLw/n11tRVHCvD8k1HbaneO8P3yFjYuB97w/1jakPGULvT8v6LrtSB+9P4WZ0Z4sM70/4EroTxBHvT85/P4A9Fq9P5KtFbLXbr0/6l4sY7uCvT+B0nX86aO9P8Z+oEwWx70/lCTLnELqvT8i1/Xsbg2+P4Bo0UGwJ74/197VQbAnvj+AYNpBsCe+Pyzi3kGwJ74/1GPjQbAnvj9+5edBsCe+Pydn7EGwJ74/0ujwQbAnvj98avVBsCe+PyTs+UGwJ74/z23+QbAnvj8=",
          "dtype": "f8"
         },
         "y": {
          "bdata": "tiP7ECc1hz/wqpVbXcqgP/SM7PJwx6s/erchRUJisz+AKM0QzOC4P3+ZeNxVX74/QgUS1O/uwT/Evee5NK7EP0J2vZ95bcc/xC6Thb4syj9E52hrA+zMP8afPlFIq88/JCyKm0Y10T9kCHUO6ZTSP6TkX4GL9NM/5sBK9C1U1T8knTVn0LPWP2Z5INpyE9g/plULTRVz2T/oMfa/t9LaPygO4TJaMtw/aerLpfyR3T+qxrYYn/HeP3TR0MWgKOA/lD9G/3HY4D+0rbs4Q4jhP9UbMXIUOOI/9ommq+Xn4j8V+BvltpfjPzVmkR6IR+Q/VdQGWFn35D9zQnyRKqflP2iw8cr7VuY/8zRvar7k5j+rhcITO2/nP2TiFb23+ec/5jhr5MNt6D9hzTASv+DoP91h9j+6U+k/6k7O8k++6T9bjXEl5BvqP1DLFFh4eeo/SQq4igzX6j+3oTabgDTrP+UFEOXaies/EmrpLjXf6z8+zsJ4jzTsP24ynMLpiew/dVCjhFHc7D//jSw3DCTtP4jLtenGa+0/Egk/nIGz7T+bRshOPPvtPyKEUQH3Qu4/6qfY0meG7j+bUnW/qMXuP0z9EazpBO8/QbKumCpE7z+uUkuFa4PvP1/953Gswu8/PNkjd90A8D+kxHY0Qh3wPwywyfGmOfA/c5scrwtW8D/bhm9scHLwP0NywinVjvA/q10V5zmr8D8SSWiknsfwP8M1tUXc3/A/zc4nqCz38D/XZ5oKfQ7xP+EADW3NJfE/65l/zx098T/0MvIxblTxP/3LZJS+a/E//GTX9g6D8T+/8Pz+A5rxP9XMSjSPpvE/7KiYaRqz8T8Cheaepb/xPxdhNNQwzPE/Lj2CCbzY8T9EGdA+R+XxP1r1HXTS8fE/cNFrqV3+8T8FnIkASxPyPzu9m855KfI/X9qtnKg/8j+N/79q11XyPwQmZ2ZmZvI/dvZpZmZm8j8MzmxmZmbyP6Olb2ZmZvI/OX1yZmZm8j/QVHVmZmbyP2YseGZmZvI//QN7ZmZm8j+T231mZmbyPymzgGZmZvI/wIqDZmZm8j8=",
          "dtype": "f8"
         },
         "yaxis": "y"
        },
        {
         "line": {
          "color": "black",
          "dash": "dash"
         },
         "mode": "lines",
         "name": "theoretical CL curve  +/- 0.03",
         "showlegend": false,
         "type": "scatter",
         "x": {
          "bdata": "QIHTOFFdRz+AargAZulIP8CKJ2ZtC0s/gNQ12qmLTz8gDyIn8wVSP4BwpcsbnlU/wH6RzU5qWT/ger+7QgJeP6Ac4MlEpGE/0FZhx9dwZD+gKlSXBdpnP5D+RmczQ2s/YIDOWpBabz+A5FlH5MRxPyg9qfx4EHQ/gA0hDJqGdj8gk4TbhxJ5P8Cd9Ryu63s/cKhmXtTEfj8UzkmREvmAP2zpxCzolII/wCtDWIFMhD9I5LqM2RmGP5yVfXsd8oc/KOS3KrjuiT+wMvLZUuuLP5D0PEmOFI4/JvC5yFUhkD+Qr9LD5kWRP25wT6WWdJI/isJcMkSpkz/40VdgtfCUPx7hUo4mOJY/snJ6PyVRlz/MGE8frWWYP9zWI/80epk/DkHis2Jxmj8a+EJXK2ebPyivo/rzXJw/PpIFLfVFnT801xj6KhuePwwbLMdg8J4/NGE/lJbFnz8DLBj9V02gP0TgOS1QtKA/gpRbXUgboT++SH2NQIKhPwD9nr046aE/AMCoV7pNoj+UqJ/VT6miPyiRllPlBKM/vHmN0Xpgoz9SYoRPELyjP+RKe82lF6Q/JpX2HuhvpD+I+UFp68SkP+pdjbPuGaU/GtDY/fFupT+uJiRI9cOlPxCLb5L4GKY/WnRFI+Ztpj/2QlJoIMCmP44RX61aEqc/JOBr8pRkpz++rng3z7anP1Z9hXwJCag/8kuSwUNbqD+IGp8Gfq2oP6rk04ex86g/qGzm+DU3qT+q9PhpunqpP6x8C9s+vqk/qAQeTMMBqj+ojDC9R0WqP6QUQy7MiKo/hpxVn1DMqj+QiWjJ6Q6rP0DslSuxNqs/9E7DjXheqz+msfDvP4arP1IUHlIHrqs/CHdLtM7Vqz+62XgWlv2rP2w8pnhdJaw/HJ/T2iRNrD9KhmYNgo+sP9Teu63a1aw/cCoRTjMcrT+Mj2bui2KtP0iyHZgOl60/9p4mmA6XrT9Ioi+YDpetP6ClOJgOl60/8KhBmA6XrT9ErEqYDpetP5avU5gOl60/7LJcmA6XrT9AtmWYDpetP5C5bpgOl60/5rx3mA6XrT8=",
          "dtype": "f8"
         },
         "y": {
          "bdata": "tiP7ECc1hz/wqpVbXcqgP/SM7PJwx6s/erchRUJisz+AKM0QzOC4P3+ZeNxVX74/QgUS1O/uwT/Evee5NK7EP0J2vZ95bcc/xC6Thb4syj9E52hrA+zMP8afPlFIq88/JCyKm0Y10T9kCHUO6ZTSP6TkX4GL9NM/5sBK9C1U1T8knTVn0LPWP2Z5INpyE9g/plULTRVz2T/oMfa/t9LaPygO4TJaMtw/aerLpfyR3T+qxrYYn/HeP3TR0MWgKOA/lD9G/3HY4D+0rbs4Q4jhP9UbMXIUOOI/9ommq+Xn4j8V+BvltpfjPzVmkR6IR+Q/VdQGWFn35D9zQnyRKqflP2iw8cr7VuY/8zRvar7k5j+rhcITO2/nP2TiFb23+ec/5jhr5MNt6D9hzTASv+DoP91h9j+6U+k/6k7O8k++6T9bjXEl5BvqP1DLFFh4eeo/SQq4igzX6j+3oTabgDTrP+UFEOXaies/EmrpLjXf6z8+zsJ4jzTsP24ynMLpiew/dVCjhFHc7D//jSw3DCTtP4jLtenGa+0/Egk/nIGz7T+bRshOPPvtPyKEUQH3Qu4/6qfY0meG7j+bUnW/qMXuP0z9EazpBO8/QbKumCpE7z+uUkuFa4PvP1/953Gswu8/PNkjd90A8D+kxHY0Qh3wPwywyfGmOfA/c5scrwtW8D/bhm9scHLwP0NywinVjvA/q10V5zmr8D8SSWiknsfwP8M1tUXc3/A/zc4nqCz38D/XZ5oKfQ7xP+EADW3NJfE/65l/zx098T/0MvIxblTxP/3LZJS+a/E//GTX9g6D8T+/8Pz+A5rxP9XMSjSPpvE/7KiYaRqz8T8Cheaepb/xPxdhNNQwzPE/Lj2CCbzY8T9EGdA+R+XxP1r1HXTS8fE/cNFrqV3+8T8FnIkASxPyPzu9m855KfI/X9qtnKg/8j+N/79q11XyPwQmZ2ZmZvI/dvZpZmZm8j8MzmxmZmbyP6Olb2ZmZvI/OX1yZmZm8j/QVHVmZmbyP2YseGZmZvI//QN7ZmZm8j+T231mZmbyPymzgGZmZvI/wIqDZmZm8j8=",
          "dtype": "f8"
         },
         "yaxis": "y"
        },
        {
         "marker": {
          "color": "grey",
          "size": 6,
          "symbol": "cross"
         },
         "mode": "markers",
         "name": "Roller coaster",
         "showlegend": true,
         "type": "scatter",
         "x": {
          "bdata": "lZsDnUiTrD8MvSSq4gGtP3dayRhEXK4/uSTATFgUrz8qJIZp6jKvP6l2zITJaa8/AJsJuHjWrz/lGBp5WeyvPy/eFmub7a8/wsVhc9v4rz+E3ThYuMSvP1qwGYQ7PK0/ALCWBXbgqj8hCof4FNWpP0OMgdmz4Kk/A2srmd2HqT9cEwYgIjGpP7VNJf3gMak/XnMxTiFPqT9BbFC4cmqpP9UG//ssg6k/MwuHctHIqT86CG2VaKGrP0QnDG2/x64/EheAgQnXrz/5A+w/r3GwPzAoAym987A/qUl9Zp4MsT/f8xPUnVGxP1vBxv6BgbE/S/NrRmN0sT8Om7bj2DuxP+YpEjk7KrA/HTa9rTFjrj/8xLgfbtetP+jGbSwAMa0/OYcuA9/Mqj9GHIsbklqpP7RAQsxKHKk/5X/VTCMQqT+kcjk4bxKpP88ncKLoqKg/V6/1YiVnqD+2Ed05DmKoP6pqEUEIcKg/EsyCfPF6qD8L2ouC526pPyHMuCujKa0/bE08S1b0sD8CTRbqYV2xP+MVAggEZ7E/mGKiuM2FsT9ZwAhpRa6xPzoR12oY0bE/Go5ZBHzYsT/TcwuoztexP24Taev1u7E/JWaf/uFWsT/SbajH/hSwPwY+q/S3u6s/m4CdxmYvqD/NuGl1VQmoP5pXs0yGYKg/jOmF8ARHqD+oaw/GqPKnP8TYvawV8qc/dJvovTUqqD/yEQqCynaoPzrK0NlSfqk/glGyDfyMqz/PgTaNlFisP3rxtUhhKK0/hoIl6RDSrz/e/NRJcwaxP58FiDLdULE/n54qbhWCsT9oPFHCP7KxPxVUWFc3iLE/sIpCchKSsT9V2FkNH4exP7M4JIrefbE/7jPUY2l1sT+blICmQkmvP2w8sdg3K6o/fLtDdJ5aqT+GPN9bJcSoPxqLGBAbL6g/5D9TD4IdqD9pTlVtrimoP/+jq0XRF6g/jx+bHA0vqD8x1q0aaTWoP+TiDb5BWqg/4grVIc4IqT90XvWQuTGrP502DHqmPK0/cZLsEFbirj/H7eUNIX6xP9+iiZ+xObI/3I7YsVpIsj/Bon3tr5yyP12vT5D3i7I/NBT/zLhxsj+R3tJmMwCyP5Fwu98rarE/DA7T3nVnsD8Q3woqN0OuP0E+yAq9w6w/9tHfEirUqj8hvVqK3niqPw==",
          "dtype": "f8"
         },
         "y": {
          "bdata": "6ruK9yMA3j8G5i5mZHTfP27tdMioxuA/fY70MaJa4T8moFuFhpDhPxAgHSF81+E/6AYBvHEQ4j9Mvza2SSviPxekuLAYNeI/znROC7864j9EPJ2msr3hPw6tiWCyZ98/Nr3KvYan2j/7wziDc0DYP25WlV8fZtc/MFqNFbgs1j8kH7UeGk7VP/bnbDOaHtU/wBiTy9cs1T8DkHPfdU7VPzB1BKds5dU/6oVf0aev1z/X95DwjhbcP//GRi/QseA/JJ6NlJfu4T/xuACM4MfiPyEYG1d8i+M/nOPgx3Do4z9GfM2470TkP66oFJ3Jl+Q/YnpkbOeY5D+v87l1QRvkPwueKgo9p+I/ej7Xpm0p4T93kJz16WbgP2jhxx3qCt8/4RzpDpDp2j9OjrvnLiDXP0qOmr3PwdU/QeCooC001T9UFy9OKV/UP8kfa9azFtM/NzdVGbI80j/75kDRzC7SP0dwAXKmatI/ziY9H5e60z+t5mV9u0vXPzuErMWQ694/9iOJqcUR4z9ZLbxtFjTkP+sT4lyrXuQ/ZoNb77GO5D/X2+k2fcvkP12+3yErEuU/iM5WAaMx5T+NFBz15x7lP3EJ/aB38OQ/3bmhEwJP5D9PICiWOm3iP/KoP5jOsdw/gr04lYTl1D/sg+V6Q7/SP5JUKjKjwNI/RDy3NXax0T/z/U8+uFPQP+dee/LzOtA/PGUGE7Z70T+rYi1CIzHTPxxgpEKmytY/u8awH3sW2z+CPMDqSljdPzAmfXD4jN8/X/v65JfU4T+rQrQg5J3jP2Ss3C0bNOQ/em05K4CJ5D8Q4YIducrkPwCsjsx/x+Q/TKG1AJ255D/sm/s0QK3kP5AbVIh0rOQ/aLE/IJxj5D9gWtK2qZzhP1JMvebenNo/zcRCsoRk1j9yXnxCVgvUPy6FQ1sY+9E/Lb5E4CgB0T/JkFtpo8vQP/h7JEXPxNA/7l124TXB0D9ipO9LE/nQP9Lm92fuNdI/Fvsn+/Ff1T9G+kqwkX/aP47pDMHPs94/DJEnyTxi4T9CpurlJxjkPzwprG0daOU/wugEz52/5T8y/N2LWBTmP2G4qR69LeY/w0Rc3n/75T8acZ9janPlP0d9qbQGo+Q/IeiLXyon4z+7+wVJI0DhPwbPDp7Q4t4/2TVzys1u2z++ocajjwraPw==",
          "dtype": "f8"
         },
         "yaxis": "y"
        },
        {
         "marker": {
          "color": "grey",
          "size": 6,
          "symbol": "cross"
         },
         "mode": "markers",
         "name": "Roller coaster",
         "showlegend": false,
         "type": "scatter",
         "x": {
          "bdata": "7IoOZsTvrT++JducqJ2vP7YZ16RsXLA/uHBuNn+MsD/qtp2aJqawP2FHe8uGrrA/V9+Vkxwtrz/4fHge9nqsPwS4I6nR2ao/f5rKj+4aqj+CabiDMOapP9GJSJELZ6k/8WbFbBAVqT9+ePD3KO6oP4oezZUJ+Kg/6SxEJNYFqT8XlNTtP/aqP0Da5Z4XAq4/cunRjVIFsD9IOONuxSewPwpEM5fFiLA/9nzeanKEsT+eLQ5aAd+xP4aMp6ypPbI/KlIGoT1Bsj9X5IuxTnWxPyotWKCJkLA/hx9uLt3orz/GQE463e6tP3m9lEanSas/9lMdskGuqT8rUhQFvECpP8otAtqu+6g/m2kVARnqqD/XYyfGrMyoP17teyv14Kg/qX6U/7AWqT/qYtmR1+aoP1ssPGaf1Kk/6fNgdpoErD9Kyi97Ua+sP+uOdDci/a0/h6wKseCnrz/8uaPE2b+wPwszkXdQirE/F3PqVbmxsT8QKNZyE9CxP0yRXKwV8rE/xvya4EEgsj+gGt6WcKWxPz9bUHBXr68/hLNBLsASrT9mQNLsrjeqP3e0mU8oKak/S9pcuHVkqT9bxO3quVupP9A404qULKk/S1MElCMLqT9dxX8HYi+pP4iOw1OZDak/oZInElb9qD8kvUFiReWpP5etPP8yqaw/3xK/nmcxsD+H3R/xPEexPyAium/4frE/OupP2tV+sT+dshj0sn+xPxB6b35Q4bE/gzrqcQ+vsj+5ZMfp6uWxP/cw2H2Ffq8/wFerDBN6rD/D8/XfAv2pP+no1/3eRKk/V+L3teQoqT9UhlqHzQypP0kBXqE9/qg/FumhDcPnqD9vxG/eiQ+pPzOWTgwyIak/DpNhmeggqT8coFTE+d6oPzQNH7Q5T60/xsnYL/arsD/tFthAwxCxP1Gmp6i8TbE/7qT11L+ysT+bScyGiR2yP/Nmy5+PhbI/mk12ziOdsj8gjesXoCSyP7kqLTr/GLA/Y5BRWqn8rT8+Dun5d2SsP7pU1++nnao/",
          "dtype": "f8"
         },
         "y": {
          "bdata": "H++ZjPNs4D/2RdQPcsvhP+iNCEb4lOI/EDjFbxrW4j88fvJo3g/jP37cccOHAOM/NAmtcidV4T+oukJS5LLdPyfruzj5Gto/SD0Ytu4j2D8PNDQl1P3WP/8+OJlTqNU/azhBEa1o1D+EeOEgTxbUPxkBiN77LdQ/LIz8qj561T+KBW3xUwvaP0EvFZnV898//pYamfrH4T8xp8Mn+zTiPyMvmWCYB+M/6nLUoWs/5D/aHtIRBf3kPyZexurmeOU/LNp9Kux15T9r0AdDuXfkP/Bf1Lu9O+M/p4yXrBsa4j82PoC01FDgP8HBZHUjoNs/13I01ZCw1z+WLdLGqtPVP48IrfhV9NQ/1PKY7zF/1D8DpfiJKDTUPwv+GBShGNQ/IrOHxAoh1D/VqX1Zk7LUP9dUuW1Tftc/ZLrtZdOJ2z+C3vA/6uPdP6izFJabNOA/38OfBFy64T/iieHvPTjjP2FwR2+8VeQ/wxQhOBqy5D+vOz5ilNnkPzgbMg/IG+U/gFYBgSY55T+OIqoTuXPkP4pjItL0KOI/r2OSZNvZ3j+/7/khSVnZP3cMw3jhZ9Y/zfRuQRQm1j9xYZX7NbLVP/vCcJ0MztQ/WvvSl6w21D+eWnm4hxnUP0wzMuh6FtQ/P9QzuGuT1D8UcbfADcvXP2P42zskn90/WScYnqzb4T8kDTQWH7bjP0AhDboUSuQ/MlGN+i9m5D8qDqqwdorkPz+Duz47G+U/4FYTF83a5T8JfNjWzerkPw9JgoQ6DOI/q7eq56wR3j/J7EowGwPZPzSEC/DTWNY/0cD9FGeH1T8GFAAweejUP6jy2IkRW9Q/yjiYRqwb1D9SDvI2MQrUP+a70UU+DtQ/AmmWErwR1D/auqra/3/WPxYJ+vOjVN4/4T85w52Y4j9djqyN+6rjP+DfwcIwEeQ/mQ+KEc2i5D+FAdgaHFDlPwWkmX1W4eU/NBkp11oD5j9N6NG+5SHlPw0vt4EOz+I/XxKQdIOw4D+Z9u1R2OvdP7UJXNYh/do/",
          "dtype": "f8"
         },
         "yaxis": "y"
        },
        {
         "marker": {
          "color": "black",
          "size": 10,
          "symbol": "triangle-up-open"
         },
         "mode": "markers",
         "name": "Wind-up turn",
         "showlegend": true,
         "type": "scatter",
         "x": {
          "bdata": "Ywwxj9dCrD/jJ363by2sP2gMBdv0Aaw/ACpYxfrkqz+oVU7Z+9arP5t0It445qs/300whvrxqz+twbPz5cyrPwjmwvRwi6w/VG/BihHArT/NeTIJRwGuP7sY2ug6CK8/5wKAViRhsD/t8Pgdy/6wPyaKu3h4lLE/Ub7GppCQsj/sStt6mHSzP6MnZxrc/bM/NOnWgXoYtD/8841W4PmzP/vQjQZoR7Q/ce2Bt97EtT8bCc/JyO+2P6wFHvvVMLc/f5Bt5+Yktz9Si1AVdNG2P4sr1hpZS7Y/PCmR4kmhtD8A+zD4Na+xP1PM63smwK4/",
          "dtype": "f8"
         },
         "y": {
          "bdata": "2wjsD4dK3T8tW/WtSUXdP8sB+hLzC90/tzoK4MHK3D+0JXDtBbLcP+0iNmTdptw/TFnvCQiO3D8LvGH7OnncP0G+Ee2J7t0/7JjgXdzB3z9awBlbQmjgP7KDlrCaPeE/XyAuD+Fj4j/9B4rMwETjPwtFE7h9JOQ/iK+/+kJR5T8e2fosh23mP9eSQQy3FOc/YQcaW75F5z9uaa7q5SjnP9Iq1VIye+c/oA6w84XJ6D+AskaCxOzpPzAsKXbAP+o/b37LlbQq6j99fGW15d/pP993uikZW+k/Txf1E4+w5z8YRBK+uU7kP25oNYNfFeE/",
          "dtype": "f8"
         },
         "yaxis": "y"
        },
        {
         "marker": {
          "color": "black",
          "size": 10,
          "symbol": "triangle-up-open"
         },
         "mode": "markers",
         "name": "Wind-up turn",
         "showlegend": false,
         "type": "scatter",
         "x": {
          "bdata": "EYL/tjCaqj9jeURUJzqrP9f+vOepv6s/qndwV9H8qz92RP2yuUqsP1UmcaiXI60/iQ5jZQVtrT9UHXcVsoCtP4eIavPTLa0/ps1zfGbUrT/9nqX7SsCuP3iURxDj3a4/loUsurr3rj+oQQ3j/DKwP+AcZS9JuLA/+GTljTM8sT+DwCDQ+lixP235F/O8aLE/KyBdANt4sT8pB+02WzCyP/2e0Fz6LLM/5QI+R/qAsz/iYCJF7SO0PyjttQ705LQ/GFcyXwDbtT/gdTBpp5a2P2WjfTwverc/wPGPsQ7Ytz/rLTpFb7i3P7HOMZQJvLc/tFiR/dTdtz+End59Yba4P9ikf9si37c/g4QUI368sj8=",
          "dtype": "f8"
         },
         "y": {
          "bdata": "Gh5SiuBT2j+u6ts9NoTbP4LNysNEq9w/nO/CI4003T++Pl84FA/eP13l1XQDPN8/yet2Za7R3z+6Z58rPq3fP5al9ubIn98/grlJWERS4D8ha9mgcejgPw2n05WgB+E//CT8CM854T+1/tuaNhbiPyrlSKDr9OI/3ORp+AaJ4z/cj1i1eLXjPwcdtIm5tuM/1DFMUrbi4z+tLj+IZrfkP2ipR7RP3eU//Os33E1s5j9e4uS2uBPnPwqllgHRCug/w43jRHMO6T9E1kQfw/PpPxWcxGU/0+o/zbuQeZgm6z8PcZeKWBnrP96QNMcRKOs/TMm04w5h6z/MC83Ipg/sP5q0Qh4aQOs/qqdX7f2A5j8=",
          "dtype": "f8"
         },
         "yaxis": "y"
        }
       ],
       "layout": {
        "annotations": [
         {
          "align": "left",
          "font": {
           "color": "black",
           "family": "Arial",
           "size": 16
          },
          "showarrow": false,
          "text": "<b>Configuration:</b> Cruise<br><b>Pressure altitude:</b> 15 000 ft<br><b>Weight:</b> 11'500 lb to 12'000 lb<br><b>CG:</b> 20 to 20.5%<br>",
          "x": 0,
          "xref": "paper",
          "y": 1.15,
          "yref": "paper"
         },
         {
          "align": "left",
          "font": {
           "color": "black",
           "family": "Arial",
           "size": 16
          },
          "showarrow": false,
          "text": "<b>Data basis:</b> Flight test<br><b>Test date:</b> April 30th, 2025<br><b>Tail number:</b> 215 (with YAPS)<br><b>Airspeed:</b> 150 KIAS<br>",
          "x": 0.55,
          "xref": "paper",
          "y": 1.15,
          "yref": "paper"
         },
         {
          "align": "left",
          "font": {
           "color": "black",
           "family": "Arial",
           "size": 16
          },
          "showarrow": false,
          "text": "<b>Configuration:</b> Cruise<br><b>Pressure altitude:</b> 15 000 ft<br><b>Weight:</b> 11'500 lb to 12'000 lb<br><b>CG:</b> 20 to 20.5%<br>",
          "x": 0,
          "xref": "paper",
          "y": 1.15,
          "yref": "paper"
         },
         {
          "align": "left",
          "font": {
           "color": "black",
           "family": "Arial",
           "size": 16
          },
          "showarrow": false,
          "text": "<b>Data basis:</b> Flight test<br><b>Test date:</b> April 30th, 2025<br><b>Tail number:</b> 215 (with YAPS)<br><b>Airspeed:</b> 150 KIAS<br>",
          "x": 0.55,
          "xref": "paper",
          "y": 1.15,
          "yref": "paper"
         },
         {
          "align": "left",
          "font": {
           "color": "black",
           "family": "Arial",
           "size": 16
          },
          "showarrow": false,
          "text": "<b>Configuration:</b> Cruise<br><b>Pressure altitude:</b> 15 000 ft<br><b>Weight:</b> 11'500 lb to 12'000 lb<br><b>CG:</b> 20 to 20.5%<br>",
          "x": 0,
          "xref": "paper",
          "y": 1.15,
          "yref": "paper"
         },
         {
          "align": "left",
          "font": {
           "color": "black",
           "family": "Arial",
           "size": 16
          },
          "showarrow": false,
          "text": "<b>Data basis:</b> Flight test<br><b>Test date:</b> April 30th, 2025<br><b>Tail number:</b> 215 (with YAPS)<br><b>Airspeed:</b> 150 KIAS<br>",
          "x": 0.55,
          "xref": "paper",
          "y": 1.15,
          "yref": "paper"
         },
         {
          "align": "left",
          "font": {
           "color": "black",
           "family": "Arial",
           "size": 16
          },
          "showarrow": false,
          "text": "<b>Configuration:</b> Cruise<br><b>Pressure altitude:</b> 15 000 ft<br><b>Weight:</b> 11'500 lb to 12'000 lb<br><b>CG:</b> 20 to 20.5%<br>",
          "x": 0,
          "xref": "paper",
          "y": 1.15,
          "yref": "paper"
         },
         {
          "align": "left",
          "font": {
           "color": "black",
           "family": "Arial",
           "size": 16
          },
          "showarrow": false,
          "text": "<b>Data basis:</b> Flight test<br><b>Test date:</b> April 30th, 2025<br><b>Tail number:</b> 215 (with YAPS)<br><b>Airspeed:</b> 150 KIAS<br>",
          "x": 0.55,
          "xref": "paper",
          "y": 1.15,
          "yref": "paper"
         }
        ],
        "height": 1152,
        "legend": {
         "font": {
          "color": "black",
          "family": "Arial",
          "size": 16
         },
         "x": 0.99,
         "xanchor": "right",
         "y": 0.01,
         "yanchor": "bottom"
        },
        "shapes": [
         {
          "layer": "below",
          "line": {
           "color": "black",
           "width": 2
          },
          "type": "rect",
          "x0": 0,
          "x1": 1,
          "xref": "paper",
          "y0": 1.05,
          "y1": 1.15,
          "yref": "paper"
         },
         {
          "layer": "below",
          "line": {
           "color": "black",
           "width": 2
          },
          "type": "rect",
          "x0": 0,
          "x1": 1,
          "xref": "paper",
          "y0": 1.05,
          "y1": 1.15,
          "yref": "paper"
         },
         {
          "layer": "below",
          "line": {
           "color": "black",
           "width": 2
          },
          "type": "rect",
          "x0": 0,
          "x1": 1,
          "xref": "paper",
          "y0": 1.05,
          "y1": 1.15,
          "yref": "paper"
         },
         {
          "layer": "below",
          "line": {
           "color": "black",
           "width": 2
          },
          "type": "rect",
          "x0": 0,
          "x1": 1,
          "xref": "paper",
          "y0": 1.05,
          "y1": 1.15,
          "yref": "paper"
         }
        ],
        "showlegend": true,
        "template": {
         "data": {
          "bar": [
           {
            "error_x": {
             "color": "#2a3f5f"
            },
            "error_y": {
             "color": "#2a3f5f"
            },
            "marker": {
             "line": {
              "color": "#E5ECF6",
              "width": 0.5
             },
             "pattern": {
              "fillmode": "overlay",
              "size": 10,
              "solidity": 0.2
             }
            },
            "type": "bar"
           }
          ],
          "barpolar": [
           {
            "marker": {
             "line": {
              "color": "#E5ECF6",
              "width": 0.5
             },
             "pattern": {
              "fillmode": "overlay",
              "size": 10,
              "solidity": 0.2
             }
            },
            "type": "barpolar"
           }
          ],
          "carpet": [
           {
            "aaxis": {
             "endlinecolor": "#2a3f5f",
             "gridcolor": "white",
             "linecolor": "white",
             "minorgridcolor": "white",
             "startlinecolor": "#2a3f5f"
            },
            "baxis": {
             "endlinecolor": "#2a3f5f",
             "gridcolor": "white",
             "linecolor": "white",
             "minorgridcolor": "white",
             "startlinecolor": "#2a3f5f"
            },
            "type": "carpet"
           }
          ],
          "choropleth": [
           {
            "colorbar": {
             "outlinewidth": 0,
             "ticks": ""
            },
            "type": "choropleth"
           }
          ],
          "contour": [
           {
            "colorbar": {
             "outlinewidth": 0,
             "ticks": ""
            },
            "colorscale": [
             [
              0,
              "#0d0887"
             ],
             [
              0.1111111111111111,
              "#46039f"
             ],
             [
              0.2222222222222222,
              "#7201a8"
             ],
             [
              0.3333333333333333,
              "#9c179e"
             ],
             [
              0.4444444444444444,
              "#bd3786"
             ],
             [
              0.5555555555555556,
              "#d8576b"
             ],
             [
              0.6666666666666666,
              "#ed7953"
             ],
             [
              0.7777777777777778,
              "#fb9f3a"
             ],
             [
              0.8888888888888888,
              "#fdca26"
             ],
             [
              1,
              "#f0f921"
             ]
            ],
            "type": "contour"
           }
          ],
          "contourcarpet": [
           {
            "colorbar": {
             "outlinewidth": 0,
             "ticks": ""
            },
            "type": "contourcarpet"
           }
          ],
          "heatmap": [
           {
            "colorbar": {
             "outlinewidth": 0,
             "ticks": ""
            },
            "colorscale": [
             [
              0,
              "#0d0887"
             ],
             [
              0.1111111111111111,
              "#46039f"
             ],
             [
              0.2222222222222222,
              "#7201a8"
             ],
             [
              0.3333333333333333,
              "#9c179e"
             ],
             [
              0.4444444444444444,
              "#bd3786"
             ],
             [
              0.5555555555555556,
              "#d8576b"
             ],
             [
              0.6666666666666666,
              "#ed7953"
             ],
             [
              0.7777777777777778,
              "#fb9f3a"
             ],
             [
              0.8888888888888888,
              "#fdca26"
             ],
             [
              1,
              "#f0f921"
             ]
            ],
            "type": "heatmap"
           }
          ],
          "histogram": [
           {
            "marker": {
             "pattern": {
              "fillmode": "overlay",
              "size": 10,
              "solidity": 0.2
             }
            },
            "type": "histogram"
           }
          ],
          "histogram2d": [
           {
            "colorbar": {
             "outlinewidth": 0,
             "ticks": ""
            },
            "colorscale": [
             [
              0,
              "#0d0887"
             ],
             [
              0.1111111111111111,
              "#46039f"
             ],
             [
              0.2222222222222222,
              "#7201a8"
             ],
             [
              0.3333333333333333,
              "#9c179e"
             ],
             [
              0.4444444444444444,
              "#bd3786"
             ],
             [
              0.5555555555555556,
              "#d8576b"
             ],
             [
              0.6666666666666666,
              "#ed7953"
             ],
             [
              0.7777777777777778,
              "#fb9f3a"
             ],
             [
              0.8888888888888888,
              "#fdca26"
             ],
             [
              1,
              "#f0f921"
             ]
            ],
            "type": "histogram2d"
           }
          ],
          "histogram2dcontour": [
           {
            "colorbar": {
             "outlinewidth": 0,
             "ticks": ""
            },
            "colorscale": [
             [
              0,
              "#0d0887"
             ],
             [
              0.1111111111111111,
              "#46039f"
             ],
             [
              0.2222222222222222,
              "#7201a8"
             ],
             [
              0.3333333333333333,
              "#9c179e"
             ],
             [
              0.4444444444444444,
              "#bd3786"
             ],
             [
              0.5555555555555556,
              "#d8576b"
             ],
             [
              0.6666666666666666,
              "#ed7953"
             ],
             [
              0.7777777777777778,
              "#fb9f3a"
             ],
             [
              0.8888888888888888,
              "#fdca26"
             ],
             [
              1,
              "#f0f921"
             ]
            ],
            "type": "histogram2dcontour"
           }
          ],
          "mesh3d": [
           {
            "colorbar": {
             "outlinewidth": 0,
             "ticks": ""
            },
            "type": "mesh3d"
           }
          ],
          "parcoords": [
           {
            "line": {
             "colorbar": {
              "outlinewidth": 0,
              "ticks": ""
             }
            },
            "type": "parcoords"
           }
          ],
          "pie": [
           {
            "automargin": true,
            "type": "pie"
           }
          ],
          "scatter": [
           {
            "fillpattern": {
             "fillmode": "overlay",
             "size": 10,
             "solidity": 0.2
            },
            "type": "scatter"
           }
          ],
          "scatter3d": [
           {
            "line": {
             "colorbar": {
              "outlinewidth": 0,
              "ticks": ""
             }
            },
            "marker": {
             "colorbar": {
              "outlinewidth": 0,
              "ticks": ""
             }
            },
            "type": "scatter3d"
           }
          ],
          "scattercarpet": [
           {
            "marker": {
             "colorbar": {
              "outlinewidth": 0,
              "ticks": ""
             }
            },
            "type": "scattercarpet"
           }
          ],
          "scattergeo": [
           {
            "marker": {
             "colorbar": {
              "outlinewidth": 0,
              "ticks": ""
             }
            },
            "type": "scattergeo"
           }
          ],
          "scattergl": [
           {
            "marker": {
             "colorbar": {
              "outlinewidth": 0,
              "ticks": ""
             }
            },
            "type": "scattergl"
           }
          ],
          "scattermap": [
           {
            "marker": {
             "colorbar": {
              "outlinewidth": 0,
              "ticks": ""
             }
            },
            "type": "scattermap"
           }
          ],
          "scattermapbox": [
           {
            "marker": {
             "colorbar": {
              "outlinewidth": 0,
              "ticks": ""
             }
            },
            "type": "scattermapbox"
           }
          ],
          "scatterpolar": [
           {
            "marker": {
             "colorbar": {
              "outlinewidth": 0,
              "ticks": ""
             }
            },
            "type": "scatterpolar"
           }
          ],
          "scatterpolargl": [
           {
            "marker": {
             "colorbar": {
              "outlinewidth": 0,
              "ticks": ""
             }
            },
            "type": "scatterpolargl"
           }
          ],
          "scatterternary": [
           {
            "marker": {
             "colorbar": {
              "outlinewidth": 0,
              "ticks": ""
             }
            },
            "type": "scatterternary"
           }
          ],
          "surface": [
           {
            "colorbar": {
             "outlinewidth": 0,
             "ticks": ""
            },
            "colorscale": [
             [
              0,
              "#0d0887"
             ],
             [
              0.1111111111111111,
              "#46039f"
             ],
             [
              0.2222222222222222,
              "#7201a8"
             ],
             [
              0.3333333333333333,
              "#9c179e"
             ],
             [
              0.4444444444444444,
              "#bd3786"
             ],
             [
              0.5555555555555556,
              "#d8576b"
             ],
             [
              0.6666666666666666,
              "#ed7953"
             ],
             [
              0.7777777777777778,
              "#fb9f3a"
             ],
             [
              0.8888888888888888,
              "#fdca26"
             ],
             [
              1,
              "#f0f921"
             ]
            ],
            "type": "surface"
           }
          ],
          "table": [
           {
            "cells": {
             "fill": {
              "color": "#EBF0F8"
             },
             "line": {
              "color": "white"
             }
            },
            "header": {
             "fill": {
              "color": "#C8D4E3"
             },
             "line": {
              "color": "white"
             }
            },
            "type": "table"
           }
          ]
         },
         "layout": {
          "height": 800,
          "legend": {
           "bordercolor": "black",
           "borderwidth": 1,
           "x": 1.1,
           "xanchor": "right",
           "y": 1.1,
           "yanchor": "bottom"
          },
          "margin": {
           "t": 200
          },
          "plot_bgcolor": "white",
          "showlegend": true,
          "title": {
           "font": {
            "color": "black",
            "family": "Arial",
            "size": 24,
            "weight": "bold"
           },
           "x": 0.5,
           "y": 0.98
          },
          "width": 1300,
          "xaxis": {
           "gridcolor": "lightgrey",
           "linecolor": "black",
           "showgrid": true,
           "showline": true,
           "tickcolor": "black",
           "tickfont": {
            "family": "Arial",
            "size": 14
           },
           "ticklen": 5,
           "ticks": "outside",
           "tickwidth": 2,
           "title": {
            "font": {
             "family": "Arial",
             "size": 18,
             "weight": "bold"
            }
           }
          },
          "yaxis": {
           "gridcolor": "lightgrey",
           "linecolor": "black",
           "showgrid": true,
           "showline": true,
           "tickcolor": "black",
           "tickfont": {
            "family": "Arial",
            "size": 14
           },
           "ticklen": 5,
           "ticks": "outside",
           "tickwidth": 2,
           "title": {
            "font": {
             "family": "Arial",
             "size": 18,
             "weight": "bold"
            }
           }
          },
          "yaxis2": {
           "gridcolor": "lightgrey",
           "linecolor": "black",
           "showgrid": false,
           "showline": true,
           "tickcolor": "black",
           "tickfont": {
            "family": "Arial",
            "size": 14
           },
           "ticklen": 5,
           "ticks": "outside",
           "tickwidth": 2,
           "title": {
            "font": {
             "family": "Arial",
             "size": 18,
             "weight": "bold"
            }
           }
          }
         }
        },
        "title": {
         "text": "C-12C drag polar"
        },
        "width": 1515.6,
        "xaxis": {
         "title": {
          "text": "Drag coefficient, C<sub>D</sub>"
         }
        },
        "yaxis": {
         "title": {
          "text": "Lif coefficient, C<sub>L</sub>"
         }
        }
       }
      }
     },
     "metadata": {},
     "output_type": "display_data"
    },
    {
     "data": {
      "application/vnd.plotly.v1+json": {
       "config": {
        "plotlyServerURL": "https://plot.ly"
       },
       "data": [
        {
         "line": {
          "color": "black"
         },
         "mode": "lines",
         "name": "theoretical CL curve",
         "showlegend": false,
         "type": "scatter",
         "x": {
          "bdata": "AAAAAAAAAMCbbLLJJpv8vzbZZJNNNvm/0kUXXXTR9b9ssskmm2zyvxA++OCDD+6/RhdddNFF57988MEHH3zgv2STTTbZZNO/QBdddNFFt78AH3zwwQe/P1hVVVVVVdU/dNFFF1104T9A+OCDDz7oPwgffPDBB+8/6qKLLrro8j9ONtlkk032P7LJJptssvk/GF100UUX/T8++OCDDz4AQPDBBx988AFApIsuuuiiA0BWVVVVVVUFQAgffPDBBwdAuuiiiy66CEBssskmm2wKQCB88MEHHwxA0kUXXXTRDUCEDz744IMPQJtssskmmxBAddFFF110EUBONtlkk00SQCebbLLJJhNAAAAAAAAAFEDZZJNNNtkUQLPJJptsshVAjC666KKLFkBlk0022WQXQD744IMPPhhAGF100UUXGUDwwQcffPAZQMomm2yyyRpApIsuuuiiG0B88MEHH3wcQFZVVVVVVR1ALrrooosuHkAIH3zwwQcfQOKDDz744B9AXXTRRRddIEDKJptssskgQDbZZJNNNiFAo4suuuiiIUAQPvjggw8iQHzwwQcffCJA6aKLLrroIkBWVVVVVVUjQMIHH3zwwSNAL7rooosuJECbbLLJJpskQAgffPDBByVAddFFF110JUDhgw8++OAlQE422WSTTSZAuuiiiy66JkAnm2yyySYnQJRNNtlkkydAAAAAAAAAKEBtsskmm2woQNlkk0022ShARhdddNFFKUCzySabbLIpQB988MEHHypAjC666KKLKkD44IMPPvgqQGWTTTbZZCtA0kUXXXTRK0A++OCDDz4sQKqqqqqqqixAGF100UUXLUCEDz744IMtQPDBBx988C1AXnTRRRddLkDKJptssskuQDbZZJNNNi9ApIsuuuiiL0AIH3zwwQcwQD744IMPPjBAddFFF110MECrqqqqqqowQOGDDz744DBAF1100UUXMUBONtlkk00xQIQPPvjggzFAuuiiiy66MUDxwQcffPAxQCebbLLJJjJAXXTRRRddMkCUTTbZZJMyQMomm2yyyTJAAAAAAAAAM0A=",
          "dtype": "f8"
         },
         "y": {
          "bdata": "dmnlRV+PiD/aHQY4JD2hP1vhkp5wVqw/adKPgt63sz8oNNa1hES5P+aVHOkq0b4/0nsxjuguwj+yrNSnO/XEP5Ddd8GOu8c/cA4b2+GByj9NP770NEjNPxi4MAdEB9A/iFAClG1q0T/46NMgl83SP2aBpa3AMNQ/1hl3OuqT1T9GskjHE/fWP7RKGlQ9Wtg/I+Pr4Ga92T+Ue71tkCDbPwIUj/q5g9w/dKxgh+Pm3T/jRDIUDUrfP6nugVCbVuA/4brqFjAI4T8Yh1PdxLnhP1BTvKNZa+I/hx8lau4c4z/A640wg87jP/e39vYXgOQ/LYRfvawx5T9iUMiDQePlPw73O2sYi+Y/j3nxUWwX5z8P/KY4wKPnP8YlFG0fKOg/tpJ/yjqd6D+p/eonVhLpP5ZsVoVxh+k/tJ6KSnbq6T83S9hiKUrqP/vzJXvcqeo/CqVzk48J6z/W8UHm32PrPyAzNz8Kuus/aHQsmDQQ7D+ztSHxXmbsP1PnFkqJvOw/FRxYvFYI7T+kV4vxulHtPzOTviYfm+0/xM7xW4Pk7T9SCiWR5y3uP1ZTFqw2de4/ABidO4+17j+p3CPL5/XuP6mfqlpANu8/sFUx6ph27z+kKrh58bbvP07vPglK9+8/tG0Ub3AZ8D9x5hKF3DbwPy5fEZtIVPA/69cPsbRx8D+pUA7HII/wP2bJDN2MrPA/IkIL8/jJ8D9eVPXuYuPwPwMijdJf/PA/qe8ktlwV8T9OvbyZWS7xP/OKVH1WR/E/mVjsYFNg8T89JoREUHnxP8/zGyhNkvE/0c8HLjal8T8hfxlAnbXxP3IuK1IExvE/w908ZGvW8T8TjU520ubxP2Q8YIg59/E/PivrirwI8j+JBnI5hhvyP9Xh+OdPLvI/Ib1/lhlB8j9smAZF41PyP3N+ZmZmZvI/oplsZmZm8j/ttXJmZmbyPzfSeGZmZvI/ge5+ZmZm8j/LCoVmZmbyPxYni2ZmZvI/YEORZmZm8j+qX5dmZmbyP/R7nWZmZvI/P5ijZmZm8j+JtKlmZmbyP9PQr2ZmZvI/He21ZmZm8j8=",
          "dtype": "f8"
         },
         "yaxis": "y"
        },
        {
         "line": {
          "color": "black",
          "dash": "dash"
         },
         "mode": "lines",
         "name": "theoretical CL curve +/- 0.1",
         "showlegend": false,
         "type": "scatter",
         "x": {
          "bdata": "AAAAAAAAAMCbbLLJJpv8vzbZZJNNNvm/0kUXXXTR9b9ssskmm2zyvxA++OCDD+6/RhdddNFF57988MEHH3zgv2STTTbZZNO/QBdddNFFt78AH3zwwQe/P1hVVVVVVdU/dNFFF1104T9A+OCDDz7oPwgffPDBB+8/6qKLLrro8j9ONtlkk032P7LJJptssvk/GF100UUX/T8++OCDDz4AQPDBBx988AFApIsuuuiiA0BWVVVVVVUFQAgffPDBBwdAuuiiiy66CEBssskmm2wKQCB88MEHHwxA0kUXXXTRDUCEDz744IMPQJtssskmmxBAddFFF110EUBONtlkk00SQCebbLLJJhNAAAAAAAAAFEDZZJNNNtkUQLPJJptsshVAjC666KKLFkBlk0022WQXQD744IMPPhhAGF100UUXGUDwwQcffPAZQMomm2yyyRpApIsuuuiiG0B88MEHH3wcQFZVVVVVVR1ALrrooosuHkAIH3zwwQcfQOKDDz744B9AXXTRRRddIEDKJptssskgQDbZZJNNNiFAo4suuuiiIUAQPvjggw8iQHzwwQcffCJA6aKLLrroIkBWVVVVVVUjQMIHH3zwwSNAL7rooosuJECbbLLJJpskQAgffPDBByVAddFFF110JUDhgw8++OAlQE422WSTTSZAuuiiiy66JkAnm2yyySYnQJRNNtlkkydAAAAAAAAAKEBtsskmm2woQNlkk0022ShARhdddNFFKUCzySabbLIpQB988MEHHypAjC666KKLKkD44IMPPvgqQGWTTTbZZCtA0kUXXXTRK0A++OCDDz4sQKqqqqqqqixAGF100UUXLUCEDz744IMtQPDBBx988C1AXnTRRRddLkDKJptssskuQDbZZJNNNi9ApIsuuuiiL0AIH3zwwQcwQD744IMPPjBAddFFF110MECrqqqqqqowQOGDDz744DBAF1100UUXMUBONtlkk00xQIQPPvjggzFAuuiiiy66MUDxwQcffPAxQCebbLLJJjJAXXTRRRddMkCUTTbZZJMyQMomm2yyyTJAAAAAAAAAM0A=",
          "dtype": "f8"
         },
         "y": {
          "bdata": "yUZWgoWrvD9EVM7aFRzBPySFcfRo4sM/ArYUDryoxj/h5rcnD2/JP8AXW0FiNcw/n0j+WrX7zj/AvFA6BOHQPy5VIsctRNI/nu3zU1en0z8NhsXggArVP34el22qbdY/7rZo+tPQ1z9eTzqH/TPZP8znCxQnl9o/PIDdoFD62z+sGK8tel3dPxqxgLqjwN4/xSSpo+YR4D/98BFqe8PgPzS9ejAQdeE/bYnj9qQm4j+lVUy9OdjiP9whtYPOieM/FO4dSmM75D9LuoYQ+OzkP4OG79aMnuU/ulJYnSFQ5j/zHsFjtgHnPyrrKSpLs+c/YLeS8N9k6D+Vg/u2dBbpP0Eqb55Lvuk/wqwkhZ9K6j9CL9pr89bqP/lYR6BSW+s/6cWy/W3Q6z/cMB5biUXsP8mfibikuuw/59G9fakd7T9qfguWXH3tPy4nWa4P3e0/PdimxsI87j8JJXUZE5fuP1NmanI97e4/m6dfy2dD7z/m6FQkkpnvP4YaSn287+8/pKfF98Qd8D9sRV8Sd0LwPzPj+CwpZ/A//ICSR9uL8D/DHixijbDwP0XDpO801PA/miVoN2H08D/uhyt/jRTxP27p7sa5NPE/ckSyDuZU8T/srnVWEnXxP0EROZ4+lfE/TgeuCAqz8T8LgKwedtDxP8j4qjTi7fE/hXGpSk4L8j9D6qdguijyPwBjpnYmRvI/vNukjJJj8j/47Y6I/HzyP527Jmz5lfI/Q4m+T/au8j/oVlYz88fyP40k7hbw4PI/M/KF+uz58j/Xvx3e6RLzP2mNtcHmK/M/a2mhx88+8z+7GLPZNk/zPwzIxOudX/M/XXfW/QRw8z+tJugPbIDzP/7V+SHTkPM/2MSEJFai8z8joAvTH7XzP297koHpx/M/u1YZMLPa8z8GMqDefO3zPw0YAAAAAPQ/PDMGAAAA9D+HTwwAAAD0P9FrEgAAAPQ/G4gYAAAA9D9lpB4AAAD0P7DAJAAAAPQ/+twqAAAA9D9E+TAAAAD0P44VNwAAAPQ/2TE9AAAA9D8jTkMAAAD0P21qSQAAAPQ/t4ZPAAAA9D8=",
          "dtype": "f8"
         },
         "yaxis": "y"
        },
        {
         "line": {
          "color": "black",
          "dash": "dash"
         },
         "mode": "lines",
         "name": "theoretical CL curve +/- 0.1",
         "showlegend": false,
         "type": "scatter",
         "x": {
          "bdata": "AAAAAAAAAMCbbLLJJpv8vzbZZJNNNvm/0kUXXXTR9b9ssskmm2zyvxA++OCDD+6/RhdddNFF57988MEHH3zgv2STTTbZZNO/QBdddNFFt78AH3zwwQe/P1hVVVVVVdU/dNFFF1104T9A+OCDDz7oPwgffPDBB+8/6qKLLrro8j9ONtlkk032P7LJJptssvk/GF100UUX/T8++OCDDz4AQPDBBx988AFApIsuuuiiA0BWVVVVVVUFQAgffPDBBwdAuuiiiy66CEBssskmm2wKQCB88MEHHwxA0kUXXXTRDUCEDz744IMPQJtssskmmxBAddFFF110EUBONtlkk00SQCebbLLJJhNAAAAAAAAAFEDZZJNNNtkUQLPJJptsshVAjC666KKLFkBlk0022WQXQD744IMPPhhAGF100UUXGUDwwQcffPAZQMomm2yyyRpApIsuuuiiG0B88MEHH3wcQFZVVVVVVR1ALrrooosuHkAIH3zwwQcfQOKDDz744B9AXXTRRRddIEDKJptssskgQDbZZJNNNiFAo4suuuiiIUAQPvjggw8iQHzwwQcffCJA6aKLLrroIkBWVVVVVVUjQMIHH3zwwSNAL7rooosuJECbbLLJJpskQAgffPDBByVAddFFF110JUDhgw8++OAlQE422WSTTSZAuuiiiy66JkAnm2yyySYnQJRNNtlkkydAAAAAAAAAKEBtsskmm2woQNlkk0022ShARhdddNFFKUCzySabbLIpQB988MEHHypAjC666KKLKkD44IMPPvgqQGWTTTbZZCtA0kUXXXTRK0A++OCDDz4sQKqqqqqqqixAGF100UUXLUCEDz744IMtQPDBBx988C1AXnTRRRddLkDKJptssskuQDbZZJNNNi9ApIsuuuiiL0AIH3zwwQcwQD744IMPPjBAddFFF110MECrqqqqqqowQOGDDz744DBAF1100UUXMUBONtlkk00xQIQPPvjggzFAuuiiiy66MUDxwQcffPAxQCebbLLJJjJAXXTRRRddMkCUTTbZZJMyQMomm2yyyTJAAAAAAAAAM0A=",
          "dtype": "f8"
         },
         "y": {
          "bdata": "a+zcsK2Htr+tipZ9B/uwv9lRoJTC3Ka/xBwnXOyGl7+AXNnwOEVVvzDxCz5F3pQ/FLySBW+IpT/Kvw+23VCwP4YhVumD3bU/RoOcHCpquz+AcvEnaHvAP2OjlEG7QcM/Q9Q3Ww4Ixj8jBdt0Yc7IP/81fo60lMs/32YhqAdbzj/gS+JgrZDQP07ks+3W89E/vHyFegBX0z8uFVcHKrrUP5ytKJRTHdY/Dkb6IH2A1z983sutpuPYP+x2nTrQRto/XA9vx/mp2z/Kp0BUIw3dPzpAEuFMcN4/qNjjbXbT3z+NuFr9T5vgP8SEw8PkTOE/+lAsinn+4T8vHZVQDrDiP9vDCDjlV+M/XEa+Hjnk4z/cyHMFjXDkP5Py4Dns9OQ/g19Mlwdq5T92yrf0It/lP2M5I1I+VOY/gWtXF0O35j8EGKUv9hbnP8jA8kepduc/13FAYFzW5z+jvg6zrDDoP+3/AwzXhug/NUH5ZAHd6D+Agu69KzPpPyC04xZWiek/4ugkiSPV6T9xJFi+hx7qPwBgi/PrZ+o/kZu+KFCx6j8f1/FdtPrqPyMg43gDQus/zeRpCFyC6z92qfCXtMLrP3ZsdycNA+w/fSL+tmVD7D9x94RGvoPsPxu8C9YWxOw/Naj1qq3/7D+vmfLWhTrtPymL7wJede0/o3zsLjaw7T8fbulaDuvtP5lf5obmJe4/EVHjsr5g7j+JdbeqkpPuP9MQ53GMxe4/H6wWOYb37j9pR0YAgCnvP7Pidcd5W+8//32ljnON7z9HGdVVbb/vP2u0BB1n8e8/NzZulJwL8D+H5X+mAxzwP9iUkbhqLPA/KUSjytE88D9587TcOE3wP8qixu6fXfA/pJFR8SJv8D/vbNif7IHwPztIX062lPA/hyPm/H+n8D/S/myrSbrwP9nkzMzMzPA/CADTzMzM8D9THNnMzMzwP50438zMzPA/51TlzMzM8D8xcevMzMzwP3yN8czMzPA/xqn3zMzM8D8Qxv3MzMzwP1riA83MzPA/pf4JzczM8D/vGhDNzMzwPzk3Fs3MzPA/g1MczczM8D8=",
          "dtype": "f8"
         },
         "yaxis": "y"
        },
        {
         "marker": {
          "color": "grey",
          "size": 6,
          "symbol": "cross"
         },
         "mode": "markers",
         "name": "Roller coaster",
         "showlegend": true,
         "type": "scatter",
         "x": {
          "bdata": "10fmgJPk7D9nbpOyXMvxPxs6BBNzyfg/T8feh8iN/D9yL8vDh2n9P+WqZJyW6v0/GJgAtX6m/z/pVpIZaIX/PxyifUL3+vg/DjGz0Bhy6z9aiUAfnK7YP6R04uXL6qw/KbBNA4vw1r++pXBwaEniv8yXJaUfNee/xHJEb+vO6L/ZGDmxDMrlv81hUJyGKdy/bs1c5Hiu2r9zKVQfai3Zv9wfCAt5/sE/6Jq3gKoQ8T+XxKoArzn8P11IHsGmyQFA0R6WcqEtBEDbzRJxFmwEQMdazYdw1ARA3r/EkZ5DBUCPa9nhmLsFQK+wLUz8EwVA94u8em0y+z9uwEmL5RXhP/kwdpM4+7G/ixtzMZPi5b8d9r1ILefwv7iU8pvB+fO/f9v4aDhc9L8uPyHbyoH0v5/dmsn59fO/hv4dCast8r+RRXwWp3Tbvz5jiavY5eU/DsTIdHBS+D8fshQu3Z8CQKnWLuou/AhA0IXIeA13C0DNyDiv4O4LQGzjEoNDIQxA11yfRNilCkBz81+Yj0QEQGxYhPMKXPQ/d1ue4rOH0z+PqtaeEITkv39Leql4kfK/HqggZMgo979WCdHt/nD5v3SF53oK/fi/TAh2LhmX+L8TAegEoE/0v3oycwuGOsa/Dx2p0Fxu5T9CzVEK7MzkP3hLV0s/eOc/dAeH7LEX9D8RwqTn4hQCQJGUshc8+wdAwWEXrDHGDEBSZqPY6h4PQIq0brK42w5ATwd7rUdnCUCEaRmX7xv/P5pesyW9r+g/k8ZPUqzblL+GGNjYHiLgvwMQ7KOJoO6/RUnpywwc979s7Bd0byP5v7yuIS/8fPm/tC5IM5X++b+kMOqq4Fv5v+NnI4zylPS/NxvkUbiX4L9Gm466K17VP251HgeWQu8/rwsFWkl89D+rzTw+DU4BQMVJf1ZOQglAymOrYC87C0BQ4slDCFINQD2ARV2gSg9AmHzuqEz1DkDtgEj32csIQIDiQF8Fg/w/Q1BiyKCk6T9AYd3bKRTiP9y8HA2cdNs/",
          "dtype": "f8"
         },
         "y": {
          "bdata": "ZPHXDz321T8cfWKBVBbXP1WCvvnMWdk/B53gX7e02j8jgtf2awTbPymmXoabMNs/9vqhD8ad2z8GUZeRcI7bPy6QUZU0cNk/pyWTU57F1T9RgsuVfR7TPzVys72WJ9E/1hkkc5dpzj/afwFAXFnMP7WMuN5s88o/P/l3YTWCyj8o/CjHUGvLP6mbNyMpdM0/+zX4PpPFzT+82WaHz2LOP+s+GWby49E/PkwMHDmq1j/vnzCx/I3aPzeWtIfiK90/uq6EXIql3j/hMUzcv/bePzIHiP9KM98/s3KgnT543z8p1lS6d6DfP1+we0YDBN8/CIFCllg22j9jUpM+uj3UP20yVvCEp9A/qsje9Pu+yz9DwkQXLxPIPyoeZG1jGsY/jo/TfhJyxT86r4MDYl7FP0xZr8zGssU/LbCSYZ09xz+3OJJPUAnOP/jJkJCjmNQ/WHnuI4dI2T9xki8xJs/dPyJuS1f2AOE/NR6N14D64T9PtAxK0i7iP41adnciKuI/jLtJkOWP4T9AsXxMfK3eP/lWPljyMdg/UaKc2V2q0j9txjQZSk3MP8s6/M//AMc/hrMysJOjwz8xVv3algfCP50DThWoKMI/Y1f0T5WZwj+U2eZ4F8rFP3fWNsKiAdA/rrAH4atE1D9ZUOQl56PUP4SJL3+4HtU/L/y0zwz/1z9NCBft10LdP7IjvBWPueA/FUycCtpg4j9F/2qzDSnjP81MtINf/+I/nmPzlyMl4T+lkZwyJLPbP6L90Z3pd9U/FVEX7EUS0T/BEHIUUUPNP2BjRZFIH8k/SvVadkgexD+DWAu2xWLCP3GogF1oE8I/NavvWqGuwT+QmqZpfx/CP0rpYZj9qMU/fD8Ui4A6zT/nOj9ObePSP4+kuPz7VtY/D/lj5bxe2D/yvfSwFvHcPzAQ15hCIuE/JIRJasD44T8QwX+PwpviP1tX5wxcReM/rGDzT7IM4z/FVmhn+ffgP6b/XzOEGts/KVDAxPrA1T9FSapc/yDUP2JDGU82T9M/",
          "dtype": "f8"
         },
         "yaxis": "y"
        },
        {
         "marker": {
          "color": "grey",
          "size": 6,
          "symbol": "cross"
         },
         "mode": "markers",
         "name": "Roller coaster",
         "showlegend": false,
         "type": "scatter",
         "x": {
          "bdata": "5bxASihr8T/m9B9KT3r/P3ibXoJAmQJAPw9+N3lyA0DICGuL3+QCQNNeKZapEvM/XEyWwAO93r+Ypv+HilPuv6kNDljBPvS/5HhXxvp9+r+pcliUPQ77v4zHl/+NdPq/16DHGyHW+b/TquvFh6P1vylwV/Uhyee/7e3WPUQ84D89DI+r49T+P77FmOUfxwhA3OladIY9DEAJJ1F19XgNQMvcUHWpbA5AewX8s/GUDkCiackk2lANQNGg+NJ84QlA0udsltI2AEA4k6IDMgbXvxL9fDO67fa/90/1w+xG+r9Mr6zvpwwBwEpin4D6wQHAi3O9puA6AcAyqhkifa38v9JvizTUkeu/8tHgX2yI3b8zCnBYL4vov3EsR57k7dg/B2vyv9GbAkC38HHD0jUJQP/rpe7vWQ5Ayf9QDOYkEUAK7maR/h4RQCFX5/AAlxBA1z+qz1HyBUAXc5wnQsnmP3rvMAFt+e6/0vBNR82/9r/6MAilmSf4v9XDBcpBgfq/y6Vj3Kvi9r/JAmDpLS3wv+/TOdODK+2/IpiC0iBs2r/phdH+fdjavyS5D3nk2+K/QEow6ad00D/T0ZDWOmQHQIXcOZMsjBJAzFiDT3iVFEA4IgIiQJUUQAocsovj7Q1ABAOcT8Z5+z+rIYUkKhPdP919e0Ee2ty/udJOhLFW9L819Co1uFP3v11JnU4r8Pm/+zGYY92b/L+IkOk97uj9v/OapQxkW/2/W0XAdZKT+b8kbg76cxT0v30DUba1rdi/6ba71hTO8j+ImwnscLECQHK++5fYjQpAEKoD4UpYD0D/L/VIKnMRQNmHC4TWLBJAP0D/cVdZD0BmyBYsBIUCQBP8mo61F+0/ru88Ez/c3T/SbuC5Re+rPz4Cr6YctaW/",
          "dtype": "f8"
         },
         "y": {
          "bdata": "eUnTy0BK1z8H5Jtym4nbP1NuVaKBy90/fkQbpQ1V3j/9470XrJTdPyo+7fZZp9c/pkcEljb7zj98sGSzLFHJP/MKA8RTC8Y/T8NuwQXWwT9A6wcutwzBP8Gzpa3Ng8E/Q84D/nAEwj/xRREG9uXEP+aWrlKnXMs/OtwxcOK+0z9PB+OLooXbP+0NDmQT9OA/Jw6hKQpV4j8A8ZdW0MXiP4proL5tFuM/EaykNm0d4z/c462KmJriPxbYJuYzUOE/CwIkISny2z8+frYIk0vQP0ub8Sdvn8Q/tauJNFZZwT+GSUPi0Ge4P1tLnK4sA7Y/308erfqftz+k7p15xt+/Py7BDE7BR8k/f+opADJRzT8ETgoiNRTMPxDNHVDdbtM/nQrxzFs33T+wf/VEuzzhPw99i+tp8+I/uF36vM1J5D/T0M5ALlfkP8cUPFmireM/5nxy0kgn4D/ohy5+1XvVP+CcbUkcMco/ZB3pdppgxD9XWFwM3RDDP6xGlL4opsE/klL4x3v9wz+t6JZx0v7HPx2UX3tc2ck/yin7LCHYzT/8usfoPDXOP/4e0/nqBs0/I46xDC010z/F2pQTbz7gP8MKFozDEeU/KcMM9g2q5j8rFtLoa2nmP19L7SXOvOI/frntgBvv2j+6Wjs1ScrTP18+KY3M8s0/ns7NOkt8xj9t0CKylW/DP9kqCJtHusE//3qCiWyuvz+R7Kglfem9P9p60LTQvb4/QPB/yJYSwj8iuYc6U7fFP2jPkC8gFM8/X2drL+JR1z8Z3385yvndP03/RClfu+E/EwAPDdN24z/Z9Sbs3pfkP6uJgOus8OQ/1Vtklicq4z8dk5AhuQ7eP5H4GQYNhtY/KTtH3gGf0z83RX46mWLRP3fjjxZTC9E/",
          "dtype": "f8"
         },
         "yaxis": "y"
        },
        {
         "marker": {
          "color": "black",
          "size": 10,
          "symbol": "triangle-up-open"
         },
         "mode": "markers",
         "name": "Wind-up turn",
         "showlegend": true,
         "type": "scatter",
         "x": {
          "bdata": "piYYBDu05T/xAUqBVg7mP2nAn6QWZeY/P93MnOmy6T9urN0SUi3rP+M3CuOwOus/88wcXrjF7z99jDVJCfTwPxlUYXv7K/E/mbc3ZzFY8T9MvGCZi4X0P3LmEC0lT/c/RSEhfD4i9z81hj7F2uf4PzL0ZnWCHP0/+9BD9MMMAEAjnLMECdsAQNQAap0DRQNAThMUarHjBUAb0nVxzwQIQNyM/Q2E2QlAYaR9mLSmCkC2kJa3yMMMQMmI+fGzOQ5ASnKgiEaWD0D3jf2SynsQQJq8dP/67xBAu0GQfWcaEUA=",
          "dtype": "f8"
         },
         "y": {
          "bdata": "0bbdZJap1D+jDWAx86/UPy9ZYYGW4dQ/oz+h7fFX1T/nTKJs1JLVPxyVFg8mptU/Hcfcu9pd1j/EzvJqx67WPwyOf4Xx09Y//PE+4yr01j/6tRwCg+zXP2ibJpvl5dg/yiZjOX/r2D+b3e3UA4jZP5lCm/W22do/e8ruLvDb2z8LIZb7a4rcP9u9InLIE94/PICn6DfO3z9iSRfxrbfgPzwU2XtQS+E/WV67Tr2n4T8rnRON2F7iP+LpNekk4uI/kmM/gqhl4z/RdqVKD+/jP64TUcNpS+Q/Amj7LLkx5D8=",
          "dtype": "f8"
         },
         "yaxis": "y"
        },
        {
         "marker": {
          "color": "black",
          "size": 10,
          "symbol": "triangle-up-open"
         },
         "mode": "markers",
         "name": "Wind-up turn",
         "showlegend": false,
         "type": "scatter",
         "x": {
          "bdata": "UouexCTI4z+/RXn19e7jP+eZuVp8xOQ/I8KOs4ZD5T88zefehIrmP0cPf2/Ytek/TdyJEMfb6j9niUIfJAfwP6otqE2rLPQ/8SKyMrPk9z9Cr12JkHD6PxKcNW1aBPw/fhkAZHno/D9wn7me64P9P9vrTBz92P0/vGtjryrU/D9ivC/lgRf8P7WUW6Qp0P0/X/MDEU2HAUCda1oa/eIDQBsE63GHWQRAPRSTV3pcBUB3s/vjxU8JQPvESI/3UQtAo3KDPdE3C0DgsmokF04LQA==",
          "dtype": "f8"
         },
         "y": {
          "bdata": "r4N79Sw41D9r+Rv3gyzUP2CIu3IZU9Q/PTypZgxk1D9UqTk7BZ7UP/tJZNULFdU/OywxTy5u1T+l+E5neTvWP+R5qYPRltc/cCrUftPe2D/My6zYr7nZPxpSUcGpRdo/OOxQboGz2j/MVqrc4ObaP5wa4vxi+do/3r4X1g2+2j+9oi8t9pDaP0V1Uvc5NNs/OJ35NX3z3D+zp2P6soLeP4G0LACC494/36T0SNal3z9mIBR/pyDhP0Tu7ONm3eE/uOSqHxze4T/iajFldu3hPw==",
          "dtype": "f8"
         },
         "yaxis": "y"
        }
       ],
       "layout": {
        "annotations": [
         {
          "align": "left",
          "font": {
           "color": "black",
           "family": "Arial",
           "size": 16
          },
          "showarrow": false,
          "text": "<b>Configuration:</b> Cruise<br><b>Pressure altitude:</b> 15 000 ft<br><b>Weight:</b> 11'500 lb to 12'000 lb<br><b>CG:</b> 20 to 20.5%<br>",
          "x": 0,
          "xref": "paper",
          "y": 1.15,
          "yref": "paper"
         },
         {
          "align": "left",
          "font": {
           "color": "black",
           "family": "Arial",
           "size": 16
          },
          "showarrow": false,
          "text": "<b>Data basis:</b> Flight test<br><b>Test date:</b> April 30th, 2025<br><b>Tail number:</b> 215 (with YAPS)<br><b>Airspeed:</b> 180 KIAS<br>",
          "x": 0.55,
          "xref": "paper",
          "y": 1.15,
          "yref": "paper"
         },
         {
          "align": "left",
          "font": {
           "color": "black",
           "family": "Arial",
           "size": 16
          },
          "showarrow": false,
          "text": "<b>Configuration:</b> Cruise<br><b>Pressure altitude:</b> 15 000 ft<br><b>Weight:</b> 11'500 lb to 12'000 lb<br><b>CG:</b> 20 to 20.5%<br>",
          "x": 0,
          "xref": "paper",
          "y": 1.15,
          "yref": "paper"
         },
         {
          "align": "left",
          "font": {
           "color": "black",
           "family": "Arial",
           "size": 16
          },
          "showarrow": false,
          "text": "<b>Data basis:</b> Flight test<br><b>Test date:</b> April 30th, 2025<br><b>Tail number:</b> 215 (with YAPS)<br><b>Airspeed:</b> 180 KIAS<br>",
          "x": 0.55,
          "xref": "paper",
          "y": 1.15,
          "yref": "paper"
         },
         {
          "align": "left",
          "font": {
           "color": "black",
           "family": "Arial",
           "size": 16
          },
          "showarrow": false,
          "text": "<b>Configuration:</b> Cruise<br><b>Pressure altitude:</b> 15 000 ft<br><b>Weight:</b> 11'500 lb to 12'000 lb<br><b>CG:</b> 20 to 20.5%<br>",
          "x": 0,
          "xref": "paper",
          "y": 1.15,
          "yref": "paper"
         },
         {
          "align": "left",
          "font": {
           "color": "black",
           "family": "Arial",
           "size": 16
          },
          "showarrow": false,
          "text": "<b>Data basis:</b> Flight test<br><b>Test date:</b> April 30th, 2025<br><b>Tail number:</b> 215 (with YAPS)<br><b>Airspeed:</b> 180 KIAS<br>",
          "x": 0.55,
          "xref": "paper",
          "y": 1.15,
          "yref": "paper"
         },
         {
          "align": "left",
          "font": {
           "color": "black",
           "family": "Arial",
           "size": 16
          },
          "showarrow": false,
          "text": "<b>Configuration:</b> Cruise<br><b>Pressure altitude:</b> 15 000 ft<br><b>Weight:</b> 11'500 lb to 12'000 lb<br><b>CG:</b> 20 to 20.5%<br>",
          "x": 0,
          "xref": "paper",
          "y": 1.15,
          "yref": "paper"
         },
         {
          "align": "left",
          "font": {
           "color": "black",
           "family": "Arial",
           "size": 16
          },
          "showarrow": false,
          "text": "<b>Data basis:</b> Flight test<br><b>Test date:</b> April 30th, 2025<br><b>Tail number:</b> 215 (with YAPS)<br><b>Airspeed:</b> 180 KIAS<br>",
          "x": 0.55,
          "xref": "paper",
          "y": 1.15,
          "yref": "paper"
         }
        ],
        "height": 1152,
        "legend": {
         "font": {
          "color": "black",
          "family": "Arial",
          "size": 16
         },
         "x": 0.99,
         "xanchor": "right",
         "y": 0.01,
         "yanchor": "bottom"
        },
        "shapes": [
         {
          "layer": "below",
          "line": {
           "color": "black",
           "width": 2
          },
          "type": "rect",
          "x0": 0,
          "x1": 1,
          "xref": "paper",
          "y0": 1.05,
          "y1": 1.15,
          "yref": "paper"
         },
         {
          "layer": "below",
          "line": {
           "color": "black",
           "width": 2
          },
          "type": "rect",
          "x0": 0,
          "x1": 1,
          "xref": "paper",
          "y0": 1.05,
          "y1": 1.15,
          "yref": "paper"
         },
         {
          "layer": "below",
          "line": {
           "color": "black",
           "width": 2
          },
          "type": "rect",
          "x0": 0,
          "x1": 1,
          "xref": "paper",
          "y0": 1.05,
          "y1": 1.15,
          "yref": "paper"
         },
         {
          "layer": "below",
          "line": {
           "color": "black",
           "width": 2
          },
          "type": "rect",
          "x0": 0,
          "x1": 1,
          "xref": "paper",
          "y0": 1.05,
          "y1": 1.15,
          "yref": "paper"
         }
        ],
        "showlegend": true,
        "template": {
         "data": {
          "bar": [
           {
            "error_x": {
             "color": "#2a3f5f"
            },
            "error_y": {
             "color": "#2a3f5f"
            },
            "marker": {
             "line": {
              "color": "#E5ECF6",
              "width": 0.5
             },
             "pattern": {
              "fillmode": "overlay",
              "size": 10,
              "solidity": 0.2
             }
            },
            "type": "bar"
           }
          ],
          "barpolar": [
           {
            "marker": {
             "line": {
              "color": "#E5ECF6",
              "width": 0.5
             },
             "pattern": {
              "fillmode": "overlay",
              "size": 10,
              "solidity": 0.2
             }
            },
            "type": "barpolar"
           }
          ],
          "carpet": [
           {
            "aaxis": {
             "endlinecolor": "#2a3f5f",
             "gridcolor": "white",
             "linecolor": "white",
             "minorgridcolor": "white",
             "startlinecolor": "#2a3f5f"
            },
            "baxis": {
             "endlinecolor": "#2a3f5f",
             "gridcolor": "white",
             "linecolor": "white",
             "minorgridcolor": "white",
             "startlinecolor": "#2a3f5f"
            },
            "type": "carpet"
           }
          ],
          "choropleth": [
           {
            "colorbar": {
             "outlinewidth": 0,
             "ticks": ""
            },
            "type": "choropleth"
           }
          ],
          "contour": [
           {
            "colorbar": {
             "outlinewidth": 0,
             "ticks": ""
            },
            "colorscale": [
             [
              0,
              "#0d0887"
             ],
             [
              0.1111111111111111,
              "#46039f"
             ],
             [
              0.2222222222222222,
              "#7201a8"
             ],
             [
              0.3333333333333333,
              "#9c179e"
             ],
             [
              0.4444444444444444,
              "#bd3786"
             ],
             [
              0.5555555555555556,
              "#d8576b"
             ],
             [
              0.6666666666666666,
              "#ed7953"
             ],
             [
              0.7777777777777778,
              "#fb9f3a"
             ],
             [
              0.8888888888888888,
              "#fdca26"
             ],
             [
              1,
              "#f0f921"
             ]
            ],
            "type": "contour"
           }
          ],
          "contourcarpet": [
           {
            "colorbar": {
             "outlinewidth": 0,
             "ticks": ""
            },
            "type": "contourcarpet"
           }
          ],
          "heatmap": [
           {
            "colorbar": {
             "outlinewidth": 0,
             "ticks": ""
            },
            "colorscale": [
             [
              0,
              "#0d0887"
             ],
             [
              0.1111111111111111,
              "#46039f"
             ],
             [
              0.2222222222222222,
              "#7201a8"
             ],
             [
              0.3333333333333333,
              "#9c179e"
             ],
             [
              0.4444444444444444,
              "#bd3786"
             ],
             [
              0.5555555555555556,
              "#d8576b"
             ],
             [
              0.6666666666666666,
              "#ed7953"
             ],
             [
              0.7777777777777778,
              "#fb9f3a"
             ],
             [
              0.8888888888888888,
              "#fdca26"
             ],
             [
              1,
              "#f0f921"
             ]
            ],
            "type": "heatmap"
           }
          ],
          "histogram": [
           {
            "marker": {
             "pattern": {
              "fillmode": "overlay",
              "size": 10,
              "solidity": 0.2
             }
            },
            "type": "histogram"
           }
          ],
          "histogram2d": [
           {
            "colorbar": {
             "outlinewidth": 0,
             "ticks": ""
            },
            "colorscale": [
             [
              0,
              "#0d0887"
             ],
             [
              0.1111111111111111,
              "#46039f"
             ],
             [
              0.2222222222222222,
              "#7201a8"
             ],
             [
              0.3333333333333333,
              "#9c179e"
             ],
             [
              0.4444444444444444,
              "#bd3786"
             ],
             [
              0.5555555555555556,
              "#d8576b"
             ],
             [
              0.6666666666666666,
              "#ed7953"
             ],
             [
              0.7777777777777778,
              "#fb9f3a"
             ],
             [
              0.8888888888888888,
              "#fdca26"
             ],
             [
              1,
              "#f0f921"
             ]
            ],
            "type": "histogram2d"
           }
          ],
          "histogram2dcontour": [
           {
            "colorbar": {
             "outlinewidth": 0,
             "ticks": ""
            },
            "colorscale": [
             [
              0,
              "#0d0887"
             ],
             [
              0.1111111111111111,
              "#46039f"
             ],
             [
              0.2222222222222222,
              "#7201a8"
             ],
             [
              0.3333333333333333,
              "#9c179e"
             ],
             [
              0.4444444444444444,
              "#bd3786"
             ],
             [
              0.5555555555555556,
              "#d8576b"
             ],
             [
              0.6666666666666666,
              "#ed7953"
             ],
             [
              0.7777777777777778,
              "#fb9f3a"
             ],
             [
              0.8888888888888888,
              "#fdca26"
             ],
             [
              1,
              "#f0f921"
             ]
            ],
            "type": "histogram2dcontour"
           }
          ],
          "mesh3d": [
           {
            "colorbar": {
             "outlinewidth": 0,
             "ticks": ""
            },
            "type": "mesh3d"
           }
          ],
          "parcoords": [
           {
            "line": {
             "colorbar": {
              "outlinewidth": 0,
              "ticks": ""
             }
            },
            "type": "parcoords"
           }
          ],
          "pie": [
           {
            "automargin": true,
            "type": "pie"
           }
          ],
          "scatter": [
           {
            "fillpattern": {
             "fillmode": "overlay",
             "size": 10,
             "solidity": 0.2
            },
            "type": "scatter"
           }
          ],
          "scatter3d": [
           {
            "line": {
             "colorbar": {
              "outlinewidth": 0,
              "ticks": ""
             }
            },
            "marker": {
             "colorbar": {
              "outlinewidth": 0,
              "ticks": ""
             }
            },
            "type": "scatter3d"
           }
          ],
          "scattercarpet": [
           {
            "marker": {
             "colorbar": {
              "outlinewidth": 0,
              "ticks": ""
             }
            },
            "type": "scattercarpet"
           }
          ],
          "scattergeo": [
           {
            "marker": {
             "colorbar": {
              "outlinewidth": 0,
              "ticks": ""
             }
            },
            "type": "scattergeo"
           }
          ],
          "scattergl": [
           {
            "marker": {
             "colorbar": {
              "outlinewidth": 0,
              "ticks": ""
             }
            },
            "type": "scattergl"
           }
          ],
          "scattermap": [
           {
            "marker": {
             "colorbar": {
              "outlinewidth": 0,
              "ticks": ""
             }
            },
            "type": "scattermap"
           }
          ],
          "scattermapbox": [
           {
            "marker": {
             "colorbar": {
              "outlinewidth": 0,
              "ticks": ""
             }
            },
            "type": "scattermapbox"
           }
          ],
          "scatterpolar": [
           {
            "marker": {
             "colorbar": {
              "outlinewidth": 0,
              "ticks": ""
             }
            },
            "type": "scatterpolar"
           }
          ],
          "scatterpolargl": [
           {
            "marker": {
             "colorbar": {
              "outlinewidth": 0,
              "ticks": ""
             }
            },
            "type": "scatterpolargl"
           }
          ],
          "scatterternary": [
           {
            "marker": {
             "colorbar": {
              "outlinewidth": 0,
              "ticks": ""
             }
            },
            "type": "scatterternary"
           }
          ],
          "surface": [
           {
            "colorbar": {
             "outlinewidth": 0,
             "ticks": ""
            },
            "colorscale": [
             [
              0,
              "#0d0887"
             ],
             [
              0.1111111111111111,
              "#46039f"
             ],
             [
              0.2222222222222222,
              "#7201a8"
             ],
             [
              0.3333333333333333,
              "#9c179e"
             ],
             [
              0.4444444444444444,
              "#bd3786"
             ],
             [
              0.5555555555555556,
              "#d8576b"
             ],
             [
              0.6666666666666666,
              "#ed7953"
             ],
             [
              0.7777777777777778,
              "#fb9f3a"
             ],
             [
              0.8888888888888888,
              "#fdca26"
             ],
             [
              1,
              "#f0f921"
             ]
            ],
            "type": "surface"
           }
          ],
          "table": [
           {
            "cells": {
             "fill": {
              "color": "#EBF0F8"
             },
             "line": {
              "color": "white"
             }
            },
            "header": {
             "fill": {
              "color": "#C8D4E3"
             },
             "line": {
              "color": "white"
             }
            },
            "type": "table"
           }
          ]
         },
         "layout": {
          "height": 800,
          "legend": {
           "bordercolor": "black",
           "borderwidth": 1,
           "x": 1.1,
           "xanchor": "right",
           "y": 1.1,
           "yanchor": "bottom"
          },
          "margin": {
           "t": 200
          },
          "plot_bgcolor": "white",
          "showlegend": true,
          "title": {
           "font": {
            "color": "black",
            "family": "Arial",
            "size": 24,
            "weight": "bold"
           },
           "x": 0.5,
           "y": 0.98
          },
          "width": 1300,
          "xaxis": {
           "gridcolor": "lightgrey",
           "linecolor": "black",
           "showgrid": true,
           "showline": true,
           "tickcolor": "black",
           "tickfont": {
            "family": "Arial",
            "size": 14
           },
           "ticklen": 5,
           "ticks": "outside",
           "tickwidth": 2,
           "title": {
            "font": {
             "family": "Arial",
             "size": 18,
             "weight": "bold"
            }
           }
          },
          "yaxis": {
           "gridcolor": "lightgrey",
           "linecolor": "black",
           "showgrid": true,
           "showline": true,
           "tickcolor": "black",
           "tickfont": {
            "family": "Arial",
            "size": 14
           },
           "ticklen": 5,
           "ticks": "outside",
           "tickwidth": 2,
           "title": {
            "font": {
             "family": "Arial",
             "size": 18,
             "weight": "bold"
            }
           }
          },
          "yaxis2": {
           "gridcolor": "lightgrey",
           "linecolor": "black",
           "showgrid": false,
           "showline": true,
           "tickcolor": "black",
           "tickfont": {
            "family": "Arial",
            "size": 14
           },
           "ticklen": 5,
           "ticks": "outside",
           "tickwidth": 2,
           "title": {
            "font": {
             "family": "Arial",
             "size": 18,
             "weight": "bold"
            }
           }
          }
         }
        },
        "title": {
         "text": "C-12C lift curve"
        },
        "width": 1515.6,
        "xaxis": {
         "range": [
          -2,
          15
         ],
         "title": {
          "text": "Angle of attack, α (deg)"
         }
        },
        "yaxis": {
         "range": [
          0,
          1.5
         ],
         "title": {
          "text": "Lif coefficient, C<sub>L</sub>"
         }
        }
       }
      }
     },
     "metadata": {},
     "output_type": "display_data"
    },
    {
     "data": {
      "application/vnd.plotly.v1+json": {
       "config": {
        "plotlyServerURL": "https://plot.ly"
       },
       "data": [
        {
         "line": {
          "color": "black"
         },
         "mode": "lines",
         "name": "theoretical CL curve",
         "showlegend": false,
         "type": "scatter",
         "x": {
          "bdata": "9yL3qXWJoD9+9BnitY+gP1grRKXnmKA/hhg11BaroD+0BSYDRr2gP6CTX/Y126A/3SOWleX5oD+5TlO1JCChP576V0vDSqE/HmKDc3h5oT8Qsc15l7ChPxDJLfn356E/FLu9b5croj8YrU3mNm+iP9r7O1Jbu6I/hAmav+kKoz8onjHkj1+jP+FO1cGeu6M//nWIk+EYpD9gQvpn34CkP78ObDzd6KQ/CCA7BslapT94j/JKR8+lP5eqOHmXSaY/rjW+tATKpj+KIH+ztUynP7JOSl+j2ac/13wVC5FmqD/7i+6V7v2oP8fVhzjLlqk/Rz2A3ME2qj8hKl/vHtyqPw4+hf7geqs/YLDMavsGrD+wIhTXFZOsPz03Du8RGq0/HJwI4TuXrT/a/gLTZRSuP9dl/cSPka4/2wUn3RUBrz/lipo7G26vP6oLDpog268/8cpA/BIksD8+nUgAJ1mwP44fqJggjbA/3aEHMRrBsD8uJGfJE/WwPwydxmENKbE/KsRmQ99YsT8xN7inuYexPziqCQyUtrE/QR1bcG7lsT9HkKzUSBSyP8FTb09OQrI/Zxf93ottsj8L24puyZiyP5OdGP4GxLI/YlemjUTvsj/5JTQdghqzP57pway/RbM/F/oAN3Bwsz/v/t2sCpuzP8cDuyKlxbM/oAiYmD/wsz96DXUO2hq0P1ISUoR0RbQ/KBcv+g5wtD+FWmWk25S0P14HZlYKubQ/OLRmCDndtD8QYWe6ZwG1P+kNaGyWJbU/wrpoHsVJtT+aZ2nQ8221P1YUaoIikrU/6/GAVh2vtT/sRFxiH8m1P/CXN24h47U/8uoSeiP9tT/0Pe6FJRe2P/iQyZEnMbY/AuZ81OtMtj/UTrgPtmq2P6e380qAiLY/eSAvhkqmtj9MiWrBFMS2P+yk4h5v4bY/glPsHm/htj/aA/Yeb+G2PzC0/x5v4bY/hmQJH2/htj/cFBMfb+G2PzTFHB9v4bY/inUmH2/htj/gJTAfb+G2PzfWOR9v4bY/joZDH2/htj/lNk0fb+G2PzvnVh9v4bY/kZdgH2/htj8=",
          "dtype": "f8"
         },
         "y": {
          "bdata": "dmnlRV+PiD/aHQY4JD2hP1vhkp5wVqw/adKPgt63sz8oNNa1hES5P+aVHOkq0b4/0nsxjuguwj+yrNSnO/XEP5Ddd8GOu8c/cA4b2+GByj9NP770NEjNPxi4MAdEB9A/iFAClG1q0T/46NMgl83SP2aBpa3AMNQ/1hl3OuqT1T9GskjHE/fWP7RKGlQ9Wtg/I+Pr4Ga92T+Ue71tkCDbPwIUj/q5g9w/dKxgh+Pm3T/jRDIUDUrfP6nugVCbVuA/4brqFjAI4T8Yh1PdxLnhP1BTvKNZa+I/hx8lau4c4z/A640wg87jP/e39vYXgOQ/LYRfvawx5T9iUMiDQePlPw73O2sYi+Y/j3nxUWwX5z8P/KY4wKPnP8YlFG0fKOg/tpJ/yjqd6D+p/eonVhLpP5ZsVoVxh+k/tJ6KSnbq6T83S9hiKUrqP/vzJXvcqeo/CqVzk48J6z/W8UHm32PrPyAzNz8Kuus/aHQsmDQQ7D+ztSHxXmbsP1PnFkqJvOw/FRxYvFYI7T+kV4vxulHtPzOTviYfm+0/xM7xW4Pk7T9SCiWR5y3uP1ZTFqw2de4/ABidO4+17j+p3CPL5/XuP6mfqlpANu8/sFUx6ph27z+kKrh58bbvP07vPglK9+8/tG0Ub3AZ8D9x5hKF3DbwPy5fEZtIVPA/69cPsbRx8D+pUA7HII/wP2bJDN2MrPA/IkIL8/jJ8D9eVPXuYuPwPwMijdJf/PA/qe8ktlwV8T9OvbyZWS7xP/OKVH1WR/E/mVjsYFNg8T89JoREUHnxP8/zGyhNkvE/0c8HLjal8T8hfxlAnbXxP3IuK1IExvE/w908ZGvW8T8TjU520ubxP2Q8YIg59/E/PivrirwI8j+JBnI5hhvyP9Xh+OdPLvI/Ib1/lhlB8j9smAZF41PyP3N+ZmZmZvI/oplsZmZm8j/ttXJmZmbyPzfSeGZmZvI/ge5+ZmZm8j/LCoVmZmbyPxYni2ZmZvI/YEORZmZm8j+qX5dmZmbyP/R7nWZmZvI/P5ijZmZm8j+JtKlmZmbyP9PQr2ZmZvI/He21ZmZm8j8=",
          "dtype": "f8"
         },
         "yaxis": "y"
        },
        {
         "line": {
          "color": "black",
          "dash": "dash"
         },
         "mode": "lines",
         "name": "theoretical CL curve +/- 0.03",
         "showlegend": false,
         "type": "scatter",
         "x": {
          "bdata": "U7K5n57lrz/ag9zX3uuvP7S6BpsQ9a8/8dP75J8DsD+ISnR8twywP34REXavG7A/nFmsRQcrsD8K74rVJj6wP/1EjSB2U7A/vfiitNBqsD82IMg3YIawPzYseHcQorA/OCXAMuDDsD86Hgjur+WwP5tF/yPCC7E/cEyuWokzsT/CFvps3F2xPx7vy9vji7E/rYKlRIW6sT/eaN4uhO6xPw5PFxmDIrI/stf+/Xhbsj9qj1oguJWyP/qcfTfg0rI/hWJA1RYTsz/z16BUb1SzPwdvhirmmrM/GgZsAF3hsz+sjdjFCy20P5IyJRd6ebQ/UmYhaXXJtD++3JDyIxy1P7XmI/qEa7U/3p9HMJKxtT8GWWtmn/e1P0xjaHIdO7Y/vJVla7J5tj8bx2JkR7i2P5r6X13c9rY/nMp0aZ8utz8gja4YImW3P4NN6Mekm7c/nxIidyfStz/s5Cl7Owe4PzxniRM1O7g/i+noqy5vuD/ca0hEKKO4P7rkp9wh17g/2AtIvvMGuT/ffpkizjW5P+bx6oaoZLk/72Q864KTuT/1141PXcK5P2+bUMpi8Lk/FV/eWaAbuj+5Imzp3Ua6P0Hl+Xgbcro/EJ+HCFmduj+nbRWYlsi6P0wxoyfU87o/xUHisYQeuz+dRr8nH0m7P3VLnJ25c7s/TlB5E1Seuz8oVVaJ7si7PwBaM/+I87s/1l4QdSMevD8zokYf8EK8PwxPR9EeZ7w/5vtHg02LvD++qEg1fK+8P5dVSeeq07w/cAJKmdn3vD9Ir0pLCBy9PwRcS/02QL0/mTli0TFdvT+ajD3dM3e9P57fGOk1kb0/oDL09DervT+ihc8AOsW9P6bYqgw8370/sC1eTwD7vT+ClpmKyhi+P1X/1MWUNr4/J2gQAV9Uvj/60Es8KXK+P5rsw5mDj74/MJvNmYOPvj+IS9eZg4++P9774JmDj74/NKzqmYOPvj+KXPSZg4++P+IM/pmDj74/OL0HmoOPvj+ObRGag4++P+UdG5qDj74/PM4kmoOPvj+Tfi6ag4++P+kuOJqDj74/P99BmoOPvj8=",
          "dtype": "f8"
         },
         "y": {
          "bdata": "dmnlRV+PiD/aHQY4JD2hP1vhkp5wVqw/adKPgt63sz8oNNa1hES5P+aVHOkq0b4/0nsxjuguwj+yrNSnO/XEP5Ddd8GOu8c/cA4b2+GByj9NP770NEjNPxi4MAdEB9A/iFAClG1q0T/46NMgl83SP2aBpa3AMNQ/1hl3OuqT1T9GskjHE/fWP7RKGlQ9Wtg/I+Pr4Ga92T+Ue71tkCDbPwIUj/q5g9w/dKxgh+Pm3T/jRDIUDUrfP6nugVCbVuA/4brqFjAI4T8Yh1PdxLnhP1BTvKNZa+I/hx8lau4c4z/A640wg87jP/e39vYXgOQ/LYRfvawx5T9iUMiDQePlPw73O2sYi+Y/j3nxUWwX5z8P/KY4wKPnP8YlFG0fKOg/tpJ/yjqd6D+p/eonVhLpP5ZsVoVxh+k/tJ6KSnbq6T83S9hiKUrqP/vzJXvcqeo/CqVzk48J6z/W8UHm32PrPyAzNz8Kuus/aHQsmDQQ7D+ztSHxXmbsP1PnFkqJvOw/FRxYvFYI7T+kV4vxulHtPzOTviYfm+0/xM7xW4Pk7T9SCiWR5y3uP1ZTFqw2de4/ABidO4+17j+p3CPL5/XuP6mfqlpANu8/sFUx6ph27z+kKrh58bbvP07vPglK9+8/tG0Ub3AZ8D9x5hKF3DbwPy5fEZtIVPA/69cPsbRx8D+pUA7HII/wP2bJDN2MrPA/IkIL8/jJ8D9eVPXuYuPwPwMijdJf/PA/qe8ktlwV8T9OvbyZWS7xP/OKVH1WR/E/mVjsYFNg8T89JoREUHnxP8/zGyhNkvE/0c8HLjal8T8hfxlAnbXxP3IuK1IExvE/w908ZGvW8T8TjU520ubxP2Q8YIg59/E/PivrirwI8j+JBnI5hhvyP9Xh+OdPLvI/Ib1/lhlB8j9smAZF41PyP3N+ZmZmZvI/oplsZmZm8j/ttXJmZmbyPzfSeGZmZvI/ge5+ZmZm8j/LCoVmZmbyPxYni2ZmZvI/YEORZmZm8j+qX5dmZmbyP/R7nWZmZvI/P5ijZmZm8j+JtKlmZmbyP9PQr2ZmZvI/He21ZmZm8j8=",
          "dtype": "f8"
         },
         "yaxis": "y"
        },
        {
         "line": {
          "color": "black",
          "dash": "dash"
         },
         "mode": "lines",
         "name": "theoretical CL curve  +/- 0.03",
         "showlegend": false,
         "type": "scatter",
         "x": {
          "bdata": "sDlJQ8vUYj8gUnbFzjhjP8C/Gfjqy2M/oJIo593uZD+AZTfW0BFmP0BE0AnQ8Gc/EEg5/cnbaT/Q9Qv5uz9sPyC0Vlml6W4/EJYG7nvqcD+gDVkgdKNyP6DNWRt4XnQ/wF3Zz3N7dj/g7ViEb5h4P/Bjy+OS+Xo/QNG7TgZ2fT8wO7y5mw2APxT+SjDXfYE/iJoXd+Lygj8QzN7I2ZKEP4z9pRrRMoY/sELiQYD6hz9wAMBUecyJP+xs2A26tYs/SJnu+263jT+4RPL2MsKPP6x+D9P0+pA/9tqlKtAUkj8++VdAi0OTP9aMioVEdZQ/1lt7zTG1lT+KNTnz6/+WP2RdhRFwPZg/CEIU6qRVmT+oJqPC2W2aP8JPl/LRe5s/gBmM1iV2nD/83oC6eXCdP/asdZ7Nap4//uzIztlJnz+J+9dF8hGgP058S6T3fqA/hga/Av3roD8gq84KJVahP8CvjTsYvqE/XrRMbAsmoj8AuQud/o2iP7yqys3x9aI/+PgKkZVVoz8G361ZSrOjPxTFUCL/EKQ/Jqvz6rNupD8ykZazaMykPyYYHKlzKKU/cp83yO5+pT+6JlPnadWlP8qrbgblK6Y/aB+KJWCCpj+WvKVE29imP+BDwWNWL6c/0mQ/eLeEpz+Cbvlj7NmnPzJ4s08hL6g/5IFtO1aEqD+Yiycni9moP0iV4RLALqk/9J6b/vSDqT+uJQhTjs2pP2B/CbfrFao/FNkKG0leqj/EMgx/pqaqP3aMDeMD76o/KOYOR2E3qz/YPxCrvn+rP1CZEQ8cyKs/elQ/txECrD98+vXOFTasP4SgrOYZaqw/iEZj/h2erD+M7BkWItKsP5SS0C0mBq0/qDw3s649rT9MDq4pQ3mtP/LfJKDXtK0/lrGbFmzwrT88gxKNACyuP3y6Aki1Zq4/qBcWSLVmrj9YeClItWauPwTZPEi1Zq4/sDlQSLVmrj9cmmNItWauPwz7dki1Zq4/uFuKSLVmrj9kvJ1ItWauPxIdsUi1Zq4/wH3ESLVmrj9u3tdItWauPxo/60i1Zq4/xp/+SLVmrj8=",
          "dtype": "f8"
         },
         "y": {
          "bdata": "dmnlRV+PiD/aHQY4JD2hP1vhkp5wVqw/adKPgt63sz8oNNa1hES5P+aVHOkq0b4/0nsxjuguwj+yrNSnO/XEP5Ddd8GOu8c/cA4b2+GByj9NP770NEjNPxi4MAdEB9A/iFAClG1q0T/46NMgl83SP2aBpa3AMNQ/1hl3OuqT1T9GskjHE/fWP7RKGlQ9Wtg/I+Pr4Ga92T+Ue71tkCDbPwIUj/q5g9w/dKxgh+Pm3T/jRDIUDUrfP6nugVCbVuA/4brqFjAI4T8Yh1PdxLnhP1BTvKNZa+I/hx8lau4c4z/A640wg87jP/e39vYXgOQ/LYRfvawx5T9iUMiDQePlPw73O2sYi+Y/j3nxUWwX5z8P/KY4wKPnP8YlFG0fKOg/tpJ/yjqd6D+p/eonVhLpP5ZsVoVxh+k/tJ6KSnbq6T83S9hiKUrqP/vzJXvcqeo/CqVzk48J6z/W8UHm32PrPyAzNz8Kuus/aHQsmDQQ7D+ztSHxXmbsP1PnFkqJvOw/FRxYvFYI7T+kV4vxulHtPzOTviYfm+0/xM7xW4Pk7T9SCiWR5y3uP1ZTFqw2de4/ABidO4+17j+p3CPL5/XuP6mfqlpANu8/sFUx6ph27z+kKrh58bbvP07vPglK9+8/tG0Ub3AZ8D9x5hKF3DbwPy5fEZtIVPA/69cPsbRx8D+pUA7HII/wP2bJDN2MrPA/IkIL8/jJ8D9eVPXuYuPwPwMijdJf/PA/qe8ktlwV8T9OvbyZWS7xP/OKVH1WR/E/mVjsYFNg8T89JoREUHnxP8/zGyhNkvE/0c8HLjal8T8hfxlAnbXxP3IuK1IExvE/w908ZGvW8T8TjU520ubxP2Q8YIg59/E/PivrirwI8j+JBnI5hhvyP9Xh+OdPLvI/Ib1/lhlB8j9smAZF41PyP3N+ZmZmZvI/oplsZmZm8j/ttXJmZmbyPzfSeGZmZvI/ge5+ZmZm8j/LCoVmZmbyPxYni2ZmZvI/YEORZmZm8j+qX5dmZmbyP/R7nWZmZvI/P5ijZmZm8j+JtKlmZmbyP9PQr2ZmZvI/He21ZmZm8j8=",
          "dtype": "f8"
         },
         "yaxis": "y"
        },
        {
         "marker": {
          "color": "grey",
          "size": 6,
          "symbol": "cross"
         },
         "mode": "markers",
         "name": "Roller coaster",
         "showlegend": true,
         "type": "scatter",
         "x": {
          "bdata": "eBzSqJGKpz8a+VbawcmnP8v9CCE336g/Vst9pEVZqT8unJ54G0qpP6XN/xEoc6k/qHg0N9+jqT9imvsMjY+pP+6KuWPgx6g/RwlMNKxEpz9HV03TOICmP/AKQ3fTQKY/Vj6uRsOopT8ZIKLGHYulPz1j909+Y6U/5nEgjgNmpT8gzh/tJGGlPyposwiV66U/mC4Ci0XxpT/M2Qn3atKlP8CYCakhZaY/r4umUBskqD9YJR35YZupP8BkRl35p6o/e1oInz+Gqz/eBfVFsXGrP9ELJ7IGl6s/bYpBgpOUqz9G0GSZ146rP8zs3/puWKs/g45MIFXyqD/XhIXni6KmP2Hp3D359aU/zlHHsOIupT/S66GivOekP4OYGsbl4aQ/juldtRcJpT8YBWZnePGkP+4UffOrBqU/S6B9ciz0pD+gN3wOspilP674vRl5Wac/mwNVg0gKqT8SZVHemPWqP7DmCj8Lcq0/73O/7IUmrj/yrjq85SyuP92UKHlfLq4/gcqlfUJfrT/PbnZOcAmrP21ztBsM1Kc/sEEgyp99pj/7s5miRC2lPznnvuq+7KQ/oLqJsF3WpD81Nh2QKb6kP+bNy7LL66Q/sOl/M7bupD/DfOVrSbykPws3QgOcAaY/W3yYvyqXpz+1Akv6nFqnPwQutoCveqc/iMZyTWlZqD98TP2JiduqPwTBgUUf3qw/dOpa3wSzrj9pgYGBNYuvP6w4HyeFMa8/Fx63zn+lrD/C7B6LBlmpP3NqY9OJDqc//sTOt+bvpT/m1K3orlilP5/K0Z4eFKU/Eg+MEASwpD8VqNKTxeykP0ru9qfWAaU/VWm7YJ/spD8ujZxpLgilP5Jz51HD3KQ/1/PfpFi0pT+whMk3IuimP2XqWAsKGag/3Qa4oJ59qD/8i+YcuK6qP1snTEx3mK0/u47Fyez/rT8Fvg9jrOauP8HnvagopK8/EuIfTBFOrz8SzUaMz3asP+JldHntxqg/UoopHxLmpj+aVBt4L4amP30oiff0fqY/",
          "dtype": "f8"
         },
         "y": {
          "bdata": "ZPHXDz321T8cfWKBVBbXP1WCvvnMWdk/B53gX7e02j8jgtf2awTbPymmXoabMNs/9vqhD8ad2z8GUZeRcI7bPy6QUZU0cNk/pyWTU57F1T9RgsuVfR7TPzVys72WJ9E/1hkkc5dpzj/afwFAXFnMP7WMuN5s88o/P/l3YTWCyj8o/CjHUGvLP6mbNyMpdM0/+zX4PpPFzT+82WaHz2LOP+s+GWby49E/PkwMHDmq1j/vnzCx/I3aPzeWtIfiK90/uq6EXIql3j/hMUzcv/bePzIHiP9KM98/s3KgnT543z8p1lS6d6DfP1+we0YDBN8/CIFCllg22j9jUpM+uj3UP20yVvCEp9A/qsje9Pu+yz9DwkQXLxPIPyoeZG1jGsY/jo/TfhJyxT86r4MDYl7FP0xZr8zGssU/LbCSYZ09xz+3OJJPUAnOP/jJkJCjmNQ/WHnuI4dI2T9xki8xJs/dPyJuS1f2AOE/NR6N14D64T9PtAxK0i7iP41adnciKuI/jLtJkOWP4T9AsXxMfK3eP/lWPljyMdg/UaKc2V2q0j9txjQZSk3MP8s6/M//AMc/hrMysJOjwz8xVv3algfCP50DThWoKMI/Y1f0T5WZwj+U2eZ4F8rFP3fWNsKiAdA/rrAH4atE1D9ZUOQl56PUP4SJL3+4HtU/L/y0zwz/1z9NCBft10LdP7IjvBWPueA/FUycCtpg4j9F/2qzDSnjP81MtINf/+I/nmPzlyMl4T+lkZwyJLPbP6L90Z3pd9U/FVEX7EUS0T/BEHIUUUPNP2BjRZFIH8k/SvVadkgexD+DWAu2xWLCP3GogF1oE8I/NavvWqGuwT+QmqZpfx/CP0rpYZj9qMU/fD8Ui4A6zT/nOj9ObePSP4+kuPz7VtY/D/lj5bxe2D/yvfSwFvHcPzAQ15hCIuE/JIRJasD44T8QwX+PwpviP1tX5wxcReM/rGDzT7IM4z/FVmhn+ffgP6b/XzOEGts/KVDAxPrA1T9FSapc/yDUP2JDGU82T9M/",
          "dtype": "f8"
         },
         "yaxis": "y"
        },
        {
         "marker": {
          "color": "grey",
          "size": 6,
          "symbol": "cross"
         },
         "mode": "markers",
         "name": "Roller coaster",
         "showlegend": false,
         "type": "scatter",
         "x": {
          "bdata": "NkG+gUGLpz//A3l/NcepP9uShpWsjao/LmBZp4u6qj8G9ZqepsuqP1fNdcS1F6g/OClUvMsWpT9RiO3yw+OkP7k8mlthDaU/phfnFv62pD9LG7oRVtikP4Jc80V56aQ/g2NsYbfxpD927Ry8XcqkP/LyylUrTaU/8bT/Kpv6pj8GsJ1HbxiqPwakAi57aa0/TwVM+OuFrj/XzPI6qtyuP6piqwnQIq8/5q3hFMMWrz8o7NRMz4uuP1Sx7sDI1Kw/43k+zPi5qT8wXX8N6i2lP0yXGgpeXaQ/GlWcqhLFpD/xoOzmjXukPzA/aaWkqKQ/wZDkV2DFpD+uYAwaCmmkP8LI4FP/QqU/Ip7A3DD2pT+6IaFNtBylP4uDmTO1iqY/0lDZYVo3qz+R3OdmT3qtP5v6JJryfa8/cXOwCRiXsD8QAy2pf1+wP1JsAuZcCrA/wP7D6mt/qz8rjsvhQiunPzA+W2zOqqQ/ojcvd0GXpD8zorGQ176kP1y1jPv5oqQ/ZYvvXyXHpD+pTtMuvUalP887W+076KQ//teJaYvtpT8PSq3MjvWlP2jQziGphqU/Xo8puB8Dpj/hiYdcGhatP2eMEAhESbE/3SfALGs+sj956/L5eBayP1WgX24tG64/R1M86zmwqD8GFineWoSmP42/K9FSlaU/nnwXfma1pD9cCQSkWcSkP1bcuNKm1aQ/maK4n8TYpD+AlQb6IcikPzzYHWg52aQ/EmqOgPfspD9eXiuDRyWlP4Jh3TavWqU/AuR6PMBjqD8WxNJpLUqrP35kGubIFK4/3bF2Kvj6rz9e+lqm7r+wP5Smxt+e5LA/6BaKAi48rz/VoLZDiEyqPyGTKSG4Mac/naEgnLOepj/V1rULGwqmP0yfFyPVwKU/",
          "dtype": "f8"
         },
         "y": {
          "bdata": "eUnTy0BK1z8H5Jtym4nbP1NuVaKBy90/fkQbpQ1V3j/9470XrJTdPyo+7fZZp9c/pkcEljb7zj98sGSzLFHJP/MKA8RTC8Y/T8NuwQXWwT9A6wcutwzBP8Gzpa3Ng8E/Q84D/nAEwj/xRREG9uXEP+aWrlKnXMs/OtwxcOK+0z9PB+OLooXbP+0NDmQT9OA/Jw6hKQpV4j8A8ZdW0MXiP4proL5tFuM/EaykNm0d4z/c462KmJriPxbYJuYzUOE/CwIkISny2z8+frYIk0vQP0ub8Sdvn8Q/tauJNFZZwT+GSUPi0Ge4P1tLnK4sA7Y/308erfqftz+k7p15xt+/Py7BDE7BR8k/f+opADJRzT8ETgoiNRTMPxDNHVDdbtM/nQrxzFs33T+wf/VEuzzhPw99i+tp8+I/uF36vM1J5D/T0M5ALlfkP8cUPFmireM/5nxy0kgn4D/ohy5+1XvVP+CcbUkcMco/ZB3pdppgxD9XWFwM3RDDP6xGlL4opsE/klL4x3v9wz+t6JZx0v7HPx2UX3tc2ck/yin7LCHYzT/8usfoPDXOP/4e0/nqBs0/I46xDC010z/F2pQTbz7gP8MKFozDEeU/KcMM9g2q5j8rFtLoa2nmP19L7SXOvOI/frntgBvv2j+6Wjs1ScrTP18+KY3M8s0/ns7NOkt8xj9t0CKylW/DP9kqCJtHusE//3qCiWyuvz+R7Kglfem9P9p60LTQvb4/QPB/yJYSwj8iuYc6U7fFP2jPkC8gFM8/X2drL+JR1z8Z3385yvndP03/RClfu+E/EwAPDdN24z/Z9Sbs3pfkP6uJgOus8OQ/1Vtklicq4z8dk5AhuQ7eP5H4GQYNhtY/KTtH3gGf0z83RX46mWLRP3fjjxZTC9E/",
          "dtype": "f8"
         },
         "yaxis": "y"
        },
        {
         "marker": {
          "color": "black",
          "size": 10,
          "symbol": "triangle-up-open"
         },
         "mode": "markers",
         "name": "Wind-up turn",
         "showlegend": true,
         "type": "scatter",
         "x": {
          "bdata": "siwcQBYPpz+xBkxLHgWnP3DpaRU5Eqc/bixlDkImpz8Fx1BSTmGnPyxtWg3FT6c/b5ADuuWPpz9y0wSieLunP2/y2zFA1Kc/PJV7P/Pipz/n4q+Bg0OoPy93cB7ZqKg/qHvPeyCnqD+ncazKge2oP4vEpvlHkak/G1Env74fqj94JWkNwFuqP+rZGZ9Bf6s/DontSfpWrD+CasAZyietP0M7Awjz2q0/MOV0TEcQrj/ymnUdzPiuP12iuALZlK8/rr1SEXUgsD/QDEgEr3GwP1jIL9UpmbA/9ihePd+ksD8=",
          "dtype": "f8"
         },
         "y": {
          "bdata": "0bbdZJap1D+jDWAx86/UPy9ZYYGW4dQ/oz+h7fFX1T/nTKJs1JLVPxyVFg8mptU/Hcfcu9pd1j/EzvJqx67WPwyOf4Xx09Y//PE+4yr01j/6tRwCg+zXP2ibJpvl5dg/yiZjOX/r2D+b3e3UA4jZP5lCm/W22do/e8ruLvDb2z8LIZb7a4rcP9u9InLIE94/PICn6DfO3z9iSRfxrbfgPzwU2XtQS+E/WV67Tr2n4T8rnRON2F7iP+LpNekk4uI/kmM/gqhl4z/RdqVKD+/jP64TUcNpS+Q/Amj7LLkx5D8=",
          "dtype": "f8"
         },
         "yaxis": "y"
        },
        {
         "marker": {
          "color": "black",
          "size": 10,
          "symbol": "triangle-up-open"
         },
         "mode": "markers",
         "name": "Wind-up turn",
         "showlegend": false,
         "type": "scatter",
         "x": {
          "bdata": "b/W78zzOpj/M7OoPpvSmPzlwiWaTEac/5+o8IzsJpz8MnPbAhQynP1w/UWQmSKc/jwMTgl5Ypz+MJBJrDZenP9+R5eUBO6g/lZ6AGwCjqD9vCaADABypP4OcTHzBT6k/sThbSq10qT9l6pyVFZOpP7YsPo9ouqk/EU7mJ7x8qT+g81To7IipPyYs468ktak/ymiklbyrqj/AId+o4myrP9K1Mm4klKs/ZHoy0rjiqz/yZ7P5IYmtP1yrCqARO64/4sAb+gUerj9tQ8SDDTeuPw==",
          "dtype": "f8"
         },
         "y": {
          "bdata": "r4N79Sw41D9r+Rv3gyzUP2CIu3IZU9Q/PTypZgxk1D9UqTk7BZ7UP/tJZNULFdU/OywxTy5u1T+l+E5neTvWP+R5qYPRltc/cCrUftPe2D/My6zYr7nZPxpSUcGpRdo/OOxQboGz2j/MVqrc4ObaP5wa4vxi+do/3r4X1g2+2j+9oi8t9pDaP0V1Uvc5NNs/OJ35NX3z3D+zp2P6soLeP4G0LACC494/36T0SNal3z9mIBR/pyDhP0Tu7ONm3eE/uOSqHxze4T/iajFldu3hPw==",
          "dtype": "f8"
         },
         "yaxis": "y"
        }
       ],
       "layout": {
        "annotations": [
         {
          "align": "left",
          "font": {
           "color": "black",
           "family": "Arial",
           "size": 16
          },
          "showarrow": false,
          "text": "<b>Configuration:</b> Cruise<br><b>Pressure altitude:</b> 15 000 ft<br><b>Weight:</b> 11'500 lb to 12'000 lb<br><b>CG:</b> 20 to 20.5%<br>",
          "x": 0,
          "xref": "paper",
          "y": 1.15,
          "yref": "paper"
         },
         {
          "align": "left",
          "font": {
           "color": "black",
           "family": "Arial",
           "size": 16
          },
          "showarrow": false,
          "text": "<b>Data basis:</b> Flight test<br><b>Test date:</b> April 30th, 2025<br><b>Tail number:</b> 215 (with YAPS)<br><b>Airspeed:</b> 180 KIAS<br>",
          "x": 0.55,
          "xref": "paper",
          "y": 1.15,
          "yref": "paper"
         },
         {
          "align": "left",
          "font": {
           "color": "black",
           "family": "Arial",
           "size": 16
          },
          "showarrow": false,
          "text": "<b>Configuration:</b> Cruise<br><b>Pressure altitude:</b> 15 000 ft<br><b>Weight:</b> 11'500 lb to 12'000 lb<br><b>CG:</b> 20 to 20.5%<br>",
          "x": 0,
          "xref": "paper",
          "y": 1.15,
          "yref": "paper"
         },
         {
          "align": "left",
          "font": {
           "color": "black",
           "family": "Arial",
           "size": 16
          },
          "showarrow": false,
          "text": "<b>Data basis:</b> Flight test<br><b>Test date:</b> April 30th, 2025<br><b>Tail number:</b> 215 (with YAPS)<br><b>Airspeed:</b> 180 KIAS<br>",
          "x": 0.55,
          "xref": "paper",
          "y": 1.15,
          "yref": "paper"
         },
         {
          "align": "left",
          "font": {
           "color": "black",
           "family": "Arial",
           "size": 16
          },
          "showarrow": false,
          "text": "<b>Configuration:</b> Cruise<br><b>Pressure altitude:</b> 15 000 ft<br><b>Weight:</b> 11'500 lb to 12'000 lb<br><b>CG:</b> 20 to 20.5%<br>",
          "x": 0,
          "xref": "paper",
          "y": 1.15,
          "yref": "paper"
         },
         {
          "align": "left",
          "font": {
           "color": "black",
           "family": "Arial",
           "size": 16
          },
          "showarrow": false,
          "text": "<b>Data basis:</b> Flight test<br><b>Test date:</b> April 30th, 2025<br><b>Tail number:</b> 215 (with YAPS)<br><b>Airspeed:</b> 180 KIAS<br>",
          "x": 0.55,
          "xref": "paper",
          "y": 1.15,
          "yref": "paper"
         },
         {
          "align": "left",
          "font": {
           "color": "black",
           "family": "Arial",
           "size": 16
          },
          "showarrow": false,
          "text": "<b>Configuration:</b> Cruise<br><b>Pressure altitude:</b> 15 000 ft<br><b>Weight:</b> 11'500 lb to 12'000 lb<br><b>CG:</b> 20 to 20.5%<br>",
          "x": 0,
          "xref": "paper",
          "y": 1.15,
          "yref": "paper"
         },
         {
          "align": "left",
          "font": {
           "color": "black",
           "family": "Arial",
           "size": 16
          },
          "showarrow": false,
          "text": "<b>Data basis:</b> Flight test<br><b>Test date:</b> April 30th, 2025<br><b>Tail number:</b> 215 (with YAPS)<br><b>Airspeed:</b> 180 KIAS<br>",
          "x": 0.55,
          "xref": "paper",
          "y": 1.15,
          "yref": "paper"
         }
        ],
        "height": 1152,
        "legend": {
         "font": {
          "color": "black",
          "family": "Arial",
          "size": 16
         },
         "x": 0.99,
         "xanchor": "right",
         "y": 0.01,
         "yanchor": "bottom"
        },
        "shapes": [
         {
          "layer": "below",
          "line": {
           "color": "black",
           "width": 2
          },
          "type": "rect",
          "x0": 0,
          "x1": 1,
          "xref": "paper",
          "y0": 1.05,
          "y1": 1.15,
          "yref": "paper"
         },
         {
          "layer": "below",
          "line": {
           "color": "black",
           "width": 2
          },
          "type": "rect",
          "x0": 0,
          "x1": 1,
          "xref": "paper",
          "y0": 1.05,
          "y1": 1.15,
          "yref": "paper"
         },
         {
          "layer": "below",
          "line": {
           "color": "black",
           "width": 2
          },
          "type": "rect",
          "x0": 0,
          "x1": 1,
          "xref": "paper",
          "y0": 1.05,
          "y1": 1.15,
          "yref": "paper"
         },
         {
          "layer": "below",
          "line": {
           "color": "black",
           "width": 2
          },
          "type": "rect",
          "x0": 0,
          "x1": 1,
          "xref": "paper",
          "y0": 1.05,
          "y1": 1.15,
          "yref": "paper"
         }
        ],
        "showlegend": true,
        "template": {
         "data": {
          "bar": [
           {
            "error_x": {
             "color": "#2a3f5f"
            },
            "error_y": {
             "color": "#2a3f5f"
            },
            "marker": {
             "line": {
              "color": "#E5ECF6",
              "width": 0.5
             },
             "pattern": {
              "fillmode": "overlay",
              "size": 10,
              "solidity": 0.2
             }
            },
            "type": "bar"
           }
          ],
          "barpolar": [
           {
            "marker": {
             "line": {
              "color": "#E5ECF6",
              "width": 0.5
             },
             "pattern": {
              "fillmode": "overlay",
              "size": 10,
              "solidity": 0.2
             }
            },
            "type": "barpolar"
           }
          ],
          "carpet": [
           {
            "aaxis": {
             "endlinecolor": "#2a3f5f",
             "gridcolor": "white",
             "linecolor": "white",
             "minorgridcolor": "white",
             "startlinecolor": "#2a3f5f"
            },
            "baxis": {
             "endlinecolor": "#2a3f5f",
             "gridcolor": "white",
             "linecolor": "white",
             "minorgridcolor": "white",
             "startlinecolor": "#2a3f5f"
            },
            "type": "carpet"
           }
          ],
          "choropleth": [
           {
            "colorbar": {
             "outlinewidth": 0,
             "ticks": ""
            },
            "type": "choropleth"
           }
          ],
          "contour": [
           {
            "colorbar": {
             "outlinewidth": 0,
             "ticks": ""
            },
            "colorscale": [
             [
              0,
              "#0d0887"
             ],
             [
              0.1111111111111111,
              "#46039f"
             ],
             [
              0.2222222222222222,
              "#7201a8"
             ],
             [
              0.3333333333333333,
              "#9c179e"
             ],
             [
              0.4444444444444444,
              "#bd3786"
             ],
             [
              0.5555555555555556,
              "#d8576b"
             ],
             [
              0.6666666666666666,
              "#ed7953"
             ],
             [
              0.7777777777777778,
              "#fb9f3a"
             ],
             [
              0.8888888888888888,
              "#fdca26"
             ],
             [
              1,
              "#f0f921"
             ]
            ],
            "type": "contour"
           }
          ],
          "contourcarpet": [
           {
            "colorbar": {
             "outlinewidth": 0,
             "ticks": ""
            },
            "type": "contourcarpet"
           }
          ],
          "heatmap": [
           {
            "colorbar": {
             "outlinewidth": 0,
             "ticks": ""
            },
            "colorscale": [
             [
              0,
              "#0d0887"
             ],
             [
              0.1111111111111111,
              "#46039f"
             ],
             [
              0.2222222222222222,
              "#7201a8"
             ],
             [
              0.3333333333333333,
              "#9c179e"
             ],
             [
              0.4444444444444444,
              "#bd3786"
             ],
             [
              0.5555555555555556,
              "#d8576b"
             ],
             [
              0.6666666666666666,
              "#ed7953"
             ],
             [
              0.7777777777777778,
              "#fb9f3a"
             ],
             [
              0.8888888888888888,
              "#fdca26"
             ],
             [
              1,
              "#f0f921"
             ]
            ],
            "type": "heatmap"
           }
          ],
          "histogram": [
           {
            "marker": {
             "pattern": {
              "fillmode": "overlay",
              "size": 10,
              "solidity": 0.2
             }
            },
            "type": "histogram"
           }
          ],
          "histogram2d": [
           {
            "colorbar": {
             "outlinewidth": 0,
             "ticks": ""
            },
            "colorscale": [
             [
              0,
              "#0d0887"
             ],
             [
              0.1111111111111111,
              "#46039f"
             ],
             [
              0.2222222222222222,
              "#7201a8"
             ],
             [
              0.3333333333333333,
              "#9c179e"
             ],
             [
              0.4444444444444444,
              "#bd3786"
             ],
             [
              0.5555555555555556,
              "#d8576b"
             ],
             [
              0.6666666666666666,
              "#ed7953"
             ],
             [
              0.7777777777777778,
              "#fb9f3a"
             ],
             [
              0.8888888888888888,
              "#fdca26"
             ],
             [
              1,
              "#f0f921"
             ]
            ],
            "type": "histogram2d"
           }
          ],
          "histogram2dcontour": [
           {
            "colorbar": {
             "outlinewidth": 0,
             "ticks": ""
            },
            "colorscale": [
             [
              0,
              "#0d0887"
             ],
             [
              0.1111111111111111,
              "#46039f"
             ],
             [
              0.2222222222222222,
              "#7201a8"
             ],
             [
              0.3333333333333333,
              "#9c179e"
             ],
             [
              0.4444444444444444,
              "#bd3786"
             ],
             [
              0.5555555555555556,
              "#d8576b"
             ],
             [
              0.6666666666666666,
              "#ed7953"
             ],
             [
              0.7777777777777778,
              "#fb9f3a"
             ],
             [
              0.8888888888888888,
              "#fdca26"
             ],
             [
              1,
              "#f0f921"
             ]
            ],
            "type": "histogram2dcontour"
           }
          ],
          "mesh3d": [
           {
            "colorbar": {
             "outlinewidth": 0,
             "ticks": ""
            },
            "type": "mesh3d"
           }
          ],
          "parcoords": [
           {
            "line": {
             "colorbar": {
              "outlinewidth": 0,
              "ticks": ""
             }
            },
            "type": "parcoords"
           }
          ],
          "pie": [
           {
            "automargin": true,
            "type": "pie"
           }
          ],
          "scatter": [
           {
            "fillpattern": {
             "fillmode": "overlay",
             "size": 10,
             "solidity": 0.2
            },
            "type": "scatter"
           }
          ],
          "scatter3d": [
           {
            "line": {
             "colorbar": {
              "outlinewidth": 0,
              "ticks": ""
             }
            },
            "marker": {
             "colorbar": {
              "outlinewidth": 0,
              "ticks": ""
             }
            },
            "type": "scatter3d"
           }
          ],
          "scattercarpet": [
           {
            "marker": {
             "colorbar": {
              "outlinewidth": 0,
              "ticks": ""
             }
            },
            "type": "scattercarpet"
           }
          ],
          "scattergeo": [
           {
            "marker": {
             "colorbar": {
              "outlinewidth": 0,
              "ticks": ""
             }
            },
            "type": "scattergeo"
           }
          ],
          "scattergl": [
           {
            "marker": {
             "colorbar": {
              "outlinewidth": 0,
              "ticks": ""
             }
            },
            "type": "scattergl"
           }
          ],
          "scattermap": [
           {
            "marker": {
             "colorbar": {
              "outlinewidth": 0,
              "ticks": ""
             }
            },
            "type": "scattermap"
           }
          ],
          "scattermapbox": [
           {
            "marker": {
             "colorbar": {
              "outlinewidth": 0,
              "ticks": ""
             }
            },
            "type": "scattermapbox"
           }
          ],
          "scatterpolar": [
           {
            "marker": {
             "colorbar": {
              "outlinewidth": 0,
              "ticks": ""
             }
            },
            "type": "scatterpolar"
           }
          ],
          "scatterpolargl": [
           {
            "marker": {
             "colorbar": {
              "outlinewidth": 0,
              "ticks": ""
             }
            },
            "type": "scatterpolargl"
           }
          ],
          "scatterternary": [
           {
            "marker": {
             "colorbar": {
              "outlinewidth": 0,
              "ticks": ""
             }
            },
            "type": "scatterternary"
           }
          ],
          "surface": [
           {
            "colorbar": {
             "outlinewidth": 0,
             "ticks": ""
            },
            "colorscale": [
             [
              0,
              "#0d0887"
             ],
             [
              0.1111111111111111,
              "#46039f"
             ],
             [
              0.2222222222222222,
              "#7201a8"
             ],
             [
              0.3333333333333333,
              "#9c179e"
             ],
             [
              0.4444444444444444,
              "#bd3786"
             ],
             [
              0.5555555555555556,
              "#d8576b"
             ],
             [
              0.6666666666666666,
              "#ed7953"
             ],
             [
              0.7777777777777778,
              "#fb9f3a"
             ],
             [
              0.8888888888888888,
              "#fdca26"
             ],
             [
              1,
              "#f0f921"
             ]
            ],
            "type": "surface"
           }
          ],
          "table": [
           {
            "cells": {
             "fill": {
              "color": "#EBF0F8"
             },
             "line": {
              "color": "white"
             }
            },
            "header": {
             "fill": {
              "color": "#C8D4E3"
             },
             "line": {
              "color": "white"
             }
            },
            "type": "table"
           }
          ]
         },
         "layout": {
          "height": 800,
          "legend": {
           "bordercolor": "black",
           "borderwidth": 1,
           "x": 1.1,
           "xanchor": "right",
           "y": 1.1,
           "yanchor": "bottom"
          },
          "margin": {
           "t": 200
          },
          "plot_bgcolor": "white",
          "showlegend": true,
          "title": {
           "font": {
            "color": "black",
            "family": "Arial",
            "size": 24,
            "weight": "bold"
           },
           "x": 0.5,
           "y": 0.98
          },
          "width": 1300,
          "xaxis": {
           "gridcolor": "lightgrey",
           "linecolor": "black",
           "showgrid": true,
           "showline": true,
           "tickcolor": "black",
           "tickfont": {
            "family": "Arial",
            "size": 14
           },
           "ticklen": 5,
           "ticks": "outside",
           "tickwidth": 2,
           "title": {
            "font": {
             "family": "Arial",
             "size": 18,
             "weight": "bold"
            }
           }
          },
          "yaxis": {
           "gridcolor": "lightgrey",
           "linecolor": "black",
           "showgrid": true,
           "showline": true,
           "tickcolor": "black",
           "tickfont": {
            "family": "Arial",
            "size": 14
           },
           "ticklen": 5,
           "ticks": "outside",
           "tickwidth": 2,
           "title": {
            "font": {
             "family": "Arial",
             "size": 18,
             "weight": "bold"
            }
           }
          },
          "yaxis2": {
           "gridcolor": "lightgrey",
           "linecolor": "black",
           "showgrid": false,
           "showline": true,
           "tickcolor": "black",
           "tickfont": {
            "family": "Arial",
            "size": 14
           },
           "ticklen": 5,
           "ticks": "outside",
           "tickwidth": 2,
           "title": {
            "font": {
             "family": "Arial",
             "size": 18,
             "weight": "bold"
            }
           }
          }
         }
        },
        "title": {
         "text": "C-12C drag polar"
        },
        "width": 1515.6,
        "xaxis": {
         "title": {
          "text": "Drag coefficient, C<sub>D</sub>"
         }
        },
        "yaxis": {
         "title": {
          "text": "Lif coefficient, C<sub>L</sub>"
         }
        }
       }
      }
     },
     "metadata": {},
     "output_type": "display_data"
    }
   ],
   "source": [
    "if ID==[]:\n",
    "    #if no ID is specified, plot all maneuvers\n",
    "    ID=data['ID'].unique()\n",
    "\n",
    "selected_data=data[data['ID'].isin(ID)]\n",
    "\n",
    "\n",
    "for airspeed_cat in ['120','150','180']:\n",
    "    filtered_data = selected_data[selected_data['Label'].str.contains(airspeed_cat, na=False)]\n",
    "    for conf, group in filtered_data.groupby('Conf'):\n",
    "\n",
    "        #get theorical curves for CL\n",
    "        CT=filtered_data['CT'].mean() #CT value for the maneuver. Used to draw the theorical CL curve.\n",
    "        AOA=np.linspace(-2,19,100) #AOA range for the theorical CL curve.\n",
    "        CL_vectorized=np.vectorize(libs.das.C12_CL_theo)\n",
    "        CL_theo=CL_vectorized(CT,AOA,conf) #theorical CL curve.\n",
    "        CL_theo__max=CL_theo+0.1\n",
    "        CL_theo__min=CL_theo-0.1\n",
    "\n",
    "        #get theorical curves for CD\n",
    "        CD_vectorized=np.vectorize(libs.das.C12_CD_theo)\n",
    "        CD_theo=CD_vectorized(CL_theo,CT,conf) #theorical CD curve.\n",
    "        CD_theo__max=CD_theo+0.03\n",
    "        CD_theo__min=CD_theo-0.03\n",
    "\n",
    "        fig=go.Figure()\n",
    "        fig2=go.Figure()\n",
    "\n",
    "        fig.update_layout(\n",
    "            template=matlab_template,\n",
    "            # title=f\"C-12C lift curve {maneuver_name} ({conf} configuration)\",\n",
    "            title=\"C-12C Lift Curve\",\n",
    "            xaxis=dict(title='Angle of attack, α (deg)',range=[-2,15],),\n",
    "            yaxis=dict(title='Lif coefficient, C<sub>L</sub>',range=[0,1.5],),\n",
    "        )\n",
    "        #plot theorical curves for CL=f(alpha)\n",
    "        fig.add_trace(go.Scatter(x=AOA, y=CL_theo,yaxis='y',mode='lines', name='theoretical CL curve',showlegend=False,line=dict(color='black')))\n",
    "        fig.add_trace(go.Scatter(x=AOA, y=CL_theo__max,yaxis='y',mode='lines', name='theoretical CL curve +/- 0.1',showlegend=False,line=dict(color='black',dash='dash')))\n",
    "        fig.add_trace(go.Scatter(x=AOA, y=CL_theo__min,yaxis='y',mode='lines', name='theoretical CL curve +/- 0.1',showlegend=False,line=dict(color='black',dash='dash')))\n",
    "\n",
    "        fig2.update_layout(\n",
    "            template=matlab_template,\n",
    "            # title=f\"C-12C drag polar {maneuver_name} ({conf} configuration)\",\n",
    "            title=\"C-12C Drag Polar\",\n",
    "            xaxis=dict(title='Drag coefficient, C<sub>D</sub>',),\n",
    "            yaxis=dict(title='Lif coefficient, C<sub>L</sub>',),\n",
    "        )\n",
    "        #plot theorical curves for CL=f(CD)\n",
    "        fig2.add_trace(go.Scatter(x=CD_theo, y=CL_theo,yaxis='y',mode='lines', name='theoretical CL curve',showlegend=False,line=dict(color='black')))\n",
    "        fig2.add_trace(go.Scatter(x=CD_theo__max, y=CL_theo,yaxis='y',mode='lines', name='theoretical CL curve +/- 0.03',showlegend=False,line=dict(color='black',dash='dash')))\n",
    "        fig2.add_trace(go.Scatter(x=CD_theo__min, y=CL_theo,yaxis='y',mode='lines', name='theoretical CL curve  +/- 0.03',showlegend=False,line=dict(color='black',dash='dash')))\n",
    "\n",
    "        legend_RC=False\n",
    "        legendW_UT=False\n",
    "        #plot data by maneuver\n",
    "        for conf_group in group.groupby('ID'):\n",
    "            marker='cross' if 'RC' in conf_group['Label'].iloc[0] else 'triangle-up-open'\n",
    "            maneuver='Roller coaster' if 'RC' in conf_group['Label'].iloc[0] else 'Wind-up turn'\n",
    "            size=6 if 'RC' in conf_group['Label'].iloc[0] else 10\n",
    "            color='grey' if 'RC' in conf_group['Label'].iloc[0] else 'black'\n",
    "\n",
    "            if maneuver=='Roller coaster'and not legend_RC :\n",
    "                showlegend=True\n",
    "                legend_RC=True\n",
    "            elif maneuver=='Wind-up turn' and not legendW_UT:\n",
    "                showlegend=True\n",
    "                legendW_UT=True\n",
    "            else:\n",
    "                showlegend=False\n",
    "            fig.add_trace(go.Scatter(x=conf_group['AOA_true'], y=conf_group['CL'],yaxis='y',mode='markers', showlegend=showlegend, marker=dict(symbol=marker, size=size,color=color), name=maneuver))\n",
    "            fig2.add_trace(go.Scatter(x=conf_group['CD'], y=conf_group['CL'],yaxis='y',mode='markers', showlegend=showlegend, marker=dict(symbol=marker,size=size,color=color), name=maneuver))\n",
    "\n",
    "\n",
    "            fig.update_layout(width=8.42*180, height=6.4*180, legend=dict(yanchor=\"bottom\", y=0.01, xanchor=\"right\", x=0.99))\n",
    "            fig2.update_layout(width=8.42*180, height=6.4*180, legend=dict(yanchor=\"bottom\", y=0.01, xanchor=\"right\", x=0.99))\n",
    "\n",
    "            if conf=='Cruise':\n",
    "                conf_extended='Cruise'\n",
    "            elif conf=='Approach':\n",
    "                conf_extended='Approach (gear down, flaps 40%)'\n",
    "            elif conf=='Landing':\n",
    "                conf_extended='Landing (gear down, flaps 40%)'\n",
    "\n",
    "            #adding annotation on lift curve\n",
    "            fig.add_shape(type=\"rect\", xref=\"paper\", yref=\"paper\",\n",
    "                x0=0, y0=1.05,     # Bottom-left corner\n",
    "                x1=1, y1=1.15,     # Top-right corner\n",
    "                line=dict(color=\"black\", width=2,),\n",
    "                layer=\"below\",     # 'above' or 'below' the data\n",
    "            )\n",
    "\n",
    "\n",
    "            fig.add_annotation(x=0, y=1.15, xref=\"paper\", yref=\"paper\",align='left',\n",
    "                font=dict(size=16, color=\"black\",family=\"Arial\"),\n",
    "                text=f\"<b>Configuration:</b> {conf_extended}<br><b>Pressure altitude:</b> 15 000 ft<br><b>Weight:</b> 11'500 lb to 12'000 lb<br><b>CG:</b> 20 to 20.5%<br>\",\n",
    "                showarrow=False,)\n",
    "\n",
    "            fig.add_annotation(x=0.55, y=1.15, xref=\"paper\", yref=\"paper\",align='left',\n",
    "                font=dict(size=16, color=\"black\",family=\"Arial\"),\n",
    "                text=f\"<b>Data basis:</b> Flight test<br><b>Test date:</b> April 30th, 2025<br><b>Tail number:</b> 215 (with YAPS)<br><b>Airspeed:</b> {airspeed_cat} KIAS<br>\",\n",
    "                showarrow=False,)\n",
    "\n",
    "             #adding annotation on drag polar\n",
    "            fig2.add_shape(type=\"rect\", xref=\"paper\", yref=\"paper\",\n",
    "                x0=0, y0=1.05,     # Bottom-left corner\n",
    "                x1=1, y1=1.15,     # Top-right corner\n",
    "                line=dict(color=\"black\", width=2,),\n",
    "                layer=\"below\",     # 'above' or 'below' the data\n",
    "            )\n",
    "\n",
    "            fig2.add_annotation(x=0, y=1.15, xref=\"paper\", yref=\"paper\",align='left',\n",
    "                font=dict(size=16, color=\"black\",family=\"Arial\"),\n",
    "                text=f\"<b>Configuration:</b> {conf_extended}<br><b>Pressure altitude:</b> 15 000 ft<br><b>Weight:</b> 11'500 lb to 12'000 lb<br><b>CG:</b> 20 to 20.5%<br>\",\n",
    "                showarrow=False,)\n",
    "\n",
    "            fig2.add_annotation(x=0.55, y=1.15, xref=\"paper\", yref=\"paper\",align='left',\n",
    "                font=dict(size=16, color=\"black\",family=\"Arial\"),\n",
    "                text=f\"<b>Data basis:</b> Flight test<br><b>Test date:</b> April 30th, 2025<br><b>Tail number:</b> 215 (with YAPS)<br><b>Airspeed:</b> {airspeed_cat} KIAS<br>\",\n",
    "                showarrow=False,)\n",
    "\n",
    "            fig.update_layout(showlegend=True, legend=dict(font=dict(size=16, color=\"black\",family=\"Arial\"),),)\n",
    "            fig2.update_layout(showlegend=True, legend=dict(font=dict(size=16, color=\"black\",family=\"Arial\"),),)\n",
    "\n",
    "        fig.show()\n",
    "        fig2.show()\n",
    "\n",
    "        CD_error=filtered_data['CD']-filtered_data['CD_theo']\n",
    "\n",
    "        # fig4=go.Figure()\n",
    "        # fig4.update_layout(template=matlab_template,)\n",
    "        # symbols = np.where(filtered_data['Label'].str.contains('Flip', na=False), 'circle', 'x')\n",
    "        # fig4.add_trace(go.Scatter(x=filtered_data['AOSS'], y=CD_error,yaxis='y',mode='markers', marker=dict(symbol= symbols), name='CD error'))\n",
    "        # fig4.show()\n",
    "\n",
    "    # fig.write_image(\"data/Aeromod/lift_coeff_\"+conf+\".png\", engine='kaleido')\n",
    "    # fig2.write_image(\"data/Aeromod/drag_coeff_\"+conf+\".png\", engine='kaleido')\n",
    "\n",
    "\n",
    "# for column in ['AOA_true','Torque','CL']:\n",
    "#     fig3=go.Figure()\n",
    "#     fig3.update_layout(\n",
    "#         template=matlab_template,\n",
    "#         xaxis=dict(title=column),\n",
    "#         yaxis=dict(title='Cd-CdTheo',),\n",
    "#     )\n",
    "\n",
    "#     fig3.add_trace(go.Scatter(x=filtered_data[column], y=CD_error,yaxis='y',mode='markers', marker=dict(symbol='circle'), name='CD error'))\n",
    "#     fig3.show()\n",
    "\n",
    "# fig5=go.Figure()\n",
    "# fig5.update_layout(template=matlab_template,)\n",
    "# symbols = np.where(filtered_data['Label'].str.contains('Flip', na=False), 'circle', 'x')\n",
    "# fig5.add_trace(go.Scatter(x=filtered_data['CAS'], y=np.abs(filtered_data['AOSS']),yaxis='y',mode='markers', marker=dict(symbol= symbols), name='CD error'))\n",
    "# fig5.show()"
   ]
  }
 ],
 "metadata": {
  "kernelspec": {
   "display_name": "Python 3",
   "language": "python",
   "name": "python3"
  },
  "language_info": {
   "codemirror_mode": {
    "name": "ipython",
    "version": 3
   },
   "file_extension": ".py",
   "mimetype": "text/x-python",
   "name": "python",
   "nbconvert_exporter": "python",
   "pygments_lexer": "ipython3",
   "version": "3.13.0"
  }
 },
 "nbformat": 4,
 "nbformat_minor": 5
}
