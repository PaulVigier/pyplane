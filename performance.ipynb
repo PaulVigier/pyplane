{
 "cells": [
  {
   "cell_type": "markdown",
   "metadata": {},
   "source": [
    "# Performances FTT\n",
    "\n",
    "## Initialization"
   ]
  },
  {
   "cell_type": "code",
   "execution_count": 1,
   "metadata": {},
   "outputs": [],
   "source": [
    "import libs\n",
    "import numpy as np\n",
    "smooth='1s' #time to use for rolling average (as string with integer: ex : '1s' or '500ms')\n",
    "# data=libs.das.das_read(r\"data\\Perf\\2025-04-08 Flight 1 Centanni\\20250408_Centanni_215_FTT.csv\",'C-12')  #flight 1\n",
    "# data=libs.das.das_read(r\"data\\Perf\\2025-04-17 Flight 3 Centanni\\20250417_Centanni_158_full.csv\",'C-12')  #flight 3\n",
    "# data=libs.das.das_read(r\"data\\Perf\\2025-04-18 Flight 4 Kyle\\20250418_KYLE_158_Perf Data.csv\",'C-12')  #flight 4\n",
    "# data=libs.das.das_read(r\"data\\Perf\\2025-04-22 Flight 5 Vigier\\20250422_Worden_158_Turn Perf.csv\",'C-12')  #flight 5\n",
    "data=libs.das.das_read(r\"data\\Perf\\2025-05-25 Flight 6 Kyle\\20250425_Williams_215_Perf Data.csv\",'C-12')  #flight 5\n",
    "\n",
    "YAPS=True #True if aircraft is YAPS equipped, False if not"
   ]
  },
  {
   "cell_type": "markdown",
   "metadata": {},
   "source": [
    "### Sawtooth climb\n",
    "\n",
    "Enter begin and end of climbs in sawtooth_times"
   ]
  },
  {
   "cell_type": "code",
   "execution_count": null,
   "metadata": {},
   "outputs": [],
   "source": [
    "sawtooth_times=np.array([\n",
    "                # ['17:06:19','17:06:43'], #flight 3 10k 140               #format is [['Begin1','End1],['Begin2','End2'],...] with time in HH:MM:SS or HH:MM:SS.ss\n",
    "                # ['17:10:15','17:10:37'], #flight 3 10k 140\n",
    "                # ['17:14:41','17:15:14'], #flight 3 10k 180\n",
    "                # ['17:17:26','17:17:56'], #flight 3 10k 180\n",
    "                # ['17:20:39','17:21:07'], #flight 3 10k 180 (not used)\n",
    "                # ['15:31:49','15:32:16'], #flight 4 15k 140\n",
    "                # ['15:38:04','15:38:32'], #flight 4 15k 140\n",
    "                # ['15:42:09','15:42:55'], #flight 4 15k 180\n",
    "                # ['15:45:43','15:46:20'], #flight 4 15k 180\n",
    "                # ['17:40:25','17:40:48'], #flight 5 7k 130\n",
    "                # ['17:43:33','17:44:00'], #flight 5 7k 130\n",
    "                # ['17:48:16','17:48:46'], #flight 5 7k 170\n",
    "                # ['17:53:03','17:53:30'], #flight 5 7k 170\n",
    "                # ['18:41:46','18:42:09'], #flight 5 7k 97\n",
    "                # ['18:44:26','18:44:50'], #flight 5 7k 97\n",
    "                # ['18:47:35','18:47:59'], #flight 5 10k 97\n",
    "                # ['18:50:16','18:50:39'], #flight 5 10k 97\n",
    "                # ['18:52:42','18:53:11'], #flight 5 15k 99\n",
    "                # ['18:55:32','18:55:57'], #flight 5 15k 99\n",
    "                # ['18:58:13','18:58:41'], #flight 5 20k 99\n",
    "                # ['19:01:07','19:01:35'], #flight 5 20k 99\n",
    "                # ['16:57:57','16:59:07'], #flight 6 7k 208\n",
    "                # ['17:02:53','17:04:07'], #flight 6 7k 208\n",
    "                # ['17:07:56','17:08:25'], #flight 6 7k 156\n",
    "                # ['17:11:57','17:12:25'], #flight 6 7k 156\n",
    "                # ['17:15:05','17:15:27'], #flight 6 7k 110\n",
    "                # ['17:18:09','17:18:33'], #flight 6 7k 110\n",
    "               ])\n",
    "\n",
    "if sawtooth_times.size>0:\n",
    "    libs.perf.sawtooth_climb(data,sawtooth_times,smooth, YAPS=YAPS,graphs=True)"
   ]
  },
  {
   "cell_type": "markdown",
   "metadata": {},
   "source": [
    "### Level accel\n",
    "\n",
    "Enter begin and end of level accels"
   ]
  },
  {
   "cell_type": "code",
   "execution_count": null,
   "metadata": {},
   "outputs": [
    {
     "data": {
      "application/vnd.plotly.v1+json": {
       "config": {
        "plotlyServerURL": "https://plot.ly"
       },
       "data": [
        {
         "mode": "markers",
         "name": "Level accel 0",
         "type": "scatter",
         "x": [
          "2025-04-25T17:24:16.000000000",
          "2025-04-25T17:24:17.000000000",
          "2025-04-25T17:24:18.000000000",
          "2025-04-25T17:24:19.000000000",
          "2025-04-25T17:24:20.000000000",
          "2025-04-25T17:24:21.000000000",
          "2025-04-25T17:24:22.000000000",
          "2025-04-25T17:24:23.000000000",
          "2025-04-25T17:24:24.000000000",
          "2025-04-25T17:24:25.000000000",
          "2025-04-25T17:24:26.000000000",
          "2025-04-25T17:24:27.000000000",
          "2025-04-25T17:24:28.000000000",
          "2025-04-25T17:24:29.000000000",
          "2025-04-25T17:24:30.000000000",
          "2025-04-25T17:24:31.000000000",
          "2025-04-25T17:24:32.000000000",
          "2025-04-25T17:24:33.000000000",
          "2025-04-25T17:24:34.000000000",
          "2025-04-25T17:24:35.000000000",
          "2025-04-25T17:24:36.000000000",
          "2025-04-25T17:24:37.000000000",
          "2025-04-25T17:24:38.000000000",
          "2025-04-25T17:24:39.000000000",
          "2025-04-25T17:24:40.000000000",
          "2025-04-25T17:24:41.000000000",
          "2025-04-25T17:24:42.000000000",
          "2025-04-25T17:24:43.000000000",
          "2025-04-25T17:24:44.000000000",
          "2025-04-25T17:24:45.000000000",
          "2025-04-25T17:24:46.000000000",
          "2025-04-25T17:24:47.000000000",
          "2025-04-25T17:24:48.000000000",
          "2025-04-25T17:24:49.000000000",
          "2025-04-25T17:24:50.000000000",
          "2025-04-25T17:24:51.000000000",
          "2025-04-25T17:24:52.000000000",
          "2025-04-25T17:24:53.000000000",
          "2025-04-25T17:24:54.000000000",
          "2025-04-25T17:24:55.000000000",
          "2025-04-25T17:24:56.000000000",
          "2025-04-25T17:24:57.000000000",
          "2025-04-25T17:24:58.000000000",
          "2025-04-25T17:24:59.000000000",
          "2025-04-25T17:25:00.000000000",
          "2025-04-25T17:25:01.000000000",
          "2025-04-25T17:25:02.000000000",
          "2025-04-25T17:25:03.000000000",
          "2025-04-25T17:25:04.000000000",
          "2025-04-25T17:25:05.000000000",
          "2025-04-25T17:25:06.000000000",
          "2025-04-25T17:25:07.000000000",
          "2025-04-25T17:25:08.000000000",
          "2025-04-25T17:25:09.000000000",
          "2025-04-25T17:25:10.000000000",
          "2025-04-25T17:25:11.000000000",
          "2025-04-25T17:25:12.000000000",
          "2025-04-25T17:25:13.000000000",
          "2025-04-25T17:25:14.000000000",
          "2025-04-25T17:25:15.000000000",
          "2025-04-25T17:25:16.000000000",
          "2025-04-25T17:25:17.000000000",
          "2025-04-25T17:25:18.000000000",
          "2025-04-25T17:25:19.000000000",
          "2025-04-25T17:25:20.000000000",
          "2025-04-25T17:25:21.000000000",
          "2025-04-25T17:25:22.000000000",
          "2025-04-25T17:25:23.000000000",
          "2025-04-25T17:25:24.000000000",
          "2025-04-25T17:25:25.000000000",
          "2025-04-25T17:25:26.000000000",
          "2025-04-25T17:25:27.000000000",
          "2025-04-25T17:25:28.000000000",
          "2025-04-25T17:25:29.000000000",
          "2025-04-25T17:25:30.000000000",
          "2025-04-25T17:25:31.000000000",
          "2025-04-25T17:25:32.000000000",
          "2025-04-25T17:25:33.000000000",
          "2025-04-25T17:25:34.000000000",
          "2025-04-25T17:25:35.000000000",
          "2025-04-25T17:25:36.000000000",
          "2025-04-25T17:25:37.000000000",
          "2025-04-25T17:25:38.000000000",
          "2025-04-25T17:25:39.000000000",
          "2025-04-25T17:25:40.000000000",
          "2025-04-25T17:25:41.000000000",
          "2025-04-25T17:25:42.000000000",
          "2025-04-25T17:25:43.000000000",
          "2025-04-25T17:25:44.000000000",
          "2025-04-25T17:25:45.000000000",
          "2025-04-25T17:25:46.000000000",
          "2025-04-25T17:25:47.000000000",
          "2025-04-25T17:25:48.000000000",
          "2025-04-25T17:25:49.000000000",
          "2025-04-25T17:25:50.000000000",
          "2025-04-25T17:25:51.000000000",
          "2025-04-25T17:25:52.000000000",
          "2025-04-25T17:25:53.000000000",
          "2025-04-25T17:25:54.000000000",
          "2025-04-25T17:25:55.000000000",
          "2025-04-25T17:25:56.000000000",
          "2025-04-25T17:25:57.000000000",
          "2025-04-25T17:25:58.000000000",
          "2025-04-25T17:25:59.000000000"
         ],
         "xaxis": "x",
         "y": {
          "bdata": "NcbidbaFvUArhecyo6+9QLbaZ4Lu271Ag+8SOdgJvkBsqRsHKD++QAS3oiRtdb5AgtFSdjubvkDOtR+2TcC+QL46HU7B775AkWgbwhoRv0A++ZntcjW/QBvqB4Sier9Ao2KUcE+Yv0DLO2TwfLW/QHsZFEYf579AUye0rY8IwEA4/hRZMh/AQDroMWB1L8BAQhIhg/o+wECtnaP3JFTAQBnI092VZcBA4Tn4czd5wEAv9AcpK5LAQC12W6jlqsBAXImYOh29wED2KUy2pdHAQAocjrbQ4sBAy8aOTQf4wEBoG3SKOArBQH3oF/QHIcFAF85UZSU4wUCXTQ1PIU3BQHc0b90jXsFAatgJq8ZwwUAaHmay84HBQPohc0YElMFAlzo+nsadwUCprSFMFq3BQOW5fQ1LvcFA5wavNxXNwUCHbxuuINvBQJAS67Wv6cFA1ULPSyzwwUBC6uYznfvBQKXj/W4LBMJAXcvENakHwkA9DOVSTA7CQBb4et/sDcJACkDcQwkGwkApLxCDbxLCQPz6vlIHIsJA7Joe9vsowkD7ijZHaTTCQG7KNamIQcJAikTERblQwkBk+V7Jh1/CQProBTT0bcJARvzYpoV8wkCx/LNMlIfCQMrtxPmyjMJAyu3E+bKMwkBmNGsYnpnCQEj9WJhCosJAFWt0tEKnwkBWCs9lRqzCQAzbaKxNscJA9kSv4yXFwkDW0Z0netLCQMyTj/0w1sJAgK4aLX3dwkAAVRreCOfCQH9hOv6O7cJA/ZSjKqr0wkAlP05EL/zCQOkrmF8pEMNA9kMLxWgFw0D2QwvFaALDQGwIr0/y9MJAggMq9t/0wkC/yAYI1AHDQHpZ/oV6+sJAbAivT3LxwkB80ANa9wLDQP9aucOICcNAeurvtK8Aw0BPRWSP7QrDQGsoNgYgCsNAqr65jA0Dw0CLytIVhQjDQMhxOxkbD8NAayg2BqAJw0BCfGElt/3CQHpZ/oV6+8JABnY4jeEJw0CEqAqRhQjDQOAkURlUBMNAFgRKOXr5wkBw01aoRO3CQPAz6/bR88JAMQkvqeoBw0CqnNYuIxXDQHrq77SvIcNAayg2BqAmw0BBl4DoNDDDQA==",
          "dtype": "f8"
         },
         "yaxis": "y"
        },
        {
         "line": {
          "color": "red"
         },
         "name": "Level accel 0",
         "type": "scatter",
         "x": [
          "2025-04-25T17:24:16.000000000",
          "2025-04-25T17:24:17.000000000",
          "2025-04-25T17:24:18.000000000",
          "2025-04-25T17:24:19.000000000",
          "2025-04-25T17:24:20.000000000",
          "2025-04-25T17:24:21.000000000",
          "2025-04-25T17:24:22.000000000",
          "2025-04-25T17:24:23.000000000",
          "2025-04-25T17:24:24.000000000",
          "2025-04-25T17:24:25.000000000",
          "2025-04-25T17:24:26.000000000",
          "2025-04-25T17:24:27.000000000",
          "2025-04-25T17:24:28.000000000",
          "2025-04-25T17:24:29.000000000",
          "2025-04-25T17:24:30.000000000",
          "2025-04-25T17:24:31.000000000",
          "2025-04-25T17:24:32.000000000",
          "2025-04-25T17:24:33.000000000",
          "2025-04-25T17:24:34.000000000",
          "2025-04-25T17:24:35.000000000",
          "2025-04-25T17:24:36.000000000",
          "2025-04-25T17:24:37.000000000",
          "2025-04-25T17:24:38.000000000",
          "2025-04-25T17:24:39.000000000",
          "2025-04-25T17:24:40.000000000",
          "2025-04-25T17:24:41.000000000",
          "2025-04-25T17:24:42.000000000",
          "2025-04-25T17:24:43.000000000",
          "2025-04-25T17:24:44.000000000",
          "2025-04-25T17:24:45.000000000",
          "2025-04-25T17:24:46.000000000",
          "2025-04-25T17:24:47.000000000",
          "2025-04-25T17:24:48.000000000",
          "2025-04-25T17:24:49.000000000",
          "2025-04-25T17:24:50.000000000",
          "2025-04-25T17:24:51.000000000",
          "2025-04-25T17:24:52.000000000",
          "2025-04-25T17:24:53.000000000",
          "2025-04-25T17:24:54.000000000",
          "2025-04-25T17:24:55.000000000",
          "2025-04-25T17:24:56.000000000",
          "2025-04-25T17:24:57.000000000",
          "2025-04-25T17:24:58.000000000",
          "2025-04-25T17:24:59.000000000",
          "2025-04-25T17:25:00.000000000",
          "2025-04-25T17:25:01.000000000",
          "2025-04-25T17:25:02.000000000",
          "2025-04-25T17:25:03.000000000",
          "2025-04-25T17:25:04.000000000",
          "2025-04-25T17:25:05.000000000",
          "2025-04-25T17:25:06.000000000",
          "2025-04-25T17:25:07.000000000",
          "2025-04-25T17:25:08.000000000",
          "2025-04-25T17:25:09.000000000",
          "2025-04-25T17:25:10.000000000",
          "2025-04-25T17:25:11.000000000",
          "2025-04-25T17:25:12.000000000",
          "2025-04-25T17:25:13.000000000",
          "2025-04-25T17:25:14.000000000",
          "2025-04-25T17:25:15.000000000",
          "2025-04-25T17:25:16.000000000",
          "2025-04-25T17:25:17.000000000",
          "2025-04-25T17:25:18.000000000",
          "2025-04-25T17:25:19.000000000",
          "2025-04-25T17:25:20.000000000",
          "2025-04-25T17:25:21.000000000",
          "2025-04-25T17:25:22.000000000",
          "2025-04-25T17:25:23.000000000",
          "2025-04-25T17:25:24.000000000",
          "2025-04-25T17:25:25.000000000",
          "2025-04-25T17:25:26.000000000",
          "2025-04-25T17:25:27.000000000",
          "2025-04-25T17:25:28.000000000",
          "2025-04-25T17:25:29.000000000",
          "2025-04-25T17:25:30.000000000",
          "2025-04-25T17:25:31.000000000",
          "2025-04-25T17:25:32.000000000",
          "2025-04-25T17:25:33.000000000",
          "2025-04-25T17:25:34.000000000",
          "2025-04-25T17:25:35.000000000",
          "2025-04-25T17:25:36.000000000",
          "2025-04-25T17:25:37.000000000",
          "2025-04-25T17:25:38.000000000",
          "2025-04-25T17:25:39.000000000",
          "2025-04-25T17:25:40.000000000",
          "2025-04-25T17:25:41.000000000",
          "2025-04-25T17:25:42.000000000",
          "2025-04-25T17:25:43.000000000",
          "2025-04-25T17:25:44.000000000",
          "2025-04-25T17:25:45.000000000",
          "2025-04-25T17:25:46.000000000",
          "2025-04-25T17:25:47.000000000",
          "2025-04-25T17:25:48.000000000",
          "2025-04-25T17:25:49.000000000",
          "2025-04-25T17:25:50.000000000",
          "2025-04-25T17:25:51.000000000",
          "2025-04-25T17:25:52.000000000",
          "2025-04-25T17:25:53.000000000",
          "2025-04-25T17:25:54.000000000",
          "2025-04-25T17:25:55.000000000",
          "2025-04-25T17:25:56.000000000",
          "2025-04-25T17:25:57.000000000",
          "2025-04-25T17:25:58.000000000",
          "2025-04-25T17:25:59.000000000"
         ],
         "xaxis": "x",
         "y": {
          "bdata": "l9pK3ip7vUCAviSJb6q9QD43SBhw2b1ASsd8NCgIvkCwD1mgkza+QA7QQjiuZL5Ak+Zu8nOSvkAAUOHe4L++QKonbSfx7L5Adae0D6EZv0DaJyn17EW/QOQfC0/Rcb9ALCVqrkqdv0Dj6yS+Vci/QMhG6ULv8r9AlxOaDYoOwEB8zqifYCPAQE5rruD5N8BAkhCgZlRMwEAVdFrUbmDAQO3aodlHdMBAehkiM96HwEBkk26qMJvAQJw7AhY+rsBAXpQ/WQXBwEArr3BkhdPAQNIsxzS95cBAZz1c1Kv3wEBJoDBaUAnBQCCkLOqpGsFA3CYgtbcrwUC3lcL4eDzBQDTtsv/sTMFAH7l3IRNdwUCNFH/C6mzBQNupHlRzfMFAsLKTVKyLwUD89wJPlZrBQPnReNstqcFAKCjpnnW3wUBVcS9LbMXBQJOzDp8R08FAQIQxZmXgwUABCCp5Z+3BQMbycb0X+sFAyIdqJXYGwkCHmVywghLCQM6JeGo9HsJAsEnWbKYpwkCKWXXdvTTCQAHJPO+DP8JABDf74fhJwkDK0WYCHVTCQNNWHarwXcJA6hKkP3RnwkAh4mc2qHDCQNMvvQ6NecJApvbfVSOCwkCGwPOla4rCQKymA6ZmksJAllECChWawkAO+cmSd6HCQCVkHA6PqMJANumiVlyvwkDmbe5T4LXCQCFnd/obvMJAHtmdSxDCwkBbV6lVvsfCQKEEyTMnzcJAAJMTDkzSwkDUQ4cZLtfCQL7nCZjO28JArd5o2C7gwkDUF1k2UOTCQLMRdxo06MJAENpG+tvrwkD8DTRYSe/CQNDZkcN98sJAMPma2Hr1wkAHt3FAQvjCQIjtH7HV+sJAMgaX7Tb9wkDM+a/FZ//CQGVQKxZqAcNAViGxyD8Dw0BAE9HT6gTDQA9cAjttBsNA98CjDskHw0BzlvtrAAnDQEvAN30VCsNAjLFteQoLw0CQbJqk4QvDQPiCok+dDMNArBVS2D8Nw0Dh1Fypyw3DQBIAXjpDDsNABWbYD6kOw0DIZDa7/w7DQLLpydpJD8NAZHHMGYoPw0DHB18www/DQA1IiuP3D8NAslw+BSsQw0B5/1J0XxDDQA==",
          "dtype": "f8"
         },
         "yaxis": "y"
        }
       ],
       "layout": {
        "annotations": [
         {
          "font": {
           "size": 16
          },
          "showarrow": false,
          "text": "Level accel 1",
          "x": 0.47,
          "xanchor": "center",
          "xref": "paper",
          "y": 1,
          "yanchor": "bottom",
          "yref": "paper"
         }
        ],
        "height": 350,
        "showlegend": false,
        "template": {
         "data": {
          "bar": [
           {
            "error_x": {
             "color": "#2a3f5f"
            },
            "error_y": {
             "color": "#2a3f5f"
            },
            "marker": {
             "line": {
              "color": "#E5ECF6",
              "width": 0.5
             },
             "pattern": {
              "fillmode": "overlay",
              "size": 10,
              "solidity": 0.2
             }
            },
            "type": "bar"
           }
          ],
          "barpolar": [
           {
            "marker": {
             "line": {
              "color": "#E5ECF6",
              "width": 0.5
             },
             "pattern": {
              "fillmode": "overlay",
              "size": 10,
              "solidity": 0.2
             }
            },
            "type": "barpolar"
           }
          ],
          "carpet": [
           {
            "aaxis": {
             "endlinecolor": "#2a3f5f",
             "gridcolor": "white",
             "linecolor": "white",
             "minorgridcolor": "white",
             "startlinecolor": "#2a3f5f"
            },
            "baxis": {
             "endlinecolor": "#2a3f5f",
             "gridcolor": "white",
             "linecolor": "white",
             "minorgridcolor": "white",
             "startlinecolor": "#2a3f5f"
            },
            "type": "carpet"
           }
          ],
          "choropleth": [
           {
            "colorbar": {
             "outlinewidth": 0,
             "ticks": ""
            },
            "type": "choropleth"
           }
          ],
          "contour": [
           {
            "colorbar": {
             "outlinewidth": 0,
             "ticks": ""
            },
            "colorscale": [
             [
              0,
              "#0d0887"
             ],
             [
              0.1111111111111111,
              "#46039f"
             ],
             [
              0.2222222222222222,
              "#7201a8"
             ],
             [
              0.3333333333333333,
              "#9c179e"
             ],
             [
              0.4444444444444444,
              "#bd3786"
             ],
             [
              0.5555555555555556,
              "#d8576b"
             ],
             [
              0.6666666666666666,
              "#ed7953"
             ],
             [
              0.7777777777777778,
              "#fb9f3a"
             ],
             [
              0.8888888888888888,
              "#fdca26"
             ],
             [
              1,
              "#f0f921"
             ]
            ],
            "type": "contour"
           }
          ],
          "contourcarpet": [
           {
            "colorbar": {
             "outlinewidth": 0,
             "ticks": ""
            },
            "type": "contourcarpet"
           }
          ],
          "heatmap": [
           {
            "colorbar": {
             "outlinewidth": 0,
             "ticks": ""
            },
            "colorscale": [
             [
              0,
              "#0d0887"
             ],
             [
              0.1111111111111111,
              "#46039f"
             ],
             [
              0.2222222222222222,
              "#7201a8"
             ],
             [
              0.3333333333333333,
              "#9c179e"
             ],
             [
              0.4444444444444444,
              "#bd3786"
             ],
             [
              0.5555555555555556,
              "#d8576b"
             ],
             [
              0.6666666666666666,
              "#ed7953"
             ],
             [
              0.7777777777777778,
              "#fb9f3a"
             ],
             [
              0.8888888888888888,
              "#fdca26"
             ],
             [
              1,
              "#f0f921"
             ]
            ],
            "type": "heatmap"
           }
          ],
          "histogram": [
           {
            "marker": {
             "pattern": {
              "fillmode": "overlay",
              "size": 10,
              "solidity": 0.2
             }
            },
            "type": "histogram"
           }
          ],
          "histogram2d": [
           {
            "colorbar": {
             "outlinewidth": 0,
             "ticks": ""
            },
            "colorscale": [
             [
              0,
              "#0d0887"
             ],
             [
              0.1111111111111111,
              "#46039f"
             ],
             [
              0.2222222222222222,
              "#7201a8"
             ],
             [
              0.3333333333333333,
              "#9c179e"
             ],
             [
              0.4444444444444444,
              "#bd3786"
             ],
             [
              0.5555555555555556,
              "#d8576b"
             ],
             [
              0.6666666666666666,
              "#ed7953"
             ],
             [
              0.7777777777777778,
              "#fb9f3a"
             ],
             [
              0.8888888888888888,
              "#fdca26"
             ],
             [
              1,
              "#f0f921"
             ]
            ],
            "type": "histogram2d"
           }
          ],
          "histogram2dcontour": [
           {
            "colorbar": {
             "outlinewidth": 0,
             "ticks": ""
            },
            "colorscale": [
             [
              0,
              "#0d0887"
             ],
             [
              0.1111111111111111,
              "#46039f"
             ],
             [
              0.2222222222222222,
              "#7201a8"
             ],
             [
              0.3333333333333333,
              "#9c179e"
             ],
             [
              0.4444444444444444,
              "#bd3786"
             ],
             [
              0.5555555555555556,
              "#d8576b"
             ],
             [
              0.6666666666666666,
              "#ed7953"
             ],
             [
              0.7777777777777778,
              "#fb9f3a"
             ],
             [
              0.8888888888888888,
              "#fdca26"
             ],
             [
              1,
              "#f0f921"
             ]
            ],
            "type": "histogram2dcontour"
           }
          ],
          "mesh3d": [
           {
            "colorbar": {
             "outlinewidth": 0,
             "ticks": ""
            },
            "type": "mesh3d"
           }
          ],
          "parcoords": [
           {
            "line": {
             "colorbar": {
              "outlinewidth": 0,
              "ticks": ""
             }
            },
            "type": "parcoords"
           }
          ],
          "pie": [
           {
            "automargin": true,
            "type": "pie"
           }
          ],
          "scatter": [
           {
            "fillpattern": {
             "fillmode": "overlay",
             "size": 10,
             "solidity": 0.2
            },
            "type": "scatter"
           }
          ],
          "scatter3d": [
           {
            "line": {
             "colorbar": {
              "outlinewidth": 0,
              "ticks": ""
             }
            },
            "marker": {
             "colorbar": {
              "outlinewidth": 0,
              "ticks": ""
             }
            },
            "type": "scatter3d"
           }
          ],
          "scattercarpet": [
           {
            "marker": {
             "colorbar": {
              "outlinewidth": 0,
              "ticks": ""
             }
            },
            "type": "scattercarpet"
           }
          ],
          "scattergeo": [
           {
            "marker": {
             "colorbar": {
              "outlinewidth": 0,
              "ticks": ""
             }
            },
            "type": "scattergeo"
           }
          ],
          "scattergl": [
           {
            "marker": {
             "colorbar": {
              "outlinewidth": 0,
              "ticks": ""
             }
            },
            "type": "scattergl"
           }
          ],
          "scattermap": [
           {
            "marker": {
             "colorbar": {
              "outlinewidth": 0,
              "ticks": ""
             }
            },
            "type": "scattermap"
           }
          ],
          "scattermapbox": [
           {
            "marker": {
             "colorbar": {
              "outlinewidth": 0,
              "ticks": ""
             }
            },
            "type": "scattermapbox"
           }
          ],
          "scatterpolar": [
           {
            "marker": {
             "colorbar": {
              "outlinewidth": 0,
              "ticks": ""
             }
            },
            "type": "scatterpolar"
           }
          ],
          "scatterpolargl": [
           {
            "marker": {
             "colorbar": {
              "outlinewidth": 0,
              "ticks": ""
             }
            },
            "type": "scatterpolargl"
           }
          ],
          "scatterternary": [
           {
            "marker": {
             "colorbar": {
              "outlinewidth": 0,
              "ticks": ""
             }
            },
            "type": "scatterternary"
           }
          ],
          "surface": [
           {
            "colorbar": {
             "outlinewidth": 0,
             "ticks": ""
            },
            "colorscale": [
             [
              0,
              "#0d0887"
             ],
             [
              0.1111111111111111,
              "#46039f"
             ],
             [
              0.2222222222222222,
              "#7201a8"
             ],
             [
              0.3333333333333333,
              "#9c179e"
             ],
             [
              0.4444444444444444,
              "#bd3786"
             ],
             [
              0.5555555555555556,
              "#d8576b"
             ],
             [
              0.6666666666666666,
              "#ed7953"
             ],
             [
              0.7777777777777778,
              "#fb9f3a"
             ],
             [
              0.8888888888888888,
              "#fdca26"
             ],
             [
              1,
              "#f0f921"
             ]
            ],
            "type": "surface"
           }
          ],
          "table": [
           {
            "cells": {
             "fill": {
              "color": "#EBF0F8"
             },
             "line": {
              "color": "white"
             }
            },
            "header": {
             "fill": {
              "color": "#C8D4E3"
             },
             "line": {
              "color": "white"
             }
            },
            "type": "table"
           }
          ]
         },
         "layout": {
          "annotationdefaults": {
           "arrowcolor": "#2a3f5f",
           "arrowhead": 0,
           "arrowwidth": 1
          },
          "autotypenumbers": "strict",
          "coloraxis": {
           "colorbar": {
            "outlinewidth": 0,
            "ticks": ""
           }
          },
          "colorscale": {
           "diverging": [
            [
             0,
             "#8e0152"
            ],
            [
             0.1,
             "#c51b7d"
            ],
            [
             0.2,
             "#de77ae"
            ],
            [
             0.3,
             "#f1b6da"
            ],
            [
             0.4,
             "#fde0ef"
            ],
            [
             0.5,
             "#f7f7f7"
            ],
            [
             0.6,
             "#e6f5d0"
            ],
            [
             0.7,
             "#b8e186"
            ],
            [
             0.8,
             "#7fbc41"
            ],
            [
             0.9,
             "#4d9221"
            ],
            [
             1,
             "#276419"
            ]
           ],
           "sequential": [
            [
             0,
             "#0d0887"
            ],
            [
             0.1111111111111111,
             "#46039f"
            ],
            [
             0.2222222222222222,
             "#7201a8"
            ],
            [
             0.3333333333333333,
             "#9c179e"
            ],
            [
             0.4444444444444444,
             "#bd3786"
            ],
            [
             0.5555555555555556,
             "#d8576b"
            ],
            [
             0.6666666666666666,
             "#ed7953"
            ],
            [
             0.7777777777777778,
             "#fb9f3a"
            ],
            [
             0.8888888888888888,
             "#fdca26"
            ],
            [
             1,
             "#f0f921"
            ]
           ],
           "sequentialminus": [
            [
             0,
             "#0d0887"
            ],
            [
             0.1111111111111111,
             "#46039f"
            ],
            [
             0.2222222222222222,
             "#7201a8"
            ],
            [
             0.3333333333333333,
             "#9c179e"
            ],
            [
             0.4444444444444444,
             "#bd3786"
            ],
            [
             0.5555555555555556,
             "#d8576b"
            ],
            [
             0.6666666666666666,
             "#ed7953"
            ],
            [
             0.7777777777777778,
             "#fb9f3a"
            ],
            [
             0.8888888888888888,
             "#fdca26"
            ],
            [
             1,
             "#f0f921"
            ]
           ]
          },
          "colorway": [
           "#636efa",
           "#EF553B",
           "#00cc96",
           "#ab63fa",
           "#FFA15A",
           "#19d3f3",
           "#FF6692",
           "#B6E880",
           "#FF97FF",
           "#FECB52"
          ],
          "font": {
           "color": "#2a3f5f"
          },
          "geo": {
           "bgcolor": "white",
           "lakecolor": "white",
           "landcolor": "#E5ECF6",
           "showlakes": true,
           "showland": true,
           "subunitcolor": "white"
          },
          "hoverlabel": {
           "align": "left"
          },
          "hovermode": "closest",
          "mapbox": {
           "style": "light"
          },
          "paper_bgcolor": "white",
          "plot_bgcolor": "#E5ECF6",
          "polar": {
           "angularaxis": {
            "gridcolor": "white",
            "linecolor": "white",
            "ticks": ""
           },
           "bgcolor": "#E5ECF6",
           "radialaxis": {
            "gridcolor": "white",
            "linecolor": "white",
            "ticks": ""
           }
          },
          "scene": {
           "xaxis": {
            "backgroundcolor": "#E5ECF6",
            "gridcolor": "white",
            "gridwidth": 2,
            "linecolor": "white",
            "showbackground": true,
            "ticks": "",
            "zerolinecolor": "white"
           },
           "yaxis": {
            "backgroundcolor": "#E5ECF6",
            "gridcolor": "white",
            "gridwidth": 2,
            "linecolor": "white",
            "showbackground": true,
            "ticks": "",
            "zerolinecolor": "white"
           },
           "zaxis": {
            "backgroundcolor": "#E5ECF6",
            "gridcolor": "white",
            "gridwidth": 2,
            "linecolor": "white",
            "showbackground": true,
            "ticks": "",
            "zerolinecolor": "white"
           }
          },
          "shapedefaults": {
           "line": {
            "color": "#2a3f5f"
           }
          },
          "ternary": {
           "aaxis": {
            "gridcolor": "white",
            "linecolor": "white",
            "ticks": ""
           },
           "baxis": {
            "gridcolor": "white",
            "linecolor": "white",
            "ticks": ""
           },
           "bgcolor": "#E5ECF6",
           "caxis": {
            "gridcolor": "white",
            "linecolor": "white",
            "ticks": ""
           }
          },
          "title": {
           "x": 0.05
          },
          "xaxis": {
           "automargin": true,
           "gridcolor": "white",
           "linecolor": "white",
           "ticks": "",
           "title": {
            "standoff": 15
           },
           "zerolinecolor": "white",
           "zerolinewidth": 2
          },
          "yaxis": {
           "automargin": true,
           "gridcolor": "white",
           "linecolor": "white",
           "ticks": "",
           "title": {
            "standoff": 15
           },
           "zerolinecolor": "white",
           "zerolinewidth": 2
          }
         }
        },
        "title": {
         "text": "Level accels"
        },
        "width": 1200,
        "xaxis": {
         "anchor": "y",
         "domain": [
          0,
          0.94
         ]
        },
        "yaxis": {
         "anchor": "x",
         "domain": [
          0,
          1
         ],
         "tickfont": {
          "color": "blue"
         },
         "title": {
          "font": {
           "color": "blue"
          },
          "text": "Pressure Altitude (ft)"
         }
        },
        "yaxis2": {
         "anchor": "x",
         "overlaying": "y",
         "side": "right",
         "tickfont": {
          "color": "red"
         },
         "title": {
          "font": {
           "color": "red"
          },
          "text": "Calibrated Airspeed (kt)"
         }
        }
       }
      }
     },
     "metadata": {},
     "output_type": "display_data"
    }
   ],
   "source": [
    "level_accel_times=np.array([\n",
    "                # ['17:33:48','17:37:30'], #flight 1 20k flaps 0               #format is [['Begin1','End1'],['Begin2','End2'],...] with time in HH:MM:SS or HH:MM:SS.ss\n",
    "                # ['16:05:02','16:06:47'], #flight 3 7k flaps 0   #format is [['Begin1','End1],['Begin2','End2'],...] with time in HH:MM:SS or HH:MM:SS.ss\n",
    "                # ['16:16:48','16:17:29'], #flight 3 7k flaps 40\n",
    "                # ['16:49:01','16:50:42'], #flight 3 10k flaps 0\n",
    "                # ['16:57:46','16:58:25'],   #flight 3 10k flaps 40\n",
    "                # ['16:11:26','16:12:37'],   #flight 4 15k flaps 40\n",
    "                # ['16:18:22','16:20:35'],   #flight 4 15k flaps 0\n",
    "                # ['17:35:27','17:36:07'],   #flight 5 7k flaps 40\n",
    "                # ['17:57:35','17:58:26'],   #flight 5 12.5k flaps 40\n",
    "                # ['18:02:14','18:04:17'],   #flight 5 12.5k flaps 0\n",
    "                # ['18:12:10','18:14:52'],   #flight 5 17.5k flaps 0\n",
    "                ['17:24:16','17:26:00'],   #flight 6 7k flaps 0\n",
    "                ])\n",
    "\n",
    "anchor=np.array(\n",
    "            [230,167,229]       #flight 3\n",
    "            )  #anchor altitude in feet for level accel calculations, used to determine the start of the level accel segment\n",
    "\n",
    "if level_accel_times.size>0:\n",
    "    libs.perf.level_accel(data,level_accel_times,smooth,anchor=anchor, YAPS=True, graphs=True)\n",
    "    # libs.perf.level_accel(data,level_accel_times,smooth, YAPS=True, graphs=True)"
   ]
  },
  {
   "cell_type": "markdown",
   "metadata": {},
   "source": [
    "### Cruise climb"
   ]
  },
  {
   "cell_type": "code",
   "execution_count": 4,
   "metadata": {},
   "outputs": [],
   "source": [
    "cruise_climb_times=np.array([\n",
    "                # ['16:51:53','16:59:35'],   #flight 1 FM climb\n",
    "                # ['16:13:14','16:20:52'], #flight 6 optimized climb\n",
    "               ])\n",
    "\n",
    "if cruise_climb_times.size>0:\n",
    "    libs.perf.cruise_climb(data,cruise_climb_times,smooth, YAPS=YAPS, graphs=True)"
   ]
  },
  {
   "cell_type": "markdown",
   "metadata": {},
   "source": [
    "### Level turn"
   ]
  },
  {
   "cell_type": "code",
   "execution_count": null,
   "metadata": {},
   "outputs": [
    {
     "data": {
      "application/vnd.plotly.v1+json": {
       "config": {
        "plotlyServerURL": "https://plot.ly"
       },
       "data": [
        {
         "line": {
          "color": "blue"
         },
         "mode": "lines",
         "name": "Pressure Altitude (ft)",
         "type": "scatter",
         "x": [
          "2025-04-25T15:53:01.000000000",
          "2025-04-25T15:53:02.000000000",
          "2025-04-25T15:53:03.000000000",
          "2025-04-25T15:53:04.000000000",
          "2025-04-25T15:53:05.000000000",
          "2025-04-25T15:53:06.000000000",
          "2025-04-25T15:53:07.000000000",
          "2025-04-25T15:53:08.000000000",
          "2025-04-25T15:53:09.000000000",
          "2025-04-25T15:53:10.000000000",
          "2025-04-25T15:53:11.000000000",
          "2025-04-25T15:53:12.000000000",
          "2025-04-25T15:53:13.000000000",
          "2025-04-25T15:53:14.000000000",
          "2025-04-25T15:53:15.000000000",
          "2025-04-25T15:53:16.000000000",
          "2025-04-25T15:53:17.000000000",
          "2025-04-25T15:53:18.000000000",
          "2025-04-25T15:53:19.000000000",
          "2025-04-25T15:53:20.000000000",
          "2025-04-25T15:53:21.000000000",
          "2025-04-25T15:53:22.000000000",
          "2025-04-25T15:53:23.000000000",
          "2025-04-25T15:53:24.000000000",
          "2025-04-25T15:53:25.000000000",
          "2025-04-25T15:53:26.000000000",
          "2025-04-25T15:53:27.000000000",
          "2025-04-25T15:53:28.000000000",
          "2025-04-25T15:53:29.000000000",
          "2025-04-25T15:53:30.000000000",
          "2025-04-25T15:53:31.000000000",
          "2025-04-25T15:53:32.000000000",
          "2025-04-25T15:53:33.000000000",
          "2025-04-25T15:53:34.000000000",
          "2025-04-25T15:53:35.000000000",
          "2025-04-25T15:53:36.000000000",
          "2025-04-25T15:53:37.000000000",
          "2025-04-25T15:53:38.000000000",
          "2025-04-25T15:53:39.000000000",
          "2025-04-25T15:53:40.000000000",
          "2025-04-25T15:53:41.000000000",
          "2025-04-25T15:53:42.000000000",
          "2025-04-25T15:53:43.000000000",
          "2025-04-25T15:53:44.000000000",
          "2025-04-25T15:53:45.000000000",
          "2025-04-25T15:53:46.000000000",
          "2025-04-25T15:53:47.000000000",
          "2025-04-25T15:53:48.000000000",
          "2025-04-25T15:53:49.000000000",
          "2025-04-25T15:53:50.000000000",
          "2025-04-25T15:53:51.000000000",
          "2025-04-25T15:53:52.000000000",
          "2025-04-25T15:53:53.000000000",
          "2025-04-25T15:53:54.000000000",
          "2025-04-25T15:53:55.000000000",
          "2025-04-25T15:53:56.000000000",
          "2025-04-25T15:53:57.000000000",
          "2025-04-25T15:53:58.000000000",
          "2025-04-25T15:53:59.000000000",
          "2025-04-25T15:54:00.000000000",
          "2025-04-25T15:54:01.000000000",
          "2025-04-25T15:54:02.000000000",
          "2025-04-25T15:54:03.000000000",
          "2025-04-25T15:54:04.000000000",
          "2025-04-25T15:54:05.000000000",
          "2025-04-25T15:54:06.000000000",
          "2025-04-25T15:54:07.000000000",
          "2025-04-25T15:54:08.000000000",
          "2025-04-25T15:54:09.000000000",
          "2025-04-25T15:54:10.000000000",
          "2025-04-25T15:54:11.000000000",
          "2025-04-25T15:54:12.000000000",
          "2025-04-25T15:54:13.000000000",
          "2025-04-25T15:54:14.000000000",
          "2025-04-25T15:54:15.000000000",
          "2025-04-25T15:54:16.000000000",
          "2025-04-25T15:54:17.000000000",
          "2025-04-25T15:54:18.000000000",
          "2025-04-25T15:54:19.000000000",
          "2025-04-25T15:54:20.000000000",
          "2025-04-25T15:54:21.000000000",
          "2025-04-25T15:54:22.000000000",
          "2025-04-25T15:54:23.000000000",
          "2025-04-25T15:54:24.000000000",
          "2025-04-25T15:54:25.000000000",
          "2025-04-25T15:54:26.000000000",
          "2025-04-25T15:54:27.000000000",
          "2025-04-25T15:54:28.000000000",
          "2025-04-25T15:54:29.000000000",
          "2025-04-25T15:54:30.000000000",
          "2025-04-25T15:54:31.000000000",
          "2025-04-25T15:54:32.000000000",
          "2025-04-25T15:54:33.000000000",
          "2025-04-25T15:54:34.000000000",
          "2025-04-25T15:54:35.000000000",
          "2025-04-25T15:54:36.000000000",
          "2025-04-25T15:54:37.000000000",
          "2025-04-25T15:54:38.000000000",
          "2025-04-25T15:54:39.000000000",
          "2025-04-25T15:54:40.000000000",
          "2025-04-25T15:54:41.000000000",
          "2025-04-25T15:54:42.000000000",
          "2025-04-25T15:54:43.000000000",
          "2025-04-25T15:54:44.000000000",
          "2025-04-25T15:54:45.000000000",
          "2025-04-25T15:54:46.000000000",
          "2025-04-25T15:54:47.000000000",
          "2025-04-25T15:54:48.000000000",
          "2025-04-25T15:54:49.000000000",
          "2025-04-25T15:54:50.000000000",
          "2025-04-25T15:54:51.000000000",
          "2025-04-25T15:54:52.000000000",
          "2025-04-25T15:54:53.000000000",
          "2025-04-25T15:54:54.000000000",
          "2025-04-25T15:54:55.000000000",
          "2025-04-25T15:54:56.000000000",
          "2025-04-25T15:54:57.000000000",
          "2025-04-25T15:54:58.000000000",
          "2025-04-25T15:54:59.000000000",
          "2025-04-25T15:55:00.000000000",
          "2025-04-25T15:55:01.000000000",
          "2025-04-25T15:55:02.000000000",
          "2025-04-25T15:55:03.000000000",
          "2025-04-25T15:55:04.000000000",
          "2025-04-25T15:55:05.000000000",
          "2025-04-25T15:55:06.000000000",
          "2025-04-25T15:55:07.000000000",
          "2025-04-25T15:55:08.000000000",
          "2025-04-25T15:55:09.000000000",
          "2025-04-25T15:55:10.000000000",
          "2025-04-25T15:55:11.000000000",
          "2025-04-25T15:55:12.000000000",
          "2025-04-25T15:55:13.000000000",
          "2025-04-25T15:55:14.000000000",
          "2025-04-25T15:55:15.000000000",
          "2025-04-25T15:55:16.000000000",
          "2025-04-25T15:55:17.000000000",
          "2025-04-25T15:55:18.000000000",
          "2025-04-25T15:55:19.000000000",
          "2025-04-25T15:55:20.000000000",
          "2025-04-25T15:55:21.000000000",
          "2025-04-25T15:55:22.000000000",
          "2025-04-25T15:55:23.000000000",
          "2025-04-25T15:55:24.000000000",
          "2025-04-25T15:55:25.000000000",
          "2025-04-25T15:55:26.000000000",
          "2025-04-25T15:55:27.000000000",
          "2025-04-25T15:55:28.000000000",
          "2025-04-25T15:55:29.000000000",
          "2025-04-25T15:55:30.000000000",
          "2025-04-25T15:55:31.000000000",
          "2025-04-25T15:55:32.000000000",
          "2025-04-25T15:55:33.000000000",
          "2025-04-25T15:55:34.000000000",
          "2025-04-25T15:55:35.000000000",
          "2025-04-25T15:55:36.000000000",
          "2025-04-25T15:55:37.000000000",
          "2025-04-25T15:55:38.000000000",
          "2025-04-25T15:55:39.000000000"
         ],
         "xaxis": "x",
         "y": {
          "bdata": "mpmZmZkSokAAAAAAgA6iQDMzMzOzDaJAAAAAAIANokAzMzMzMw6iQAAAAAAAEKJAmpmZmRkRokCamZmZmRWiQAAAAAAAF6JAmpmZmZkUokDNzMzMTBKiQM3MzMzME6JAMzMzM7MUokAAAAAAABaiQAAAAAAAFqJAzczMzMwUokBmZmZm5hiiQGZmZmbmFqJAAAAAAIATokBmZmZmZhOiQM3MzMzMF6JAMzMzMzMXokBmZmZmZheiQM3MzMzMF6JAMzMzMzMbokAzMzMzMx6iQAAAAACAG6JAAAAAAAAeokDNzMzMzB6iQAAAAAAAH6JAmpmZmZkiokAAAAAAACWiQDMzMzOzHqJAAAAAAIAgokBmZmZmZh6iQM3MzMzMH6JAzczMzMwgokBmZmZmZh6iQDMzMzMzHqJAMzMzM7MZokBmZmZmZhuiQAAAAAAAG6JAmpmZmZkZokAAAAAAABWiQGZmZmZmEKJAzczMzMwQokAAAAAAgBCiQJqZmZkZEqJAMzMzMzMSokAAAAAAABSiQAAAAAAAFKJAAAAAAIAXokCamZmZGR6iQJqZmZkZHKJAzczMzEwbokCamZmZGRqiQAAAAACAFKJAmpmZmRkTokAAAAAAABSiQDMzMzOzEqJAAAAAAAAWokAAAAAAABaiQJqZmZkZFaJAAAAAAAAWokAAAAAAABaiQGZmZmbmF6JAzczMzEwWokDNzMzMTBeiQAAAAAAAFqJAMzMzM7MVokCamZmZGRWiQAAAAAAAFKJAAAAAAAAUokBmZmZm5hKiQM3MzMzME6JAZmZmZmYTokDNzMzMzBiiQGZmZmZmHqJAAAAAAIAdokAzMzMzsxiiQAAAAAAAFqJAAAAAAIASokBmZmZmZhCiQAAAAAAAEKJAAAAAAAAPokDNzMzMTA+iQGZmZmZmEKJAAAAAAAAQokAAAAAAgBGiQJqZmZmZEqJAzczMzMwVokAAAAAAABaiQAAAAAAAFqJAZmZmZmYTokAzMzMzMxOiQM3MzMzME6JAAAAAAAASokBmZmZmZhOiQAAAAACAEqJAmpmZmRkTokCamZmZmROiQAAAAAAAEqJAAAAAAAASokDNzMzMzBKiQM3MzMzMFKJAmpmZmZkUokBmZmZm5hSiQJqZmZmZFqJAZmZmZuYWokAzMzMzMxaiQDMzMzMzEqJAAAAAAAAQokAAAAAAABCiQAAAAACAEaJAzczMzMwSokBmZmZm5hGiQDMzMzMzEaJAzczMzMwUokAzMzMzMxKiQJqZmZkZE6JAmpmZmRkVokAAAAAAABaiQM3MzMxMFKJAZmZmZmYRokAAAAAAABCiQAAAAAAAEKJAAAAAAAAQokDNzMzMTBGiQJqZmZkZEaJAAAAAAAAQokCamZmZGQ6iQAAAAAAADqJAAAAAAIAPokCamZmZmRCiQDMzMzOzEKJAMzMzM7MRokAAAAAAABCiQAAAAAAAEKJAAAAAAAAQokBmZmZmZhCiQGZmZmZmE6JAAAAAAAAUokAzMzMzsxGiQAAAAAAAEKJAAAAAAAAQokBmZmZmZhCiQAAAAAAAEqJAZmZmZuYRokAzMzMzsxGiQAAAAAAAEqJAzczMzEwTokAAAAAAABGiQAAAAAAAEKJAAAAAAAAQokAAAAAAABCiQM3MzMxMD6JAAAAAAIAQokAAAAAAgBKiQAAAAAAAFqJA",
          "dtype": "f8"
         },
         "yaxis": "y"
        },
        {
         "line": {
          "color": "red"
         },
         "mode": "lines",
         "name": "Calibrated Airspeed  (kt)",
         "type": "scatter",
         "x": [
          "2025-04-25T15:53:01.000000000",
          "2025-04-25T15:53:02.000000000",
          "2025-04-25T15:53:03.000000000",
          "2025-04-25T15:53:04.000000000",
          "2025-04-25T15:53:05.000000000",
          "2025-04-25T15:53:06.000000000",
          "2025-04-25T15:53:07.000000000",
          "2025-04-25T15:53:08.000000000",
          "2025-04-25T15:53:09.000000000",
          "2025-04-25T15:53:10.000000000",
          "2025-04-25T15:53:11.000000000",
          "2025-04-25T15:53:12.000000000",
          "2025-04-25T15:53:13.000000000",
          "2025-04-25T15:53:14.000000000",
          "2025-04-25T15:53:15.000000000",
          "2025-04-25T15:53:16.000000000",
          "2025-04-25T15:53:17.000000000",
          "2025-04-25T15:53:18.000000000",
          "2025-04-25T15:53:19.000000000",
          "2025-04-25T15:53:20.000000000",
          "2025-04-25T15:53:21.000000000",
          "2025-04-25T15:53:22.000000000",
          "2025-04-25T15:53:23.000000000",
          "2025-04-25T15:53:24.000000000",
          "2025-04-25T15:53:25.000000000",
          "2025-04-25T15:53:26.000000000",
          "2025-04-25T15:53:27.000000000",
          "2025-04-25T15:53:28.000000000",
          "2025-04-25T15:53:29.000000000",
          "2025-04-25T15:53:30.000000000",
          "2025-04-25T15:53:31.000000000",
          "2025-04-25T15:53:32.000000000",
          "2025-04-25T15:53:33.000000000",
          "2025-04-25T15:53:34.000000000",
          "2025-04-25T15:53:35.000000000",
          "2025-04-25T15:53:36.000000000",
          "2025-04-25T15:53:37.000000000",
          "2025-04-25T15:53:38.000000000",
          "2025-04-25T15:53:39.000000000",
          "2025-04-25T15:53:40.000000000",
          "2025-04-25T15:53:41.000000000",
          "2025-04-25T15:53:42.000000000",
          "2025-04-25T15:53:43.000000000",
          "2025-04-25T15:53:44.000000000",
          "2025-04-25T15:53:45.000000000",
          "2025-04-25T15:53:46.000000000",
          "2025-04-25T15:53:47.000000000",
          "2025-04-25T15:53:48.000000000",
          "2025-04-25T15:53:49.000000000",
          "2025-04-25T15:53:50.000000000",
          "2025-04-25T15:53:51.000000000",
          "2025-04-25T15:53:52.000000000",
          "2025-04-25T15:53:53.000000000",
          "2025-04-25T15:53:54.000000000",
          "2025-04-25T15:53:55.000000000",
          "2025-04-25T15:53:56.000000000",
          "2025-04-25T15:53:57.000000000",
          "2025-04-25T15:53:58.000000000",
          "2025-04-25T15:53:59.000000000",
          "2025-04-25T15:54:00.000000000",
          "2025-04-25T15:54:01.000000000",
          "2025-04-25T15:54:02.000000000",
          "2025-04-25T15:54:03.000000000",
          "2025-04-25T15:54:04.000000000",
          "2025-04-25T15:54:05.000000000",
          "2025-04-25T15:54:06.000000000",
          "2025-04-25T15:54:07.000000000",
          "2025-04-25T15:54:08.000000000",
          "2025-04-25T15:54:09.000000000",
          "2025-04-25T15:54:10.000000000",
          "2025-04-25T15:54:11.000000000",
          "2025-04-25T15:54:12.000000000",
          "2025-04-25T15:54:13.000000000",
          "2025-04-25T15:54:14.000000000",
          "2025-04-25T15:54:15.000000000",
          "2025-04-25T15:54:16.000000000",
          "2025-04-25T15:54:17.000000000",
          "2025-04-25T15:54:18.000000000",
          "2025-04-25T15:54:19.000000000",
          "2025-04-25T15:54:20.000000000",
          "2025-04-25T15:54:21.000000000",
          "2025-04-25T15:54:22.000000000",
          "2025-04-25T15:54:23.000000000",
          "2025-04-25T15:54:24.000000000",
          "2025-04-25T15:54:25.000000000",
          "2025-04-25T15:54:26.000000000",
          "2025-04-25T15:54:27.000000000",
          "2025-04-25T15:54:28.000000000",
          "2025-04-25T15:54:29.000000000",
          "2025-04-25T15:54:30.000000000",
          "2025-04-25T15:54:31.000000000",
          "2025-04-25T15:54:32.000000000",
          "2025-04-25T15:54:33.000000000",
          "2025-04-25T15:54:34.000000000",
          "2025-04-25T15:54:35.000000000",
          "2025-04-25T15:54:36.000000000",
          "2025-04-25T15:54:37.000000000",
          "2025-04-25T15:54:38.000000000",
          "2025-04-25T15:54:39.000000000",
          "2025-04-25T15:54:40.000000000",
          "2025-04-25T15:54:41.000000000",
          "2025-04-25T15:54:42.000000000",
          "2025-04-25T15:54:43.000000000",
          "2025-04-25T15:54:44.000000000",
          "2025-04-25T15:54:45.000000000",
          "2025-04-25T15:54:46.000000000",
          "2025-04-25T15:54:47.000000000",
          "2025-04-25T15:54:48.000000000",
          "2025-04-25T15:54:49.000000000",
          "2025-04-25T15:54:50.000000000",
          "2025-04-25T15:54:51.000000000",
          "2025-04-25T15:54:52.000000000",
          "2025-04-25T15:54:53.000000000",
          "2025-04-25T15:54:54.000000000",
          "2025-04-25T15:54:55.000000000",
          "2025-04-25T15:54:56.000000000",
          "2025-04-25T15:54:57.000000000",
          "2025-04-25T15:54:58.000000000",
          "2025-04-25T15:54:59.000000000",
          "2025-04-25T15:55:00.000000000",
          "2025-04-25T15:55:01.000000000",
          "2025-04-25T15:55:02.000000000",
          "2025-04-25T15:55:03.000000000",
          "2025-04-25T15:55:04.000000000",
          "2025-04-25T15:55:05.000000000",
          "2025-04-25T15:55:06.000000000",
          "2025-04-25T15:55:07.000000000",
          "2025-04-25T15:55:08.000000000",
          "2025-04-25T15:55:09.000000000",
          "2025-04-25T15:55:10.000000000",
          "2025-04-25T15:55:11.000000000",
          "2025-04-25T15:55:12.000000000",
          "2025-04-25T15:55:13.000000000",
          "2025-04-25T15:55:14.000000000",
          "2025-04-25T15:55:15.000000000",
          "2025-04-25T15:55:16.000000000",
          "2025-04-25T15:55:17.000000000",
          "2025-04-25T15:55:18.000000000",
          "2025-04-25T15:55:19.000000000",
          "2025-04-25T15:55:20.000000000",
          "2025-04-25T15:55:21.000000000",
          "2025-04-25T15:55:22.000000000",
          "2025-04-25T15:55:23.000000000",
          "2025-04-25T15:55:24.000000000",
          "2025-04-25T15:55:25.000000000",
          "2025-04-25T15:55:26.000000000",
          "2025-04-25T15:55:27.000000000",
          "2025-04-25T15:55:28.000000000",
          "2025-04-25T15:55:29.000000000",
          "2025-04-25T15:55:30.000000000",
          "2025-04-25T15:55:31.000000000",
          "2025-04-25T15:55:32.000000000",
          "2025-04-25T15:55:33.000000000",
          "2025-04-25T15:55:34.000000000",
          "2025-04-25T15:55:35.000000000",
          "2025-04-25T15:55:36.000000000",
          "2025-04-25T15:55:37.000000000",
          "2025-04-25T15:55:38.000000000",
          "2025-04-25T15:55:39.000000000"
         ],
         "xaxis": "x",
         "y": {
          "bdata": "AAAAAABAH0BmZmZmZmYZQAAAAAAAwCFAzczMzMxMKEDNzMzMzKwiQM3MzMzMzB5AzczMzMzMHEAzMzMzM7MeQDMzMzMzsxxAmpmZmZkZJUAzMzMzM3MnQM3MzMzMzCdAmpmZmZmZG0AAAAAAAIAfQGZmZmZmphNAMzMzMzMz6z+amZmZmRkOQM3MzMzMzNw/AAAAAAAAAAAAAAAAAAAAAAAAAAAAANg/AAAAAAAAAAAzMzMzMzOjPwAAAAAAAAAAAAAAAAAAAADNzMzMzMzgPzMzMzMzM/U/ZmZmZmZmE0CamZmZmZkRQM3MzMzMzAhAMzMzMzMzF0CamZmZmZkaQJqZmZmZGQpAAAAAAADAEUCamZmZmZn3P83MzMzMTA5AZmZmZmamEUCamZmZmZn6PzMzMzMzMwNAZmZmZmZm1j9mZmZmZuYGQM3MzMzMTANAmpmZmZkZE0AAAAAAAIAIQGZmZmZmZgNAAAAAAACAHEAAAAAAAMAZQDMzMzMzcxRAMzMzMzOzGkCamZmZmdkcQJqZmZmZmRJAZmZmZmZm+z8zMzMzMzMKQDMzMzMzM8M/ZmZmZmbmDEAAAAAAAIAZQJqZmZmZ2RRAmpmZmZlZGUAzMzMzM7MZQJqZmZmZ2RJAAAAAAABAEUBmZmZmZqYXQM3MzMzMzA5AzczMzMzMB0BmZmZmZmbmPwAAAAAAAABAAAAAAAAA2D8zMzMzMzPlP2ZmZmZmZgVAzczMzMzM+T/NzMzMzMzwP2ZmZmZmZvA/AAAAAAAAAAAAAAAAAAAAAAAAAAAAAAAAmpmZmZmZiT8AAAAAAAD/PzMzMzMz8xJAMzMzMzMz4z8AAAAAAAAAAJqZmZmZmes/AAAAAAAAAAAAAAAAAAAAAAAAAAAAAAAAAAAAAAAAAAAAAAAAAAAAAAAAAAAAAAAAAAAAAAAAAAAzMzMzMzPbP5qZmZmZmak/AAAAAAAAAAAAAAAAAAAAADMzMzMzM+E/mpmZmZmZ4T/NzMzMzMz9P5qZmZmZmf4/AAAAAAAAAABmZmZmZmbuP5qZmZmZmeM/ZmZmZmZm/D/NzMzMzMwMQGZmZmZmZhJAAAAAAAAA+z9mZmZmZmbOPwAAAAAAgBRAMzMzMzOzHUAzMzMzM/MXQDMzMzMz8yBAZmZmZmYmHkBmZmZmZgYjQDMzMzMz8x9AMzMzMzNzGkDNzMzMzMwSQAAAAAAAABFAAAAAAAAAC0BmZmZmZuYTQGZmZmZm5gZAZmZmZmamEkCamZmZmZn+P5qZmZmZmfY/mpmZmZkZAEAAAAAAAIADQM3MzMzMTAJAZmZmZmZmEkAAAAAAAAAUQAAAAAAAQBdAmpmZmZkZC0AzMzMzM/MQQM3MzMzMTApAzczMzMxMC0CamZmZmRkPQGZmZmZmZvw/zczMzMzM6j+amZmZmZn6PwAAAAAAgApAmpmZmZkZC0AzMzMzMzMNQJqZmZmZmQZAzczMzMzM+j8AAAAAAADsP5qZmZmZmd0/ZmZmZmYmEkAzMzMzM7MQQDMzMzMzMwlAzczMzMzMvD8AAAAAAAAAAGZmZmZmZuI/MzMzMzMzyz8AAAAAAADIP5qZmZmZGQNAAAAAAACACkBmZmZmZmYCQDMzMzMzswVAzczMzMxMB0AzMzMzMzP7PwAAAAAAAPw/MzMzMzMz0z9mZmZmZmbzPwAAAAAAAA5A",
          "dtype": "f8"
         },
         "yaxis": "y2"
        },
        {
         "line": {
          "color": "purple"
         },
         "mode": "lines",
         "name": "Bank angle (deg)",
         "type": "scatter",
         "x": [
          "2025-04-25T15:53:01.000000000",
          "2025-04-25T15:53:02.000000000",
          "2025-04-25T15:53:03.000000000",
          "2025-04-25T15:53:04.000000000",
          "2025-04-25T15:53:05.000000000",
          "2025-04-25T15:53:06.000000000",
          "2025-04-25T15:53:07.000000000",
          "2025-04-25T15:53:08.000000000",
          "2025-04-25T15:53:09.000000000",
          "2025-04-25T15:53:10.000000000",
          "2025-04-25T15:53:11.000000000",
          "2025-04-25T15:53:12.000000000",
          "2025-04-25T15:53:13.000000000",
          "2025-04-25T15:53:14.000000000",
          "2025-04-25T15:53:15.000000000",
          "2025-04-25T15:53:16.000000000",
          "2025-04-25T15:53:17.000000000",
          "2025-04-25T15:53:18.000000000",
          "2025-04-25T15:53:19.000000000",
          "2025-04-25T15:53:20.000000000",
          "2025-04-25T15:53:21.000000000",
          "2025-04-25T15:53:22.000000000",
          "2025-04-25T15:53:23.000000000",
          "2025-04-25T15:53:24.000000000",
          "2025-04-25T15:53:25.000000000",
          "2025-04-25T15:53:26.000000000",
          "2025-04-25T15:53:27.000000000",
          "2025-04-25T15:53:28.000000000",
          "2025-04-25T15:53:29.000000000",
          "2025-04-25T15:53:30.000000000",
          "2025-04-25T15:53:31.000000000",
          "2025-04-25T15:53:32.000000000",
          "2025-04-25T15:53:33.000000000",
          "2025-04-25T15:53:34.000000000",
          "2025-04-25T15:53:35.000000000",
          "2025-04-25T15:53:36.000000000",
          "2025-04-25T15:53:37.000000000",
          "2025-04-25T15:53:38.000000000",
          "2025-04-25T15:53:39.000000000",
          "2025-04-25T15:53:40.000000000",
          "2025-04-25T15:53:41.000000000",
          "2025-04-25T15:53:42.000000000",
          "2025-04-25T15:53:43.000000000",
          "2025-04-25T15:53:44.000000000",
          "2025-04-25T15:53:45.000000000",
          "2025-04-25T15:53:46.000000000",
          "2025-04-25T15:53:47.000000000",
          "2025-04-25T15:53:48.000000000",
          "2025-04-25T15:53:49.000000000",
          "2025-04-25T15:53:50.000000000",
          "2025-04-25T15:53:51.000000000",
          "2025-04-25T15:53:52.000000000",
          "2025-04-25T15:53:53.000000000",
          "2025-04-25T15:53:54.000000000",
          "2025-04-25T15:53:55.000000000",
          "2025-04-25T15:53:56.000000000",
          "2025-04-25T15:53:57.000000000",
          "2025-04-25T15:53:58.000000000",
          "2025-04-25T15:53:59.000000000",
          "2025-04-25T15:54:00.000000000",
          "2025-04-25T15:54:01.000000000",
          "2025-04-25T15:54:02.000000000",
          "2025-04-25T15:54:03.000000000",
          "2025-04-25T15:54:04.000000000",
          "2025-04-25T15:54:05.000000000",
          "2025-04-25T15:54:06.000000000",
          "2025-04-25T15:54:07.000000000",
          "2025-04-25T15:54:08.000000000",
          "2025-04-25T15:54:09.000000000",
          "2025-04-25T15:54:10.000000000",
          "2025-04-25T15:54:11.000000000",
          "2025-04-25T15:54:12.000000000",
          "2025-04-25T15:54:13.000000000",
          "2025-04-25T15:54:14.000000000",
          "2025-04-25T15:54:15.000000000",
          "2025-04-25T15:54:16.000000000",
          "2025-04-25T15:54:17.000000000",
          "2025-04-25T15:54:18.000000000",
          "2025-04-25T15:54:19.000000000",
          "2025-04-25T15:54:20.000000000",
          "2025-04-25T15:54:21.000000000",
          "2025-04-25T15:54:22.000000000",
          "2025-04-25T15:54:23.000000000",
          "2025-04-25T15:54:24.000000000",
          "2025-04-25T15:54:25.000000000",
          "2025-04-25T15:54:26.000000000",
          "2025-04-25T15:54:27.000000000",
          "2025-04-25T15:54:28.000000000",
          "2025-04-25T15:54:29.000000000",
          "2025-04-25T15:54:30.000000000",
          "2025-04-25T15:54:31.000000000",
          "2025-04-25T15:54:32.000000000",
          "2025-04-25T15:54:33.000000000",
          "2025-04-25T15:54:34.000000000",
          "2025-04-25T15:54:35.000000000",
          "2025-04-25T15:54:36.000000000",
          "2025-04-25T15:54:37.000000000",
          "2025-04-25T15:54:38.000000000",
          "2025-04-25T15:54:39.000000000",
          "2025-04-25T15:54:40.000000000",
          "2025-04-25T15:54:41.000000000",
          "2025-04-25T15:54:42.000000000",
          "2025-04-25T15:54:43.000000000",
          "2025-04-25T15:54:44.000000000",
          "2025-04-25T15:54:45.000000000",
          "2025-04-25T15:54:46.000000000",
          "2025-04-25T15:54:47.000000000",
          "2025-04-25T15:54:48.000000000",
          "2025-04-25T15:54:49.000000000",
          "2025-04-25T15:54:50.000000000",
          "2025-04-25T15:54:51.000000000",
          "2025-04-25T15:54:52.000000000",
          "2025-04-25T15:54:53.000000000",
          "2025-04-25T15:54:54.000000000",
          "2025-04-25T15:54:55.000000000",
          "2025-04-25T15:54:56.000000000",
          "2025-04-25T15:54:57.000000000",
          "2025-04-25T15:54:58.000000000",
          "2025-04-25T15:54:59.000000000",
          "2025-04-25T15:55:00.000000000",
          "2025-04-25T15:55:01.000000000",
          "2025-04-25T15:55:02.000000000",
          "2025-04-25T15:55:03.000000000",
          "2025-04-25T15:55:04.000000000",
          "2025-04-25T15:55:05.000000000",
          "2025-04-25T15:55:06.000000000",
          "2025-04-25T15:55:07.000000000",
          "2025-04-25T15:55:08.000000000",
          "2025-04-25T15:55:09.000000000",
          "2025-04-25T15:55:10.000000000",
          "2025-04-25T15:55:11.000000000",
          "2025-04-25T15:55:12.000000000",
          "2025-04-25T15:55:13.000000000",
          "2025-04-25T15:55:14.000000000",
          "2025-04-25T15:55:15.000000000",
          "2025-04-25T15:55:16.000000000",
          "2025-04-25T15:55:17.000000000",
          "2025-04-25T15:55:18.000000000",
          "2025-04-25T15:55:19.000000000",
          "2025-04-25T15:55:20.000000000",
          "2025-04-25T15:55:21.000000000",
          "2025-04-25T15:55:22.000000000",
          "2025-04-25T15:55:23.000000000",
          "2025-04-25T15:55:24.000000000",
          "2025-04-25T15:55:25.000000000",
          "2025-04-25T15:55:26.000000000",
          "2025-04-25T15:55:27.000000000",
          "2025-04-25T15:55:28.000000000",
          "2025-04-25T15:55:29.000000000",
          "2025-04-25T15:55:30.000000000",
          "2025-04-25T15:55:31.000000000",
          "2025-04-25T15:55:32.000000000",
          "2025-04-25T15:55:33.000000000",
          "2025-04-25T15:55:34.000000000",
          "2025-04-25T15:55:35.000000000",
          "2025-04-25T15:55:36.000000000",
          "2025-04-25T15:55:37.000000000",
          "2025-04-25T15:55:38.000000000",
          "2025-04-25T15:55:39.000000000"
         ],
         "xaxis": "x2",
         "y": {
          "bdata": "ijZIG6QN0j+MIEmQJEjSP41WSaukVdI/j6xKViWr0j+Pvkpfpa/SP45SSimllNI/jA5Jh6RD0j+Nekm9pF7SP47CSeGkcNI/juZJ86R50j+PrEpWJavSP4++Sl+lr9I/j3ZKO6Wd0j+NREmiJFHSP41ESaIkUdI/jgpKBaWC0j+Pdko7pZ3SP45ASiAlkNI/j5pKTaWm0j+SlkvLpeXSP5FOS6el09I/kgJMAaYA0z+S8Ev4JfzSP5ImTBOmCdM/kpZLy6Xl0j+Sukvdpe7SP5AGS4OlwdI/kAZLg6XB0j+OHEoOJYfSP4tsSDYkG9I/i2xINiQb0j+K7kf3o/vRP4qUR8oj5dE/hwhGBCOC0T9+QEGgIFDQP/K4fdw+bs8/9bR+Wj+tzz/zAH4AP4DPP3/iQfGgeNA/g5JDyaHk0D+FfEQ+Ih/RP4euRdeia9E/iCxGFiOL0T+IUEYoI5TRP4ooR5QjytE/iJhGTCOm0T+IYkYxo5jRP4YMRYYiQ9E/huhEdCI60T+IdEY6I53RP4aKRcWiYtE/hkJFoaJQ0T+IPkYfo4/RP4gaRg2jhtE/ifJGeaO80T+JvEZeI6/RP4m8Rl4jr9E/iihHlCPK0T+ImEZMI6bRP4kER4IjwdE/ioJHwaPg0T+LbEg2JBvSP4oSSAmkBNI/ijZIG6QN0j+O1EnqJHXSP47USeokddI/jgpKBaWC0j+RPEueJc/SP5AqS5WlytI/kPRKeiW90j+RTkunpdPSP5GES8Il4dI/ji5KF6WL0j+MDkmHpEPSP4zqSHWkOtI/itxH7iP30T+Lfkg/pB/SP4z8SH4kP9I/ieBGcCO40T+DbkO3odvQP4KoQlQhqtA/gCpCFaGK0D9/vkHfoG/QP4AYQgwhhtA/fkBBoCBQ0D99aEA0IBrQP/W0flo/rc8/9rB/2D/szz99aEA0IBrQP/XYfmw/ts8/fZ5AT6An0D99ekA9oB7QP33CQGGgMNA/fFZAK6AV0D9+5kBzoDnQP35AQaAgUNA/f5pBzaBm0D9++EB8ID7QP35AQaAgUNA/gCpCFaGK0D+CSkOlodLQP4LeQm+ht9A/gDxCHiGP0D9/4kHxoHjQP3++Qd+gb9A/flJBqaBU0D9/mkHNoGbQP4FgQjAhmNA/gCpCFaGK0D+BTkInoZPQP4AYQgwhhtA/gXJCOaGc0D+CzEJmIbPQP4KoQlQhqtA/giZDk6HJ0D+CukJdoa7QP4LeQm+ht9A/gkpDpaHS0D+CXEOuIdfQP4JcQ64h19A/gkpDpaHS0D+DgEPAIeDQP4QQRAgiBNE/hqBEUCIo0T+EEEQIIgTRP4VGRCOiEdE/hTREGiIN0T+GoERQIijRP4ayRFmiLNE/huhEdCI60T+FWEQsIhbRP4TsQ/Yh+9A/hVhELCIW0T+GjkRHoiPRP4agRFAiKNE/hvpEfaI+0T+G6ER0IjrRP4bERGIiMdE/hsREYiIx0T+G+kR9oj7RP4aOREeiI9E/g8hD5CHy0D+G+kR9oj7RP4WOREeiI9E/hrJEWaIs0T+HikXFomLRP4ZCRaGiUNE/h4pFxaJi0T+HnEXOImfRP4YMRYYiQ9E/hjBFmCJM0T+IPkYfo4/RP4fSRemidNE/iBpGDaOG0T+H0kXponTRP4b6RH2iPtE/hVhELCIW0T+FWEQsIhbRP4boRHQiOtE/",
          "dtype": "f8"
         },
         "yaxis": "y3"
        },
        {
         "line": {
          "color": "green"
         },
         "mode": "lines",
         "name": "Load factor (g)",
         "type": "scatter",
         "x": [
          "2025-04-25T15:53:01.000000000",
          "2025-04-25T15:53:02.000000000",
          "2025-04-25T15:53:03.000000000",
          "2025-04-25T15:53:04.000000000",
          "2025-04-25T15:53:05.000000000",
          "2025-04-25T15:53:06.000000000",
          "2025-04-25T15:53:07.000000000",
          "2025-04-25T15:53:08.000000000",
          "2025-04-25T15:53:09.000000000",
          "2025-04-25T15:53:10.000000000",
          "2025-04-25T15:53:11.000000000",
          "2025-04-25T15:53:12.000000000",
          "2025-04-25T15:53:13.000000000",
          "2025-04-25T15:53:14.000000000",
          "2025-04-25T15:53:15.000000000",
          "2025-04-25T15:53:16.000000000",
          "2025-04-25T15:53:17.000000000",
          "2025-04-25T15:53:18.000000000",
          "2025-04-25T15:53:19.000000000",
          "2025-04-25T15:53:20.000000000",
          "2025-04-25T15:53:21.000000000",
          "2025-04-25T15:53:22.000000000",
          "2025-04-25T15:53:23.000000000",
          "2025-04-25T15:53:24.000000000",
          "2025-04-25T15:53:25.000000000",
          "2025-04-25T15:53:26.000000000",
          "2025-04-25T15:53:27.000000000",
          "2025-04-25T15:53:28.000000000",
          "2025-04-25T15:53:29.000000000",
          "2025-04-25T15:53:30.000000000",
          "2025-04-25T15:53:31.000000000",
          "2025-04-25T15:53:32.000000000",
          "2025-04-25T15:53:33.000000000",
          "2025-04-25T15:53:34.000000000",
          "2025-04-25T15:53:35.000000000",
          "2025-04-25T15:53:36.000000000",
          "2025-04-25T15:53:37.000000000",
          "2025-04-25T15:53:38.000000000",
          "2025-04-25T15:53:39.000000000",
          "2025-04-25T15:53:40.000000000",
          "2025-04-25T15:53:41.000000000",
          "2025-04-25T15:53:42.000000000",
          "2025-04-25T15:53:43.000000000",
          "2025-04-25T15:53:44.000000000",
          "2025-04-25T15:53:45.000000000",
          "2025-04-25T15:53:46.000000000",
          "2025-04-25T15:53:47.000000000",
          "2025-04-25T15:53:48.000000000",
          "2025-04-25T15:53:49.000000000",
          "2025-04-25T15:53:50.000000000",
          "2025-04-25T15:53:51.000000000",
          "2025-04-25T15:53:52.000000000",
          "2025-04-25T15:53:53.000000000",
          "2025-04-25T15:53:54.000000000",
          "2025-04-25T15:53:55.000000000",
          "2025-04-25T15:53:56.000000000",
          "2025-04-25T15:53:57.000000000",
          "2025-04-25T15:53:58.000000000",
          "2025-04-25T15:53:59.000000000",
          "2025-04-25T15:54:00.000000000",
          "2025-04-25T15:54:01.000000000",
          "2025-04-25T15:54:02.000000000",
          "2025-04-25T15:54:03.000000000",
          "2025-04-25T15:54:04.000000000",
          "2025-04-25T15:54:05.000000000",
          "2025-04-25T15:54:06.000000000",
          "2025-04-25T15:54:07.000000000",
          "2025-04-25T15:54:08.000000000",
          "2025-04-25T15:54:09.000000000",
          "2025-04-25T15:54:10.000000000",
          "2025-04-25T15:54:11.000000000",
          "2025-04-25T15:54:12.000000000",
          "2025-04-25T15:54:13.000000000",
          "2025-04-25T15:54:14.000000000",
          "2025-04-25T15:54:15.000000000",
          "2025-04-25T15:54:16.000000000",
          "2025-04-25T15:54:17.000000000",
          "2025-04-25T15:54:18.000000000",
          "2025-04-25T15:54:19.000000000",
          "2025-04-25T15:54:20.000000000",
          "2025-04-25T15:54:21.000000000",
          "2025-04-25T15:54:22.000000000",
          "2025-04-25T15:54:23.000000000",
          "2025-04-25T15:54:24.000000000",
          "2025-04-25T15:54:25.000000000",
          "2025-04-25T15:54:26.000000000",
          "2025-04-25T15:54:27.000000000",
          "2025-04-25T15:54:28.000000000",
          "2025-04-25T15:54:29.000000000",
          "2025-04-25T15:54:30.000000000",
          "2025-04-25T15:54:31.000000000",
          "2025-04-25T15:54:32.000000000",
          "2025-04-25T15:54:33.000000000",
          "2025-04-25T15:54:34.000000000",
          "2025-04-25T15:54:35.000000000",
          "2025-04-25T15:54:36.000000000",
          "2025-04-25T15:54:37.000000000",
          "2025-04-25T15:54:38.000000000",
          "2025-04-25T15:54:39.000000000",
          "2025-04-25T15:54:40.000000000",
          "2025-04-25T15:54:41.000000000",
          "2025-04-25T15:54:42.000000000",
          "2025-04-25T15:54:43.000000000",
          "2025-04-25T15:54:44.000000000",
          "2025-04-25T15:54:45.000000000",
          "2025-04-25T15:54:46.000000000",
          "2025-04-25T15:54:47.000000000",
          "2025-04-25T15:54:48.000000000",
          "2025-04-25T15:54:49.000000000",
          "2025-04-25T15:54:50.000000000",
          "2025-04-25T15:54:51.000000000",
          "2025-04-25T15:54:52.000000000",
          "2025-04-25T15:54:53.000000000",
          "2025-04-25T15:54:54.000000000",
          "2025-04-25T15:54:55.000000000",
          "2025-04-25T15:54:56.000000000",
          "2025-04-25T15:54:57.000000000",
          "2025-04-25T15:54:58.000000000",
          "2025-04-25T15:54:59.000000000",
          "2025-04-25T15:55:00.000000000",
          "2025-04-25T15:55:01.000000000",
          "2025-04-25T15:55:02.000000000",
          "2025-04-25T15:55:03.000000000",
          "2025-04-25T15:55:04.000000000",
          "2025-04-25T15:55:05.000000000",
          "2025-04-25T15:55:06.000000000",
          "2025-04-25T15:55:07.000000000",
          "2025-04-25T15:55:08.000000000",
          "2025-04-25T15:55:09.000000000",
          "2025-04-25T15:55:10.000000000",
          "2025-04-25T15:55:11.000000000",
          "2025-04-25T15:55:12.000000000",
          "2025-04-25T15:55:13.000000000",
          "2025-04-25T15:55:14.000000000",
          "2025-04-25T15:55:15.000000000",
          "2025-04-25T15:55:16.000000000",
          "2025-04-25T15:55:17.000000000",
          "2025-04-25T15:55:18.000000000",
          "2025-04-25T15:55:19.000000000",
          "2025-04-25T15:55:20.000000000",
          "2025-04-25T15:55:21.000000000",
          "2025-04-25T15:55:22.000000000",
          "2025-04-25T15:55:23.000000000",
          "2025-04-25T15:55:24.000000000",
          "2025-04-25T15:55:25.000000000",
          "2025-04-25T15:55:26.000000000",
          "2025-04-25T15:55:27.000000000",
          "2025-04-25T15:55:28.000000000",
          "2025-04-25T15:55:29.000000000",
          "2025-04-25T15:55:30.000000000",
          "2025-04-25T15:55:31.000000000",
          "2025-04-25T15:55:32.000000000",
          "2025-04-25T15:55:33.000000000",
          "2025-04-25T15:55:34.000000000",
          "2025-04-25T15:55:35.000000000",
          "2025-04-25T15:55:36.000000000",
          "2025-04-25T15:55:37.000000000",
          "2025-04-25T15:55:38.000000000",
          "2025-04-25T15:55:39.000000000"
         ],
         "xaxis": "x2",
         "y": {
          "bdata": "f+FHtQwA8D/gGSoIDQDwP3OEcBsNAPA/subNlg0A8D9i31udDQDwP+i7H3YNAPA/TnTAAQ0A8D9gBlIoDQDwP+/9J0INAPA/knMcTw0A8D+y5s2WDQDwP2LfW50NAPA/fnYtgw0A8D/zIQIVDQDwP/MhAhUNAPA/cjoXXA0A8D9+di2DDQDwPxM9m28NAPA/UYJBkA0A8D/St37sDQDwPwyABNINAPA/zmxlFA4A8D+IBrsNDgDwP0n2viEOAPA/0rd+7A0A8D+TTcX5DQDwPzyNo7cNAPA/PI2jtw0A8D9Y/JZiDQDwPwm0UMgMAPA/CbRQyAwA8D8X5fybDADwP4SygnwMAPA/G7DX8wsA8D8nvkpgCgDwP57MNqEJAPA/93v4xwkA8D99q0GsCQDwP16tEJQKAPA/G+mRIAsA8D8kEiluCwDwPwGzMtULAPA/F70kAAwA8D9OG3gMDADwP2H68FYMAPA/assxJQwA8D/fKKQSDADwP4c3bZ4LAPA/WLRSkgsA8D+/ytEYDADwP0/C+8gLAPA/mdSgsAsA8D8Lok0GDADwP3Fs/fkLAPA/dnA9RAwA8D9QHZgxDADwP1AdmDEMAPA/YfrwVgwA8D9qyzElDADwP8u0d0oMAPA/ucs7dgwA8D8JtFDIDADwP646n6gMAPA/f+FHtQwA8D+ZbqFIDQDwP5luoUgNAPA/cjoXXA0A8D/g5GnLDQDwPwXe0MQNAPA/TkMPsQ0A8D8MgATSDQDwP2rL3eUNAPA/jlIYaQ0A8D9OdMABDQDwPxbm8fQMAPA/wxiulQwA8D/VIqzODADwPwpjWPsMAPA/cMAEPgwA8D/CurkUCwDwP6OnBdQKAPA/emA8qwoA8D+jTYSICgDwPz8Vb6UKAPA/J75KYAoA8D/K0gkcCgDwP/d7+McJAPA/I44H7wkA8D/K0gkcCgDwP14viM0JAPA/iLsELQoA8D+7NrEhCgDwP4yRXjgKAPA/JQNkFgoA8D/GuL5DCgDwPye+SmAKAPA/Hz/+fAoA8D/XKnFJCgDwPye+SmAKAPA/emA8qwoA8D+h3ecICwDwP48tmOUKAPA/BEALsQoA8D9erRCUCgDwP6NNhIgKAPA/vRUFZgoA8D8fP/58CgDwPwG8rbwKAPA/emA8qwoA8D/cs9u2CgDwPz8Vb6UKAPA/dViBwgoA8D9HF7vfCgDwP6OnBdQKAPA/uFEc/QoA8D9Old/ZCgDwP48tmOUKAPA/od3nCAsA8D8KAtAOCwDwPwoC0A4LAPA/od3nCAsA8D/HB6UaCwDwP/FKOEoLAPA/p6EwegsA8D/xSjhKCwDwPyqTKVwLAPA/yeYsVgsA8D+noTB6CwDwP97HNoALAPA/WLRSkgsA8D/a0ydiCwDwP1IASj4LAPA/2tMnYgsA8D++Dyx0CwDwP6ehMHoLAPA/yCtfmAsA8D9YtFKSCwDwP2OCPoYLAPA/Y4I+hgsA8D/IK1+YCwDwP74PLHQLAPA/6wZiMgsA8D/IK1+YCwDwP74PLHQLAPA/3sc2gAsA8D9PwvvICwDwP5nUoLALAPA/T8L7yAsA8D+BcBbPCwDwP4c3bZ4LAPA/7wuOqgsA8D8Lok0GDADwP+z0b+ELAPA/cWz9+QsA8D/s9G/hCwDwP8grX5gLAPA/2tMnYgsA8D/a0ydiCwDwP1i0UpILAPA/",
          "dtype": "f8"
         },
         "yaxis": "y4"
        },
        {
         "line": {
          "color": "orange"
         },
         "mode": "lines",
         "name": "Magnetic heading (deg)",
         "type": "scatter",
         "x": [
          "2025-04-25T15:53:01.000000000",
          "2025-04-25T15:53:02.000000000",
          "2025-04-25T15:53:03.000000000",
          "2025-04-25T15:53:04.000000000",
          "2025-04-25T15:53:05.000000000",
          "2025-04-25T15:53:06.000000000",
          "2025-04-25T15:53:07.000000000",
          "2025-04-25T15:53:08.000000000",
          "2025-04-25T15:53:09.000000000",
          "2025-04-25T15:53:10.000000000",
          "2025-04-25T15:53:11.000000000",
          "2025-04-25T15:53:12.000000000",
          "2025-04-25T15:53:13.000000000",
          "2025-04-25T15:53:14.000000000",
          "2025-04-25T15:53:15.000000000",
          "2025-04-25T15:53:16.000000000",
          "2025-04-25T15:53:17.000000000",
          "2025-04-25T15:53:18.000000000",
          "2025-04-25T15:53:19.000000000",
          "2025-04-25T15:53:20.000000000",
          "2025-04-25T15:53:21.000000000",
          "2025-04-25T15:53:22.000000000",
          "2025-04-25T15:53:23.000000000",
          "2025-04-25T15:53:24.000000000",
          "2025-04-25T15:53:25.000000000",
          "2025-04-25T15:53:26.000000000",
          "2025-04-25T15:53:27.000000000",
          "2025-04-25T15:53:28.000000000",
          "2025-04-25T15:53:29.000000000",
          "2025-04-25T15:53:30.000000000",
          "2025-04-25T15:53:31.000000000",
          "2025-04-25T15:53:32.000000000",
          "2025-04-25T15:53:33.000000000",
          "2025-04-25T15:53:34.000000000",
          "2025-04-25T15:53:35.000000000",
          "2025-04-25T15:53:36.000000000",
          "2025-04-25T15:53:37.000000000",
          "2025-04-25T15:53:38.000000000",
          "2025-04-25T15:53:39.000000000",
          "2025-04-25T15:53:40.000000000",
          "2025-04-25T15:53:41.000000000",
          "2025-04-25T15:53:42.000000000",
          "2025-04-25T15:53:43.000000000",
          "2025-04-25T15:53:44.000000000",
          "2025-04-25T15:53:45.000000000",
          "2025-04-25T15:53:46.000000000",
          "2025-04-25T15:53:47.000000000",
          "2025-04-25T15:53:48.000000000",
          "2025-04-25T15:53:49.000000000",
          "2025-04-25T15:53:50.000000000",
          "2025-04-25T15:53:51.000000000",
          "2025-04-25T15:53:52.000000000",
          "2025-04-25T15:53:53.000000000",
          "2025-04-25T15:53:54.000000000",
          "2025-04-25T15:53:55.000000000",
          "2025-04-25T15:53:56.000000000",
          "2025-04-25T15:53:57.000000000",
          "2025-04-25T15:53:58.000000000",
          "2025-04-25T15:53:59.000000000",
          "2025-04-25T15:54:00.000000000",
          "2025-04-25T15:54:01.000000000",
          "2025-04-25T15:54:02.000000000",
          "2025-04-25T15:54:03.000000000",
          "2025-04-25T15:54:04.000000000",
          "2025-04-25T15:54:05.000000000",
          "2025-04-25T15:54:06.000000000",
          "2025-04-25T15:54:07.000000000",
          "2025-04-25T15:54:08.000000000",
          "2025-04-25T15:54:09.000000000",
          "2025-04-25T15:54:10.000000000",
          "2025-04-25T15:54:11.000000000",
          "2025-04-25T15:54:12.000000000",
          "2025-04-25T15:54:13.000000000",
          "2025-04-25T15:54:14.000000000",
          "2025-04-25T15:54:15.000000000",
          "2025-04-25T15:54:16.000000000",
          "2025-04-25T15:54:17.000000000",
          "2025-04-25T15:54:18.000000000",
          "2025-04-25T15:54:19.000000000",
          "2025-04-25T15:54:20.000000000",
          "2025-04-25T15:54:21.000000000",
          "2025-04-25T15:54:22.000000000",
          "2025-04-25T15:54:23.000000000",
          "2025-04-25T15:54:24.000000000",
          "2025-04-25T15:54:25.000000000",
          "2025-04-25T15:54:26.000000000",
          "2025-04-25T15:54:27.000000000",
          "2025-04-25T15:54:28.000000000",
          "2025-04-25T15:54:29.000000000",
          "2025-04-25T15:54:30.000000000",
          "2025-04-25T15:54:31.000000000",
          "2025-04-25T15:54:32.000000000",
          "2025-04-25T15:54:33.000000000",
          "2025-04-25T15:54:34.000000000",
          "2025-04-25T15:54:35.000000000",
          "2025-04-25T15:54:36.000000000",
          "2025-04-25T15:54:37.000000000",
          "2025-04-25T15:54:38.000000000",
          "2025-04-25T15:54:39.000000000",
          "2025-04-25T15:54:40.000000000",
          "2025-04-25T15:54:41.000000000",
          "2025-04-25T15:54:42.000000000",
          "2025-04-25T15:54:43.000000000",
          "2025-04-25T15:54:44.000000000",
          "2025-04-25T15:54:45.000000000",
          "2025-04-25T15:54:46.000000000",
          "2025-04-25T15:54:47.000000000",
          "2025-04-25T15:54:48.000000000",
          "2025-04-25T15:54:49.000000000",
          "2025-04-25T15:54:50.000000000",
          "2025-04-25T15:54:51.000000000",
          "2025-04-25T15:54:52.000000000",
          "2025-04-25T15:54:53.000000000",
          "2025-04-25T15:54:54.000000000",
          "2025-04-25T15:54:55.000000000",
          "2025-04-25T15:54:56.000000000",
          "2025-04-25T15:54:57.000000000",
          "2025-04-25T15:54:58.000000000",
          "2025-04-25T15:54:59.000000000",
          "2025-04-25T15:55:00.000000000",
          "2025-04-25T15:55:01.000000000",
          "2025-04-25T15:55:02.000000000",
          "2025-04-25T15:55:03.000000000",
          "2025-04-25T15:55:04.000000000",
          "2025-04-25T15:55:05.000000000",
          "2025-04-25T15:55:06.000000000",
          "2025-04-25T15:55:07.000000000",
          "2025-04-25T15:55:08.000000000",
          "2025-04-25T15:55:09.000000000",
          "2025-04-25T15:55:10.000000000",
          "2025-04-25T15:55:11.000000000",
          "2025-04-25T15:55:12.000000000",
          "2025-04-25T15:55:13.000000000",
          "2025-04-25T15:55:14.000000000",
          "2025-04-25T15:55:15.000000000",
          "2025-04-25T15:55:16.000000000",
          "2025-04-25T15:55:17.000000000",
          "2025-04-25T15:55:18.000000000",
          "2025-04-25T15:55:19.000000000",
          "2025-04-25T15:55:20.000000000",
          "2025-04-25T15:55:21.000000000",
          "2025-04-25T15:55:22.000000000",
          "2025-04-25T15:55:23.000000000",
          "2025-04-25T15:55:24.000000000",
          "2025-04-25T15:55:25.000000000",
          "2025-04-25T15:55:26.000000000",
          "2025-04-25T15:55:27.000000000",
          "2025-04-25T15:55:28.000000000",
          "2025-04-25T15:55:29.000000000",
          "2025-04-25T15:55:30.000000000",
          "2025-04-25T15:55:31.000000000",
          "2025-04-25T15:55:32.000000000",
          "2025-04-25T15:55:33.000000000",
          "2025-04-25T15:55:34.000000000",
          "2025-04-25T15:55:35.000000000",
          "2025-04-25T15:55:36.000000000",
          "2025-04-25T15:55:37.000000000",
          "2025-04-25T15:55:38.000000000",
          "2025-04-25T15:55:39.000000000"
         ],
         "xaxis": "x3",
         "y": {
          "bdata": "Y3xlfGV8aUBjfGV8ZXxpQD08Pzw/fGlAP3xBfEF8aUA/fEF8QXxpQFy8XrxefGlAcfxy/HJ8aUBqPGw8bHxpQAu8DbwNfGlA4fvi++J7aUCve7F7sXtpQL37vvu+e2lAvjvBO8F7aUDBe8N7w3tpQBA8EjwSfGlAovuj+6N7aUBDe0V7RXtpQGL7ZPtke2lAuHu6e7p7aUCjO6Y7pntpQFD7UvtSe2lAAjsEOwR7aUCu+rD6sHppQP66/7r/emlAsTqzOrN6aUCwOrM6s3ppQAo7DTsNe2lAuPq5+rl6aUDDOsU6xXppQAI7BDsEe2lAbjtwO3B7aUC+O8E7wXtpQKr7rPuse2lAATkDOQN5aUCydrN2s3ZpQGF2YnZidmlAgPaB9oF2aUDKNsw2zHZpQNp123XbdWlAS7VNtU11aUCKtYy1jHVpQFS1VrVWdWlAQHVCdUJ1aUAldSd1J3VpQNI01DTUdGlAETUTNRN1aUAudTB1MHVpQMC1wrXCdWlAErYTthN2aUBMNk42TnZpQHf2ePZ4dmlAkLaRtpF2aUBc9l32XXZpQDN2NXY1dmlARnZHdkd2aUAAtgG2AXZpQIq1jLWMdWlANTU3NTd1aUB/dYF1gXVpQDN2NXY1dmlA7Pbt9u12aUDN9873zndpQBX4FvgWeGlAzXjPeM94aUCiOaU5pXlpQMR4xnjGeGlAbvhw+HB4aUAreC14LXhpQON35Xfld2lADjgQOBB4aUDsd+537ndpQMq3zLfMd2lAEHgSeBJ4aUBieGN4Y3hpQJL4lPiUeGlAVPhV+FV4aUBU+FX4VXhpQCS4JrgmeGlAGXgbeBt4aUAKuAu4C3hpQO638Lfwd2lAB3gJeAl4aUDN9873zndpQJJ3lHeUd2lAcvd093R3aUCCt4S3hHdpQL03vze/d2lA/ncAeAB4aUDON9E30XdpQJS3lreWd2lAyHfKd8p3aUCad513nXdpQHL3dPd0d2lAQ7dFt0V3aUBX91n3WXdpQMP3xffFd2lAyrfMt8x3aUB1N3c3d3dpQHL3dPd0d2lApHemd6Z3aUBet2C3YHdpQJp3nXedd2lAsze2N7Z3aUDRd9N303dpQLZ3uHe4d2lAo3emd6Z3aUDhN+M343dpQAC4ArgCeGlA9Xf3d/d3aUDKt8y3zHdpQMq3zLfMd2lA2nfcd9x3aUC+d8F3wXdpQNO31bfVd2lAvDe/N793aUChN6Q3pHdpQNp33Hfcd2lA5/fp9+l3aUC+d8F3wXdpQPw3/jf+d2lA7Hfud+53aUDe9+D34HdpQKN3pnemd2lAZXdnd2d3aUBKd0x3THdpQEp3THdMd2lARvdH90d3aUBX91n3WXdpQEF3Q3dDd2lALTcvNy93aUA4dzp3OndpQFE3UzdTd2lAQXdDd0N3aUBDt0W3RXdpQFf3WfdZd2lAOrc8tzx3aUAWtxi3GHdpQBR3FncWd2lAGzcdNx13aUAH9wj3CHdpQCm3Krcqd2lAIvcj9yN3aUD3Nvk2+XZpQOh26XbpdmlA+nb7dvt2aUDmNuc253ZpQO327fbtdmlA6rbrtut2aUAmdyh3KHdpQD43QTdBd2lAL3cxdzF3aUAH9wj3CHdpQB53H3cfd2lAEjcUNxR3aUDs9u327XZpQBn3Gvcad2lAOrc8tzx3aUA4dzp3OndpQKN3pnemd2lA",
          "dtype": "f8"
         },
         "yaxis": "y5"
        },
        {
         "line": {
          "color": "blue"
         },
         "mode": "lines",
         "name": "Pressure Altitude (ft)",
         "type": "scatter",
         "x": [
          "2025-04-25T15:56:49.000000000",
          "2025-04-25T15:56:50.000000000",
          "2025-04-25T15:56:51.000000000",
          "2025-04-25T15:56:52.000000000",
          "2025-04-25T15:56:53.000000000",
          "2025-04-25T15:56:54.000000000",
          "2025-04-25T15:56:55.000000000",
          "2025-04-25T15:56:56.000000000",
          "2025-04-25T15:56:57.000000000",
          "2025-04-25T15:56:58.000000000",
          "2025-04-25T15:56:59.000000000",
          "2025-04-25T15:57:00.000000000",
          "2025-04-25T15:57:01.000000000",
          "2025-04-25T15:57:02.000000000",
          "2025-04-25T15:57:03.000000000",
          "2025-04-25T15:57:04.000000000",
          "2025-04-25T15:57:05.000000000",
          "2025-04-25T15:57:06.000000000",
          "2025-04-25T15:57:07.000000000",
          "2025-04-25T15:57:08.000000000",
          "2025-04-25T15:57:09.000000000",
          "2025-04-25T15:57:10.000000000",
          "2025-04-25T15:57:11.000000000",
          "2025-04-25T15:57:12.000000000",
          "2025-04-25T15:57:13.000000000",
          "2025-04-25T15:57:14.000000000",
          "2025-04-25T15:57:15.000000000",
          "2025-04-25T15:57:16.000000000",
          "2025-04-25T15:57:17.000000000",
          "2025-04-25T15:57:18.000000000",
          "2025-04-25T15:57:19.000000000",
          "2025-04-25T15:57:20.000000000",
          "2025-04-25T15:57:21.000000000",
          "2025-04-25T15:57:22.000000000",
          "2025-04-25T15:57:23.000000000",
          "2025-04-25T15:57:24.000000000",
          "2025-04-25T15:57:25.000000000",
          "2025-04-25T15:57:26.000000000",
          "2025-04-25T15:57:27.000000000",
          "2025-04-25T15:57:28.000000000",
          "2025-04-25T15:57:29.000000000",
          "2025-04-25T15:57:30.000000000",
          "2025-04-25T15:57:31.000000000",
          "2025-04-25T15:57:32.000000000",
          "2025-04-25T15:57:33.000000000",
          "2025-04-25T15:57:34.000000000",
          "2025-04-25T15:57:35.000000000",
          "2025-04-25T15:57:36.000000000",
          "2025-04-25T15:57:37.000000000",
          "2025-04-25T15:57:38.000000000",
          "2025-04-25T15:57:39.000000000",
          "2025-04-25T15:57:40.000000000",
          "2025-04-25T15:57:41.000000000",
          "2025-04-25T15:57:42.000000000",
          "2025-04-25T15:57:43.000000000",
          "2025-04-25T15:57:44.000000000",
          "2025-04-25T15:57:45.000000000",
          "2025-04-25T15:57:46.000000000",
          "2025-04-25T15:57:47.000000000",
          "2025-04-25T15:57:48.000000000",
          "2025-04-25T15:57:49.000000000",
          "2025-04-25T15:57:50.000000000",
          "2025-04-25T15:57:51.000000000",
          "2025-04-25T15:57:52.000000000",
          "2025-04-25T15:57:53.000000000",
          "2025-04-25T15:57:54.000000000",
          "2025-04-25T15:57:55.000000000",
          "2025-04-25T15:57:56.000000000",
          "2025-04-25T15:57:57.000000000",
          "2025-04-25T15:57:58.000000000",
          "2025-04-25T15:57:59.000000000",
          "2025-04-25T15:58:00.000000000",
          "2025-04-25T15:58:01.000000000",
          "2025-04-25T15:58:02.000000000",
          "2025-04-25T15:58:03.000000000",
          "2025-04-25T15:58:04.000000000",
          "2025-04-25T15:58:05.000000000",
          "2025-04-25T15:58:06.000000000",
          "2025-04-25T15:58:07.000000000",
          "2025-04-25T15:58:08.000000000",
          "2025-04-25T15:58:09.000000000",
          "2025-04-25T15:58:10.000000000",
          "2025-04-25T15:58:11.000000000",
          "2025-04-25T15:58:12.000000000",
          "2025-04-25T15:58:13.000000000",
          "2025-04-25T15:58:14.000000000",
          "2025-04-25T15:58:15.000000000",
          "2025-04-25T15:58:16.000000000",
          "2025-04-25T15:58:17.000000000",
          "2025-04-25T15:58:18.000000000",
          "2025-04-25T15:58:19.000000000",
          "2025-04-25T15:58:20.000000000",
          "2025-04-25T15:58:21.000000000",
          "2025-04-25T15:58:22.000000000",
          "2025-04-25T15:58:23.000000000"
         ],
         "xaxis": "x4",
         "y": {
          "bdata": "AAAAAAASokAAAAAAABKiQAAAAAAAEqJAzczMzMwRokAzMzMzMxGiQAAAAAAAEqJAAAAAAAASokAAAAAAABKiQM3MzMxMEaJAZmZmZuYQokBmZmZm5g+iQAAAAAAAEKJAAAAAAAAQokDNzMzMzA+iQAAAAAAADqJAAAAAAAAOokCamZmZGQ2iQGZmZmbmDKJAAAAAAAAOokAAAAAAgA2iQJqZmZkZDKJAAAAAAAAOokAAAAAAAA6iQM3MzMzMD6JAmpmZmRkOokAAAAAAAA6iQAAAAAAADqJAAAAAAIANokDNzMzMzA2iQM3MzMxMDqJAmpmZmZkQokAzMzMzMxGiQJqZmZkZE6JAzczMzEwUokBmZmZm5hOiQM3MzMxMFKJAMzMzMzMUokAAAAAAABSiQDMzMzOzE6JAmpmZmZkQokAzMzMzsw2iQJqZmZkZC6JAmpmZmZkKokAAAAAAAAyiQAAAAAAADKJAAAAAAAAMokAzMzMzMwyiQM3MzMzMD6JAMzMzMzMQokAzMzMzsw6iQJqZmZkZDaJAAAAAAAAMokBmZmZm5gqiQAAAAAAADKJAAAAAAAAMokAAAAAAAAyiQM3MzMzMCqJAAAAAAAAKokAAAAAAAAqiQGZmZmbmCqJAmpmZmZkNokBmZmZmZg6iQAAAAAAADqJAMzMzMzMPokAAAAAAgA+iQDMzMzOzD6JAAAAAAAAOokAAAAAAAA6iQJqZmZkZDaJAAAAAAAAOokAAAAAAgA6iQJqZmZkZEaJAAAAAAIAVokDNzMzMzBWiQJqZmZmZEKJAzczMzEwMokAAAAAAAAyiQAAAAAAADKJAzczMzMwLokBmZmZmZguiQAAAAAAADKJAAAAAAAAMokAAAAAAAAyiQAAAAAAADKJAMzMzM7MMokAAAAAAAA6iQJqZmZkZDaJAAAAAAAAMokAAAAAAAAyiQDMzMzOzC6JAAAAAAAAMokAAAAAAAAyiQJqZmZkZC6JAAAAAAAAKokAAAAAAAAyiQA==",
          "dtype": "f8"
         },
         "yaxis": "y7"
        },
        {
         "line": {
          "color": "red"
         },
         "mode": "lines",
         "name": "Calibrated Airspeed  (kt)",
         "type": "scatter",
         "x": [
          "2025-04-25T15:56:49.000000000",
          "2025-04-25T15:56:50.000000000",
          "2025-04-25T15:56:51.000000000",
          "2025-04-25T15:56:52.000000000",
          "2025-04-25T15:56:53.000000000",
          "2025-04-25T15:56:54.000000000",
          "2025-04-25T15:56:55.000000000",
          "2025-04-25T15:56:56.000000000",
          "2025-04-25T15:56:57.000000000",
          "2025-04-25T15:56:58.000000000",
          "2025-04-25T15:56:59.000000000",
          "2025-04-25T15:57:00.000000000",
          "2025-04-25T15:57:01.000000000",
          "2025-04-25T15:57:02.000000000",
          "2025-04-25T15:57:03.000000000",
          "2025-04-25T15:57:04.000000000",
          "2025-04-25T15:57:05.000000000",
          "2025-04-25T15:57:06.000000000",
          "2025-04-25T15:57:07.000000000",
          "2025-04-25T15:57:08.000000000",
          "2025-04-25T15:57:09.000000000",
          "2025-04-25T15:57:10.000000000",
          "2025-04-25T15:57:11.000000000",
          "2025-04-25T15:57:12.000000000",
          "2025-04-25T15:57:13.000000000",
          "2025-04-25T15:57:14.000000000",
          "2025-04-25T15:57:15.000000000",
          "2025-04-25T15:57:16.000000000",
          "2025-04-25T15:57:17.000000000",
          "2025-04-25T15:57:18.000000000",
          "2025-04-25T15:57:19.000000000",
          "2025-04-25T15:57:20.000000000",
          "2025-04-25T15:57:21.000000000",
          "2025-04-25T15:57:22.000000000",
          "2025-04-25T15:57:23.000000000",
          "2025-04-25T15:57:24.000000000",
          "2025-04-25T15:57:25.000000000",
          "2025-04-25T15:57:26.000000000",
          "2025-04-25T15:57:27.000000000",
          "2025-04-25T15:57:28.000000000",
          "2025-04-25T15:57:29.000000000",
          "2025-04-25T15:57:30.000000000",
          "2025-04-25T15:57:31.000000000",
          "2025-04-25T15:57:32.000000000",
          "2025-04-25T15:57:33.000000000",
          "2025-04-25T15:57:34.000000000",
          "2025-04-25T15:57:35.000000000",
          "2025-04-25T15:57:36.000000000",
          "2025-04-25T15:57:37.000000000",
          "2025-04-25T15:57:38.000000000",
          "2025-04-25T15:57:39.000000000",
          "2025-04-25T15:57:40.000000000",
          "2025-04-25T15:57:41.000000000",
          "2025-04-25T15:57:42.000000000",
          "2025-04-25T15:57:43.000000000",
          "2025-04-25T15:57:44.000000000",
          "2025-04-25T15:57:45.000000000",
          "2025-04-25T15:57:46.000000000",
          "2025-04-25T15:57:47.000000000",
          "2025-04-25T15:57:48.000000000",
          "2025-04-25T15:57:49.000000000",
          "2025-04-25T15:57:50.000000000",
          "2025-04-25T15:57:51.000000000",
          "2025-04-25T15:57:52.000000000",
          "2025-04-25T15:57:53.000000000",
          "2025-04-25T15:57:54.000000000",
          "2025-04-25T15:57:55.000000000",
          "2025-04-25T15:57:56.000000000",
          "2025-04-25T15:57:57.000000000",
          "2025-04-25T15:57:58.000000000",
          "2025-04-25T15:57:59.000000000",
          "2025-04-25T15:58:00.000000000",
          "2025-04-25T15:58:01.000000000",
          "2025-04-25T15:58:02.000000000",
          "2025-04-25T15:58:03.000000000",
          "2025-04-25T15:58:04.000000000",
          "2025-04-25T15:58:05.000000000",
          "2025-04-25T15:58:06.000000000",
          "2025-04-25T15:58:07.000000000",
          "2025-04-25T15:58:08.000000000",
          "2025-04-25T15:58:09.000000000",
          "2025-04-25T15:58:10.000000000",
          "2025-04-25T15:58:11.000000000",
          "2025-04-25T15:58:12.000000000",
          "2025-04-25T15:58:13.000000000",
          "2025-04-25T15:58:14.000000000",
          "2025-04-25T15:58:15.000000000",
          "2025-04-25T15:58:16.000000000",
          "2025-04-25T15:58:17.000000000",
          "2025-04-25T15:58:18.000000000",
          "2025-04-25T15:58:19.000000000",
          "2025-04-25T15:58:20.000000000",
          "2025-04-25T15:58:21.000000000",
          "2025-04-25T15:58:22.000000000",
          "2025-04-25T15:58:23.000000000"
         ],
         "xaxis": "x4",
         "y": {
          "bdata": "ZmZmZmZmCkDNzMzMzMwGQJqZmZmZGQlAzczMzMwMEUAzMzMzMzMIQDMzMzMzswpAMzMzMzMz/D8zMzMzMzMBQJqZmZmZmQBAzczMzMzMDECamZmZmZkAQDMzMzMzswBAMzMzMzMz5z+amZmZmZnyPzMzMzMzM/A/mpmZmZmZ8T+amZmZmRkEQGZmZmZm5ghAAAAAAACAE0BmZmZmZuYMQGZmZmZm5gFAMzMzMzMzBUCamZmZmZnRP5qZmZmZGQZAzczMzMxMG0BmZmZmZiYZQDMzMzMzswpAmpmZmZmZA0AAAAAAAAAHQAAAAAAAAOw/AAAAAACABkCamZmZmRkLQAAAAAAAgAtAmpmZmZmZCUDNzMzMzMz8P83MzMzMzA5AAAAAAAAADUBmZmZmZuYUQDMzMzMz8xlAZmZmZmZmFUCamZmZmRkTQDMzMzMzsxZAMzMzMzNzF0AzMzMzM3MZQAAAAAAAQB5AMzMzMzNzHUCamZmZmVkhQDMzMzMz8xBAZmZmZmbmDEDNzMzMzIwfQM3MzMzMjCFAZmZmZmZmHEAAAAAAAEAfQJqZmZmZ2R5AzczMzMyMIUDNzMzMzCwiQGZmZmZm5iBAzczMzMzsIUCamZmZmVklQM3MzMzMrCJAMzMzMzOzEEDNzMzMzMwRQDMzMzMzM/w/MzMzMzMz8D9mZmZmZmbzP83MzMzMDBZAzczMzMyMFEBmZmZmZuYWQJqZmZmZmRVAZmZmZmYmF0BmZmZmZqYTQDMzMzMzsw9AZmZmZmZmAEAzMzMzM/MTQDMzMzMzcxtAzczMzMzMEkCamZmZmdkSQM3MzMzMjBRAzczMzMyMGEBmZmZmZsYgQGZmZmZmZiJAZmZmZmYGJUAAAAAAAAArQAAAAAAAQC9AmpmZmZnZKUAAAAAAAMAjQAAAAAAAQCZAzczMzMxMJUAAAAAAAMAeQM3MzMzMDB1AmpmZmZnZIUDNzMzMzAwiQJqZmZmZGR5AmpmZmZkZFkAAAAAAAAATQA==",
          "dtype": "f8"
         },
         "yaxis": "y8"
        },
        {
         "line": {
          "color": "purple"
         },
         "mode": "lines",
         "name": "Bank angle (deg)",
         "type": "scatter",
         "x": [
          "2025-04-25T15:56:49.000000000",
          "2025-04-25T15:56:50.000000000",
          "2025-04-25T15:56:51.000000000",
          "2025-04-25T15:56:52.000000000",
          "2025-04-25T15:56:53.000000000",
          "2025-04-25T15:56:54.000000000",
          "2025-04-25T15:56:55.000000000",
          "2025-04-25T15:56:56.000000000",
          "2025-04-25T15:56:57.000000000",
          "2025-04-25T15:56:58.000000000",
          "2025-04-25T15:56:59.000000000",
          "2025-04-25T15:57:00.000000000",
          "2025-04-25T15:57:01.000000000",
          "2025-04-25T15:57:02.000000000",
          "2025-04-25T15:57:03.000000000",
          "2025-04-25T15:57:04.000000000",
          "2025-04-25T15:57:05.000000000",
          "2025-04-25T15:57:06.000000000",
          "2025-04-25T15:57:07.000000000",
          "2025-04-25T15:57:08.000000000",
          "2025-04-25T15:57:09.000000000",
          "2025-04-25T15:57:10.000000000",
          "2025-04-25T15:57:11.000000000",
          "2025-04-25T15:57:12.000000000",
          "2025-04-25T15:57:13.000000000",
          "2025-04-25T15:57:14.000000000",
          "2025-04-25T15:57:15.000000000",
          "2025-04-25T15:57:16.000000000",
          "2025-04-25T15:57:17.000000000",
          "2025-04-25T15:57:18.000000000",
          "2025-04-25T15:57:19.000000000",
          "2025-04-25T15:57:20.000000000",
          "2025-04-25T15:57:21.000000000",
          "2025-04-25T15:57:22.000000000",
          "2025-04-25T15:57:23.000000000",
          "2025-04-25T15:57:24.000000000",
          "2025-04-25T15:57:25.000000000",
          "2025-04-25T15:57:26.000000000",
          "2025-04-25T15:57:27.000000000",
          "2025-04-25T15:57:28.000000000",
          "2025-04-25T15:57:29.000000000",
          "2025-04-25T15:57:30.000000000",
          "2025-04-25T15:57:31.000000000",
          "2025-04-25T15:57:32.000000000",
          "2025-04-25T15:57:33.000000000",
          "2025-04-25T15:57:34.000000000",
          "2025-04-25T15:57:35.000000000",
          "2025-04-25T15:57:36.000000000",
          "2025-04-25T15:57:37.000000000",
          "2025-04-25T15:57:38.000000000",
          "2025-04-25T15:57:39.000000000",
          "2025-04-25T15:57:40.000000000",
          "2025-04-25T15:57:41.000000000",
          "2025-04-25T15:57:42.000000000",
          "2025-04-25T15:57:43.000000000",
          "2025-04-25T15:57:44.000000000",
          "2025-04-25T15:57:45.000000000",
          "2025-04-25T15:57:46.000000000",
          "2025-04-25T15:57:47.000000000",
          "2025-04-25T15:57:48.000000000",
          "2025-04-25T15:57:49.000000000",
          "2025-04-25T15:57:50.000000000",
          "2025-04-25T15:57:51.000000000",
          "2025-04-25T15:57:52.000000000",
          "2025-04-25T15:57:53.000000000",
          "2025-04-25T15:57:54.000000000",
          "2025-04-25T15:57:55.000000000",
          "2025-04-25T15:57:56.000000000",
          "2025-04-25T15:57:57.000000000",
          "2025-04-25T15:57:58.000000000",
          "2025-04-25T15:57:59.000000000",
          "2025-04-25T15:58:00.000000000",
          "2025-04-25T15:58:01.000000000",
          "2025-04-25T15:58:02.000000000",
          "2025-04-25T15:58:03.000000000",
          "2025-04-25T15:58:04.000000000",
          "2025-04-25T15:58:05.000000000",
          "2025-04-25T15:58:06.000000000",
          "2025-04-25T15:58:07.000000000",
          "2025-04-25T15:58:08.000000000",
          "2025-04-25T15:58:09.000000000",
          "2025-04-25T15:58:10.000000000",
          "2025-04-25T15:58:11.000000000",
          "2025-04-25T15:58:12.000000000",
          "2025-04-25T15:58:13.000000000",
          "2025-04-25T15:58:14.000000000",
          "2025-04-25T15:58:15.000000000",
          "2025-04-25T15:58:16.000000000",
          "2025-04-25T15:58:17.000000000",
          "2025-04-25T15:58:18.000000000",
          "2025-04-25T15:58:19.000000000",
          "2025-04-25T15:58:20.000000000",
          "2025-04-25T15:58:21.000000000",
          "2025-04-25T15:58:22.000000000",
          "2025-04-25T15:58:23.000000000"
         ],
         "xaxis": "x5",
         "y": {
          "bdata": "ioJHwaPg0T+KpkfTo+nRP4pMR6Yj09E/ipRHyiPl0T+KXkevo9fRP4m8Rl4jr9E/iapGVaOq0T+JBEeCI8HRP4rKR+Wj8tE/i5BISCQk0j+LbEg2JBvSP4o2SBukDdI/ispH5aPy0T+KAEgAJADSP4q4R9wj7tE/i1pILaQW0j+LbEg2JBvSP4rcR+4j99E/iiRIEiQJ0j+LbEg2JBvSP4wOSYekQ9I/jPxIfiQ/0j+KAEgAJADSP4o2SBukDdI/iqZH06Pp0T+K3EfuI/fRP4oASAAkANI/igBIACQA0j+KAEgAJADSP4qmR9Oj6dE/ipRHyiPl0T+KXkevo9fRP4peR6+j19E/iQRHgiPB0T+KlEfKI+XRP4oSSAmkBNI/iu5H96P70T+KpkfTo+nRP4tsSDYkG9I/jPxIfiQ/0j+MMkmZpEzSP41WSaukVdI/i6JIUaQo0j+LbEg2JBvSP4uQSEgkJNI/kTxLniXP0j+OHEoOJYfSP44cSg4lh9I/j75KX6Wv0j+RhEvCJeHSP5FyS7ml3NI/kvBL+CX80j+TXEwuJhfTP5OATEAmINM/kvBL+CX80j+TgExAJiDTP5bETeImcdM/qghYBCwC1j+rmFhMLCbWP6uGWEOsIdY/q4ZYQ6wh1j+qLFgWLAvWP6p4V7wr3tU/qopXxavi1T+qeFe8K97VP6pUV6or1dU/qlRXqivV1T+qDFeGK8PVP6owV5grzNU/qbJWWaus1T+oRlYjq5HVP6WWVEuqJdU/pahUVCoq1T+mpFXSKmnVP6rWVmurtdU/qq5X16vr1T+qeFe8K97VP6oMV4Yrw9U/qtZWa6u11T+qrlfXq+vVP6pUV6or1dU/quhWdCu61T+oWFYsK5bVP6hGViOrkdU/pjhVnCpO1T+mSlWlqlLVP6Y4VZwqTtU/p/5V/6p/1T+oRlYjq5HVP6f+Vf+qf9U/qXxWPiuf1T+oWFYsK5bVP6myVlmrrNU/qcRWYiux1T+qMFeYK8zVPw==",
          "dtype": "f8"
         },
         "yaxis": "y9"
        },
        {
         "line": {
          "color": "green"
         },
         "mode": "lines",
         "name": "Load factor (g)",
         "type": "scatter",
         "x": [
          "2025-04-25T15:56:49.000000000",
          "2025-04-25T15:56:50.000000000",
          "2025-04-25T15:56:51.000000000",
          "2025-04-25T15:56:52.000000000",
          "2025-04-25T15:56:53.000000000",
          "2025-04-25T15:56:54.000000000",
          "2025-04-25T15:56:55.000000000",
          "2025-04-25T15:56:56.000000000",
          "2025-04-25T15:56:57.000000000",
          "2025-04-25T15:56:58.000000000",
          "2025-04-25T15:56:59.000000000",
          "2025-04-25T15:57:00.000000000",
          "2025-04-25T15:57:01.000000000",
          "2025-04-25T15:57:02.000000000",
          "2025-04-25T15:57:03.000000000",
          "2025-04-25T15:57:04.000000000",
          "2025-04-25T15:57:05.000000000",
          "2025-04-25T15:57:06.000000000",
          "2025-04-25T15:57:07.000000000",
          "2025-04-25T15:57:08.000000000",
          "2025-04-25T15:57:09.000000000",
          "2025-04-25T15:57:10.000000000",
          "2025-04-25T15:57:11.000000000",
          "2025-04-25T15:57:12.000000000",
          "2025-04-25T15:57:13.000000000",
          "2025-04-25T15:57:14.000000000",
          "2025-04-25T15:57:15.000000000",
          "2025-04-25T15:57:16.000000000",
          "2025-04-25T15:57:17.000000000",
          "2025-04-25T15:57:18.000000000",
          "2025-04-25T15:57:19.000000000",
          "2025-04-25T15:57:20.000000000",
          "2025-04-25T15:57:21.000000000",
          "2025-04-25T15:57:22.000000000",
          "2025-04-25T15:57:23.000000000",
          "2025-04-25T15:57:24.000000000",
          "2025-04-25T15:57:25.000000000",
          "2025-04-25T15:57:26.000000000",
          "2025-04-25T15:57:27.000000000",
          "2025-04-25T15:57:28.000000000",
          "2025-04-25T15:57:29.000000000",
          "2025-04-25T15:57:30.000000000",
          "2025-04-25T15:57:31.000000000",
          "2025-04-25T15:57:32.000000000",
          "2025-04-25T15:57:33.000000000",
          "2025-04-25T15:57:34.000000000",
          "2025-04-25T15:57:35.000000000",
          "2025-04-25T15:57:36.000000000",
          "2025-04-25T15:57:37.000000000",
          "2025-04-25T15:57:38.000000000",
          "2025-04-25T15:57:39.000000000",
          "2025-04-25T15:57:40.000000000",
          "2025-04-25T15:57:41.000000000",
          "2025-04-25T15:57:42.000000000",
          "2025-04-25T15:57:43.000000000",
          "2025-04-25T15:57:44.000000000",
          "2025-04-25T15:57:45.000000000",
          "2025-04-25T15:57:46.000000000",
          "2025-04-25T15:57:47.000000000",
          "2025-04-25T15:57:48.000000000",
          "2025-04-25T15:57:49.000000000",
          "2025-04-25T15:57:50.000000000",
          "2025-04-25T15:57:51.000000000",
          "2025-04-25T15:57:52.000000000",
          "2025-04-25T15:57:53.000000000",
          "2025-04-25T15:57:54.000000000",
          "2025-04-25T15:57:55.000000000",
          "2025-04-25T15:57:56.000000000",
          "2025-04-25T15:57:57.000000000",
          "2025-04-25T15:57:58.000000000",
          "2025-04-25T15:57:59.000000000",
          "2025-04-25T15:58:00.000000000",
          "2025-04-25T15:58:01.000000000",
          "2025-04-25T15:58:02.000000000",
          "2025-04-25T15:58:03.000000000",
          "2025-04-25T15:58:04.000000000",
          "2025-04-25T15:58:05.000000000",
          "2025-04-25T15:58:06.000000000",
          "2025-04-25T15:58:07.000000000",
          "2025-04-25T15:58:08.000000000",
          "2025-04-25T15:58:09.000000000",
          "2025-04-25T15:58:10.000000000",
          "2025-04-25T15:58:11.000000000",
          "2025-04-25T15:58:12.000000000",
          "2025-04-25T15:58:13.000000000",
          "2025-04-25T15:58:14.000000000",
          "2025-04-25T15:58:15.000000000",
          "2025-04-25T15:58:16.000000000",
          "2025-04-25T15:58:17.000000000",
          "2025-04-25T15:58:18.000000000",
          "2025-04-25T15:58:19.000000000",
          "2025-04-25T15:58:20.000000000",
          "2025-04-25T15:58:21.000000000",
          "2025-04-25T15:58:22.000000000",
          "2025-04-25T15:58:23.000000000"
         ],
         "xaxis": "x5",
         "y": {
          "bdata": "ucs7dgwA8D+dLcuCDADwPzKRcGMMAPA/hLKCfAwA8D8Qu7JpDADwP1AdmDEMAPA/NipkKwwA8D/LtHdKDADwP73gYI8MAPA/7yUJ1QwA8D8JtFDIDADwP3/hR7UMAPA/veBgjwwA8D+7RU2iDADwPwY9FYkMAPA/jNn2wQwA8D8JtFDIDADwP8MYrpUMAPA/78PyrgwA8D8JtFDIDADwP050wAENAPA/CmNY+wwA8D+7RU2iDADwP3/hR7UMAPA/nS3LggwA8D/DGK6VDADwP7tFTaIMAPA/u0VNogwA8D+7RU2iDADwP50ty4IMAPA/hLKCfAwA8D8Qu7JpDADwPxC7smkMAPA/y7R3SgwA8D+EsoJ8DADwP646n6gMAPA/F+X8mwwA8D+dLcuCDADwPwm0UMgMAPA/CmNY+wwA8D/CU5UODQDwP3OEcBsNAPA/Wb1n2wwA8D8JtFDIDADwP+8lCdUMAPA/4ORpyw0A8D9Y/JZiDQDwP1j8lmINAPA/Yt9bnQ0A8D9qy93lDQDwP1BzPt8NAPA/iAa7DQ4A8D/WHNE1DgDwP21xOkMOAPA/iAa7DQ4A8D9tcTpDDgDwP8yyCr0OAPA/9qvx4hIA8D8FSe4gEwDwP0QuKRkTAPA/RC4pGRMA8D9NWWfyEgDwP2MjWqUSAPA/V40HrRIA8D9jI1qlEgDwP3EMBJYSAPA/cQwElhIA8D9i0mp3EgDwP8ZGtIYSAPA//tJOURIA8D8Nv8cjEgDwP98B5G8RAPA/xKpQdxEA8D+kvOffEQDwPzF8iGASAPA/NB5nvBIA8D9jI1qlEgDwP2LSancSAPA/MXyIYBIA8D80Hme8EgDwP3EMBJYSAPA/Ra8naBIA8D+UT1orEgDwPw2/xyMSAPA/W83ushEA8D8crWm6EQDwP1vN7rIRAPA/IUiNBRIA8D8Nv8cjEgDwPyFIjQUSAPA/li2EOhIA8D+UT1orEgDwP/7STlESAPA/bt3qWBIA8D/GRrSGEgDwPw==",
          "dtype": "f8"
         },
         "yaxis": "y10"
        },
        {
         "line": {
          "color": "orange"
         },
         "mode": "lines",
         "name": "Magnetic heading (deg)",
         "type": "scatter",
         "x": [
          "2025-04-25T15:56:49.000000000",
          "2025-04-25T15:56:50.000000000",
          "2025-04-25T15:56:51.000000000",
          "2025-04-25T15:56:52.000000000",
          "2025-04-25T15:56:53.000000000",
          "2025-04-25T15:56:54.000000000",
          "2025-04-25T15:56:55.000000000",
          "2025-04-25T15:56:56.000000000",
          "2025-04-25T15:56:57.000000000",
          "2025-04-25T15:56:58.000000000",
          "2025-04-25T15:56:59.000000000",
          "2025-04-25T15:57:00.000000000",
          "2025-04-25T15:57:01.000000000",
          "2025-04-25T15:57:02.000000000",
          "2025-04-25T15:57:03.000000000",
          "2025-04-25T15:57:04.000000000",
          "2025-04-25T15:57:05.000000000",
          "2025-04-25T15:57:06.000000000",
          "2025-04-25T15:57:07.000000000",
          "2025-04-25T15:57:08.000000000",
          "2025-04-25T15:57:09.000000000",
          "2025-04-25T15:57:10.000000000",
          "2025-04-25T15:57:11.000000000",
          "2025-04-25T15:57:12.000000000",
          "2025-04-25T15:57:13.000000000",
          "2025-04-25T15:57:14.000000000",
          "2025-04-25T15:57:15.000000000",
          "2025-04-25T15:57:16.000000000",
          "2025-04-25T15:57:17.000000000",
          "2025-04-25T15:57:18.000000000",
          "2025-04-25T15:57:19.000000000",
          "2025-04-25T15:57:20.000000000",
          "2025-04-25T15:57:21.000000000",
          "2025-04-25T15:57:22.000000000",
          "2025-04-25T15:57:23.000000000",
          "2025-04-25T15:57:24.000000000",
          "2025-04-25T15:57:25.000000000",
          "2025-04-25T15:57:26.000000000",
          "2025-04-25T15:57:27.000000000",
          "2025-04-25T15:57:28.000000000",
          "2025-04-25T15:57:29.000000000",
          "2025-04-25T15:57:30.000000000",
          "2025-04-25T15:57:31.000000000",
          "2025-04-25T15:57:32.000000000",
          "2025-04-25T15:57:33.000000000",
          "2025-04-25T15:57:34.000000000",
          "2025-04-25T15:57:35.000000000",
          "2025-04-25T15:57:36.000000000",
          "2025-04-25T15:57:37.000000000",
          "2025-04-25T15:57:38.000000000",
          "2025-04-25T15:57:39.000000000",
          "2025-04-25T15:57:40.000000000",
          "2025-04-25T15:57:41.000000000",
          "2025-04-25T15:57:42.000000000",
          "2025-04-25T15:57:43.000000000",
          "2025-04-25T15:57:44.000000000",
          "2025-04-25T15:57:45.000000000",
          "2025-04-25T15:57:46.000000000",
          "2025-04-25T15:57:47.000000000",
          "2025-04-25T15:57:48.000000000",
          "2025-04-25T15:57:49.000000000",
          "2025-04-25T15:57:50.000000000",
          "2025-04-25T15:57:51.000000000",
          "2025-04-25T15:57:52.000000000",
          "2025-04-25T15:57:53.000000000",
          "2025-04-25T15:57:54.000000000",
          "2025-04-25T15:57:55.000000000",
          "2025-04-25T15:57:56.000000000",
          "2025-04-25T15:57:57.000000000",
          "2025-04-25T15:57:58.000000000",
          "2025-04-25T15:57:59.000000000",
          "2025-04-25T15:58:00.000000000",
          "2025-04-25T15:58:01.000000000",
          "2025-04-25T15:58:02.000000000",
          "2025-04-25T15:58:03.000000000",
          "2025-04-25T15:58:04.000000000",
          "2025-04-25T15:58:05.000000000",
          "2025-04-25T15:58:06.000000000",
          "2025-04-25T15:58:07.000000000",
          "2025-04-25T15:58:08.000000000",
          "2025-04-25T15:58:09.000000000",
          "2025-04-25T15:58:10.000000000",
          "2025-04-25T15:58:11.000000000",
          "2025-04-25T15:58:12.000000000",
          "2025-04-25T15:58:13.000000000",
          "2025-04-25T15:58:14.000000000",
          "2025-04-25T15:58:15.000000000",
          "2025-04-25T15:58:16.000000000",
          "2025-04-25T15:58:17.000000000",
          "2025-04-25T15:58:18.000000000",
          "2025-04-25T15:58:19.000000000",
          "2025-04-25T15:58:20.000000000",
          "2025-04-25T15:58:21.000000000",
          "2025-04-25T15:58:22.000000000",
          "2025-04-25T15:58:23.000000000"
         ],
         "xaxis": "x6",
         "y": {
          "bdata": "h7aItoh2aUBydnR2dHZpQHJ2dHZ0dmlAZfZm9mZ2aUBRtlK2UnZpQE02TjZOdmlApfal9qV2aUBzdnR2dHZpQGO2ZLZkdmlAKnYsdix2aUAtti62LnZpQEH2QvZCdmlAQzZFNkV2aUAYdhp2GnZpQCb2J/YndmlAGrYcthx2aUAT9hX2FXZpQAi2CrYKdmlAGHYadhp2aUAItgq2CnZpQOk16zXrdWlA8jX0NfR1aUAK9gz2DHZpQCJ2I3YjdmlA5LXmteZ1aUD6Nf01/XVpQB32HvYedmlAFjYYNhh2aUAYdhp2GnZpQDE2MzYzdmlAM3Y1djV2aUA/tkC2QHZpQCO2JbYldmlABDYGNgZ2aUC+dcB1wHVpQKE1ozWjdWlAo3WldaV1aUCN9Y71jnVpQKN1pXWldWlAdnV4dXh1aUB69Xz1fHVpQDd1OXU5dWlAt7W5tbl1aUDM9c31zXVpQOS15rXmdWlAwvXE9cR1aUDONdA10HVpQB32HvYedmlAKDYqNip2aUAv9jD2MHZpQEi2SbZJdmlAcTZyNnJ2aUAidiN2I3ZpQBT2FfYVdmlAY7ZktmR2aUBstm22bXZpQD62QLZAdmlAHfYe9h52aUAv9jD2MHZpQDa2N7Y3dmlAd/Z49nh2aUCFdoZ2hnZpQIM2hDaEdmlAjnaPdo92aUCHtoi2iHZpQFq2W7ZbdmlAU/ZU9lR2aUBC9kL2QnZpQEi2SbZJdmlABnYIdgh2aUAqdix2LHZpQGO2ZLZkdmlAWrZbtlt2aUAxNjM2M3ZpQP+1AbYBdmlA+zX9Nf11aUDute+173VpQP11/3X/dWlAQfZC9kJ2aUD2tfi1+HVpQCg2KjYqdmlAJLYltiV2aUAm9if2J3ZpQOt17XXtdWlA6TXrNet1aUD9df91/3VpQPo1/TX9dWlA/7UBtgF2aUDStdS11HVpQNX11vXWdWlAnLWetZ51aUCIdYp1inVpQI31jvWOdWlAsfWy9bJ1aUC1dbd1t3VpQA==",
          "dtype": "f8"
         },
         "yaxis": "y11"
        },
        {
         "line": {
          "color": "blue"
         },
         "mode": "lines",
         "name": "Pressure Altitude (ft)",
         "type": "scatter",
         "x": [
          "2025-04-25T16:30:19.000000000",
          "2025-04-25T16:30:20.000000000",
          "2025-04-25T16:30:21.000000000",
          "2025-04-25T16:30:22.000000000",
          "2025-04-25T16:30:23.000000000",
          "2025-04-25T16:30:24.000000000",
          "2025-04-25T16:30:25.000000000",
          "2025-04-25T16:30:26.000000000",
          "2025-04-25T16:30:27.000000000",
          "2025-04-25T16:30:28.000000000",
          "2025-04-25T16:30:29.000000000",
          "2025-04-25T16:30:30.000000000",
          "2025-04-25T16:30:31.000000000",
          "2025-04-25T16:30:32.000000000",
          "2025-04-25T16:30:33.000000000",
          "2025-04-25T16:30:34.000000000",
          "2025-04-25T16:30:35.000000000",
          "2025-04-25T16:30:36.000000000",
          "2025-04-25T16:30:37.000000000",
          "2025-04-25T16:30:38.000000000",
          "2025-04-25T16:30:39.000000000",
          "2025-04-25T16:30:40.000000000",
          "2025-04-25T16:30:41.000000000",
          "2025-04-25T16:30:42.000000000",
          "2025-04-25T16:30:43.000000000",
          "2025-04-25T16:30:44.000000000",
          "2025-04-25T16:30:45.000000000",
          "2025-04-25T16:30:46.000000000",
          "2025-04-25T16:30:47.000000000",
          "2025-04-25T16:30:48.000000000",
          "2025-04-25T16:30:49.000000000",
          "2025-04-25T16:30:50.000000000",
          "2025-04-25T16:30:51.000000000",
          "2025-04-25T16:30:52.000000000",
          "2025-04-25T16:30:53.000000000",
          "2025-04-25T16:30:54.000000000",
          "2025-04-25T16:30:55.000000000",
          "2025-04-25T16:30:56.000000000",
          "2025-04-25T16:30:57.000000000",
          "2025-04-25T16:30:58.000000000",
          "2025-04-25T16:30:59.000000000",
          "2025-04-25T16:31:00.000000000",
          "2025-04-25T16:31:01.000000000",
          "2025-04-25T16:31:02.000000000",
          "2025-04-25T16:31:03.000000000",
          "2025-04-25T16:31:04.000000000",
          "2025-04-25T16:31:05.000000000",
          "2025-04-25T16:31:06.000000000",
          "2025-04-25T16:31:07.000000000",
          "2025-04-25T16:31:08.000000000",
          "2025-04-25T16:31:09.000000000",
          "2025-04-25T16:31:10.000000000",
          "2025-04-25T16:31:11.000000000",
          "2025-04-25T16:31:12.000000000",
          "2025-04-25T16:31:13.000000000",
          "2025-04-25T16:31:14.000000000",
          "2025-04-25T16:31:15.000000000",
          "2025-04-25T16:31:16.000000000",
          "2025-04-25T16:31:17.000000000",
          "2025-04-25T16:31:18.000000000",
          "2025-04-25T16:31:19.000000000",
          "2025-04-25T16:31:20.000000000",
          "2025-04-25T16:31:21.000000000",
          "2025-04-25T16:31:22.000000000",
          "2025-04-25T16:31:23.000000000",
          "2025-04-25T16:31:24.000000000",
          "2025-04-25T16:31:25.000000000",
          "2025-04-25T16:31:26.000000000",
          "2025-04-25T16:31:27.000000000",
          "2025-04-25T16:31:28.000000000",
          "2025-04-25T16:31:29.000000000",
          "2025-04-25T16:31:30.000000000",
          "2025-04-25T16:31:31.000000000",
          "2025-04-25T16:31:32.000000000",
          "2025-04-25T16:31:33.000000000",
          "2025-04-25T16:31:34.000000000"
         ],
         "xaxis": "x7",
         "y": {
          "bdata": "mpmZmXlj0kAzMzMzY17SQAAAAAAQWdJAMzMzMxNT0kDNzMzMTEzSQAAAAABQRdJAmpmZmTk+0kAAAAAA8DbSQM3MzMycL9JAAAAAAKAn0kCamZmZCR/SQM3MzMwsFtJAMzMzM4MN0kAzMzMzAwXSQM3MzMzM/NFAzczMzAz10UAzMzMzA+7RQGZmZmaW59FAZmZmZobh0UAAAAAAcNzRQDMzMzNz2NFAzczMzMzU0UDNzMzM/NDRQGZmZmbWzdFAZmZmZhbL0UAzMzMzM8nRQGZmZmaGx9FAAAAAAIDF0UDNzMzM7MLRQGZmZmYmwNFAMzMzM8O80UCamZmZebnRQDMzMzOztdFAMzMzM1Ox0UBmZmZmZqzRQGZmZmY2p9FAMzMzMxOi0UCamZmZGZ3RQGZmZmZGmNFAzczMzCyT0UAAAAAAcI3RQJqZmZl5h9FAmpmZmYmB0UCamZmZ2XvRQGZmZmYmdtFAmpmZmYlw0UBmZmZmJmvRQM3MzMxcZdFAAAAAALBf0UBmZmZmllrRQAAAAACwVdFAMzMzMxNQ0UBmZmZm1knRQM3MzMxcQ9FAAAAAADA90UCamZmZ6TbRQM3MzMxsMNFAMzMzMyMp0UDNzMzMrCHRQDMzMzOjGtFAMzMzM+MT0UAAAAAAEA3RQM3MzMxcBtFAMzMzM/P/0EBmZmZmRvnQQM3MzMwc8tBAmpmZmcnq0ECamZmZaePQQAAAAADw29BAzczMzOzU0EAAAAAAgM7QQDMzMzOjyNBAZmZmZtbC0EAzMzMzk7zQQM3MzMwsttBAAAAAAMCy0EA=",
          "dtype": "f8"
         },
         "yaxis": "y13"
        },
        {
         "line": {
          "color": "red"
         },
         "mode": "lines",
         "name": "Calibrated Airspeed  (kt)",
         "type": "scatter",
         "x": [
          "2025-04-25T16:30:19.000000000",
          "2025-04-25T16:30:20.000000000",
          "2025-04-25T16:30:21.000000000",
          "2025-04-25T16:30:22.000000000",
          "2025-04-25T16:30:23.000000000",
          "2025-04-25T16:30:24.000000000",
          "2025-04-25T16:30:25.000000000",
          "2025-04-25T16:30:26.000000000",
          "2025-04-25T16:30:27.000000000",
          "2025-04-25T16:30:28.000000000",
          "2025-04-25T16:30:29.000000000",
          "2025-04-25T16:30:30.000000000",
          "2025-04-25T16:30:31.000000000",
          "2025-04-25T16:30:32.000000000",
          "2025-04-25T16:30:33.000000000",
          "2025-04-25T16:30:34.000000000",
          "2025-04-25T16:30:35.000000000",
          "2025-04-25T16:30:36.000000000",
          "2025-04-25T16:30:37.000000000",
          "2025-04-25T16:30:38.000000000",
          "2025-04-25T16:30:39.000000000",
          "2025-04-25T16:30:40.000000000",
          "2025-04-25T16:30:41.000000000",
          "2025-04-25T16:30:42.000000000",
          "2025-04-25T16:30:43.000000000",
          "2025-04-25T16:30:44.000000000",
          "2025-04-25T16:30:45.000000000",
          "2025-04-25T16:30:46.000000000",
          "2025-04-25T16:30:47.000000000",
          "2025-04-25T16:30:48.000000000",
          "2025-04-25T16:30:49.000000000",
          "2025-04-25T16:30:50.000000000",
          "2025-04-25T16:30:51.000000000",
          "2025-04-25T16:30:52.000000000",
          "2025-04-25T16:30:53.000000000",
          "2025-04-25T16:30:54.000000000",
          "2025-04-25T16:30:55.000000000",
          "2025-04-25T16:30:56.000000000",
          "2025-04-25T16:30:57.000000000",
          "2025-04-25T16:30:58.000000000",
          "2025-04-25T16:30:59.000000000",
          "2025-04-25T16:31:00.000000000",
          "2025-04-25T16:31:01.000000000",
          "2025-04-25T16:31:02.000000000",
          "2025-04-25T16:31:03.000000000",
          "2025-04-25T16:31:04.000000000",
          "2025-04-25T16:31:05.000000000",
          "2025-04-25T16:31:06.000000000",
          "2025-04-25T16:31:07.000000000",
          "2025-04-25T16:31:08.000000000",
          "2025-04-25T16:31:09.000000000",
          "2025-04-25T16:31:10.000000000",
          "2025-04-25T16:31:11.000000000",
          "2025-04-25T16:31:12.000000000",
          "2025-04-25T16:31:13.000000000",
          "2025-04-25T16:31:14.000000000",
          "2025-04-25T16:31:15.000000000",
          "2025-04-25T16:31:16.000000000",
          "2025-04-25T16:31:17.000000000",
          "2025-04-25T16:31:18.000000000",
          "2025-04-25T16:31:19.000000000",
          "2025-04-25T16:31:20.000000000",
          "2025-04-25T16:31:21.000000000",
          "2025-04-25T16:31:22.000000000",
          "2025-04-25T16:31:23.000000000",
          "2025-04-25T16:31:24.000000000",
          "2025-04-25T16:31:25.000000000",
          "2025-04-25T16:31:26.000000000",
          "2025-04-25T16:31:27.000000000",
          "2025-04-25T16:31:28.000000000",
          "2025-04-25T16:31:29.000000000",
          "2025-04-25T16:31:30.000000000",
          "2025-04-25T16:31:31.000000000",
          "2025-04-25T16:31:32.000000000",
          "2025-04-25T16:31:33.000000000",
          "2025-04-25T16:31:34.000000000"
         ],
         "xaxis": "x7",
         "y": {
          "bdata": "ZmZmZmYsbECamZmZmR1sQJqZmZmZGWxAzczMzMwabEAAAAAAABhsQAAAAAAAHmxAMzMzMzMnbEBmZmZmZjBsQM3MzMzMRGxAAAAAAABibEAzMzMzM3tsQM3MzMzMjmxAzczMzMyibEAzMzMzM7dsQJqZmZmZx2xAmpmZmZndbEAzMzMzM+1sQAAAAAAA+GxAMzMzMzP3bECamZmZmedsQAAAAAAA0GxAAAAAAADEbEAAAAAAALRsQM3MzMzMoGxAZmZmZmaKbEAzMzMzM3NsQDMzMzMzX2xAZmZmZmZKbEAzMzMzMzNsQJqZmZmZG2xAZmZmZmYKbEBmZmZmZgZsQAAAAAAAAGxAZmZmZmb+a0AAAAAAAPhrQAAAAAAA9GtAZmZmZmbsa0AAAAAAAOhrQDMzMzMz42tAmpmZmZnba0AAAAAAANhrQAAAAAAA2GtAAAAAAADYa0AAAAAAANhrQGZmZmZm0GtAAAAAAADIa0AAAAAAAMhrQGZmZmZmwmtAzczMzMy4a0AAAAAAALhrQDMzMzMzu2tAzczMzMzCa0BmZmZmZshrQGZmZmZm0mtAAAAAAADYa0AAAAAAANhrQAAAAAAA2GtAAAAAAADYa0DNzMzMzOBrQAAAAAAA9mtAmpmZmZkFbEAAAAAAAAhsQDMzMzMzDWxAmpmZmZkdbEAAAAAAADRsQGZmZmZmVmxAZmZmZmaCbEAAAAAAAKZsQM3MzMzMoGxAMzMzMzOhbECamZmZmbVsQAAAAAAAzGxAAAAAAADQbEBmZmZmZsxsQAAAAAAAxmxAAAAAAADAbEA=",
          "dtype": "f8"
         },
         "yaxis": "y14"
        },
        {
         "line": {
          "color": "purple"
         },
         "mode": "lines",
         "name": "Bank angle (deg)",
         "type": "scatter",
         "x": [
          "2025-04-25T16:30:19.000000000",
          "2025-04-25T16:30:20.000000000",
          "2025-04-25T16:30:21.000000000",
          "2025-04-25T16:30:22.000000000",
          "2025-04-25T16:30:23.000000000",
          "2025-04-25T16:30:24.000000000",
          "2025-04-25T16:30:25.000000000",
          "2025-04-25T16:30:26.000000000",
          "2025-04-25T16:30:27.000000000",
          "2025-04-25T16:30:28.000000000",
          "2025-04-25T16:30:29.000000000",
          "2025-04-25T16:30:30.000000000",
          "2025-04-25T16:30:31.000000000",
          "2025-04-25T16:30:32.000000000",
          "2025-04-25T16:30:33.000000000",
          "2025-04-25T16:30:34.000000000",
          "2025-04-25T16:30:35.000000000",
          "2025-04-25T16:30:36.000000000",
          "2025-04-25T16:30:37.000000000",
          "2025-04-25T16:30:38.000000000",
          "2025-04-25T16:30:39.000000000",
          "2025-04-25T16:30:40.000000000",
          "2025-04-25T16:30:41.000000000",
          "2025-04-25T16:30:42.000000000",
          "2025-04-25T16:30:43.000000000",
          "2025-04-25T16:30:44.000000000",
          "2025-04-25T16:30:45.000000000",
          "2025-04-25T16:30:46.000000000",
          "2025-04-25T16:30:47.000000000",
          "2025-04-25T16:30:48.000000000",
          "2025-04-25T16:30:49.000000000",
          "2025-04-25T16:30:50.000000000",
          "2025-04-25T16:30:51.000000000",
          "2025-04-25T16:30:52.000000000",
          "2025-04-25T16:30:53.000000000",
          "2025-04-25T16:30:54.000000000",
          "2025-04-25T16:30:55.000000000",
          "2025-04-25T16:30:56.000000000",
          "2025-04-25T16:30:57.000000000",
          "2025-04-25T16:30:58.000000000",
          "2025-04-25T16:30:59.000000000",
          "2025-04-25T16:31:00.000000000",
          "2025-04-25T16:31:01.000000000",
          "2025-04-25T16:31:02.000000000",
          "2025-04-25T16:31:03.000000000",
          "2025-04-25T16:31:04.000000000",
          "2025-04-25T16:31:05.000000000",
          "2025-04-25T16:31:06.000000000",
          "2025-04-25T16:31:07.000000000",
          "2025-04-25T16:31:08.000000000",
          "2025-04-25T16:31:09.000000000",
          "2025-04-25T16:31:10.000000000",
          "2025-04-25T16:31:11.000000000",
          "2025-04-25T16:31:12.000000000",
          "2025-04-25T16:31:13.000000000",
          "2025-04-25T16:31:14.000000000",
          "2025-04-25T16:31:15.000000000",
          "2025-04-25T16:31:16.000000000",
          "2025-04-25T16:31:17.000000000",
          "2025-04-25T16:31:18.000000000",
          "2025-04-25T16:31:19.000000000",
          "2025-04-25T16:31:20.000000000",
          "2025-04-25T16:31:21.000000000",
          "2025-04-25T16:31:22.000000000",
          "2025-04-25T16:31:23.000000000",
          "2025-04-25T16:31:24.000000000",
          "2025-04-25T16:31:25.000000000",
          "2025-04-25T16:31:26.000000000",
          "2025-04-25T16:31:27.000000000",
          "2025-04-25T16:31:28.000000000",
          "2025-04-25T16:31:29.000000000",
          "2025-04-25T16:31:30.000000000",
          "2025-04-25T16:31:31.000000000",
          "2025-04-25T16:31:32.000000000",
          "2025-04-25T16:31:33.000000000",
          "2025-04-25T16:31:34.000000000"
         ],
         "xaxis": "x8",
         "y": {
          "bdata": "kBPKCeWE4j+mklXJqmTVP56wUlgprKQ/hyxGFiOLwb980EHoIHSgP41ESaIkUcI/inBHuCPc0T/m5nZzu7ndP+Dgc/A5+Nw/4Dp0HboO3T/tInoRvYjeP77gYfAweNg/k/BL+CX80j+jqFRUKirFP7oIYYQwQrg/riBbkC3Ipj/LUGooNZS6P58gUhApiNQ/pGnUNGoa5T+yjFvGLePmP9CCa8G14Oo/yMPmYfOw6T/A7mJ3sbvoP4sSSAmkBOI/4kh1pDpSzT/AkGPIMeSov7aEXcIuYde/1r5uX7ev27/o0HfoO/S9v5nkTnInudM/w55kT7In6T+QLkoXpYvyP9g8b543z/s/yjPnmfPMAUBVtCxaFi0DQAOpg9RB6gBAZmQ2MhuZ/T/BJGOSMcn4PwpIB6QD0vE/usRf4i/x5z+N4chwZDjiP6JSU6mp1OQ/xp/mT/On6T/et/Jb+a3sP5b1zHpmPfM/QhOkCdIE+T9gKDOUGcr8PzTMHGYOM/c/vs5h57Bz6D+VEE2IJkTDP9O0bFo2Ldu/slZbq63V5r+zmlxNribXv9vocfQ4ery/qrhZ3Cxutj/1aH+0P9q/v+2Oeke9o96/rp3Zzmxn5r/QzmpntbPqv5YHzYPmQeO/n0RSIimR1L/QKGuUNcrKv3+aQc2gZtC/htZEa6I14b+qpdfSa+nlv7JoW7Qt2ua/xmnmNHOa6b/CO+Qd8g7pv4QHxAPiAeG/qdZWa6u15b+wvdpeba/mv+KmdFO6Kd2/uUZfo6/R17+8LGGWMEvYv8QuZZeyS9m/z+BqcDW42r8=",
          "dtype": "f8"
         },
         "yaxis": "y15"
        },
        {
         "line": {
          "color": "green"
         },
         "mode": "lines",
         "name": "Load factor (g)",
         "type": "scatter",
         "x": [
          "2025-04-25T16:30:19.000000000",
          "2025-04-25T16:30:20.000000000",
          "2025-04-25T16:30:21.000000000",
          "2025-04-25T16:30:22.000000000",
          "2025-04-25T16:30:23.000000000",
          "2025-04-25T16:30:24.000000000",
          "2025-04-25T16:30:25.000000000",
          "2025-04-25T16:30:26.000000000",
          "2025-04-25T16:30:27.000000000",
          "2025-04-25T16:30:28.000000000",
          "2025-04-25T16:30:29.000000000",
          "2025-04-25T16:30:30.000000000",
          "2025-04-25T16:30:31.000000000",
          "2025-04-25T16:30:32.000000000",
          "2025-04-25T16:30:33.000000000",
          "2025-04-25T16:30:34.000000000",
          "2025-04-25T16:30:35.000000000",
          "2025-04-25T16:30:36.000000000",
          "2025-04-25T16:30:37.000000000",
          "2025-04-25T16:30:38.000000000",
          "2025-04-25T16:30:39.000000000",
          "2025-04-25T16:30:40.000000000",
          "2025-04-25T16:30:41.000000000",
          "2025-04-25T16:30:42.000000000",
          "2025-04-25T16:30:43.000000000",
          "2025-04-25T16:30:44.000000000",
          "2025-04-25T16:30:45.000000000",
          "2025-04-25T16:30:46.000000000",
          "2025-04-25T16:30:47.000000000",
          "2025-04-25T16:30:48.000000000",
          "2025-04-25T16:30:49.000000000",
          "2025-04-25T16:30:50.000000000",
          "2025-04-25T16:30:51.000000000",
          "2025-04-25T16:30:52.000000000",
          "2025-04-25T16:30:53.000000000",
          "2025-04-25T16:30:54.000000000",
          "2025-04-25T16:30:55.000000000",
          "2025-04-25T16:30:56.000000000",
          "2025-04-25T16:30:57.000000000",
          "2025-04-25T16:30:58.000000000",
          "2025-04-25T16:30:59.000000000",
          "2025-04-25T16:31:00.000000000",
          "2025-04-25T16:31:01.000000000",
          "2025-04-25T16:31:02.000000000",
          "2025-04-25T16:31:03.000000000",
          "2025-04-25T16:31:04.000000000",
          "2025-04-25T16:31:05.000000000",
          "2025-04-25T16:31:06.000000000",
          "2025-04-25T16:31:07.000000000",
          "2025-04-25T16:31:08.000000000",
          "2025-04-25T16:31:09.000000000",
          "2025-04-25T16:31:10.000000000",
          "2025-04-25T16:31:11.000000000",
          "2025-04-25T16:31:12.000000000",
          "2025-04-25T16:31:13.000000000",
          "2025-04-25T16:31:14.000000000",
          "2025-04-25T16:31:15.000000000",
          "2025-04-25T16:31:16.000000000",
          "2025-04-25T16:31:17.000000000",
          "2025-04-25T16:31:18.000000000",
          "2025-04-25T16:31:19.000000000",
          "2025-04-25T16:31:20.000000000",
          "2025-04-25T16:31:21.000000000",
          "2025-04-25T16:31:22.000000000",
          "2025-04-25T16:31:23.000000000",
          "2025-04-25T16:31:24.000000000",
          "2025-04-25T16:31:25.000000000",
          "2025-04-25T16:31:26.000000000",
          "2025-04-25T16:31:27.000000000",
          "2025-04-25T16:31:28.000000000",
          "2025-04-25T16:31:29.000000000",
          "2025-04-25T16:31:30.000000000",
          "2025-04-25T16:31:31.000000000",
          "2025-04-25T16:31:32.000000000",
          "2025-04-25T16:31:33.000000000",
          "2025-04-25T16:31:34.000000000"
         ],
         "xaxis": "x8",
         "y": {
          "bdata": "w2fLfTUA8D9N92TYEQDwP9XTpkIAAPA/PscHAAMA8D/zDzkqAADwP6TcPkUDAPA/Pnn2bwwA8D91VSN0IgDwP6CBQrkgAPA/sM4r7CAA8D/7ZItaJADwP0rxt1gXAPA/iAa7DQ4A8D8KMNFdBADwP2o3IG8BAPA/rLPyUAAA8D+Sube4AQDwPwvq628QAPA/G4kpdkUA8D9wLGC0UQDwP836TK5wAPA/aq5j82YA8D+djUhqXwDwPzMS4aIyAPA/HC9qYQgA8D9556FgAADwP7pdKFAVAPA/EhKF4x0A8D+Gs8AvAgDwPzme/yoPAPA/xTDDsmIA8D+WiU2a1gDwPwTGZKfiAfA/PD1VMxcD8D/kS/1LlgPwP7zONWXKAvA/NqGrwyIC8D9ZNq9gfwHwP3QrgSXGAPA/dhC2aFkA8D+RtmXHMwDwP+q6661DAPA/EehMq2YA8D9KAuZLgADwPzbd8vnmAPA/v2F9noYB8D/gav9IBQLwP73EndtPAfA/+iLdQV0A8D9jsEWeAwDwP1dVVswcAPA/93cXVFEA8D+q9QPmFADwP60O7fkBAPA/Yz/gOQEA8D95vfR4AgDwPz2L85okAPA/U4sWSk4A8D/QzC02bwDwP1V4edc5APA/AUJYfhAA8D+hqPj+BgDwPx8//nwKAPA/UZ5yMS4A8D+QlxXjSgDwP1xiKXRRAPA//iRaP2YA8D8fkOXwYQDwPxQDQB0tAPA/yAX1gkkA8D+oVH5EUADwPzjkdykhAPA/1TQ1HxYA8D8tLCcDFwDwP+L7I/MYAPA/d21y1hsA8D8=",
          "dtype": "f8"
         },
         "yaxis": "y16"
        },
        {
         "line": {
          "color": "orange"
         },
         "mode": "lines",
         "name": "Magnetic heading (deg)",
         "type": "scatter",
         "x": [
          "2025-04-25T16:30:19.000000000",
          "2025-04-25T16:30:20.000000000",
          "2025-04-25T16:30:21.000000000",
          "2025-04-25T16:30:22.000000000",
          "2025-04-25T16:30:23.000000000",
          "2025-04-25T16:30:24.000000000",
          "2025-04-25T16:30:25.000000000",
          "2025-04-25T16:30:26.000000000",
          "2025-04-25T16:30:27.000000000",
          "2025-04-25T16:30:28.000000000",
          "2025-04-25T16:30:29.000000000",
          "2025-04-25T16:30:30.000000000",
          "2025-04-25T16:30:31.000000000",
          "2025-04-25T16:30:32.000000000",
          "2025-04-25T16:30:33.000000000",
          "2025-04-25T16:30:34.000000000",
          "2025-04-25T16:30:35.000000000",
          "2025-04-25T16:30:36.000000000",
          "2025-04-25T16:30:37.000000000",
          "2025-04-25T16:30:38.000000000",
          "2025-04-25T16:30:39.000000000",
          "2025-04-25T16:30:40.000000000",
          "2025-04-25T16:30:41.000000000",
          "2025-04-25T16:30:42.000000000",
          "2025-04-25T16:30:43.000000000",
          "2025-04-25T16:30:44.000000000",
          "2025-04-25T16:30:45.000000000",
          "2025-04-25T16:30:46.000000000",
          "2025-04-25T16:30:47.000000000",
          "2025-04-25T16:30:48.000000000",
          "2025-04-25T16:30:49.000000000",
          "2025-04-25T16:30:50.000000000",
          "2025-04-25T16:30:51.000000000",
          "2025-04-25T16:30:52.000000000",
          "2025-04-25T16:30:53.000000000",
          "2025-04-25T16:30:54.000000000",
          "2025-04-25T16:30:55.000000000",
          "2025-04-25T16:30:56.000000000",
          "2025-04-25T16:30:57.000000000",
          "2025-04-25T16:30:58.000000000",
          "2025-04-25T16:30:59.000000000",
          "2025-04-25T16:31:00.000000000",
          "2025-04-25T16:31:01.000000000",
          "2025-04-25T16:31:02.000000000",
          "2025-04-25T16:31:03.000000000",
          "2025-04-25T16:31:04.000000000",
          "2025-04-25T16:31:05.000000000",
          "2025-04-25T16:31:06.000000000",
          "2025-04-25T16:31:07.000000000",
          "2025-04-25T16:31:08.000000000",
          "2025-04-25T16:31:09.000000000",
          "2025-04-25T16:31:10.000000000",
          "2025-04-25T16:31:11.000000000",
          "2025-04-25T16:31:12.000000000",
          "2025-04-25T16:31:13.000000000",
          "2025-04-25T16:31:14.000000000",
          "2025-04-25T16:31:15.000000000",
          "2025-04-25T16:31:16.000000000",
          "2025-04-25T16:31:17.000000000",
          "2025-04-25T16:31:18.000000000",
          "2025-04-25T16:31:19.000000000",
          "2025-04-25T16:31:20.000000000",
          "2025-04-25T16:31:21.000000000",
          "2025-04-25T16:31:22.000000000",
          "2025-04-25T16:31:23.000000000",
          "2025-04-25T16:31:24.000000000",
          "2025-04-25T16:31:25.000000000",
          "2025-04-25T16:31:26.000000000",
          "2025-04-25T16:31:27.000000000",
          "2025-04-25T16:31:28.000000000",
          "2025-04-25T16:31:29.000000000",
          "2025-04-25T16:31:30.000000000",
          "2025-04-25T16:31:31.000000000",
          "2025-04-25T16:31:32.000000000",
          "2025-04-25T16:31:33.000000000",
          "2025-04-25T16:31:34.000000000"
         ],
         "xaxis": "x9",
         "y": {
          "bdata": "bThwOHC4VEDMuM64zrhUQIQ5hzmHuVRAqjStNK20VEAuLTAtMK1UQCUkJyQnpFRAU55VnlWeVEAYnRqdGp1UQKAgoyCjoFRAnKCeoJ6gVEB/nIGcgZxUQP4UABUAlVRAMgo1CjWKVECoA6sDq4NUQP14/3j/eFRAJvAn8CdwVEAi6CPoI2hUQCbgKOAoYFRAc9h12HVYVEAO0g/SD1JUQIDOgs6CTlRAu069Tr1OVEDAx8LHwkdUQOZK6EroSlRANUc3RzdHVEAUxRbFFkVUQHrAe8B7QFRAJrwovCg8VECMwo7CjkJUQEjBSsFKQVRAb0ZxRnFGVEDCycPJw0lUQB5PIE8gT1RAgdeC14JXVEAQ4RLhEmFUQMPoxejFaFRA2nPdc91zVEAOeRF5EXlUQDKCNYI1glRAfAV/BX+FVEDFhseGx4ZUQKIHpAekh1RAGIIaghqCVEAuAjECMYJUQJKFlYWVhVRAsYuzi7OLVEDrC+4L7otUQPaQ+ZD5kFRACxYOFg6WVEAHDgoOCo5UQPmL+4v7i1RAKgMtAy2DVEBv9HH0cXRUQABtAm0CbVRADGEOYQ5hVECF1obWhlZUQCfHKccpR1RA1r3Yvdg9VEC7tL20vTRUQNqz3LPcM1RAf6iBqIEoVEDCH8UfxR9UQJmdm52bHVRAjaCPoI8gVECSIJQglCBUQOwg7iDuIFRA2R7bHtseVEC8m76bvhtUQEKIRIhECFRACYkKiQoJVEDYgtqC2gJUQBr4HPgc+FNAu2O9Y73jU0B22HjYeNhTQDJNNE00zVNA3sXfxd/FU0A=",
          "dtype": "f8"
         },
         "yaxis": "y17"
        },
        {
         "line": {
          "color": "blue"
         },
         "mode": "lines",
         "name": "Pressure Altitude (ft)",
         "type": "scatter",
         "x": [
          "2025-04-25T16:34:01.000000000",
          "2025-04-25T16:34:02.000000000",
          "2025-04-25T16:34:03.000000000",
          "2025-04-25T16:34:04.000000000",
          "2025-04-25T16:34:05.000000000",
          "2025-04-25T16:34:06.000000000",
          "2025-04-25T16:34:07.000000000",
          "2025-04-25T16:34:08.000000000",
          "2025-04-25T16:34:09.000000000",
          "2025-04-25T16:34:10.000000000",
          "2025-04-25T16:34:11.000000000",
          "2025-04-25T16:34:12.000000000",
          "2025-04-25T16:34:13.000000000",
          "2025-04-25T16:34:14.000000000",
          "2025-04-25T16:34:15.000000000",
          "2025-04-25T16:34:16.000000000",
          "2025-04-25T16:34:17.000000000",
          "2025-04-25T16:34:18.000000000",
          "2025-04-25T16:34:19.000000000",
          "2025-04-25T16:34:20.000000000",
          "2025-04-25T16:34:21.000000000",
          "2025-04-25T16:34:22.000000000",
          "2025-04-25T16:34:23.000000000",
          "2025-04-25T16:34:24.000000000",
          "2025-04-25T16:34:25.000000000"
         ],
         "xaxis": "x10",
         "y": {
          "bdata": "MzMzMxN5yEAzMzMz82/IQDMzMzPTZshAmpmZmVldyECamZmZuVPIQAAAAACgSshAmpmZmRlByEBmZmZmhjfIQAAAAABALshAmpmZmVklyEDNzMzMbBzIQJqZmZm5EshAMzMzMxMJyEAzMzMzU//HQDMzMzPT9cdAmpmZmZnsx0AAAAAAQOPHQM3MzMzM2cdAzczMzOzQx0AAAAAAYMjHQAAAAADAvsdAzczMzIy0x0CamZmZGarHQJqZmZn5n8dAAAAAAICax0A=",
          "dtype": "f8"
         },
         "yaxis": "y19"
        },
        {
         "line": {
          "color": "red"
         },
         "mode": "lines",
         "name": "Calibrated Airspeed  (kt)",
         "type": "scatter",
         "x": [
          "2025-04-25T16:34:01.000000000",
          "2025-04-25T16:34:02.000000000",
          "2025-04-25T16:34:03.000000000",
          "2025-04-25T16:34:04.000000000",
          "2025-04-25T16:34:05.000000000",
          "2025-04-25T16:34:06.000000000",
          "2025-04-25T16:34:07.000000000",
          "2025-04-25T16:34:08.000000000",
          "2025-04-25T16:34:09.000000000",
          "2025-04-25T16:34:10.000000000",
          "2025-04-25T16:34:11.000000000",
          "2025-04-25T16:34:12.000000000",
          "2025-04-25T16:34:13.000000000",
          "2025-04-25T16:34:14.000000000",
          "2025-04-25T16:34:15.000000000",
          "2025-04-25T16:34:16.000000000",
          "2025-04-25T16:34:17.000000000",
          "2025-04-25T16:34:18.000000000",
          "2025-04-25T16:34:19.000000000",
          "2025-04-25T16:34:20.000000000",
          "2025-04-25T16:34:21.000000000",
          "2025-04-25T16:34:22.000000000",
          "2025-04-25T16:34:23.000000000",
          "2025-04-25T16:34:24.000000000",
          "2025-04-25T16:34:25.000000000"
         ],
         "xaxis": "x10",
         "y": {
          "bdata": "AAAAAAA8bEDNzMzMzEpsQJqZmZmZU2xAZmZmZmZabEBmZmZmZmZsQAAAAAAAYGxAAAAAAABgbEDNzMzMzFhsQJqZmZmZVWxAmpmZmZlPbEAAAAAAAEhsQAAAAAAASGxAAAAAAABAbEAzMzMzMzVsQDMzMzMzKWxAAAAAAAAgbEAAAAAAABpsQAAAAAAACmxAZmZmZmb8a0DNzMzMzPxrQAAAAAAA9mtAAAAAAADwa0BmZmZmZuprQDMzMzMz6WtAAAAAAADoa0A=",
          "dtype": "f8"
         },
         "yaxis": "y20"
        },
        {
         "line": {
          "color": "purple"
         },
         "mode": "lines",
         "name": "Bank angle (deg)",
         "type": "scatter",
         "x": [
          "2025-04-25T16:34:01.000000000",
          "2025-04-25T16:34:02.000000000",
          "2025-04-25T16:34:03.000000000",
          "2025-04-25T16:34:04.000000000",
          "2025-04-25T16:34:05.000000000",
          "2025-04-25T16:34:06.000000000",
          "2025-04-25T16:34:07.000000000",
          "2025-04-25T16:34:08.000000000",
          "2025-04-25T16:34:09.000000000",
          "2025-04-25T16:34:10.000000000",
          "2025-04-25T16:34:11.000000000",
          "2025-04-25T16:34:12.000000000",
          "2025-04-25T16:34:13.000000000",
          "2025-04-25T16:34:14.000000000",
          "2025-04-25T16:34:15.000000000",
          "2025-04-25T16:34:16.000000000",
          "2025-04-25T16:34:17.000000000",
          "2025-04-25T16:34:18.000000000",
          "2025-04-25T16:34:19.000000000",
          "2025-04-25T16:34:20.000000000",
          "2025-04-25T16:34:21.000000000",
          "2025-04-25T16:34:22.000000000",
          "2025-04-25T16:34:23.000000000",
          "2025-04-25T16:34:24.000000000",
          "2025-04-25T16:34:25.000000000"
         ],
         "xaxis": "x11",
         "y": {
          "bdata": "zYHpwHRg6j9/o8HR4GjgP8QcZY4yR9k/nofRw+hh5D+f4dHwaHjkP9IAbAA2ANs/nQBRgChA1D/jIHYQO4idv8V2ZbuyXdm/uuhf9C/657+yg9vB7eDmv5M4TBwmDrO/t7ZeW6+t1z+yy9vl7fLmP4bWRGuiNfE/oi5Tl6nL9D84hZ5CT6H3P5jxzfhmfPM/ALGB2EBs8D+zZFwyLhnnP9q2cFu4Ldw/k8xL5iXz4j/et/Jb+a3sP8Td5G5yN+k/h5xFziJn4T8=",
          "dtype": "f8"
         },
         "yaxis": "y21"
        },
        {
         "line": {
          "color": "green"
         },
         "mode": "lines",
         "name": "Load factor (g)",
         "type": "scatter",
         "x": [
          "2025-04-25T16:34:01.000000000",
          "2025-04-25T16:34:02.000000000",
          "2025-04-25T16:34:03.000000000",
          "2025-04-25T16:34:04.000000000",
          "2025-04-25T16:34:05.000000000",
          "2025-04-25T16:34:06.000000000",
          "2025-04-25T16:34:07.000000000",
          "2025-04-25T16:34:08.000000000",
          "2025-04-25T16:34:09.000000000",
          "2025-04-25T16:34:10.000000000",
          "2025-04-25T16:34:11.000000000",
          "2025-04-25T16:34:12.000000000",
          "2025-04-25T16:34:13.000000000",
          "2025-04-25T16:34:14.000000000",
          "2025-04-25T16:34:15.000000000",
          "2025-04-25T16:34:16.000000000",
          "2025-04-25T16:34:17.000000000",
          "2025-04-25T16:34:18.000000000",
          "2025-04-25T16:34:19.000000000",
          "2025-04-25T16:34:20.000000000",
          "2025-04-25T16:34:21.000000000",
          "2025-04-25T16:34:22.000000000",
          "2025-04-25T16:34:23.000000000",
          "2025-04-25T16:34:24.000000000",
          "2025-04-25T16:34:25.000000000"
         ],
         "xaxis": "x11",
         "y": {
          "bdata": "7LLchGwA8D9Jk8H/KQDwP8YqROoYAPA/8rw7zEAA8D9a6ZxbQQDwP6E+RW0cAPA/u5ds/Q8A8D/5hQEiAADwP6ILsxYZAPA/B3n8q1kA8D9BG1CkUQDwP/9EhuIAAPA/LUKI3BUA8D8Q4fwkUgDwP5U+AMu4APA/jnsK2Q0B8D9YWWlyXAHwP0ptmezsAPA/YUN7SKgA8D9qvbs3UwDwPwq1//UeAPA/+2MmAjgA8D9KAuZLgADwPx44hS5jAPA/xeqwPC8A8D8=",
          "dtype": "f8"
         },
         "yaxis": "y22"
        },
        {
         "line": {
          "color": "orange"
         },
         "mode": "lines",
         "name": "Magnetic heading (deg)",
         "type": "scatter",
         "x": [
          "2025-04-25T16:34:01.000000000",
          "2025-04-25T16:34:02.000000000",
          "2025-04-25T16:34:03.000000000",
          "2025-04-25T16:34:04.000000000",
          "2025-04-25T16:34:05.000000000",
          "2025-04-25T16:34:06.000000000",
          "2025-04-25T16:34:07.000000000",
          "2025-04-25T16:34:08.000000000",
          "2025-04-25T16:34:09.000000000",
          "2025-04-25T16:34:10.000000000",
          "2025-04-25T16:34:11.000000000",
          "2025-04-25T16:34:12.000000000",
          "2025-04-25T16:34:13.000000000",
          "2025-04-25T16:34:14.000000000",
          "2025-04-25T16:34:15.000000000",
          "2025-04-25T16:34:16.000000000",
          "2025-04-25T16:34:17.000000000",
          "2025-04-25T16:34:18.000000000",
          "2025-04-25T16:34:19.000000000",
          "2025-04-25T16:34:20.000000000",
          "2025-04-25T16:34:21.000000000",
          "2025-04-25T16:34:22.000000000",
          "2025-04-25T16:34:23.000000000",
          "2025-04-25T16:34:24.000000000",
          "2025-04-25T16:34:25.000000000"
         ],
         "xaxis": "x12",
         "y": {
          "bdata": "udK60rpSVEDETsZOxk5UQCbDJ8MnQ1RAxrbHtsc2VEA0tDa0NjRUQJaymLKYMlRAo7GlsaUxVEBcMl4yXjJUQGasaKxoLFRAmaabppsmVEDTnNWc1RxUQKUZpxmnGVRAIRYjFiMWVEBRE1MTUxNUQMwWzhbOFlRAphKoEqgSVEDMDc4Nzg1UQJORlZGVEVRA25Hdkd0RVEAWnBicGBxUQMYcyBzIHFRA4iDlIOUgVEBSn1SfVB9UQJWel56XHlRADR0QHRAdVEA=",
          "dtype": "f8"
         },
         "yaxis": "y23"
        },
        {
         "line": {
          "color": "blue"
         },
         "mode": "lines",
         "name": "Pressure Altitude (ft)",
         "type": "scatter",
         "x": [
          "2025-04-25T16:35:32.000000000",
          "2025-04-25T16:35:33.000000000",
          "2025-04-25T16:35:34.000000000",
          "2025-04-25T16:35:35.000000000",
          "2025-04-25T16:35:36.000000000",
          "2025-04-25T16:35:37.000000000",
          "2025-04-25T16:35:38.000000000",
          "2025-04-25T16:35:39.000000000",
          "2025-04-25T16:35:40.000000000",
          "2025-04-25T16:35:41.000000000",
          "2025-04-25T16:35:42.000000000",
          "2025-04-25T16:35:43.000000000",
          "2025-04-25T16:35:44.000000000",
          "2025-04-25T16:35:45.000000000",
          "2025-04-25T16:35:46.000000000",
          "2025-04-25T16:35:47.000000000",
          "2025-04-25T16:35:48.000000000",
          "2025-04-25T16:35:49.000000000",
          "2025-04-25T16:35:50.000000000",
          "2025-04-25T16:35:51.000000000",
          "2025-04-25T16:35:52.000000000",
          "2025-04-25T16:35:53.000000000",
          "2025-04-25T16:35:54.000000000",
          "2025-04-25T16:35:55.000000000",
          "2025-04-25T16:35:56.000000000",
          "2025-04-25T16:35:57.000000000",
          "2025-04-25T16:35:58.000000000",
          "2025-04-25T16:35:59.000000000",
          "2025-04-25T16:36:00.000000000",
          "2025-04-25T16:36:01.000000000"
         ],
         "xaxis": "x13",
         "y": {
          "bdata": "MzMzMxNzxEDNzMzMzGnEQGZmZmZGYMRAZmZmZuZWxEAzMzMzU03EQJqZmZn5QsRAMzMzM5M4xEDNzMzMTC7EQAAAAABgJMRAAAAAAKAaxECamZmZuRHEQGZmZmZGCcRAzczMzMwBxEDNzMzMDPrDQJqZmZkZ8cNAMzMzM1Pnw0BmZmZmJtzDQJqZmZm50MNAMzMzM5PGw0AzMzMzk7vDQM3MzMyMsMNAzczMzGylw0BmZmZmhpnDQM3MzMyMjcNAAAAAAKCCw0AAAAAAoHjDQM3MzMyMbsNAAAAAAIBkw0BmZmZm5ljDQAAAAACAUsNA",
          "dtype": "f8"
         },
         "yaxis": "y25"
        },
        {
         "line": {
          "color": "red"
         },
         "mode": "lines",
         "name": "Calibrated Airspeed  (kt)",
         "type": "scatter",
         "x": [
          "2025-04-25T16:35:32.000000000",
          "2025-04-25T16:35:33.000000000",
          "2025-04-25T16:35:34.000000000",
          "2025-04-25T16:35:35.000000000",
          "2025-04-25T16:35:36.000000000",
          "2025-04-25T16:35:37.000000000",
          "2025-04-25T16:35:38.000000000",
          "2025-04-25T16:35:39.000000000",
          "2025-04-25T16:35:40.000000000",
          "2025-04-25T16:35:41.000000000",
          "2025-04-25T16:35:42.000000000",
          "2025-04-25T16:35:43.000000000",
          "2025-04-25T16:35:44.000000000",
          "2025-04-25T16:35:45.000000000",
          "2025-04-25T16:35:46.000000000",
          "2025-04-25T16:35:47.000000000",
          "2025-04-25T16:35:48.000000000",
          "2025-04-25T16:35:49.000000000",
          "2025-04-25T16:35:50.000000000",
          "2025-04-25T16:35:51.000000000",
          "2025-04-25T16:35:52.000000000",
          "2025-04-25T16:35:53.000000000",
          "2025-04-25T16:35:54.000000000",
          "2025-04-25T16:35:55.000000000",
          "2025-04-25T16:35:56.000000000",
          "2025-04-25T16:35:57.000000000",
          "2025-04-25T16:35:58.000000000",
          "2025-04-25T16:35:59.000000000",
          "2025-04-25T16:36:00.000000000",
          "2025-04-25T16:36:01.000000000"
         ],
         "xaxis": "x13",
         "y": {
          "bdata": "AAAAAACEa0CamZmZmYVrQAAAAAAAgGtAMzMzMzODa0AAAAAAAIxrQM3MzMzMkmtAAAAAAACSa0BmZmZmZqhrQGZmZmZmtmtAAAAAAACwa0AAAAAAALBrQJqZmZmZq2tAAAAAAACoa0BmZmZmZqprQDMzMzMzsWtAzczMzMy8a0AAAAAAAMhrQDMzMzMzwWtAzczMzMzSa0DNzMzMzMhrQGZmZmZmxmtAAAAAAADIa0DNzMzMzMprQAAAAAAA1mtAAAAAAADYa0AzMzMzM9drQAAAAAAA2GtAAAAAAADYa0AAAAAAAOBrQAAAAAAA6GtA",
          "dtype": "f8"
         },
         "yaxis": "y26"
        },
        {
         "line": {
          "color": "purple"
         },
         "mode": "lines",
         "name": "Bank angle (deg)",
         "type": "scatter",
         "x": [
          "2025-04-25T16:35:32.000000000",
          "2025-04-25T16:35:33.000000000",
          "2025-04-25T16:35:34.000000000",
          "2025-04-25T16:35:35.000000000",
          "2025-04-25T16:35:36.000000000",
          "2025-04-25T16:35:37.000000000",
          "2025-04-25T16:35:38.000000000",
          "2025-04-25T16:35:39.000000000",
          "2025-04-25T16:35:40.000000000",
          "2025-04-25T16:35:41.000000000",
          "2025-04-25T16:35:42.000000000",
          "2025-04-25T16:35:43.000000000",
          "2025-04-25T16:35:44.000000000",
          "2025-04-25T16:35:45.000000000",
          "2025-04-25T16:35:46.000000000",
          "2025-04-25T16:35:47.000000000",
          "2025-04-25T16:35:48.000000000",
          "2025-04-25T16:35:49.000000000",
          "2025-04-25T16:35:50.000000000",
          "2025-04-25T16:35:51.000000000",
          "2025-04-25T16:35:52.000000000",
          "2025-04-25T16:35:53.000000000",
          "2025-04-25T16:35:54.000000000",
          "2025-04-25T16:35:55.000000000",
          "2025-04-25T16:35:56.000000000",
          "2025-04-25T16:35:57.000000000",
          "2025-04-25T16:35:58.000000000",
          "2025-04-25T16:35:59.000000000",
          "2025-04-25T16:36:00.000000000",
          "2025-04-25T16:36:01.000000000"
         ],
         "xaxis": "x14",
         "y": {
          "bdata": "PQ2hhlBD+D9m67Z127r9P8UkZBIyCQFA2mRvsjfZA0DX8+359nwDQFPcK+4V9wJAT4opxZRiAkB9DkAHoAMAQErxp/hT/Pk/rbPYWews9j/YKm+Vt8rrP53B0GBoMOQ/4FBzqDnU7D+IwEXgInDxPxe3jdvGbfM/7t/6b/237j+HeEW8Il7xP5nATmAnsPM/ENmJ7ER28j8VYYwwRhjzP8L8Y/4x//g/7sR6Yj2x/j8S+Yp8Rb7yP6ZuVbeqW9U/j/hJ/CR+4r8VYYwwRhjzv9DOame1s/q/wthj7DH2+L8cLZAWSAv0v+zweHg8PO6/",
          "dtype": "f8"
         },
         "yaxis": "y27"
        },
        {
         "line": {
          "color": "green"
         },
         "mode": "lines",
         "name": "Load factor (g)",
         "type": "scatter",
         "x": [
          "2025-04-25T16:35:32.000000000",
          "2025-04-25T16:35:33.000000000",
          "2025-04-25T16:35:34.000000000",
          "2025-04-25T16:35:35.000000000",
          "2025-04-25T16:35:36.000000000",
          "2025-04-25T16:35:37.000000000",
          "2025-04-25T16:35:38.000000000",
          "2025-04-25T16:35:39.000000000",
          "2025-04-25T16:35:40.000000000",
          "2025-04-25T16:35:41.000000000",
          "2025-04-25T16:35:42.000000000",
          "2025-04-25T16:35:43.000000000",
          "2025-04-25T16:35:44.000000000",
          "2025-04-25T16:35:45.000000000",
          "2025-04-25T16:35:46.000000000",
          "2025-04-25T16:35:47.000000000",
          "2025-04-25T16:35:48.000000000",
          "2025-04-25T16:35:49.000000000",
          "2025-04-25T16:35:50.000000000",
          "2025-04-25T16:35:51.000000000",
          "2025-04-25T16:35:52.000000000",
          "2025-04-25T16:35:53.000000000",
          "2025-04-25T16:35:54.000000000",
          "2025-04-25T16:35:55.000000000",
          "2025-04-25T16:35:56.000000000",
          "2025-04-25T16:35:57.000000000",
          "2025-04-25T16:35:58.000000000",
          "2025-04-25T16:35:59.000000000",
          "2025-04-25T16:36:00.000000000",
          "2025-04-25T16:36:01.000000000"
         ],
         "xaxis": "x14",
         "y": {
          "bdata": "vxadXW8B8D+CjPWlJwLwP5eCYaXUAvA/OyTp39cD8D+vd05ytAPwP6BrwTCCA/A/IoQ/DEwD8D9d4zNJgALwPxtjImelAfA/eRqD2zIB8D8yyO55eADwP+xq+JI/APA/DtoNo4EA8D/qHua7vQDwP+aVZonrAPA/khvqMJMA8D8b2+s0vADwPzIq1t3xAPA/osagrNQA8D+qzr2B4wDwPwNg3O6FAfA/WjS39UsC8D+e02w02wDwP5EpZMkRAPA/I1XTVjUA8D+qzr2B4wDwP5Iv6/a8AfA/eQkt1oQB8D9aUoWx+gDwP0xAKZiOAPA/",
          "dtype": "f8"
         },
         "yaxis": "y28"
        },
        {
         "line": {
          "color": "orange"
         },
         "mode": "lines",
         "name": "Magnetic heading (deg)",
         "type": "scatter",
         "x": [
          "2025-04-25T16:35:32.000000000",
          "2025-04-25T16:35:33.000000000",
          "2025-04-25T16:35:34.000000000",
          "2025-04-25T16:35:35.000000000",
          "2025-04-25T16:35:36.000000000",
          "2025-04-25T16:35:37.000000000",
          "2025-04-25T16:35:38.000000000",
          "2025-04-25T16:35:39.000000000",
          "2025-04-25T16:35:40.000000000",
          "2025-04-25T16:35:41.000000000",
          "2025-04-25T16:35:42.000000000",
          "2025-04-25T16:35:43.000000000",
          "2025-04-25T16:35:44.000000000",
          "2025-04-25T16:35:45.000000000",
          "2025-04-25T16:35:46.000000000",
          "2025-04-25T16:35:47.000000000",
          "2025-04-25T16:35:48.000000000",
          "2025-04-25T16:35:49.000000000",
          "2025-04-25T16:35:50.000000000",
          "2025-04-25T16:35:51.000000000",
          "2025-04-25T16:35:52.000000000",
          "2025-04-25T16:35:53.000000000",
          "2025-04-25T16:35:54.000000000",
          "2025-04-25T16:35:55.000000000",
          "2025-04-25T16:35:56.000000000",
          "2025-04-25T16:35:57.000000000",
          "2025-04-25T16:35:58.000000000",
          "2025-04-25T16:35:59.000000000",
          "2025-04-25T16:36:00.000000000",
          "2025-04-25T16:36:01.000000000"
         ],
         "xaxis": "x15",
         "y": {
          "bdata": "28TdxN1EU0CYRJpEmkRTQB/PIc8hT1NA9VP3U/dTU0Af4SHhIWFTQAriC+ILYlNAruav5q9mU0AMZw5nDmdTQO9t8m3ybVNA2m7cbtxuU0Bqb2xvbG9TQP9nAWgBaFNAaWRrZGtkU0B0X3Zfdl9TQJJclFyUXFNAx9vJ28lbU0Ct0q7SrlJTQCpSLFIsUlNAIFkiWSJZU0DSVdRV1FVTQBhSGlIaUlNAQFFCUUJRU0Ao2CrYKlhTQPpU/FT8VFNANdU21TZVU0AKSAxIDEhTQP1I/0j/SFNAOz49Pj0+U0DDN8U3xTdTQL4vwS/BL1NA",
          "dtype": "f8"
         },
         "yaxis": "y29"
        }
       ],
       "layout": {
        "annotations": [
         {
          "font": {
           "size": 16
          },
          "showarrow": false,
          "text": "Level turn 1",
          "x": 0.10666666666666665,
          "xanchor": "center",
          "xref": "paper",
          "y": 1,
          "yanchor": "bottom",
          "yref": "paper"
         },
         {
          "font": {
           "size": 16
          },
          "showarrow": false,
          "text": "Level turn 2",
          "x": 0.10666666666666665,
          "xanchor": "center",
          "xref": "paper",
          "y": 0.8166666666666668,
          "yanchor": "bottom",
          "yref": "paper"
         },
         {
          "font": {
           "size": 16
          },
          "showarrow": false,
          "text": "Level turn 3",
          "x": 0.10666666666666665,
          "xanchor": "center",
          "xref": "paper",
          "y": 0.6333333333333334,
          "yanchor": "bottom",
          "yref": "paper"
         },
         {
          "font": {
           "size": 16
          },
          "showarrow": false,
          "text": "Level turn 4",
          "x": 0.10666666666666665,
          "xanchor": "center",
          "xref": "paper",
          "y": 0.45,
          "yanchor": "bottom",
          "yref": "paper"
         },
         {
          "font": {
           "size": 16
          },
          "showarrow": false,
          "text": "Level turn 5",
          "x": 0.10666666666666665,
          "xanchor": "center",
          "xref": "paper",
          "y": 0.26666666666666666,
          "yanchor": "bottom",
          "yref": "paper"
         }
        ],
        "height": 1800,
        "showlegend": false,
        "template": {
         "data": {
          "bar": [
           {
            "error_x": {
             "color": "#2a3f5f"
            },
            "error_y": {
             "color": "#2a3f5f"
            },
            "marker": {
             "line": {
              "color": "#E5ECF6",
              "width": 0.5
             },
             "pattern": {
              "fillmode": "overlay",
              "size": 10,
              "solidity": 0.2
             }
            },
            "type": "bar"
           }
          ],
          "barpolar": [
           {
            "marker": {
             "line": {
              "color": "#E5ECF6",
              "width": 0.5
             },
             "pattern": {
              "fillmode": "overlay",
              "size": 10,
              "solidity": 0.2
             }
            },
            "type": "barpolar"
           }
          ],
          "carpet": [
           {
            "aaxis": {
             "endlinecolor": "#2a3f5f",
             "gridcolor": "white",
             "linecolor": "white",
             "minorgridcolor": "white",
             "startlinecolor": "#2a3f5f"
            },
            "baxis": {
             "endlinecolor": "#2a3f5f",
             "gridcolor": "white",
             "linecolor": "white",
             "minorgridcolor": "white",
             "startlinecolor": "#2a3f5f"
            },
            "type": "carpet"
           }
          ],
          "choropleth": [
           {
            "colorbar": {
             "outlinewidth": 0,
             "ticks": ""
            },
            "type": "choropleth"
           }
          ],
          "contour": [
           {
            "colorbar": {
             "outlinewidth": 0,
             "ticks": ""
            },
            "colorscale": [
             [
              0,
              "#0d0887"
             ],
             [
              0.1111111111111111,
              "#46039f"
             ],
             [
              0.2222222222222222,
              "#7201a8"
             ],
             [
              0.3333333333333333,
              "#9c179e"
             ],
             [
              0.4444444444444444,
              "#bd3786"
             ],
             [
              0.5555555555555556,
              "#d8576b"
             ],
             [
              0.6666666666666666,
              "#ed7953"
             ],
             [
              0.7777777777777778,
              "#fb9f3a"
             ],
             [
              0.8888888888888888,
              "#fdca26"
             ],
             [
              1,
              "#f0f921"
             ]
            ],
            "type": "contour"
           }
          ],
          "contourcarpet": [
           {
            "colorbar": {
             "outlinewidth": 0,
             "ticks": ""
            },
            "type": "contourcarpet"
           }
          ],
          "heatmap": [
           {
            "colorbar": {
             "outlinewidth": 0,
             "ticks": ""
            },
            "colorscale": [
             [
              0,
              "#0d0887"
             ],
             [
              0.1111111111111111,
              "#46039f"
             ],
             [
              0.2222222222222222,
              "#7201a8"
             ],
             [
              0.3333333333333333,
              "#9c179e"
             ],
             [
              0.4444444444444444,
              "#bd3786"
             ],
             [
              0.5555555555555556,
              "#d8576b"
             ],
             [
              0.6666666666666666,
              "#ed7953"
             ],
             [
              0.7777777777777778,
              "#fb9f3a"
             ],
             [
              0.8888888888888888,
              "#fdca26"
             ],
             [
              1,
              "#f0f921"
             ]
            ],
            "type": "heatmap"
           }
          ],
          "histogram": [
           {
            "marker": {
             "pattern": {
              "fillmode": "overlay",
              "size": 10,
              "solidity": 0.2
             }
            },
            "type": "histogram"
           }
          ],
          "histogram2d": [
           {
            "colorbar": {
             "outlinewidth": 0,
             "ticks": ""
            },
            "colorscale": [
             [
              0,
              "#0d0887"
             ],
             [
              0.1111111111111111,
              "#46039f"
             ],
             [
              0.2222222222222222,
              "#7201a8"
             ],
             [
              0.3333333333333333,
              "#9c179e"
             ],
             [
              0.4444444444444444,
              "#bd3786"
             ],
             [
              0.5555555555555556,
              "#d8576b"
             ],
             [
              0.6666666666666666,
              "#ed7953"
             ],
             [
              0.7777777777777778,
              "#fb9f3a"
             ],
             [
              0.8888888888888888,
              "#fdca26"
             ],
             [
              1,
              "#f0f921"
             ]
            ],
            "type": "histogram2d"
           }
          ],
          "histogram2dcontour": [
           {
            "colorbar": {
             "outlinewidth": 0,
             "ticks": ""
            },
            "colorscale": [
             [
              0,
              "#0d0887"
             ],
             [
              0.1111111111111111,
              "#46039f"
             ],
             [
              0.2222222222222222,
              "#7201a8"
             ],
             [
              0.3333333333333333,
              "#9c179e"
             ],
             [
              0.4444444444444444,
              "#bd3786"
             ],
             [
              0.5555555555555556,
              "#d8576b"
             ],
             [
              0.6666666666666666,
              "#ed7953"
             ],
             [
              0.7777777777777778,
              "#fb9f3a"
             ],
             [
              0.8888888888888888,
              "#fdca26"
             ],
             [
              1,
              "#f0f921"
             ]
            ],
            "type": "histogram2dcontour"
           }
          ],
          "mesh3d": [
           {
            "colorbar": {
             "outlinewidth": 0,
             "ticks": ""
            },
            "type": "mesh3d"
           }
          ],
          "parcoords": [
           {
            "line": {
             "colorbar": {
              "outlinewidth": 0,
              "ticks": ""
             }
            },
            "type": "parcoords"
           }
          ],
          "pie": [
           {
            "automargin": true,
            "type": "pie"
           }
          ],
          "scatter": [
           {
            "fillpattern": {
             "fillmode": "overlay",
             "size": 10,
             "solidity": 0.2
            },
            "type": "scatter"
           }
          ],
          "scatter3d": [
           {
            "line": {
             "colorbar": {
              "outlinewidth": 0,
              "ticks": ""
             }
            },
            "marker": {
             "colorbar": {
              "outlinewidth": 0,
              "ticks": ""
             }
            },
            "type": "scatter3d"
           }
          ],
          "scattercarpet": [
           {
            "marker": {
             "colorbar": {
              "outlinewidth": 0,
              "ticks": ""
             }
            },
            "type": "scattercarpet"
           }
          ],
          "scattergeo": [
           {
            "marker": {
             "colorbar": {
              "outlinewidth": 0,
              "ticks": ""
             }
            },
            "type": "scattergeo"
           }
          ],
          "scattergl": [
           {
            "marker": {
             "colorbar": {
              "outlinewidth": 0,
              "ticks": ""
             }
            },
            "type": "scattergl"
           }
          ],
          "scattermap": [
           {
            "marker": {
             "colorbar": {
              "outlinewidth": 0,
              "ticks": ""
             }
            },
            "type": "scattermap"
           }
          ],
          "scattermapbox": [
           {
            "marker": {
             "colorbar": {
              "outlinewidth": 0,
              "ticks": ""
             }
            },
            "type": "scattermapbox"
           }
          ],
          "scatterpolar": [
           {
            "marker": {
             "colorbar": {
              "outlinewidth": 0,
              "ticks": ""
             }
            },
            "type": "scatterpolar"
           }
          ],
          "scatterpolargl": [
           {
            "marker": {
             "colorbar": {
              "outlinewidth": 0,
              "ticks": ""
             }
            },
            "type": "scatterpolargl"
           }
          ],
          "scatterternary": [
           {
            "marker": {
             "colorbar": {
              "outlinewidth": 0,
              "ticks": ""
             }
            },
            "type": "scatterternary"
           }
          ],
          "surface": [
           {
            "colorbar": {
             "outlinewidth": 0,
             "ticks": ""
            },
            "colorscale": [
             [
              0,
              "#0d0887"
             ],
             [
              0.1111111111111111,
              "#46039f"
             ],
             [
              0.2222222222222222,
              "#7201a8"
             ],
             [
              0.3333333333333333,
              "#9c179e"
             ],
             [
              0.4444444444444444,
              "#bd3786"
             ],
             [
              0.5555555555555556,
              "#d8576b"
             ],
             [
              0.6666666666666666,
              "#ed7953"
             ],
             [
              0.7777777777777778,
              "#fb9f3a"
             ],
             [
              0.8888888888888888,
              "#fdca26"
             ],
             [
              1,
              "#f0f921"
             ]
            ],
            "type": "surface"
           }
          ],
          "table": [
           {
            "cells": {
             "fill": {
              "color": "#EBF0F8"
             },
             "line": {
              "color": "white"
             }
            },
            "header": {
             "fill": {
              "color": "#C8D4E3"
             },
             "line": {
              "color": "white"
             }
            },
            "type": "table"
           }
          ]
         },
         "layout": {
          "annotationdefaults": {
           "arrowcolor": "#2a3f5f",
           "arrowhead": 0,
           "arrowwidth": 1
          },
          "autotypenumbers": "strict",
          "coloraxis": {
           "colorbar": {
            "outlinewidth": 0,
            "ticks": ""
           }
          },
          "colorscale": {
           "diverging": [
            [
             0,
             "#8e0152"
            ],
            [
             0.1,
             "#c51b7d"
            ],
            [
             0.2,
             "#de77ae"
            ],
            [
             0.3,
             "#f1b6da"
            ],
            [
             0.4,
             "#fde0ef"
            ],
            [
             0.5,
             "#f7f7f7"
            ],
            [
             0.6,
             "#e6f5d0"
            ],
            [
             0.7,
             "#b8e186"
            ],
            [
             0.8,
             "#7fbc41"
            ],
            [
             0.9,
             "#4d9221"
            ],
            [
             1,
             "#276419"
            ]
           ],
           "sequential": [
            [
             0,
             "#0d0887"
            ],
            [
             0.1111111111111111,
             "#46039f"
            ],
            [
             0.2222222222222222,
             "#7201a8"
            ],
            [
             0.3333333333333333,
             "#9c179e"
            ],
            [
             0.4444444444444444,
             "#bd3786"
            ],
            [
             0.5555555555555556,
             "#d8576b"
            ],
            [
             0.6666666666666666,
             "#ed7953"
            ],
            [
             0.7777777777777778,
             "#fb9f3a"
            ],
            [
             0.8888888888888888,
             "#fdca26"
            ],
            [
             1,
             "#f0f921"
            ]
           ],
           "sequentialminus": [
            [
             0,
             "#0d0887"
            ],
            [
             0.1111111111111111,
             "#46039f"
            ],
            [
             0.2222222222222222,
             "#7201a8"
            ],
            [
             0.3333333333333333,
             "#9c179e"
            ],
            [
             0.4444444444444444,
             "#bd3786"
            ],
            [
             0.5555555555555556,
             "#d8576b"
            ],
            [
             0.6666666666666666,
             "#ed7953"
            ],
            [
             0.7777777777777778,
             "#fb9f3a"
            ],
            [
             0.8888888888888888,
             "#fdca26"
            ],
            [
             1,
             "#f0f921"
            ]
           ]
          },
          "colorway": [
           "#636efa",
           "#EF553B",
           "#00cc96",
           "#ab63fa",
           "#FFA15A",
           "#19d3f3",
           "#FF6692",
           "#B6E880",
           "#FF97FF",
           "#FECB52"
          ],
          "font": {
           "color": "#2a3f5f"
          },
          "geo": {
           "bgcolor": "white",
           "lakecolor": "white",
           "landcolor": "#E5ECF6",
           "showlakes": true,
           "showland": true,
           "subunitcolor": "white"
          },
          "hoverlabel": {
           "align": "left"
          },
          "hovermode": "closest",
          "mapbox": {
           "style": "light"
          },
          "paper_bgcolor": "white",
          "plot_bgcolor": "#E5ECF6",
          "polar": {
           "angularaxis": {
            "gridcolor": "white",
            "linecolor": "white",
            "ticks": ""
           },
           "bgcolor": "#E5ECF6",
           "radialaxis": {
            "gridcolor": "white",
            "linecolor": "white",
            "ticks": ""
           }
          },
          "scene": {
           "xaxis": {
            "backgroundcolor": "#E5ECF6",
            "gridcolor": "white",
            "gridwidth": 2,
            "linecolor": "white",
            "showbackground": true,
            "ticks": "",
            "zerolinecolor": "white"
           },
           "yaxis": {
            "backgroundcolor": "#E5ECF6",
            "gridcolor": "white",
            "gridwidth": 2,
            "linecolor": "white",
            "showbackground": true,
            "ticks": "",
            "zerolinecolor": "white"
           },
           "zaxis": {
            "backgroundcolor": "#E5ECF6",
            "gridcolor": "white",
            "gridwidth": 2,
            "linecolor": "white",
            "showbackground": true,
            "ticks": "",
            "zerolinecolor": "white"
           }
          },
          "shapedefaults": {
           "line": {
            "color": "#2a3f5f"
           }
          },
          "ternary": {
           "aaxis": {
            "gridcolor": "white",
            "linecolor": "white",
            "ticks": ""
           },
           "baxis": {
            "gridcolor": "white",
            "linecolor": "white",
            "ticks": ""
           },
           "bgcolor": "#E5ECF6",
           "caxis": {
            "gridcolor": "white",
            "linecolor": "white",
            "ticks": ""
           }
          },
          "title": {
           "x": 0.05
          },
          "xaxis": {
           "automargin": true,
           "gridcolor": "white",
           "linecolor": "white",
           "ticks": "",
           "title": {
            "standoff": 15
           },
           "zerolinecolor": "white",
           "zerolinewidth": 2
          },
          "yaxis": {
           "automargin": true,
           "gridcolor": "white",
           "linecolor": "white",
           "ticks": "",
           "title": {
            "standoff": 15
           },
           "zerolinecolor": "white",
           "zerolinewidth": 2
          }
         }
        },
        "title": {
         "text": "Level turn"
        },
        "width": 1200,
        "xaxis": {
         "anchor": "y",
         "domain": [
          0,
          0.2133333333333333
         ]
        },
        "xaxis10": {
         "anchor": "y19",
         "domain": [
          0,
          0.2133333333333333
         ]
        },
        "xaxis11": {
         "anchor": "y21",
         "domain": [
          0.3633333333333333,
          0.5766666666666665
         ]
        },
        "xaxis12": {
         "anchor": "y23",
         "domain": [
          0.7266666666666666,
          0.9399999999999998
         ]
        },
        "xaxis13": {
         "anchor": "y25",
         "domain": [
          0,
          0.2133333333333333
         ]
        },
        "xaxis14": {
         "anchor": "y27",
         "domain": [
          0.3633333333333333,
          0.5766666666666665
         ]
        },
        "xaxis15": {
         "anchor": "y29",
         "domain": [
          0.7266666666666666,
          0.9399999999999998
         ]
        },
        "xaxis16": {
         "anchor": "y31",
         "domain": [
          0,
          0.2133333333333333
         ]
        },
        "xaxis17": {
         "anchor": "y33",
         "domain": [
          0.3633333333333333,
          0.5766666666666665
         ]
        },
        "xaxis18": {
         "anchor": "y35",
         "domain": [
          0.7266666666666666,
          0.9399999999999998
         ]
        },
        "xaxis2": {
         "anchor": "y3",
         "domain": [
          0.3633333333333333,
          0.5766666666666665
         ]
        },
        "xaxis3": {
         "anchor": "y5",
         "domain": [
          0.7266666666666666,
          0.9399999999999998
         ]
        },
        "xaxis4": {
         "anchor": "y7",
         "domain": [
          0,
          0.2133333333333333
         ]
        },
        "xaxis5": {
         "anchor": "y9",
         "domain": [
          0.3633333333333333,
          0.5766666666666665
         ]
        },
        "xaxis6": {
         "anchor": "y11",
         "domain": [
          0.7266666666666666,
          0.9399999999999998
         ]
        },
        "xaxis7": {
         "anchor": "y13",
         "domain": [
          0,
          0.2133333333333333
         ]
        },
        "xaxis8": {
         "anchor": "y15",
         "domain": [
          0.3633333333333333,
          0.5766666666666665
         ]
        },
        "xaxis9": {
         "anchor": "y17",
         "domain": [
          0.7266666666666666,
          0.9399999999999998
         ]
        },
        "yaxis": {
         "anchor": "x",
         "domain": [
          0.9166666666666666,
          1
         ]
        },
        "yaxis10": {
         "anchor": "x5",
         "overlaying": "y9",
         "side": "right"
        },
        "yaxis11": {
         "anchor": "x6",
         "domain": [
          0.7333333333333334,
          0.8166666666666668
         ]
        },
        "yaxis12": {
         "anchor": "x6",
         "overlaying": "y11",
         "side": "right"
        },
        "yaxis13": {
         "anchor": "x7",
         "domain": [
          0.55,
          0.6333333333333334
         ]
        },
        "yaxis14": {
         "anchor": "x7",
         "overlaying": "y13",
         "side": "right"
        },
        "yaxis15": {
         "anchor": "x8",
         "domain": [
          0.55,
          0.6333333333333334
         ]
        },
        "yaxis16": {
         "anchor": "x8",
         "overlaying": "y15",
         "side": "right"
        },
        "yaxis17": {
         "anchor": "x9",
         "domain": [
          0.55,
          0.6333333333333334
         ]
        },
        "yaxis18": {
         "anchor": "x9",
         "overlaying": "y17",
         "side": "right"
        },
        "yaxis19": {
         "anchor": "x10",
         "domain": [
          0.3666666666666667,
          0.45
         ]
        },
        "yaxis2": {
         "anchor": "x",
         "overlaying": "y",
         "side": "right"
        },
        "yaxis20": {
         "anchor": "x10",
         "overlaying": "y19",
         "side": "right"
        },
        "yaxis21": {
         "anchor": "x11",
         "domain": [
          0.3666666666666667,
          0.45
         ]
        },
        "yaxis22": {
         "anchor": "x11",
         "overlaying": "y21",
         "side": "right"
        },
        "yaxis23": {
         "anchor": "x12",
         "domain": [
          0.3666666666666667,
          0.45
         ]
        },
        "yaxis24": {
         "anchor": "x12",
         "overlaying": "y23",
         "side": "right"
        },
        "yaxis25": {
         "anchor": "x13",
         "domain": [
          0.18333333333333335,
          0.26666666666666666
         ]
        },
        "yaxis26": {
         "anchor": "x13",
         "overlaying": "y25",
         "side": "right"
        },
        "yaxis27": {
         "anchor": "x14",
         "domain": [
          0.18333333333333335,
          0.26666666666666666
         ]
        },
        "yaxis28": {
         "anchor": "x14",
         "overlaying": "y27",
         "side": "right"
        },
        "yaxis29": {
         "anchor": "x15",
         "domain": [
          0.18333333333333335,
          0.26666666666666666
         ]
        },
        "yaxis3": {
         "anchor": "x2",
         "domain": [
          0.9166666666666666,
          1
         ]
        },
        "yaxis30": {
         "anchor": "x15",
         "overlaying": "y29",
         "side": "right"
        },
        "yaxis31": {
         "anchor": "x16",
         "domain": [
          0,
          0.08333333333333333
         ]
        },
        "yaxis32": {
         "anchor": "x16",
         "overlaying": "y31",
         "side": "right"
        },
        "yaxis33": {
         "anchor": "x17",
         "domain": [
          0,
          0.08333333333333333
         ]
        },
        "yaxis34": {
         "anchor": "x17",
         "overlaying": "y33",
         "side": "right"
        },
        "yaxis35": {
         "anchor": "x18",
         "domain": [
          0,
          0.08333333333333333
         ]
        },
        "yaxis36": {
         "anchor": "x18",
         "overlaying": "y35",
         "side": "right"
        },
        "yaxis4": {
         "anchor": "x2",
         "overlaying": "y3",
         "side": "right"
        },
        "yaxis5": {
         "anchor": "x3",
         "domain": [
          0.9166666666666666,
          1
         ]
        },
        "yaxis6": {
         "anchor": "x3",
         "overlaying": "y5",
         "side": "right"
        },
        "yaxis7": {
         "anchor": "x4",
         "domain": [
          0.7333333333333334,
          0.8166666666666668
         ]
        },
        "yaxis8": {
         "anchor": "x4",
         "overlaying": "y7",
         "side": "right"
        },
        "yaxis9": {
         "anchor": "x5",
         "domain": [
          0.7333333333333334,
          0.8166666666666668
         ]
        }
       }
      }
     },
     "metadata": {},
     "output_type": "display_data"
    }
   ],
   "source": [
    "level_turn_times=np.array([\n",
    "                # ['16:29:00','16:31:16'],  #flight3 5k 30deg             #format is [['Begin1','End1],['Begin2','End2'],...] with time in HH:MM:SS or HH:MM:SS.ss\n",
    "                # ['16:35:40','16:36:22'],  #flight3 5k 60deg\n",
    "                # ['16:40:08','16:41:18'],  #flight3 5k 45deg\n",
    "                # ['17:26:50','17:29:13'],  #flight3 10k 30deg\n",
    "                # ['17:31:52','17:32:44'],  #flight3 10k 60deg\n",
    "                # ['17:38:25','17:39:49'],  #flight3 10k 45deg\n",
    "                ['15:53:01','15:55:39'],  #flight4 15k 30deg\n",
    "                ['15:56:49','15:58:23'],  #flight4 15k 45deg\n",
    "                ['16:30:19','16:31:34'],   #flight 4 20k 30deg\n",
    "                ['16:34:01','16:34:25'],   #flight 4 20k 45deg\n",
    "                ['16:35:32','16:36:01'],   #flight 4 20k 60deg\n",
    "                # ['16:44:31','16:45:58'],  #flight 6 10k 45deg\n",
    "                # ['16:50:39','16:51:31'],  #flight 6 15k 60deg\n",
    "               ])\n",
    "\n",
    "if level_turn_times.size>0:\n",
    "    libs.perf.level_turn(data,level_turn_times,smooth,YAPS=YAPS,graphs=True)"
   ]
  },
  {
   "cell_type": "markdown",
   "metadata": {},
   "source": [
    "## Flight manual descent"
   ]
  },
  {
   "cell_type": "code",
   "execution_count": 6,
   "metadata": {},
   "outputs": [],
   "source": [
    "descent_times=np.array([\n",
    "                #['17:47:41','17:55:47'],               #format is [['Begin1','End1],['Begin2','End2'],...] with time in HH:MM:SS or HH:MM:SS.ss\n",
    "               #['16:56:40','17:06:24'],               #flight 4\n",
    "            #    ['16:29:12','16:39:18'],               #flight 6 FM descent 20k to 5k\n",
    "               ])\n",
    "\n",
    "if descent_times.size>0:\n",
    "    libs.perf.FM_descent(data,descent_times,smooth, YAPS=YAPS, graphs=True)"
   ]
  },
  {
   "cell_type": "markdown",
   "metadata": {},
   "source": [
    "## Emergency descent"
   ]
  },
  {
   "cell_type": "code",
   "execution_count": 7,
   "metadata": {},
   "outputs": [],
   "source": [
    "emer_descent_times=np.array([\n",
    "            #    ['18:31:47','18:35:25'],               #flight 5 Emergency descent\n",
    "               ])\n",
    "\n",
    "if emer_descent_times.size > 0:\n",
    "    libs.perf.Emer_descent(data,emer_descent_times,smooth, YAPS=YAPS, graphs=True)"
   ]
  }
 ],
 "metadata": {
  "kernelspec": {
   "display_name": "Python 3",
   "language": "python",
   "name": "python3"
  },
  "language_info": {
   "codemirror_mode": {
    "name": "ipython",
    "version": 3
   },
   "file_extension": ".py",
   "mimetype": "text/x-python",
   "name": "python",
   "nbconvert_exporter": "python",
   "pygments_lexer": "ipython3",
   "version": "3.13.0"
  }
 },
 "nbformat": 4,
 "nbformat_minor": 2
}
