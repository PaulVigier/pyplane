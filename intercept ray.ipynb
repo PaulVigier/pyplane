{
 "cells": [
  {
   "cell_type": "code",
   "execution_count": 1,
   "id": "9656b672",
   "metadata": {},
   "outputs": [],
   "source": [
    "import time\n",
    "import numpy as np\n",
    "from libs import constants as cst\n",
    "from libs import geo\n",
    "from libs import intercept\n",
    "from libs.transform import Transform"
   ]
  },
  {
   "cell_type": "code",
   "execution_count": null,
   "id": "d9685c6f",
   "metadata": {},
   "outputs": [],
   "source": [
    "#Setup\n",
    "#Fighter\n",
    "lat_f= 35.0 #degrees\n",
    "lon_f= -117.8907 #degrees\n",
    "alt_f= 10000*cst.FT_TO_M #m\n",
    "hdg_f= 288.6 #degrees\n",
    "TAS_f= 510*cst.KT_TO_MS #knots (0.8M at 10k ft)\n",
    "load_factor_f= 3.0 #g's\n",
    "\n",
    "#Target\n",
    "lat_tgt= 34.71647 #degrees\n",
    "lon_tgt= -117.8007 #degrees\n",
    "alt_tgt= 10000*cst.FT_TO_M #m\n",
    "hdg_tgt= 90 #degrees\n",
    "TAS_tgt= 400*cst.KT_TO_MS #(0.7M at 10k ft)\n",
    "\n",
    "coord_f= Transform(lat=lat_f, lon=lon_f, alt=alt_f, roll=0,pitch=0,yaw=hdg_f)\n",
    "coord_tgt= Transform(lat=lat_tgt, lon=lon_tgt, alt=alt_tgt, roll=0,pitch=0,yaw=hdg_tgt)"
   ]
  },
  {
   "cell_type": "code",
   "execution_count": 3,
   "id": "c6e06e7c",
   "metadata": {},
   "outputs": [
    {
     "name": "stdout",
     "output_type": "stream",
     "text": [
      "➡️ Right turn\n",
      "Turn:145.00°, Heading:343.60°\tray direction: 301.79\tIntersection found at [-215.41388414  808.96828312], Distance: 15.80 m\n",
      "Turn:145.50°, Heading:344.10°\tray direction: 302.93\tIntersection found at [ -18.39704028 1488.10431519], Distance: 9.25 m\n",
      "Turn:146.00°, Heading:344.60°\tray direction: 304.10\tIntersection found at [ 263.66329736 2034.31890712], Distance: 19.70 m\n",
      "Turn:146.50°, Heading:345.10°\tray direction: 305.30\tIntersection found at [ 598.65487418 2510.58318117], Distance: 23.04 m\n",
      "Turn:147.00°, Heading:345.60°\tray direction: 306.54\tIntersection found at [ 978.42903317 2938.36075793], Distance: 19.44 m\n",
      "Turn:147.50°, Heading:346.10°\tray direction: 307.81\tIntersection found at [1401.65079353 3327.73657125], Distance: 23.72 m\n",
      "Turn:148.00°, Heading:346.60°\tray direction: 309.12\tIntersection found at [1870.51139422 3683.68781796], Distance: 24.12 m\n",
      "Turn:148.50°, Heading:347.10°\tray direction: 310.47\tIntersection found at [2390.04487536 4007.9740131 ], Distance: 28.01 m\n",
      "Turn:149.00°, Heading:347.60°\tray direction: 311.85\tIntersection found at [2968.3669658  4299.67864632], Distance: 20.12 m\n",
      "Turn:149.50°, Heading:348.10°\tray direction: 313.28\tIntersection found at [3617.86210071 4554.76135136], Distance: 18.23 m\n",
      "Turn:150.00°, Heading:348.60°\tray direction: 314.75\tIntersection found at [4357.67337067 4764.61878337], Distance: 36.41 m\n",
      "Turn:150.50°, Heading:349.10°\tray direction: 316.27\tIntersection found at [5219.26788473 4912.41066274], Distance: 7.82 m\n",
      "Turn:151.00°, Heading:349.60°\tray direction: 317.82\tIntersection found at [6261.95215752 4961.96796072], Distance: 30.79 m\n",
      "Turn:151.50°, Heading:350.10°\tray direction: 319.43\tIntersection found at [7628.84848901 4816.51421108], Distance: 19.37 m\n",
      "Turn:152.00°, Heading:350.60°\tray direction: 321.08\tIntersection found at [10349.26878981  3690.65691239], Distance: 11.87 m\n",
      "🔎Best pair of headings: (np.float64(145.0), np.float64(152.0)), Max separation: 7.00 °\n",
      "Turn angle: 146.00°, cos theta: -0.41, theta:65.72161854005749°\n",
      "Turn angle: 149.24°, cos theta: 0.36, theta:111.07961729663428°\n",
      "Turn angle: 147.24°, cos theta: -0.10, theta:84.20985061304877°\n",
      "Turn angle: 145.24°, cos theta: -0.66, theta:48.76938367542812°\n",
      "Turn angle: 144.76°, cos theta: -0.92, theta:22.708989694651507°\n",
      "Turn angle: 144.94°, cos theta: -0.79, theta:37.56651910942418°\n",
      "Turn angle: 144.83°, cos theta: -0.86, theta:30.674457394593475°\n",
      "Turn angle: 144.72°, cos theta: -0.97, theta:12.863068216302338°\n",
      "Turn angle: 144.74°, cos theta: -0.95, theta:17.38804174729276°\n",
      "Turn angle: 144.71°, cos theta: -0.99, theta:5.8781926415533405°\n",
      "Turn angle: 144.72°, cos theta: -0.99, theta:9.527841454397247°\n",
      "Turn angle: 144.71°, cos theta: -1.00, theta:1.8529929404328698°\n",
      "Turn angle: 144.71°, cos theta: -1.00, theta:3.9164144951919866°\n",
      "Turn angle: 144.71°, cos theta: -1.00, theta:1.8537574910161538°\n",
      "Turn angle: 144.71°, cos theta: -1.00, theta:1.8533746133464035°\n",
      "Turn angle: 144.71°, cos theta: -1.00, theta:1.853138726088332°\n",
      "Turn angle: 144.71°, cos theta: -1.00, theta:1.8529240016553388°\n",
      "Turn angle: 144.71°, cos theta: -1.00, theta:1.8529503339105133°\n",
      "Turn angle: 144.71°, cos theta: -1.00, theta:1.8529077274345127°\n",
      "Turn angle: 144.71°, cos theta: -1.00, theta:1.8528976694160235°\n",
      "Turn angle: 144.71°, cos theta: -1.00, theta:1.8529015112367802°\n",
      "Result:  message: \n",
      "          Optimization terminated successfully;\n",
      "          The returned value satisfies the termination criteria\n",
      "          (using xtol = 1e-08 )\n",
      " success: True\n",
      "     fun: 1.8528976694160235\n",
      "       x: 144.70889396758284\n",
      "     nit: 29\n",
      "    nfev: 32\n",
      "Rel hdg: 343.31°, HCA: 16.69°, Rel_pos_out: 23703.81, sin f bearing: -0.29°, Ray dir: -0.86\n",
      "HCA step 3: 16.69°\n",
      "Turn angle: 151.00°, cos theta: 0.75, theta:138.94875176353383°\n",
      "Turn angle: 147.76°, cos theta: 0.03, theta:91.48664079775914°\n",
      "Turn angle: 149.38°, cos theta: 0.38, theta:112.63501701105753°\n",
      "Turn angle: 145.76°, cos theta: -0.48, theta:61.23330050433252°\n",
      "Turn angle: 146.76°, cos theta: -0.21, theta:77.59502909473295°\n",
      "Turn angle: 145.29°, cos theta: -0.64, theta:50.38192211015499°\n",
      "Turn angle: 145.00°, cos theta: -0.76, theta:40.29275067744027°\n",
      "Turn angle: 144.82°, cos theta: -0.87, theta:29.613785719766042°\n",
      "Turn angle: 144.89°, cos theta: -0.82, theta:34.70554592210942°\n",
      "Turn angle: 144.78°, cos theta: -0.91, theta:25.125355284344835°\n",
      "Turn angle: 144.75°, cos theta: -0.94, theta:20.13846802285255°\n",
      "Turn angle: 144.73°, cos theta: -0.95, theta:17.381172077386083°\n",
      "Turn angle: 144.72°, cos theta: -0.97, theta:14.42664518607728°\n",
      "Turn angle: 144.72°, cos theta: -0.98, theta:11.232102460353389°\n",
      "Turn angle: 144.71°, cos theta: -0.99, theta:9.526221590547493°\n",
      "Turn angle: 144.71°, cos theta: -0.99, theta:7.743814773584376°\n",
      "Turn angle: 144.71°, cos theta: -0.99, theta:5.876573111855095°\n",
      "Turn angle: 144.71°, cos theta: -1.00, theta:3.916032181009058°\n",
      "Turn angle: 144.71°, cos theta: -1.00, theta:1.853375188093196°\n",
      "Turn angle: 144.71°, cos theta: -1.00, theta:1.8538477091953496°\n",
      "Turn angle: 144.71°, cos theta: -1.00, theta:1.8536112185536524°\n",
      "Turn angle: 144.71°, cos theta: -1.00, theta:1.8530831567165365°\n",
      "Turn angle: 144.71°, cos theta: -1.00, theta:1.8529026724394555°\n",
      "Turn angle: 144.71°, cos theta: -1.00, theta:1.8529716112028893°\n",
      "Turn angle: 144.71°, cos theta: -1.00, theta:1.8529290046895426°\n",
      "Turn angle: 144.71°, cos theta: -1.00, theta:1.8529127304616964°\n",
      "Turn angle: 144.71°, cos theta: -1.00, theta:1.8529065142618606°\n",
      "Result:  message: \n",
      "          Optimization terminated successfully;\n",
      "          The returned value satisfies the termination criteria\n",
      "          (using xtol = 1e-08 )\n",
      " success: True\n",
      "     fun: 1.8529026724394555\n",
      "       x: 144.70889623266407\n",
      "     nit: 31\n",
      "    nfev: 36\n",
      "Rel hdg: 343.31°, HCA: 16.69°, Rel_pos_out: 23703.81, sin f bearing: -0.29°, Ray dir: -0.86\n",
      "HCA step 3: 16.69°\n",
      "⬅️ Left turn\n",
      "Turn:-211.00°, Heading:347.60°\tray direction: 311.85\tIntersection found at [8700.01225374 4524.34496675], Distance: 0.75 m\n",
      "Turn:-211.50°, Heading:347.10°\tray direction: 310.47\tIntersection found at [7159.19201739 4894.00084684], Distance: 3.47 m\n",
      "Turn:-212.00°, Heading:346.60°\tray direction: 309.12\tIntersection found at [5975.80723151 4962.12303388], Distance: 22.88 m\n",
      "Turn:-212.50°, Heading:346.10°\tray direction: 307.81\tIntersection found at [4985.3394488  4882.07743416], Distance: 12.70 m\n",
      "Turn:-213.00°, Heading:345.60°\tray direction: 306.54\tIntersection found at [4124.65920125 4707.18212821], Distance: 23.45 m\n",
      "Turn:-213.50°, Heading:345.10°\tray direction: 305.30\tIntersection found at [3360.78743689 4462.2123944 ], Distance: 33.17 m\n",
      "Turn:-214.00°, Heading:344.60°\tray direction: 304.10\tIntersection found at [2674.06502737 4159.54525393], Distance: 12.16 m\n",
      "Turn:-214.50°, Heading:344.10°\tray direction: 302.93\tIntersection found at [2052.10061564 3804.59826482], Distance: 8.61 m\n",
      "Turn:-215.00°, Heading:343.60°\tray direction: 301.79\tIntersection found at [1487.14318892 3397.87800163], Distance: 22.85 m\n",
      "Turn:-215.50°, Heading:343.10°\tray direction: 300.68\tIntersection found at [ 975.16363745 2935.05841215], Distance: 14.80 m\n",
      "Turn:-216.00°, Heading:342.60°\tray direction: 299.61\tIntersection found at [ 516.4732857  2404.60835986], Distance: 1.38 m\n",
      "Turn:-216.50°, Heading:342.10°\tray direction: 298.56\tIntersection found at [ 119.08864249 1779.93922612], Distance: 17.37 m\n",
      "Turn:-217.00°, Heading:341.60°\tray direction: 297.54\tIntersection found at [-183.01504612  981.1599964 ], Distance: 12.43 m\n",
      "🔎Best pair of headings: (np.float64(-217.0), np.float64(-211.0)), Max separation: 6.00 °\n",
      "Turn angle: -216.00°, cos theta: -0.40, theta:66.31265166775438°\n",
      "Turn angle: -212.76°, cos theta: 0.43, theta:115.31693477889952°\n",
      "Turn angle: -214.76°, cos theta: -0.06, theta:86.48602671321592°\n",
      "Turn angle: -216.76°, cos theta: -0.66, theta:48.837726999277805°\n",
      "Turn angle: -217.24°, cos theta: -0.93, theta:22.03522584202028°\n",
      "Turn angle: -217.06°, cos theta: -0.79, theta:37.59421120059076°\n",
      "Turn angle: -217.17°, cos theta: -0.86, theta:30.362576675911043°\n",
      "Turn angle: -217.28°, cos theta: -0.98, theta:11.72027832309874°\n",
      "Turn angle: -217.26°, cos theta: -0.96, theta:17.203027317432003°\n",
      "Turn angle: -217.27°, cos theta: -0.97, theta:14.5551915532657°\n",
      "Turn angle: -217.28°, cos theta: -0.99, theta:8.661222287753645°\n",
      "Turn angle: -217.28°, cos theta: -0.99, theta:7.032400018127163°\n",
      "Turn angle: -217.29°, cos theta: -1.00, theta:5.332084525223507°\n",
      "Turn angle: -217.29°, cos theta: -1.00, theta:3.553116529538869°\n",
      "Turn angle: -217.29°, cos theta: -1.00, theta:1.6879998819000548°\n",
      "Turn angle: -217.29°, cos theta: -1.00, theta:3.552427998949753°\n",
      "Turn angle: -217.29°, cos theta: -1.00, theta:1.68773689268113°\n",
      "Turn angle: -217.29°, cos theta: -1.00, theta:1.6878683084804607°\n",
      "Turn angle: -217.29°, cos theta: -1.00, theta:1.687674809606733°\n",
      "Turn angle: -217.29°, cos theta: -1.00, theta:1.6876985232184722°\n",
      "Turn angle: -217.29°, cos theta: -1.00, theta:1.687660153795207°\n",
      "Turn angle: -217.29°, cos theta: -1.00, theta:1.6876510960082953°\n",
      "Turn angle: -217.29°, cos theta: -1.00, theta:1.687645497989081°\n",
      "Result:  message: \n",
      "          Optimization terminated successfully;\n",
      "          The returned value satisfies the termination criteria\n",
      "          (using xtol = 1e-08 )\n",
      " success: True\n",
      "     fun: 1.687645497989081\n",
      "       x: -217.28796237054274\n",
      "     nit: 29\n",
      "    nfev: 32\n",
      "Rel hdg: 341.31°, HCA: 18.69°, Rel_pos_out: 33136.01, sin f bearing: -0.32°, Ray dir: -0.89\n",
      "HCA step 3: 18.69°\n",
      "Turn angle: -212.00°, cos theta: 0.62, theta:127.99470998721608°\n",
      "Turn angle: -215.24°, cos theta: -0.18, theta:79.53347163715186°\n",
      "Turn angle: -213.62°, cos theta: 0.22, theta:103.00061184975017°\n",
      "Turn angle: -217.24°, cos theta: -0.93, theta:22.03522580369389°\n",
      "Turn angle: -216.24°, cos theta: -0.47, theta:62.017582102044216°\n",
      "Turn angle: -216.85°, cos theta: -0.70, theta:45.76120693026496°\n",
      "Turn angle: -217.09°, cos theta: -0.81, theta:35.85486193482549°\n",
      "Turn angle: -217.18°, cos theta: -0.88, theta:28.423674349471696°\n",
      "Turn angle: -217.26°, cos theta: -0.96, theta:17.203027283422813°\n",
      "Turn angle: -217.28°, cos theta: -0.98, theta:11.720278289620722°\n",
      "Turn angle: -217.27°, cos theta: -0.97, theta:14.555191519584866°\n",
      "Turn angle: -217.28°, cos theta: -0.99, theta:8.661222254400968°\n",
      "Turn angle: -217.28°, cos theta: -0.99, theta:7.032399984851764°\n",
      "Turn angle: -217.29°, cos theta: -1.00, theta:5.3320844919959995°\n",
      "Turn angle: -217.29°, cos theta: -1.00, theta:3.5531164963407775°\n",
      "Turn angle: -217.29°, cos theta: -1.00, theta:1.6879998487205512°\n",
      "Turn angle: -217.29°, cos theta: -1.00, theta:3.5524279657631155°\n",
      "Turn angle: -217.29°, cos theta: -1.00, theta:1.6877368595057192°\n",
      "Turn angle: -217.29°, cos theta: -1.00, theta:1.6878682753031171°\n",
      "Turn angle: -217.29°, cos theta: -1.00, theta:1.6876747764320328°\n",
      "Turn angle: -217.29°, cos theta: -1.00, theta:1.6876984900438288°\n",
      "Turn angle: -217.29°, cos theta: -1.00, theta:1.6876601206213309°\n",
      "Turn angle: -217.29°, cos theta: -1.00, theta:1.6876510628346466°\n",
      "Turn angle: -217.29°, cos theta: -1.00, theta:1.687645464815148°\n",
      "Result:  message: \n",
      "          Optimization terminated successfully;\n",
      "          The returned value satisfies the termination criteria\n",
      "          (using xtol = 1e-08 )\n",
      " success: True\n",
      "     fun: 1.687645464815148\n",
      "       x: -217.28796238722052\n",
      "     nit: 30\n",
      "    nfev: 35\n",
      "Rel hdg: 341.31°, HCA: 18.69°, Rel_pos_out: 33136.01, sin f bearing: -0.32°, Ray dir: -0.89\n",
      "HCA step 3: 18.69°\n",
      "Minimum time [339.76024236  23.88996905 313.1147416    2.75553171]\n"
     ]
    },
    {
     "data": {
      "application/vnd.plotly.v1+json": {
       "config": {
        "plotlyServerURL": "https://plot.ly"
       },
       "data": [
        {
         "line": {
          "color": "blue",
          "width": 2
         },
         "marker": {
          "color": "blue",
          "size": 6,
          "symbol": "circle"
         },
         "mode": "markers+lines",
         "name": "TIP Polygon",
         "type": "scatter",
         "x": {
          "bdata": "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",
          "dtype": "f8"
         },
         "y": {
          "bdata": "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",
          "dtype": "f8"
         }
        },
        {
         "marker": {
          "color": "orange",
          "size": 6,
          "symbol": "circle"
         },
         "mode": "markers",
         "name": "Fighter Turn Path (R)",
         "type": "scatter",
         "x": {
          "bdata": "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",
          "dtype": "f8"
         },
         "y": {
          "bdata": "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",
          "dtype": "f8"
         }
        },
        {
         "marker": {
          "color": "yellow",
          "size": 6,
          "symbol": "circle"
         },
         "mode": "markers",
         "name": "Fighter Turn Path (L)",
         "type": "scatter",
         "x": {
          "bdata": "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",
          "dtype": "f8"
         },
         "y": {
          "bdata": "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",
          "dtype": "f8"
         }
        },
        {
         "line": {
          "color": "red",
          "dash": "dash",
          "width": 2
         },
         "mode": "lines",
         "name": "Path 1",
         "showlegend": false,
         "type": "scatter",
         "x": [
          -14406.015807430995,
          -148.41836881543168
         ],
         "y": [
          23703.81092005975,
          109.04669196224859
         ]
        },
        {
         "line": {
          "color": "green",
          "dash": "solid",
          "width": 2
         },
         "mode": "lines",
         "name": "Path 2",
         "showlegend": false,
         "type": "scatter",
         "x": [
          -14406.01579040369,
          -148.45479206970595
         ],
         "y": [
          23703.810891881432,
          109.11162294651876
         ]
        },
        {
         "line": {
          "color": "red",
          "dash": "dash",
          "width": 2
         },
         "mode": "lines",
         "name": "Path 3",
         "showlegend": false,
         "type": "scatter",
         "x": [
          -16946.83700484017,
          -162.90611971808903
         ],
         "y": [
          33136.01364082433,
          136.02798108643765
         ]
        },
        {
         "line": {
          "color": "red",
          "dash": "dash",
          "width": 2
         },
         "mode": "lines",
         "name": "Path 4",
         "showlegend": false,
         "type": "scatter",
         "x": [
          -16946.83700472245,
          -162.90580899936322
         ],
         "y": [
          33136.013640592864,
          136.027322877002
         ]
        },
        {
         "line": {
          "color": "blue",
          "dash": "dot",
          "width": 2
         },
         "mode": "lines",
         "name": "Path 1",
         "showlegend": false,
         "type": "scatter",
         "x": [
          -215.4138841445856,
          -14403.818327327257
         ],
         "y": [
          808.9682831237187,
          23700.220167129522
         ]
        },
        {
         "line": {
          "color": "blue",
          "dash": "dot",
          "width": 2
         },
         "mode": "lines",
         "name": "Path 2",
         "showlegend": false,
         "type": "scatter",
         "x": [
          -18.39704028487904,
          -14400.001924179156
         ],
         "y": [
          1488.1043151908343,
          23694.196217025252
         ]
        },
        {
         "line": {
          "color": "blue",
          "dash": "dot",
          "width": 2
         },
         "mode": "lines",
         "name": "Path 3",
         "showlegend": false,
         "type": "scatter",
         "x": [
          263.66329735783984,
          -14396.133744904992
         ],
         "y": [
          2034.3189071185916,
          23688.354028423728
         ]
        },
        {
         "line": {
          "color": "blue",
          "dash": "dot",
          "width": 2
         },
         "mode": "lines",
         "name": "Path 4",
         "showlegend": false,
         "type": "scatter",
         "x": [
          598.6548741819006,
          -14392.21537762445
         ],
         "y": [
          2510.583181169797,
          23682.694046230234
         ]
        },
        {
         "line": {
          "color": "blue",
          "dash": "dot",
          "width": 2
         },
         "mode": "lines",
         "name": "Path 5",
         "showlegend": false,
         "type": "scatter",
         "x": [
          978.4290331654229,
          -14388.248414279224
         ],
         "y": [
          2938.3607579299533,
          23677.21670147432
         ]
        },
        {
         "line": {
          "color": "blue",
          "dash": "dot",
          "width": 2
         },
         "mode": "lines",
         "name": "Path 6",
         "showlegend": false,
         "type": "scatter",
         "x": [
          1401.650793531262,
          -14384.234450511784
         ],
         "y": [
          3327.736571251171,
          23671.922411277006
         ]
        },
        {
         "line": {
          "color": "blue",
          "dash": "dot",
          "width": 2
         },
         "mode": "lines",
         "name": "Path 7",
         "showlegend": false,
         "type": "scatter",
         "x": [
          1870.5113942201424,
          -14380.175085543866
         ],
         "y": [
          3683.6878179575288,
          23666.811578818983
         ]
        },
        {
         "line": {
          "color": "blue",
          "dash": "dot",
          "width": 2
         },
         "mode": "lines",
         "name": "Path 8",
         "showlegend": false,
         "type": "scatter",
         "x": [
          2390.0448753640903,
          -14376.071922054683
         ],
         "y": [
          4007.97401310207,
          23661.884593309926
         ]
        },
        {
         "line": {
          "color": "blue",
          "dash": "dot",
          "width": 2
         },
         "mode": "lines",
         "name": "Path 9",
         "showlegend": false,
         "type": "scatter",
         "x": [
          2968.36696579618,
          -14371.926566058875
         ],
         "y": [
          4299.678646317021,
          23657.141829958862
         ]
        },
        {
         "line": {
          "color": "blue",
          "dash": "dot",
          "width": 2
         },
         "mode": "lines",
         "name": "Path 10",
         "showlegend": false,
         "type": "scatter",
         "x": [
          3617.862100709157,
          -14367.740626784205
         ],
         "y": [
          4554.761351357567,
          23652.58364994558
         ]
        },
        {
         "line": {
          "color": "blue",
          "dash": "dot",
          "width": 2
         },
         "mode": "lines",
         "name": "Path 11",
         "showlegend": false,
         "type": "scatter",
         "x": [
          4357.673370667977,
          -14363.515716549013
         ],
         "y": [
          4764.618783366415,
          23648.210400393138
         ]
        },
        {
         "line": {
          "color": "blue",
          "dash": "dot",
          "width": 2
         },
         "mode": "lines",
         "name": "Path 12",
         "showlegend": false,
         "type": "scatter",
         "x": [
          5219.26788472837,
          -14359.253450639417
         ],
         "y": [
          4912.410662736194,
          23644.022414341423
         ]
        },
        {
         "line": {
          "color": "blue",
          "dash": "dot",
          "width": 2
         },
         "mode": "lines",
         "name": "Path 13",
         "showlegend": false,
         "type": "scatter",
         "x": [
          6261.952157522443,
          -14354.95544718633
         ],
         "y": [
          4961.967960723763,
          23640.020010721782
         ]
        },
        {
         "line": {
          "color": "blue",
          "dash": "dot",
          "width": 2
         },
         "mode": "lines",
         "name": "Path 14",
         "showlegend": false,
         "type": "scatter",
         "x": [
          7628.848489012791,
          -14350.623327042202
         ],
         "y": [
          4816.514211082373,
          23636.203494332753
         ]
        },
        {
         "line": {
          "color": "blue",
          "dash": "dot",
          "width": 2
         },
         "mode": "lines",
         "name": "Path 15",
         "showlegend": false,
         "type": "scatter",
         "x": [
          10349.268789809255,
          -14346.258713657615
         ],
         "y": [
          3690.656912385166,
          23632.573155816826
         ]
        },
        {
         "line": {
          "color": "blue",
          "dash": "dot",
          "width": 2
         },
         "mode": "lines",
         "name": "Path 16",
         "showlegend": false,
         "type": "scatter",
         "x": [
          8700.012253744906,
          -16995.487608464875
         ],
         "y": [
          4524.34496675335,
          33208.96277061288
         ]
        },
        {
         "line": {
          "color": "blue",
          "dash": "dot",
          "width": 2
         },
         "mode": "lines",
         "name": "Path 17",
         "showlegend": false,
         "type": "scatter",
         "x": [
          7159.192017394485,
          -16991.34225246907
         ],
         "y": [
          4894.000846840681,
          33204.22000726182
         ]
        },
        {
         "line": {
          "color": "blue",
          "dash": "dot",
          "width": 2
         },
         "mode": "lines",
         "name": "Path 18",
         "showlegend": false,
         "type": "scatter",
         "x": [
          5975.8072315110985,
          -16987.239088979884
         ],
         "y": [
          4962.123033877309,
          33199.29302175276
         ]
        },
        {
         "line": {
          "color": "blue",
          "dash": "dot",
          "width": 2
         },
         "mode": "lines",
         "name": "Path 19",
         "showlegend": false,
         "type": "scatter",
         "x": [
          4985.339448800187,
          -16983.179724011967
         ],
         "y": [
          4882.077434161358,
          33194.18218929474
         ]
        },
        {
         "line": {
          "color": "blue",
          "dash": "dot",
          "width": 2
         },
         "mode": "lines",
         "name": "Path 20",
         "showlegend": false,
         "type": "scatter",
         "x": [
          4124.65920125493,
          -16979.165760244527
         ],
         "y": [
          4707.1821282058845,
          33188.88789909742
         ]
        },
        {
         "line": {
          "color": "blue",
          "dash": "dot",
          "width": 2
         },
         "mode": "lines",
         "name": "Path 21",
         "showlegend": false,
         "type": "scatter",
         "x": [
          3360.7874368919765,
          -16975.1987968993
         ],
         "y": [
          4462.2123943953775,
          33183.41055434151
         ]
        },
        {
         "line": {
          "color": "blue",
          "dash": "dot",
          "width": 2
         },
         "mode": "lines",
         "name": "Path 22",
         "showlegend": false,
         "type": "scatter",
         "x": [
          2674.0650273711253,
          -16971.28042961876
         ],
         "y": [
          4159.545253927048,
          33177.75057214801
         ]
        },
        {
         "line": {
          "color": "blue",
          "dash": "dot",
          "width": 2
         },
         "mode": "lines",
         "name": "Path 23",
         "showlegend": false,
         "type": "scatter",
         "x": [
          2052.100615644398,
          -16967.412250344594
         ],
         "y": [
          3804.5982648228564,
          33171.90838354649
         ]
        },
        {
         "line": {
          "color": "blue",
          "dash": "dot",
          "width": 2
         },
         "mode": "lines",
         "name": "Path 24",
         "showlegend": false,
         "type": "scatter",
         "x": [
          1487.1431889220257,
          -16963.59584719649
         ],
         "y": [
          3397.8780016277124,
          33165.884433442225
         ]
        },
        {
         "line": {
          "color": "blue",
          "dash": "dot",
          "width": 2
         },
         "mode": "lines",
         "name": "Path 25",
         "showlegend": false,
         "type": "scatter",
         "x": [
          975.1636374493937,
          -16959.83280435118
         ],
         "y": [
          2935.0584121496977,
          33159.67918058233
         ]
        },
        {
         "line": {
          "color": "blue",
          "dash": "dot",
          "width": 2
         },
         "mode": "lines",
         "name": "Path 26",
         "showlegend": false,
         "type": "scatter",
         "x": [
          516.4732856974624,
          -16956.12470192179
         ],
         "y": [
          2404.608359864902,
          33153.293097520844
         ]
        },
        {
         "line": {
          "color": "blue",
          "dash": "dot",
          "width": 2
         },
         "mode": "lines",
         "name": "Path 27",
         "showlegend": false,
         "type": "scatter",
         "x": [
          119.08864249329417,
          -16952.473115837547
         ],
         "y": [
          1779.9392261188332,
          33146.72667058271
         ]
        },
        {
         "line": {
          "color": "blue",
          "dash": "dot",
          "width": 2
         },
         "mode": "lines",
         "name": "Path 28",
         "showlegend": false,
         "type": "scatter",
         "x": [
          -183.01504611657947,
          -16948.879617723705
         ],
         "y": [
          981.1599964008674,
          33139.980399826774
         ]
        },
        {
         "marker": {
          "color": "red",
          "size": 10,
          "symbol": "x"
         },
         "mode": "markers+text",
         "name": "Tangent Points",
         "text": [
          "Tangent 1",
          "Tangent 2",
          "Tangent 3",
          "Tangent 4"
         ],
         "textposition": "top center",
         "type": "scatter",
         "x": {
          "bdata": "QH7/RmONYsDAOxmojY5iwIBux+7+XGTAAJYnY/xcZMA=",
          "dtype": "f8"
         },
         "y": {
          "bdata": "ALZIAP1CW0AAMpLUJEdbQABllzjlAGFAAOU51N8AYUA=",
          "dtype": "f8"
         }
        },
        {
         "marker": {
          "color": "black",
          "size": 10,
          "symbol": "star"
         },
         "mode": "markers+text",
         "name": "Fighter Start",
         "text": [
          "Fighter Init"
         ],
         "textposition": "bottom right",
         "type": "scatter",
         "x": [
          -9568.779278943142
         ],
         "y": [
          28433.05230028587
         ]
        }
       ],
       "layout": {
        "height": 800,
        "showlegend": true,
        "template": {
         "data": {
          "bar": [
           {
            "error_x": {
             "color": "#2a3f5f"
            },
            "error_y": {
             "color": "#2a3f5f"
            },
            "marker": {
             "line": {
              "color": "white",
              "width": 0.5
             },
             "pattern": {
              "fillmode": "overlay",
              "size": 10,
              "solidity": 0.2
             }
            },
            "type": "bar"
           }
          ],
          "barpolar": [
           {
            "marker": {
             "line": {
              "color": "white",
              "width": 0.5
             },
             "pattern": {
              "fillmode": "overlay",
              "size": 10,
              "solidity": 0.2
             }
            },
            "type": "barpolar"
           }
          ],
          "carpet": [
           {
            "aaxis": {
             "endlinecolor": "#2a3f5f",
             "gridcolor": "#C8D4E3",
             "linecolor": "#C8D4E3",
             "minorgridcolor": "#C8D4E3",
             "startlinecolor": "#2a3f5f"
            },
            "baxis": {
             "endlinecolor": "#2a3f5f",
             "gridcolor": "#C8D4E3",
             "linecolor": "#C8D4E3",
             "minorgridcolor": "#C8D4E3",
             "startlinecolor": "#2a3f5f"
            },
            "type": "carpet"
           }
          ],
          "choropleth": [
           {
            "colorbar": {
             "outlinewidth": 0,
             "ticks": ""
            },
            "type": "choropleth"
           }
          ],
          "contour": [
           {
            "colorbar": {
             "outlinewidth": 0,
             "ticks": ""
            },
            "colorscale": [
             [
              0,
              "#0d0887"
             ],
             [
              0.1111111111111111,
              "#46039f"
             ],
             [
              0.2222222222222222,
              "#7201a8"
             ],
             [
              0.3333333333333333,
              "#9c179e"
             ],
             [
              0.4444444444444444,
              "#bd3786"
             ],
             [
              0.5555555555555556,
              "#d8576b"
             ],
             [
              0.6666666666666666,
              "#ed7953"
             ],
             [
              0.7777777777777778,
              "#fb9f3a"
             ],
             [
              0.8888888888888888,
              "#fdca26"
             ],
             [
              1,
              "#f0f921"
             ]
            ],
            "type": "contour"
           }
          ],
          "contourcarpet": [
           {
            "colorbar": {
             "outlinewidth": 0,
             "ticks": ""
            },
            "type": "contourcarpet"
           }
          ],
          "heatmap": [
           {
            "colorbar": {
             "outlinewidth": 0,
             "ticks": ""
            },
            "colorscale": [
             [
              0,
              "#0d0887"
             ],
             [
              0.1111111111111111,
              "#46039f"
             ],
             [
              0.2222222222222222,
              "#7201a8"
             ],
             [
              0.3333333333333333,
              "#9c179e"
             ],
             [
              0.4444444444444444,
              "#bd3786"
             ],
             [
              0.5555555555555556,
              "#d8576b"
             ],
             [
              0.6666666666666666,
              "#ed7953"
             ],
             [
              0.7777777777777778,
              "#fb9f3a"
             ],
             [
              0.8888888888888888,
              "#fdca26"
             ],
             [
              1,
              "#f0f921"
             ]
            ],
            "type": "heatmap"
           }
          ],
          "histogram": [
           {
            "marker": {
             "pattern": {
              "fillmode": "overlay",
              "size": 10,
              "solidity": 0.2
             }
            },
            "type": "histogram"
           }
          ],
          "histogram2d": [
           {
            "colorbar": {
             "outlinewidth": 0,
             "ticks": ""
            },
            "colorscale": [
             [
              0,
              "#0d0887"
             ],
             [
              0.1111111111111111,
              "#46039f"
             ],
             [
              0.2222222222222222,
              "#7201a8"
             ],
             [
              0.3333333333333333,
              "#9c179e"
             ],
             [
              0.4444444444444444,
              "#bd3786"
             ],
             [
              0.5555555555555556,
              "#d8576b"
             ],
             [
              0.6666666666666666,
              "#ed7953"
             ],
             [
              0.7777777777777778,
              "#fb9f3a"
             ],
             [
              0.8888888888888888,
              "#fdca26"
             ],
             [
              1,
              "#f0f921"
             ]
            ],
            "type": "histogram2d"
           }
          ],
          "histogram2dcontour": [
           {
            "colorbar": {
             "outlinewidth": 0,
             "ticks": ""
            },
            "colorscale": [
             [
              0,
              "#0d0887"
             ],
             [
              0.1111111111111111,
              "#46039f"
             ],
             [
              0.2222222222222222,
              "#7201a8"
             ],
             [
              0.3333333333333333,
              "#9c179e"
             ],
             [
              0.4444444444444444,
              "#bd3786"
             ],
             [
              0.5555555555555556,
              "#d8576b"
             ],
             [
              0.6666666666666666,
              "#ed7953"
             ],
             [
              0.7777777777777778,
              "#fb9f3a"
             ],
             [
              0.8888888888888888,
              "#fdca26"
             ],
             [
              1,
              "#f0f921"
             ]
            ],
            "type": "histogram2dcontour"
           }
          ],
          "mesh3d": [
           {
            "colorbar": {
             "outlinewidth": 0,
             "ticks": ""
            },
            "type": "mesh3d"
           }
          ],
          "parcoords": [
           {
            "line": {
             "colorbar": {
              "outlinewidth": 0,
              "ticks": ""
             }
            },
            "type": "parcoords"
           }
          ],
          "pie": [
           {
            "automargin": true,
            "type": "pie"
           }
          ],
          "scatter": [
           {
            "fillpattern": {
             "fillmode": "overlay",
             "size": 10,
             "solidity": 0.2
            },
            "type": "scatter"
           }
          ],
          "scatter3d": [
           {
            "line": {
             "colorbar": {
              "outlinewidth": 0,
              "ticks": ""
             }
            },
            "marker": {
             "colorbar": {
              "outlinewidth": 0,
              "ticks": ""
             }
            },
            "type": "scatter3d"
           }
          ],
          "scattercarpet": [
           {
            "marker": {
             "colorbar": {
              "outlinewidth": 0,
              "ticks": ""
             }
            },
            "type": "scattercarpet"
           }
          ],
          "scattergeo": [
           {
            "marker": {
             "colorbar": {
              "outlinewidth": 0,
              "ticks": ""
             }
            },
            "type": "scattergeo"
           }
          ],
          "scattergl": [
           {
            "marker": {
             "colorbar": {
              "outlinewidth": 0,
              "ticks": ""
             }
            },
            "type": "scattergl"
           }
          ],
          "scattermap": [
           {
            "marker": {
             "colorbar": {
              "outlinewidth": 0,
              "ticks": ""
             }
            },
            "type": "scattermap"
           }
          ],
          "scattermapbox": [
           {
            "marker": {
             "colorbar": {
              "outlinewidth": 0,
              "ticks": ""
             }
            },
            "type": "scattermapbox"
           }
          ],
          "scatterpolar": [
           {
            "marker": {
             "colorbar": {
              "outlinewidth": 0,
              "ticks": ""
             }
            },
            "type": "scatterpolar"
           }
          ],
          "scatterpolargl": [
           {
            "marker": {
             "colorbar": {
              "outlinewidth": 0,
              "ticks": ""
             }
            },
            "type": "scatterpolargl"
           }
          ],
          "scatterternary": [
           {
            "marker": {
             "colorbar": {
              "outlinewidth": 0,
              "ticks": ""
             }
            },
            "type": "scatterternary"
           }
          ],
          "surface": [
           {
            "colorbar": {
             "outlinewidth": 0,
             "ticks": ""
            },
            "colorscale": [
             [
              0,
              "#0d0887"
             ],
             [
              0.1111111111111111,
              "#46039f"
             ],
             [
              0.2222222222222222,
              "#7201a8"
             ],
             [
              0.3333333333333333,
              "#9c179e"
             ],
             [
              0.4444444444444444,
              "#bd3786"
             ],
             [
              0.5555555555555556,
              "#d8576b"
             ],
             [
              0.6666666666666666,
              "#ed7953"
             ],
             [
              0.7777777777777778,
              "#fb9f3a"
             ],
             [
              0.8888888888888888,
              "#fdca26"
             ],
             [
              1,
              "#f0f921"
             ]
            ],
            "type": "surface"
           }
          ],
          "table": [
           {
            "cells": {
             "fill": {
              "color": "#EBF0F8"
             },
             "line": {
              "color": "white"
             }
            },
            "header": {
             "fill": {
              "color": "#C8D4E3"
             },
             "line": {
              "color": "white"
             }
            },
            "type": "table"
           }
          ]
         },
         "layout": {
          "annotationdefaults": {
           "arrowcolor": "#2a3f5f",
           "arrowhead": 0,
           "arrowwidth": 1
          },
          "autotypenumbers": "strict",
          "coloraxis": {
           "colorbar": {
            "outlinewidth": 0,
            "ticks": ""
           }
          },
          "colorscale": {
           "diverging": [
            [
             0,
             "#8e0152"
            ],
            [
             0.1,
             "#c51b7d"
            ],
            [
             0.2,
             "#de77ae"
            ],
            [
             0.3,
             "#f1b6da"
            ],
            [
             0.4,
             "#fde0ef"
            ],
            [
             0.5,
             "#f7f7f7"
            ],
            [
             0.6,
             "#e6f5d0"
            ],
            [
             0.7,
             "#b8e186"
            ],
            [
             0.8,
             "#7fbc41"
            ],
            [
             0.9,
             "#4d9221"
            ],
            [
             1,
             "#276419"
            ]
           ],
           "sequential": [
            [
             0,
             "#0d0887"
            ],
            [
             0.1111111111111111,
             "#46039f"
            ],
            [
             0.2222222222222222,
             "#7201a8"
            ],
            [
             0.3333333333333333,
             "#9c179e"
            ],
            [
             0.4444444444444444,
             "#bd3786"
            ],
            [
             0.5555555555555556,
             "#d8576b"
            ],
            [
             0.6666666666666666,
             "#ed7953"
            ],
            [
             0.7777777777777778,
             "#fb9f3a"
            ],
            [
             0.8888888888888888,
             "#fdca26"
            ],
            [
             1,
             "#f0f921"
            ]
           ],
           "sequentialminus": [
            [
             0,
             "#0d0887"
            ],
            [
             0.1111111111111111,
             "#46039f"
            ],
            [
             0.2222222222222222,
             "#7201a8"
            ],
            [
             0.3333333333333333,
             "#9c179e"
            ],
            [
             0.4444444444444444,
             "#bd3786"
            ],
            [
             0.5555555555555556,
             "#d8576b"
            ],
            [
             0.6666666666666666,
             "#ed7953"
            ],
            [
             0.7777777777777778,
             "#fb9f3a"
            ],
            [
             0.8888888888888888,
             "#fdca26"
            ],
            [
             1,
             "#f0f921"
            ]
           ]
          },
          "colorway": [
           "#636efa",
           "#EF553B",
           "#00cc96",
           "#ab63fa",
           "#FFA15A",
           "#19d3f3",
           "#FF6692",
           "#B6E880",
           "#FF97FF",
           "#FECB52"
          ],
          "font": {
           "color": "#2a3f5f"
          },
          "geo": {
           "bgcolor": "white",
           "lakecolor": "white",
           "landcolor": "white",
           "showlakes": true,
           "showland": true,
           "subunitcolor": "#C8D4E3"
          },
          "hoverlabel": {
           "align": "left"
          },
          "hovermode": "closest",
          "mapbox": {
           "style": "light"
          },
          "paper_bgcolor": "white",
          "plot_bgcolor": "white",
          "polar": {
           "angularaxis": {
            "gridcolor": "#EBF0F8",
            "linecolor": "#EBF0F8",
            "ticks": ""
           },
           "bgcolor": "white",
           "radialaxis": {
            "gridcolor": "#EBF0F8",
            "linecolor": "#EBF0F8",
            "ticks": ""
           }
          },
          "scene": {
           "xaxis": {
            "backgroundcolor": "white",
            "gridcolor": "#DFE8F3",
            "gridwidth": 2,
            "linecolor": "#EBF0F8",
            "showbackground": true,
            "ticks": "",
            "zerolinecolor": "#EBF0F8"
           },
           "yaxis": {
            "backgroundcolor": "white",
            "gridcolor": "#DFE8F3",
            "gridwidth": 2,
            "linecolor": "#EBF0F8",
            "showbackground": true,
            "ticks": "",
            "zerolinecolor": "#EBF0F8"
           },
           "zaxis": {
            "backgroundcolor": "white",
            "gridcolor": "#DFE8F3",
            "gridwidth": 2,
            "linecolor": "#EBF0F8",
            "showbackground": true,
            "ticks": "",
            "zerolinecolor": "#EBF0F8"
           }
          },
          "shapedefaults": {
           "line": {
            "color": "#2a3f5f"
           }
          },
          "ternary": {
           "aaxis": {
            "gridcolor": "#DFE8F3",
            "linecolor": "#A2B1C6",
            "ticks": ""
           },
           "baxis": {
            "gridcolor": "#DFE8F3",
            "linecolor": "#A2B1C6",
            "ticks": ""
           },
           "bgcolor": "white",
           "caxis": {
            "gridcolor": "#DFE8F3",
            "linecolor": "#A2B1C6",
            "ticks": ""
           }
          },
          "title": {
           "x": 0.05
          },
          "xaxis": {
           "automargin": true,
           "gridcolor": "#EBF0F8",
           "linecolor": "#EBF0F8",
           "ticks": "",
           "title": {
            "standoff": 15
           },
           "zerolinecolor": "#EBF0F8",
           "zerolinewidth": 2
          },
          "yaxis": {
           "automargin": true,
           "gridcolor": "#EBF0F8",
           "linecolor": "#EBF0F8",
           "ticks": "",
           "title": {
            "standoff": 15
           },
           "zerolinecolor": "#EBF0F8",
           "zerolinewidth": 2
          }
         }
        },
        "title": {
         "text": "Tangent Intersections on TIP Polygon"
        },
        "width": 1300,
        "xaxis": {
         "title": {
          "text": "X (meters)"
         }
        },
        "yaxis": {
         "autorange": "reversed",
         "scaleanchor": "x",
         "scaleratio": 1,
         "title": {
          "text": "Y (meters)"
         }
        }
       }
      }
     },
     "metadata": {},
     "output_type": "display_data"
    },
    {
     "data": {
      "application/vnd.plotly.v1+json": {
       "config": {
        "plotlyServerURL": "https://plot.ly"
       },
       "data": [
        {
         "lat": [
          34.71647,
          34.716469979310034,
          34.71646991724013,
          34.71646981379029,
          34.71646966896049,
          34.71646948275077,
          34.716469255161115,
          34.716468986191536,
          34.71646867584202,
          34.71646832411258,
          34.71646793100322,
          34.716467496513935,
          34.71646702064476,
          34.71646650339565,
          34.716465944766654,
          34.71646534475775,
          34.71646470336898,
          34.71646402060031,
          34.71646329645178,
          34.71646253092336,
          34.7164617240151,
          34.716460875726995,
          34.71645998605903,
          34.71645905501124,
          34.716458082583635,
          34.716457068776215,
          34.716456013589,
          34.716454917022006,
          34.716453779075216,
          34.71645259974867,
          34.71645137904239,
          34.716450116956345,
          34.71644881349059,
          34.71644746864512,
          34.71644608241996,
          34.71644465481512,
          34.716443185830606,
          34.71644167546646,
          34.71644012372267,
          34.71643853059927,
          34.71643689609626,
          34.7164352202137,
          34.716433502951546,
          34.71643174430986,
          34.71642994428865,
          34.71642810288791,
          34.716426220107714,
          34.716424295948045,
          34.71642233040894,
          34.71642032349041,
          34.716418275192474,
          34.716416185515165,
          34.71641405445849,
          34.71641188202249,
          34.71640966820718,
          34.71640741301257,
          34.716405116438715,
          34.71640277848562,
          34.716400399153315,
          34.716397978441826,
          34.71639551635118,
          34.716393012881404,
          34.71639046803251,
          34.71638788180455,
          34.716385254197526,
          34.7163825852115,
          34.716379874846474,
          34.7163771231025,
          34.71637432997957,
          34.716371495477745,
          34.71636861959706,
          34.71636570233751,
          34.71636274369919,
          34.71635974368206,
          34.7163567022862,
          34.71635361951162,
          34.71635049535838,
          34.716347329826476,
          34.71634412291597,
          34.71634087462689,
          34.71633758495927,
          34.71633425391315,
          34.71633088148855,
          34.71632746768553,
          34.71632401250411,
          34.716320515944346,
          34.71631697800625,
          34.71631339868988,
          34.71630977799525,
          34.71630611592244,
          34.71630241247146,
          34.716298667642356,
          34.71629488143517,
          34.71629105384994,
          34.71628718488672,
          34.71628327454553,
          34.71627932282642,
          34.71627532972946,
          34.716271295254664,
          34.71626721940208,
          34.71626310217175,
          34.71625894356374,
          34.71625474357806,
          34.716250502214784,
          34.71624621947393,
          34.71624189535558,
          34.71623752985976,
          34.71623312298653,
          34.716228674735916,
          34.716224185107976,
          34.71621965410277,
          34.71621508172033,
          34.71621046796074,
          34.716205812823986,
          34.71620111631018,
          34.71619637841935,
          34.716191599151536,
          34.716186778506795,
          34.716181916485205,
          34.7161770130868,
          34.71617206831161,
          34.716167082159735,
          34.71616205463118,
          34.716156985726045,
          34.71615187544435,
          34.71614672378616,
          34.716141530751536,
          34.71613629634056,
          34.716131020553235,
          34.71612570338965,
          34.71612034484986,
          34.71611494493393,
          34.7161095036419,
          34.71610402097384,
          34.71609849692981,
          34.71609293150987,
          34.71608732471408,
          34.71608167654249,
          34.71607598699518,
          34.71607025607218,
          34.7160644837736,
          34.71605867009947,
          34.716052815049856,
          34.716046918624826,
          34.71604098082444,
          34.71603500164878,
          34.71602898109788,
          34.71602291917181,
          34.71601681587068,
          34.7160106711945,
          34.716004485143365,
          34.71599825771735,
          34.7159919889165,
          34.715985678740886,
          34.71597932719059,
          34.715972934265665,
          34.71596649996619,
          34.71596002429225,
          34.71595350724389,
          34.715946948821184,
          34.715940349024216,
          34.715933707853054,
          34.715927025307764,
          34.71592030138842,
          34.71591353609508,
          34.71590672942784,
          34.715899881386775,
          34.715892991971955,
          34.715886061183454,
          34.71587908902132,
          34.71587207548566,
          34.71586502057656,
          34.71585792429408,
          34.71585078663828,
          34.71584360760925,
          34.71583638720709,
          34.71582912543183,
          34.7158218222836,
          34.71581447776246,
          34.71580709186847,
          34.71579966460174,
          34.71579219596233,
          34.71578468595034,
          34.71577713456583,
          34.71576954180889,
          34.7157619076796,
          34.71575423217807,
          34.71574651530434,
          34.71573875705852,
          34.71573095744068,
          34.71572311645092,
          34.715715234089316,
          34.71570731035595,
          34.71569934525092,
          34.715691338774285,
          34.715683290926165,
          34.71567520170664,
          34.71566707111578,
          34.715658899153695,
          34.715650685820464,
          34.71564243111617,
          34.715634135040915,
          34.71562579759478,
          34.71561741877785,
          34.71560899859022,
          34.71560053703199,
          34.715592034103246,
          34.715583489804075,
          34.715574904134584,
          34.715566277094865,
          34.71555760868499,
          34.71554889890505,
          34.715540147755185,
          34.71553135523544,
          34.71552252134594,
          34.71551364608677,
          34.715504729458026,
          34.71549577145981,
          34.71548677209221,
          34.71547773135533,
          34.71546864924927,
          34.715459525774136,
          34.71545036093001,
          34.71544115471699,
          34.7154319071352,
          34.715422618184704,
          34.71541328786562,
          34.715403916178055,
          34.71539450312212,
          34.71538504869789,
          34.7153755529055,
          34.715366015745026,
          34.71535643721658,
          34.71534681732026,
          34.715337156056165,
          34.71532745342443,
          34.715317709425136,
          34.71530792405841,
          34.715298097324315,
          34.715288229222985,
          34.715278319754546,
          34.71526836891906,
          34.7152583767167,
          34.71524834314749,
          34.715238268211614,
          34.71522815190914,
          34.71521799424017,
          34.71520779520486,
          34.71519755480329,
          34.71518727303557,
          34.71517694990182,
          34.71516658540213,
          34.715156179536635,
          34.71514573230546,
          34.71513524370869,
          34.715124713746434,
          34.715114142418834,
          34.715103529726,
          34.715092875668034,
          34.71508218024505,
          34.71507144345718,
          34.71506066530451,
          34.715049845787206,
          34.715038984905334,
          34.71502808265905,
          34.71501713904845,
          34.71500615407367,
          34.71499512773481,
          34.714984060031995,
          34.71497295096535,
          34.714961800535,
          34.71495060874104,
          34.71493937558363,
          34.71492810106285,
          34.714916785178886,
          34.714905427931775,
          34.71489402932172,
          34.7148825893488,
          34.71487110801313,
          34.71485958531485,
          34.7148480212541,
          34.71483641583099,
          34.71482476904565,
          34.7148130808982,
          34.714801351388786,
          34.71478958051751,
          34.714777768284506,
          34.714765914689906,
          34.71475401973384,
          34.714742083416425,
          34.71473010573782,
          34.714718086698134,
          34.71470602629749,
          34.714693924536036,
          34.71468178141389,
          34.71466959693118,
          34.71465737108805,
          34.714645103884635,
          34.71463279532105,
          34.71462044539745,
          34.71460805411396,
          34.71459562147071,
          34.71458314746784,
          34.71457063210548,
          34.71455807538377,
          34.71454547730285,
          34.71453283786284,
          34.714520157063895,
          34.71450743490615,
          34.71449467138973,
          34.71448186651479,
          34.714469020281456,
          34.71445613268987,
          34.71444320374018,
          34.714430233432516,
          34.714417221767015,
          34.71440416874385,
          34.71439107436312,
          34.71437793862498,
          34.71436476152957,
          34.71435154307706,
          34.714338283267566,
          34.714324982101246,
          34.714311639578234,
          34.71429825569868,
          34.7142848304627,
          34.71427136387051,
          34.71425785592218,
          34.71424430661791,
          34.714230715957804,
          34.71421708394204,
          34.714203410570754,
          34.714189695844105,
          34.714175939762214,
          34.71416214232527,
          34.7141483035334,
          34.71413442338674,
          34.71412050188546,
          34.71410653902973,
          34.714092534819656,
          34.714081860555645
         ],
         "line": {
          "color": "orange",
          "width": 1
         },
         "lon": [
          -117.80070000000002,
          -117.79845463708797,
          -117.79620927418284,
          -117.79396391129151,
          -117.79171854842083,
          -117.78947318557776,
          -117.78722782276917,
          -117.78498246000197,
          -117.78273709728305,
          -117.78049173461929,
          -117.7782463720176,
          -117.77600100948489,
          -117.77375564702804,
          -117.77151028465394,
          -117.7692649223695,
          -117.76701956018162,
          -117.76477419809721,
          -117.76252883612312,
          -117.76028347426627,
          -117.75803811253358,
          -117.75579275093192,
          -117.75354738946821,
          -117.75130202814933,
          -117.74905666698216,
          -117.74681130597362,
          -117.74456594513059,
          -117.74232058445999,
          -117.74007522396873,
          -117.73782986366363,
          -117.7355845035517,
          -117.73333914363972,
          -117.73109378393467,
          -117.72884842444343,
          -117.72660306517285,
          -117.7243577061299,
          -117.72211234732141,
          -117.7198669887543,
          -117.71762163043552,
          -117.71537627237188,
          -117.71313091457033,
          -117.71088555703771,
          -117.70864019978102,
          -117.70639484280704,
          -117.70414948612274,
          -117.70190412973503,
          -117.69965877365074,
          -117.69741341787683,
          -117.69516806242015,
          -117.69292270728761,
          -117.6906773524861,
          -117.68843199802258,
          -117.68618664390384,
          -117.68394129013686,
          -117.68169593672849,
          -117.67945058368568,
          -117.67720523101526,
          -117.67495987872415,
          -117.67271452681926,
          -117.6704691753075,
          -117.66822382419574,
          -117.66597847349087,
          -117.66373312319982,
          -117.66148777332944,
          -117.65924242388668,
          -117.65699707487842,
          -117.65475172631152,
          -117.65250637819291,
          -117.65026103052945,
          -117.6480156833281,
          -117.64577033659573,
          -117.64352499033922,
          -117.64127964456547,
          -117.63903429928138,
          -117.63678895449382,
          -117.63454361020976,
          -117.63229826643605,
          -117.63005292317958,
          -117.62780758044723,
          -117.62556223824593,
          -117.62331689658258,
          -117.62107155546406,
          -117.61882621489725,
          -117.61658087488907,
          -117.61433553544643,
          -117.6120901965762,
          -117.60984485828529,
          -117.60759952058058,
          -117.60535418346899,
          -117.60310884695737,
          -117.6008635110527,
          -117.5986181757618,
          -117.59637284109156,
          -117.59412750704897,
          -117.59188217364083,
          -117.58963684087405,
          -117.58739150875557,
          -117.58514617729227,
          -117.58290084649101,
          -117.58065551635876,
          -117.57841018690236,
          -117.5761648581287,
          -117.57391953004469,
          -117.57167420265725,
          -117.56942887597324,
          -117.56718354999958,
          -117.56493822474316,
          -117.56269290021086,
          -117.56044757640959,
          -117.55820225334628,
          -117.55595693102775,
          -117.55371160946095,
          -117.55146628865278,
          -117.5492209686101,
          -117.54697564933984,
          -117.54473033084888,
          -117.5424850131441,
          -117.54023969623245,
          -117.53799438012076,
          -117.53574906481596,
          -117.53350375032497,
          -117.53125843665461,
          -117.52901312381185,
          -117.52676781180357,
          -117.52452250063665,
          -117.52227719031796,
          -117.52003188085446,
          -117.517786572253,
          -117.51554126452046,
          -117.51329595766381,
          -117.51105065168987,
          -117.50880534660558,
          -117.50656004241782,
          -117.50431473913348,
          -117.50206943675947,
          -117.49982413530266,
          -117.49757883477,
          -117.49533353516831,
          -117.49308823650453,
          -117.49084293878556,
          -117.48859764201829,
          -117.48635234620961,
          -117.48410705136642,
          -117.48186175749561,
          -117.47961646460406,
          -117.47737117269868,
          -117.4751258817864,
          -117.47288059187406,
          -117.47063530296859,
          -117.46839001507686,
          -117.46614472820582,
          -117.46389944236228,
          -117.4616541575532,
          -117.45940887378543,
          -117.45716359106594,
          -117.45491830940153,
          -117.4526730287992,
          -117.45042774926574,
          -117.4481824708081,
          -117.44593719343318,
          -117.44369191714785,
          -117.441446641959,
          -117.43920136787357,
          -117.43695609489843,
          -117.43471082304045,
          -117.43246555230658,
          -117.43022028270366,
          -117.42797501423861,
          -117.42572974691834,
          -117.4234844807497,
          -117.42123921573963,
          -117.41899395189502,
          -117.41674868922273,
          -117.41450342772968,
          -117.41225816742279,
          -117.41001290830891,
          -117.40776765039496,
          -117.40552239368782,
          -117.40327713819437,
          -117.40103188392155,
          -117.39878663087623,
          -117.39654137906531,
          -117.39429612849567,
          -117.39205087917423,
          -117.38980563110786,
          -117.38756038430347,
          -117.38531513876795,
          -117.38306989450821,
          -117.38082465153111,
          -117.37857940984355,
          -117.37633416945246,
          -117.37408893036469,
          -117.37184369258719,
          -117.3695984561268,
          -117.36735322099045,
          -117.36510798718501,
          -117.36286275471738,
          -117.36061752359446,
          -117.35837229382315,
          -117.35612706541033,
          -117.3538818383629,
          -117.35163661268777,
          -117.34939138839182,
          -117.34714616548192,
          -117.344900943965,
          -117.34265572384795,
          -117.34041050513765,
          -117.33816528784101,
          -117.3359200719649,
          -117.33367485751624,
          -117.33142964450191,
          -117.32918443292881,
          -117.32693922280384,
          -117.32469401413387,
          -117.32244880692582,
          -117.32020360118656,
          -117.31795839692299,
          -117.31571319414202,
          -117.31346799285055,
          -117.31122279305546,
          -117.3089775947636,
          -117.30673239798195,
          -117.30448720271735,
          -117.30224200897669,
          -117.29999681676686,
          -117.29775162609481,
          -117.29550643696737,
          -117.29326124939143,
          -117.29101606337396,
          -117.28877087892178,
          -117.28652569604183,
          -117.28428051474096,
          -117.28203533502608,
          -117.27979015690411,
          -117.2775449803819,
          -117.27529980546636,
          -117.2730546321644,
          -117.2708094604829,
          -117.26856429042874,
          -117.26631912200885,
          -117.26407395523009,
          -117.26182879009939,
          -117.25958362662358,
          -117.25733846480959,
          -117.25509330466434,
          -117.25284814619468,
          -117.25060298940751,
          -117.24835783430974,
          -117.24611268090827,
          -117.24386752920995,
          -117.24162237922172,
          -117.23937723095045,
          -117.23713208440303,
          -117.23488693958635,
          -117.23264179650732,
          -117.23039665517284,
          -117.22815151558977,
          -117.22590637776501,
          -117.2236612417055,
          -117.22141610741805,
          -117.21917097490964,
          -117.21692584418709,
          -117.21468071525733,
          -117.21243558812725,
          -117.21019046280374,
          -117.20794533929366,
          -117.20570021760396,
          -117.20345509774151,
          -117.20120997971318,
          -117.19896486352587,
          -117.19671974918651,
          -117.19447463670195,
          -117.19222952607909,
          -117.18998441732482,
          -117.18773931044606,
          -117.18549420544967,
          -117.18324910234256,
          -117.18100400113158,
          -117.1787589018237,
          -117.17651380442575,
          -117.17426870894464,
          -117.17202361538727,
          -117.16977852376051,
          -117.16753343407129,
          -117.16528834632649,
          -117.16304326053296,
          -117.16079817669761,
          -117.15855309482737,
          -117.15630801492908,
          -117.15406293700967,
          -117.15181786107603,
          -117.14957278713503,
          -117.14732771519355,
          -117.14508264525853,
          -117.14283757733685,
          -117.14059251143534,
          -117.13834744756096,
          -117.13610238572058,
          -117.13385732592106,
          -117.13161226816933,
          -117.12936721247227,
          -117.12712215883678,
          -117.12487710726977,
          -117.12263205777808,
          -117.1203870103686,
          -117.11814196504827,
          -117.11589692182395,
          -117.11365188070253,
          -117.11140684169092,
          -117.10916180479602,
          -117.10691677002467,
          -117.10467173738378,
          -117.10242670688028,
          -117.10018167852101,
          -117.09793665231291,
          -117.09569162826281,
          -117.09344660637764,
          -117.09120158666428,
          -117.08895656912966,
          -117.08671155378059,
          -117.08446654062404,
          -117.08222152966685,
          -117.07997652091593,
          -117.07773151437816,
          -117.07548651006043,
          -117.07324150796963,
          -117.07099650811269,
          -117.06875151049643,
          -117.0665065151278,
          -117.06426152201365,
          -117.06201653116091,
          -117.0597715425764,
          -117.05752655626709,
          -117.05528157223983,
          -117.05303659050152,
          -117.05079161105905,
          -117.0485466339193,
          -117.04630165908915,
          -117.0440566865755,
          -117.04181171638527,
          -117.03956674852532,
          -117.03786003042651
         ],
         "marker": {
          "color": "orange",
          "size": 5
         },
         "mode": "lines+markers",
         "name": "Target",
         "type": "scattermap"
        },
        {
         "lat": [
          34.46024204857521,
          34.461112952123685,
          34.46221072385489,
          34.46352311422539,
          34.46503547823826,
          34.466730938548594,
          34.468590573468425,
          34.47059362779188,
          34.47271774410696,
          34.47493921203091,
          34.477233232604526,
          34.47957419490944,
          34.481935961832505,
          34.484292161796276,
          34.48661648320339,
          34.48888296830839,
          34.4910663032326,
          34.493142100876355,
          34.49508717355842,
          34.49687979232383,
          34.49849993000734,
          34.49992948531903,
          34.50115248542977,
          34.5021552647736,
          34.50285336495572,
          34.50353229243243,
          34.50421115859827,
          34.504889963448406,
          34.50556870697803,
          34.50624738918233,
          34.50692601005647,
          34.50760456959562,
          34.50828306779497,
          34.508961504649704,
          34.50963988015498,
          34.51031819430601,
          34.510996447097945,
          34.511674638526,
          34.512352768585345,
          34.513030837271145,
          34.51370884457863,
          34.51438679050297,
          34.51506467503932,
          34.51574249818291,
          34.51642025992893,
          34.517097960272544,
          34.51777559920897,
          34.51845317673338,
          34.519130692841,
          34.51980814752697,
          34.520485540786545,
          34.52116287261488,
          34.52184014300721,
          34.5225173519587,
          34.52319449946456,
          34.523871585520006,
          34.52454861012022,
          34.52522557326041,
          34.52590247493579,
          34.52657931514155,
          34.52725609387289,
          34.52793281112506,
          34.528609466893215,
          34.52928606117258,
          34.52996259395836,
          34.53063906524579,
          34.53131547503006,
          34.531991823306385,
          34.53266811006999,
          34.53334433531608,
          34.534020499039855,
          34.534696601236554,
          34.53537264190138,
          34.53604862102955,
          34.536724538616305,
          34.537400394656835,
          34.538076189146366,
          34.538751922080145,
          34.53942759345337,
          34.540103203261275,
          34.540778751499076,
          34.541454238162,
          34.542129663245284,
          34.54280502674415,
          34.54348032865382,
          34.544155568969536,
          34.544830747686504,
          34.54550586479998,
          34.54618092030519,
          34.54685591419736,
          34.54753084647173,
          34.54820571712353,
          34.548880526148004,
          34.54955527354037,
          34.550229959295905,
          34.55090458340981,
          34.55157914587734,
          34.55225364669373,
          34.55292808585423,
          34.55360246335407,
          34.5542767791885,
          34.55495103335278,
          34.555625225842135,
          34.5562993566518,
          34.55697342577706,
          34.55764743321314,
          34.558321378955306,
          34.558995262998764,
          34.55966908533881,
          34.56034284597069,
          34.56101654488965,
          34.561690182090935,
          34.5623637575698,
          34.563037271321534,
          34.563710723341366,
          34.56438411362455,
          34.56505744216634,
          34.56573070896203,
          34.56640391400684,
          34.56707705729606,
          34.56775013882495,
          34.56842315858875,
          34.56909611658276,
          34.56976901280222,
          34.57044184724241,
          34.57111461989859,
          34.57178733076603,
          34.57245997983999,
          34.573132567115756,
          34.57380509258861,
          34.574477556253775,
          34.57514995810658,
          34.57582229814226,
          34.57649457635613,
          34.577166792743434,
          34.57783894729946,
          34.57851104001947,
          34.57918307089875,
          34.57985503993262,
          34.580526947116304,
          34.581198792445115,
          34.58187057591432,
          34.582542297519225,
          34.58321395725508,
          34.58388555511722,
          34.58455709110089,
          34.58522856520138,
          34.58589997741402,
          34.58657132773406,
          34.587242616156786,
          34.587913842677516,
          34.58858500729153,
          34.5892561099941,
          34.58992715078057,
          34.59059812964621,
          34.5912690465863,
          34.59193990159615,
          34.59261069467107,
          34.593281425806346,
          34.59395209499728,
          34.594622702239164,
          34.59529324752733,
          34.59596373085705,
          34.59663415222365,
          34.597304511622426,
          34.59797480904867,
          34.598645044497715,
          34.59931521796486,
          34.5999853294454,
          34.60065537893465,
          34.601325366427936,
          34.60199529192056,
          34.602665155407834,
          34.603334956885064,
          34.604004696347594,
          34.6046743737907,
          34.60534398920972,
          34.606013542599975,
          34.60668303395677,
          34.60735246327543,
          34.60802183055129,
          34.60869113577965,
          34.60936037895585,
          34.610029560075205,
          34.61069867913305,
          34.61136773612467,
          34.61203673104545,
          34.61270566389067,
          34.61337453465569,
          34.6140433433358,
          34.61471208992639,
          34.615380774422746,
          34.61604939682021,
          34.61671795711413,
          34.617386455299815,
          34.61805489137261,
          34.618723265327866,
          34.6193915771609,
          34.620059826867056,
          34.620728014441674,
          34.621396139880105,
          34.622064203177665,
          34.62273220432973,
          34.6234001433316,
          34.624068020178655,
          34.62473583486623,
          34.62540358738966,
          34.6260712777443,
          34.6267389059255,
          34.627406471928595,
          34.62807397574896,
          34.62874141738193,
          34.62940879682285,
          34.6300761140671,
          34.63074336910999,
          34.631410561946915,
          34.632077692573205,
          34.632744760984224,
          34.633411767175325,
          34.634078711141896,
          34.634745592879256,
          34.635412412382784,
          34.63607916964784,
          34.63674586466979,
          34.637412497444,
          34.638079067965805,
          34.6387455762306,
          34.639412022233756,
          34.64007840597063,
          34.640744727436584,
          34.64141098662699,
          34.64207718353722,
          34.64274331816263,
          34.64340939049863,
          34.64407540054056,
          34.6447413482838,
          34.64540723372374,
          34.646073056855734,
          34.64673881767518,
          34.647404516177446,
          34.648070152357896,
          34.64873572621195,
          34.64940123773494,
          34.650066686922294,
          34.65073207376937,
          34.651397398271534,
          34.6520626604242,
          34.652727860222754,
          34.65339299766257,
          34.65405807273905,
          34.65472308544756,
          34.65538803578351,
          34.65605292374227,
          34.65671774931925,
          34.657382512509834,
          34.65804721330942,
          34.658711851713406,
          34.659376427717184,
          34.660040941316154,
          34.660705392505704,
          34.66136978128122,
          34.66203410763815,
          34.662698371571835,
          34.663362573077734,
          34.664026712151205,
          34.66469078878767,
          34.66535480298252,
          34.666018754731176,
          34.66668264402905,
          34.667346470871536,
          34.66801023525403,
          34.668673937171974,
          34.669337576620755,
          34.6700011535958,
          34.67066466809249,
          34.671328120106274,
          34.67199150963255,
          34.67265483666673,
          34.67331810120424,
          34.67398130324049,
          34.674644442770905,
          34.67530751979089,
          34.67597053429589,
          34.6766334862813,
          34.67729637574256,
          34.67795920267508,
          34.67862196707429,
          34.67928466893564,
          34.679947308254505,
          34.680609885026335,
          34.681272399246566,
          34.68193485091062,
          34.68259724001395,
          34.68325956655195,
          34.68392183052008,
          34.684584031913765,
          34.68524617072842,
          34.6859082469595,
          34.686570260602444,
          34.68723221165267,
          34.687894100105645,
          34.68855592595677,
          34.68921768920151,
          34.689879389835305,
          34.69054102785359,
          34.691202603251824,
          34.69186411602543,
          34.692525566169856,
          34.69318695368056,
          34.69384827855297,
          34.69450954078254,
          34.695170740364745,
          34.695831877295,
          34.69649295156878,
          34.69715396318151,
          34.69781491212867,
          34.69847579840569,
          34.69913662200805,
          34.699797382931195,
          34.700458081170574,
          34.70111871672164,
          34.701779289579875,
          34.70243979974073,
          34.70310024719965,
          34.7037606319521,
          34.70442095399356,
          34.70508121331949,
          34.705741409925345,
          34.7064015438066,
          34.7070616149587,
          34.70772162337714,
          34.70838156905737,
          34.70904145199487,
          34.70970127218511,
          34.71036102962356,
          34.71102072430569,
          34.711680356226964,
          34.712339925382885,
          34.71241560138637,
          34.712973661797804,
          34.71328626713362,
          34.71335743815249
         ],
         "line": {
          "color": "blue",
          "width": 1
         },
         "lon": [
          -117.90478949190413,
          -117.90744136974786,
          -117.90996755329658,
          -117.91233984881436,
          -117.91453177623335,
          -117.91651886440557,
          -117.91827892415047,
          -117.91979229605818,
          -117.92104207028045,
          -117.92201427584298,
          -117.92269803734358,
          -117.9230856972556,
          -117.92317290243251,
          -117.92295865380359,
          -117.92244531865687,
          -117.92163860532277,
          -117.92054750049057,
          -117.9191841698111,
          -117.9175638228525,
          -117.91570454388167,
          -117.91362709033321,
          -117.91135466119783,
          -117.90891263790914,
          -117.90632830062455,
          -117.9039319957837,
          -117.90119680031312,
          -117.89846156049985,
          -117.89572627635528,
          -117.89299094789078,
          -117.89025557511778,
          -117.88752015804765,
          -117.88478469669178,
          -117.88204919106157,
          -117.87931364116842,
          -117.87657804702374,
          -117.87384240863891,
          -117.87110672602533,
          -117.8683709991944,
          -117.86563522815753,
          -117.86289941292613,
          -117.86016355351158,
          -117.85742764992531,
          -117.85469170217871,
          -117.85195571028319,
          -117.84921967425018,
          -117.84648359409108,
          -117.84374746981729,
          -117.84101130144023,
          -117.8382750889713,
          -117.83553883242193,
          -117.83280253180357,
          -117.83006618712756,
          -117.82732979840537,
          -117.82459336564844,
          -117.82185688886813,
          -117.8191203680759,
          -117.81638380328317,
          -117.81364719450137,
          -117.8109105417419,
          -117.80817384501623,
          -117.80543710433575,
          -117.80270031971189,
          -117.79996349115609,
          -117.79722661867979,
          -117.79448970229443,
          -117.79175274201141,
          -117.78901573784218,
          -117.78627868979821,
          -117.78354159789087,
          -117.78080446213164,
          -117.77806728253199,
          -117.7753300591033,
          -117.77259279185705,
          -117.76985548080467,
          -117.76711812595761,
          -117.76438072732728,
          -117.7616432849252,
          -117.75890579876274,
          -117.75616826885141,
          -117.75343069520262,
          -117.75069307782783,
          -117.74795541673852,
          -117.74521771194613,
          -117.74247996346209,
          -117.73974217129786,
          -117.73700433546492,
          -117.73426645597473,
          -117.73152853283875,
          -117.72879056606841,
          -117.72605255567518,
          -117.72331450167054,
          -117.72057640406595,
          -117.71783826287287,
          -117.7151000781028,
          -117.71236184976715,
          -117.7096235778774,
          -117.70688526244506,
          -117.70414690348156,
          -117.70140850099838,
          -117.69867005500703,
          -117.69593156551893,
          -117.69319303254561,
          -117.69045445609851,
          -117.6877158361891,
          -117.6849771728289,
          -117.68223846602935,
          -117.67949971580195,
          -117.6767609221582,
          -117.67402208510954,
          -117.67128320466749,
          -117.66854428084352,
          -117.66580531364914,
          -117.66306630309579,
          -117.660327249195,
          -117.6575881519583,
          -117.65484901139708,
          -117.6521098275229,
          -117.64937060034724,
          -117.6466313298816,
          -117.64389201613749,
          -117.64115265912636,
          -117.63841325885974,
          -117.63567381534916,
          -117.63293432860607,
          -117.63019479864198,
          -117.62745522546842,
          -117.62471560909688,
          -117.62197594953888,
          -117.6192362468059,
          -117.61649650090948,
          -117.61375671186107,
          -117.61101687967225,
          -117.6082770043545,
          -117.60553708591935,
          -117.60279712437827,
          -117.60005711974283,
          -117.5973170720245,
          -117.59457698123482,
          -117.59183684738531,
          -117.58909667048749,
          -117.58635645055288,
          -117.583616187593,
          -117.58087588161933,
          -117.57813553264349,
          -117.57539514067693,
          -117.5726547057312,
          -117.56991422781782,
          -117.56717370694831,
          -117.56443314313424,
          -117.5616925363871,
          -117.55895188671843,
          -117.55621119413978,
          -117.55347045866267,
          -117.55072968029866,
          -117.54798885905925,
          -117.545247994956,
          -117.54250708800043,
          -117.53976613820412,
          -117.53702514557855,
          -117.53428411013532,
          -117.53154303188596,
          -117.52880191084199,
          -117.52606074701498,
          -117.52331954041648,
          -117.52057829105802,
          -117.51783699895114,
          -117.51509566410743,
          -117.5123542865384,
          -117.50961286625564,
          -117.50687140327068,
          -117.50412989759508,
          -117.50138834924041,
          -117.49864675821821,
          -117.49590512454002,
          -117.49316344821743,
          -117.49042172926204,
          -117.48767996768531,
          -117.48493816349888,
          -117.4821963167143,
          -117.47945442734311,
          -117.47671249539694,
          -117.47397052088728,
          -117.4712285038257,
          -117.46848644422384,
          -117.46574434209322,
          -117.46300219744543,
          -117.46026001029205,
          -117.45751778064462,
          -117.45477550851477,
          -117.452033193914,
          -117.44929083685398,
          -117.44654843734621,
          -117.44380599540233,
          -117.44106351103385,
          -117.43832098425241,
          -117.4355784150696,
          -117.43283580349697,
          -117.43009314954612,
          -117.42735045322864,
          -117.4246077145561,
          -117.42186493354014,
          -117.41912211019229,
          -117.41637924452418,
          -117.41363633654737,
          -117.41089338627347,
          -117.40815039371411,
          -117.40540735888082,
          -117.40266428178523,
          -117.39992116243896,
          -117.39717800085357,
          -117.39443479704069,
          -117.3916915510119,
          -117.38894826277884,
          -117.38620493235304,
          -117.3834615597462,
          -117.38071814496985,
          -117.37797468803564,
          -117.37523118895515,
          -117.37248764774003,
          -117.36974406440184,
          -117.36700043895222,
          -117.3642567714028,
          -117.36151306176515,
          -117.3587693100509,
          -117.35602551627171,
          -117.35328168043914,
          -117.35053780256484,
          -117.34779388266041,
          -117.3450499207375,
          -117.34230591680769,
          -117.33956187088266,
          -117.33681778297398,
          -117.3340736530933,
          -117.33132948125224,
          -117.32858526746244,
          -117.32584101173553,
          -117.3230967140831,
          -117.32035237451683,
          -117.31760799304834,
          -117.31486356968925,
          -117.31211910445118,
          -117.30937459734582,
          -117.30663004838475,
          -117.30388545757964,
          -117.30114082494214,
          -117.29839615048382,
          -117.29565143421641,
          -117.29290667615149,
          -117.29016187630076,
          -117.2874170346758,
          -117.28467215128828,
          -117.28192722614988,
          -117.2791822592722,
          -117.27643725066693,
          -117.27369220034568,
          -117.27094710832014,
          -117.26820197460195,
          -117.26545679920274,
          -117.26271158213419,
          -117.25996632340794,
          -117.25722102303565,
          -117.254475681029,
          -117.25173029739963,
          -117.2489848721592,
          -117.24623940531936,
          -117.24349389689179,
          -117.24074834688815,
          -117.23800275532011,
          -117.23525712219934,
          -117.23251144753746,
          -117.2297657313462,
          -117.22701997363721,
          -117.22427417442215,
          -117.22152833371267,
          -117.21878245152048,
          -117.21603652785726,
          -117.21329056273464,
          -117.21054455616434,
          -117.20779850815802,
          -117.20505241872733,
          -117.20230628788401,
          -117.19956011563968,
          -117.19681390200607,
          -117.19406764699484,
          -117.19132135061766,
          -117.1885750128862,
          -117.18582863381222,
          -117.18308221340735,
          -117.18033575168327,
          -117.17758924865171,
          -117.17484270432435,
          -117.17209611871283,
          -117.1693494918289,
          -117.16660282368424,
          -117.16385611429052,
          -117.1611093636595,
          -117.1583625718028,
          -117.15561573873218,
          -117.15286886445928,
          -117.15012194899583,
          -117.14737499235356,
          -117.14462799454412,
          -117.14188095557923,
          -117.13913387547062,
          -117.13638675422999,
          -117.13363959186901,
          -117.13089238839942,
          -117.12814514383294,
          -117.12539785818124,
          -117.12265053145607,
          -117.11990316366912,
          -117.11715575483213,
          -117.11440830495677,
          -117.1116608140548,
          -117.10891328213789,
          -117.1061657092178,
          -117.10341809530625,
          -117.10067044041492,
          -117.09792274455558,
          -117.09517500773991,
          -117.09242722997965,
          -117.08967941128653,
          -117.0869315516723,
          -117.08418365114862,
          -117.08143570972726,
          -117.07868772741998,
          -117.07593970423844,
          -117.07319164019442,
          -117.07044353529963,
          -117.06769538956583,
          -117.06494720300472,
          -117.06219897562806,
          -117.05945070744758,
          -117.05670239847504,
          -117.0539540487221,
          -117.0512056582006,
          -117.04845722692222,
          -117.04570875489875,
          -117.04539338822639,
          -117.042613000112,
          -117.03977679581843,
          -117.03761623043152
         ],
         "marker": {
          "color": "blue",
          "size": 5
         },
         "mode": "lines+markers",
         "name": "Fighter",
         "type": "scattermap"
        },
        {
         "lat": [
          34.71647
         ],
         "lon": [
          -117.80070000000002
         ],
         "marker": {
          "color": "orange",
          "size": 8
         },
         "mode": "markers+text",
         "name": "Target Start",
         "text": [
          "Target Start"
         ],
         "type": "scattermap"
        },
        {
         "lat": [
          34.46024204857521
         ],
         "lon": [
          -117.90478949190413
         ],
         "marker": {
          "color": "blue",
          "size": 8
         },
         "mode": "markers+text",
         "name": "Fighter Start",
         "text": [
          "Fighter Start"
         ],
         "type": "scattermap"
        }
       ],
       "layout": {
        "height": 700,
        "map": {
         "center": {
          "lat": 34.588356024287606,
          "lon": -117.85274474595207
         },
         "style": "satellite",
         "zoom": 10
        },
        "margin": {
         "b": 0,
         "l": 0,
         "r": 0,
         "t": 40
        },
        "template": {
         "data": {
          "bar": [
           {
            "error_x": {
             "color": "#2a3f5f"
            },
            "error_y": {
             "color": "#2a3f5f"
            },
            "marker": {
             "line": {
              "color": "#E5ECF6",
              "width": 0.5
             },
             "pattern": {
              "fillmode": "overlay",
              "size": 10,
              "solidity": 0.2
             }
            },
            "type": "bar"
           }
          ],
          "barpolar": [
           {
            "marker": {
             "line": {
              "color": "#E5ECF6",
              "width": 0.5
             },
             "pattern": {
              "fillmode": "overlay",
              "size": 10,
              "solidity": 0.2
             }
            },
            "type": "barpolar"
           }
          ],
          "carpet": [
           {
            "aaxis": {
             "endlinecolor": "#2a3f5f",
             "gridcolor": "white",
             "linecolor": "white",
             "minorgridcolor": "white",
             "startlinecolor": "#2a3f5f"
            },
            "baxis": {
             "endlinecolor": "#2a3f5f",
             "gridcolor": "white",
             "linecolor": "white",
             "minorgridcolor": "white",
             "startlinecolor": "#2a3f5f"
            },
            "type": "carpet"
           }
          ],
          "choropleth": [
           {
            "colorbar": {
             "outlinewidth": 0,
             "ticks": ""
            },
            "type": "choropleth"
           }
          ],
          "contour": [
           {
            "colorbar": {
             "outlinewidth": 0,
             "ticks": ""
            },
            "colorscale": [
             [
              0,
              "#0d0887"
             ],
             [
              0.1111111111111111,
              "#46039f"
             ],
             [
              0.2222222222222222,
              "#7201a8"
             ],
             [
              0.3333333333333333,
              "#9c179e"
             ],
             [
              0.4444444444444444,
              "#bd3786"
             ],
             [
              0.5555555555555556,
              "#d8576b"
             ],
             [
              0.6666666666666666,
              "#ed7953"
             ],
             [
              0.7777777777777778,
              "#fb9f3a"
             ],
             [
              0.8888888888888888,
              "#fdca26"
             ],
             [
              1,
              "#f0f921"
             ]
            ],
            "type": "contour"
           }
          ],
          "contourcarpet": [
           {
            "colorbar": {
             "outlinewidth": 0,
             "ticks": ""
            },
            "type": "contourcarpet"
           }
          ],
          "heatmap": [
           {
            "colorbar": {
             "outlinewidth": 0,
             "ticks": ""
            },
            "colorscale": [
             [
              0,
              "#0d0887"
             ],
             [
              0.1111111111111111,
              "#46039f"
             ],
             [
              0.2222222222222222,
              "#7201a8"
             ],
             [
              0.3333333333333333,
              "#9c179e"
             ],
             [
              0.4444444444444444,
              "#bd3786"
             ],
             [
              0.5555555555555556,
              "#d8576b"
             ],
             [
              0.6666666666666666,
              "#ed7953"
             ],
             [
              0.7777777777777778,
              "#fb9f3a"
             ],
             [
              0.8888888888888888,
              "#fdca26"
             ],
             [
              1,
              "#f0f921"
             ]
            ],
            "type": "heatmap"
           }
          ],
          "histogram": [
           {
            "marker": {
             "pattern": {
              "fillmode": "overlay",
              "size": 10,
              "solidity": 0.2
             }
            },
            "type": "histogram"
           }
          ],
          "histogram2d": [
           {
            "colorbar": {
             "outlinewidth": 0,
             "ticks": ""
            },
            "colorscale": [
             [
              0,
              "#0d0887"
             ],
             [
              0.1111111111111111,
              "#46039f"
             ],
             [
              0.2222222222222222,
              "#7201a8"
             ],
             [
              0.3333333333333333,
              "#9c179e"
             ],
             [
              0.4444444444444444,
              "#bd3786"
             ],
             [
              0.5555555555555556,
              "#d8576b"
             ],
             [
              0.6666666666666666,
              "#ed7953"
             ],
             [
              0.7777777777777778,
              "#fb9f3a"
             ],
             [
              0.8888888888888888,
              "#fdca26"
             ],
             [
              1,
              "#f0f921"
             ]
            ],
            "type": "histogram2d"
           }
          ],
          "histogram2dcontour": [
           {
            "colorbar": {
             "outlinewidth": 0,
             "ticks": ""
            },
            "colorscale": [
             [
              0,
              "#0d0887"
             ],
             [
              0.1111111111111111,
              "#46039f"
             ],
             [
              0.2222222222222222,
              "#7201a8"
             ],
             [
              0.3333333333333333,
              "#9c179e"
             ],
             [
              0.4444444444444444,
              "#bd3786"
             ],
             [
              0.5555555555555556,
              "#d8576b"
             ],
             [
              0.6666666666666666,
              "#ed7953"
             ],
             [
              0.7777777777777778,
              "#fb9f3a"
             ],
             [
              0.8888888888888888,
              "#fdca26"
             ],
             [
              1,
              "#f0f921"
             ]
            ],
            "type": "histogram2dcontour"
           }
          ],
          "mesh3d": [
           {
            "colorbar": {
             "outlinewidth": 0,
             "ticks": ""
            },
            "type": "mesh3d"
           }
          ],
          "parcoords": [
           {
            "line": {
             "colorbar": {
              "outlinewidth": 0,
              "ticks": ""
             }
            },
            "type": "parcoords"
           }
          ],
          "pie": [
           {
            "automargin": true,
            "type": "pie"
           }
          ],
          "scatter": [
           {
            "fillpattern": {
             "fillmode": "overlay",
             "size": 10,
             "solidity": 0.2
            },
            "type": "scatter"
           }
          ],
          "scatter3d": [
           {
            "line": {
             "colorbar": {
              "outlinewidth": 0,
              "ticks": ""
             }
            },
            "marker": {
             "colorbar": {
              "outlinewidth": 0,
              "ticks": ""
             }
            },
            "type": "scatter3d"
           }
          ],
          "scattercarpet": [
           {
            "marker": {
             "colorbar": {
              "outlinewidth": 0,
              "ticks": ""
             }
            },
            "type": "scattercarpet"
           }
          ],
          "scattergeo": [
           {
            "marker": {
             "colorbar": {
              "outlinewidth": 0,
              "ticks": ""
             }
            },
            "type": "scattergeo"
           }
          ],
          "scattergl": [
           {
            "marker": {
             "colorbar": {
              "outlinewidth": 0,
              "ticks": ""
             }
            },
            "type": "scattergl"
           }
          ],
          "scattermap": [
           {
            "marker": {
             "colorbar": {
              "outlinewidth": 0,
              "ticks": ""
             }
            },
            "type": "scattermap"
           }
          ],
          "scattermapbox": [
           {
            "marker": {
             "colorbar": {
              "outlinewidth": 0,
              "ticks": ""
             }
            },
            "type": "scattermapbox"
           }
          ],
          "scatterpolar": [
           {
            "marker": {
             "colorbar": {
              "outlinewidth": 0,
              "ticks": ""
             }
            },
            "type": "scatterpolar"
           }
          ],
          "scatterpolargl": [
           {
            "marker": {
             "colorbar": {
              "outlinewidth": 0,
              "ticks": ""
             }
            },
            "type": "scatterpolargl"
           }
          ],
          "scatterternary": [
           {
            "marker": {
             "colorbar": {
              "outlinewidth": 0,
              "ticks": ""
             }
            },
            "type": "scatterternary"
           }
          ],
          "surface": [
           {
            "colorbar": {
             "outlinewidth": 0,
             "ticks": ""
            },
            "colorscale": [
             [
              0,
              "#0d0887"
             ],
             [
              0.1111111111111111,
              "#46039f"
             ],
             [
              0.2222222222222222,
              "#7201a8"
             ],
             [
              0.3333333333333333,
              "#9c179e"
             ],
             [
              0.4444444444444444,
              "#bd3786"
             ],
             [
              0.5555555555555556,
              "#d8576b"
             ],
             [
              0.6666666666666666,
              "#ed7953"
             ],
             [
              0.7777777777777778,
              "#fb9f3a"
             ],
             [
              0.8888888888888888,
              "#fdca26"
             ],
             [
              1,
              "#f0f921"
             ]
            ],
            "type": "surface"
           }
          ],
          "table": [
           {
            "cells": {
             "fill": {
              "color": "#EBF0F8"
             },
             "line": {
              "color": "white"
             }
            },
            "header": {
             "fill": {
              "color": "#C8D4E3"
             },
             "line": {
              "color": "white"
             }
            },
            "type": "table"
           }
          ]
         },
         "layout": {
          "annotationdefaults": {
           "arrowcolor": "#2a3f5f",
           "arrowhead": 0,
           "arrowwidth": 1
          },
          "autotypenumbers": "strict",
          "coloraxis": {
           "colorbar": {
            "outlinewidth": 0,
            "ticks": ""
           }
          },
          "colorscale": {
           "diverging": [
            [
             0,
             "#8e0152"
            ],
            [
             0.1,
             "#c51b7d"
            ],
            [
             0.2,
             "#de77ae"
            ],
            [
             0.3,
             "#f1b6da"
            ],
            [
             0.4,
             "#fde0ef"
            ],
            [
             0.5,
             "#f7f7f7"
            ],
            [
             0.6,
             "#e6f5d0"
            ],
            [
             0.7,
             "#b8e186"
            ],
            [
             0.8,
             "#7fbc41"
            ],
            [
             0.9,
             "#4d9221"
            ],
            [
             1,
             "#276419"
            ]
           ],
           "sequential": [
            [
             0,
             "#0d0887"
            ],
            [
             0.1111111111111111,
             "#46039f"
            ],
            [
             0.2222222222222222,
             "#7201a8"
            ],
            [
             0.3333333333333333,
             "#9c179e"
            ],
            [
             0.4444444444444444,
             "#bd3786"
            ],
            [
             0.5555555555555556,
             "#d8576b"
            ],
            [
             0.6666666666666666,
             "#ed7953"
            ],
            [
             0.7777777777777778,
             "#fb9f3a"
            ],
            [
             0.8888888888888888,
             "#fdca26"
            ],
            [
             1,
             "#f0f921"
            ]
           ],
           "sequentialminus": [
            [
             0,
             "#0d0887"
            ],
            [
             0.1111111111111111,
             "#46039f"
            ],
            [
             0.2222222222222222,
             "#7201a8"
            ],
            [
             0.3333333333333333,
             "#9c179e"
            ],
            [
             0.4444444444444444,
             "#bd3786"
            ],
            [
             0.5555555555555556,
             "#d8576b"
            ],
            [
             0.6666666666666666,
             "#ed7953"
            ],
            [
             0.7777777777777778,
             "#fb9f3a"
            ],
            [
             0.8888888888888888,
             "#fdca26"
            ],
            [
             1,
             "#f0f921"
            ]
           ]
          },
          "colorway": [
           "#636efa",
           "#EF553B",
           "#00cc96",
           "#ab63fa",
           "#FFA15A",
           "#19d3f3",
           "#FF6692",
           "#B6E880",
           "#FF97FF",
           "#FECB52"
          ],
          "font": {
           "color": "#2a3f5f"
          },
          "geo": {
           "bgcolor": "white",
           "lakecolor": "white",
           "landcolor": "#E5ECF6",
           "showlakes": true,
           "showland": true,
           "subunitcolor": "white"
          },
          "hoverlabel": {
           "align": "left"
          },
          "hovermode": "closest",
          "mapbox": {
           "style": "light"
          },
          "paper_bgcolor": "white",
          "plot_bgcolor": "#E5ECF6",
          "polar": {
           "angularaxis": {
            "gridcolor": "white",
            "linecolor": "white",
            "ticks": ""
           },
           "bgcolor": "#E5ECF6",
           "radialaxis": {
            "gridcolor": "white",
            "linecolor": "white",
            "ticks": ""
           }
          },
          "scene": {
           "xaxis": {
            "backgroundcolor": "#E5ECF6",
            "gridcolor": "white",
            "gridwidth": 2,
            "linecolor": "white",
            "showbackground": true,
            "ticks": "",
            "zerolinecolor": "white"
           },
           "yaxis": {
            "backgroundcolor": "#E5ECF6",
            "gridcolor": "white",
            "gridwidth": 2,
            "linecolor": "white",
            "showbackground": true,
            "ticks": "",
            "zerolinecolor": "white"
           },
           "zaxis": {
            "backgroundcolor": "#E5ECF6",
            "gridcolor": "white",
            "gridwidth": 2,
            "linecolor": "white",
            "showbackground": true,
            "ticks": "",
            "zerolinecolor": "white"
           }
          },
          "shapedefaults": {
           "line": {
            "color": "#2a3f5f"
           }
          },
          "ternary": {
           "aaxis": {
            "gridcolor": "white",
            "linecolor": "white",
            "ticks": ""
           },
           "baxis": {
            "gridcolor": "white",
            "linecolor": "white",
            "ticks": ""
           },
           "bgcolor": "#E5ECF6",
           "caxis": {
            "gridcolor": "white",
            "linecolor": "white",
            "ticks": ""
           }
          },
          "title": {
           "x": 0.05
          },
          "xaxis": {
           "automargin": true,
           "gridcolor": "white",
           "linecolor": "white",
           "ticks": "",
           "title": {
            "standoff": 15
           },
           "zerolinecolor": "white",
           "zerolinewidth": 2
          },
          "yaxis": {
           "automargin": true,
           "gridcolor": "white",
           "linecolor": "white",
           "ticks": "",
           "title": {
            "standoff": 15
           },
           "zerolinecolor": "white",
           "zerolinewidth": 2
          }
         }
        },
        "title": {
         "text": "Fighter and Target Trajectories on Map"
        }
       }
      }
     },
     "metadata": {},
     "output_type": "display_data"
    },
    {
     "name": "stdout",
     "output_type": "stream",
     "text": [
      "Tacview file 'intercept.acmi' created with 2 trajectories.\n",
      "Range: 30000.00 m\tAzimuth: 270.00°\tFighter Heading: 45.00°\tError: 83.41 m\n"
     ]
    }
   ],
   "source": [
    "#Range: 50717.47 m, Azimuth: 254.41°, Fighter Heading: 236.39°, Error: nan m\n",
    "\n",
    "batch=False\n",
    "  # Set to True for batch processing, False for single run\n",
    "# coord_f.yaw= np.random.random()*360  # Set the fighter's heading\n",
    "# coord_tgt.yaw= np.random.random()*360  # Set the target's heading\n",
    "range_f=30000  # Randomize the range for each iteration\n",
    "azimuth=270  # Randomize the azimuth for each iteration\n",
    "hdg_f= 45  # Randomize the fighter's heading for each iteration\n",
    "x_offset= range_f * np.cos(np.radians(azimuth))\n",
    "y_offset= range_f * np.sin(np.radians(azimuth))\n",
    "coord_f=geo.local2geodetic(x_offset, y_offset, 0, coord_tgt.lat,coord_tgt.lon,coord_tgt.alt,0,0,coord_f.yaw)\n",
    "\n",
    "if batch:\n",
    "    start = time.perf_counter()\n",
    "    results = []  # List to store results for each iteration\n",
    "    for _ in range(500):\n",
    "        range_f=np.random.uniform(1852*1, 1852*30)  # Randomize the range for each iteration\n",
    "        azimuth=np.random.uniform(0, 360)  # Randomize the azimuth for each iteration\n",
    "        hdg_f= np.random.random()*360  # Randomize the fighter's heading for each iteration\n",
    "        x_offset= range_f * np.cos(np.radians(azimuth))\n",
    "        y_offset= range_f * np.sin(np.radians(azimuth))\n",
    "        coord_f=geo.local2geodetic(x_offset, y_offset, 0, coord_tgt.lat,coord_tgt.lon,coord_tgt.alt,0,0,coord_f.yaw)  # Update the fighter's coordinates based on the randomized range and azimuth\n",
    "        # Run the intercept function with the provided coordinates and parameters\n",
    "        error=intercept.intercept(coord_f, coord_tgt, TAS_f, TAS_tgt, load_factor_f, plots=False)\n",
    "        results.append([range_f,azimuth,hdg_f,error])\n",
    "        print(f\"Range: {range_f:.2f} m, Azimuth: {azimuth:.2f}°, Fighter Heading: {hdg_f:.2f}°, Error: {error:.2f} m\")\n",
    "    end= time.perf_counter()\n",
    "    # Find the result with the biggest error and print the associated yaws\n",
    "    if results:\n",
    "        max_error = max(results, key=lambda x: x[2])\n",
    "    print(f\"Execution time: {end - start:.2f} seconds\")\n",
    "else:\n",
    "    # Run the intercept function with the provided coordinates and parameters\n",
    "    _,_,error=intercept.intercept(coord_f, coord_tgt, TAS_f, TAS_tgt, load_factor_f, plots=True,debug=True)\n",
    "    print(f\"Range: {range_f:.2f} m\\tAzimuth: {azimuth:.2f}°\\tFighter Heading: {hdg_f:.2f}°\\tError: {error:.2f} m\")\n"
   ]
  }
 ],
 "metadata": {
  "kernelspec": {
   "display_name": "Python 3",
   "language": "python",
   "name": "python3"
  },
  "language_info": {
   "codemirror_mode": {
    "name": "ipython",
    "version": 3
   },
   "file_extension": ".py",
   "mimetype": "text/x-python",
   "name": "python",
   "nbconvert_exporter": "python",
   "pygments_lexer": "ipython3",
   "version": "3.13.0"
  }
 },
 "nbformat": 4,
 "nbformat_minor": 5
}
